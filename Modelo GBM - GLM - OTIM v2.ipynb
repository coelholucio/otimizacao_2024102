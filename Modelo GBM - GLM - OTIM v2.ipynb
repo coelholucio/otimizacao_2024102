{
 "cells": [
  {
   "cell_type": "code",
   "execution_count": 1,
   "id": "4317d284",
   "metadata": {},
   "outputs": [],
   "source": [
    "import pandas as pd\n",
    "import seaborn as sns\n",
    "import matplotlib.pyplot as plt\n",
    "import numpy as np\n",
    "\n",
    "from scipy.optimize import minimize\n",
    "\n",
    "from sklearn.preprocessing import LabelEncoder\n",
    "from sklearn.model_selection import train_test_split\n",
    "from sklearn import metrics\n",
    "from sklearn.preprocessing import StandardScaler\n",
    "\n",
    "from sklearn.tree import DecisionTreeRegressor\n",
    "from sklearn.ensemble import RandomForestRegressor\n",
    "import xgboost as xgb\n",
    "from sklearn.metrics import mean_squared_error, mean_absolute_error, r2_score\n",
    "from sklearn.linear_model import LinearRegression\n",
    "\n",
    "\n",
    "import warnings\n",
    "warnings.filterwarnings('ignore')\n"
   ]
  },
  {
   "cell_type": "code",
   "execution_count": 2,
   "id": "4079b7c1",
   "metadata": {},
   "outputs": [],
   "source": [
    "mercado_df = pd.read_csv(\"C://Flavio/Projeto Otimizacao/Modelo Mercado/data_consolidado_final_jun24.csv\",\n",
    "                     encoding='latin-1',\n",
    "                     delimiter=';')"
   ]
  },
  {
   "cell_type": "code",
   "execution_count": 3,
   "id": "a6ee281c",
   "metadata": {},
   "outputs": [],
   "source": [
    "df_mod=mercado_df[[\"premio_total_liq_cap\",\"ano_mod_conv\",\"classe_bonus\",\n",
    "                   \"idade\",\"is_casco\",\"is_dmoral\",\"is_rcdc\",\"is_rcdm\",\n",
    "                   \"RNS_Casco_calc\",\n",
    "                   \"Grupo_veiculo_new\", \"fabrica\",\"idade_ult_RNS\",\"md_categoria\",\n",
    "                   \"MD_comb\",\"md_config\",\"MD_franquia\",\"md_menor26\",\"md_sexo\",\n",
    "                   \"MD_Subzona\",\"md_tipo_renov\",\"MD_uso_veic\",\"uf\"]]\n",
    "\n",
    "df_mod.rename(columns={'premio_total_liq_cap':'premio_ofertado', 'ano_mod_conv': 'ano_mod'},inplace=True)"
   ]
  },
  {
   "cell_type": "code",
   "execution_count": 4,
   "id": "044b7592",
   "metadata": {},
   "outputs": [],
   "source": [
    "x_df_num = df_mod[['ano_mod', 'classe_bonus', 'idade', 'is_casco', 'is_dmoral', 'is_rcdc', 'is_rcdm', 'RNS_Casco_calc']]\n",
    "x_df_cat = df_mod[['Grupo_veiculo_new', 'fabrica', 'idade_ult_RNS', 'md_categoria', 'MD_comb', 'md_config', 'MD_franquia', 'md_menor26', 'md_sexo', 'MD_Subzona','md_tipo_renov', 'MD_uso_veic','uf']]\n",
    "y   = df_mod[['premio_ofertado']]\n",
    "x_df_dummy=pd.get_dummies(x_df_cat)\n",
    "x_df=pd.concat([x_df_num, x_df_dummy],axis=1)\n",
    "x_train, x_test, y_train, y_test = train_test_split(x_df, y, test_size=0.15) "
   ]
  },
  {
   "cell_type": "code",
   "execution_count": 9,
   "id": "54199fc5",
   "metadata": {},
   "outputs": [
    {
     "name": "stdout",
     "output_type": "stream",
     "text": [
      "Premio Estimado Médio: 2632.46\n",
      "MSE: 631777.76\n",
      "RMSE: 794.84\n"
     ]
    }
   ],
   "source": [
    "import lightgbm as lgb\n",
    "params = {\n",
    "    'task': 'train', \n",
    "    'boosting': 'gbdt',\n",
    "    'objective': 'regression',\n",
    "    'num_leaves': 10,\n",
    "    'learnnig_rage': 0.05,\n",
    "    'metric': {'l2','l1'},\n",
    "    'verbose': -1\n",
    "}\n",
    "\n",
    "lgb_train = lgb.Dataset(x_train, y_train)\n",
    "lgb_eval  = lgb.Dataset(x_test, y_test, reference=lgb_train)\n",
    "\n",
    "model_gbm = lgb.train(params,\n",
    "                 train_set=lgb_train,\n",
    "                 valid_sets=lgb_eval)\n",
    "\n",
    "y_pred = model_gbm.predict(x_test, predict_disable_shape_check=True)\n",
    "print(\"Premio Estimado Médio: %.2f\" % np.mean(y_pred) )\n",
    "# accuracy check\n",
    "mse = mean_squared_error(y_test, y_pred)\n",
    "rmse = mse**(0.5)\n",
    "print(\"MSE: %.2f\" % mse)\n",
    "print(\"RMSE: %.2f\" % rmse) "
   ]
  },
  {
   "cell_type": "markdown",
   "id": "a5e0e9c4",
   "metadata": {},
   "source": [
    "## modelagem GLM"
   ]
  },
  {
   "cell_type": "code",
   "execution_count": 10,
   "id": "628b03c6",
   "metadata": {},
   "outputs": [],
   "source": [
    "df_mod_mp_feb23may24_v3 = pd.read_csv(\"C://Flavio/Projeto Otimizacao/Modelo Renovacao/df_mod_mp_feb23may24_v3.csv\",\n",
    "                     encoding='latin-1',\n",
    "                     delimiter='|')"
   ]
  },
  {
   "cell_type": "markdown",
   "id": "7f91d40c",
   "metadata": {},
   "source": [
    "parte para incluir o preço do mercado na base de modelagem glm"
   ]
  },
  {
   "cell_type": "code",
   "execution_count": 11,
   "id": "c578c6e8",
   "metadata": {},
   "outputs": [],
   "source": [
    "colunas=['premio_ofertado','ano_mod','classe_bonus','MD_idade','is_casco_ofer','is_dmoral','is_rcdc','is_rcdm','RNS_Casco_calc',\n",
    " 'Grupo_veiculo_new','FABRICA','idade_ult_RNS', 'md_categoria','MD_comb','MD_config','MD_franquia','MD_menor26','MD_sexo','MD_Subzona',  \n",
    " 'MD_tipo_renov','MD_uso_veic','UF']"
   ]
  },
  {
   "cell_type": "code",
   "execution_count": 12,
   "id": "63db9212",
   "metadata": {},
   "outputs": [],
   "source": [
    "df_escorar_gbm=df_mod_mp_feb23may24_v3[colunas]"
   ]
  },
  {
   "cell_type": "code",
   "execution_count": 13,
   "id": "ce3bdcff",
   "metadata": {},
   "outputs": [],
   "source": [
    "df_escorar_gbm.rename(columns={'MD_idade':'idade', \n",
    "                                   'is_casco_ofer': 'is_casco',\n",
    "                                   'FABRICA': 'fabrica',\n",
    "                                   'MD_config':  'md_config',\n",
    "                                   'MD_menor26': 'md_menor26',\n",
    "                                   'MD_sexo': 'md_sexo',\n",
    "                                   'UF': 'uf',\n",
    "                                   'MD_tipo_renov':  'md_tipo_renov'},inplace=True)\n",
    "df_escorar_gbm['idade'] = pd.to_numeric(df_escorar_gbm['idade'], errors='coerce')"
   ]
  },
  {
   "cell_type": "code",
   "execution_count": 14,
   "id": "499c39a0",
   "metadata": {},
   "outputs": [],
   "source": [
    "df_num = df_escorar_gbm[['ano_mod', 'classe_bonus', 'idade', 'is_casco', 'is_dmoral', 'is_rcdc', 'is_rcdm', 'RNS_Casco_calc']]\n",
    "df_cat = df_escorar_gbm[['Grupo_veiculo_new', 'fabrica', 'idade_ult_RNS', 'md_categoria', 'MD_comb', 'md_config', 'MD_franquia', 'md_menor26', 'md_sexo', 'MD_Subzona','md_tipo_renov', 'MD_uso_veic','uf']]\n",
    "df_cat_glm=pd.get_dummies(df_cat)\n",
    "df_cat_glm=pd.concat([df_num, df_cat_glm],axis=1)\n",
    "GBM_mercado = model_gbm.predict(df_cat_glm, predict_disable_shape_check=True)"
   ]
  },
  {
   "cell_type": "code",
   "execution_count": 16,
   "id": "f3e35ba6",
   "metadata": {},
   "outputs": [
    {
     "data": {
      "text/plain": [
       "4194.9834619682615"
      ]
     },
     "execution_count": 16,
     "metadata": {},
     "output_type": "execute_result"
    }
   ],
   "source": [
    "import numpy as np\n",
    "np.average(GBM_mercado)"
   ]
  },
  {
   "cell_type": "code",
   "execution_count": 17,
   "id": "24555f44",
   "metadata": {},
   "outputs": [],
   "source": [
    "df_mod_mp_feb23may24_v3['GBM_mercado']=GBM_mercado"
   ]
  },
  {
   "cell_type": "markdown",
   "id": "c798bf0a",
   "metadata": {},
   "source": [
    "#### prepara base de modelagem glm"
   ]
  },
  {
   "cell_type": "code",
   "execution_count": 18,
   "id": "b717c29c",
   "metadata": {},
   "outputs": [],
   "source": [
    "df_mod_filtered=df_mod_mp_feb23may24_v3[[\"premio_ofertado\",\"premio_total\",'GBM_mercado', 'premio_creserva','premio_demais_cob',\"teste_validacao\",\"ind_renovacao\",\"classe_bonus\",\"MD_sexo\",\"cod_corr\",\n",
    "                                \"Cod_End\",\"MD_sin_5a_cas\",\"MD_tempo_casa_2\",\"MD_idade_veic\",\"MD_faixa_IScas\",\n",
    "                                \"anomes_dt_ter\" ,\"MD_idade\" ,\"per_com\", \"RNS_Casco_calc\",\"MD_menor26\",\"UF\",\"Renovacao_ant\",\n",
    "                                \"fx_ir_12m\",\"is_casco_ofer\",\"classe_bonus\",\"MD_fator_ajuste\",\"MD_capac\",\"md_categoria\",\n",
    "                                \"MD_comb\",\"MD_qtd_assis_cpf\", \"idade_ult_RNS\",\"canal\",\"MD_tipo_renov\",'FABRICA','MD_est_civil',\n",
    "                                'peso','Grupo_veiculo_new','vigencia',\n",
    "                                'Risco_PP_mod', 'Risco_PT_mod','Risco_RF_mod','Risco_DM_mod','Risco_AS_mod',\n",
    "                                'Risco_DC_mod' ,'Risco_DMO_mod']]"
   ]
  },
  {
   "cell_type": "code",
   "execution_count": 19,
   "id": "6e9e026a",
   "metadata": {},
   "outputs": [
    {
     "data": {
      "text/plain": [
       "(388318, 45)"
      ]
     },
     "execution_count": 19,
     "metadata": {},
     "output_type": "execute_result"
    }
   ],
   "source": [
    "df_mod_filtered = df_mod_filtered[df_mod_filtered['per_com'].notna()]\n",
    "df_mod_filtered = df_mod_filtered[df_mod_filtered['Renovacao_ant'].notna()]\n",
    "df_mod_filtered = df_mod_filtered[df_mod_filtered['MD_est_civil'].notna()]\n",
    "df_mod_filtered = df_mod_filtered[df_mod_filtered['peso'].notna()]\n",
    "df_mod_filtered = df_mod_filtered[~df_mod_filtered['anomes_dt_ter'].isin([202310,202309,202308,202302,202402])]\n",
    "df_mod_filtered = df_mod_filtered.query('vigencia == \"Anual\"')\n",
    "df_mod_filtered = df_mod_filtered[(df_mod_filtered['per_com']>0) & (df_mod_filtered['per_com']<50)]\n",
    "df_mod_filtered = df_mod_filtered.query('premio_total >100')\n",
    "df_mod_filtered = df_mod_filtered.query('premio_creserva >= 0')\n",
    "df_mod_filtered = df_mod_filtered.query('is_casco_ofer > 0')\n",
    "df_mod_filtered.shape"
   ]
  },
  {
   "cell_type": "code",
   "execution_count": 20,
   "id": "dba3717a",
   "metadata": {},
   "outputs": [],
   "source": [
    "df_mod_filtered['DA_emissao'] =0.2349\n",
    "df_mod_filtered['DA_producao'] =0.2749\n",
    "df_mod_filtered['risco_dmais_cob'] =df_mod_filtered['premio_demais_cob']*0.2627*1.4\n",
    "df_mod_filtered['premio_anterior'] =df_mod_filtered['premio_total']\n",
    "df_mod_filtered['Act_cost']  = df_mod_filtered['Risco_PP_mod'] + df_mod_filtered['Risco_PT_mod'] + df_mod_filtered['Risco_RF_mod']+ df_mod_filtered['Risco_DM_mod']+ df_mod_filtered['Risco_AS_mod'] + df_mod_filtered['Risco_DC_mod'] +df_mod_filtered['Risco_DMO_mod'] + df_mod_filtered['risco_dmais_cob']\n",
    "df_mod_filtered['Premio_IC100']  = df_mod_filtered['Act_cost']/(1-df_mod_filtered['per_com']/100-df_mod_filtered['DA_producao'] )\n",
    "df_mod_filtered[\"premio\"] = df_mod_filtered[\"premio_ofertado\"]"
   ]
  },
  {
   "cell_type": "code",
   "execution_count": 23,
   "id": "7abcd0c0",
   "metadata": {},
   "outputs": [],
   "source": [
    "df_mod=df_mod_filtered.copy()"
   ]
  },
  {
   "cell_type": "code",
   "execution_count": 24,
   "id": "687abc4a",
   "metadata": {
    "scrolled": true
   },
   "outputs": [],
   "source": [
    "def categorizar(df):\n",
    "    \n",
    "    df['MD_sexo_bin'] = df['MD_sexo'].map({'Masculino': 'Masculino', \n",
    "                                 'Feminino': 'Feminino', \n",
    "                                  'ERRO': 'Masculino'}).astype(object)\n",
    "\n",
    "\n",
    "    df['fx_ir_12m_bin'] = df['fx_ir_12m'].apply(lambda x: '01 - 00-<=020' if x == '01 - 00-<=020' else\n",
    "                                                              '02 - 20-<=040' if x == '02 - 20-<=040' else\n",
    "                                                              '03 - 40-<=060' if x == '03 - 40-<=060' else\n",
    "                                                              '04 - 60-<=080' if x == '04 - 60-<=080' else\n",
    "                                                              '05 - 80-<=100' if x == '05 - 80-<=100' else\n",
    "                                                              '02 - 20-<=040' if x == 'NI'           else 'ERROR')\n",
    "\n",
    "  \n",
    "    df['MD_comb_bin'] = df['MD_comb'].apply(lambda x: 'Gasolina' if x == 'Gasolina'  else 'Demais')\n",
    "\n",
    "    df['canal_bin'] =  df['canal'].apply(lambda x: 'Corretor Mais' if x == 'Corretor Mais'  else 'Demais')\n",
    "   \n",
    "    df['per_com_bin'] = df['per_com'].apply(lambda x: '<10' if x < 10 else\n",
    "                                                          '>=10' if x >= 10 else 'ERROR')    \n",
    "\n",
    "\n",
    "\n",
    "    df['idade_ult_RNS_bin'] = df['idade_ult_RNS'].apply(lambda x: 'Sem Sinistro' if x == 'Sem Sinistro' else\n",
    "                                                                      '01 ano' if x == '01 ano' else\n",
    "                                                                      '02 ano' if x == '02 ano' else '02 ano +')\n",
    "\n",
    "\n",
    "\n",
    "\n",
    "    df['UF_bin'] = df['UF'].apply(lambda x: 'AL,CE,RS'  if x == 'AL' else\n",
    "                                                'AL,CE,RS'  if x == 'CE' else\n",
    "                                                'AL,CE,RS'  if x == 'RS' else \n",
    "                                                'AP,DF,ES,PA,PB,RN,SC' if x == 'AP' else \n",
    "                                                'AP,DF,ES,PA,PB,RN,SC' if x == 'DF' else \n",
    "                                                'AP,DF,ES,PA,PB,RN,SC' if x == 'ES' else \n",
    "                                                'AP,DF,ES,PA,PB,RN,SC' if x == 'PA' else \n",
    "                                                'AP,DF,ES,PA,PB,RN,SC' if x == 'PB' else \n",
    "                                                'AP,DF,ES,PA,PB,RN,SC' if x == 'RN' else \n",
    "                                                'AP,DF,ES,PA,PB,RN,SC' if x == 'SC' else \n",
    "                                                'GO,MA,MG'             if x == 'GO' else \n",
    "                                                'GO,MA,MG'             if x == 'MA' else \n",
    "                                                'GO,MA,MG'             if x == 'MG' else \n",
    "                                                'MT,PR'                if x == 'MT' else\n",
    "                                                'MT,PR'                if x == 'PR' else \n",
    "                                                'RJ'                   if x == 'RJ' else  'Demais')\n",
    "\n",
    "    df['md_tipo_renov_ant_bin'] = df['Renovacao_ant'].apply(lambda x: '1-SeguroNovo'                      if x == '1-Seguro Novo'    else\n",
    "                                                                          '2 - Renov MAPFRE sem sinistro'     if x == '2-RenovPropria'   else\n",
    "                                                                          '3 - Renov MAPFRE com sinistro'     if x == '2-RenovPropria'   else\n",
    "                                                                          '4 - Renov Congenere sem sinistro'  if x == '3-RenovCongenere' else\n",
    "                                                                          '5 - Renov Congenere com sinistro'  if x == '3-RenovCongenere' else\n",
    "                                                                          '6 - Renov BB sem sinistro'         if x == '3-RenovCongenere' else\n",
    "                                                                          '7 - Renov BB com sinistro'         if x == '3-RenovCongenere' else  '2-RenovPropria')\n",
    "      \n",
    "     \n",
    "    df['Cod_End_bin'] = df['Cod_End'].apply(lambda x: '13509'  if x == 13509 else\n",
    "                                                          '13509'  if x == 50007 else\n",
    "                                                          '13509'  if x == 50100 else 'Demais')   \n",
    "\n",
    "    df['MD_capac_bin'] = df['MD_capac'].apply(lambda x: '5'  if x == 5  else 'Demais')  \n",
    "\n",
    "\n",
    "\n",
    "    df['fator_ajuste_bin'] = df['MD_fator_ajuste'].apply(lambda x: '<101'    if x < 101 else\n",
    "                                                                       '>=101'   if x >= 101  else '<101')   \n",
    "\n",
    "    df['MD_qtd_assis_cpf_bin'] = df['MD_qtd_assis_cpf'].apply(lambda x: '00'  if x == 0 else\n",
    "                                                                            '01'  if x == 1 else\n",
    "                                                                            '>=2' if x >= 2 else 'ERROR')\n",
    "    return df"
   ]
  },
  {
   "cell_type": "code",
   "execution_count": 25,
   "id": "b0a08f83",
   "metadata": {},
   "outputs": [],
   "source": [
    "df_mod = categorizar(df_mod)"
   ]
  },
  {
   "cell_type": "code",
   "execution_count": 26,
   "id": "b686fa6f",
   "metadata": {},
   "outputs": [
    {
     "data": {
      "text/plain": [
       "(310913, 64)"
      ]
     },
     "execution_count": 26,
     "metadata": {},
     "output_type": "execute_result"
    }
   ],
   "source": [
    "df_train = df_mod.query('teste_validacao == \"Trein\"')\n",
    "df_train.shape"
   ]
  },
  {
   "cell_type": "code",
   "execution_count": null,
   "id": "3e1870b2",
   "metadata": {},
   "outputs": [],
   "source": [
    "#df_train2 = df_train[df_train[(df_train['UF'] == 'SP')] & (~df_train['Grupo_veiculo_new'].isin([\"Toyota Hilux CD\",\"Toyota Hilux CS\",\"Toyota Hilux SW4\"]))]\n",
    "#df_train2.shape"
   ]
  },
  {
   "cell_type": "code",
   "execution_count": null,
   "id": "cd28c96b",
   "metadata": {},
   "outputs": [],
   "source": [
    "#df_train = df_train[(df_train['UF'] == 'SP') & (~df_train['Grupo_veiculo_new'].isin([\"Toyota Hilux CD\",\"Toyota Hilux CS\",\"Toyota Hilux SW4\"]))]\n",
    "#df_train.shape"
   ]
  },
  {
   "cell_type": "code",
   "execution_count": 27,
   "id": "30c35999",
   "metadata": {},
   "outputs": [
    {
     "data": {
      "text/html": [
       "<div>\n",
       "<style scoped>\n",
       "    .dataframe tbody tr th:only-of-type {\n",
       "        vertical-align: middle;\n",
       "    }\n",
       "\n",
       "    .dataframe tbody tr th {\n",
       "        vertical-align: top;\n",
       "    }\n",
       "\n",
       "    .dataframe thead th {\n",
       "        text-align: right;\n",
       "    }\n",
       "</style>\n",
       "<table border=\"1\" class=\"dataframe\">\n",
       "  <thead>\n",
       "    <tr style=\"text-align: right;\">\n",
       "      <th></th>\n",
       "      <th>count</th>\n",
       "      <th>mean</th>\n",
       "      <th>std</th>\n",
       "      <th>min</th>\n",
       "      <th>25%</th>\n",
       "      <th>50%</th>\n",
       "      <th>75%</th>\n",
       "      <th>max</th>\n",
       "    </tr>\n",
       "  </thead>\n",
       "  <tbody>\n",
       "    <tr>\n",
       "      <th>Act_cost</th>\n",
       "      <td>310913.0</td>\n",
       "      <td>1723.935999</td>\n",
       "      <td>1533.558565</td>\n",
       "      <td>155.790548</td>\n",
       "      <td>880.102121</td>\n",
       "      <td>1287.055629</td>\n",
       "      <td>2035.829042</td>\n",
       "      <td>74027.191185</td>\n",
       "    </tr>\n",
       "    <tr>\n",
       "      <th>Premio_IC100</th>\n",
       "      <td>310913.0</td>\n",
       "      <td>3024.359106</td>\n",
       "      <td>2669.004613</td>\n",
       "      <td>312.305413</td>\n",
       "      <td>1555.405520</td>\n",
       "      <td>2256.816147</td>\n",
       "      <td>3576.591487</td>\n",
       "      <td>124394.540725</td>\n",
       "    </tr>\n",
       "    <tr>\n",
       "      <th>per_com</th>\n",
       "      <td>310913.0</td>\n",
       "      <td>15.434452</td>\n",
       "      <td>5.672286</td>\n",
       "      <td>1.000000</td>\n",
       "      <td>10.000000</td>\n",
       "      <td>15.000000</td>\n",
       "      <td>20.000000</td>\n",
       "      <td>49.000000</td>\n",
       "    </tr>\n",
       "    <tr>\n",
       "      <th>ind_renovacao</th>\n",
       "      <td>310913.0</td>\n",
       "      <td>0.464191</td>\n",
       "      <td>0.498717</td>\n",
       "      <td>0.000000</td>\n",
       "      <td>0.000000</td>\n",
       "      <td>0.000000</td>\n",
       "      <td>1.000000</td>\n",
       "      <td>1.000000</td>\n",
       "    </tr>\n",
       "    <tr>\n",
       "      <th>GBM_mercado</th>\n",
       "      <td>310913.0</td>\n",
       "      <td>4200.978157</td>\n",
       "      <td>1027.088290</td>\n",
       "      <td>2348.154937</td>\n",
       "      <td>3447.642184</td>\n",
       "      <td>4024.520592</td>\n",
       "      <td>4715.245579</td>\n",
       "      <td>11122.115252</td>\n",
       "    </tr>\n",
       "  </tbody>\n",
       "</table>\n",
       "</div>"
      ],
      "text/plain": [
       "                  count         mean          std          min          25%  \\\n",
       "Act_cost       310913.0  1723.935999  1533.558565   155.790548   880.102121   \n",
       "Premio_IC100   310913.0  3024.359106  2669.004613   312.305413  1555.405520   \n",
       "per_com        310913.0    15.434452     5.672286     1.000000    10.000000   \n",
       "ind_renovacao  310913.0     0.464191     0.498717     0.000000     0.000000   \n",
       "GBM_mercado    310913.0  4200.978157  1027.088290  2348.154937  3447.642184   \n",
       "\n",
       "                       50%          75%            max  \n",
       "Act_cost       1287.055629  2035.829042   74027.191185  \n",
       "Premio_IC100   2256.816147  3576.591487  124394.540725  \n",
       "per_com          15.000000    20.000000      49.000000  \n",
       "ind_renovacao     0.000000     1.000000       1.000000  \n",
       "GBM_mercado    4024.520592  4715.245579   11122.115252  "
      ]
     },
     "metadata": {},
     "output_type": "display_data"
    }
   ],
   "source": [
    "display(df_train[[\"Act_cost\", \"Premio_IC100\", \"per_com\",\"ind_renovacao\",'GBM_mercado']].describe().T)"
   ]
  },
  {
   "cell_type": "code",
   "execution_count": null,
   "id": "91d0c931",
   "metadata": {},
   "outputs": [],
   "source": [
    "#df_train.columns.to_list()"
   ]
  },
  {
   "cell_type": "code",
   "execution_count": 28,
   "id": "a97368be",
   "metadata": {},
   "outputs": [
    {
     "name": "stdout",
     "output_type": "stream",
     "text": [
      "Optimization terminated successfully.\n",
      "         Current function value: 0.564716\n",
      "         Iterations 6\n"
     ]
    },
    {
     "data": {
      "text/html": [
       "<table class=\"simpletable\">\n",
       "<caption>Logit Regression Results</caption>\n",
       "<tr>\n",
       "  <th>Dep. Variable:</th>     <td>ind_renovacao</td>  <th>  No. Observations:  </th>   <td>310913</td>   \n",
       "</tr>\n",
       "<tr>\n",
       "  <th>Model:</th>                 <td>Logit</td>      <th>  Df Residuals:      </th>   <td>310888</td>   \n",
       "</tr>\n",
       "<tr>\n",
       "  <th>Method:</th>                 <td>MLE</td>       <th>  Df Model:          </th>   <td>    24</td>   \n",
       "</tr>\n",
       "<tr>\n",
       "  <th>Date:</th>            <td>Sun, 28 Jul 2024</td> <th>  Pseudo R-squ.:     </th>   <td>0.1823</td>   \n",
       "</tr>\n",
       "<tr>\n",
       "  <th>Time:</th>                <td>18:09:13</td>     <th>  Log-Likelihood:    </th> <td>-1.7558e+05</td>\n",
       "</tr>\n",
       "<tr>\n",
       "  <th>converged:</th>             <td>True</td>       <th>  LL-Null:           </th> <td>-2.1471e+05</td>\n",
       "</tr>\n",
       "<tr>\n",
       "  <th>Covariance Type:</th>     <td>nonrobust</td>    <th>  LLR p-value:       </th>   <td> 0.000</td>   \n",
       "</tr>\n",
       "</table>\n",
       "<table class=\"simpletable\">\n",
       "<tr>\n",
       "                                                     <td></td>                                                        <th>coef</th>     <th>std err</th>      <th>z</th>      <th>P>|z|</th>  <th>[0.025</th>    <th>0.975]</th>  \n",
       "</tr>\n",
       "<tr>\n",
       "  <th>Intercept</th>                                                                                               <td>    1.7343</td> <td>    0.211</td> <td>    8.201</td> <td> 0.000</td> <td>    1.320</td> <td>    2.149</td>\n",
       "</tr>\n",
       "<tr>\n",
       "  <th>C(canal_bin, Treatment(reference=\"Demais\"))[T.Corretor Mais]</th>                                            <td>    0.0329</td> <td>    0.010</td> <td>    3.195</td> <td> 0.001</td> <td>    0.013</td> <td>    0.053</td>\n",
       "</tr>\n",
       "<tr>\n",
       "  <th>C(Cod_End_bin, Treatment(reference=\"Demais\"))[T.13509]</th>                                                  <td>   -0.2774</td> <td>    0.014</td> <td>  -20.318</td> <td> 0.000</td> <td>   -0.304</td> <td>   -0.251</td>\n",
       "</tr>\n",
       "<tr>\n",
       "  <th>C(fator_ajuste_bin, Treatment(reference=\"<101\"))[T.>=101]</th>                                               <td>    0.0809</td> <td>    0.029</td> <td>    2.800</td> <td> 0.005</td> <td>    0.024</td> <td>    0.138</td>\n",
       "</tr>\n",
       "<tr>\n",
       "  <th>C(per_com_bin, Treatment(reference=\">=10\"))[T.<10]</th>                                                      <td>    0.1816</td> <td>    0.024</td> <td>    7.543</td> <td> 0.000</td> <td>    0.134</td> <td>    0.229</td>\n",
       "</tr>\n",
       "<tr>\n",
       "  <th>C(idade_ult_RNS_bin, Treatment(reference=\"Sem Sinistro\"))[T.01 ano]</th>                                     <td>   -0.5195</td> <td>    0.024</td> <td>  -21.295</td> <td> 0.000</td> <td>   -0.567</td> <td>   -0.472</td>\n",
       "</tr>\n",
       "<tr>\n",
       "  <th>C(idade_ult_RNS_bin, Treatment(reference=\"Sem Sinistro\"))[T.02 ano +]</th>                                   <td>   -0.4643</td> <td>    0.012</td> <td>  -37.352</td> <td> 0.000</td> <td>   -0.489</td> <td>   -0.440</td>\n",
       "</tr>\n",
       "<tr>\n",
       "  <th>C(MD_comb_bin, Treatment(reference=\"Demais\"))[T.Gasolina]</th>                                               <td>    0.3844</td> <td>    0.019</td> <td>   20.077</td> <td> 0.000</td> <td>    0.347</td> <td>    0.422</td>\n",
       "</tr>\n",
       "<tr>\n",
       "  <th>C(UF_bin, Treatment(reference=\"Demais\"))[T.AL,CE,RS]</th>                                                    <td>   -0.2157</td> <td>    0.013</td> <td>  -15.987</td> <td> 0.000</td> <td>   -0.242</td> <td>   -0.189</td>\n",
       "</tr>\n",
       "<tr>\n",
       "  <th>C(UF_bin, Treatment(reference=\"Demais\"))[T.AP,DF,ES,PA,PB,RN,SC]</th>                                        <td>   -0.2309</td> <td>    0.014</td> <td>  -16.681</td> <td> 0.000</td> <td>   -0.258</td> <td>   -0.204</td>\n",
       "</tr>\n",
       "<tr>\n",
       "  <th>C(UF_bin, Treatment(reference=\"Demais\"))[T.GO,MA,MG]</th>                                                    <td>   -0.0669</td> <td>    0.015</td> <td>   -4.532</td> <td> 0.000</td> <td>   -0.096</td> <td>   -0.038</td>\n",
       "</tr>\n",
       "<tr>\n",
       "  <th>C(UF_bin, Treatment(reference=\"Demais\"))[T.MT,PR]</th>                                                       <td>   -0.1036</td> <td>    0.014</td> <td>   -7.350</td> <td> 0.000</td> <td>   -0.131</td> <td>   -0.076</td>\n",
       "</tr>\n",
       "<tr>\n",
       "  <th>C(UF_bin, Treatment(reference=\"Demais\"))[T.RJ]</th>                                                          <td>    0.3164</td> <td>    0.021</td> <td>   15.422</td> <td> 0.000</td> <td>    0.276</td> <td>    0.357</td>\n",
       "</tr>\n",
       "<tr>\n",
       "  <th>C(fx_ir_12m_bin, Treatment(reference=\"02 - 20-<=040\"))[T.01 - 00-<=020]</th>                                 <td>   -0.9163</td> <td>    0.017</td> <td>  -52.630</td> <td> 0.000</td> <td>   -0.950</td> <td>   -0.882</td>\n",
       "</tr>\n",
       "<tr>\n",
       "  <th>C(fx_ir_12m_bin, Treatment(reference=\"02 - 20-<=040\"))[T.03 - 40-<=060]</th>                                 <td>    0.4855</td> <td>    0.010</td> <td>   48.792</td> <td> 0.000</td> <td>    0.466</td> <td>    0.505</td>\n",
       "</tr>\n",
       "<tr>\n",
       "  <th>C(fx_ir_12m_bin, Treatment(reference=\"02 - 20-<=040\"))[T.04 - 60-<=080]</th>                                 <td>    1.1635</td> <td>    0.013</td> <td>   86.389</td> <td> 0.000</td> <td>    1.137</td> <td>    1.190</td>\n",
       "</tr>\n",
       "<tr>\n",
       "  <th>C(fx_ir_12m_bin, Treatment(reference=\"02 - 20-<=040\"))[T.05 - 80-<=100]</th>                                 <td>    2.0739</td> <td>    0.025</td> <td>   82.852</td> <td> 0.000</td> <td>    2.025</td> <td>    2.123</td>\n",
       "</tr>\n",
       "<tr>\n",
       "  <th>C(MD_tipo_renov, Treatment(reference=\"2 - Renov MAPFRE sem sinistro\"))[T.3 - Renov MAPFRE com sinistro]</th> <td>   -0.2454</td> <td>    0.022</td> <td>  -11.386</td> <td> 0.000</td> <td>   -0.288</td> <td>   -0.203</td>\n",
       "</tr>\n",
       "<tr>\n",
       "  <th>np.log(premio)</th>                                                                                          <td>   -0.2218</td> <td>    0.024</td> <td>   -9.336</td> <td> 0.000</td> <td>   -0.268</td> <td>   -0.175</td>\n",
       "</tr>\n",
       "<tr>\n",
       "  <th>np.divide(premio, is_casco_ofer)</th>                                                                        <td>   -5.2478</td> <td>    0.222</td> <td>  -23.677</td> <td> 0.000</td> <td>   -5.682</td> <td>   -4.813</td>\n",
       "</tr>\n",
       "<tr>\n",
       "  <th>np.log(np.divide(premio, GBM_mercado))</th>                                                                  <td>   -0.3598</td> <td>    0.033</td> <td>  -10.804</td> <td> 0.000</td> <td>   -0.425</td> <td>   -0.294</td>\n",
       "</tr>\n",
       "<tr>\n",
       "  <th>np.log(np.divide(premio, Premio_IC100))</th>                                                                 <td>   -1.0893</td> <td>    0.015</td> <td>  -73.385</td> <td> 0.000</td> <td>   -1.118</td> <td>   -1.060</td>\n",
       "</tr>\n",
       "<tr>\n",
       "  <th>np.divide(premio, premio_anterior)</th>                                                                      <td>   -0.8188</td> <td>    0.016</td> <td>  -52.388</td> <td> 0.000</td> <td>   -0.849</td> <td>   -0.788</td>\n",
       "</tr>\n",
       "<tr>\n",
       "  <th>per_com</th>                                                                                                 <td>    0.0148</td> <td>    0.001</td> <td>   16.939</td> <td> 0.000</td> <td>    0.013</td> <td>    0.016</td>\n",
       "</tr>\n",
       "<tr>\n",
       "  <th>np.log(MD_tempo_casa_2 + 1)</th>                                                                             <td>    0.3896</td> <td>    0.009</td> <td>   44.030</td> <td> 0.000</td> <td>    0.372</td> <td>    0.407</td>\n",
       "</tr>\n",
       "</table>"
      ],
      "text/plain": [
       "<class 'statsmodels.iolib.summary.Summary'>\n",
       "\"\"\"\n",
       "                           Logit Regression Results                           \n",
       "==============================================================================\n",
       "Dep. Variable:          ind_renovacao   No. Observations:               310913\n",
       "Model:                          Logit   Df Residuals:                   310888\n",
       "Method:                           MLE   Df Model:                           24\n",
       "Date:                Sun, 28 Jul 2024   Pseudo R-squ.:                  0.1823\n",
       "Time:                        18:09:13   Log-Likelihood:            -1.7558e+05\n",
       "converged:                       True   LL-Null:                   -2.1471e+05\n",
       "Covariance Type:            nonrobust   LLR p-value:                     0.000\n",
       "===========================================================================================================================================================================\n",
       "                                                                                                              coef    std err          z      P>|z|      [0.025      0.975]\n",
       "---------------------------------------------------------------------------------------------------------------------------------------------------------------------------\n",
       "Intercept                                                                                                   1.7343      0.211      8.201      0.000       1.320       2.149\n",
       "C(canal_bin, Treatment(reference=\"Demais\"))[T.Corretor Mais]                                                0.0329      0.010      3.195      0.001       0.013       0.053\n",
       "C(Cod_End_bin, Treatment(reference=\"Demais\"))[T.13509]                                                     -0.2774      0.014    -20.318      0.000      -0.304      -0.251\n",
       "C(fator_ajuste_bin, Treatment(reference=\"<101\"))[T.>=101]                                                   0.0809      0.029      2.800      0.005       0.024       0.138\n",
       "C(per_com_bin, Treatment(reference=\">=10\"))[T.<10]                                                          0.1816      0.024      7.543      0.000       0.134       0.229\n",
       "C(idade_ult_RNS_bin, Treatment(reference=\"Sem Sinistro\"))[T.01 ano]                                        -0.5195      0.024    -21.295      0.000      -0.567      -0.472\n",
       "C(idade_ult_RNS_bin, Treatment(reference=\"Sem Sinistro\"))[T.02 ano +]                                      -0.4643      0.012    -37.352      0.000      -0.489      -0.440\n",
       "C(MD_comb_bin, Treatment(reference=\"Demais\"))[T.Gasolina]                                                   0.3844      0.019     20.077      0.000       0.347       0.422\n",
       "C(UF_bin, Treatment(reference=\"Demais\"))[T.AL,CE,RS]                                                       -0.2157      0.013    -15.987      0.000      -0.242      -0.189\n",
       "C(UF_bin, Treatment(reference=\"Demais\"))[T.AP,DF,ES,PA,PB,RN,SC]                                           -0.2309      0.014    -16.681      0.000      -0.258      -0.204\n",
       "C(UF_bin, Treatment(reference=\"Demais\"))[T.GO,MA,MG]                                                       -0.0669      0.015     -4.532      0.000      -0.096      -0.038\n",
       "C(UF_bin, Treatment(reference=\"Demais\"))[T.MT,PR]                                                          -0.1036      0.014     -7.350      0.000      -0.131      -0.076\n",
       "C(UF_bin, Treatment(reference=\"Demais\"))[T.RJ]                                                              0.3164      0.021     15.422      0.000       0.276       0.357\n",
       "C(fx_ir_12m_bin, Treatment(reference=\"02 - 20-<=040\"))[T.01 - 00-<=020]                                    -0.9163      0.017    -52.630      0.000      -0.950      -0.882\n",
       "C(fx_ir_12m_bin, Treatment(reference=\"02 - 20-<=040\"))[T.03 - 40-<=060]                                     0.4855      0.010     48.792      0.000       0.466       0.505\n",
       "C(fx_ir_12m_bin, Treatment(reference=\"02 - 20-<=040\"))[T.04 - 60-<=080]                                     1.1635      0.013     86.389      0.000       1.137       1.190\n",
       "C(fx_ir_12m_bin, Treatment(reference=\"02 - 20-<=040\"))[T.05 - 80-<=100]                                     2.0739      0.025     82.852      0.000       2.025       2.123\n",
       "C(MD_tipo_renov, Treatment(reference=\"2 - Renov MAPFRE sem sinistro\"))[T.3 - Renov MAPFRE com sinistro]    -0.2454      0.022    -11.386      0.000      -0.288      -0.203\n",
       "np.log(premio)                                                                                             -0.2218      0.024     -9.336      0.000      -0.268      -0.175\n",
       "np.divide(premio, is_casco_ofer)                                                                           -5.2478      0.222    -23.677      0.000      -5.682      -4.813\n",
       "np.log(np.divide(premio, GBM_mercado))                                                                     -0.3598      0.033    -10.804      0.000      -0.425      -0.294\n",
       "np.log(np.divide(premio, Premio_IC100))                                                                    -1.0893      0.015    -73.385      0.000      -1.118      -1.060\n",
       "np.divide(premio, premio_anterior)                                                                         -0.8188      0.016    -52.388      0.000      -0.849      -0.788\n",
       "per_com                                                                                                     0.0148      0.001     16.939      0.000       0.013       0.016\n",
       "np.log(MD_tempo_casa_2 + 1)                                                                                 0.3896      0.009     44.030      0.000       0.372       0.407\n",
       "===========================================================================================================================================================================\n",
       "\"\"\""
      ]
     },
     "execution_count": 28,
     "metadata": {},
     "output_type": "execute_result"
    }
   ],
   "source": [
    "import statsmodels.formula.api as smf\n",
    "#Modelo GLM de retenção\n",
    "formula = 'ind_renovacao ~ 1 + np.log(premio) + np.divide(premio, is_casco_ofer) + np.log(np.divide(premio, GBM_mercado)) + np.log(np.divide(premio, Premio_IC100)) + (np.divide(premio, premio_anterior)+1) + C(canal_bin,Treatment(reference=\"Demais\")) + C(Cod_End_bin,Treatment(reference=\"Demais\")) + C(fator_ajuste_bin,Treatment(reference=\"<101\")) + per_com + C(per_com_bin,Treatment(reference=\">=10\")) + np.log(MD_tempo_casa_2+1) + C(idade_ult_RNS_bin,Treatment(reference=\"Sem Sinistro\")) + C(MD_comb_bin,Treatment(reference=\"Demais\")) + C(UF_bin,Treatment(reference=\"Demais\")) + C(fx_ir_12m_bin,Treatment(reference=\"02 - 20-<=040\")) + C(MD_tipo_renov,Treatment(reference=\"2 - Renov MAPFRE sem sinistro\"))' \n",
    "model = smf.logit(formula , data=df_train).fit()\n",
    "model.summary()"
   ]
  },
  {
   "cell_type": "markdown",
   "id": "808c929f",
   "metadata": {},
   "source": [
    "## Base Para escorar e otimizar"
   ]
  },
  {
   "cell_type": "code",
   "execution_count": 29,
   "id": "daae90ef",
   "metadata": {},
   "outputs": [],
   "source": [
    "df_lote_092024 = pd.read_csv(\"C://Flavio/Projeto Otimizacao/Otimizacao/Table Base Case Total  - modelo novo.csv\",\n",
    "                     encoding='latin-1',\n",
    "                     delimiter='|')"
   ]
  },
  {
   "cell_type": "code",
   "execution_count": 30,
   "id": "d0c8c59d",
   "metadata": {},
   "outputs": [
    {
     "data": {
      "text/plain": [
       "count    27304.000000\n",
       "mean      2662.428740\n",
       "std       1406.693218\n",
       "min       1015.431214\n",
       "25%       1797.549029\n",
       "50%       2284.675931\n",
       "75%       3005.559169\n",
       "max      13353.547185\n",
       "Name: GBM_mercado, dtype: float64"
      ]
     },
     "execution_count": 30,
     "metadata": {},
     "output_type": "execute_result"
    }
   ],
   "source": [
    "df_lote_092024['GBM_mercado'].describe()"
   ]
  },
  {
   "cell_type": "code",
   "execution_count": 31,
   "id": "451a4bb1",
   "metadata": {},
   "outputs": [],
   "source": [
    "df_lote_escorar=df_lote_092024.copy()"
   ]
  },
  {
   "cell_type": "markdown",
   "id": "0ce8372b",
   "metadata": {},
   "source": [
    "df_lote_escorar=df_lote_092024[['Premio_oferecido_com_batente','Pr_anterior_TI','Premio_IC100','GBM_mercado',\n",
    "                                          'Classe_bonus',\"MD_sexo\",\"cod_corr\",\"cod_end\",\"MD_tempo_casa_2\",\n",
    "                                          \"per_com\", \"MD_menor26\",\"UF\",\"Renovacao_ant\",\"fx_ir_12m\",\"is_casco_ofer\",\n",
    "                                          \"MD_fator_ajuste\",\"md_capac\",\"MD_categoria\",\n",
    "                                          \"MD_comb\",\"MD_qtd_assis_cpf\", \"idade_ult_RNS\",\"canal\",\"MD_tipo_renov\",'FABRICA',\n",
    "                                          'MD_est_civil','Grupo_veiculo_new']]"
   ]
  },
  {
   "cell_type": "code",
   "execution_count": null,
   "id": "cd7912ac",
   "metadata": {},
   "outputs": [],
   "source": [
    "#print(df_lote_escorar['UF'].value_counts(ascending=False))"
   ]
  },
  {
   "cell_type": "markdown",
   "id": "544555ef",
   "metadata": {},
   "source": [
    "premio|Premio_oferecido_com_batente\n",
    "is_casco_ofer|is_casco_ofer\n",
    "GBM_mercado|GBM_mercado\n",
    "Premio_IC100|Premio_IC100\n",
    "premio_anterior|Pr_anterior_TI\n",
    "canal_bin| canal\n",
    "Cod_End_bin|  cod_end\n",
    "fator_ajuste_bin|  MD_fator_ajuste\n",
    "per_com|per_com\n",
    "MD_tempo_casa_2|MD_tempo_casa_2\n",
    "idade_ult_RNS_bin|idade_ult_RNS\n",
    "MD_comb_bin|MD_comb\n",
    "UF_bin      |     UF\n",
    "fx_ir_12m_bin|    fx_ir_12m\n",
    "MD_tipo_renov,|   MD_tipo_renov"
   ]
  },
  {
   "cell_type": "code",
   "execution_count": 32,
   "id": "f211fcfc",
   "metadata": {},
   "outputs": [],
   "source": [
    "df_lote_escorar[\"premio\"] = df_lote_escorar[\"Premio_oferecido_com_batente\"]"
   ]
  },
  {
   "cell_type": "code",
   "execution_count": 33,
   "id": "6a23c83a",
   "metadata": {},
   "outputs": [],
   "source": [
    "df_lote_escorar.rename(columns={'Pr_anterior_TI':'premio_anterior', \n",
    "                                   'cod_end': 'Cod_End',\n",
    "                                   'md_capac': 'MD_capac',\n",
    "                                   'fator_ajuste': 'MD_fator_ajuste'},inplace=True)"
   ]
  },
  {
   "cell_type": "code",
   "execution_count": 35,
   "id": "f062b145",
   "metadata": {},
   "outputs": [],
   "source": [
    "df_lote_escorar=df_lote_escorar[df_lote_escorar['UF']!= \"99\"]"
   ]
  },
  {
   "cell_type": "code",
   "execution_count": 36,
   "id": "8ad2c6be",
   "metadata": {},
   "outputs": [
    {
     "data": {
      "text/plain": [
       "(27298, 123)"
      ]
     },
     "execution_count": 36,
     "metadata": {},
     "output_type": "execute_result"
    }
   ],
   "source": [
    "df_lote_escorar.shape"
   ]
  },
  {
   "cell_type": "code",
   "execution_count": 37,
   "id": "0edd9824",
   "metadata": {},
   "outputs": [],
   "source": [
    "df_lote = categorizar(df_lote_escorar)"
   ]
  },
  {
   "cell_type": "code",
   "execution_count": 38,
   "id": "3a7f6f2c",
   "metadata": {},
   "outputs": [],
   "source": [
    "df_lote[\"prob_est\"]=model.predict(df_lote)"
   ]
  },
  {
   "cell_type": "code",
   "execution_count": 289,
   "id": "5e5b4e41",
   "metadata": {},
   "outputs": [
    {
     "data": {
      "text/plain": [
       "count    27298.000000\n",
       "mean         0.464357\n",
       "std          0.222866\n",
       "min          0.017009\n",
       "25%          0.284619\n",
       "50%          0.456997\n",
       "75%          0.624807\n",
       "max          0.991476\n",
       "Name: prob_est, dtype: float64"
      ]
     },
     "execution_count": 289,
     "metadata": {},
     "output_type": "execute_result"
    }
   ],
   "source": [
    "df_lote[\"prob_est\"].describe()"
   ]
  },
  {
   "cell_type": "code",
   "execution_count": 41,
   "id": "8ad13f2f",
   "metadata": {},
   "outputs": [
    {
     "data": {
      "text/html": [
       "<div>\n",
       "<style scoped>\n",
       "    .dataframe tbody tr th:only-of-type {\n",
       "        vertical-align: middle;\n",
       "    }\n",
       "\n",
       "    .dataframe tbody tr th {\n",
       "        vertical-align: top;\n",
       "    }\n",
       "\n",
       "    .dataframe thead th {\n",
       "        text-align: right;\n",
       "    }\n",
       "</style>\n",
       "<table border=\"1\" class=\"dataframe\">\n",
       "  <thead>\n",
       "    <tr style=\"text-align: right;\">\n",
       "      <th></th>\n",
       "      <th>prob_est</th>\n",
       "      <th>Renewal Demand</th>\n",
       "    </tr>\n",
       "  </thead>\n",
       "  <tbody>\n",
       "    <tr>\n",
       "      <th>count</th>\n",
       "      <td>27298.000000</td>\n",
       "      <td>27298.000000</td>\n",
       "    </tr>\n",
       "    <tr>\n",
       "      <th>mean</th>\n",
       "      <td>0.464357</td>\n",
       "      <td>0.505496</td>\n",
       "    </tr>\n",
       "    <tr>\n",
       "      <th>std</th>\n",
       "      <td>0.222866</td>\n",
       "      <td>0.239074</td>\n",
       "    </tr>\n",
       "    <tr>\n",
       "      <th>min</th>\n",
       "      <td>0.017009</td>\n",
       "      <td>0.011015</td>\n",
       "    </tr>\n",
       "    <tr>\n",
       "      <th>25%</th>\n",
       "      <td>0.284619</td>\n",
       "      <td>0.310497</td>\n",
       "    </tr>\n",
       "    <tr>\n",
       "      <th>50%</th>\n",
       "      <td>0.456997</td>\n",
       "      <td>0.514788</td>\n",
       "    </tr>\n",
       "    <tr>\n",
       "      <th>75%</th>\n",
       "      <td>0.624807</td>\n",
       "      <td>0.694137</td>\n",
       "    </tr>\n",
       "    <tr>\n",
       "      <th>max</th>\n",
       "      <td>0.991476</td>\n",
       "      <td>0.995868</td>\n",
       "    </tr>\n",
       "  </tbody>\n",
       "</table>\n",
       "</div>"
      ],
      "text/plain": [
       "           prob_est  Renewal Demand\n",
       "count  27298.000000    27298.000000\n",
       "mean       0.464357        0.505496\n",
       "std        0.222866        0.239074\n",
       "min        0.017009        0.011015\n",
       "25%        0.284619        0.310497\n",
       "50%        0.456997        0.514788\n",
       "75%        0.624807        0.694137\n",
       "max        0.991476        0.995868"
      ]
     },
     "execution_count": 41,
     "metadata": {},
     "output_type": "execute_result"
    }
   ],
   "source": [
    "df_lote[[\"prob_est\",'Renewal Demand']].describe()"
   ]
  },
  {
   "cell_type": "markdown",
   "id": "a34b6c2a",
   "metadata": {},
   "source": [
    "## Otimização Teste "
   ]
  },
  {
   "cell_type": "code",
   "execution_count": 42,
   "id": "4101922e",
   "metadata": {},
   "outputs": [
    {
     "name": "stdout",
     "output_type": "stream",
     "text": [
      "Otimização Mkp     15569\n",
      "Otimização Mkp2     3271\n",
      "Controle            2830\n",
      "Otimização Atu      2829\n",
      "Teste_+5%           1402\n",
      "Teste_-5%           1397\n",
      "Name: Amostra, dtype: int64\n"
     ]
    }
   ],
   "source": [
    "print(df_lote['Amostra'].value_counts(ascending=False))"
   ]
  },
  {
   "cell_type": "code",
   "execution_count": 290,
   "id": "de7683ff",
   "metadata": {},
   "outputs": [
    {
     "data": {
      "text/plain": [
       "(2829, 136)"
      ]
     },
     "execution_count": 290,
     "metadata": {},
     "output_type": "execute_result"
    }
   ],
   "source": [
    "#df_lote_otim=df_mod.copy()\n",
    "df_lote_otim_atu = df_lote.query('Amostra == \"Otimização Atu\"')\n",
    "df_lote_otim_atu.shape"
   ]
  },
  {
   "cell_type": "code",
   "execution_count": 394,
   "id": "bc0c8c64",
   "metadata": {},
   "outputs": [],
   "source": [
    "df_lote_otim = df_lote_otim_atu"
   ]
  },
  {
   "cell_type": "code",
   "execution_count": 429,
   "id": "73b1dc1e",
   "metadata": {},
   "outputs": [],
   "source": [
    "df_lote_otim = df_lote_otim_atu.sample(n = 100) "
   ]
  },
  {
   "cell_type": "code",
   "execution_count": 430,
   "id": "e43903b0",
   "metadata": {},
   "outputs": [
    {
     "data": {
      "text/plain": [
       "(100, 140)"
      ]
     },
     "execution_count": 430,
     "metadata": {},
     "output_type": "execute_result"
    }
   ],
   "source": [
    "#df_lote_otim = df_otim1\n",
    "df_lote_otim.shape"
   ]
  },
  {
   "cell_type": "code",
   "execution_count": 431,
   "id": "14524f15",
   "metadata": {},
   "outputs": [],
   "source": [
    "df_lote_otim[\"Margem Inicial\"] = df_lote_otim[\"prob_est\"]*(df_lote_otim[\"Premio_oferecido_com_batente\"]-df_lote_otim[\"Act_cost\"])"
   ]
  },
  {
   "cell_type": "code",
   "execution_count": 432,
   "id": "5c4e5f82",
   "metadata": {},
   "outputs": [
    {
     "name": "stdout",
     "output_type": "stream",
     "text": [
      "Premio Inicial: 2899.420738\n",
      "Probabilidade Inicial: 0.433084\n",
      "Margem Inicial: 447.052089\n"
     ]
    }
   ],
   "source": [
    "print('Premio Inicial: %2f' % np.mean(df_lote_otim[\"premio\"]))\n",
    "print('Probabilidade Inicial: %2f' % np.mean(df_lote_otim[\"prob_est\"]))\n",
    "print('Margem Inicial: %2f' % np.mean(df_lote_otim[\"Margem Inicial\"]))"
   ]
  },
  {
   "cell_type": "code",
   "execution_count": 433,
   "id": "ebf5a12d",
   "metadata": {},
   "outputs": [],
   "source": [
    "#df_lote_otim2['premio_inicial'] =( (df_lote_otim2[\"premio\"]*0.9) + (df_lote_otim2[\"premio\"]*1.1))/2\n",
    "#df_lote_otim2"
   ]
  },
  {
   "cell_type": "code",
   "execution_count": 449,
   "id": "99597db7",
   "metadata": {},
   "outputs": [
    {
     "name": "stdout",
     "output_type": "stream",
     "text": [
      "CPU times: total: 3.31 s\n",
      "Wall time: 3.57 s\n"
     ]
    }
   ],
   "source": [
    "%%time\n",
    "\n",
    "def margem_esperada(premio,demanda_alvo):\n",
    "    df_lote_otim[\"premio\"]=premio\n",
    "    demanda= model.predict(df_lote_otim)\n",
    "    df_lote_otim[\"demanda_alvo\"]=demanda_alvo\n",
    "    custo= df_lote_otim[\"Act_cost\"]\n",
    "    margem_esperada = demanda * (premio-custo)\n",
    "    margem_total = -np.sum(margem_esperada) \n",
    "    return margem_total\n",
    "\n",
    "# restricão demanda alvo\n",
    "def constraint(premio,demanda_alvo):\n",
    "    df_lote_otim[\"premio\"]=premio\n",
    "    demanda= model.predict(df_lote_otim)\n",
    "    demanda_alvo = df_lote_otim[\"demanda_alvo\"]\n",
    "    return  np.sum(demanda) - np.sum(demanda_alvo)\n",
    "\n",
    "\n",
    "def constraint2(premio,demanda_alvo):\n",
    "    margem_inicial = df_lote_otim[\"prob_est\"]*(df_lote_otim[\"Premio_oferecido_com_batente\"]-df_lote_otim[\"Act_cost\"])\n",
    "    df_lote_otim[\"premio\"]=premio\n",
    "    df_lote_otim[\"demanda\"] = model.predict(df_lote_otim)\n",
    "    demanda_alvo = df_lote_otim[\"demanda_alvo\"]\n",
    "    margem_otim = df_lote_otim[\"demanda\"]*(df_lote_otim[\"premio\"]-df_lote_otim[\"Act_cost\"])\n",
    "    return  np.sum(margem_otim) - np.sum(margem_inicial)\n",
    "\n",
    "\n",
    "def constraint3(premio,demanda_alvo):\n",
    "    lb = df_lote_otim[\"Premio_oferecido_com_batente\"]*0.90\n",
    "    return lb\n",
    "\n",
    "def constraint4(premio,demanda_alvo):\n",
    "    ub = df_lote_otim[\"Premio_oferecido_com_batente\"]*1.1\n",
    "    return ub\n",
    " \n",
    "restr_demanda = {'type': 'eq', 'fun': constraint}   \n",
    "restr_margem  = {'type': 'ineq', 'fun': constraint2} \n",
    "restr_lb = {'type': 'ineq', 'fun': constraint3}   \n",
    "restr_ub  = {'type': 'ineq', 'fun': constraint4} \n",
    " \n",
    "#restricoes = ([restr_demanda,restr_margem,restr_lb,restr_ub])     \n",
    "\n",
    "restricoes = ([restr_demanda,restr_margem])     \n",
    "\n",
    "#df_lote_otim['lb'] = df_lote_otim[\"Premio_oferecido_com_batente\"]*0.90\n",
    "#df_lote_otim['ub']  = df_lote_otim[\"Premio_oferecido_com_batente\"]*1.1\n",
    "#premio_inicial = (df_lote_otim['lb'].astype('int') +df_lote_otim['ub'].astype('int') )/2\n",
    "\n",
    "\n",
    "#[sum(x)==1, ret >= req_return, x >= 0]\n",
    "\n",
    "\n",
    "premio_inicial = df_lote_otim[\"Premio_oferecido_com_batente\"]*0.9\n",
    "# limitando o premio fique dentro do range\n",
    "bounds = [(0.9 * premio_base, premio_base*1.1) for premio_base in df_lote_otim[\"Premio_oferecido_com_batente\"]]\n",
    "\n",
    "\n",
    "\n",
    "demanda_alvo=0.45\n",
    "\n",
    "# rodando a otimizaçao\n",
    "result = minimize(margem_esperada,\n",
    "                  premio_inicial,\n",
    "                  args=(demanda_alvo), \n",
    "                  method = 'L-BFGS-B', \n",
    "                  tol=0.01,\n",
    "                  constraints=restricoes,\n",
    "                  bounds=bounds)\n",
    "\n",
    "# premio otimizados\n",
    "premio_otim = result.x\n",
    "df_lote_otim[\"premio\"]=result.x\n",
    "\n",
    "df_lote_otim[\"demanda otimizada\"] = model.predict(df_lote_otim)\n",
    "df_lote_otim[\"Margem otimizada\"] = df_lote_otim[\"demanda otimizada\"]*(df_lote_otim[\"premio\"]-df_lote_otim[\"Act_cost\"])"
   ]
  },
  {
   "cell_type": "code",
   "execution_count": 454,
   "id": "1592b532",
   "metadata": {},
   "outputs": [
    {
     "name": "stdout",
     "output_type": "stream",
     "text": [
      "3186.1766349890004\n",
      "2867.871898483556\n"
     ]
    }
   ],
   "source": [
    "print(np.mean(df_lote_otim[\"Premio_oferecido_com_batente\"]))\n",
    "print(np.mean(df_lote_otim[\"premio\"]))"
   ]
  },
  {
   "cell_type": "code",
   "execution_count": 451,
   "id": "4831d300",
   "metadata": {},
   "outputs": [],
   "source": [
    "#df_lote_otim.columns.to_list()"
   ]
  },
  {
   "cell_type": "code",
   "execution_count": 452,
   "id": "232025c6",
   "metadata": {},
   "outputs": [],
   "source": [
    "#df_lote_otim2 = df_lote_otim[[\"chave\",\"Act_cost\",\"Premio_oferecido_com_batente\",\"premio\",\"prob_est\",\"demanda otimizada\",\"Margem Inicial\",\"Margem otimizada\",\"premio_anterior\"]]\n",
    "#df_lote_otim2"
   ]
  },
  {
   "cell_type": "code",
   "execution_count": 453,
   "id": "b0bd1620",
   "metadata": {},
   "outputs": [
    {
     "name": "stdout",
     "output_type": "stream",
     "text": [
      "3186.1766349890004\n",
      "2867.871898483556\n",
      "447.0520887105169\n",
      "390.18415765035417\n",
      "0.4330839286994385\n",
      "0.4909699526181443\n"
     ]
    }
   ],
   "source": [
    "print(np.mean(df_lote_otim[\"Premio_oferecido_com_batente\"]))\n",
    "print(np.mean(df_lote_otim[\"premio\"]))\n",
    "print(np.mean(df_lote_otim[\"Margem Inicial\"]))\n",
    "print(np.mean(df_lote_otim[\"Margem otimizada\"]))\n",
    "\n",
    "print(np.mean(df_lote_otim[\"prob_est\"]))\n",
    "print(np.mean(df_lote_otim[\"demanda otimizada\"]))\n"
   ]
  },
  {
   "cell_type": "code",
   "execution_count": 413,
   "id": "fb3191b0",
   "metadata": {},
   "outputs": [
    {
     "data": {
      "text/html": [
       "<div>\n",
       "<style scoped>\n",
       "    .dataframe tbody tr th:only-of-type {\n",
       "        vertical-align: middle;\n",
       "    }\n",
       "\n",
       "    .dataframe tbody tr th {\n",
       "        vertical-align: top;\n",
       "    }\n",
       "\n",
       "    .dataframe thead th {\n",
       "        text-align: right;\n",
       "    }\n",
       "</style>\n",
       "<table border=\"1\" class=\"dataframe\">\n",
       "  <thead>\n",
       "    <tr style=\"text-align: right;\">\n",
       "      <th></th>\n",
       "      <th>chave</th>\n",
       "      <th>Premio ofertado com batente</th>\n",
       "      <th>Optimized Prices</th>\n",
       "      <th>lb_bound</th>\n",
       "      <th>up_bound</th>\n",
       "      <th>prob_est</th>\n",
       "      <th>renewal demand</th>\n",
       "    </tr>\n",
       "  </thead>\n",
       "  <tbody>\n",
       "    <tr>\n",
       "      <th>7447</th>\n",
       "      <td>600900307043100001</td>\n",
       "      <td>1497.722170</td>\n",
       "      <td>1363.379744</td>\n",
       "      <td>1347.949953</td>\n",
       "      <td>1647.494387</td>\n",
       "      <td>0.584916</td>\n",
       "      <td>0.639774</td>\n",
       "    </tr>\n",
       "    <tr>\n",
       "      <th>24233</th>\n",
       "      <td>4001424693100001</td>\n",
       "      <td>4903.842610</td>\n",
       "      <td>4462.491682</td>\n",
       "      <td>4413.458349</td>\n",
       "      <td>5394.226871</td>\n",
       "      <td>0.233444</td>\n",
       "      <td>0.288944</td>\n",
       "    </tr>\n",
       "    <tr>\n",
       "      <th>2637</th>\n",
       "      <td>1401214433100001</td>\n",
       "      <td>1346.507593</td>\n",
       "      <td>1225.658062</td>\n",
       "      <td>1211.856834</td>\n",
       "      <td>1481.158352</td>\n",
       "      <td>0.565358</td>\n",
       "      <td>0.624755</td>\n",
       "    </tr>\n",
       "    <tr>\n",
       "      <th>13030</th>\n",
       "      <td>613700218223100001</td>\n",
       "      <td>2323.158348</td>\n",
       "      <td>2114.360045</td>\n",
       "      <td>2090.842513</td>\n",
       "      <td>2555.474183</td>\n",
       "      <td>0.507035</td>\n",
       "      <td>0.573077</td>\n",
       "    </tr>\n",
       "    <tr>\n",
       "      <th>18722</th>\n",
       "      <td>49009872283100001</td>\n",
       "      <td>3459.435036</td>\n",
       "      <td>3148.296888</td>\n",
       "      <td>3113.491532</td>\n",
       "      <td>3805.378540</td>\n",
       "      <td>0.344950</td>\n",
       "      <td>0.401681</td>\n",
       "    </tr>\n",
       "    <tr>\n",
       "      <th>20250</th>\n",
       "      <td>11100379343100001</td>\n",
       "      <td>2793.424549</td>\n",
       "      <td>2542.328481</td>\n",
       "      <td>2514.082094</td>\n",
       "      <td>3072.767004</td>\n",
       "      <td>0.474962</td>\n",
       "      <td>0.532433</td>\n",
       "    </tr>\n",
       "    <tr>\n",
       "      <th>5374</th>\n",
       "      <td>10000971993100001</td>\n",
       "      <td>1686.996043</td>\n",
       "      <td>1535.231883</td>\n",
       "      <td>1518.296439</td>\n",
       "      <td>1855.695647</td>\n",
       "      <td>0.155988</td>\n",
       "      <td>0.191795</td>\n",
       "    </tr>\n",
       "    <tr>\n",
       "      <th>21339</th>\n",
       "      <td>600700666503100001</td>\n",
       "      <td>3507.645000</td>\n",
       "      <td>3192.258905</td>\n",
       "      <td>3156.880500</td>\n",
       "      <td>3858.409500</td>\n",
       "      <td>0.486512</td>\n",
       "      <td>0.555799</td>\n",
       "    </tr>\n",
       "    <tr>\n",
       "      <th>26728</th>\n",
       "      <td>90808135793100001</td>\n",
       "      <td>7189.800156</td>\n",
       "      <td>6542.705773</td>\n",
       "      <td>6470.820140</td>\n",
       "      <td>7908.780172</td>\n",
       "      <td>0.145419</td>\n",
       "      <td>0.176249</td>\n",
       "    </tr>\n",
       "    <tr>\n",
       "      <th>2154</th>\n",
       "      <td>85600111863100001</td>\n",
       "      <td>1324.211325</td>\n",
       "      <td>1205.329896</td>\n",
       "      <td>1191.790193</td>\n",
       "      <td>1456.632458</td>\n",
       "      <td>0.433068</td>\n",
       "      <td>0.492210</td>\n",
       "    </tr>\n",
       "    <tr>\n",
       "      <th>25356</th>\n",
       "      <td>9003184073100001</td>\n",
       "      <td>4986.870000</td>\n",
       "      <td>4538.169572</td>\n",
       "      <td>4488.183000</td>\n",
       "      <td>5485.557000</td>\n",
       "      <td>0.173021</td>\n",
       "      <td>0.219358</td>\n",
       "    </tr>\n",
       "    <tr>\n",
       "      <th>24880</th>\n",
       "      <td>286100047743100001</td>\n",
       "      <td>5506.490550</td>\n",
       "      <td>5010.895486</td>\n",
       "      <td>4955.841495</td>\n",
       "      <td>6057.139605</td>\n",
       "      <td>0.091877</td>\n",
       "      <td>0.123035</td>\n",
       "    </tr>\n",
       "    <tr>\n",
       "      <th>19639</th>\n",
       "      <td>667200025133100001</td>\n",
       "      <td>3333.506076</td>\n",
       "      <td>3033.900898</td>\n",
       "      <td>3000.155468</td>\n",
       "      <td>3666.856684</td>\n",
       "      <td>0.532661</td>\n",
       "      <td>0.587668</td>\n",
       "    </tr>\n",
       "    <tr>\n",
       "      <th>17279</th>\n",
       "      <td>184080582943100001</td>\n",
       "      <td>3053.003189</td>\n",
       "      <td>2778.492656</td>\n",
       "      <td>2747.702870</td>\n",
       "      <td>3358.303508</td>\n",
       "      <td>0.482726</td>\n",
       "      <td>0.548771</td>\n",
       "    </tr>\n",
       "    <tr>\n",
       "      <th>8700</th>\n",
       "      <td>179100567263100001</td>\n",
       "      <td>1607.017350</td>\n",
       "      <td>1462.763415</td>\n",
       "      <td>1446.315615</td>\n",
       "      <td>1767.719085</td>\n",
       "      <td>0.504757</td>\n",
       "      <td>0.561399</td>\n",
       "    </tr>\n",
       "    <tr>\n",
       "      <th>18386</th>\n",
       "      <td>715900060443100001</td>\n",
       "      <td>3364.374002</td>\n",
       "      <td>3061.693120</td>\n",
       "      <td>3027.936602</td>\n",
       "      <td>3700.811402</td>\n",
       "      <td>0.282981</td>\n",
       "      <td>0.339487</td>\n",
       "    </tr>\n",
       "    <tr>\n",
       "      <th>20634</th>\n",
       "      <td>39011521263100001</td>\n",
       "      <td>3700.095000</td>\n",
       "      <td>3367.137382</td>\n",
       "      <td>3330.085500</td>\n",
       "      <td>4070.104500</td>\n",
       "      <td>0.160849</td>\n",
       "      <td>0.203273</td>\n",
       "    </tr>\n",
       "    <tr>\n",
       "      <th>21497</th>\n",
       "      <td>38301118843100001</td>\n",
       "      <td>2821.500000</td>\n",
       "      <td>2567.781098</td>\n",
       "      <td>2539.350000</td>\n",
       "      <td>3103.650000</td>\n",
       "      <td>0.183481</td>\n",
       "      <td>0.228484</td>\n",
       "    </tr>\n",
       "    <tr>\n",
       "      <th>11095</th>\n",
       "      <td>131200136803100001</td>\n",
       "      <td>1706.609233</td>\n",
       "      <td>1553.313447</td>\n",
       "      <td>1535.948310</td>\n",
       "      <td>1877.270156</td>\n",
       "      <td>0.429841</td>\n",
       "      <td>0.486684</td>\n",
       "    </tr>\n",
       "    <tr>\n",
       "      <th>26160</th>\n",
       "      <td>452400036893100001</td>\n",
       "      <td>5142.946040</td>\n",
       "      <td>4680.380669</td>\n",
       "      <td>4628.651436</td>\n",
       "      <td>5657.240644</td>\n",
       "      <td>0.430838</td>\n",
       "      <td>0.488049</td>\n",
       "    </tr>\n",
       "  </tbody>\n",
       "</table>\n",
       "</div>"
      ],
      "text/plain": [
       "                    chave  Premio ofertado com batente  Optimized Prices  \\\n",
       "7447   600900307043100001                  1497.722170       1363.379744   \n",
       "24233    4001424693100001                  4903.842610       4462.491682   \n",
       "2637     1401214433100001                  1346.507593       1225.658062   \n",
       "13030  613700218223100001                  2323.158348       2114.360045   \n",
       "18722   49009872283100001                  3459.435036       3148.296888   \n",
       "20250   11100379343100001                  2793.424549       2542.328481   \n",
       "5374    10000971993100001                  1686.996043       1535.231883   \n",
       "21339  600700666503100001                  3507.645000       3192.258905   \n",
       "26728   90808135793100001                  7189.800156       6542.705773   \n",
       "2154    85600111863100001                  1324.211325       1205.329896   \n",
       "25356    9003184073100001                  4986.870000       4538.169572   \n",
       "24880  286100047743100001                  5506.490550       5010.895486   \n",
       "19639  667200025133100001                  3333.506076       3033.900898   \n",
       "17279  184080582943100001                  3053.003189       2778.492656   \n",
       "8700   179100567263100001                  1607.017350       1462.763415   \n",
       "18386  715900060443100001                  3364.374002       3061.693120   \n",
       "20634   39011521263100001                  3700.095000       3367.137382   \n",
       "21497   38301118843100001                  2821.500000       2567.781098   \n",
       "11095  131200136803100001                  1706.609233       1553.313447   \n",
       "26160  452400036893100001                  5142.946040       4680.380669   \n",
       "\n",
       "          lb_bound     up_bound  prob_est  renewal demand  \n",
       "7447   1347.949953  1647.494387  0.584916        0.639774  \n",
       "24233  4413.458349  5394.226871  0.233444        0.288944  \n",
       "2637   1211.856834  1481.158352  0.565358        0.624755  \n",
       "13030  2090.842513  2555.474183  0.507035        0.573077  \n",
       "18722  3113.491532  3805.378540  0.344950        0.401681  \n",
       "20250  2514.082094  3072.767004  0.474962        0.532433  \n",
       "5374   1518.296439  1855.695647  0.155988        0.191795  \n",
       "21339  3156.880500  3858.409500  0.486512        0.555799  \n",
       "26728  6470.820140  7908.780172  0.145419        0.176249  \n",
       "2154   1191.790193  1456.632458  0.433068        0.492210  \n",
       "25356  4488.183000  5485.557000  0.173021        0.219358  \n",
       "24880  4955.841495  6057.139605  0.091877        0.123035  \n",
       "19639  3000.155468  3666.856684  0.532661        0.587668  \n",
       "17279  2747.702870  3358.303508  0.482726        0.548771  \n",
       "8700   1446.315615  1767.719085  0.504757        0.561399  \n",
       "18386  3027.936602  3700.811402  0.282981        0.339487  \n",
       "20634  3330.085500  4070.104500  0.160849        0.203273  \n",
       "21497  2539.350000  3103.650000  0.183481        0.228484  \n",
       "11095  1535.948310  1877.270156  0.429841        0.486684  \n",
       "26160  4628.651436  5657.240644  0.430838        0.488049  "
      ]
     },
     "execution_count": 413,
     "metadata": {},
     "output_type": "execute_result"
    }
   ],
   "source": [
    "prices_df = pd.DataFrame({\n",
    "    'chave':         df_lote_otim[\"chave\"],\n",
    "    'Premio ofertado com batente':  df_lote_otim[\"Premio_oferecido_com_batente\"],\n",
    "    'Optimized Prices': df_lote_otim[\"premio\"],\n",
    "    'lb_bound' : [b[0] for b in bounds],\n",
    "    'up_bound' : [b[1] for b in bounds],\n",
    "    'prob_est':         df_lote_otim[\"prob_est\"],\n",
    "    'renewal demand':df_lote_otim[\"demanda otimizada\"]\n",
    "})\n",
    "prices_df.head(20)"
   ]
  },
  {
   "cell_type": "code",
   "execution_count": null,
   "id": "e80b0e34",
   "metadata": {},
   "outputs": [],
   "source": []
  },
  {
   "cell_type": "code",
   "execution_count": null,
   "id": "64ae0265",
   "metadata": {},
   "outputs": [],
   "source": []
  },
  {
   "cell_type": "code",
   "execution_count": null,
   "id": "aaf4cfae",
   "metadata": {},
   "outputs": [],
   "source": []
  },
  {
   "cell_type": "code",
   "execution_count": null,
   "id": "549fbe5f",
   "metadata": {},
   "outputs": [],
   "source": []
  },
  {
   "cell_type": "code",
   "execution_count": null,
   "id": "c01df167",
   "metadata": {},
   "outputs": [],
   "source": []
  },
  {
   "cell_type": "code",
   "execution_count": null,
   "id": "3cc62963",
   "metadata": {},
   "outputs": [],
   "source": []
  },
  {
   "cell_type": "code",
   "execution_count": null,
   "id": "520a9ae3",
   "metadata": {},
   "outputs": [],
   "source": []
  },
  {
   "cell_type": "code",
   "execution_count": null,
   "id": "5c939d76",
   "metadata": {},
   "outputs": [],
   "source": []
  },
  {
   "cell_type": "code",
   "execution_count": null,
   "id": "ee4c18a9",
   "metadata": {},
   "outputs": [],
   "source": []
  },
  {
   "cell_type": "code",
   "execution_count": null,
   "id": "389e88a7",
   "metadata": {},
   "outputs": [],
   "source": []
  },
  {
   "cell_type": "code",
   "execution_count": null,
   "id": "61e855ac",
   "metadata": {},
   "outputs": [],
   "source": []
  },
  {
   "cell_type": "code",
   "execution_count": null,
   "id": "37640a17",
   "metadata": {},
   "outputs": [],
   "source": []
  },
  {
   "cell_type": "code",
   "execution_count": null,
   "id": "e4c1d77c",
   "metadata": {},
   "outputs": [],
   "source": [
    "# Calculate revenue after optimization\n",
    "revenue_after = np.mean(optimized_prices)\n",
    "# Define revenue before and after optimization\n",
    "revenue_values = [revenue_before, revenue_after]\n",
    "\n",
    "# Print revenue before and after optimization\n",
    "print(\"Revenue before optimization:\", revenue_before)\n",
    "print(\"Revenue after optimization:\", revenue_after)\n",
    "\n",
    "\n",
    "# Define labels for the bars\n",
    "labels = ['Revenue Before Optimization', 'Revenue After Optimization']\n",
    "\n",
    "# Plotting\n",
    "plt.bar(labels, revenue_values, color=['blue', 'green'])\n",
    "plt.ylabel('Price')\n",
    "plt.gca().get_yaxis().set_major_formatter(plt.FuncFormatter(lambda x, loc: \"{:,}\".format(int(x))))"
   ]
  },
  {
   "cell_type": "code",
   "execution_count": null,
   "id": "987506c1",
   "metadata": {},
   "outputs": [],
   "source": []
  },
  {
   "cell_type": "code",
   "execution_count": null,
   "id": "f915c0ef",
   "metadata": {},
   "outputs": [],
   "source": []
  },
  {
   "cell_type": "code",
   "execution_count": null,
   "id": "00b2519d",
   "metadata": {},
   "outputs": [],
   "source": []
  },
  {
   "cell_type": "markdown",
   "id": "11fa579c",
   "metadata": {},
   "source": [
    "#criando a função"
   ]
  },
  {
   "cell_type": "code",
   "execution_count": 227,
   "id": "50114014",
   "metadata": {},
   "outputs": [],
   "source": [
    "predicted_prices = df_lote_otim[\"Premio_oferecido_com_batente\"]\n",
    "revenue_before = df_lote_otim[\"Premio_oferecido_com_batente\"]"
   ]
  },
  {
   "cell_type": "code",
   "execution_count": 228,
   "id": "eb5c7910",
   "metadata": {},
   "outputs": [
    {
     "name": "stdout",
     "output_type": "stream",
     "text": [
      "Revenue before optimization: 22272    4689.450000\n",
      "9739     2128.848354\n",
      "14473    2012.412374\n",
      "8662     1946.558922\n",
      "7284     1662.238362\n",
      "13247    2354.677691\n",
      "15216    1661.696036\n",
      "4415     1548.016372\n",
      "15167    2487.958735\n",
      "11423    2298.231035\n",
      "Name: Premio_oferecido_com_batente, dtype: float64\n",
      "Revenue after optimization: 27348.105456977137\n"
     ]
    }
   ],
   "source": [
    "def objective_function(prices):\n",
    "    revenue = -np.sum(prices)  \n",
    "    return revenue\n",
    "\n",
    "# Define constraints\n",
    "def constraint(prices, predicted_prices, min_revenue):\n",
    "    return np.concatenate([prices - predicted_prices, predicted_prices * 1.2 - prices, [np.sum(prices) - min_revenue]])\n",
    "\n",
    "# Define initial prices (use predicted prices as initial guess)\n",
    "initial_prices = df_lote_otim[\"Premio_oferecido_com_batente\"]*0.9\n",
    "\n",
    "# Minimum revenue constraint\n",
    "min_revenue = np.sum(predicted_prices) * 0.9  \n",
    "\n",
    "\n",
    "# Adjust constraints to ensure prices are no lower than predicted and no greater than 1.2 times predicted\n",
    "bounds = [(price, price * 1.2) for price in predicted_prices]\n",
    "\n",
    "# Perform optimization\n",
    "result = minimize(objective_function, \n",
    "                  initial_prices,\n",
    "                  constraints={'type': 'ineq', 'fun': constraint,\n",
    "                  'args': (predicted_prices, min_revenue)}, \n",
    "                   bounds=bounds)\n",
    "\n",
    "# Get optimized prices\n",
    "optimized_prices = result.x\n",
    "\n",
    "# Calculate revenue after optimization\n",
    "revenue_after = np.sum(optimized_prices)\n",
    "\n",
    "# Print revenue before and after optimization\n",
    "print(\"Revenue before optimization:\", revenue_before)\n",
    "print(\"Revenue after optimization:\", revenue_after)"
   ]
  },
  {
   "cell_type": "code",
   "execution_count": 232,
   "id": "d668b947",
   "metadata": {},
   "outputs": [
    {
     "name": "stdout",
     "output_type": "stream",
     "text": [
      "[5627.33999997 2554.61802478 2414.89484878 2335.87070638 1994.68603438\n",
      " 2825.61322918 1994.03524318 1857.61964638 2985.55048198 2757.87724198]\n"
     ]
    }
   ],
   "source": [
    "print(optimized_prices),"
   ]
  },
  {
   "cell_type": "code",
   "execution_count": null,
   "id": "2103af0d",
   "metadata": {},
   "outputs": [],
   "source": []
  }
 ],
 "metadata": {
  "kernelspec": {
   "display_name": "Python 3 (ipykernel)",
   "language": "python",
   "name": "python3"
  },
  "language_info": {
   "codemirror_mode": {
    "name": "ipython",
    "version": 3
   },
   "file_extension": ".py",
   "mimetype": "text/x-python",
   "name": "python",
   "nbconvert_exporter": "python",
   "pygments_lexer": "ipython3",
   "version": "3.10.9"
  }
 },
 "nbformat": 4,
 "nbformat_minor": 5
}
