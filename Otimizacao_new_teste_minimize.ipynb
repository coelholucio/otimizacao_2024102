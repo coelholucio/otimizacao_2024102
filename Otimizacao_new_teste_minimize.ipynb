{
 "cells": [
  {
   "cell_type": "code",
   "execution_count": 1,
   "id": "4317d284",
   "metadata": {},
   "outputs": [],
   "source": [
    "import pandas as pd\n",
    "import numpy as np\n",
    "import seaborn as sns\n",
    "import matplotlib.pyplot as plt\n",
    "\n",
    "\n",
    "from scipy.optimize import minimize\n",
    "from scipy.optimize import differential_evolution\n",
    "\n",
    "from sklearn.preprocessing import LabelEncoder\n",
    "from sklearn.model_selection import train_test_split\n",
    "from sklearn import metrics\n",
    "from sklearn.preprocessing import StandardScaler\n",
    "\n",
    "from sklearn.tree import DecisionTreeRegressor\n",
    "from sklearn.ensemble import RandomForestRegressor\n",
    "import xgboost as xgb\n",
    "from sklearn.metrics import mean_squared_error, mean_absolute_error, r2_score\n",
    "from sklearn.linear_model import LinearRegression\n",
    "\n",
    "from numpy import asarray\n",
    "from sklearn.preprocessing import OrdinalEncoder\n",
    "\n",
    "import warnings\n",
    "warnings.filterwarnings('ignore')\n",
    "\n",
    "\n",
    "from categorizar import *\n",
    "from demand_model import *\n",
    "from relatorio import *"
   ]
  },
  {
   "cell_type": "markdown",
   "id": "808c929f",
   "metadata": {},
   "source": [
    "## Base Para escorar e otimizar"
   ]
  },
  {
   "cell_type": "code",
   "execution_count": 2,
   "id": "daae90ef",
   "metadata": {},
   "outputs": [],
   "source": [
    "df_lote_102024 = pd.read_csv(\"C://Flavio/Projeto Otimizacao/Otimizacao/Data Table - Otimizacao segmentacao 49.7.csv\",\n",
    "                     encoding='latin-1',\n",
    "                     delimiter='|')\n",
    "\n",
    "df_lote_102024['GBM_mercado']  = df_lote_102024['GBM_mercado']/(1-df_lote_102024['per_com']/100)\n",
    "\n",
    "df_lote_102024[\"premio\"] = df_lote_102024[\"Premio_oferecido_com_batente\"]"
   ]
  },
  {
   "cell_type": "code",
   "execution_count": 3,
   "id": "39a09679",
   "metadata": {},
   "outputs": [],
   "source": [
    "df_lote_escorar=df_lote_102024.copy()"
   ]
  },
  {
   "cell_type": "code",
   "execution_count": 4,
   "id": "6a23c83a",
   "metadata": {},
   "outputs": [],
   "source": [
    "df_lote_escorar.rename(columns={'Pr_anterior_TI':'premio_anterior', \n",
    "                                   'cod_end': 'Cod_End',\n",
    "                                   'md_capac': 'MD_capac',\n",
    "                                   'Classe_bonus':'classe_bonus',\n",
    "                                   'fator_ajuste': 'MD_fator_ajuste'},inplace=True)"
   ]
  },
  {
   "cell_type": "code",
   "execution_count": 5,
   "id": "0edd9824",
   "metadata": {},
   "outputs": [],
   "source": [
    "df_lote = categorizar(df_lote_escorar)"
   ]
  },
  {
   "cell_type": "code",
   "execution_count": 6,
   "id": "8ad2c6be",
   "metadata": {},
   "outputs": [
    {
     "data": {
      "text/plain": [
       "(1459, 145)"
      ]
     },
     "execution_count": 6,
     "metadata": {},
     "output_type": "execute_result"
    }
   ],
   "source": [
    "df_lote.shape"
   ]
  },
  {
   "cell_type": "code",
   "execution_count": 7,
   "id": "1d892d4f",
   "metadata": {},
   "outputs": [],
   "source": [
    "df_cat = df_lote[['canal_bin', 'Cod_End_bin', 'fator_ajuste_bin', 'per_com_bin', 'classe_bonus_bin', 'UF_bin', 'MD_comb_bin', 'md_tipo_renov_ant_bin', 'fx_ir_12m_bin', 'MD_tipo_renov_bin','idade_ult_RNS_bin']]\n",
    "df_cat_glm=pd.get_dummies(df_cat)\n",
    "df_lote=pd.concat([df_lote,df_cat_glm],axis=1)"
   ]
  },
  {
   "cell_type": "code",
   "execution_count": 8,
   "id": "81c7c3d0",
   "metadata": {},
   "outputs": [],
   "source": [
    "df_lote.drop(['Demanda_basecase', 'Renewal Demand','Premium Parameter'],axis='columns', inplace=True)"
   ]
  },
  {
   "cell_type": "code",
   "execution_count": null,
   "id": "672a71b3",
   "metadata": {},
   "outputs": [],
   "source": [
    "#df_lote.columns.to_list()"
   ]
  },
  {
   "cell_type": "code",
   "execution_count": 9,
   "id": "824a7e87",
   "metadata": {},
   "outputs": [],
   "source": [
    "def demand_model(df):\n",
    "    import pandas as pd\n",
    "    import numpy as np \n",
    "    P   = df['premio']\n",
    "    X2  = np.array(df['GBM_mercado'])\n",
    "    X3  = np.array(df['Premio_IC_100'])\n",
    "    X4  = np.array(df['premio_anterior'])\n",
    "    X5  = np.array(df['MD_tempo_casa_2'])\n",
    "    X6  = np.array(df['per_com'])\n",
    "    X7  = np.array(df['per_com_bin_p_1_10'])\n",
    "    X1  = np.array(df['is_casco_ofer'])\n",
    "    X8  = np.array(df['canal_bin_Corretor_Mais'])\n",
    "    X9  = np.array(df['Cod_End_bin_13509'])\n",
    "    X10 = np.array(df['fator_ajuste_bin_f_101_120'])\n",
    "    X11 = np.array(df['classe_bonus_bin_00'])\n",
    "    X12 = np.array(df['UF_bin_AL_CE_RS'])\n",
    "    X13 = np.array(df['UF_bin_AP_DF_ES_PA_PB_RN_SC'])\n",
    "    X14 = np.array(df['UF_bin_GO_MA_MG'])\n",
    "    X15 = np.array(df['UF_bin_MT_PR'])\n",
    "    X16 = np.array(df['UF_bin_RJ'])\n",
    "    X17 = np.array(df['MD_comb_bin_Gasolina'])\n",
    "    X18 = np.array(df['md_tipo_renov_ant_bin_1_SeguroNovo'])\n",
    "    X19 = np.array(df['md_tipo_renov_ant_bin_3_RenovCongenere'])\n",
    "    X20 = np.array(df['fx_ir_12m_bin_01_00_20'])\n",
    "    X21 = np.array(df['fx_ir_12m_bin_03_40_60'])\n",
    "    X22 = np.array(df['fx_ir_12m_bin_04_60_80'])\n",
    "    X23 = np.array(df['fx_ir_12m_bin_05_80_100'])\n",
    "    X24 = np.array(df['MD_tipo_renov_bin_3_RenovPropria_com_sin'])\n",
    "    X25 = np.array(df['idade_ult_RNS_bin_01_05_anos'])\n",
    "    X26 = np.array(df['idade_ult_RNS_bin_06_inf'])\n",
    "\n",
    "    def demanda(P,X1,X2,X3,X4,X5,X6,X7,X8,X9,X10,X11,X12,X13,X14,X15,X16,X17,X18,X19,X20,X21,X22,X23,X24,X25,X26):\n",
    "        D=np.exp(1.3356 -0.2576 * np.log(P)  + 1.3647 * np.divide(P, X1)-0.8782 * np.log(np.divide(P, X2))-0.795 * np.log(np.divide(P, X3))-1.6731 * np.log((np.divide(P, X4)))  + 0.3797 * np.log(X5 + 1)  + 0.0011 * X6  + 0.1253 * X7  + 0.1334 * X8-0.1382 * X9  + 0.3919 * X10-0.1397 * X11-0.2305 * X12-0.2832 * X13  + 0.0024 * X14-0.1476 * X15  + 0.2817 * X16  + 0.3336 * X17-0.4115 * X18  + 0.0127 * X19-0.73 * X20  + 0.4343 * X21  + 1.1066 * X22  + 1.9561 * X23-0.0742 * X24 -0.84590*X25- 0.7094 * X26)\n",
    "        return D/(1+D)\n",
    "\n",
    "\n",
    "    df['Renewal_Demand'] = demanda(P, X1, X2, X3, X4, X5, X6, X7, X8, X9, X10, X11, X12, X13, X14, X15, X16, X17, X18, X19, X20, X21, X22, X23, X24, X25, X26)\n",
    "    \n",
    "    return df"
   ]
  },
  {
   "cell_type": "code",
   "execution_count": 11,
   "id": "090e0f9a",
   "metadata": {},
   "outputs": [],
   "source": [
    "df_lote = demand_model(df_lote)"
   ]
  },
  {
   "cell_type": "code",
   "execution_count": 12,
   "id": "a2fa7a47",
   "metadata": {},
   "outputs": [
    {
     "data": {
      "text/plain": [
       "0.5073676747519267"
      ]
     },
     "execution_count": 12,
     "metadata": {},
     "output_type": "execute_result"
    }
   ],
   "source": [
    "np.mean(df_lote['Renewal_Demand'])"
   ]
  },
  {
   "cell_type": "code",
   "execution_count": 13,
   "id": "20947d5e",
   "metadata": {},
   "outputs": [],
   "source": [
    "def relatorio(df):\n",
    "    import pandas as pd\n",
    "    import numpy as np \n",
    "    df[\"per_com_pct\"] = df['per_com']/100\n",
    "    df[\"premio_prob\"] = df[\"Renewal_Demand\"]*df[\"premio\"]\n",
    "    df[\"premio_anterior_prob\"] = df[\"Renewal_Demand\"]*df[\"premio_anterior\"]\n",
    "    df[\"Act_cost_prob\"] = df[\"Renewal_Demand\"]*df[\"Act_cost\"]                                                                \n",
    "    df[\"comissao_valor\"] = df[\"per_com_pct\"] *df[\"premio\"]\n",
    "    df[\"comissao_valor_prob\"] = df[\"per_com_pct\"] *df[\"premio_prob\"]\n",
    "\n",
    "\n",
    "\n",
    "    apolice_ofertada    = np.round(df.shape[0],0)\n",
    "    apolice_estimada    = np.round(np.sum(df[\"Renewal_Demand\"]),0)\n",
    "    premio_ofertado     = np.mean(df[\"premio\"])\n",
    "    retencao_estimada   = np.mean(df[\"Renewal_Demand\"])\n",
    "    premio_esperado     = np.sum(df[\"premio_prob\"])/np.sum(df[\"Renewal_Demand\"])\n",
    "    risco_ofertado      = np.mean(df[\"Act_cost\"])\n",
    "    risco_esperado      = np.sum(df[\"Act_cost_prob\"])/np.sum(df[\"Renewal_Demand\"])\n",
    "    sp_ofertado         = np.sum(df[\"Act_cost\"])/np.sum(df[\"premio\"])\n",
    "    sp_esperado         = np.sum(df[\"Act_cost_prob\"])/np.sum(df[\"premio_prob\"])\n",
    "    comis_ofertado      = np.sum(df[\"comissao_valor\"])/np.sum(df[\"premio\"])\n",
    "    comis_esperado      = np.sum(df[\"comissao_valor_prob\"])/np.sum(df[\"premio_prob\"])\n",
    "    premio_anterior     = np.mean(df[\"premio_anterior\"])\n",
    "    premio_anterior_w   = np.sum(df[\"premio_anterior_prob\"])/np.sum(df[\"Renewal_Demand\"])\n",
    "    ic_ofertado       =  sp_ofertado  +  comis_ofertado + 0.2749\n",
    "    ic_esperado       =  sp_esperado  +  comis_esperado + 0.2749\n",
    "    premio_anterior   = np.mean(df_lote[\"premio_anterior\"])\n",
    "    premio_anterior_w   = np.sum(df_lote[\"premio_anterior_prob\"])/np.sum(df_lote[\"Renewal_Demand\"])\n",
    "\n",
    "\n",
    "    tabela = pd.DataFrame([apolice_ofertada,apolice_estimada,\n",
    "                            retencao_estimada,\n",
    "                            premio_ofertado,premio_esperado,\n",
    "                            premio_anterior,premio_anterior_w,\n",
    "                            risco_ofertado,risco_esperado,\n",
    "                            comis_ofertado, comis_esperado,\n",
    "                            sp_ofertado,sp_esperado,\n",
    "                            ic_ofertado,ic_esperado      \n",
    "                            ])\n",
    "\n",
    "\n",
    "    tabela = tabela.rename(columns = {0 : 'Total'})\n",
    "\n",
    "    tabela.index = ['Apolices Ofertadas:', \n",
    "                    'Apolices Renovadas:',\n",
    "                    '%Retenção:',\n",
    "                    'Premio Ofertado:',\n",
    "                    'Premio Renovado:',  \n",
    "                    'Premio Anterior Ofertado:',\n",
    "                    'Premio Anterior Renovado:',\n",
    "                    'Risco Ofertado', \n",
    "                    'Risco Renovado', \n",
    "                    '%Comissão Ofertada:',\n",
    "                    '%Comissão Renovada:',\n",
    "                    '%SP Ofertada:', \n",
    "                    '%SP Renovada:',\n",
    "                    '%IC Ofertado:', \n",
    "                    '%IC Renovado:']\n",
    "\n",
    "    return tabela"
   ]
  },
  {
   "cell_type": "code",
   "execution_count": 14,
   "id": "b6508bd0",
   "metadata": {},
   "outputs": [
    {
     "data": {
      "text/html": [
       "<div>\n",
       "<style scoped>\n",
       "    .dataframe tbody tr th:only-of-type {\n",
       "        vertical-align: middle;\n",
       "    }\n",
       "\n",
       "    .dataframe tbody tr th {\n",
       "        vertical-align: top;\n",
       "    }\n",
       "\n",
       "    .dataframe thead th {\n",
       "        text-align: right;\n",
       "    }\n",
       "</style>\n",
       "<table border=\"1\" class=\"dataframe\">\n",
       "  <thead>\n",
       "    <tr style=\"text-align: right;\">\n",
       "      <th></th>\n",
       "      <th>Total</th>\n",
       "    </tr>\n",
       "  </thead>\n",
       "  <tbody>\n",
       "    <tr>\n",
       "      <th>Apolices Ofertadas:</th>\n",
       "      <td>1459.000000</td>\n",
       "    </tr>\n",
       "    <tr>\n",
       "      <th>Apolices Renovadas:</th>\n",
       "      <td>740.000000</td>\n",
       "    </tr>\n",
       "    <tr>\n",
       "      <th>%Retenção:</th>\n",
       "      <td>0.507368</td>\n",
       "    </tr>\n",
       "    <tr>\n",
       "      <th>Premio Ofertado:</th>\n",
       "      <td>2993.303856</td>\n",
       "    </tr>\n",
       "    <tr>\n",
       "      <th>Premio Renovado:</th>\n",
       "      <td>2388.436295</td>\n",
       "    </tr>\n",
       "    <tr>\n",
       "      <th>Premio Anterior Ofertado:</th>\n",
       "      <td>2863.094414</td>\n",
       "    </tr>\n",
       "    <tr>\n",
       "      <th>Premio Anterior Renovado:</th>\n",
       "      <td>2634.386801</td>\n",
       "    </tr>\n",
       "    <tr>\n",
       "      <th>Risco Ofertado</th>\n",
       "      <td>1726.892590</td>\n",
       "    </tr>\n",
       "    <tr>\n",
       "      <th>Risco Renovado</th>\n",
       "      <td>1347.662024</td>\n",
       "    </tr>\n",
       "    <tr>\n",
       "      <th>%Comissão Ofertada:</th>\n",
       "      <td>0.155935</td>\n",
       "    </tr>\n",
       "    <tr>\n",
       "      <th>%Comissão Renovada:</th>\n",
       "      <td>0.156648</td>\n",
       "    </tr>\n",
       "    <tr>\n",
       "      <th>%SP Ofertada:</th>\n",
       "      <td>0.576919</td>\n",
       "    </tr>\n",
       "    <tr>\n",
       "      <th>%SP Renovada:</th>\n",
       "      <td>0.564244</td>\n",
       "    </tr>\n",
       "    <tr>\n",
       "      <th>%IC Ofertado:</th>\n",
       "      <td>1.007754</td>\n",
       "    </tr>\n",
       "    <tr>\n",
       "      <th>%IC Renovado:</th>\n",
       "      <td>0.995792</td>\n",
       "    </tr>\n",
       "  </tbody>\n",
       "</table>\n",
       "</div>"
      ],
      "text/plain": [
       "                                 Total\n",
       "Apolices Ofertadas:        1459.000000\n",
       "Apolices Renovadas:         740.000000\n",
       "%Retenção:                    0.507368\n",
       "Premio Ofertado:           2993.303856\n",
       "Premio Renovado:           2388.436295\n",
       "Premio Anterior Ofertado:  2863.094414\n",
       "Premio Anterior Renovado:  2634.386801\n",
       "Risco Ofertado             1726.892590\n",
       "Risco Renovado             1347.662024\n",
       "%Comissão Ofertada:           0.155935\n",
       "%Comissão Renovada:           0.156648\n",
       "%SP Ofertada:                 0.576919\n",
       "%SP Renovada:                 0.564244\n",
       "%IC Ofertado:                 1.007754\n",
       "%IC Renovado:                 0.995792"
      ]
     },
     "execution_count": 14,
     "metadata": {},
     "output_type": "execute_result"
    }
   ],
   "source": [
    "relatorio(df_lote)"
   ]
  },
  {
   "cell_type": "markdown",
   "id": "a34b6c2a",
   "metadata": {},
   "source": [
    "## Otimização Teste "
   ]
  },
  {
   "cell_type": "code",
   "execution_count": 15,
   "id": "de7683ff",
   "metadata": {
    "scrolled": true
   },
   "outputs": [
    {
     "data": {
      "text/plain": [
       "(1459, 180)"
      ]
     },
     "execution_count": 15,
     "metadata": {},
     "output_type": "execute_result"
    }
   ],
   "source": [
    "#df_lote_otim=df_mod.copy()\n",
    "df_lote_otim_atu = df_lote.query('Amostra_2 == \"Segmentacao\"')\n",
    "df_lote_otim_atu.shape"
   ]
  },
  {
   "cell_type": "code",
   "execution_count": 16,
   "id": "691bcaa0",
   "metadata": {},
   "outputs": [
    {
     "data": {
      "text/plain": [
       "(1459, 180)"
      ]
     },
     "execution_count": 16,
     "metadata": {},
     "output_type": "execute_result"
    }
   ],
   "source": [
    "df_lote_otim = df_lote_otim_atu\n",
    "df_lote_otim.shape"
   ]
  },
  {
   "cell_type": "code",
   "execution_count": 24,
   "id": "4cbf6a35",
   "metadata": {},
   "outputs": [],
   "source": [
    "import sympy as sp\n",
    "import numpy as np\n",
    "\n",
    "# Definindo as variáveis\n",
    "P, X1, X2, X3, X4, X5, X6, X7, X8, X9, X10, X11, X12, X13, X14, X15, X16, X17, X18, X19, X20, X21, X22, X23, X24, X25, X26, C, Lambda, K = sp.symbols('P X1 X2 X3 X4 X5 X6 X7 X8 X9 X10 X11 X12 X13 X14 X15 X16 X17 X18 X19 X20 X21 X22 X23 X24 X25 X26 C Lambda K')\n",
    "\n",
    "# Definindo a função F\n",
    "F = sp.exp(1.3356 - 0.2576 * sp.log(P) + 1.3647 * (P / X1) - 0.8782 * sp.log(P / X2) - 0.795 * sp.log(P / X3) \n",
    "           - 1.6731 * sp.log(P / X4) + 0.3797 * sp.log(X5 + 1) + 0.0011 * X6 + 0.1253 * X7 + 0.1334 * X8 \n",
    "           - 0.1382 * X9 + 0.3919 * X10 - 0.1397 * X11 - 0.2305 * X12 - 0.2832 * X13 + 0.0024 * X14 - 0.1476 * X15 \n",
    "           + 0.2817 * X16 + 0.3336 * X17 - 0.4115 * X18 + 0.0127 * X19 - 0.73 * X20 + 0.4343 * X21 + 1.1066 * X22 \n",
    "           + 1.9561 * X23 - 0.0742 * X24 - 0.8459 * X25 - 0.7094 * X26) * (P - C) - Lambda * (\n",
    "        sp.exp(1.3356 - 0.2576 * sp.log(P) + 1.3647 * (P / X1) - 0.8782 * sp.log(P / X2) - 0.795 * sp.log(P / X3) \n",
    "             - 1.6731 * sp.log(P / X4) + 0.3797 * sp.log(X5 + 1) + 0.0011 * X6 + 0.1253 * X7 + 0.1334 * X8 - 0.1382 * X9 \n",
    "             + 0.3919 * X10 - 0.1397 * X11 - 0.2305 * X12 - 0.2832 * X13 + 0.0024 * X14 - 0.1476 * X15 + 0.2817 * X16 \n",
    "             + 0.3336 * X17 - 0.4115 * X18 + 0.0127 * X19 - 0.73 * X20 + 0.4343 * X21 + 1.1066 * X22 + 1.9561 * X23 - 0.0742 * X24 \n",
    "                - 0.8459 * X25 - 0.7094 * X26) - K)\n",
    "\n",
    "# Derivando F em relação a P\n",
    "dF_dP = sp.diff(F, P)\n",
    "\n",
    "# Derivando F em relação a Lambda\n",
    "dF_dLambda = sp.diff(F, Lambda)\n",
    "\n",
    "# Convertendo as derivadas em funções utilizáveis\n",
    "dF_dP_func = sp.lambdify((P, X1, X2, X3, X4, X5, X6, X7, X8, X9, X10, X11, X12, X13, X14, X15, X16, X17, X18, X19, X20, X21, X22, X23, X24, X25, X26, C, Lambda, K), dF_dP, 'numpy')\n",
    "dF_dLambda_func = sp.lambdify((P, X1, X2, X3, X4, X5, X6, X7, X8, X9, X10, X11, X12, X13, X14, X15, X16, X17, X18, X19, X20, X21, X22, X23, X24, X25, X26, C, Lambda, K), dF_dLambda, 'numpy')\n",
    "\n",
    "# Exemplo de uso das funções\n",
    "P_val = 1.0\n",
    "X_vals = [1.0] * 26\n",
    "C_val = 1.0\n",
    "Lambda_val = 1.0\n",
    "K_val = 1.0\n",
    "\n",
    "dF_dP_result = dF_dP_func(P_val, *X_vals, C_val, Lambda_val, K_val)\n",
    "dF_dLambda_result = dF_dLambda_func(P_val, *X_vals, C_val, Lambda_val, K_val)"
   ]
  },
  {
   "cell_type": "code",
   "execution_count": 26,
   "id": "e596f3bf",
   "metadata": {},
   "outputs": [
    {
     "data": {
      "text/plain": [
       "-55.39542196965049"
      ]
     },
     "execution_count": 26,
     "metadata": {},
     "output_type": "execute_result"
    }
   ],
   "source": [
    "dF_dLambda_result"
   ]
  },
  {
   "cell_type": "code",
   "execution_count": 27,
   "id": "bd276bdc",
   "metadata": {},
   "outputs": [
    {
     "data": {
      "text/plain": [
       "182.67605084409124"
      ]
     },
     "execution_count": 27,
     "metadata": {},
     "output_type": "execute_result"
    }
   ],
   "source": [
    "dF_dP_result"
   ]
  },
  {
   "cell_type": "markdown",
   "id": "bc7f4798",
   "metadata": {},
   "source": [
    "#########################################"
   ]
  },
  {
   "cell_type": "code",
   "execution_count": null,
   "id": "f38bed03",
   "metadata": {},
   "outputs": [],
   "source": [
    "#[x for x in df.columns if \"com_bin\" in x]"
   ]
  },
  {
   "cell_type": "code",
   "execution_count": 28,
   "id": "eab41b1e",
   "metadata": {},
   "outputs": [
    {
     "name": "stdout",
     "output_type": "stream",
     "text": [
      "Optimization terminated successfully.\n",
      "Tamanho da Base: 1459\n",
      "CPU times: total: 1min 5s\n",
      "Wall time: 1min 11s\n"
     ]
    }
   ],
   "source": [
    "%%time\n",
    "######\n",
    "import sympy as sp\n",
    "from scipy.optimize import fsolve\n",
    "\n",
    "df = df_lote_otim\n",
    "\n",
    "target_demand=0.525\n",
    "\n",
    "fator_retencao = np.mean(df['Demanda_base'])/target_demand\n",
    "\n",
    "df['fator_retencao']=fator_retencao\n",
    "\n",
    "df[\"IC_ofer_python0\"] = df[\"per_com_pct\"] + df[\"Act_cost\"]/df[\"premio\"] +  0.2749\n",
    "\n",
    "for index, row in df.iterrows():\n",
    "    if row['IC_ofer_python0']   <= 0.8:\n",
    "        df.at[index, 'fat_ajuste_otim0'] = 0.95\n",
    "    elif row['IC_ofer_python0']   <= 0.95:\n",
    "        df.at[index, 'fat_ajuste_otim0'] = 0.92        \n",
    "    elif row['IC_ofer_python0']   <= 0.99:\n",
    "        df.at[index, 'fat_ajuste_otim0'] = 0.99\n",
    "\n",
    "    elif row['IC_ofer_python0']   >= 1.01:\n",
    "        df.at[index, 'fat_ajuste_otim0'] = 1.02\n",
    "    elif row['IC_ofer_python0']   >= 1.03:\n",
    "        df.at[index, 'fat_ajuste_otim0'] = 1.04\n",
    "    else:\n",
    "        df.at[index, 'fat_ajuste_otim0'] = 1.0\n",
    "    \n",
    "\n",
    "def calcular_retencao(P,X1,X2,X3,X4,X5,X6,X7,X8,X9,X10,X11,X12,X13,X14,X15,X16,X17,X18,X19,X20,X21,X22,X23,X24,X25,X26):\n",
    "    D=np.exp(1.3356 -0.2576 * np.log(P)  + 1.3647 * np.divide(P, X1)-0.8782 * np.log(np.divide(P, X2))-0.795 * np.log(np.divide(P, X3))-1.6731 * np.log((np.divide(P, X4)))  + 0.3797 * np.log(X5 + 1)  + 0.0011 * X6  + 0.1253 * X7  + 0.1334 * X8-0.1382 * X9  + 0.3919 * X10-0.1397 * X11-0.2305 * X12-0.2832 * X13  + 0.0024 * X14-0.1476 * X15  + 0.2817 * X16  + 0.3336 * X17-0.4115 * X18  + 0.0127 * X19-0.73 * X20  + 0.4343 * X21  + 1.1066 * X22  + 1.9561 * X23-0.0742 * X24 -0.84590*X25- 0.7094 * X26)\n",
    "    return D/(1+D)\n",
    "\n",
    "\n",
    "# Definir a função objetivo que maximiza a margem esperada otimizada \n",
    "def objetivo(P):\n",
    "    \n",
    "    #df['precos']= P *df[\"fat_ajuste_otim0\"] \n",
    "    df['precos']= P *1.23\n",
    "    \n",
    "    \n",
    "    # Calcular a retenção otimizada com os preços dados\n",
    "    df['retencao_otimizada1'] = calcular_retencao(P,X1,X2,X3,X4,X5,X6,X7,X8,X9,X10,X11,X12,X13,X14,X15,X16,X17,X18,X19,X20,X21,X22,X23,X24,X25,X26)\n",
    "    \n",
    "    # Calcular a margem esperada\n",
    "    df['margem_esperada_otimizada'] =   df['retencao_otimizada1']*(df['precos'] - df['Act_cost'] - df['per_com']/100 - 0.2749*df['precos'])\n",
    "    \n",
    "  \n",
    "    margem_esperada_total = df['margem_esperada_otimizada'].sum() \n",
    "\n",
    "    # Maximizar a margem \n",
    "    return -margem_esperada_total\n",
    "\n",
    "# Definir os limites para os preços otimizado\n",
    "nome_variaveis = ['LB','UB']\n",
    "limites=np.array(df.loc[:,nome_variaveis])\n",
    "\n",
    "# Executar a otimização \n",
    "resultado = differential_evolution(objetivo, bounds=limites, strategy='best1bin', maxiter=3000, popsize=11,seed=df.shape[0])\n",
    "\n",
    "# Resultados\n",
    "print(resultado.message) \n",
    "print(\"Tamanho da Base:\", df.shape[0])\n",
    "precos_otimizados = resultado.x\n",
    "margem_esperada_total_otimizada = -resultado.fun\n",
    "margem_esperada_total_otimizada = -resultado.fun\n"
   ]
  },
  {
   "cell_type": "code",
   "execution_count": 26,
   "id": "51bcd270",
   "metadata": {},
   "outputs": [
    {
     "name": "stdout",
     "output_type": "stream",
     "text": [
      "3837.610510627989\n",
      "3004.33343043582\n",
      "587191.2182896801\n"
     ]
    }
   ],
   "source": [
    "print(df['precos'].mean()),\n",
    "print(np.mean(precos_otimizados)),\n",
    "print(np.mean(-resultado.fun))"
   ]
  },
  {
   "cell_type": "code",
   "execution_count": null,
   "id": "ce082262",
   "metadata": {},
   "outputs": [],
   "source": [
    "#df3.to_csv(r'df3_avalia_prem.csv', sep='|' ,header='true')"
   ]
  },
  {
   "cell_type": "code",
   "execution_count": 24,
   "id": "666e75e3",
   "metadata": {},
   "outputs": [
    {
     "name": "stdout",
     "output_type": "stream",
     "text": [
      "Margem Esperada Total Base Case: 770432.568237982\n",
      "Margem Esperada Total Otimizada: 498203.81187089736\n",
      "Retenção Média Base Case: 0.5073676747519267\n",
      "Retenção Média Otimizada: 0.5026309974805719\n",
      "Premio Medio Otimizado: 3009.1527695587147\n",
      "Premio Medio Base Case: 2993.303855515689\n",
      "Elasticidade: -1.6389693210790068\n",
      "Elasticidade2: -1.6428786657757861\n"
     ]
    }
   ],
   "source": [
    "df['Demanda_base'] = df['Renewal_Demand']\n",
    "\n",
    "\n",
    "\n",
    "df['batente_otim_min']=0.9\n",
    "df['batente_otim_max']=1.1\n",
    "df['batente_otim_prem_ant_min']=0.5\n",
    "df['batente_otim_prem_ant_max']=1.8\n",
    "\n",
    " \n",
    "df['precos_otimizados'] = precos_otimizados\n",
    "\n",
    "\n",
    "df['retencao_otimizada'] = calcular_retencao(df['precos_otimizados'],X1,X2,X3,X4,X5,X6,X7,X8,X9,X10,X11,X12,X13,X14,X15,X16,X17,X18,X19,X20,X21,X22,X23,X24,X25,X26)\n",
    "\n",
    "df['margem_esperada_base_case'] = df['Demanda_base']*(df['premio']-df['Act_cost'])\n",
    "\n",
    "margem_esperada_total_base_case=df['margem_esperada_base_case'].sum()\n",
    "\n",
    "\n",
    "df['fat_teste0']= df['precos_otimizados']/df['premio']\n",
    "df['fat_teste1']=df['precos_otimizados']/df['premio']-1 \n",
    "\n",
    "fat_teste0= df['fat_teste0'].values\n",
    "fat_teste1= df['fat_teste1'].values\n",
    "\n",
    "if (fat_teste0 > 1).any() ==True:\n",
    "    fat_teste = fat_teste1\n",
    "else:\n",
    "    fat_teste=0\n",
    "    \n",
    "df['fat_teste'] =  fat_teste\n",
    "    \n",
    "    \n",
    "delta_q = (df['retencao_otimizada']-df['Demanda_base'])\n",
    "delta_p = (df['precos_otimizados']-df['premio'])\n",
    "   \n",
    "delta_q_b = ((df['retencao_otimizada']+df['Demanda_base'])/2)\n",
    "delta_p_b = ((df['precos_otimizados']+df['premio'])/2)\n",
    "\n",
    "df[\"elasticidade\"] = (delta_q/delta_p)*(delta_p_b/delta_q_b)\n",
    "df[\"elasticidade_2\"] = (df['retencao_otimizada']/df['Demanda_base']-1)/(df['precos_otimizados']/df['premio']-1)  \n",
    "\n",
    "df[\"elasticidade\"] = df[\"elasticidade\"].fillna(-1)\n",
    "df[\"elasticidade_2\"] = df[\"elasticidade_2\"].fillna(-1)\n",
    "\n",
    "df['elasticidade_bin'] = pd.cut(x=df['elasticidade'], bins=[-3.5,-2.5,-2,-1.5,-1,0])  \n",
    "\n",
    "df.replace([np.inf, -np.inf], -1, inplace=True)\n",
    "\n",
    "\n",
    "\n",
    "df[\"SP_ofer_python\"] = df[\"Act_cost\"]/df[\"precos_otimizados\"]\n",
    "df[\"IC_ofer_python\"] = df[\"per_com_pct\"] + df[\"SP_ofer_python\"] +  0.2749\n",
    "#df[\"SP_ofer_eranix\"] = df[\"Act_cost\"]/df[\"Premium Parameter\"]\n",
    "#df[\"IC_ofer_eranix\"] = df[\"SP_ofer_eranix\"] + df[\"per_com_pct\"]+  0.2749\n",
    "df[\"varia_prem_anterior_py\"] = df[\"precos_otimizados\"]/df[\"premio_anterior\"]\n",
    "#df[\"varia_prem_anterior_earnix\"] = df[\"Premium Parameter\"]/df[\"premio_anterior\"]\n",
    "df[\"varia_prem_ofer_py\"] = df[\"precos_otimizados\"]/df[\"premio\"]\n",
    "#df[\"varia_prem_ofer_earnix\"] = df[\"Premium Parameter\"]/df[\"premio\"]\n",
    "#df[\"varia_prem_py_earnix\"] = df[\"precos_otimizados\"]/df[\"Premium Parameter\"]\n",
    "\n",
    "\n",
    "df['IC_ofer_python_bin'] = pd.cut(x=df['IC_ofer_python'], bins=[0.7,0.95,0.99,1,1.03,1.9])  \n",
    "#df['IC_ofer_eranix'] = pd.cut(x=df['IC_ofer_eranix'], bins=[0.7,0.95,0.99,1,1.03,1.9]) \n",
    "\n",
    "df['fat_ajuste_otim'] = 1.0  \n",
    "\n",
    "for index, row in df.iterrows():\n",
    "    if row['IC_ofer_python'] <= 0.95:\n",
    "        if row['elasticidade']   <= -2.5:\n",
    "            df.at[index, 'fat_ajuste_otim'] = 0.88\n",
    "        elif row['elasticidade'] <= -2.0:\n",
    "            df.at[index, 'fat_ajuste_otim'] = 0.995\n",
    "        elif row['elasticidade'] <= -1.5:\n",
    "            df.at[index, 'fat_ajuste_otim'] = 0.995\n",
    "        elif row['elasticidade'] <= -1:\n",
    "            df.at[index, 'fat_ajuste_otim'] = 0.97\n",
    "        elif row['elasticidade'] <= 0:\n",
    "            df.at[index, 'fat_ajuste_otim'] = 1.015\n",
    "            \n",
    "    elif row['IC_ofer_python']<= 0.99:\n",
    "        if row['elasticidade']   <= -2.5:\n",
    "            df.at[index, 'fat_ajuste_otim'] = 1\n",
    "        elif row['elasticidade'] <= -2.0:\n",
    "            df.at[index, 'fat_ajuste_otim'] = 1\n",
    "        elif row['elasticidade'] <= -1.5:\n",
    "            df.at[index, 'fat_ajuste_otim'] = 1\n",
    "        elif row['elasticidade'] <= -1:\n",
    "            df.at[index, 'fat_ajuste_otim'] = 0.99\n",
    "        elif row['elasticidade'] <= 0:\n",
    "            df.at[index, 'fat_ajuste_otim'] = 0.96\n",
    "            \n",
    "             \n",
    "    elif row['IC_ofer_python']<= 1:\n",
    "        if row['elasticidade']   <= -2.5:\n",
    "            df.at[index, 'fat_ajuste_otim'] = 1\n",
    "        elif row['elasticidade'] <= -2.0:\n",
    "            df.at[index, 'fat_ajuste_otim'] = 1\n",
    "        elif row['elasticidade'] <= -1.5:\n",
    "            df.at[index, 'fat_ajuste_otim'] = 1\n",
    "        elif row['elasticidade'] <= -1:\n",
    "            df.at[index, 'fat_ajuste_otim'] = 1\n",
    "        elif row['elasticidade'] <= 0:\n",
    "            df.at[index, 'fat_ajuste_otim'] = 1      \n",
    "            \n",
    "            \n",
    "            \n",
    "    elif row['IC_ofer_python']<= 1.03:\n",
    "        if row['elasticidade'] <= -2.5:\n",
    "            df.at[index, 'fat_ajuste_otim'] = 1\n",
    "        elif row['elasticidade'] <= -2.0:\n",
    "            df.at[index, 'fat_ajuste_otim'] = 1\n",
    "        elif row['elasticidade'] <= -1.5:\n",
    "            df.at[index, 'fat_ajuste_otim'] = 1\n",
    "        elif row['elasticidade'] <= -1:\n",
    "            df.at[index, 'fat_ajuste_otim'] = 1\n",
    "        elif row['elasticidade'] <= 0:\n",
    "            df.at[index, 'fat_ajuste_otim'] = 1            \n",
    "            \n",
    "    elif row['IC_ofer_python']<= 3:\n",
    "        if row['elasticidade'] <= -2.5:\n",
    "            df.at[index, 'fat_ajuste_otim'] = 1\n",
    "        elif row['elasticidade'] <= -2.0:\n",
    "            df.at[index, 'fat_ajuste_otim'] = 1\n",
    "        elif row['elasticidade'] <= -1.5:\n",
    "            df.at[index, 'fat_ajuste_otim'] = 1\n",
    "        elif row['elasticidade'] <= -1:\n",
    "            df.at[index, 'fat_ajuste_otim'] = 1\n",
    "        elif row['elasticidade'] <= 0:\n",
    "            df.at[index, 'fat_ajuste_otim'] = 1.02\n",
    "            \n",
    "            \n",
    "#df['fat_ajuste_otim']=fat_ajuste_otim\n",
    "\n",
    "# Exibir os resultados\n",
    "print(\"Margem Esperada Total Base Case:\", margem_esperada_total_base_case) \n",
    "print(\"Margem Esperada Total Otimizada:\", margem_esperada_total_otimizada) \n",
    "print(\"Retenção Média Base Case:\", df['Demanda_base'].mean())\n",
    "print(\"Retenção Média Otimizada:\", df['retencao_otimizada'].mean())\n",
    "print(\"Premio Medio Otimizado:\", df['precos_otimizados'].mean())\n",
    "print(\"Premio Medio Base Case:\", df['premio'].mean())\n",
    "print(\"Elasticidade:\", df['elasticidade'].mean())\n",
    "print(\"Elasticidade2:\", df['elasticidade_2'].mean())"
   ]
  },
  {
   "cell_type": "code",
   "execution_count": null,
   "id": "087adc80",
   "metadata": {},
   "outputs": [],
   "source": [
    "df['Demanda_base']"
   ]
  },
  {
   "cell_type": "code",
   "execution_count": null,
   "id": "e1c2be42",
   "metadata": {},
   "outputs": [],
   "source": [
    "df['precos_otimizados'].mean()"
   ]
  },
  {
   "cell_type": "code",
   "execution_count": null,
   "id": "89f4e8af",
   "metadata": {},
   "outputs": [],
   "source": [
    "#df['margem_esperada_base_case'] = df['Demanda_base']*(df['premio']-df['Act_cost'])"
   ]
  },
  {
   "cell_type": "code",
   "execution_count": null,
   "id": "aa99af07",
   "metadata": {},
   "outputs": [],
   "source": [
    "df['fat_teste3']=df['fat_teste2']+df['elasticidade']"
   ]
  },
  {
   "cell_type": "code",
   "execution_count": null,
   "id": "062052f0",
   "metadata": {},
   "outputs": [],
   "source": [
    "df['fat_teste3'].mean()"
   ]
  },
  {
   "cell_type": "code",
   "execution_count": null,
   "id": "630da7d6",
   "metadata": {},
   "outputs": [],
   "source": [
    "print(df['IC_ofer_python_bin'].value_counts(ascending=False))"
   ]
  },
  {
   "cell_type": "code",
   "execution_count": null,
   "id": "9f10db14",
   "metadata": {},
   "outputs": [],
   "source": [
    "df_t = df.query('chave == 288900056083100001')\n",
    "df_t[[\"premio_anterior\",'elasticidade','elasticidade_bin',\"premio\",\"precos_otimizados\",\"Premium Parameter\",\"LB\",\"UB\",\"varia_prem_anterior_py\",\"varia_prem_ofer_py\"]]"
   ]
  },
  {
   "cell_type": "code",
   "execution_count": null,
   "id": "e637767e",
   "metadata": {},
   "outputs": [],
   "source": [
    "#df[['IC_ofer_python','fat_ajuste_otim',\"Demanda_base\",\"retencao_otimizada\",\"elasticidade\",\"premio_anterior\",\"premio\",\"precos_otimizados\",\"Premium Parameter\"]]"
   ]
  },
  {
   "cell_type": "code",
   "execution_count": null,
   "id": "93c0ffcf",
   "metadata": {},
   "outputs": [],
   "source": [
    "df['fat_teste'].describe()"
   ]
  },
  {
   "cell_type": "code",
   "execution_count": null,
   "id": "09df0994",
   "metadata": {},
   "outputs": [],
   "source": [
    "print(df['IC_ofer_eranix'].value_counts(ascending=False))"
   ]
  },
  {
   "cell_type": "code",
   "execution_count": null,
   "id": "26d2686b",
   "metadata": {},
   "outputs": [],
   "source": [
    "df['elasticidade_bin'].unique()"
   ]
  },
  {
   "cell_type": "code",
   "execution_count": null,
   "id": "cca4fccb",
   "metadata": {},
   "outputs": [],
   "source": [
    "df.groupby([\"elasticidade_bin\"])[\"retencao_otimizada\",\"precos_otimizados\"].describe().T"
   ]
  },
  {
   "cell_type": "code",
   "execution_count": null,
   "id": "2ac157eb",
   "metadata": {},
   "outputs": [],
   "source": [
    "df_ver.loc[1440:1459,[\"fat_teste0\",\"fat_teste1\",\"fat_teste\",'retencao_otimizada','Demanda_base','precos_otimizados','premio','elasticidade']]"
   ]
  },
  {
   "cell_type": "code",
   "execution_count": null,
   "id": "0bdecdfb",
   "metadata": {},
   "outputs": [],
   "source": [
    "(df['retencao_otimizada']/df['Demanda_base']-1) /(df['precos_otimizados']/df['premio']-1)"
   ]
  },
  {
   "cell_type": "code",
   "execution_count": null,
   "id": "c932a70c",
   "metadata": {},
   "outputs": [],
   "source": [
    "df[[\"precos_otimizados\",\"premio\"]].describe().T"
   ]
  },
  {
   "cell_type": "code",
   "execution_count": null,
   "id": "1d0f24ac",
   "metadata": {},
   "outputs": [],
   "source": [
    "df[[\"varia_prem_anterior\",\"varia_prem_ofer\",\"varia_prem_anterior_earnix\",\"varia_prem_ofer_earnix\"]].describe().T"
   ]
  },
  {
   "cell_type": "code",
   "execution_count": null,
   "id": "65497149",
   "metadata": {},
   "outputs": [],
   "source": [
    "#ver = df.query('varia_prem_ofer >= 1.1')\n",
    "#ver"
   ]
  },
  {
   "cell_type": "code",
   "execution_count": null,
   "id": "fa51229a",
   "metadata": {},
   "outputs": [],
   "source": [
    "#df_lote_otim_atu.groupby([\"Amostra\"])[\"Demanda_base\"].describe().T"
   ]
  },
  {
   "cell_type": "code",
   "execution_count": null,
   "id": "95693b3f",
   "metadata": {},
   "outputs": [],
   "source": [
    "ver[[\"premio_anterior\",\"premio\",\"precos_otimizados\",\"Premium Parameter\",\"LB\",\"UB\",\"varia_prem_anterior\",\"varia_prem_ofer\"]]"
   ]
  },
  {
   "cell_type": "code",
   "execution_count": null,
   "id": "a8ea8e4a",
   "metadata": {},
   "outputs": [],
   "source": [
    "#data =df[[\"IC_ofer_python\",\"elasticidade\"]]\n"
   ]
  },
  {
   "cell_type": "code",
   "execution_count": null,
   "id": "f38ec9fe",
   "metadata": {},
   "outputs": [],
   "source": [
    "#df[['premio','retencao_base_esperado','preco_otimizado','retencao_otimizada']]"
   ]
  },
  {
   "cell_type": "code",
   "execution_count": null,
   "id": "a7ac6a29",
   "metadata": {},
   "outputs": [],
   "source": [
    "#df#.to_csv(r'C:/Users/vcatelan/Documents/Scripts/dftocsv2.csv', sep='|', encoding='utf-8', header='true')\n",
    "#df.to_excel(r'df.xlsx', sep='|', encoding='utf-8', header='true')"
   ]
  },
  {
   "cell_type": "code",
   "execution_count": null,
   "id": "46aaae8c",
   "metadata": {},
   "outputs": [],
   "source": [
    " df['retencao_otimizada'].mean()"
   ]
  },
  {
   "cell_type": "markdown",
   "id": "11fa579c",
   "metadata": {},
   "source": [
    "#criando a função"
   ]
  },
  {
   "cell_type": "code",
   "execution_count": null,
   "id": "d04c3892",
   "metadata": {
    "scrolled": true
   },
   "outputs": [],
   "source": [
    "df_relatorio_otim = df.copy()\n",
    "\n",
    "#df_relatorio_otim['precos_otimizados'] = df_relatorio_otim['precos_otimizados']*1\n",
    "df_relatorio_otim['precos_otimizados'] = df_relatorio_otim['precos_otimizados']*df['fat_ajuste_otim']\n",
    "#df_relatorio_otim['precos_otimizados'] = df_relatorio_otim['precos_otimizados']*df_relatorio_otim['fator_retencao']*df['fat_ajuste_otim']\n",
    "\n",
    "\n",
    "df_relatorio_otim['batente_otim']=np.round(df_relatorio_otim['precos_otimizados']/df_relatorio_otim['premio'],2)\n",
    "df_relatorio_otim['batente_otim_prem_ant']=np.round(df_relatorio_otim['precos_otimizados']/df_relatorio_otim['premio_anterior'],2)\n",
    "\n",
    "df_relatorio_otim['retencao_otimizada'] = calcular_retencao(df_relatorio_otim['precos_otimizados'],X1,X2,X3,X4,X5,X6,X7,X8,X9,X10,X11,X12,X13,X14,X15,X16,X17,X18,X19,X20,X21,X22,X23,X24,X25,X26)\n",
    "\n",
    "\n",
    "df_relatorio_otim[\"per_com_pct\"] = df_relatorio_otim['per_com']/100\n",
    "df_relatorio_otim[\"premio_prob\"] = df_relatorio_otim[\"retencao_otimizada\"]*df_relatorio_otim[\"precos_otimizados\"]\n",
    "df_relatorio_otim[\"Act_cost_prob\"] = df_relatorio_otim[\"retencao_otimizada\"]*df_relatorio_otim[\"Act_cost\"]                                                                \n",
    "df_relatorio_otim[\"comissao_valor\"] = df_relatorio_otim[\"per_com_pct\"] *df_relatorio_otim[\"precos_otimizados\"]\n",
    "df_relatorio_otim[\"comissao_valor_prob\"] = df_relatorio_otim[\"per_com_pct\"]*df_relatorio_otim[\"premio_prob\"]\n",
    "\n",
    "df_relatorio_otim[\"premio_anterior_prob\"] = df_relatorio_otim[\"retencao_otimizada\"]*df_relatorio_otim[\"premio_anterior\"]\n",
    "\n",
    "comis_ofertado    = np.sum(df_relatorio_otim[\"comissao_valor\"])/np.sum(df_relatorio_otim[\"precos_otimizados\"])\n",
    "comis_esperado    = np.sum(df_relatorio_otim[\"comissao_valor_prob\"])/np.sum(df_relatorio_otim[\"premio_prob\"])\n",
    "\n",
    "premio_anterior_ofer    = np.mean(df_relatorio_otim[\"premio_anterior\"])\n",
    "premio_anterior_w   = np.sum(df_relatorio_otim[\"premio_anterior_prob\"])/np.sum(df_relatorio_otim[\"retencao_otimizada\"])\n",
    "\n",
    "df_relatorio_otim['var_prem_earnix_py'] = df_relatorio_otim['Premium Parameter']/df_relatorio_otim['precos_otimizados']\n",
    "\n",
    "df_relatorio_otim['comis_valor_py'] = df_relatorio_otim[\"per_com_pct\"]*df_relatorio_otim['precos_otimizados'] \n",
    "df_relatorio_otim['comis_valor_earnix'] =df_relatorio_otim[\"per_com_pct\"]*df_relatorio_otim['Premium Parameter'] \n",
    "df_relatorio_otim['DA_Ofer'] = 0.2749\n",
    "\n",
    "\n",
    "apolice_ofertada  = np.round(df_relatorio_otim.shape[0],0)\n",
    "apolice_estimada  = np.round(np.sum(df_relatorio_otim[\"retencao_otimizada\"]),0)\n",
    "premio_ofertado   = np.mean(df_relatorio_otim[\"precos_otimizados\"])\n",
    "retencao_estimada = np.mean(df_relatorio_otim[\"retencao_otimizada\"])\n",
    "premio_esperado   = np.sum(df_relatorio_otim[\"premio_prob\"])/np.sum(df_relatorio_otim[\"retencao_otimizada\"])\n",
    "risco_ofertado    = np.mean(df_relatorio_otim[\"Act_cost\"])\n",
    "risco_esperado    = np.sum(df_relatorio_otim[\"Act_cost_prob\"])/np.sum(df_relatorio_otim[\"retencao_otimizada\"])\n",
    "sp_ofertado       = np.sum(df_relatorio_otim[\"Act_cost\"])/np.sum(df_relatorio_otim[\"precos_otimizados\"])\n",
    "sp_esperado       = np.sum(df_relatorio_otim[\"Act_cost_prob\"])/np.sum(df_relatorio_otim[\"premio_prob\"])\n",
    "comis_ofertado    = np.sum(df_relatorio_otim[\"comissao_valor\"])/np.sum(df_relatorio_otim[\"precos_otimizados\"])\n",
    "comis_esperado    = np.sum(df_relatorio_otim[\"comissao_valor_prob\"])/np.sum(df_relatorio_otim[\"premio_prob\"])\n",
    "ic_ofertado       =  sp_ofertado  +  comis_ofertado + 0.2749\n",
    "ic_esperado       =  sp_esperado  +  comis_esperado + 0.2749\n",
    "\n",
    "\n",
    "print('Apolices Ofertadas: %s' % apolice_ofertada)\n",
    "print('Apolices Renovadas: %s' % apolice_estimada)\n",
    "print('premio_ofertado: %s' % np.round(premio_ofertado,2))\n",
    "print('retencao_estimada : %s' % np.round(retencao_estimada*100,2))\n",
    "print('premio_esperado\" : %s'  %np.round( premio_esperado,2))\n",
    "print('risco_ofertado\" : %s'  %  np.round(risco_ofertado,2))\n",
    "print('risco_esperado\" : %s'  %  np.round(risco_esperado,2))\n",
    "\n",
    "print('comis_ofertado\" : %s'  % np.round(comis_ofertado*100,2))\n",
    "print('comis_esperado\" : %s'  % np.round(comis_esperado*100,2))\n",
    "\n",
    "print('sp_ofertado\" : %s'  % np.round(sp_ofertado*100,2))\n",
    "print('sp_esperado\" : %s'  % np.round(sp_esperado*100,2))\n",
    "print('ic_ofertado\" : %s'  % np.round(ic_ofertado*100,2))\n",
    "print('ic_esperado\" : %s'  % np.round(ic_esperado*100,2))\n",
    "\n",
    "print('premio_anterior_ofer\" : %s'  %np.round( premio_anterior_ofer,2))\n",
    "print('premio_anterior_w\" : %s'  %np.round( premio_anterior_w,2))"
   ]
  },
  {
   "cell_type": "code",
   "execution_count": null,
   "id": "587247ea",
   "metadata": {},
   "outputs": [],
   "source": [
    "df_relatorio_otim['precos_otimizados'].mean()"
   ]
  },
  {
   "cell_type": "code",
   "execution_count": null,
   "id": "baa18be9",
   "metadata": {},
   "outputs": [],
   "source": [
    "df_relatorio_otim['batente_otim_prem_ant'].describe()"
   ]
  },
  {
   "cell_type": "code",
   "execution_count": null,
   "id": "9e658d65",
   "metadata": {},
   "outputs": [],
   "source": [
    "df_relatorio_otim['batente_otim'].describe()"
   ]
  },
  {
   "cell_type": "code",
   "execution_count": null,
   "id": "9a577709",
   "metadata": {},
   "outputs": [],
   "source": [
    "df_relatorio_otim['var_prem_earnix_py'].describe()"
   ]
  },
  {
   "cell_type": "code",
   "execution_count": null,
   "id": "50be3807",
   "metadata": {},
   "outputs": [],
   "source": [
    "df_t = df_relatorio_otim.query('chave == 288900056083100001')\n",
    "df_t[[\"premio_anterior\",'elasticidade','elasticidade_bin',\"premio\",\"precos_otimizados\",\"Premium Parameter\",\"LB\",\"UB\",\"varia_prem_anterior_py\",\"varia_prem_ofer_py\"]]"
   ]
  },
  {
   "cell_type": "code",
   "execution_count": null,
   "id": "bc5e4627",
   "metadata": {},
   "outputs": [],
   "source": [
    "df_export_analise_2 =df_relatorio_otim[[\"chave\",'IC_ofer_eranix','IC_ofer_python_bin','elasticidade','elasticidade_bin',\"Renovacao_ant\",\"flag_idade_ult_rns\",'comis_valor_py','comis_valor_earnix','DA_Ofer',\"Act_cost\",\"TARIFA\",\"premio_anterior\",\"per_com_pct\",\"precos_otimizados\",\"Premium Parameter\",\"varia_prem_py_earnix\",\"Demanda_base\",\"retencao_otimizada\",'Demanda_basecase',\"Renewal Demand\",\"IC_ofer_python\",\"IC_ofer_eranix\",\"varia_prem_anterior_py\",\"varia_prem_ofer_py\",\"varia_prem_anterior_earnix\",\"varia_prem_ofer_earnix\",\"SP_ofer_python\",\"SP_ofer_eranix\"]]\n",
    "#df_export_analise_2.columns.to_list()"
   ]
  },
  {
   "cell_type": "code",
   "execution_count": null,
   "id": "5e0cfade",
   "metadata": {},
   "outputs": [],
   "source": [
    "df_t = df_export_analise_2.query('chave == 288900056083100001')\n",
    "df_t[[\"premio_anterior\",'elasticidade','elasticidade_bin',\"precos_otimizados\",\"Premium Parameter\",\"varia_prem_anterior_py\",\"varia_prem_ofer_py\"]]"
   ]
  },
  {
   "cell_type": "code",
   "execution_count": null,
   "id": "ad32b8be",
   "metadata": {},
   "outputs": [],
   "source": [
    "df_export_analise_2.groupby([\"elasticidade_bin\"])[\"retencao_otimizada\",\"precos_otimizados\"].describe().T"
   ]
  },
  {
   "cell_type": "code",
   "execution_count": null,
   "id": "1d6701b6",
   "metadata": {},
   "outputs": [],
   "source": [
    "df_export_analise_2.to_csv(r'df_export_analise_3m.csv', sep='|' ,header='true')"
   ]
  },
  {
   "cell_type": "code",
   "execution_count": null,
   "id": "c7c849bd",
   "metadata": {},
   "outputs": [],
   "source": [
    "df.to_csv(r'analitico_202410_v1.csv', sep='|' ,header='true')"
   ]
  },
  {
   "cell_type": "code",
   "execution_count": null,
   "id": "a5e872d6",
   "metadata": {},
   "outputs": [],
   "source": [
    "df_relatorio_otim[['Demanda_base','retencao_otimizada','premio','preco_otimizado']]\n",
    ", sep='|', encoding='utf-8', header='true'"
   ]
  },
  {
   "cell_type": "code",
   "execution_count": null,
   "id": "fb3191b0",
   "metadata": {},
   "outputs": [],
   "source": [
    "prices_df = pd.DataFrame({\n",
    "    'chave': df_relatorio[\"chave\"],\n",
    "    'Act_cost':  df_relatorio[\"Act_cost\"],\n",
    "    'Premio ofertado com batente':  df_relatorio[\"Premio_oferecido_com_batente\"],\n",
    "    'Optimized Prices': df_relatorio[\"premio\"],\n",
    "    'lb_bound' : [b[0] for b in bounds],\n",
    "    'up_bound' : [b[1] for b in bounds],\n",
    "    'prob_est':         df_relatorio[\"prob_est\"],\n",
    "    'renewal demand':df_relatorio[\"demanda otimizada\"],\n",
    "    'variação':df_relatorio[\"premio\"]/df_relatorio[\"Premio_oferecido_com_batente\"]\n",
    "})\n",
    "prices_df.head(20)"
   ]
  },
  {
   "cell_type": "code",
   "execution_count": null,
   "id": "08b83503",
   "metadata": {},
   "outputs": [],
   "source": []
  },
  {
   "cell_type": "code",
   "execution_count": null,
   "id": "bf781707",
   "metadata": {},
   "outputs": [],
   "source": []
  },
  {
   "cell_type": "code",
   "execution_count": null,
   "id": "9e4c93d9",
   "metadata": {},
   "outputs": [],
   "source": []
  },
  {
   "cell_type": "code",
   "execution_count": null,
   "id": "1cc5192c",
   "metadata": {},
   "outputs": [],
   "source": []
  },
  {
   "cell_type": "code",
   "execution_count": null,
   "id": "05ba91e8",
   "metadata": {},
   "outputs": [],
   "source": []
  },
  {
   "cell_type": "code",
   "execution_count": null,
   "id": "7d0f35b0",
   "metadata": {},
   "outputs": [],
   "source": []
  },
  {
   "cell_type": "code",
   "execution_count": null,
   "id": "7abc3747",
   "metadata": {},
   "outputs": [],
   "source": [
    "df_teste = df"
   ]
  },
  {
   "cell_type": "code",
   "execution_count": null,
   "id": "066bbb55",
   "metadata": {},
   "outputs": [],
   "source": [
    "delta_q = (df_teste['retencao_otimizada']-df_teste['Demanda_base'])\n",
    "delta_p = (df_teste['precos_otimizados']-df_teste['premio'])\n",
    "   \n",
    "delta_q_b = ((df_teste['retencao_otimizada']+df_teste['Demanda_base'])/2)\n",
    "delta_p_b = ((df_teste['precos_otimizados']+df_teste['premio'])/2)\n",
    "\n",
    "df_teste[\"elasticidade\"] = (delta_q/delta_p)*(delta_p_b/delta_q_b)\n",
    "df_teste[\"elasticidade_2\"] = (df_teste['retencao_otimizada']/df_teste['Demanda_base']-1)/(df_teste['precos_otimizados']/df_teste['premio']-1)\n",
    "\n",
    "df_teste.replace([np.inf, -np.inf], -1, inplace=True)\n",
    "    \n",
    "df_teste['elasticidade_bin'] = pd.cut(x=df_teste['elasticidade'], bins=[-3.5,-2.5,-2,-1.5,-1,0])  \n",
    "\n",
    "\n",
    "df_teste[\"SP_ofer_python\"] = df_teste[\"Act_cost\"]/df_teste[\"precos_otimizados\"]\n",
    "df_teste[\"IC_ofer_python\"] = df_teste[\"per_com_pct\"]+ df_teste[\"SP_ofer_python\"] +  0.2749\n",
    "df_teste[\"SP_ofer_eranix\"] = df_teste[\"Act_cost\"]/df_teste[\"Premium Parameter\"]\n",
    "df_teste[\"IC_ofer_eranix\"] = df_teste[\"SP_ofer_eranix\"] + df_teste[\"per_com_pct\"]+  0.2749\n",
    "df_teste[\"varia_prem_anterior_py\"] = df_teste[\"precos_otimizados\"]/df_teste[\"premio_anterior\"]\n",
    "df_teste[\"varia_prem_anterior_earnix\"] = df_teste[\"Premium Parameter\"]/df_teste[\"premio_anterior\"]\n",
    "df_teste[\"varia_prem_ofer_py\"] = df_teste[\"precos_otimizados\"]/df_teste[\"premio\"]\n",
    "df_teste[\"varia_prem_ofer_earnix\"] = df_teste[\"Premium Parameter\"]/df_teste[\"premio\"]\n",
    "df_teste[\"varia_prem_py_earnix\"] = df_teste[\"precos_otimizados\"]/df_teste[\"Premium Parameter\"]\n",
    "\n",
    "df_teste['IC_ofer_python_bin'] = pd.cut(x=df_teste['IC_ofer_python'], bins=[0.7,0.95,0.99,1,1.03,1.9])  \n",
    "df_teste['IC_ofer_eranix'] = pd.cut(x=df_teste['IC_ofer_eranix'], bins=[0.7,0.95,0.99,1,1.03,1.9]) \n"
   ]
  },
  {
   "cell_type": "code",
   "execution_count": null,
   "id": "90cfeee1",
   "metadata": {},
   "outputs": [],
   "source": [
    "df['fat_ajuste_otim'] = 1.0  \n",
    "\n",
    "for index, row in df.iterrows():\n",
    "    if row['IC_ofer_python'] <= 0.95:\n",
    "        if row['elasticidade']   <= -2.5:\n",
    "            df.at[index, 'fat_ajuste_otim'] = 0.96\n",
    "        elif row['elasticidade'] <= -2.0:\n",
    "            df.at[index, 'fat_ajuste_otim'] = 0.96\n",
    "        elif row['elasticidade'] <= -1.5:\n",
    "            df.at[index, 'fat_ajuste_otim'] = 0.975\n",
    "        elif row['elasticidade'] <= -1:\n",
    "            df.at[index, 'fat_ajuste_otim'] = 0.98\n",
    "        elif row['elasticidade'] <= 0:\n",
    "            df.at[index, 'fat_ajuste_otim'] = 0.97\n",
    "            \n",
    "    elif row['IC_ofer_python']<= 0.99:\n",
    "        if row['elasticidade']   <= -2.5:\n",
    "            df.at[index, 'fat_ajuste_otim'] = 0.976\n",
    "        elif row['elasticidade'] <= -2.0:\n",
    "            df.at[index, 'fat_ajuste_otim'] = 0.975\n",
    "        elif row['elasticidade'] <= -1.5:\n",
    "            df.at[index, 'fat_ajuste_otim'] = 0.975\n",
    "        elif row['elasticidade'] <= -1:\n",
    "            df.at[index, 'fat_ajuste_otim'] = 0.975\n",
    "        elif row['elasticidade'] <= 0:\n",
    "            df.at[index, 'fat_ajuste_otim'] = 0.972\n",
    "            \n",
    "             \n",
    "    elif row['IC_ofer_python']<= 1:\n",
    "        if row['elasticidade']   <= -2.5:\n",
    "            df.at[index, 'fat_ajuste_otim'] = 0.991\n",
    "        elif row['elasticidade'] <= -2.0:\n",
    "            df.at[index, 'fat_ajuste_otim'] = 0.994\n",
    "        elif row['elasticidade'] <= -1.5:\n",
    "            df.at[index, 'fat_ajuste_otim'] = 0.995\n",
    "        elif row['elasticidade'] <= -1:\n",
    "            df.at[index, 'fat_ajuste_otim'] = 0.995\n",
    "        elif row['elasticidade'] <= 0:\n",
    "            df.at[index, 'fat_ajuste_otim'] = 0.999           \n",
    "            \n",
    "            \n",
    "            \n",
    "    elif row['IC_ofer_python']<= 1.03:\n",
    "        if row['elasticidade'] <= -2.5:\n",
    "            df.at[index, 'fat_ajuste_otim'] = 1.014\n",
    "        elif row['elasticidade'] <= -2.0:\n",
    "            df.at[index, 'fat_ajuste_otim'] = 1.016\n",
    "        elif row['elasticidade'] <= -1.5:\n",
    "            df.at[index, 'fat_ajuste_otim'] = 1.013\n",
    "        elif row['elasticidade'] <= -1:\n",
    "            df.at[index, 'fat_ajuste_otim'] = 1.015\n",
    "        elif row['elasticidade'] <= 0:\n",
    "            df.at[index, 'fat_ajuste_otim'] = 1.018              \n",
    "            \n",
    "    elif row['IC_ofer_python']<= 3:\n",
    "        if row['elasticidade'] <= -2.5:\n",
    "            df.at[index, 'fat_ajuste_otim'] = 1.026\n",
    "        elif row['elasticidade'] <= -2.0:\n",
    "            df.at[index, 'fat_ajuste_otim'] = 1.026\n",
    "        elif row['elasticidade'] <= -1.5:\n",
    "            df.at[index, 'fat_ajuste_otim'] = 1.026\n",
    "        elif row['elasticidade'] <= -1:\n",
    "            df.at[index, 'fat_ajuste_otim'] = 1.02\n",
    "        elif row['elasticidade'] <= 0:\n",
    "            df.at[index, 'fat_ajuste_otim'] = 1.04 "
   ]
  }
 ],
 "metadata": {
  "kernelspec": {
   "display_name": "Python 3 (ipykernel)",
   "language": "python",
   "name": "python3"
  },
  "language_info": {
   "codemirror_mode": {
    "name": "ipython",
    "version": 3
   },
   "file_extension": ".py",
   "mimetype": "text/x-python",
   "name": "python",
   "nbconvert_exporter": "python",
   "pygments_lexer": "ipython3",
   "version": "3.10.9"
  }
 },
 "nbformat": 4,
 "nbformat_minor": 5
}
