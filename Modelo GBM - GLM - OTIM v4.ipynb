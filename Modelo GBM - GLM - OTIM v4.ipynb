{
 "cells": [
  {
   "cell_type": "code",
   "execution_count": 1,
   "id": "4317d284",
   "metadata": {},
   "outputs": [],
   "source": [
    "import pandas as pd\n",
    "import seaborn as sns\n",
    "import matplotlib.pyplot as plt\n",
    "import numpy as np\n",
    "\n",
    "from scipy.optimize import minimize\n",
    "\n",
    "from sklearn.preprocessing import LabelEncoder\n",
    "from sklearn.model_selection import train_test_split\n",
    "from sklearn import metrics\n",
    "from sklearn.preprocessing import StandardScaler\n",
    "\n",
    "from sklearn.tree import DecisionTreeRegressor\n",
    "from sklearn.ensemble import RandomForestRegressor\n",
    "import xgboost as xgb\n",
    "from sklearn.metrics import mean_squared_error, mean_absolute_error, r2_score\n",
    "from sklearn.linear_model import LinearRegression\n",
    "\n",
    "from numpy import asarray\n",
    "from sklearn.preprocessing import OrdinalEncoder\n",
    "\n",
    "import warnings\n",
    "warnings.filterwarnings('ignore')\n"
   ]
  },
  {
   "cell_type": "code",
   "execution_count": 121,
   "id": "4079b7c1",
   "metadata": {},
   "outputs": [
    {
     "data": {
      "text/plain": [
       "(96586, 36)"
      ]
     },
     "execution_count": 121,
     "metadata": {},
     "output_type": "execute_result"
    }
   ],
   "source": [
    "mercado_df = pd.read_csv(\"C://Flavio/Projeto Otimizacao/Modelo Mercado/data_consolidado_final_jun24.csv\",\n",
    "                     encoding='latin-1',\n",
    "                     delimiter=';')\n",
    "mercado_df.shape"
   ]
  },
  {
   "cell_type": "code",
   "execution_count": 122,
   "id": "657a9acc",
   "metadata": {},
   "outputs": [
    {
     "data": {
      "text/plain": [
       "(93838, 36)"
      ]
     },
     "execution_count": 122,
     "metadata": {},
     "output_type": "execute_result"
    }
   ],
   "source": [
    "mercado_df = mercado_df[(~mercado_df.Grupo_veiculo_new.isin(['ARRIZO',\n",
    "'Chery Passeio',   'Chery Tiggo'   , 'Erro'  ,'Kia Cerato','Kia Picanto' ,'Kia Sorento'  ,'Kia Soul' ,\n",
    "'Kia Sportage'  ,'Rio']))]\n",
    "\n",
    "mercado_df = mercado_df[(~mercado_df.fabrica.isin(['BYD','CAOA CHERY','GWM','KIA MOTORS','LEXUS']))]\n",
    "\n",
    "mercado_df = mercado_df[(~mercado_df.idade_ult_RNS.isin(['_03 ou+ anos']))]\n",
    "mercado_df.shape"
   ]
  },
  {
   "cell_type": "code",
   "execution_count": 123,
   "id": "a6ee281c",
   "metadata": {},
   "outputs": [],
   "source": [
    "df_mod=mercado_df[[\"premio_total_liq_cap\",\"ano_mod_conv\",\"classe_bonus\",\n",
    "                   \"idade\",\"is_casco\",\"is_dmoral\",\"is_rcdc\",\"is_rcdm\",\n",
    "                   \"RNS_Casco_calc\",\n",
    "                   \"Grupo_veiculo_new\", \"fabrica\",\"idade_ult_RNS\",\"md_categoria\",\n",
    "                   \"MD_comb\",\"md_config\",\"MD_franquia\",\"md_menor26\",\"md_sexo\",\n",
    "                   \"MD_Subzona\",\"md_tipo_renov\",\"MD_uso_veic\",\"uf\"]]\n",
    "\n",
    "df_mod.rename(columns={'premio_total_liq_cap':'premio_ofertado', 'ano_mod_conv': 'ano_mod'},inplace=True)"
   ]
  },
  {
   "cell_type": "code",
   "execution_count": 124,
   "id": "044b7592",
   "metadata": {},
   "outputs": [],
   "source": [
    "x_df_num = df_mod[['ano_mod', 'classe_bonus', 'idade', 'is_casco', 'is_dmoral', 'is_rcdc', 'is_rcdm', 'RNS_Casco_calc']]\n",
    "x_df_num = x_df_num.fillna(0)\n",
    "x_df_cat = df_mod[['Grupo_veiculo_new', 'fabrica', 'idade_ult_RNS', 'md_categoria', 'MD_comb', 'md_config', 'MD_franquia', 'md_menor26', 'md_sexo', 'MD_Subzona','md_tipo_renov', 'MD_uso_veic','uf']]\n",
    "y   = df_mod[['premio_ofertado']]\n",
    "#x_df_cat_ordinal = encoder.fit_transform(x_df_cat)\n",
    "#x_df_cat_ordinal = pd.DataFrame(x_df_cat_ordinal)\n",
    "x_df_dummy=pd.get_dummies(x_df_cat)\n",
    "#x_df=pd.concat([x_df_num, x_df_cat_ordinal],axis=1)\n",
    "x_df=pd.concat([x_df_num, x_df_dummy],axis=1)\n",
    "x_train, x_test, y_train, y_test = train_test_split(x_df, y, test_size=0.2) "
   ]
  },
  {
   "cell_type": "code",
   "execution_count": 125,
   "id": "780a715c",
   "metadata": {},
   "outputs": [
    {
     "data": {
      "text/plain": [
       "(93838, 519)"
      ]
     },
     "execution_count": 125,
     "metadata": {},
     "output_type": "execute_result"
    }
   ],
   "source": [
    "x_df.shape"
   ]
  },
  {
   "cell_type": "code",
   "execution_count": 118,
   "id": "50d6370f",
   "metadata": {},
   "outputs": [],
   "source": [
    "#x_df.columns.to_list()"
   ]
  },
  {
   "cell_type": "code",
   "execution_count": 126,
   "id": "dd333925",
   "metadata": {},
   "outputs": [
    {
     "data": {
      "text/plain": [
       "Index([], dtype='object')"
      ]
     },
     "execution_count": 126,
     "metadata": {},
     "output_type": "execute_result"
    }
   ],
   "source": [
    "x_df_num.columns[x_df_num.isnull().any()]"
   ]
  },
  {
   "cell_type": "code",
   "execution_count": 127,
   "id": "d8aec5f9",
   "metadata": {},
   "outputs": [
    {
     "data": {
      "text/plain": [
       "Index([], dtype='object')"
      ]
     },
     "execution_count": 127,
     "metadata": {},
     "output_type": "execute_result"
    }
   ],
   "source": [
    "x_df_cat.columns[x_df_cat.isnull().any()]"
   ]
  },
  {
   "cell_type": "markdown",
   "id": "f34c6ec6",
   "metadata": {},
   "source": [
    "%%time\n",
    "from sklearn.ensemble import GradientBoostingRegressor\n",
    "# inicia o modelo GBM\n",
    "gbm = GradientBoostingRegressor(n_estimators=100,\n",
    "                                max_leaf_nodes=32,\n",
    "                                learning_rate=0.1, \n",
    "                                random_state=42)\n",
    "\n",
    "# Treina o modelo\n",
    "gbm.fit(x_train, y_train)\n",
    "\n",
    "# previsão\n",
    "y_pred = gbm.predict(x_test)\n",
    "\n",
    "# Evaluate the model\n",
    "\n",
    "print(\"Premio Estimado Médio: %.2f\" % np.mean(y_pred) )\n",
    "# checando a acurácia\n",
    "mse = mean_squared_error(y_test, y_pred)\n",
    "rmse = mse**(0.5)\n",
    "print(\"MSE: %.2f\" % mse)\n",
    "print(\"RMSE: %.2f\" % rmse) "
   ]
  },
  {
   "cell_type": "code",
   "execution_count": null,
   "id": "b7d3c96d",
   "metadata": {},
   "outputs": [],
   "source": [
    "#import pickle\n",
    "# saving\n",
    "#model_pkl_file = \"mercado_model.pkl\"  \n",
    "#with open(model_pkl_file, 'wb') as file:  \n",
    "#pickle.dump(gbm, file)"
   ]
  },
  {
   "cell_type": "code",
   "execution_count": null,
   "id": "47af7d35",
   "metadata": {},
   "outputs": [],
   "source": [
    "# load model from pickle file\n",
    "#with open(model_pkl_file, 'rb') as file:  \n",
    "#model = pickle.load(file)"
   ]
  },
  {
   "cell_type": "code",
   "execution_count": null,
   "id": "1af37148",
   "metadata": {},
   "outputs": [],
   "source": [
    "#model = pickle.load(open(\"mercado_model\", \"rb\"))"
   ]
  },
  {
   "cell_type": "code",
   "execution_count": null,
   "id": "15b8e6de",
   "metadata": {},
   "outputs": [],
   "source": [
    "#cols_when_model_builds = gbm.get_booster().feature_names"
   ]
  },
  {
   "cell_type": "code",
   "execution_count": 128,
   "id": "b9e815d5",
   "metadata": {},
   "outputs": [
    {
     "name": "stdout",
     "output_type": "stream",
     "text": [
      "Premio Estimado Médio: 2621.76\n",
      "MSE: 595044.21\n",
      "RMSE: 771.39\n"
     ]
    }
   ],
   "source": [
    "import lightgbm as lgb\n",
    "params = {\n",
    "    'task': 'train', \n",
    "    'boosting': 'gbdt',\n",
    "    'objective': 'regression',\n",
    "    'n_estimators':100,\n",
    "    'num_leaves': 50,\n",
    "    'min_depth': 5,\n",
    "    'max_depth': 5,\n",
    "    'learnnig_rage': 0.1,\n",
    "    'metric': {'l2','l1'},\n",
    "    'verbose': -1\n",
    "}\n",
    "\n",
    "lgb_train = lgb.Dataset(x_train, y_train)\n",
    "lgb_eval  = lgb.Dataset(x_test, y_test, reference=lgb_train)\n",
    "\n",
    "model_gbm = lgb.train(params,\n",
    "                 train_set=lgb_train,\n",
    "                 valid_sets=lgb_eval)\n",
    "\n",
    "y_pred = model_gbm.predict(x_test)\n",
    "print(\"Premio Estimado Médio: %.2f\" % np.mean(y_pred) )\n",
    "# accuracy check\n",
    "mse = mean_squared_error(y_test, y_pred)\n",
    "rmse = mse**(0.5)\n",
    "print(\"MSE: %.2f\" % mse)\n",
    "print(\"RMSE: %.2f\" % rmse) "
   ]
  },
  {
   "cell_type": "markdown",
   "id": "a5e0e9c4",
   "metadata": {},
   "source": [
    "## modelagem GLM"
   ]
  },
  {
   "cell_type": "code",
   "execution_count": 174,
   "id": "628b03c6",
   "metadata": {},
   "outputs": [
    {
     "name": "stdout",
     "output_type": "stream",
     "text": [
      "CPU times: total: 6.06 s\n",
      "Wall time: 7.19 s\n"
     ]
    },
    {
     "data": {
      "text/plain": [
       "(571594, 105)"
      ]
     },
     "execution_count": 174,
     "metadata": {},
     "output_type": "execute_result"
    }
   ],
   "source": [
    "%%time\n",
    "df_mod_mp_feb23may24_v3 = pd.read_csv(\"C://Flavio/Projeto Otimizacao/Modelo Renovacao/df_mod_mp_feb23may24_v3.csv\",\n",
    "                     encoding='latin-1',\n",
    "                     delimiter='|')\n",
    "\n",
    "df_mod_mp_feb23may24_v3.shape"
   ]
  },
  {
   "cell_type": "code",
   "execution_count": 175,
   "id": "a1e496d0",
   "metadata": {},
   "outputs": [
    {
     "data": {
      "text/plain": [
       "(571594, 105)"
      ]
     },
     "execution_count": 175,
     "metadata": {},
     "output_type": "execute_result"
    }
   ],
   "source": [
    "df_mod_mp_feb23may24_v3.shape"
   ]
  },
  {
   "cell_type": "code",
   "execution_count": 176,
   "id": "f73168dc",
   "metadata": {},
   "outputs": [],
   "source": [
    "#df_mod_mp_feb23may24_v3.columns.to_list()"
   ]
  },
  {
   "cell_type": "code",
   "execution_count": 177,
   "id": "14f854fe",
   "metadata": {},
   "outputs": [
    {
     "data": {
      "text/plain": [
       "(377345, 105)"
      ]
     },
     "execution_count": 177,
     "metadata": {},
     "output_type": "execute_result"
    }
   ],
   "source": [
    "df_mod_mp_feb23may24_v3 = df_mod_mp_feb23may24_v3[(~df_mod_mp_feb23may24_v3.Grupo_veiculo_new.isin(['BWM X',\n",
    "'Blindados',\n",
    "'Chevrolet Astra Sedan',\n",
    "'Chrysler Passeio',\n",
    "'Citroen Antigo',\n",
    "'Citroen Xsara Picasso',\n",
    "'Dodge Journey',\n",
    "'Esportivo Porsche',\n",
    "'Fiat ANTIGOS',\n",
    "'Fiat Ducato',\n",
    "'Fiat Ducato Furgao',\n",
    "'Fiat Palio Antigo',\n",
    "'Fiat Stilo',\n",
    "'Ford Sedans Antigos',\n",
    "'Hyundai Sonata',\n",
    "'Hyundai Veloster',\n",
    "'Hyundai Vera Cruz',\n",
    "'IEV',\n",
    "'JAC J2',\n",
    "'JAC J3 Hatch',\n",
    "'JAC J3 Sedan',\n",
    "'JAC T',\n",
    "'Kia Sportage Antigo',\n",
    "'Lifan Passeio',\n",
    "'Lifan X',\n",
    "'MB Classe B',\n",
    "'MB Linha E',\n",
    "'MB Linha S',\n",
    "'MB Sprinter Furgão',\n",
    "'MB Sprinter Van',\n",
    "'Nissan Tiida',\n",
    "'Peugeot 106/205/206',\n",
    "'Peugeot Hoggar',\n",
    "'Pickup Nacional',\n",
    "'Smart Fortwo',\n",
    "'Troller T-4',\n",
    "'VW Bora',\n",
    "'VW Gol 1.8',\n",
    "'VW Kombi',\n",
    "'VW Parati',\n",
    "'VW Passat',\n",
    "'VW Santana',\n",
    "'VW Saveiro Antigo',\n",
    "'Van Importada',\n",
    "]))]\n",
    "\n",
    "df_mod_mp_feb23may24_v3 = df_mod_mp_feb23may24_v3[(~df_mod_mp_feb23may24_v3.FABRICA.isin(['CHERY',\n",
    "'CHRYSLER','DEMAIS','DODGE','JAC MOTORS','KIA','LIFAN','PORSCHE','SMART','SSANGYONG','TROLLER']))]\n",
    "\n",
    "\n",
    "df_mod_mp_feb23may24_v3 = df_mod_mp_feb23may24_v3[(~df_mod_mp_feb23may24_v3.idade_ult_RNS.isin([\n",
    "'03 anos','04 anos','05 anos','06 anos','07 anos','08 anos','09 anos','10 ou +']))]\n",
    "\n",
    "\n",
    "df_mod_mp_feb23may24_v3 = df_mod_mp_feb23may24_v3[(~df_mod_mp_feb23may24_v3.md_categoria.isin([\n",
    "'Pickup Leve Importado']))]\n",
    "\n",
    "df_mod_mp_feb23may24_v3 = df_mod_mp_feb23may24_v3[(~df_mod_mp_feb23may24_v3.MD_franquia.isin([\n",
    "'ERRO']))]\n",
    "\n",
    "df_mod_mp_feb23may24_v3 = df_mod_mp_feb23may24_v3[(~df_mod_mp_feb23may24_v3.MD_menor26.isin([\n",
    "'ERR']))]\n",
    "\n",
    "df_mod_mp_feb23may24_v3 = df_mod_mp_feb23may24_v3[(~df_mod_mp_feb23may24_v3.MD_sexo.isin([\n",
    "'ERRO']))]\n",
    "\n",
    "\n",
    "df_mod_mp_feb23may24_v3 = df_mod_mp_feb23may24_v3[(~df_mod_mp_feb23may24_v3.MD_Subzona.isin([\n",
    "'88400-SERTAO PERNAMBUCANO']))]\n",
    "\n",
    "\n",
    "df_mod_mp_feb23may24_v3 = df_mod_mp_feb23may24_v3[(~df_mod_mp_feb23may24_v3.MD_uso_veic.isin([\n",
    "'Aluguel e Frete',\n",
    "'Ambulância',\n",
    "'Bar/Lanchonete',\n",
    "'ERRO',\n",
    "'Escolares',\n",
    "'Funerárias',\n",
    "'Lotações',\n",
    "'Transporte de Carga',\n",
    "'Transporte de Funcionarios',\n",
    "'Turismos',\n",
    "]))]\n",
    "\n",
    "\n",
    "df_mod_mp_feb23may24_v3 = df_mod_mp_feb23may24_v3[(~df_mod_mp_feb23may24_v3.UF.isin([\n",
    "'ND',]))]\n",
    "\n",
    "\n",
    "df_mod_mp_feb23may24_v3.shape\n"
   ]
  },
  {
   "cell_type": "code",
   "execution_count": null,
   "id": "c7997424",
   "metadata": {},
   "outputs": [],
   "source": [
    "#sp = df_mod_mp_feb23may24_v3[df_mod_mp_feb23may24_v3['UF'] == 'SP']\n"
   ]
  },
  {
   "cell_type": "code",
   "execution_count": null,
   "id": "86434b2b",
   "metadata": {},
   "outputs": [],
   "source": [
    "#hilux = sp[sp['Grupo_veiculo_new'].isin([\"Toyota Hilux CD\",\"Toyota Hilux CS\",\"Toyota Hilux SW4\"])]"
   ]
  },
  {
   "cell_type": "code",
   "execution_count": null,
   "id": "2ba81855",
   "metadata": {},
   "outputs": [],
   "source": [
    "#sp_sem_hilux = sp[~sp['Grupo_veiculo_new'].isin([\"Toyota Hilux CD\",\"Toyota Hilux CS\",\"Toyota Hilux SW4\"])]\n"
   ]
  },
  {
   "cell_type": "markdown",
   "id": "7f91d40c",
   "metadata": {},
   "source": [
    "parte para incluir o preço do mercado na base de modelagem glm"
   ]
  },
  {
   "cell_type": "code",
   "execution_count": 178,
   "id": "c578c6e8",
   "metadata": {},
   "outputs": [],
   "source": [
    "colunas=['premio_ofertado','ano_mod','classe_bonus','MD_idade','is_casco_ofer','is_dmoral','is_rcdc','is_rcdm','RNS_Casco_calc',\n",
    " 'Grupo_veiculo_new','FABRICA','idade_ult_RNS', 'md_categoria','MD_comb','MD_config','MD_franquia','MD_menor26','MD_sexo','MD_Subzona',  \n",
    " 'MD_tipo_renov','MD_uso_veic','UF','per_com','Renovacao_ant','MD_est_civil','peso','premio_total','vigencia','premio_creserva',\n",
    "        'anomes_dt_ter','teste_validacao']"
   ]
  },
  {
   "cell_type": "code",
   "execution_count": 179,
   "id": "63db9212",
   "metadata": {},
   "outputs": [],
   "source": [
    "df_escorar_gbm=df_mod_mp_feb23may24_v3[colunas]\n",
    "#df_escorar_gbm = df_mod_mp_feb23may24_v3.copy()"
   ]
  },
  {
   "cell_type": "code",
   "execution_count": 180,
   "id": "6c191d45",
   "metadata": {},
   "outputs": [
    {
     "data": {
      "text/plain": [
       "(377345, 31)"
      ]
     },
     "execution_count": 180,
     "metadata": {},
     "output_type": "execute_result"
    }
   ],
   "source": [
    "df_escorar_gbm.shape"
   ]
  },
  {
   "cell_type": "code",
   "execution_count": 181,
   "id": "cd73648b",
   "metadata": {},
   "outputs": [
    {
     "data": {
      "text/plain": [
       "(231857, 31)"
      ]
     },
     "execution_count": 181,
     "metadata": {},
     "output_type": "execute_result"
    }
   ],
   "source": [
    "df_escorar_gbm = df_escorar_gbm[df_escorar_gbm['per_com'].notna()]\n",
    "df_escorar_gbm = df_escorar_gbm[df_escorar_gbm['Renovacao_ant'].notna()]\n",
    "df_escorar_gbm = df_escorar_gbm[df_escorar_gbm['MD_est_civil'].notna()]\n",
    "df_escorar_gbm = df_escorar_gbm[df_escorar_gbm['peso'].notna()]\n",
    "df_escorar_gbm = df_escorar_gbm.query('premio_total !=0')\n",
    "df_escorar_gbm = df_escorar_gbm.query('vigencia == \"Anual\"')\n",
    "df_escorar_gbm = df_escorar_gbm.query('premio_creserva >= 0')\n",
    "df_escorar_gbm = df_escorar_gbm[~df_escorar_gbm['anomes_dt_ter'].isin([202310,202309,202308,202302,202402])]\n",
    "df_escorar_gbm = df_escorar_gbm.query('is_casco_ofer > 0')\n",
    "df_escorar_gbm = df_escorar_gbm[(df_escorar_gbm['per_com']>0) & (df_escorar_gbm['per_com']<50)]\n",
    "df_escorar_gbm = df_escorar_gbm.query('premio_total >100')\n",
    "df_escorar_gbm = df_escorar_gbm.query('MD_idade !=\"ERRO\"')\n",
    "df_escorar_gbm = df_escorar_gbm[(df_escorar_gbm.UF != \"SP\") | (~df_escorar_gbm.Grupo_veiculo_new.isin([\"Toyota Hilux CD\",\"Toyota Hilux CS\",\"Toyota Hilux SW4\"]))]\n",
    "df_escorar_gbm = df_escorar_gbm[(df_escorar_gbm.premio_ofertado/df_escorar_gbm.premio_total <=2.3) &  (df_escorar_gbm.premio_ofertado/df_escorar_gbm.premio_total>=0.7)]\n",
    "df_escorar_gbm.query('teste_validacao == \"Trein\"')\n",
    "df_escorar_gbm.shape"
   ]
  },
  {
   "cell_type": "code",
   "execution_count": 182,
   "id": "ce3bdcff",
   "metadata": {},
   "outputs": [],
   "source": [
    "df_escorar_gbm.rename(columns={'MD_idade':'idade', \n",
    "                                   'is_casco_ofer': 'is_casco',\n",
    "                                   'FABRICA': 'fabrica',\n",
    "                                   'MD_config':  'md_config',\n",
    "                                   'MD_menor26': 'md_menor26',\n",
    "                                   'MD_sexo': 'md_sexo',\n",
    "                                   'UF': 'uf',\n",
    "                                   'MD_tipo_renov':  'md_tipo_renov'},inplace=True)\n",
    "df_escorar_gbm['idade'] = pd.to_numeric(df_escorar_gbm['idade'], errors='coerce')"
   ]
  },
  {
   "cell_type": "code",
   "execution_count": 183,
   "id": "499c39a0",
   "metadata": {},
   "outputs": [],
   "source": [
    "df_num = df_escorar_gbm[['ano_mod', 'classe_bonus', 'idade', 'is_casco', 'is_dmoral', 'is_rcdc', 'is_rcdm', 'RNS_Casco_calc']]\n",
    "x_df_num = x_df_num.fillna(0)\n",
    "df_cat = df_escorar_gbm[['Grupo_veiculo_new', 'fabrica', 'idade_ult_RNS', 'md_categoria', 'MD_comb', 'md_config', 'MD_franquia', 'md_menor26', 'md_sexo', 'MD_Subzona','md_tipo_renov', 'MD_uso_veic','uf']]\n",
    "df_cat_glm=pd.get_dummies(df_cat)\n",
    "#df_cat_glm2=pd.get_dummies(df_cat)\n",
    "df_cat_glm=pd.concat([df_num, df_cat_glm],axis=1)\n",
    "#df_cat_glm2=pd.concat([df_escorar_gbm, df_cat_glm2],axis=1)\n",
    "\n",
    "#GBM_mercado = gbm.predict(df_cat_glm, predict_disable_shape_check=True)"
   ]
  },
  {
   "cell_type": "code",
   "execution_count": 184,
   "id": "e553d21a",
   "metadata": {},
   "outputs": [
    {
     "data": {
      "text/plain": [
       "(231857, 616)"
      ]
     },
     "execution_count": 184,
     "metadata": {},
     "output_type": "execute_result"
    }
   ],
   "source": [
    "df_cat_glm2.shape"
   ]
  },
  {
   "cell_type": "code",
   "execution_count": 120,
   "id": "f8c1dbe3",
   "metadata": {},
   "outputs": [],
   "source": [
    "#df_cat_glm.columns.to_list()"
   ]
  },
  {
   "cell_type": "code",
   "execution_count": 140,
   "id": "f3e35ba6",
   "metadata": {},
   "outputs": [],
   "source": [
    "#GBM_mercado = model_gbm.predict(df_cat_glm, predict_disable_shape_check=True)"
   ]
  },
  {
   "cell_type": "code",
   "execution_count": 186,
   "id": "d4cd8724",
   "metadata": {},
   "outputs": [
    {
     "data": {
      "text/plain": [
       "2571.7709049885116"
      ]
     },
     "execution_count": 186,
     "metadata": {},
     "output_type": "execute_result"
    }
   ],
   "source": [
    "GBM_mercado = model_gbm.predict(df_cat_glm)\n",
    "np.average(GBM_mercado)"
   ]
  },
  {
   "cell_type": "code",
   "execution_count": 188,
   "id": "24555f44",
   "metadata": {},
   "outputs": [
    {
     "data": {
      "text/plain": [
       "(231857, 32)"
      ]
     },
     "execution_count": 188,
     "metadata": {},
     "output_type": "execute_result"
    }
   ],
   "source": [
    "df_escorar_gbm['GBM_mercado']=GBM_mercado\n",
    "df_escorar_gbm.shape"
   ]
  },
  {
   "cell_type": "markdown",
   "id": "c798bf0a",
   "metadata": {},
   "source": [
    "#### prepara base de modelagem glm"
   ]
  },
  {
   "cell_type": "code",
   "execution_count": 189,
   "id": "b717c29c",
   "metadata": {},
   "outputs": [
    {
     "ename": "KeyError",
     "evalue": "\"['premio_demais_cob', 'ind_renovacao', 'MD_sexo', 'cod_corr', 'Cod_End', 'MD_sin_5a_cas', 'MD_tempo_casa_2', 'MD_idade_veic', 'MD_faixa_IScas', 'MD_idade', 'MD_menor26', 'UF', 'fx_ir_12m', 'is_casco_ofer', 'MD_fator_ajuste', 'MD_capac', 'MD_qtd_assis_cpf', 'canal', 'MD_tipo_renov', 'FABRICA', 'Risco_PP_mod', 'Risco_PT_mod', 'Risco_RF_mod', 'Risco_DM_mod', 'Risco_AS_mod', 'Risco_DC_mod', 'Risco_DMO_mod'] not in index\"",
     "output_type": "error",
     "traceback": [
      "\u001b[1;31m---------------------------------------------------------------------------\u001b[0m",
      "\u001b[1;31mKeyError\u001b[0m                                  Traceback (most recent call last)",
      "Cell \u001b[1;32mIn[189], line 1\u001b[0m\n\u001b[1;32m----> 1\u001b[0m df_mod_filtered\u001b[38;5;241m=\u001b[39m\u001b[43mdf_escorar_gbm\u001b[49m\u001b[43m[\u001b[49m\u001b[43m[\u001b[49m\u001b[38;5;124;43m\"\u001b[39;49m\u001b[38;5;124;43mpremio_ofertado\u001b[39;49m\u001b[38;5;124;43m\"\u001b[39;49m\u001b[43m,\u001b[49m\u001b[38;5;124;43m\"\u001b[39;49m\u001b[38;5;124;43mpremio_total\u001b[39;49m\u001b[38;5;124;43m\"\u001b[39;49m\u001b[43m,\u001b[49m\u001b[38;5;124;43m'\u001b[39;49m\u001b[38;5;124;43mGBM_mercado\u001b[39;49m\u001b[38;5;124;43m'\u001b[39;49m\u001b[43m,\u001b[49m\u001b[43m \u001b[49m\u001b[38;5;124;43m'\u001b[39;49m\u001b[38;5;124;43mpremio_creserva\u001b[39;49m\u001b[38;5;124;43m'\u001b[39;49m\u001b[43m,\u001b[49m\u001b[38;5;124;43m'\u001b[39;49m\u001b[38;5;124;43mpremio_demais_cob\u001b[39;49m\u001b[38;5;124;43m'\u001b[39;49m\u001b[43m,\u001b[49m\u001b[38;5;124;43m\"\u001b[39;49m\u001b[38;5;124;43mteste_validacao\u001b[39;49m\u001b[38;5;124;43m\"\u001b[39;49m\u001b[43m,\u001b[49m\u001b[38;5;124;43m\"\u001b[39;49m\u001b[38;5;124;43mind_renovacao\u001b[39;49m\u001b[38;5;124;43m\"\u001b[39;49m\u001b[43m,\u001b[49m\u001b[38;5;124;43m\"\u001b[39;49m\u001b[38;5;124;43mMD_sexo\u001b[39;49m\u001b[38;5;124;43m\"\u001b[39;49m\u001b[43m,\u001b[49m\u001b[38;5;124;43m\"\u001b[39;49m\u001b[38;5;124;43mcod_corr\u001b[39;49m\u001b[38;5;124;43m\"\u001b[39;49m\u001b[43m,\u001b[49m\n\u001b[0;32m      2\u001b[0m \u001b[43m                                \u001b[49m\u001b[38;5;124;43m\"\u001b[39;49m\u001b[38;5;124;43mCod_End\u001b[39;49m\u001b[38;5;124;43m\"\u001b[39;49m\u001b[43m,\u001b[49m\u001b[38;5;124;43m\"\u001b[39;49m\u001b[38;5;124;43mMD_sin_5a_cas\u001b[39;49m\u001b[38;5;124;43m\"\u001b[39;49m\u001b[43m,\u001b[49m\u001b[38;5;124;43m\"\u001b[39;49m\u001b[38;5;124;43mMD_tempo_casa_2\u001b[39;49m\u001b[38;5;124;43m\"\u001b[39;49m\u001b[43m,\u001b[49m\u001b[38;5;124;43m\"\u001b[39;49m\u001b[38;5;124;43mMD_idade_veic\u001b[39;49m\u001b[38;5;124;43m\"\u001b[39;49m\u001b[43m,\u001b[49m\u001b[38;5;124;43m\"\u001b[39;49m\u001b[38;5;124;43mMD_faixa_IScas\u001b[39;49m\u001b[38;5;124;43m\"\u001b[39;49m\u001b[43m,\u001b[49m\n\u001b[0;32m      3\u001b[0m \u001b[43m                                \u001b[49m\u001b[38;5;124;43m\"\u001b[39;49m\u001b[38;5;124;43manomes_dt_ter\u001b[39;49m\u001b[38;5;124;43m\"\u001b[39;49m\u001b[43m \u001b[49m\u001b[43m,\u001b[49m\u001b[38;5;124;43m\"\u001b[39;49m\u001b[38;5;124;43mMD_idade\u001b[39;49m\u001b[38;5;124;43m\"\u001b[39;49m\u001b[43m,\u001b[49m\u001b[38;5;124;43m\"\u001b[39;49m\u001b[38;5;124;43mper_com\u001b[39;49m\u001b[38;5;124;43m\"\u001b[39;49m\u001b[43m,\u001b[49m\u001b[43m \u001b[49m\u001b[38;5;124;43m\"\u001b[39;49m\u001b[38;5;124;43mRNS_Casco_calc\u001b[39;49m\u001b[38;5;124;43m\"\u001b[39;49m\u001b[43m,\u001b[49m\u001b[38;5;124;43m\"\u001b[39;49m\u001b[38;5;124;43mMD_menor26\u001b[39;49m\u001b[38;5;124;43m\"\u001b[39;49m\u001b[43m,\u001b[49m\u001b[38;5;124;43m\"\u001b[39;49m\u001b[38;5;124;43mUF\u001b[39;49m\u001b[38;5;124;43m\"\u001b[39;49m\u001b[43m,\u001b[49m\u001b[38;5;124;43m\"\u001b[39;49m\u001b[38;5;124;43mRenovacao_ant\u001b[39;49m\u001b[38;5;124;43m\"\u001b[39;49m\u001b[43m,\u001b[49m\n\u001b[0;32m      4\u001b[0m \u001b[43m                                \u001b[49m\u001b[38;5;124;43m\"\u001b[39;49m\u001b[38;5;124;43mfx_ir_12m\u001b[39;49m\u001b[38;5;124;43m\"\u001b[39;49m\u001b[43m,\u001b[49m\u001b[38;5;124;43m\"\u001b[39;49m\u001b[38;5;124;43mis_casco_ofer\u001b[39;49m\u001b[38;5;124;43m\"\u001b[39;49m\u001b[43m,\u001b[49m\u001b[38;5;124;43m\"\u001b[39;49m\u001b[38;5;124;43mclasse_bonus\u001b[39;49m\u001b[38;5;124;43m\"\u001b[39;49m\u001b[43m,\u001b[49m\u001b[38;5;124;43m\"\u001b[39;49m\u001b[38;5;124;43mMD_fator_ajuste\u001b[39;49m\u001b[38;5;124;43m\"\u001b[39;49m\u001b[43m,\u001b[49m\u001b[38;5;124;43m\"\u001b[39;49m\u001b[38;5;124;43mMD_capac\u001b[39;49m\u001b[38;5;124;43m\"\u001b[39;49m\u001b[43m,\u001b[49m\u001b[38;5;124;43m\"\u001b[39;49m\u001b[38;5;124;43mmd_categoria\u001b[39;49m\u001b[38;5;124;43m\"\u001b[39;49m\u001b[43m,\u001b[49m\n\u001b[0;32m      5\u001b[0m \u001b[43m                                \u001b[49m\u001b[38;5;124;43m\"\u001b[39;49m\u001b[38;5;124;43mMD_comb\u001b[39;49m\u001b[38;5;124;43m\"\u001b[39;49m\u001b[43m,\u001b[49m\u001b[38;5;124;43m\"\u001b[39;49m\u001b[38;5;124;43mMD_qtd_assis_cpf\u001b[39;49m\u001b[38;5;124;43m\"\u001b[39;49m\u001b[43m,\u001b[49m\u001b[43m \u001b[49m\u001b[38;5;124;43m\"\u001b[39;49m\u001b[38;5;124;43midade_ult_RNS\u001b[39;49m\u001b[38;5;124;43m\"\u001b[39;49m\u001b[43m,\u001b[49m\u001b[38;5;124;43m\"\u001b[39;49m\u001b[38;5;124;43mcanal\u001b[39;49m\u001b[38;5;124;43m\"\u001b[39;49m\u001b[43m,\u001b[49m\u001b[38;5;124;43m\"\u001b[39;49m\u001b[38;5;124;43mMD_tipo_renov\u001b[39;49m\u001b[38;5;124;43m\"\u001b[39;49m\u001b[43m,\u001b[49m\u001b[38;5;124;43m'\u001b[39;49m\u001b[38;5;124;43mFABRICA\u001b[39;49m\u001b[38;5;124;43m'\u001b[39;49m\u001b[43m,\u001b[49m\u001b[38;5;124;43m'\u001b[39;49m\u001b[38;5;124;43mMD_est_civil\u001b[39;49m\u001b[38;5;124;43m'\u001b[39;49m\u001b[43m,\u001b[49m\n\u001b[0;32m      6\u001b[0m \u001b[43m                                \u001b[49m\u001b[38;5;124;43m'\u001b[39;49m\u001b[38;5;124;43mpeso\u001b[39;49m\u001b[38;5;124;43m'\u001b[39;49m\u001b[43m,\u001b[49m\u001b[38;5;124;43m'\u001b[39;49m\u001b[38;5;124;43mGrupo_veiculo_new\u001b[39;49m\u001b[38;5;124;43m'\u001b[39;49m\u001b[43m,\u001b[49m\u001b[38;5;124;43m'\u001b[39;49m\u001b[38;5;124;43mvigencia\u001b[39;49m\u001b[38;5;124;43m'\u001b[39;49m\u001b[43m,\u001b[49m\n\u001b[0;32m      7\u001b[0m \u001b[43m                                \u001b[49m\u001b[38;5;124;43m'\u001b[39;49m\u001b[38;5;124;43mRisco_PP_mod\u001b[39;49m\u001b[38;5;124;43m'\u001b[39;49m\u001b[43m,\u001b[49m\u001b[43m \u001b[49m\u001b[38;5;124;43m'\u001b[39;49m\u001b[38;5;124;43mRisco_PT_mod\u001b[39;49m\u001b[38;5;124;43m'\u001b[39;49m\u001b[43m,\u001b[49m\u001b[38;5;124;43m'\u001b[39;49m\u001b[38;5;124;43mRisco_RF_mod\u001b[39;49m\u001b[38;5;124;43m'\u001b[39;49m\u001b[43m,\u001b[49m\u001b[38;5;124;43m'\u001b[39;49m\u001b[38;5;124;43mRisco_DM_mod\u001b[39;49m\u001b[38;5;124;43m'\u001b[39;49m\u001b[43m,\u001b[49m\u001b[38;5;124;43m'\u001b[39;49m\u001b[38;5;124;43mRisco_AS_mod\u001b[39;49m\u001b[38;5;124;43m'\u001b[39;49m\u001b[43m,\u001b[49m\n\u001b[0;32m      8\u001b[0m \u001b[43m                                \u001b[49m\u001b[38;5;124;43m'\u001b[39;49m\u001b[38;5;124;43mRisco_DC_mod\u001b[39;49m\u001b[38;5;124;43m'\u001b[39;49m\u001b[43m \u001b[49m\u001b[43m,\u001b[49m\u001b[38;5;124;43m'\u001b[39;49m\u001b[38;5;124;43mRisco_DMO_mod\u001b[39;49m\u001b[38;5;124;43m'\u001b[39;49m\u001b[43m]\u001b[49m\u001b[43m]\u001b[49m\n",
      "File \u001b[1;32mC:\\ProgramData\\anaconda3\\lib\\site-packages\\pandas\\core\\frame.py:3813\u001b[0m, in \u001b[0;36mDataFrame.__getitem__\u001b[1;34m(self, key)\u001b[0m\n\u001b[0;32m   3811\u001b[0m     \u001b[38;5;28;01mif\u001b[39;00m is_iterator(key):\n\u001b[0;32m   3812\u001b[0m         key \u001b[38;5;241m=\u001b[39m \u001b[38;5;28mlist\u001b[39m(key)\n\u001b[1;32m-> 3813\u001b[0m     indexer \u001b[38;5;241m=\u001b[39m \u001b[38;5;28;43mself\u001b[39;49m\u001b[38;5;241;43m.\u001b[39;49m\u001b[43mcolumns\u001b[49m\u001b[38;5;241;43m.\u001b[39;49m\u001b[43m_get_indexer_strict\u001b[49m\u001b[43m(\u001b[49m\u001b[43mkey\u001b[49m\u001b[43m,\u001b[49m\u001b[43m \u001b[49m\u001b[38;5;124;43m\"\u001b[39;49m\u001b[38;5;124;43mcolumns\u001b[39;49m\u001b[38;5;124;43m\"\u001b[39;49m\u001b[43m)\u001b[49m[\u001b[38;5;241m1\u001b[39m]\n\u001b[0;32m   3815\u001b[0m \u001b[38;5;66;03m# take() does not accept boolean indexers\u001b[39;00m\n\u001b[0;32m   3816\u001b[0m \u001b[38;5;28;01mif\u001b[39;00m \u001b[38;5;28mgetattr\u001b[39m(indexer, \u001b[38;5;124m\"\u001b[39m\u001b[38;5;124mdtype\u001b[39m\u001b[38;5;124m\"\u001b[39m, \u001b[38;5;28;01mNone\u001b[39;00m) \u001b[38;5;241m==\u001b[39m \u001b[38;5;28mbool\u001b[39m:\n",
      "File \u001b[1;32mC:\\ProgramData\\anaconda3\\lib\\site-packages\\pandas\\core\\indexes\\base.py:6070\u001b[0m, in \u001b[0;36mIndex._get_indexer_strict\u001b[1;34m(self, key, axis_name)\u001b[0m\n\u001b[0;32m   6067\u001b[0m \u001b[38;5;28;01melse\u001b[39;00m:\n\u001b[0;32m   6068\u001b[0m     keyarr, indexer, new_indexer \u001b[38;5;241m=\u001b[39m \u001b[38;5;28mself\u001b[39m\u001b[38;5;241m.\u001b[39m_reindex_non_unique(keyarr)\n\u001b[1;32m-> 6070\u001b[0m \u001b[38;5;28;43mself\u001b[39;49m\u001b[38;5;241;43m.\u001b[39;49m\u001b[43m_raise_if_missing\u001b[49m\u001b[43m(\u001b[49m\u001b[43mkeyarr\u001b[49m\u001b[43m,\u001b[49m\u001b[43m \u001b[49m\u001b[43mindexer\u001b[49m\u001b[43m,\u001b[49m\u001b[43m \u001b[49m\u001b[43maxis_name\u001b[49m\u001b[43m)\u001b[49m\n\u001b[0;32m   6072\u001b[0m keyarr \u001b[38;5;241m=\u001b[39m \u001b[38;5;28mself\u001b[39m\u001b[38;5;241m.\u001b[39mtake(indexer)\n\u001b[0;32m   6073\u001b[0m \u001b[38;5;28;01mif\u001b[39;00m \u001b[38;5;28misinstance\u001b[39m(key, Index):\n\u001b[0;32m   6074\u001b[0m     \u001b[38;5;66;03m# GH 42790 - Preserve name from an Index\u001b[39;00m\n",
      "File \u001b[1;32mC:\\ProgramData\\anaconda3\\lib\\site-packages\\pandas\\core\\indexes\\base.py:6133\u001b[0m, in \u001b[0;36mIndex._raise_if_missing\u001b[1;34m(self, key, indexer, axis_name)\u001b[0m\n\u001b[0;32m   6130\u001b[0m     \u001b[38;5;28;01mraise\u001b[39;00m \u001b[38;5;167;01mKeyError\u001b[39;00m(\u001b[38;5;124mf\u001b[39m\u001b[38;5;124m\"\u001b[39m\u001b[38;5;124mNone of [\u001b[39m\u001b[38;5;132;01m{\u001b[39;00mkey\u001b[38;5;132;01m}\u001b[39;00m\u001b[38;5;124m] are in the [\u001b[39m\u001b[38;5;132;01m{\u001b[39;00maxis_name\u001b[38;5;132;01m}\u001b[39;00m\u001b[38;5;124m]\u001b[39m\u001b[38;5;124m\"\u001b[39m)\n\u001b[0;32m   6132\u001b[0m not_found \u001b[38;5;241m=\u001b[39m \u001b[38;5;28mlist\u001b[39m(ensure_index(key)[missing_mask\u001b[38;5;241m.\u001b[39mnonzero()[\u001b[38;5;241m0\u001b[39m]]\u001b[38;5;241m.\u001b[39munique())\n\u001b[1;32m-> 6133\u001b[0m \u001b[38;5;28;01mraise\u001b[39;00m \u001b[38;5;167;01mKeyError\u001b[39;00m(\u001b[38;5;124mf\u001b[39m\u001b[38;5;124m\"\u001b[39m\u001b[38;5;132;01m{\u001b[39;00mnot_found\u001b[38;5;132;01m}\u001b[39;00m\u001b[38;5;124m not in index\u001b[39m\u001b[38;5;124m\"\u001b[39m)\n",
      "\u001b[1;31mKeyError\u001b[0m: \"['premio_demais_cob', 'ind_renovacao', 'MD_sexo', 'cod_corr', 'Cod_End', 'MD_sin_5a_cas', 'MD_tempo_casa_2', 'MD_idade_veic', 'MD_faixa_IScas', 'MD_idade', 'MD_menor26', 'UF', 'fx_ir_12m', 'is_casco_ofer', 'MD_fator_ajuste', 'MD_capac', 'MD_qtd_assis_cpf', 'canal', 'MD_tipo_renov', 'FABRICA', 'Risco_PP_mod', 'Risco_PT_mod', 'Risco_RF_mod', 'Risco_DM_mod', 'Risco_AS_mod', 'Risco_DC_mod', 'Risco_DMO_mod'] not in index\""
     ]
    }
   ],
   "source": [
    "df_mod_filtered=df_escorar_gbm[[\"premio_ofertado\",\"premio_total\",'GBM_mercado', 'premio_creserva','premio_demais_cob',\"teste_validacao\",\"ind_renovacao\",\"MD_sexo\",\"cod_corr\",\n",
    "                                \"Cod_End\",\"MD_sin_5a_cas\",\"MD_tempo_casa_2\",\"MD_idade_veic\",\"MD_faixa_IScas\",\n",
    "                                \"anomes_dt_ter\" ,\"MD_idade\",\"per_com\", \"RNS_Casco_calc\",\"MD_menor26\",\"UF\",\"Renovacao_ant\",\n",
    "                                \"fx_ir_12m\",\"is_casco_ofer\",\"classe_bonus\",\"MD_fator_ajuste\",\"MD_capac\",\"md_categoria\",\n",
    "                                \"MD_comb\",\"MD_qtd_assis_cpf\", \"idade_ult_RNS\",\"canal\",\"MD_tipo_renov\",'FABRICA','MD_est_civil',\n",
    "                                'peso','Grupo_veiculo_new','vigencia',\n",
    "                                'Risco_PP_mod', 'Risco_PT_mod','Risco_RF_mod','Risco_DM_mod','Risco_AS_mod',\n",
    "                                'Risco_DC_mod' ,'Risco_DMO_mod']]"
   ]
  },
  {
   "cell_type": "code",
   "execution_count": 14,
   "id": "5787e9fe",
   "metadata": {},
   "outputs": [
    {
     "ename": "NameError",
     "evalue": "name 'df_mod_filtered' is not defined",
     "output_type": "error",
     "traceback": [
      "\u001b[1;31m---------------------------------------------------------------------------\u001b[0m",
      "\u001b[1;31mNameError\u001b[0m                                 Traceback (most recent call last)",
      "Cell \u001b[1;32mIn[14], line 1\u001b[0m\n\u001b[1;32m----> 1\u001b[0m df_mod_filtered \u001b[38;5;241m=\u001b[39m \u001b[43mdf_mod_filtered\u001b[49m[df_mod_filtered[\u001b[38;5;124m'\u001b[39m\u001b[38;5;124mper_com\u001b[39m\u001b[38;5;124m'\u001b[39m]\u001b[38;5;241m.\u001b[39mnotna()]\n\u001b[0;32m      2\u001b[0m df_mod_filtered \u001b[38;5;241m=\u001b[39m df_mod_filtered[df_mod_filtered[\u001b[38;5;124m'\u001b[39m\u001b[38;5;124mRenovacao_ant\u001b[39m\u001b[38;5;124m'\u001b[39m]\u001b[38;5;241m.\u001b[39mnotna()]\n\u001b[0;32m      3\u001b[0m df_mod_filtered \u001b[38;5;241m=\u001b[39m df_mod_filtered[df_mod_filtered[\u001b[38;5;124m'\u001b[39m\u001b[38;5;124mMD_est_civil\u001b[39m\u001b[38;5;124m'\u001b[39m]\u001b[38;5;241m.\u001b[39mnotna()]\n",
      "\u001b[1;31mNameError\u001b[0m: name 'df_mod_filtered' is not defined"
     ]
    }
   ],
   "source": [
    "df_mod_filtered = df_mod_filtered[df_mod_filtered['per_com'].notna()]\n",
    "df_mod_filtered = df_mod_filtered[df_mod_filtered['Renovacao_ant'].notna()]\n",
    "df_mod_filtered = df_mod_filtered[df_mod_filtered['MD_est_civil'].notna()]\n",
    "df_mod_filtered = df_mod_filtered[df_mod_filtered['peso'].notna()]\n",
    "df_mod_filtered = df_mod_filtered.query('premio_total !=0')\n",
    "df_mod_filtered = df_mod_filtered.query('vigencia == \"Anual\"')\n",
    "df_mod_filtered = df_mod_filtered.query('premio_creserva >= 0')\n",
    "df_mod_filtered = df_mod_filtered[~df_mod_filtered['anomes_dt_ter'].isin([202310,202309,202308,202302,202402])]\n",
    "df_mod_filtered = df_mod_filtered.query('is_casco_ofer > 0')\n",
    "df_mod_filtered = df_mod_filtered[(df_mod_filtered['per_com']>0) & (df_mod_filtered['per_com']<50)]\n",
    "df_mod_filtered = df_mod_filtered.query('premio_total >100')\n",
    "df_mod_filtered = df_mod_filtered.query('MD_idade !=\"ERRO\"')\n",
    "df_mod_filtered = df_mod_filtered[(df_mod_filtered.UF != \"SP\") | (~df_mod_filtered.Grupo_veiculo_new.isin([\"Toyota Hilux CD\",\"Toyota Hilux CS\",\"Toyota Hilux SW4\"]))]\n",
    "df_mod_filtered = df_mod_filtered[(df_mod_filtered.premio_ofertado/df_mod_filtered.premio_total <=2.3) &  (df_mod_filtered.premio_ofertado/df_mod_filtered.premio_total>=0.7)]\n",
    "\n",
    "df_mod_filtered.shape"
   ]
  },
  {
   "cell_type": "code",
   "execution_count": null,
   "id": "7debdac8",
   "metadata": {},
   "outputs": [],
   "source": [
    "df_mod_filtered.shape"
   ]
  },
  {
   "cell_type": "code",
   "execution_count": null,
   "id": "a4b127ca",
   "metadata": {},
   "outputs": [],
   "source": [
    "df_mod_filtered['classe_bonus'].describe()"
   ]
  },
  {
   "cell_type": "code",
   "execution_count": null,
   "id": "ce9c2092",
   "metadata": {},
   "outputs": [],
   "source": [
    "print(df_mod_filtered['classe_bonus'].value_counts(ascending=False))"
   ]
  },
  {
   "cell_type": "code",
   "execution_count": null,
   "id": "6e9e026a",
   "metadata": {},
   "outputs": [],
   "source": [
    "df_mod_filtered = df_mod_filtered[df_mod_filtered['per_com'].notna()]\n",
    "df_mod_filtered = df_mod_filtered[df_mod_filtered['Renovacao_ant'].notna()]\n",
    "df_mod_filtered = df_mod_filtered[df_mod_filtered['MD_est_civil'].notna()]\n",
    "df_mod_filtered = df_mod_filtered[df_mod_filtered['peso'].notna()]\n",
    "df_mod_filtered.shape"
   ]
  },
  {
   "cell_type": "code",
   "execution_count": null,
   "id": "360599fc",
   "metadata": {},
   "outputs": [],
   "source": [
    "df_mod_filtered = df_mod_filtered.query('premio_total !=0')\n",
    "df_mod_filtered.shape"
   ]
  },
  {
   "cell_type": "code",
   "execution_count": null,
   "id": "42d50213",
   "metadata": {},
   "outputs": [],
   "source": [
    "df_mod_filtered = df_mod_filtered.query('vigencia == \"Anual\"')\n",
    "df_mod_filtered.shape"
   ]
  },
  {
   "cell_type": "code",
   "execution_count": null,
   "id": "b7bc4476",
   "metadata": {},
   "outputs": [],
   "source": [
    "df_mod_filtered = df_mod_filtered.query('premio_creserva >= 0')\n",
    "df_mod_filtered.shape"
   ]
  },
  {
   "cell_type": "code",
   "execution_count": null,
   "id": "c977933b",
   "metadata": {},
   "outputs": [],
   "source": [
    "df_mod_filtered = df_mod_filtered[~df_mod_filtered['anomes_dt_ter'].isin([202310,202309,202308,202302,202402])]\n",
    "df_mod_filtered.shape"
   ]
  },
  {
   "cell_type": "code",
   "execution_count": null,
   "id": "dba3717a",
   "metadata": {},
   "outputs": [],
   "source": [
    "df_mod_filtered['DA_emissao'] =0.2349\n",
    "df_mod_filtered['DA_producao'] =0.2749\n",
    "df_mod_filtered['risco_dmais_cob'] =df_mod_filtered['premio_demais_cob']*0.2627*1.4\n",
    "df_mod_filtered['premio_anterior'] =df_mod_filtered['premio_total']\n",
    "df_mod_filtered['Act_cost']  = df_mod_filtered['Risco_PP_mod'] + df_mod_filtered['Risco_PT_mod'] + df_mod_filtered['Risco_RF_mod']+ df_mod_filtered['Risco_DM_mod']+ df_mod_filtered['Risco_AS_mod'] + df_mod_filtered['Risco_DC_mod'] +df_mod_filtered['Risco_DMO_mod'] + df_mod_filtered['risco_dmais_cob']\n",
    "df_mod_filtered['Premio_IC100']  = df_mod_filtered['Act_cost']/(1-df_mod_filtered['per_com']/100-df_mod_filtered['DA_producao'] )\n",
    "df_mod_filtered[\"premio\"] = df_mod_filtered[\"premio_ofertado\"]"
   ]
  },
  {
   "cell_type": "code",
   "execution_count": null,
   "id": "8992cf1b",
   "metadata": {},
   "outputs": [],
   "source": [
    "np.mean(df_mod_filtered['Premio_IC100'])"
   ]
  },
  {
   "cell_type": "code",
   "execution_count": null,
   "id": "7abcd0c0",
   "metadata": {},
   "outputs": [],
   "source": [
    "df_mod=df_mod_filtered.copy()"
   ]
  },
  {
   "cell_type": "code",
   "execution_count": null,
   "id": "687abc4a",
   "metadata": {
    "scrolled": true
   },
   "outputs": [],
   "source": [
    "def categorizar(df):\n",
    "    \n",
    "    df['classe_bonus_bin'] = df['classe_bonus'].apply(lambda x: '00'  if x == 0 else 'Demais')   \n",
    "    \n",
    "    df['MD_sexo_bin'] = df['MD_sexo'].map({'Masculino': 'Masculino', \n",
    "                                 'Feminino': 'Feminino', \n",
    "                                  'ERRO': 'Masculino'}).astype(object)'\n",
    "'\n",
    "\n",
    "    df['fx_ir_12m_bin'] = df['fx_ir_12m'].apply(lambda x: '01 - 00-<=020' if x == '01 - 00-<=020' else\n",
    "                                                              '02 - 20-<=040' if x == '02 - 20-<=040' else\n",
    "                                                              '03 - 40-<=060' if x == '03 - 40-<=060' else\n",
    "                                                              '04 - 60-<=080' if x == '04 - 60-<=080' else\n",
    "                                                              '05 - 80-<=100' if x == '05 - 80-<=100' else\n",
    "                                                              '02 - 20-<=040' if x == 'NI'           else 'ERROR')\n",
    "\n",
    "  \n",
    "    df['MD_comb_bin'] = df['MD_comb'].apply(lambda x: 'Gasolina' if x == 'Gasolina'  else 'Demais')\n",
    "\n",
    "    df['canal_bin'] =  df['canal'].apply(lambda x: 'Corretor Mais' if x == 'Corretor Mais'  else 'Demais')\n",
    "   \n",
    "    df['per_com_bin'] = df['per_com'].apply(lambda x: '<10' if x < 10 else\n",
    "                                                          '>=10' if x >= 10 else 'ERROR')    \n",
    "\n",
    "\n",
    "\n",
    "    df['idade_ult_RNS_bin'] = df['idade_ult_RNS'].apply(lambda x: 'Sem Sinistro' if x == 'Sem Sinistro' else\n",
    "                                                                      '01-05 ano' if x == '01 ano' else\n",
    "                                                                      '01-05 ano' if x == '01 ano' else\n",
    "                                                                      '01-05 ano' if x == '01 ano' else\n",
    "                                                                      '01-05 ano' if x == '01 ano' else\n",
    "                                                                      '01-05 ano' if x == '01 ano' else '06+ ano +')\n",
    "\n",
    "\n",
    "    df['UF_bin'] = df['UF'].apply(lambda x: 'AL,CE,RS'  if x == 'AL' else\n",
    "                                                'AL,CE,RS'  if x == 'CE' else\n",
    "                                                'AL,CE,RS'  if x == 'RS' else \n",
    "                                                'AP,DF,ES,PA,PB,RN,SC' if x == 'AP' else \n",
    "                                                'AP,DF,ES,PA,PB,RN,SC' if x == 'DF' else \n",
    "                                                'AP,DF,ES,PA,PB,RN,SC' if x == 'ES' else \n",
    "                                                'AP,DF,ES,PA,PB,RN,SC' if x == 'PA' else \n",
    "                                                'AP,DF,ES,PA,PB,RN,SC' if x == 'PB' else \n",
    "                                                'AP,DF,ES,PA,PB,RN,SC' if x == 'RN' else \n",
    "                                                'AP,DF,ES,PA,PB,RN,SC' if x == 'SC' else \n",
    "                                                'GO,MA,MG'             if x == 'GO' else \n",
    "                                                'GO,MA,MG'             if x == 'MA' else \n",
    "                                                'GO,MA,MG'             if x == 'MG' else \n",
    "                                                'MT,PR'                if x == 'MT' else\n",
    "                                                'MT,PR'                if x == 'PR' else \n",
    "                                                'RJ'                   if x == 'RJ' else  'Demais')\n",
    "\n",
    "    df['md_tipo_renov_ant_bin'] = df['Renovacao_ant'].apply(lambda x:     '1 - SeguroNovo'       if x == '1 - Seguro Novo'  else\n",
    "                                                                          '2 - RenovPropria'     if x == '2 - Renov MAPFRE sem sinistro'   else\n",
    "                                                                          '2 - RenovPropria'     if x == '3 - Renov MAPFRE com sinistro'   else\n",
    "                                                                          '3 - RenovCongenere'   if x == '4 - Renov Congenere sem sinistro' else\n",
    "                                                                          '3 - RenovCongenere'   if x == '5 - Renov Congenere com sinistro' else\n",
    "                                                                          '3 - RenovCongenere'   if x == '6 - Renov BB sem sinistro' else\n",
    "                                                                          '3 - RenovCongenere'   if x == '7 - Renov BB com sinistro' else  '2 - RenovPropria')\n",
    "       \n",
    "     \n",
    "    df['Cod_End_bin'] = df['Cod_End'].apply(lambda x: '13509'  if x == 13509 else\n",
    "                                                      '13509'  if x == 50007 else\n",
    "                                                      '13509'  if x == 50100 else 'Demais')   \n",
    "\n",
    "    df['MD_capac_bin'] = df['MD_capac'].apply(lambda x: '5'  if x == 5  else 'Demais')  \n",
    "\n",
    "\n",
    "\n",
    "    df['fator_ajuste_bin'] = df['MD_fator_ajuste'].apply(lambda x: '<101'    if x < 101 else\n",
    "                                                                    '>=101'   if x >= 101  else '<101')   \n",
    "\n",
    "    df['MD_qtd_assis_cpf_bin'] = df['MD_qtd_assis_cpf'].apply(lambda x: '00'  if x == 0 else\n",
    "                                                                        '01'  if x == 1 else\n",
    "                                                                        '>=2' if x >= 2 else 'ERROR')\n",
    "     \n",
    "    return df"
   ]
  },
  {
   "cell_type": "code",
   "execution_count": null,
   "id": "6be2ddc6",
   "metadata": {},
   "outputs": [],
   "source": [
    "df_mod = categorizar(df_mod)"
   ]
  },
  {
   "cell_type": "code",
   "execution_count": null,
   "id": "5772a3fe",
   "metadata": {},
   "outputs": [],
   "source": [
    "df_train = df_mod.query('teste_validacao == \"Trein\"')\n",
    "df_train.shape"
   ]
  },
  {
   "cell_type": "code",
   "execution_count": null,
   "id": "68c26c95",
   "metadata": {},
   "outputs": [],
   "source": [
    "df_train = df_train.query('is_casco_ofer > 0')\n",
    "df_train.shape"
   ]
  },
  {
   "cell_type": "code",
   "execution_count": null,
   "id": "813531fd",
   "metadata": {},
   "outputs": [],
   "source": [
    "df_train = df_train.query('premio_total >100')\n",
    "df_train = df_train.query('MD_idade !=\"ERRO\"')\n",
    "df_train.shape"
   ]
  },
  {
   "cell_type": "code",
   "execution_count": null,
   "id": "5b674e84",
   "metadata": {},
   "outputs": [],
   "source": [
    "df_train = df_train[(df_train['per_com']>0) & (df_train['per_com']<50)]\n",
    "df_train.shape"
   ]
  },
  {
   "cell_type": "code",
   "execution_count": null,
   "id": "dd96fa49",
   "metadata": {},
   "outputs": [],
   "source": [
    "df_train= df_train[(df_train.UF != \"SP\") | (~df_train.Grupo_veiculo_new.isin([\"Toyota Hilux CD\",\"Toyota Hilux CS\",\"Toyota Hilux SW4\"]))]\n",
    "df_train.shape"
   ]
  },
  {
   "cell_type": "code",
   "execution_count": null,
   "id": "b686fa6f",
   "metadata": {},
   "outputs": [],
   "source": [
    "df_train = df_train[(df_train.premio_ofertado/df_train.premio_total <=2.3) &  (df_train.premio_ofertado/df_train.premio_total>=0.7)]\n",
    "df_train.shape"
   ]
  },
  {
   "cell_type": "code",
   "execution_count": null,
   "id": "b283b3ca",
   "metadata": {},
   "outputs": [],
   "source": [
    "print(df_train['idade_ult_RNS_bin'].value_counts(ascending=False))"
   ]
  },
  {
   "cell_type": "code",
   "execution_count": null,
   "id": "30c35999",
   "metadata": {},
   "outputs": [],
   "source": [
    "display(df_train[[\"is_casco_ofer\",\"premio\",\"Act_cost\", \"Premio_IC100\", \"per_com\",\"ind_renovacao\",'GBM_mercado']].describe().T)"
   ]
  },
  {
   "cell_type": "code",
   "execution_count": null,
   "id": "91d0c931",
   "metadata": {},
   "outputs": [],
   "source": [
    "#df_train.columns.to_list()"
   ]
  },
  {
   "cell_type": "code",
   "execution_count": null,
   "id": "a97368be",
   "metadata": {},
   "outputs": [],
   "source": [
    "import statsmodels.formula.api as smf\n",
    "#Modelo GLM de retenção\n",
    "formula = 'ind_renovacao ~ 1 + np.log(premio) + np.divide(premio, is_casco_ofer) + np.log(np.divide(premio, GBM_mercado)) + np.log(np.divide(premio, Premio_IC100)) + (np.divide(premio, premio_anterior)+1) + C(md_tipo_renov_ant_bin,Treatment(reference=\"2 - RenovPropria\")) + C(classe_bonus_bin,Treatment(reference=\"Demais\")) + C(canal_bin,Treatment(reference=\"Demais\")) + C(Cod_End_bin,Treatment(reference=\"Demais\")) + C(fator_ajuste_bin,Treatment(reference=\"<101\")) + per_com + C(per_com_bin,Treatment(reference=\">=10\")) + np.log(MD_tempo_casa_2+1) + C(idade_ult_RNS_bin,Treatment(reference=\"Sem Sinistro\")) + C(MD_comb_bin,Treatment(reference=\"Demais\")) + C(UF_bin,Treatment(reference=\"Demais\")) + C(fx_ir_12m_bin,Treatment(reference=\"02 - 20-<=040\")) + C(MD_tipo_renov,Treatment(reference=\"2 - Renov MAPFRE sem sinistro\"))' \n",
    "model = smf.logit(formula , data=df_train).fit()\n",
    "model.summary()"
   ]
  },
  {
   "cell_type": "code",
   "execution_count": null,
   "id": "23a943db",
   "metadata": {},
   "outputs": [],
   "source": [
    "df_train[\"prob_est\"]=model.predict(df_train)"
   ]
  },
  {
   "cell_type": "code",
   "execution_count": null,
   "id": "5b5a6c1b",
   "metadata": {},
   "outputs": [],
   "source": [
    "import statsmodels.formula.api as smf\n",
    "#Modelo GLM de retenção\n",
    "formula = 'ind_renovacao ~ 1 + np.log(premio) + np.divide(premio, is_casco_ofer)  + np.log(np.divide(premio, Premio_IC100)) + (np.divide(premio, premio_anterior)+1) + C(md_tipo_renov_ant_bin,Treatment(reference=\"2 - RenovPropria\")) + C(classe_bonus_bin,Treatment(reference=\"Demais\")) + C(canal_bin,Treatment(reference=\"Demais\")) + C(Cod_End_bin,Treatment(reference=\"Demais\")) + C(fator_ajuste_bin,Treatment(reference=\"<101\")) + per_com + C(per_com_bin,Treatment(reference=\">=10\")) + np.log(MD_tempo_casa_2+1) + C(idade_ult_RNS_bin,Treatment(reference=\"Sem Sinistro\")) + C(MD_comb_bin,Treatment(reference=\"Demais\")) + C(UF_bin,Treatment(reference=\"Demais\")) + C(fx_ir_12m_bin,Treatment(reference=\"02 - 20-<=040\")) + C(MD_tipo_renov,Treatment(reference=\"2 - Renov MAPFRE sem sinistro\"))' \n",
    "#formula = 'ind_renovacao ~ 1 ' \n",
    "model_teste = smf.logit(formula , data=df_train).fit()\n",
    "model_teste.summary()"
   ]
  },
  {
   "cell_type": "markdown",
   "id": "a9e8b2f3",
   "metadata": {},
   "source": [
    "### teste da elasticidade"
   ]
  },
  {
   "cell_type": "code",
   "execution_count": null,
   "id": "7cc98259",
   "metadata": {},
   "outputs": [],
   "source": [
    "import statsmodels.formula.api as smf\n",
    "#Modelo GLM de retenção\n",
    "formula = 'ind_renovacao ~ 1 + np.log(premio)' \n",
    "model_elast = smf.logit(formula , data=df_train).fit()\n",
    "model_elast.summary()"
   ]
  },
  {
   "cell_type": "code",
   "execution_count": null,
   "id": "04fdfa5c",
   "metadata": {},
   "outputs": [],
   "source": [
    "price_elasticity = logreg.coef_[:, 0] * price_range * (1 - purchase_pr)"
   ]
  },
  {
   "cell_type": "code",
   "execution_count": null,
   "id": "dc341110",
   "metadata": {},
   "outputs": [],
   "source": [
    "model_elast"
   ]
  },
  {
   "cell_type": "code",
   "execution_count": null,
   "id": "bc915f8e",
   "metadata": {},
   "outputs": [],
   "source": []
  },
  {
   "cell_type": "markdown",
   "id": "808c929f",
   "metadata": {},
   "source": [
    "## Base Para escorar e otimizar"
   ]
  },
  {
   "cell_type": "code",
   "execution_count": null,
   "id": "daae90ef",
   "metadata": {},
   "outputs": [],
   "source": [
    "df_lote_092024 = pd.read_csv(\"C://Flavio/Projeto Otimizacao/Otimizacao/Table 7 Base Case Total  - teste novo.csv\",\n",
    "                     encoding='latin-1',\n",
    "                     delimiter='|')"
   ]
  },
  {
   "cell_type": "code",
   "execution_count": null,
   "id": "1cb3a37a",
   "metadata": {},
   "outputs": [],
   "source": [
    "df_lote_092024.groupby(['Amostra'])['GBM_mercado',\"Renewal Demand\"].describe().T"
   ]
  },
  {
   "cell_type": "code",
   "execution_count": null,
   "id": "403e8ca1",
   "metadata": {},
   "outputs": [],
   "source": [
    "#df_lote_092024.columns.to_list()"
   ]
  },
  {
   "cell_type": "code",
   "execution_count": null,
   "id": "451a4bb1",
   "metadata": {},
   "outputs": [],
   "source": [
    "df_lote_escorar=df_lote_092024.copy()"
   ]
  },
  {
   "cell_type": "markdown",
   "id": "cf2e9480",
   "metadata": {},
   "source": [
    "df_lote_escorar=df_lote_092024[['Premio_oferecido_com_batente','Pr_anterior_TI','Premio_IC100','GBM_mercado',\n",
    "                                          'Classe_bonus',\"MD_sexo\",\"cod_corr\",\"cod_end\",\"MD_tempo_casa_2\",\n",
    "                                          \"per_com\", \"MD_menor26\",\"UF\",\"Renovacao_ant\",\"fx_ir_12m\",\"is_casco_ofer\",\n",
    "                                          \"MD_fator_ajuste\",\"md_capac\",\"MD_categoria\",\n",
    "                                          \"MD_comb\",\"MD_qtd_assis_cpf\", \"idade_ult_RNS\",\"canal\",\"MD_tipo_renov\",'FABRICA',\n",
    "                                          'MD_est_civil','Grupo_veiculo_new']]"
   ]
  },
  {
   "cell_type": "code",
   "execution_count": null,
   "id": "cd7912ac",
   "metadata": {},
   "outputs": [],
   "source": [
    "#print(df_lote_escorar['classe_bonus'].value_counts(ascending=False))\n",
    "#df_lote_escorar['Classe_bonus'].describe()"
   ]
  },
  {
   "cell_type": "markdown",
   "id": "544555ef",
   "metadata": {},
   "source": [
    "premio|Premio_oferecido_com_batente\n",
    "is_casco_ofer|is_casco_ofer\n",
    "GBM_mercado|GBM_mercado\n",
    "Premio_IC100|Premio_IC100\n",
    "premio_anterior|Pr_anterior_TI\n",
    "canal_bin| canal\n",
    "Cod_End_bin|  cod_end\n",
    "fator_ajuste_bin|  MD_fator_ajuste\n",
    "per_com|per_com\n",
    "MD_tempo_casa_2|MD_tempo_casa_2\n",
    "idade_ult_RNS_bin|idade_ult_RNS\n",
    "MD_comb_bin|MD_comb\n",
    "UF_bin      |     UF\n",
    "fx_ir_12m_bin|    fx_ir_12m\n",
    "MD_tipo_renov,|   MD_tipo_renov"
   ]
  },
  {
   "cell_type": "code",
   "execution_count": null,
   "id": "f211fcfc",
   "metadata": {},
   "outputs": [],
   "source": [
    "df_lote_escorar[\"premio\"] = df_lote_escorar[\"Premio_oferecido_com_batente\"]"
   ]
  },
  {
   "cell_type": "code",
   "execution_count": null,
   "id": "6a23c83a",
   "metadata": {},
   "outputs": [],
   "source": [
    "df_lote_escorar.rename(columns={'Pr_anterior_TI':'premio_anterior', \n",
    "                                   'cod_end': 'Cod_End',\n",
    "                                   'md_capac': 'MD_capac',\n",
    "                                   'Classe_bonus':'classe_bonus',\n",
    "                                   'fator_ajuste': 'MD_fator_ajuste'},inplace=True)"
   ]
  },
  {
   "cell_type": "code",
   "execution_count": null,
   "id": "f062b145",
   "metadata": {},
   "outputs": [],
   "source": [
    "df_lote_escorar=df_lote_escorar[df_lote_escorar['UF']!= \"99\"]"
   ]
  },
  {
   "cell_type": "code",
   "execution_count": null,
   "id": "8ad2c6be",
   "metadata": {},
   "outputs": [],
   "source": [
    "df_lote_escorar.shape"
   ]
  },
  {
   "cell_type": "code",
   "execution_count": null,
   "id": "0edd9824",
   "metadata": {},
   "outputs": [],
   "source": [
    "df_lote = categorizar(df_lote_escorar)"
   ]
  },
  {
   "cell_type": "code",
   "execution_count": null,
   "id": "3a7f6f2c",
   "metadata": {},
   "outputs": [],
   "source": [
    "df_lote[\"prob_est\"]=model.predict(df_lote)"
   ]
  },
  {
   "cell_type": "code",
   "execution_count": null,
   "id": "5e5b4e41",
   "metadata": {},
   "outputs": [],
   "source": [
    "df_lote.groupby([\"Amostra\"])[\"prob_est\" , \"Renewal Demand\"].describe().T"
   ]
  },
  {
   "cell_type": "markdown",
   "id": "a34b6c2a",
   "metadata": {},
   "source": [
    "## Otimização Teste "
   ]
  },
  {
   "cell_type": "code",
   "execution_count": null,
   "id": "4101922e",
   "metadata": {},
   "outputs": [],
   "source": [
    "print(df_lote['Amostra'].value_counts(ascending=False))"
   ]
  },
  {
   "cell_type": "code",
   "execution_count": null,
   "id": "de7683ff",
   "metadata": {
    "scrolled": true
   },
   "outputs": [],
   "source": [
    "#df_lote_otim=df_mod.copy()\n",
    "df_lote_otim_atu = df_lote.query('Amostra == \"Otimização Atu\"')\n",
    "df_lote_otim_atu.shape"
   ]
  },
  {
   "cell_type": "code",
   "execution_count": null,
   "id": "1a36f518",
   "metadata": {},
   "outputs": [],
   "source": [
    "# Plot the data to visualize the relationship between price and quantity\n",
    "plt.figure(figsize=(10, 6))\n",
    "sns.scatterplot(data=df_lote_otim_atu, x='premio', y='prob_est')\n",
    "plt.title('Preço vs Retenção')\n",
    "plt.xlabel('Preço')\n",
    "plt.ylabel('Retenção')\n",
    "plt.show()"
   ]
  },
  {
   "cell_type": "code",
   "execution_count": null,
   "id": "b240f81c",
   "metadata": {},
   "outputs": [],
   "source": [
    "df_lote_otim = df_lote_otim_atu"
   ]
  },
  {
   "cell_type": "code",
   "execution_count": null,
   "id": "50c4db80",
   "metadata": {},
   "outputs": [],
   "source": [
    "#x = np.linspace(df_train['premio'].min(),2*df_train['premio'].max(),df_train.shape[0])\n",
    "#len(x)"
   ]
  },
  {
   "cell_type": "code",
   "execution_count": null,
   "id": "48e1dfbd",
   "metadata": {},
   "outputs": [],
   "source": [
    "#model_elast.params[1]"
   ]
  },
  {
   "cell_type": "code",
   "execution_count": null,
   "id": "7b833c3c",
   "metadata": {},
   "outputs": [],
   "source": [
    "df_lote_otim = df_lote_otim_atu.sample(n = 100) "
   ]
  },
  {
   "cell_type": "code",
   "execution_count": null,
   "id": "706c186f",
   "metadata": {},
   "outputs": [],
   "source": [
    "def demand(premio):\n",
    "    df_lote_otim[\"premio\"]=premio\n",
    "    quantity= model.predict(df_lote_otim)\n",
    "    return quantity\n",
    "\n",
    "\n",
    "#Define the revenue function\n",
    "def revenue(premio):\n",
    "    df_lote_otim[\"premio\"]=premio\n",
    "    revenue=premio * demand(premio)\n",
    "    return revenue\n",
    "\n",
    "def negrevenue(premio):\n",
    "    df_lote_otim[\"premio\"]=premio\n",
    "    return -revenue(premio)"
   ]
  },
  {
   "cell_type": "code",
   "execution_count": null,
   "id": "772d1df5",
   "metadata": {},
   "outputs": [],
   "source": [
    "#teste  = negrevenue(df_lote_otim[\"Premio_oferecido_com_batente\"])\n"
   ]
  },
  {
   "cell_type": "code",
   "execution_count": null,
   "id": "17b7b343",
   "metadata": {},
   "outputs": [],
   "source": [
    "#quantity = demand(df_lote_otim[\"Premio_oferecido_com_batente\"])\n",
    "#revenue = revenue(df_lote_otim[\"Premio_oferecido_com_batente\"])\n",
    "#premio = df_lote_otim[\"Premio_oferecido_com_batente\"]\n"
   ]
  },
  {
   "cell_type": "code",
   "execution_count": null,
   "id": "ddd14584",
   "metadata": {},
   "outputs": [],
   "source": [
    "df  = pd.DataFrame({\"quantity\": pd(quantity),\n",
    "                    \"revenue\": pd.Series(revenue),\n",
    "                    \"premio_in\": pd.Series(premio_in),\n",
    "                    \"negrevenue\": pd.Series(premio_in)})\n",
    "df"
   ]
  },
  {
   "cell_type": "code",
   "execution_count": null,
   "id": "73b1dc1e",
   "metadata": {},
   "outputs": [],
   "source": [
    "df_lote_otim = df_lote_otim_atu.sample(n = 500) "
   ]
  },
  {
   "cell_type": "code",
   "execution_count": null,
   "id": "e43903b0",
   "metadata": {},
   "outputs": [],
   "source": [
    "#df_lote_otim = df_otim1\n",
    "df_lote_otim.shape"
   ]
  },
  {
   "cell_type": "code",
   "execution_count": null,
   "id": "14524f15",
   "metadata": {},
   "outputs": [],
   "source": [
    "df_lote_otim[\"Margem Inicial\"] = df_lote_otim[\"prob_est\"]*(df_lote_otim[\"Premio_oferecido_com_batente\"]-df_lote_otim[\"Act_cost\"])"
   ]
  },
  {
   "cell_type": "code",
   "execution_count": null,
   "id": "5c4e5f82",
   "metadata": {},
   "outputs": [],
   "source": [
    "print('Premio Inicial: %2f' % np.mean(df_lote_otim[\"premio\"]))\n",
    "print('Probabilidade Inicial: %2f' % np.mean(df_lote_otim[\"prob_est\"]))\n",
    "print('Margem Inicial: %2f' % np.mean(df_lote_otim[\"Margem Inicial\"]))"
   ]
  },
  {
   "cell_type": "markdown",
   "id": "bc7f4798",
   "metadata": {},
   "source": [
    "#########################################"
   ]
  },
  {
   "cell_type": "code",
   "execution_count": null,
   "id": "16702559",
   "metadata": {},
   "outputs": [],
   "source": [
    "%%time\n",
    "\n",
    "def demand(premio):\n",
    "    df_lote_otim[\"premio\"]=premio\n",
    "    demanda= model.predict(df_lote_otim)\n",
    "    return demanda\n",
    "\n",
    "def revenue(premio):\n",
    "    df_lote_otim[\"premio\"]=premio\n",
    "    return premio * demand(premio)\n",
    "\n",
    "\n",
    "def negrevenue(premio,demanda_alvo):\n",
    "    df_lote_otim[\"premio\"]=premio\n",
    "    df_lote_otim[\"demanda_alvo\"]=demanda_alvo\n",
    "    margem =  revenue(premio)\n",
    "    return -np.sum(margem)\n",
    "\n",
    "# restricão demanda alvo\n",
    "def constraint(premio,demanda_alvo):\n",
    "    df_lote_otim[\"premio\"]=premio\n",
    "    demanda= model.predict(df_lote_otim)\n",
    "    demanda_alvo = df_lote_otim[\"demanda_alvo\"]\n",
    "    return  np.sum(demanda) - np.sum(demanda_alvo)\n",
    "\n",
    "\n",
    "def constraint2(premio,demanda_alvo):\n",
    "    margem_inicial = df_lote_otim[\"prob_est\"]*(df_lote_otim[\"Premio_oferecido_com_batente\"]-df_lote_otim[\"Act_cost\"])\n",
    "    df_lote_otim[\"premio\"]=premio\n",
    "    df_lote_otim[\"demanda\"] = model.predict(df_lote_otim)\n",
    "    demanda_alvo = df_lote_otim[\"demanda_alvo\"]\n",
    "    margem_otim = df_lote_otim[\"demanda\"]*(df_lote_otim[\"premio\"]-df_lote_otim[\"Act_cost\"])\n",
    "    return  np.sum(margem_otim) - np.sum(margem_inicial)\n",
    "\n",
    "\n",
    "def constraint3(premio,demanda_alvo):\n",
    "    lb = df_lote_otim[\"Premio_oferecido_com_batente\"]*0.90\n",
    "    return lb\n",
    "\n",
    "def constraint4(premio,demanda_alvo):\n",
    "    ub = df_lote_otim[\"Premio_oferecido_com_batente\"]*1.1\n",
    "    return ub\n",
    " \n",
    "restr_demanda = {'type': 'eq', 'fun': constraint}   \n",
    "restr_margem  = {'type': 'ineq', 'fun': constraint2} \n",
    "restr_lb = {'type': 'ineq', 'fun': constraint3}   \n",
    "restr_ub  = {'type': 'ineq', 'fun': constraint4} \n",
    " \n",
    "#restricoes = ([restr_demanda,restr_margem,restr_lb,restr_ub])     \n",
    "\n",
    "restricoes = ([restr_demanda,restr_margem])    \n",
    "\n",
    "demanda_base_case = np.round(np.mean(df_lote[\"prob_est\"]),2)\n",
    "\n",
    "demanda_alvo=0.5\n",
    "\n",
    "premio_inicial = df_lote_otim[\"Premio_oferecido_com_batente\"]*(demanda_base_case/demanda_alvo)\n",
    "\n",
    "# limitando o premio fique dentro do range\n",
    "bounds = [(0.9 * premio_base, premio_base*1.1) for premio_base in df_lote_otim[\"Premio_oferecido_com_batente\"]]\n",
    "\n",
    "# rodando a otimizaçao\n",
    "result = minimize(negrevenue,\n",
    "                  premio_inicial,\n",
    "                  args=(demanda_alvo), \n",
    "                  method = 'L-BFGS-B', \n",
    "                  tol=0.01,\n",
    "                  constraints=restricoes,\n",
    "                  bounds=bounds)"
   ]
  },
  {
   "cell_type": "code",
   "execution_count": null,
   "id": "8a5566e9",
   "metadata": {},
   "outputs": [],
   "source": [
    "# premio otimizados\n",
    "premio_otim = result.x\n",
    "df_lote_otim[\"premio\"]=result.x\n",
    "\n",
    "df_lote_otim[\"demanda otimizada\"] = model.predict(df_lote_otim)\n",
    "df_lote_otim[\"Margem otimizada\"] = df_lote_otim[\"demanda otimizada\"]*(df_lote_otim[\"premio\"]-df_lote_otim[\"Act_cost\"])\n",
    "\n",
    "print(np.mean(df_lote_otim[\"Premio_oferecido_com_batente\"]))\n",
    "print(np.mean(df_lote_otim[\"premio\"]))\n",
    "print(np.mean(df_lote_otim[\"Margem Inicial\"]))\n",
    "print(np.mean(df_lote_otim[\"Margem otimizada\"]))\n",
    "print(np.mean(df_lote_otim[\"prob_est\"]))\n",
    "print(np.mean(df_lote_otim[\"demanda otimizada\"]))"
   ]
  },
  {
   "cell_type": "code",
   "execution_count": null,
   "id": "99597db7",
   "metadata": {},
   "outputs": [],
   "source": [
    "%%time\n",
    "\n",
    "def margem_esperada(premio,demanda_alvo):\n",
    "    df_lote_otim[\"premio\"]=premio\n",
    "    demanda= model.predict(df_lote_otim)\n",
    "    df_lote_otim[\"demanda_alvo\"]=demanda_alvo\n",
    "    custo= df_lote_otim[\"Act_cost\"]\n",
    "    #margem_esperada = demanda *np.exp(-0.0005*premio) * (premio-custo)\n",
    "    margem_esperada = demanda *np.exp(-0.0005*premio) * (premio-custo)\n",
    "    margem_total = -np.sum(margem_esperada) \n",
    "    return margem_total\n",
    "\n",
    "# restricão demanda alvo\n",
    "def constraint(premio,demanda_alvo):\n",
    "    df_lote_otim[\"premio\"]=premio\n",
    "    demanda= model.predict(df_lote_otim)\n",
    "    demanda_alvo = df_lote_otim[\"demanda_alvo\"]\n",
    "    return  np.sum(demanda) - np.sum(demanda_alvo)\n",
    "\n",
    "\n",
    "def constraint2(premio,demanda_alvo):\n",
    "    margem_inicial = df_lote_otim[\"prob_est\"]*(df_lote_otim[\"Premio_oferecido_com_batente\"]-df_lote_otim[\"Act_cost\"])\n",
    "    df_lote_otim[\"premio\"]=premio\n",
    "    df_lote_otim[\"demanda\"] = model.predict(df_lote_otim)\n",
    "    demanda_alvo = df_lote_otim[\"demanda_alvo\"]\n",
    "    margem_otim = df_lote_otim[\"demanda\"]*(df_lote_otim[\"premio\"]-df_lote_otim[\"Act_cost\"])\n",
    "    return  np.sum(margem_otim) - np.sum(margem_inicial)\n",
    "\n",
    "\n",
    "def constraint3(premio,demanda_alvo):\n",
    "    lb = df_lote_otim[\"Premio_oferecido_com_batente\"]*0.90\n",
    "    return lb\n",
    "\n",
    "def constraint4(premio,demanda_alvo):\n",
    "    ub = df_lote_otim[\"Premio_oferecido_com_batente\"]*1.1\n",
    "    return ub\n",
    " \n",
    "restr_demanda = {'type': 'eq', 'fun': constraint}   \n",
    "restr_margem  = {'type': 'ineq', 'fun': constraint2} \n",
    "restr_lb = {'type': 'ineq', 'fun': constraint3}   \n",
    "restr_ub  = {'type': 'ineq', 'fun': constraint4} \n",
    " \n",
    "#restricoes = ([restr_demanda,restr_margem,restr_lb,restr_ub])     \n",
    "\n",
    "restricoes = ([restr_demanda,restr_margem])    \n",
    "\n",
    "demanda_base_case = np.round(np.mean(df_lote[\"prob_est\"]),2)\n",
    "\n",
    "demanda_alvo=0.55\n",
    "\n",
    "#remio_inicial = df_lote_otim[\"Premio_oferecido_com_batente\"]*(demanda_base_case/demanda_alvo)\n",
    "premio_inicial = df_lote_otim[\"Premio_oferecido_com_batente\"]\n",
    "# limitando o premio fique dentro do range\n",
    "bounds = [(0.9 * premio_base, premio_base*1.1) for premio_base in df_lote_otim[\"Premio_oferecido_com_batente\"]]\n",
    "\n",
    "# rodando a otimizaçao\n",
    "result = minimize(margem_esperada,\n",
    "                  premio_inicial,\n",
    "                  args=(demanda_alvo), \n",
    "                  method = 'L-BFGS-B', \n",
    "                  tol=0.01,\n",
    "                  constraints=restricoes,\n",
    "                  bounds=bounds)\n",
    "\n"
   ]
  },
  {
   "cell_type": "code",
   "execution_count": null,
   "id": "2b8c1bb1",
   "metadata": {},
   "outputs": [],
   "source": [
    "print(result.x)"
   ]
  },
  {
   "cell_type": "code",
   "execution_count": null,
   "id": "dd7a3f6a",
   "metadata": {},
   "outputs": [],
   "source": [
    "print(result.fun)"
   ]
  },
  {
   "cell_type": "code",
   "execution_count": null,
   "id": "f4ed994e",
   "metadata": {},
   "outputs": [],
   "source": [
    "# premio otimizados\n",
    "premio_otim = result.x\n",
    "df_lote_otim[\"premio\"]=result.x\n",
    "\n",
    "df_lote_otim[\"demanda otimizada\"] = model.predict(df_lote_otim)\n",
    "df_lote_otim[\"Margem otimizada\"] = df_lote_otim[\"demanda otimizada\"]*(df_lote_otim[\"premio\"]-df_lote_otim[\"Act_cost\"])"
   ]
  },
  {
   "cell_type": "code",
   "execution_count": null,
   "id": "89c0830a",
   "metadata": {},
   "outputs": [],
   "source": [
    "print(np.mean(df_lote_otim[\"Premio_oferecido_com_batente\"]))\n",
    "print(np.mean(df_lote_otim[\"premio\"]))\n",
    "print(np.mean(df_lote_otim[\"Margem Inicial\"]))\n",
    "print(np.mean(df_lote_otim[\"Margem otimizada\"]))\n",
    "print(np.mean(df_lote_otim[\"prob_est\"]))\n",
    "print(np.mean(df_lote_otim[\"demanda otimizada\"]))\n"
   ]
  },
  {
   "cell_type": "code",
   "execution_count": null,
   "id": "fb3191b0",
   "metadata": {},
   "outputs": [],
   "source": [
    "prices_df = pd.DataFrame({\n",
    "    'chave': df_lote_otim[\"chave\"],\n",
    "    'Act_cost':  df_lote_otim[\"Act_cost\"],\n",
    "    'Premio ofertado com batente':  df_lote_otim[\"Premio_oferecido_com_batente\"],\n",
    "    'Optimized Prices': df_lote_otim[\"premio\"],\n",
    "    'lb_bound' : [b[0] for b in bounds],\n",
    "    'up_bound' : [b[1] for b in bounds],\n",
    "    'prob_est':         df_lote_otim[\"prob_est\"],\n",
    "    'renewal demand':df_lote_otim[\"demanda otimizada\"],\n",
    "    'variação':df_lote_otim[\"premio\"]/df_lote_otim[\"Premio_oferecido_com_batente\"]\n",
    "})\n",
    "prices_df.head(20)"
   ]
  },
  {
   "cell_type": "code",
   "execution_count": null,
   "id": "727607a7",
   "metadata": {},
   "outputs": [],
   "source": [
    "df_plot = df_lote_otim[[\"prob_est\",\"premio\",\"Amostra\"]].copy()\n",
    "df_plot.dtypes\n"
   ]
  },
  {
   "cell_type": "code",
   "execution_count": null,
   "id": "5053b173",
   "metadata": {},
   "outputs": [],
   "source": [
    "df_plot.groupby(['Amostra'])['prob_est'].mean()"
   ]
  },
  {
   "cell_type": "code",
   "execution_count": null,
   "id": "00482c07",
   "metadata": {},
   "outputs": [],
   "source": [
    "# teste\n",
    "teste = df_plot.groupby(['Amostra'], as_index=False).agg({'prob_est':['mean','std']})\n",
    "teste\n"
   ]
  },
  {
   "cell_type": "code",
   "execution_count": null,
   "id": "11c891c7",
   "metadata": {},
   "outputs": [],
   "source": [
    "#df_plot[\"range_preco\"] = list(range(np.min(df_plot[\"premio\"].astype('int')), np.max(df_plot[\"premio\"].astype('int')), 500))\n",
    "\n"
   ]
  },
  {
   "cell_type": "code",
   "execution_count": null,
   "id": "dcaf628f",
   "metadata": {},
   "outputs": [],
   "source": [
    "#plt.figure(figsize=(9,6))\n",
    "#plt.plot(preco, np.mean(prices_df['renewal demand']), color='grey')\n",
    "#plt.xlabel('Preço')\n",
    "#plt.ylabel('Renovação');\n",
    "#plt.title('Preço Renov');"
   ]
  },
  {
   "cell_type": "code",
   "execution_count": null,
   "id": "c76d2557",
   "metadata": {},
   "outputs": [],
   "source": [
    "prices_df[\"variação\"].describe()"
   ]
  },
  {
   "cell_type": "markdown",
   "id": "11fa579c",
   "metadata": {},
   "source": [
    "#criando a função"
   ]
  },
  {
   "cell_type": "code",
   "execution_count": null,
   "id": "e03fc056",
   "metadata": {},
   "outputs": [],
   "source": [
    "df_relatorio = df_lote_otim.copy()\n",
    "df_relatorio"
   ]
  },
  {
   "cell_type": "code",
   "execution_count": null,
   "id": "68cedf4a",
   "metadata": {},
   "outputs": [],
   "source": [
    "df_relatorio[\"per_com_pct\"] = df_relatorio['per_com']/100\n",
    "df_relatorio[\"premio_prob\"] = df_relatorio[\"demanda otimizada\"]*df_relatorio[\"premio\"]\n",
    "df_relatorio[\"Act_cost_prob\"] = df_relatorio[\"demanda otimizada\"]*df_relatorio[\"Act_cost\"]                                                                \n",
    "df_relatorio[\"comissao_valor\"] = df_relatorio[\"per_com_pct\"] *df_relatorio[\"premio\"]\n",
    "df_relatorio[\"comissao_valor_prob\"] = df_relatorio[\"per_com_pct\"] *df_relatorio[\"premio_prob\"]\n"
   ]
  },
  {
   "cell_type": "code",
   "execution_count": null,
   "id": "d04c3892",
   "metadata": {},
   "outputs": [],
   "source": [
    "apolice_ofertada  = np.round(df_relatorio.shape[0],0)\n",
    "apolice_estimada  = np.round(np.sum(df_relatorio[\"demanda otimizada\"]),0)\n",
    "premio_ofertado   = np.mean(df_relatorio[\"premio\"])\n",
    "retencao_estimada = np.mean(df_relatorio[\"demanda otimizada\"])\n",
    "retencao_base_case = np.mean(df_relatorio[\"prob_est\"])\n",
    "premio_esperado   = np.sum(df_relatorio[\"premio_prob\"])/np.sum(df_relatorio[\"demanda otimizada\"])\n",
    "risco_ofertado    = np.mean(df_relatorio[\"Act_cost\"])\n",
    "risco_esperado    = np.sum(df_relatorio[\"Act_cost_prob\"])/np.sum(df_relatorio[\"demanda otimizada\"])\n",
    "sp_ofertado       = np.sum(df_relatorio[\"Act_cost\"])/np.sum(df_relatorio[\"premio\"])\n",
    "sp_esperado       = np.sum(df_relatorio[\"Act_cost_prob\"])/np.sum(df_relatorio[\"premio_prob\"])\n",
    "comis_ofertado    = np.sum(df_relatorio[\"comissao_valor\"])/np.sum(df_relatorio[\"premio\"])\n",
    "comis_esperado    = np.sum(df_relatorio[\"comissao_valor_prob\"])/np.sum(df_relatorio[\"premio_prob\"])\n",
    "ic_ofertado       =  sp_ofertado  +  comis_ofertado + 0.2749\n",
    "ic_esperado       =  sp_esperado  +  comis_esperado + 0.2749"
   ]
  },
  {
   "cell_type": "code",
   "execution_count": null,
   "id": "871bfc91",
   "metadata": {},
   "outputs": [],
   "source": [
    "print('Apolices Ofertadas: %s' % apolice_ofertada)\n",
    "print('Apolices Renovadas: %s' % apolice_estimada)\n",
    "print('premio_ofertado: %s' % np.round(premio_ofertado,2))\n",
    "print('retencao_baseCase : %s' % np.round(retencao_base_case*100,2))\n",
    "print('retencao_estimada : %s' % np.round(retencao_estimada*100,2))\n",
    "print('premio_esperado\" : %s'  %np.round( premio_esperado,2))\n",
    "print('risco_ofertado\" : %s'  %  np.round(risco_ofertado,2))\n",
    "print('risco_esperado\" : %s'  %  np.round(risco_esperado,2))\n",
    "print('sp_ofertado\" : %s'  % np.round(sp_ofertado*100,2))\n",
    "print('sp_esperado\" : %s'  % np.round(sp_esperado*100,2))\n",
    "print('ic_ofertado\" : %s'  % np.round(ic_ofertado*100,2))\n",
    "print('ic_esperado\" : %s'  % np.round(ic_esperado*100,2))"
   ]
  },
  {
   "cell_type": "code",
   "execution_count": null,
   "id": "9e186143",
   "metadata": {},
   "outputs": [],
   "source": [
    "def maxProfit(prices):\n",
    "    dif=[]\n",
    "    current_min=[]\n",
    "    for i in range(len(prices)):\n",
    "        for k in range(1,len(prices)):\n",
    "            dif.append(prices[i]-prices[k])\n",
    "            if prices[i]-prices[k]==min(dif):\n",
    "                if i<k:\n",
    "                    current_min.append([i,k])\n",
    "    print(\"current indices of price array where profit is maximum:\" +str(current_min))\n",
    "    \n",
    "    res=prices[current_min[-1][1]]-prices[current_min[-1][0]]\n",
    "    if res<0:\n",
    "        return str(0) + \"\\n\"\n",
    "    elif res>=0:\n",
    "        return \"Max profit is \" +str(res) + \"\\n\"\n",
    "    \n",
    "  "
   ]
  },
  {
   "cell_type": "code",
   "execution_count": null,
   "id": "0872db7b",
   "metadata": {},
   "outputs": [],
   "source": [
    "print(maxProfit([7,1,5,3,6,4]))"
   ]
  },
  {
   "cell_type": "code",
   "execution_count": null,
   "id": "24580ba2",
   "metadata": {},
   "outputs": [],
   "source": [
    "          if i<k:                                # Is the trade valid?\n",
    "            dif.append(prices[i]-prices[k])    # Update the dif and \n",
    "            if prices[i]-prices[k]==min(dif):  # current_min arrays.\n",
    "                current_min.append([i,k])\n",
    "                \n",
    "\n",
    "print(maxProfit([7,6,4,3,1]))\n",
    "print(maxProfit([3,3,5,0,0,3,1,4]))\n",
    "print(maxProfit([3,3,0,3,1,4]))"
   ]
  }
 ],
 "metadata": {
  "kernelspec": {
   "display_name": "Python 3 (ipykernel)",
   "language": "python",
   "name": "python3"
  },
  "language_info": {
   "codemirror_mode": {
    "name": "ipython",
    "version": 3
   },
   "file_extension": ".py",
   "mimetype": "text/x-python",
   "name": "python",
   "nbconvert_exporter": "python",
   "pygments_lexer": "ipython3",
   "version": "3.10.9"
  }
 },
 "nbformat": 4,
 "nbformat_minor": 5
}
