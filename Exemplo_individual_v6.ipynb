{
 "cells": [
  {
   "cell_type": "code",
   "execution_count": 1,
   "id": "4317d284",
   "metadata": {},
   "outputs": [],
   "source": [
    "import pandas as pd\n",
    "import seaborn as sns\n",
    "import matplotlib.pyplot as plt\n",
    "import numpy as np\n",
    "\n",
    "from scipy.optimize import minimize\n",
    "from scipy.optimize import differential_evolution\n",
    "\n",
    "from sklearn.preprocessing import LabelEncoder\n",
    "from sklearn.model_selection import train_test_split\n",
    "from sklearn import metrics\n",
    "from sklearn.preprocessing import StandardScaler\n",
    "\n",
    "from sklearn.tree import DecisionTreeRegressor\n",
    "from sklearn.ensemble import RandomForestRegressor\n",
    "import xgboost as xgb\n",
    "from sklearn.metrics import mean_squared_error, mean_absolute_error, r2_score\n",
    "from sklearn.linear_model import LinearRegression\n",
    "\n",
    "from numpy import asarray\n",
    "from sklearn.preprocessing import OrdinalEncoder\n",
    "\n",
    "import warnings\n",
    "warnings.filterwarnings('ignore')\n"
   ]
  },
  {
   "cell_type": "code",
   "execution_count": 2,
   "id": "687abc4a",
   "metadata": {
    "scrolled": true
   },
   "outputs": [],
   "source": [
    "def categorizar(df):\n",
    "    \n",
    "    df['classe_bonus_bin'] = df['classe_bonus'].apply(lambda x: '00'  if x == 0 else 'Demais')   \n",
    "    \n",
    "    df['MD_sexo_bin'] = df['MD_sexo'].map({'Masculino': 'Masculino', \n",
    "                                 'Feminino': 'Feminino', \n",
    "                                  'ERRO': 'Masculino'}).astype(object)\n",
    "    \n",
    "    df['MD_sexo_2bin'] = df['MD_sexo'].map({'Masculino': 1, \n",
    "                                 'Feminino': 0, \n",
    "                                  'ERRO': 1}).astype(int)\n",
    "\n",
    "\n",
    "    df['fx_ir_12m_bin'] = df['fx_ir_12m'].apply(lambda x: '01_00_20' if x == '01 - 00-<=020' else\n",
    "                                                          '02_20_40' if x == '02 - 20-<=040' else\n",
    "                                                          '03_40_60' if x == '03 - 40-<=060' else\n",
    "                                                          '04_60_80' if x == '04 - 60-<=080' else\n",
    "                                                          '05_80_100' if x == '05 - 80-<=100' else\n",
    "                                                          '02_20_40' if x == 'NI'           else 'ERROR')\n",
    "\n",
    "  \n",
    "    df['MD_comb_bin'] = df['MD_comb'].apply(lambda x: 'Gasolina' if x == 'Gasolina'  else 'Demais')\n",
    "\n",
    "    df['canal_bin'] =  df['canal'].apply(lambda x: 'Corretor_Mais' if x == 'Corretor Mais' else \n",
    "                                                   'Corretor_Mais' if x == 'CorretorMais'\n",
    "                                                                   else    'Demais')\n",
    "   \n",
    "    df['per_com_bin'] = df['per_com'].apply(lambda x: 'p_1_10' if x < 10 else\n",
    "                                                      'p_10_35' if x >= 10 else 'ERROR')    \n",
    "\n",
    "\n",
    "\n",
    "    df['idade_ult_RNS_bin'] = df['idade_ult_RNS'].apply(lambda x:     'Sem_Sinistro' if x == 'Sem Sinistro' else\n",
    "                                                                      '01_05_anos' if x == '01 ano' else\n",
    "                                                                      '01_05_anos' if x == '02 anos' else\n",
    "                                                                      '01_05_anos' if x == '03 anos' else\n",
    "                                                                      '01_05_anos' if x == '04 anos' else\n",
    "                                                                      '01_05_anos' if x == '05 anos' else '06_inf')\n",
    "\n",
    "\n",
    "    df['UF_bin'] = df['UF'].apply(lambda x:     'AL_CE_RS'  if x == 'AL' else\n",
    "                                                'AL_CE_RS'  if x == 'CE' else\n",
    "                                                'AL_CE_RS'  if x == 'RS' else \n",
    "                                                'AP_DF_ES_PA_PB_RN_SC' if x == 'AP' else \n",
    "                                                'AP_DF_ES_PA_PB_RN_SC' if x == 'DF' else \n",
    "                                                'AP_DF_ES_PA_PB_RN_SC' if x == 'ES' else \n",
    "                                                'AP_DF_ES_PA_PB_RN_SC' if x == 'PA' else \n",
    "                                                'AP_DF_ES_PA_PB_RN_SC' if x == 'PB' else \n",
    "                                                'AP_DF_ES_PA_PB_RN_SC' if x == 'RN' else \n",
    "                                                'AP_DF_ES_PA_PB_RN_SC' if x == 'SC' else \n",
    "                                                'GO_MA_MG'             if x == 'GO' else \n",
    "                                                'GO_MA_MG'             if x == 'MA' else \n",
    "                                                'GO_MA_MG'             if x == 'MG' else \n",
    "                                                'MT_PR'                if x == 'MT' else\n",
    "                                                'MT_PR'                if x == 'PR' else \n",
    "                                                'RJ'                   if x == 'RJ' else  \n",
    "                                                'Demais')\n",
    "\n",
    "    df['md_tipo_renov_ant_bin'] = df['Renovacao_ant'].apply(lambda x:     '1_SeguroNovo'       if x == '1 - Seguro Novo'  else\n",
    "                                                                          '2_RenovPropria'     if x == '2 - Renov MAPFRE sem sinistro'   else\n",
    "                                                                          '2_RenovPropria'     if x == '3 - Renov MAPFRE com sinistro'   else\n",
    "                                                                          '3_RenovCongenere'   if x == '4 - Renov Congenere sem sinistro' else\n",
    "                                                                          '3_RenovCongenere'   if x == '5 - Renov Congenere com sinistro' else\n",
    "                                                                          '3_RenovCongenere'   if x == '6 - Renov BB sem sinistro' else\n",
    "                                                                          '3_RenovCongenere'   if x == '7 - Renov BB com sinistro' else  \n",
    "                                                                          '2_RenovPropria')\n",
    "  \n",
    "    df['MD_tipo_renov_bin'] = df['MD_tipo_renov'].apply(lambda x:          '2_RenovPropria_sem_sin'     if x == '2 - Renov MAPFRE sem sinistro'   else\n",
    "                                                                           '3_RenovPropria_com_sin'     if x == '3 - Renov MAPFRE com sinistro'   else\n",
    "                                                                           'Error')\n",
    "   \n",
    "     \n",
    "    df['Cod_End_bin'] = df['Cod_End'].apply(lambda x: '13509'  if x == 13509 else\n",
    "                                                      '13509'  if x == 50007 else\n",
    "                                                      '13509'  if x == 50100 else 'Demais')   \n",
    "\n",
    "    df['MD_capac_bin'] = df['MD_capac'].apply(lambda x: '5'  if x == 5  else 'Demais')  \n",
    "\n",
    "\n",
    "\n",
    "    df['fator_ajuste_bin'] = df['MD_fator_ajuste'].apply(lambda x: 'f_80_101'    if x < 101 else\n",
    "                                                                   'f_101_120'   if x >= 101  else \n",
    "                                                                   'f_80_101')   \n",
    "    \n",
    "    return df"
   ]
  },
  {
   "cell_type": "markdown",
   "id": "808c929f",
   "metadata": {},
   "source": [
    "## Base Para escorar e otimizar"
   ]
  },
  {
   "cell_type": "code",
   "execution_count": 4,
   "id": "daae90ef",
   "metadata": {},
   "outputs": [],
   "source": [
    "df_lote_102024 = pd.read_csv(\"C://Flavio/Projeto Otimizacao/Otimizacao/Data Table - Otimizacao segmentacao 49.7.csv\",\n",
    "                     encoding='latin-1',\n",
    "                     delimiter='|')\n",
    "\n",
    "df_lote_102024['GBM_mercado']  = df_lote_102024['GBM_mercado']/(1-df_lote_102024['per_com']/100)"
   ]
  },
  {
   "cell_type": "code",
   "execution_count": 5,
   "id": "451a4bb1",
   "metadata": {},
   "outputs": [],
   "source": [
    "df_lote_escorar=df_lote_102024.copy()"
   ]
  },
  {
   "cell_type": "code",
   "execution_count": 6,
   "id": "f211fcfc",
   "metadata": {},
   "outputs": [],
   "source": [
    "df_lote_escorar[\"premio\"] = df_lote_escorar[\"Premio_oferecido_com_batente\"]"
   ]
  },
  {
   "cell_type": "code",
   "execution_count": 7,
   "id": "6a23c83a",
   "metadata": {},
   "outputs": [],
   "source": [
    "df_lote_escorar.rename(columns={'Pr_anterior_TI':'premio_anterior', \n",
    "                                   'cod_end': 'Cod_End',\n",
    "                                   'md_capac': 'MD_capac',\n",
    "                                   'Classe_bonus':'classe_bonus',\n",
    "                                   'fator_ajuste': 'MD_fator_ajuste'},inplace=True)"
   ]
  },
  {
   "cell_type": "code",
   "execution_count": 8,
   "id": "0edd9824",
   "metadata": {},
   "outputs": [],
   "source": [
    "df_lote = categorizar(df_lote_escorar)"
   ]
  },
  {
   "cell_type": "code",
   "execution_count": 9,
   "id": "29b87316",
   "metadata": {},
   "outputs": [],
   "source": [
    "df_cat = df_lote[['canal_bin', 'Cod_End_bin', 'fator_ajuste_bin', 'per_com_bin', 'classe_bonus_bin', 'UF_bin', 'MD_comb_bin', 'md_tipo_renov_ant_bin', 'fx_ir_12m_bin', 'MD_tipo_renov_bin','idade_ult_RNS_bin']]\n",
    "df_cat_glm=pd.get_dummies(df_cat)\n",
    "df_lote=pd.concat([df_lote,df_cat_glm],axis=1)"
   ]
  },
  {
   "cell_type": "code",
   "execution_count": 10,
   "id": "8ad2c6be",
   "metadata": {},
   "outputs": [
    {
     "data": {
      "text/plain": [
       "(1459, 145)"
      ]
     },
     "execution_count": 10,
     "metadata": {},
     "output_type": "execute_result"
    }
   ],
   "source": [
    "df_lote_escorar.shape"
   ]
  },
  {
   "cell_type": "code",
   "execution_count": 11,
   "id": "5c464f7a",
   "metadata": {},
   "outputs": [],
   "source": [
    "df_lote = df_lote\n",
    "#df_lote = df\n",
    "#df_lote = df.query('chave == 695900014103100001')\n",
    "P2=(df_lote['premio'])\n",
    "X1=np.array(df_lote['is_casco_ofer'])\n",
    "X2=np.array(df_lote['GBM_mercado'])\n",
    "X3=np.array(df_lote['Premio_IC_100'])\n",
    "X4=np.array(df_lote['premio_anterior'])\n",
    "X5=np.array(df_lote['MD_tempo_casa_2'])\n",
    "X6=np.array(df_lote['per_com'])\n",
    "X7=np.array(df_lote['per_com_bin_p_1_10'])\n",
    "X8=np.array(df_lote['canal_bin_Corretor_Mais'])\n",
    "X9=np.array(df_lote['Cod_End_bin_13509'])\n",
    "X10=np.array(df_lote['fator_ajuste_bin_f_101_120'])\n",
    "X11=np.array(df_lote['classe_bonus_bin_00'])\n",
    "X12=np.array(df_lote['UF_bin_AL_CE_RS'])\n",
    "X13=np.array(df_lote['UF_bin_AP_DF_ES_PA_PB_RN_SC'])\n",
    "X14=np.array(df_lote['UF_bin_GO_MA_MG'])\n",
    "X15=np.array(df_lote['UF_bin_MT_PR'])\n",
    "X16=np.array(df_lote['UF_bin_RJ'])\n",
    "X17=np.array(df_lote['MD_comb_bin_Gasolina'])\n",
    "X18=np.array(df_lote['md_tipo_renov_ant_bin_1_SeguroNovo'])\n",
    "X19=np.array(df_lote['md_tipo_renov_ant_bin_3_RenovCongenere'])\n",
    "X20=np.array(df_lote['fx_ir_12m_bin_01_00_20'])\n",
    "X21=np.array(df_lote['fx_ir_12m_bin_03_40_60'])\n",
    "X22=np.array(df_lote['fx_ir_12m_bin_04_60_80'])\n",
    "X23=np.array(df_lote['fx_ir_12m_bin_05_80_100'])\n",
    "X24=np.array(df_lote['MD_tipo_renov_bin_3_RenovPropria_com_sin'])\n",
    "X25=np.array(df_lote['idade_ult_RNS_bin_01_05_anos'])\n",
    "X26=np.array(df_lote['idade_ult_RNS_bin_06_inf'])\n",
    "X26=np.array(df_lote['idade_ult_RNS_bin_06_inf'])\n",
    "def demanda(P2,X1,X2,X3,X4,X5,X6,X7,X8,X9,X10,X11,X12,X13,X14,X15,X16,X17,X18,X19,X20,X21,X22,X23,X24,X25,X26):\n",
    "    D=np.exp(1.3356 -0.2576 * np.log(P2)  + 1.3647 * np.divide(P2, X1)-0.8782 * np.log(np.divide(P2, X2))-0.795 * np.log(np.divide(P2, X3))-1.6731 * np.log((np.divide(P2, X4)))  + 0.3797 * np.log(X5 + 1)  + 0.0011 * X6  + 0.1253 * X7  + 0.1334 * X8-0.1382 * X9  + 0.3919 * X10-0.1397 * X11-0.2305 * X12-0.2832 * X13  + 0.0024 * X14-0.1476 * X15  + 0.2817 * X16  + 0.3336 * X17-0.4115 * X18  + 0.0127 * X19-0.73 * X20  + 0.4343 * X21  + 1.1066 * X22  + 1.9561 * X23-0.0742 * X24 -0.84590*X25- 0.7094 * X26)\n",
    "    return D/(1+D)\n",
    "\n"
   ]
  },
  {
   "cell_type": "code",
   "execution_count": 12,
   "id": "3a7f6f2c",
   "metadata": {},
   "outputs": [],
   "source": [
    "df_lote[\"Demanda_base\"]=demanda(P2,X1,X2,X3,X4,X5,X6,X7,X8,X9,X10,X11,X12,X13,X14,X15,X16,X17,X18,X19,X20,X21,X22,X23,X24,X25,X26)\n",
    "df_lote[\"per_com_pct\"] = df_lote['per_com']/100\n",
    "df_lote[\"premio_prob\"] = df_lote[\"Demanda_base\"]*df_lote[\"premio\"]\n",
    "df_lote[\"premio_anterior_prob\"] = df_lote[\"Demanda_base\"]*df_lote[\"premio_anterior\"]\n",
    "df_lote[\"Act_cost_prob\"] = df_lote[\"Demanda_base\"]*df_lote[\"Act_cost\"]                                                                \n",
    "df_lote[\"comissao_valor\"] = df_lote[\"per_com_pct\"] *df_lote[\"premio\"]\n",
    "df_lote[\"comissao_valor_prob\"] = df_lote[\"per_com_pct\"] *df_lote[\"premio_prob\"]"
   ]
  },
  {
   "cell_type": "code",
   "execution_count": 13,
   "id": "a6513ef3",
   "metadata": {},
   "outputs": [
    {
     "data": {
      "text/plain": [
       "(1459, 183)"
      ]
     },
     "execution_count": 13,
     "metadata": {},
     "output_type": "execute_result"
    }
   ],
   "source": [
    "df_lote.shape"
   ]
  },
  {
   "cell_type": "code",
   "execution_count": 14,
   "id": "5e5b4e41",
   "metadata": {},
   "outputs": [
    {
     "data": {
      "text/plain": [
       "0.5073676747519267"
      ]
     },
     "execution_count": 14,
     "metadata": {},
     "output_type": "execute_result"
    }
   ],
   "source": [
    "np.mean(df_lote['Demanda_base'])"
   ]
  },
  {
   "cell_type": "code",
   "execution_count": 15,
   "id": "6f9a5da6",
   "metadata": {},
   "outputs": [
    {
     "name": "stdout",
     "output_type": "stream",
     "text": [
      "Apolices Ofertadas: 1459\n",
      "Apolices Renovadas: 740.0\n",
      "premio_ofertado: 2993.3\n",
      "retencao_estimada : 50.74\n",
      "premio_esperado\" : 2388.44\n",
      "risco_ofertado\" : 1726.89\n",
      "risco_esperado\" : 1347.66\n",
      "sp_ofertado\" : 57.69\n",
      "sp_esperado\" : 56.42\n",
      "ic_ofertado\" : 100.78\n",
      "ic_esperado\" : 99.58\n",
      "premio_anterior: 2863.09\n",
      "premio_anterior_w: 2634.39\n"
     ]
    }
   ],
   "source": [
    "apolice_ofertada  = np.round(df_lote.shape[0],0)\n",
    "apolice_estimada  = np.round(np.sum(df_lote[\"Demanda_base\"]),0)\n",
    "premio_ofertado   = np.mean(df_lote[\"premio\"])\n",
    "retencao_estimada = np.mean(df_lote[\"Demanda_base\"])\n",
    "premio_esperado   = np.sum(df_lote[\"premio_prob\"])/np.sum(df_lote[\"Demanda_base\"])\n",
    "risco_ofertado    = np.mean(df_lote[\"Act_cost\"])\n",
    "risco_esperado    = np.sum(df_lote[\"Act_cost_prob\"])/np.sum(df_lote[\"Demanda_base\"])\n",
    "sp_ofertado       = np.sum(df_lote[\"Act_cost\"])/np.sum(df_lote[\"premio\"])\n",
    "sp_esperado       = np.sum(df_lote[\"Act_cost_prob\"])/np.sum(df_lote[\"premio_prob\"])\n",
    "comis_ofertado    = np.sum(df_lote[\"comissao_valor\"])/np.sum(df_lote[\"premio\"])\n",
    "comis_esperado    = np.sum(df_lote[\"comissao_valor_prob\"])/np.sum(df_lote[\"premio_prob\"])\n",
    "\n",
    "premio_anterior   = np.mean(df_lote[\"premio_anterior\"])\n",
    "premio_anterior_w   = np.sum(df_lote[\"premio_anterior_prob\"])/np.sum(df_lote[\"Demanda_base\"])\n",
    "\n",
    "ic_ofertado       =  sp_ofertado  +  comis_ofertado + 0.2749\n",
    "ic_esperado       =  sp_esperado  +  comis_esperado + 0.2749\n",
    "print('Apolices Ofertadas: %s' % apolice_ofertada)\n",
    "print('Apolices Renovadas: %s' % apolice_estimada)\n",
    "print('premio_ofertado: %s' % np.round(premio_ofertado,2))\n",
    "print('retencao_estimada : %s' % np.round(retencao_estimada*100,2))\n",
    "print('premio_esperado\" : %s'  %np.round( premio_esperado,2))\n",
    "print('risco_ofertado\" : %s'  %  np.round(risco_ofertado,2))\n",
    "print('risco_esperado\" : %s'  %  np.round(risco_esperado,2))\n",
    "print('sp_ofertado\" : %s'  % np.round(sp_ofertado*100,2))\n",
    "print('sp_esperado\" : %s'  % np.round(sp_esperado*100,2))\n",
    "print('ic_ofertado\" : %s'  % np.round(ic_ofertado*100,2))\n",
    "print('ic_esperado\" : %s'  % np.round(ic_esperado*100,2))\n",
    "print('premio_anterior: %s' % np.round(premio_anterior,2))\n",
    "print('premio_anterior_w: %s' % np.round(premio_anterior_w,2))"
   ]
  },
  {
   "cell_type": "markdown",
   "id": "a34b6c2a",
   "metadata": {},
   "source": [
    "## Otimização Teste "
   ]
  },
  {
   "cell_type": "code",
   "execution_count": null,
   "id": "4101922e",
   "metadata": {},
   "outputs": [],
   "source": [
    "#print(df_lote['canal'].value_counts(ascending=False))"
   ]
  },
  {
   "cell_type": "code",
   "execution_count": 16,
   "id": "de7683ff",
   "metadata": {
    "scrolled": true
   },
   "outputs": [
    {
     "data": {
      "text/plain": [
       "(1459, 183)"
      ]
     },
     "execution_count": 16,
     "metadata": {},
     "output_type": "execute_result"
    }
   ],
   "source": [
    "df_lote_otim_atu = df_lote.query('Amostra_2 == \"Segmentacao\"')\n",
    "df_lote_otim_atu.shape"
   ]
  },
  {
   "cell_type": "code",
   "execution_count": 17,
   "id": "c22e1e8a",
   "metadata": {},
   "outputs": [
    {
     "data": {
      "text/plain": [
       "(1459, 183)"
      ]
     },
     "execution_count": 17,
     "metadata": {},
     "output_type": "execute_result"
    }
   ],
   "source": [
    "df_lote_otim = df_lote_otim_atu\n",
    "df_lote_otim.shape"
   ]
  },
  {
   "cell_type": "code",
   "execution_count": 18,
   "id": "f7eb0390",
   "metadata": {},
   "outputs": [
    {
     "name": "stdout",
     "output_type": "stream",
     "text": [
      "0.4969852338386432\n",
      "0.49692578162505185\n",
      "0.5073676747519267\n"
     ]
    }
   ],
   "source": [
    "print(np.mean(df_lote_otim['Demanda_basecase'])),\n",
    "print(np.mean(df_lote_otim['Renewal Demand'])),\n",
    "print(np.mean(df_lote_otim['Demanda_base']))"
   ]
  },
  {
   "cell_type": "markdown",
   "id": "bc7f4798",
   "metadata": {},
   "source": [
    "#########################################"
   ]
  },
  {
   "cell_type": "code",
   "execution_count": 19,
   "id": "1f7d361c",
   "metadata": {},
   "outputs": [
    {
     "name": "stdout",
     "output_type": "stream",
     "text": [
      "Apolices Ofertadas: 1459\n",
      "Apolices Renovadas: 740.0\n",
      "premio_ofertado: 2993.3\n",
      "retencao_estimada : 50.74\n",
      "premio_esperado\" : 2388.44\n",
      "risco_ofertado\" : 1726.89\n",
      "risco_esperado\" : 1347.66\n",
      "sp_ofertado\" : 57.69\n",
      "sp_esperado\" : 56.42\n",
      "ic_ofertado\" : 100.78\n",
      "ic_esperado\" : 99.58\n"
     ]
    }
   ],
   "source": [
    "df_relatorio_bc = df_lote_otim.copy()\n",
    "\n",
    "df_relatorio_bc[\"per_com_pct\"] = df_relatorio_bc['per_com']/100\n",
    "df_relatorio_bc[\"premio_prob\"] = df_relatorio_bc[\"Demanda_base\"]*df_relatorio_bc[\"premio\"]\n",
    "df_relatorio_bc[\"Act_cost_prob\"] = df_relatorio_bc[\"Demanda_base\"]*df_relatorio_bc[\"Act_cost\"]                                                                \n",
    "df_relatorio_bc[\"comissao_valor\"] = df_relatorio_bc[\"per_com_pct\"] *df_relatorio_bc[\"premio\"]\n",
    "df_relatorio_bc[\"comissao_valor_prob\"] = df_relatorio_bc[\"per_com_pct\"] *df_relatorio_bc[\"premio_prob\"]\n",
    "\n",
    "apolice_ofertada  = np.round(df_relatorio_bc.shape[0],0)\n",
    "apolice_estimada  = np.round(np.sum(df_relatorio_bc[\"Demanda_base\"]),0)\n",
    "premio_ofertado   = np.mean(df_relatorio_bc[\"premio\"])\n",
    "retencao_estimada = np.mean(df_relatorio_bc[\"Demanda_base\"])\n",
    "premio_esperado   = np.sum(df_relatorio_bc[\"premio_prob\"])/np.sum(df_relatorio_bc[\"Demanda_base\"])\n",
    "risco_ofertado    = np.mean(df_relatorio_bc[\"Act_cost\"])\n",
    "risco_esperado    = np.sum(df_relatorio_bc[\"Act_cost_prob\"])/np.sum(df_relatorio_bc[\"Demanda_base\"])\n",
    "sp_ofertado       = np.sum(df_relatorio_bc[\"Act_cost\"])/np.sum(df_relatorio_bc[\"premio\"])\n",
    "sp_esperado       = np.sum(df_relatorio_bc[\"Act_cost_prob\"])/np.sum(df_relatorio_bc[\"premio_prob\"])\n",
    "comis_ofertado    = np.sum(df_relatorio_bc[\"comissao_valor\"])/np.sum(df_relatorio_bc[\"premio\"])\n",
    "comis_esperado    = np.sum(df_relatorio_bc[\"comissao_valor_prob\"])/np.sum(df_relatorio_bc[\"premio_prob\"])\n",
    "ic_ofertado       =  sp_ofertado  +  comis_ofertado + 0.2749\n",
    "ic_esperado       =  sp_esperado  +  comis_esperado + 0.2749\n",
    "\n",
    "print('Apolices Ofertadas: %s' % apolice_ofertada)\n",
    "print('Apolices Renovadas: %s' % apolice_estimada)\n",
    "print('premio_ofertado: %s' % np.round(premio_ofertado,2))\n",
    "print('retencao_estimada : %s' % np.round(retencao_estimada*100,2))\n",
    "print('premio_esperado\" : %s'  %np.round( premio_esperado,2))\n",
    "print('risco_ofertado\" : %s'  %  np.round(risco_ofertado,2))\n",
    "print('risco_esperado\" : %s'  %  np.round(risco_esperado,2))\n",
    "print('sp_ofertado\" : %s'  % np.round(sp_ofertado*100,2))\n",
    "print('sp_esperado\" : %s'  % np.round(sp_esperado*100,2))\n",
    "print('ic_ofertado\" : %s'  % np.round(ic_ofertado*100,2))\n",
    "print('ic_esperado\" : %s'  % np.round(ic_esperado*100,2))"
   ]
  },
  {
   "cell_type": "code",
   "execution_count": 20,
   "id": "d41a3e95",
   "metadata": {},
   "outputs": [],
   "source": [
    "df = df_lote_otim\n",
    "P=np.array(df['premio'])\n",
    "X1=np.array(df_lote['is_casco_ofer'])\n",
    "X2=np.array(df_lote['GBM_mercado'])\n",
    "X3=np.array(df_lote['Premio_IC_100'])\n",
    "X4=np.array(df_lote['premio_anterior'])\n",
    "X5=np.array(df_lote['MD_tempo_casa_2'])\n",
    "X6=np.array(df_lote['per_com'])\n",
    "X7=np.array(df_lote['per_com_bin_p_1_10'])\n",
    "X8=np.array(df_lote['canal_bin_Corretor_Mais'])\n",
    "X9=np.array(df_lote['Cod_End_bin_13509'])\n",
    "X10=np.array(df_lote['fator_ajuste_bin_f_101_120'])\n",
    "X11=np.array(df_lote['classe_bonus_bin_00'])\n",
    "X12=np.array(df_lote['UF_bin_AL_CE_RS'])\n",
    "X13=np.array(df_lote['UF_bin_AP_DF_ES_PA_PB_RN_SC'])\n",
    "X14=np.array(df_lote['UF_bin_GO_MA_MG'])\n",
    "X15=np.array(df_lote['UF_bin_MT_PR'])\n",
    "X16=np.array(df_lote['UF_bin_RJ'])\n",
    "X17=np.array(df_lote['MD_comb_bin_Gasolina'])\n",
    "X18=np.array(df_lote['md_tipo_renov_ant_bin_1_SeguroNovo'])\n",
    "X19=np.array(df_lote['md_tipo_renov_ant_bin_3_RenovCongenere'])\n",
    "X20=np.array(df_lote['fx_ir_12m_bin_01_00_20'])\n",
    "X21=np.array(df_lote['fx_ir_12m_bin_03_40_60'])\n",
    "X22=np.array(df_lote['fx_ir_12m_bin_04_60_80'])\n",
    "X23=np.array(df_lote['fx_ir_12m_bin_05_80_100'])\n",
    "X24=np.array(df_lote['MD_tipo_renov_bin_3_RenovPropria_com_sin'])\n",
    "X25=np.array(df_lote['idade_ult_RNS_bin_01_05_anos'])\n",
    "X26=np.array(df_lote['idade_ult_RNS_bin_06_inf'])\n",
    "\n",
    "# Define a função de demanda\n",
    "def calcular_retencao(P,X1,X2,X3,X4,X5,X6,X7,X8,X9,X10,X11,X12,X13,X14,X15,X16,X17,X18,X19,X20,X21,X22,X23,X24,X25,X26):\n",
    "    D=np.exp(1.3356 -0.2576 * np.log(P)  + 1.3647 * np.divide(P, X1)-0.8782 * np.log(np.divide(P, X2))-0.795 * np.log(np.divide(P, X3))-1.6731 * np.log((np.divide(P, X4)))  + 0.3797 * np.log(X5 + 1)  + 0.0011 * X6  + 0.1253 * X7  + 0.1334 * X8-0.1382 * X9  + 0.3919 * X10-0.1397 * X11-0.2305 * X12-0.2832 * X13  + 0.0024 * X14-0.1476 * X15  + 0.2817 * X16  + 0.3336 * X17-0.4115 * X18  + 0.0127 * X19-0.73 * X20  + 0.4343 * X21  + 1.1066 * X22  + 1.9561 * X23-0.0742 * X24 -0.84590*X25- 0.7094 * X26)\n",
    "    return D/(1+D)\n"
   ]
  },
  {
   "cell_type": "code",
   "execution_count": 21,
   "id": "750892d0",
   "metadata": {},
   "outputs": [
    {
     "data": {
      "text/plain": [
       "0.5073676747519267"
      ]
     },
     "execution_count": 21,
     "metadata": {},
     "output_type": "execute_result"
    }
   ],
   "source": [
    "calcular_retencao(P,X1,X2,X3,X4,X5,X6,X7,X8,X9,X10,X11,X12,X13,X14,X15,X16,X17,X18,X19,X20,X21,X22,X23,X24,X25,X26).mean()"
   ]
  },
  {
   "cell_type": "code",
   "execution_count": null,
   "id": "7761b46d",
   "metadata": {},
   "outputs": [],
   "source": [
    "df_lote_otim[['premio',\n",
    "              'is_casco_ofer',\n",
    "    'Premio_IC100',\n",
    "    'premio_anterior',\n",
    "    'MD_tempo_casa_2',\n",
    "    'per_com',\n",
    "    'per_com_bin_p_1_10',\n",
    "    'canal_bin_Corretor_Mais',\n",
    "    'Cod_End_bin_13509',\n",
    "    'fator_ajuste_bin_f_101_120',\n",
    "    'classe_bonus_bin_00',\n",
    "    'UF_bin_AL_CE_RS',\n",
    "    'UF_bin_AP_DF_ES_PA_PB_RN_SC',\n",
    "    'UF_bin_GO_MA_MG',\n",
    "    'UF_bin_MT_PR',\n",
    "    'UF_bin_RJ',\n",
    "    'MD_comb_bin_Gasolina',\n",
    "    'md_tipo_renov_ant_bin_1_SeguroNovo',\n",
    "    'md_tipo_renov_ant_bin_3_RenovCongenere',\n",
    "    'fx_ir_12m_bin_01_00_20',\n",
    "    'fx_ir_12m_bin_03_40_60',\n",
    "    'fx_ir_12m_bin_04_60_80',\n",
    "    'fx_ir_12m_bin_05_80_100',\n",
    "    'MD_tipo_renov_bin_3_RenovPropria_com_sin',\n",
    "    'idade_ult_RNS_bin_01_05_anos',\n",
    "    'idade_ult_RNS_bin_06_inf']]"
   ]
  },
  {
   "cell_type": "code",
   "execution_count": 83,
   "id": "330cb08f",
   "metadata": {},
   "outputs": [
    {
     "data": {
      "text/plain": [
       "(1459, 183)"
      ]
     },
     "execution_count": 83,
     "metadata": {},
     "output_type": "execute_result"
    }
   ],
   "source": [
    "#df = df_lote_otim.iloc[0:500,:]\n",
    "df = df_lote_otim\n",
    "df.shape"
   ]
  },
  {
   "cell_type": "code",
   "execution_count": 84,
   "id": "cb1be08b",
   "metadata": {},
   "outputs": [],
   "source": [
    "lista_variaveis_na_ordem = [\n",
    "    'is_casco_ofer',\n",
    "    'GBM_mercado',\n",
    "    'Premio_IC100',\n",
    "    'premio_anterior',\n",
    "    'MD_tempo_casa_2',\n",
    "    'per_com',\n",
    "    'per_com_bin_p_1_10',\n",
    "    'canal_bin_Corretor_Mais',\n",
    "    'Cod_End_bin_13509',\n",
    "    'fator_ajuste_bin_f_101_120',\n",
    "    'classe_bonus_bin_00',\n",
    "    'UF_bin_AL_CE_RS',\n",
    "    'UF_bin_AP_DF_ES_PA_PB_RN_SC',\n",
    "    'UF_bin_GO_MA_MG',\n",
    "    'UF_bin_MT_PR',\n",
    "    'UF_bin_RJ',\n",
    "    'MD_comb_bin_Gasolina',\n",
    "    'md_tipo_renov_ant_bin_1_SeguroNovo',\n",
    "    'md_tipo_renov_ant_bin_3_RenovCongenere',\n",
    "    'fx_ir_12m_bin_01_00_20',\n",
    "    'fx_ir_12m_bin_03_40_60',\n",
    "    'fx_ir_12m_bin_04_60_80',\n",
    "    'fx_ir_12m_bin_05_80_100',\n",
    "    'MD_tipo_renov_bin_3_RenovPropria_com_sin',\n",
    "    'idade_ult_RNS_bin_01_05_anos',\n",
    "    'idade_ult_RNS_bin_06_inf']\n",
    "\n",
    "indicadora=np.array(df.loc[:,lista_variaveis_na_ordem])\n",
    "\n",
    "\n"
   ]
  },
  {
   "cell_type": "code",
   "execution_count": 85,
   "id": "08bcfc15",
   "metadata": {},
   "outputs": [
    {
     "data": {
      "text/plain": [
       "0.5073676747519267"
      ]
     },
     "execution_count": 85,
     "metadata": {},
     "output_type": "execute_result"
    }
   ],
   "source": [
    "df['Demanda_base'].mean()"
   ]
  },
  {
   "cell_type": "code",
   "execution_count": 76,
   "id": "7bed994d",
   "metadata": {},
   "outputs": [
    {
     "data": {
      "text/plain": [
       "1741.1188924550402"
      ]
     },
     "execution_count": 76,
     "metadata": {},
     "output_type": "execute_result"
    }
   ],
   "source": [
    "custo=df['Act_cost'].mean()\n",
    "custo"
   ]
  },
  {
   "cell_type": "code",
   "execution_count": 77,
   "id": "7fd3354e",
   "metadata": {},
   "outputs": [
    {
     "data": {
      "text/plain": [
       "(500, 183)"
      ]
     },
     "execution_count": 77,
     "metadata": {},
     "output_type": "execute_result"
    }
   ],
   "source": [
    "df.shape"
   ]
  },
  {
   "cell_type": "code",
   "execution_count": 79,
   "id": "883514cd",
   "metadata": {},
   "outputs": [],
   "source": [
    "import numpy as np\n",
    "import pandas as pd\n",
    "import seaborn as sns\n",
    "from sympy import diff\n",
    "from sympy import symbols\n",
    "import sympy as sp\n",
    "import matplotlib.pyplot as plt"
   ]
  },
  {
   "cell_type": "code",
   "execution_count": 86,
   "id": "d0872b90",
   "metadata": {},
   "outputs": [
    {
     "ename": "KeyboardInterrupt",
     "evalue": "",
     "output_type": "error",
     "traceback": [
      "\u001b[1;31m---------------------------------------------------------------------------\u001b[0m",
      "\u001b[1;31mKeyboardInterrupt\u001b[0m                         Traceback (most recent call last)",
      "File \u001b[1;32m<timed exec>:85\u001b[0m\n",
      "File \u001b[1;32m<timed exec>:77\u001b[0m, in \u001b[0;36motimizar_precos\u001b[1;34m(indicadora, precos_iniciais)\u001b[0m\n",
      "File \u001b[1;32mC:\\ProgramData\\anaconda3\\lib\\site-packages\\scipy\\optimize\\_minpack_py.py:163\u001b[0m, in \u001b[0;36mfsolve\u001b[1;34m(func, x0, args, fprime, full_output, col_deriv, xtol, maxfev, band, epsfcn, factor, diag)\u001b[0m\n\u001b[0;32m     51\u001b[0m \u001b[38;5;250m\u001b[39m\u001b[38;5;124;03m\"\"\"\u001b[39;00m\n\u001b[0;32m     52\u001b[0m \u001b[38;5;124;03mFind the roots of a function.\u001b[39;00m\n\u001b[0;32m     53\u001b[0m \n\u001b[1;32m   (...)\u001b[0m\n\u001b[0;32m    153\u001b[0m \n\u001b[0;32m    154\u001b[0m \u001b[38;5;124;03m\"\"\"\u001b[39;00m\n\u001b[0;32m    155\u001b[0m options \u001b[38;5;241m=\u001b[39m {\u001b[38;5;124m'\u001b[39m\u001b[38;5;124mcol_deriv\u001b[39m\u001b[38;5;124m'\u001b[39m: col_deriv,\n\u001b[0;32m    156\u001b[0m            \u001b[38;5;124m'\u001b[39m\u001b[38;5;124mxtol\u001b[39m\u001b[38;5;124m'\u001b[39m: xtol,\n\u001b[0;32m    157\u001b[0m            \u001b[38;5;124m'\u001b[39m\u001b[38;5;124mmaxfev\u001b[39m\u001b[38;5;124m'\u001b[39m: maxfev,\n\u001b[1;32m   (...)\u001b[0m\n\u001b[0;32m    160\u001b[0m            \u001b[38;5;124m'\u001b[39m\u001b[38;5;124mfactor\u001b[39m\u001b[38;5;124m'\u001b[39m: factor,\n\u001b[0;32m    161\u001b[0m            \u001b[38;5;124m'\u001b[39m\u001b[38;5;124mdiag\u001b[39m\u001b[38;5;124m'\u001b[39m: diag}\n\u001b[1;32m--> 163\u001b[0m res \u001b[38;5;241m=\u001b[39m _root_hybr(func, x0, args, jac\u001b[38;5;241m=\u001b[39mfprime, \u001b[38;5;241m*\u001b[39m\u001b[38;5;241m*\u001b[39moptions)\n\u001b[0;32m    164\u001b[0m \u001b[38;5;28;01mif\u001b[39;00m full_output:\n\u001b[0;32m    165\u001b[0m     x \u001b[38;5;241m=\u001b[39m res[\u001b[38;5;124m'\u001b[39m\u001b[38;5;124mx\u001b[39m\u001b[38;5;124m'\u001b[39m]\n",
      "File \u001b[1;32mC:\\ProgramData\\anaconda3\\lib\\site-packages\\scipy\\optimize\\_minpack_py.py:240\u001b[0m, in \u001b[0;36m_root_hybr\u001b[1;34m(func, x0, args, jac, col_deriv, xtol, maxfev, band, eps, factor, diag, **unknown_options)\u001b[0m\n\u001b[0;32m    238\u001b[0m     \u001b[38;5;28;01mif\u001b[39;00m maxfev \u001b[38;5;241m==\u001b[39m \u001b[38;5;241m0\u001b[39m:\n\u001b[0;32m    239\u001b[0m         maxfev \u001b[38;5;241m=\u001b[39m \u001b[38;5;241m200\u001b[39m \u001b[38;5;241m*\u001b[39m (n \u001b[38;5;241m+\u001b[39m \u001b[38;5;241m1\u001b[39m)\n\u001b[1;32m--> 240\u001b[0m     retval \u001b[38;5;241m=\u001b[39m \u001b[43m_minpack\u001b[49m\u001b[38;5;241;43m.\u001b[39;49m\u001b[43m_hybrd\u001b[49m\u001b[43m(\u001b[49m\u001b[43mfunc\u001b[49m\u001b[43m,\u001b[49m\u001b[43m \u001b[49m\u001b[43mx0\u001b[49m\u001b[43m,\u001b[49m\u001b[43m \u001b[49m\u001b[43margs\u001b[49m\u001b[43m,\u001b[49m\u001b[43m \u001b[49m\u001b[38;5;241;43m1\u001b[39;49m\u001b[43m,\u001b[49m\u001b[43m \u001b[49m\u001b[43mxtol\u001b[49m\u001b[43m,\u001b[49m\u001b[43m \u001b[49m\u001b[43mmaxfev\u001b[49m\u001b[43m,\u001b[49m\n\u001b[0;32m    241\u001b[0m \u001b[43m                             \u001b[49m\u001b[43mml\u001b[49m\u001b[43m,\u001b[49m\u001b[43m \u001b[49m\u001b[43mmu\u001b[49m\u001b[43m,\u001b[49m\u001b[43m \u001b[49m\u001b[43mepsfcn\u001b[49m\u001b[43m,\u001b[49m\u001b[43m \u001b[49m\u001b[43mfactor\u001b[49m\u001b[43m,\u001b[49m\u001b[43m \u001b[49m\u001b[43mdiag\u001b[49m\u001b[43m)\u001b[49m\n\u001b[0;32m    242\u001b[0m \u001b[38;5;28;01melse\u001b[39;00m:\n\u001b[0;32m    243\u001b[0m     _check_func(\u001b[38;5;124m'\u001b[39m\u001b[38;5;124mfsolve\u001b[39m\u001b[38;5;124m'\u001b[39m, \u001b[38;5;124m'\u001b[39m\u001b[38;5;124mfprime\u001b[39m\u001b[38;5;124m'\u001b[39m, Dfun, x0, args, n, (n, n))\n",
      "File \u001b[1;32m<timed exec>:68\u001b[0m, in \u001b[0;36mdfunc\u001b[1;34m(X, indicadora)\u001b[0m\n",
      "File \u001b[1;32m<timed exec>:28\u001b[0m, in \u001b[0;36mfunc\u001b[1;34m(X, indicadora)\u001b[0m\n",
      "File \u001b[1;32m<timed exec>:13\u001b[0m, in \u001b[0;36mdemanda\u001b[1;34m(X1, X2, X3, X4, X5, X6, X7, X8, X9, X10, X11, X12, X13, X14, X15, X16, X17, X18, X19, X20, X21, X22, X23, X24, X25, X26, P)\u001b[0m\n",
      "\u001b[1;31mKeyboardInterrupt\u001b[0m: "
     ]
    }
   ],
   "source": [
    "%%time\n",
    "from scipy.optimize import fsolve\n",
    "import scipy.optimize as optimize\n",
    "\n",
    "precos_iniciais=np.array(df['premio'])*1.15\n",
    "target_demand=df[''].mean()\n",
    "custo =df['Act_cost']\n",
    "\n",
    "# Define a função de demanda\n",
    "def demanda(X1,X2,X3,X4,X5,X6,X7,X8,X9,X10,X11,X12,X13,X14,X15,X16,X17,X18,X19,X20,X21,X22,X23,X24,X25,X26,P):\n",
    "    D=np.exp(1.3356 -0.2576 * np.log(P)  + 1.3647 * np.divide(P, X1)-0.8782 * np.log(np.divide(P, X2))-0.795 * np.log(np.divide(P, X3))-1.6731 * np.log((np.divide(P, X4)))  + 0.3797 * np.log(X5 + 1)  + 0.0011 * X6  + 0.1253 * X7  + 0.1334 * X8 -0.1382 * X9  + 0.3919 * X10 -0.1397 * X11-0.2305 * X12-0.2832 * X13  + 0.0024 * X14-0.1476 * X15  + 0.2817 * X16  + 0.3336 * X17-0.4115 * X18  + 0.0127 * X19-0.73 * X20  + 0.4343 * X21  + 1.1066 * X22  + 1.9561 * X23-0.0742 * X24 -0.84590*X25- 0.7094 * X26)\n",
    "    return D/(1+D)\n",
    "\n",
    "\n",
    "# Define a função de Lagrange\n",
    "def func(X, indicadora):\n",
    "    P = X[:-1]  # Extraindo o vetor de preços [p1, p2, ..., pn]\n",
    "    L = X[-1]   # Extraindo o multiplicador de Lagrange\n",
    "    n = len(P)\n",
    "    \n",
    "    # Função objetivo e a soma das demandas\n",
    "    objetivo = 0\n",
    "    soma_demandas = 0\n",
    "    \n",
    "    for i in range(n):\n",
    "        D_i = demanda(\n",
    "                     indicadora[i, 0],\n",
    "                     indicadora[i, 1], \n",
    "                     indicadora[i, 2],\n",
    "                     indicadora[i, 3],\n",
    "                     indicadora[i, 4],\n",
    "                     indicadora[i, 5],\n",
    "                     indicadora[i, 6],\n",
    "                     indicadora[i, 7],\n",
    "                     indicadora[i, 8],\n",
    "                     indicadora[i, 9],\n",
    "                     indicadora[i, 10],\n",
    "                     indicadora[i, 11],\n",
    "                     indicadora[i, 12],\n",
    "                     indicadora[i, 13],\n",
    "                     indicadora[i, 14],\n",
    "                     indicadora[i, 15],\n",
    "                     indicadora[i, 16],\n",
    "                     indicadora[i, 17],\n",
    "                     indicadora[i, 18],\n",
    "                     indicadora[i, 19],\n",
    "                     indicadora[i, 20],\n",
    "                     indicadora[i, 21],\n",
    "                     indicadora[i, 22],\n",
    "                     indicadora[i, 23],\n",
    "                     indicadora[i, 24],\n",
    "                     indicadora[i, 25],P[i])\n",
    "        objetivo += D_i * (P[i] - custo[i])\n",
    "        soma_demandas += D_i\n",
    "    \n",
    "    # Definindo a função de Lagrange com a restrição\n",
    "    return objetivo - L * (soma_demandas - target_demand*df.shape[0])\n",
    "\n",
    "# Aplicando a diferenciação numérica\n",
    "def dfunc(X, indicadora):\n",
    "    dLambda = np.zeros(len(X))\n",
    "    h = 1e-3  # Passo usado na diferença finita\n",
    "    for i in range(len(X)):\n",
    "        dX = np.zeros(len(X))\n",
    "        dX[i] = h\n",
    "        dLambda[i] = (func(X + dX, indicadora) - func(X - dX, indicadora)) / (2 * h)\n",
    "    return dLambda\n",
    "\n",
    "# Definindo a função para otimizar os preços\n",
    "def otimizar_precos(indicadora, precos_iniciais):\n",
    "    # Iniciando o vetor X com os preços iniciais e um valor inicial para o multiplicador de Lagrange\n",
    "    X_inicial = np.append(precos_iniciais, 0)\n",
    "    \n",
    "    # Calculando os preços otimizados\n",
    "    X_otimizado = optimize.fsolve(dfunc, X_inicial, args=(indicadora),xtol=1e-06, maxfev=100)\n",
    "    \n",
    "    # Retornando o vetor de preços otimizados e o multiplicador de Lagrange\n",
    "    precos_otimizados = X_otimizado[:-1]\n",
    "    lambida = X_otimizado[-1]\n",
    "    \n",
    "    return precos_otimizados, lambida\n",
    "\n",
    "precos_otimizados, lambida = otimizar_precos(indicadora, precos_iniciais)\n",
    "print(\"λ:\", lambida)\n",
    "#print(\"Preços Otimizados:\", precos_otimizados[0], precos_otimizados[1])\n",
    "print(\"Preços Otimizados:\",precos_otimizados[0:20,:])\n",
    "#print(\"P1:\", precos_otimizados[0])\n",
    "#print(\"P2:\", precos_otimizados[1])"
   ]
  },
  {
   "cell_type": "code",
   "execution_count": 70,
   "id": "7390844b",
   "metadata": {},
   "outputs": [
    {
     "data": {
      "text/html": [
       "<div>\n",
       "<style scoped>\n",
       "    .dataframe tbody tr th:only-of-type {\n",
       "        vertical-align: middle;\n",
       "    }\n",
       "\n",
       "    .dataframe tbody tr th {\n",
       "        vertical-align: top;\n",
       "    }\n",
       "\n",
       "    .dataframe thead th {\n",
       "        text-align: right;\n",
       "    }\n",
       "</style>\n",
       "<table border=\"1\" class=\"dataframe\">\n",
       "  <thead>\n",
       "    <tr style=\"text-align: right;\">\n",
       "      <th></th>\n",
       "      <th>premio</th>\n",
       "      <th>precos_otimizados</th>\n",
       "    </tr>\n",
       "  </thead>\n",
       "  <tbody>\n",
       "    <tr>\n",
       "      <th>0</th>\n",
       "      <td>2283.285524</td>\n",
       "      <td>2739.942629</td>\n",
       "    </tr>\n",
       "    <tr>\n",
       "      <th>1</th>\n",
       "      <td>2868.227713</td>\n",
       "      <td>3441.873256</td>\n",
       "    </tr>\n",
       "    <tr>\n",
       "      <th>2</th>\n",
       "      <td>4664.302380</td>\n",
       "      <td>5597.162856</td>\n",
       "    </tr>\n",
       "    <tr>\n",
       "      <th>3</th>\n",
       "      <td>4305.597750</td>\n",
       "      <td>5166.717300</td>\n",
       "    </tr>\n",
       "    <tr>\n",
       "      <th>4</th>\n",
       "      <td>2655.196079</td>\n",
       "      <td>3186.235295</td>\n",
       "    </tr>\n",
       "    <tr>\n",
       "      <th>...</th>\n",
       "      <td>...</td>\n",
       "      <td>...</td>\n",
       "    </tr>\n",
       "    <tr>\n",
       "      <th>95</th>\n",
       "      <td>2535.876000</td>\n",
       "      <td>3043.051200</td>\n",
       "    </tr>\n",
       "    <tr>\n",
       "      <th>96</th>\n",
       "      <td>2233.263974</td>\n",
       "      <td>2679.916768</td>\n",
       "    </tr>\n",
       "    <tr>\n",
       "      <th>97</th>\n",
       "      <td>1721.496000</td>\n",
       "      <td>2065.795200</td>\n",
       "    </tr>\n",
       "    <tr>\n",
       "      <th>98</th>\n",
       "      <td>2334.520333</td>\n",
       "      <td>2801.424399</td>\n",
       "    </tr>\n",
       "    <tr>\n",
       "      <th>99</th>\n",
       "      <td>3148.637252</td>\n",
       "      <td>3778.364702</td>\n",
       "    </tr>\n",
       "  </tbody>\n",
       "</table>\n",
       "<p>100 rows × 2 columns</p>\n",
       "</div>"
      ],
      "text/plain": [
       "         premio  precos_otimizados\n",
       "0   2283.285524        2739.942629\n",
       "1   2868.227713        3441.873256\n",
       "2   4664.302380        5597.162856\n",
       "3   4305.597750        5166.717300\n",
       "4   2655.196079        3186.235295\n",
       "..          ...                ...\n",
       "95  2535.876000        3043.051200\n",
       "96  2233.263974        2679.916768\n",
       "97  1721.496000        2065.795200\n",
       "98  2334.520333        2801.424399\n",
       "99  3148.637252        3778.364702\n",
       "\n",
       "[100 rows x 2 columns]"
      ]
     },
     "execution_count": 70,
     "metadata": {},
     "output_type": "execute_result"
    }
   ],
   "source": [
    "df2=df\n",
    "df2['precos_otimizados']=precos_otimizados\n",
    "df2[['premio','precos_otimizados']]"
   ]
  },
  {
   "cell_type": "code",
   "execution_count": 71,
   "id": "50035f58",
   "metadata": {},
   "outputs": [],
   "source": [
    "P=np.array(df2['premio'])\n",
    "X1=np.array(df2['is_casco_ofer'])\n",
    "X2=np.array(df2['GBM_mercado'])\n",
    "X3=np.array(df2['Premio_IC_100'])\n",
    "X4=np.array(df2['premio_anterior'])\n",
    "X5=np.array(df2['MD_tempo_casa_2'])\n",
    "X6=np.array(df2['per_com'])\n",
    "X7=np.array(df2['per_com_bin_p_1_10'])\n",
    "X8=np.array(df2['canal_bin_Corretor_Mais'])\n",
    "X9=np.array(df2['Cod_End_bin_13509'])\n",
    "X10=np.array(df2['fator_ajuste_bin_f_101_120'])\n",
    "X11=np.array(df2['classe_bonus_bin_00'])\n",
    "X12=np.array(df2['UF_bin_AL_CE_RS'])\n",
    "X13=np.array(df2['UF_bin_AP_DF_ES_PA_PB_RN_SC'])\n",
    "X14=np.array(df2['UF_bin_GO_MA_MG'])\n",
    "X15=np.array(df2['UF_bin_MT_PR'])\n",
    "X16=np.array(df2['UF_bin_RJ'])\n",
    "X17=np.array(df2['MD_comb_bin_Gasolina'])\n",
    "X18=np.array(df2['md_tipo_renov_ant_bin_1_SeguroNovo'])\n",
    "X19=np.array(df2['md_tipo_renov_ant_bin_3_RenovCongenere'])\n",
    "X20=np.array(df2['fx_ir_12m_bin_01_00_20'])\n",
    "X21=np.array(df2['fx_ir_12m_bin_03_40_60'])\n",
    "X22=np.array(df2['fx_ir_12m_bin_04_60_80'])\n",
    "X23=np.array(df2['fx_ir_12m_bin_05_80_100'])\n",
    "X24=np.array(df2['MD_tipo_renov_bin_3_RenovPropria_com_sin'])\n",
    "X25=np.array(df2['idade_ult_RNS_bin_01_05_anos'])\n",
    "X26=np.array(df2['idade_ult_RNS_bin_06_inf'])\n",
    "\n",
    "# Define a função de demanda\n",
    "def calcular_retencao(P,X1,X2,X3,X4,X5,X6,X7,X8,X9,X10,X11,X12,X13,X14,X15,X16,X17,X18,X19,X20,X21,X22,X23,X24,X25,X26):\n",
    "    D=np.exp(1.3356 -0.2576 * np.log(P)  + 1.3647 * np.divide(P, X1)-0.8782 * np.log(np.divide(P, X2))-0.795 * np.log(np.divide(P, X3))-1.6731 * np.log((np.divide(P, X4)))  + 0.3797 * np.log(X5 + 1)  + 0.0011 * X6  + 0.1253 * X7  + 0.1334 * X8-0.1382 * X9  + 0.3919 * X10-0.1397 * X11-0.2305 * X12-0.2832 * X13  + 0.0024 * X14-0.1476 * X15  + 0.2817 * X16  + 0.3336 * X17-0.4115 * X18  + 0.0127 * X19-0.73 * X20  + 0.4343 * X21  + 1.1066 * X22  + 1.9561 * X23-0.0742 * X24 -0.84590*X25- 0.7094 * X26)\n",
    "    return D/(1+D)\n"
   ]
  },
  {
   "cell_type": "code",
   "execution_count": 72,
   "id": "342c1a08",
   "metadata": {},
   "outputs": [
    {
     "data": {
      "text/plain": [
       "0.5306874932695371"
      ]
     },
     "execution_count": 72,
     "metadata": {},
     "output_type": "execute_result"
    }
   ],
   "source": [
    "calcular_retencao(P,X1,X2,X3,X4,X5,X6,X7,X8,X9,X10,X11,X12,X13,X14,X15,X16,X17,X18,X19,X20,X21,X22,X23,X24,X25,X26).mean()"
   ]
  },
  {
   "cell_type": "code",
   "execution_count": null,
   "id": "be511089",
   "metadata": {},
   "outputs": [],
   "source": [
    "\n",
    "# Verificar os preços otimizados e a margem esperada otimizada \n",
    "df['precos_otimizados'] = precos_otimizados\n",
    "df['retencao_otimizada'] = demanda(precos_otimizados,X1,X2,X3,X4,X5,X6,X7,X8,X9,X10,X11,X12,X13,X14,X15,X16,X17,X18,X19,X20,X21,X22,X23,X24,X25)\n",
    "df['retencao_base_esperado']=demanda(P,X1,X2,X3,X4,X5,X6,X7,X8,X9,X10,X11,X12,X13,X14,X15,X16,X17,X18,X19,X20,X21,X22,X23,X24,X25)\n",
    "df['margem_esperada_otimizada'] =   df['retencao_otimizada']*(df['precos_otimizados'] - df['Act_cost'])\n",
    "\n",
    "df['margem_esperada_base_case'] = df['retencao_base_esperado']*(df['premio']-df['Act_cost'])\n",
    "\n",
    "margem_esperada_total_base_case=df['margem_esperada_base_case'].sum()\n",
    "margem_esperada_total_otimizada=df['margem_esperada_otimizada'].sum()\n",
    "\n",
    "# Exibir os resultados\n",
    "print(\"Margem Esperada Total Base Case:\", margem_esperada_total_base_case) \n",
    "print(\"Margem Esperada Total Otimizada:\", margem_esperada_total_otimizada) \n",
    "print(\"Retenção Média Otimizada:\", df['retencao_otimizada'].mean())\n",
    "print(\"Retenção Média Base Case:\", df['retencao_base_esperado'].mean())\n",
    "print(\"Premio Medio Otimizado:\", df['precos_otimizados'].mean())\n",
    "print(\"Premio Medio Base Case:\", df['premio'].mean())\n",
    "print(\"Tamanho da Base:\", df.shape[0])"
   ]
  },
  {
   "cell_type": "code",
   "execution_count": null,
   "id": "f38ec9fe",
   "metadata": {},
   "outputs": [],
   "source": [
    "#df[['premio','retencao_base_esperado','preco_otimizado','retencao_otimizada']]"
   ]
  },
  {
   "cell_type": "code",
   "execution_count": null,
   "id": "a7ac6a29",
   "metadata": {},
   "outputs": [],
   "source": [
    "#df#.to_csv(r'C:/Users/vcatelan/Documents/Scripts/dftocsv2.csv', sep='|', encoding='utf-8', header='true')\n",
    "#df.to_excel(r'df.xlsx', sep='|', encoding='utf-8', header='true')"
   ]
  },
  {
   "cell_type": "markdown",
   "id": "11fa579c",
   "metadata": {},
   "source": [
    "#criando a função"
   ]
  },
  {
   "cell_type": "code",
   "execution_count": null,
   "id": "d04c3892",
   "metadata": {},
   "outputs": [],
   "source": [
    "df_relatorio_otim = df.copy()\n",
    "\n",
    "df_relatorio_otim[\"per_com_pct\"] = df_relatorio_otim['per_com']/100\n",
    "df_relatorio_otim[\"premio_prob\"] = df_relatorio_otim[\"retencao_otimizada\"]*df_relatorio_otim[\"precos_otimizados\"]\n",
    "df_relatorio_otim[\"Act_cost_prob\"] = df_relatorio_otim[\"retencao_otimizada\"]*df_relatorio_otim[\"Act_cost\"]                                                                \n",
    "df_relatorio_otim[\"comissao_valor\"] = df_relatorio_otim[\"per_com_pct\"] *df_relatorio_otim[\"precos_otimizados\"]\n",
    "df_relatorio_otim[\"comissao_valor_prob\"] = df_relatorio_otim[\"per_com_pct\"] *df_relatorio_otim[\"premio_prob\"]\n",
    "\n",
    "apolice_ofertada  = np.round(df_relatorio_otim.shape[0],0)\n",
    "apolice_estimada  = np.round(np.sum(df_relatorio_otim[\"retencao_otimizada\"]),0)\n",
    "premio_ofertado   = np.mean(df_relatorio_otim[\"precos_otimizados\"])\n",
    "retencao_estimada = np.mean(df_relatorio_otim[\"retencao_otimizada\"])\n",
    "premio_esperado   = np.sum(df_relatorio_otim[\"premio_prob\"])/np.sum(df_relatorio_otim[\"retencao_otimizada\"])\n",
    "risco_ofertado    = np.mean(df_relatorio_otim[\"Act_cost\"])\n",
    "risco_esperado    = np.sum(df_relatorio_otim[\"Act_cost_prob\"])/np.sum(df_relatorio_otim[\"retencao_otimizada\"])\n",
    "sp_ofertado       = np.sum(df_relatorio_otim[\"Act_cost\"])/np.sum(df_relatorio_otim[\"precos_otimizados\"])\n",
    "sp_esperado       = np.sum(df_relatorio_otim[\"Act_cost_prob\"])/np.sum(df_relatorio_otim[\"premio_prob\"])\n",
    "comis_ofertado    = np.sum(df_relatorio_otim[\"comissao_valor\"])/np.sum(df_relatorio_otim[\"precos_otimizados\"])\n",
    "comis_esperado    = np.sum(df_relatorio_otim[\"comissao_valor_prob\"])/np.sum(df_relatorio_otim[\"premio_prob\"])\n",
    "ic_ofertado       =  sp_ofertado  +  comis_ofertado + 0.2749\n",
    "ic_esperado       =  sp_esperado  +  comis_esperado + 0.2749\n",
    "\n",
    "print('Apolices Ofertadas: %s' % apolice_ofertada)\n",
    "print('Apolices Renovadas: %s' % apolice_estimada)\n",
    "print('premio_ofertado: %s' % np.round(premio_ofertado,2))\n",
    "print('retencao_estimada : %s' % np.round(retencao_estimada*100,2))\n",
    "print('premio_esperado\" : %s'  %np.round( premio_esperado,2))\n",
    "print('risco_ofertado\" : %s'  %  np.round(risco_ofertado,2))\n",
    "print('risco_esperado\" : %s'  %  np.round(risco_esperado,2))\n",
    "print('sp_ofertado\" : %s'  % np.round(sp_ofertado*100,2))\n",
    "print('sp_esperado\" : %s'  % np.round(sp_esperado*100,2))\n",
    "print('ic_ofertado\" : %s'  % np.round(ic_ofertado*100,2))\n",
    "print('ic_esperado\" : %s'  % np.round(ic_esperado*100,2))"
   ]
  },
  {
   "cell_type": "code",
   "execution_count": null,
   "id": "c7c849bd",
   "metadata": {},
   "outputs": [],
   "source": [
    "df.to_csv(r'df_total.csv', sep='|' ,header='true')"
   ]
  },
  {
   "cell_type": "code",
   "execution_count": null,
   "id": "a5e872d6",
   "metadata": {},
   "outputs": [],
   "source": [
    "df_relatorio_otim[['Demanda_base','retencao_otimizada','premio','preco_otimizado']]\n"
   ]
  },
  {
   "cell_type": "code",
   "execution_count": null,
   "id": "fb3191b0",
   "metadata": {},
   "outputs": [],
   "source": [
    "prices_df = pd.DataFrame({\n",
    "    'chave': df_relatorio[\"chave\"],\n",
    "    'Act_cost':  df_relatorio[\"Act_cost\"],\n",
    "    'Premio ofertado com batente':  df_relatorio[\"Premio_oferecido_com_batente\"],\n",
    "    'Optimized Prices': df_relatorio[\"premio\"],\n",
    "    'lb_bound' : [b[0] for b in bounds],\n",
    "    'up_bound' : [b[1] for b in bounds],\n",
    "    'prob_est':         df_relatorio[\"prob_est\"],\n",
    "    'renewal demand':df_relatorio[\"demanda otimizada\"],\n",
    "    'variação':df_relatorio[\"premio\"]/df_relatorio[\"Premio_oferecido_com_batente\"]\n",
    "})\n",
    "prices_df.head(20)"
   ]
  },
  {
   "cell_type": "code",
   "execution_count": null,
   "id": "08b83503",
   "metadata": {},
   "outputs": [],
   "source": []
  },
  {
   "cell_type": "code",
   "execution_count": null,
   "id": "bf781707",
   "metadata": {},
   "outputs": [],
   "source": []
  },
  {
   "cell_type": "code",
   "execution_count": null,
   "id": "9e4c93d9",
   "metadata": {},
   "outputs": [],
   "source": []
  },
  {
   "cell_type": "code",
   "execution_count": null,
   "id": "1cc5192c",
   "metadata": {},
   "outputs": [],
   "source": []
  },
  {
   "cell_type": "code",
   "execution_count": null,
   "id": "05ba91e8",
   "metadata": {},
   "outputs": [],
   "source": []
  },
  {
   "cell_type": "code",
   "execution_count": null,
   "id": "7d0f35b0",
   "metadata": {},
   "outputs": [],
   "source": []
  },
  {
   "cell_type": "code",
   "execution_count": null,
   "id": "7abc3747",
   "metadata": {},
   "outputs": [],
   "source": []
  },
  {
   "cell_type": "markdown",
   "id": "d775e90b",
   "metadata": {},
   "source": [
    "########"
   ]
  },
  {
   "cell_type": "code",
   "execution_count": null,
   "id": "0d24e572",
   "metadata": {},
   "outputs": [],
   "source": [
    "%%time\n",
    "target_demand=0.48\n",
    "\n",
    "df = df_lote_otim\n",
    "P=(df['premio'])\n",
    "X1=np.array(df['is_casco_ofer'])\n",
    "X2=np.array(df['Premio_IC100'])\n",
    "X3=np.array(df['premio_anterior'])\n",
    "X4=np.array(df['MD_tempo_casa_2'])\n",
    "X5=np.array(df['per_com'])\n",
    "X6=np.array(df['per_com_bin_p_1_10'])\n",
    "X7=np.array(df['canal_bin_Corretor_Mais'])\n",
    "X8=np.array(df['Cod_End_bin_13509'])\n",
    "X9=np.array(df['fator_ajuste_bin_f_101_120'])\n",
    "X10=np.array(df['classe_bonus_bin_00'])\n",
    "X11=np.array(df['UF_bin_AL_CE_RS'])\n",
    "X12=np.array(df['UF_bin_AP_DF_ES_PA_PB_RN_SC'])\n",
    "X13=np.array(df['UF_bin_GO_MA_MG'])\n",
    "X14=np.array(df['UF_bin_MT_PR'])\n",
    "X15=np.array(df['UF_bin_RJ'])\n",
    "X16=np.array(df['MD_comb_bin_Gasolina'])\n",
    "X17=np.array(df['md_tipo_renov_ant_bin_1_SeguroNovo'])\n",
    "X18=np.array(df['md_tipo_renov_ant_bin_3_RenovCongenere'])\n",
    "X19=np.array(df['fx_ir_12m_bin_01_00_20'])\n",
    "X20=np.array(df['fx_ir_12m_bin_03_40_60'])\n",
    "X21=np.array(df['fx_ir_12m_bin_04_60_80'])\n",
    "X22=np.array(df['fx_ir_12m_bin_05_80_100'])\n",
    "X23=np.array(df['MD_tipo_renov_bin_3_RenovPropria_com_sin'])\n",
    "X24=np.array(df['idade_ult_RNS_bin_01_05_anos'])\n",
    "X25=np.array(df['idade_ult_RNS_bin_06_inf'])\n",
    "\n",
    "\n",
    "# Função de demanda para calcular a retenção com base no preço \n",
    "def calcular_retencao(P,X1,X2,X3,X4,X5,X6,X7,X8,X9,X10,X11,X12,X13,X14,X15,X16,X17,X18,X19,X20,X21,X22,X23,X24,X25):\n",
    "    D = np.exp(3.3458-0.4638 * np.log(P)-5.1803 * np.divide(P, X1)-1.0904 * np.log(np.divide(P, X2))-1.2646 * np.log((np.divide(P, X3)))  + 0.228 * np.log(X4 + 1)  + 0.0137 * X5  + 0.1566 * X6  + 0.0576 * X7-0.2318 * X8  + 0.16 * X9-0.2332 * X10-0.2319 * X11-0.2498 * X12-0.0697 * X13-0.1227 * X14  + 0.2475 * X14  + 0.3917 * X16-0.4536 * X17-0.1999 * X18-0.7509 * X19  + 0.4693 * X20  + 1.1327 * X21  + 2.0154 * X22-0.1554 * X23-0.5014 * X24-0.4664 * X25)/(1 + np.exp(3.3458-0.4638 * np.log(P)-5.1803 * np.divide(P, X1)-1.0904 * np.log(np.divide(P, X2))-1.2646 * np.log((np.divide(P, X3)))  + 0.228 * np.log(X4 + 1)  + 0.0137 * X5  + 0.1566 * X6  + 0.0576 * X7-0.2318 * X8  + 0.16 * X9-0.2332 * X10-0.2319 * X11-0.2498 * X12-0.0697 * X13-0.1227 * X14  + 0.2475 * X14  + 0.3917 * X16-0.4536 * X17-0.1999 * X18-0.7509 * X19  + 0.4693 * X20  + 1.1327 * X21  + 2.0154 * X22-0.1554 * X23-0.5014 * X24-0.4664 * X25) )  \n",
    "    return D\n",
    "\n",
    "df['retencao_base_esperado']=calcular_retencao(P,X1,X2,X3,X4,X5,X6,X7,X8,X9,X10,X11,X12,X13,X14,X15,X16,X17,X18,X19,X20,X21,X22,X23,X24,X25)\n",
    "\n",
    "df['retencao_target']=target_demand\n",
    "\n",
    "fator_retencao = np.mean(df['retencao_base_esperado'])/np.mean(df['retencao_target'])\n",
    "\n",
    "# Definir a função objetivo que maximiza a margem esperada otimizada \n",
    "def objetivo(precos):\n",
    "    df['precos']=precos\n",
    "    # Calcular a retenção otimizada com os preços dados\n",
    "    df['retencao_otimizada'] = calcular_retencao(precos,X1,X2,X3,X4,X5,X6,X7,X8,X9,X10,X11,X12,X13,X14,X15,X16,X17,X18,X19,X20,X21,X22,X23,X24,X25)\n",
    "    df['margem_esperada_otimizada'] =   df['retencao_otimizada']*(df['precos'] - df['Act_cost'])\n",
    "    \n",
    "    # Calcular a margem esperada total (somatório)\n",
    "    margem_esperada_total = df['margem_esperada_otimizada'].sum()\n",
    "\n",
    "    # Maximizar a margem (retornamos o negativo para que o método minimize possa maximizar)\n",
    "    return -margem_esperada_total\n",
    "\n",
    "# Definir a restrição: a retenção média deve ser igual à retenção base média \n",
    "def restricao(precos):\n",
    "    df['precos']=precos\n",
    "    \n",
    "    # Calcular a retenção otimizada média com os preços dados\n",
    "    retencao_otimizada_soma = calcular_retencao(precos,X1,X2,X3,X4,X5,X6,X7,X8,X9,X10,X11,X12,X13,X14,X15,X16,X17,X18,X19,X20,X21,X22,X23,X24,X25).sum()\n",
    "    \n",
    "    return np.round(retencao_otimizada_soma,3) - np.round(df['retencao_target'].sum,3)\n",
    "\n",
    "# Estimativas iniciais (os preços base)\n",
    "\n",
    "#precos_iniciais = fator_retencao*df['premio'].values\n",
    "\n",
    "premio_base = df['premio'].values\n",
    "\n",
    "precos_iniciais = 1*df['premio'].values\n",
    "\n",
    "# Definir os limites para os preços (0.9 * preco_base <= preco_otimizado <= 1.1 * preco_base) \n",
    "limites = [(0.9 * p, 1.1 * p) for p in premio_base]\n",
    "\n",
    "# Definir as restrições no formato exigido pelo método 'minimize'\n",
    "restricoes = ({'type': 'eq', 'fun': restricao})\n",
    "\n",
    "# Executar a otimização \n",
    "\n",
    "solution = minimize(objetivo,\n",
    "                    precos_iniciais,\n",
    "                    method='L-BFGS-B',\n",
    "                    bounds=limites,\n",
    "                    constraints=restricoes) \n",
    "# Resultados\n",
    "precos_otimizados = solution.x\n",
    "margem_esperada_total_otimizada = -resultado.fun\n",
    "\n",
    "# Verificar os preços otimizados e a margem esperada otimizada \n",
    "df['preco_otimizado'] = solution.x \n",
    "df['retencao_otimizada'] = calcular_retencao(precos_otimizados,X1,X2,X3,X4,X5,X6,X7,X8,X9,X10,X11,X12,X13,X14,X15,X16,X17,X18,X19,X20,X21,X22,X23,X24,X25)\n",
    "\n",
    "df['margem_esperada_base_case'] = df['retencao_base_esperado']*(df['premio']-df['Act_cost'])\n",
    "\n",
    "margem_esperada_total_base_case=df['margem_esperada_base_case'].sum()\n",
    "\n",
    "# Exibir os resultados\n",
    "print(solution.message) \n",
    "print(\"Margem Esperada Total Base Case:\", margem_esperada_total_base_case) \n",
    "print(\"Margem Esperada Total Otimizada:\", margem_esperada_total_otimizada) \n",
    "print(\"Retenção Média Otimizada:\", df['retencao_otimizada'].mean())\n",
    "print(\"Retenção Média Base Case:\", df['retencao_base_esperado'].mean())\n",
    "print(\"Premio Medio Otimizado:\", df['preco_otimizado'].mean())\n",
    "print(\"Premio Medio Base Case:\", df['premio'].mean())\n",
    "print(\"Tamanho da Base:\", df.shape[0])\n"
   ]
  },
  {
   "cell_type": "code",
   "execution_count": null,
   "id": "b0ac80fc",
   "metadata": {},
   "outputs": [],
   "source": [
    "from handythread import foreach"
   ]
  },
  {
   "cell_type": "code",
   "execution_count": null,
   "id": "192ef0dd",
   "metadata": {},
   "outputs": [],
   "source": [
    "!pip install pp"
   ]
  },
  {
   "cell_type": "code",
   "execution_count": 92,
   "id": "066bbb55",
   "metadata": {},
   "outputs": [
    {
     "ename": "TypeError",
     "evalue": "_lambdifygenerated() missing 1 required positional argument: 'target'",
     "output_type": "error",
     "traceback": [
      "\u001b[1;31m---------------------------------------------------------------------------\u001b[0m",
      "\u001b[1;31mTypeError\u001b[0m                                 Traceback (most recent call last)",
      "Cell \u001b[1;32mIn[92], line 60\u001b[0m\n\u001b[0;32m     57\u001b[0m precos_iniciais \u001b[38;5;241m=\u001b[39m np\u001b[38;5;241m.\u001b[39mrandom\u001b[38;5;241m.\u001b[39mrand(\u001b[38;5;241m10\u001b[39m) \u001b[38;5;241m*\u001b[39m \u001b[38;5;241m100\u001b[39m  \u001b[38;5;66;03m# Exemplo de preços iniciais\u001b[39;00m\n\u001b[0;32m     58\u001b[0m target \u001b[38;5;241m=\u001b[39m \u001b[38;5;241m1000\u001b[39m  \u001b[38;5;66;03m# Exemplo de demanda média\u001b[39;00m\n\u001b[1;32m---> 60\u001b[0m precos_otimizados, lambida \u001b[38;5;241m=\u001b[39m \u001b[43motimizar_precos\u001b[49m\u001b[43m(\u001b[49m\u001b[43mindicadora\u001b[49m\u001b[43m,\u001b[49m\u001b[43m \u001b[49m\u001b[43mprecos_iniciais\u001b[49m\u001b[43m,\u001b[49m\u001b[43m \u001b[49m\u001b[43mtarget\u001b[49m\u001b[43m)\u001b[49m\n\u001b[0;32m     61\u001b[0m \u001b[38;5;28mprint\u001b[39m(\u001b[38;5;124m\"\u001b[39m\u001b[38;5;124mλ:\u001b[39m\u001b[38;5;124m\"\u001b[39m, lambida)\n\u001b[0;32m     62\u001b[0m \u001b[38;5;28mprint\u001b[39m(\u001b[38;5;124m\"\u001b[39m\u001b[38;5;124mPreços Otimizados:\u001b[39m\u001b[38;5;124m\"\u001b[39m, precos_otimizados)\n",
      "Cell \u001b[1;32mIn[92], line 47\u001b[0m, in \u001b[0;36motimizar_precos\u001b[1;34m(indicadora, precos_iniciais, target)\u001b[0m\n\u001b[0;32m     44\u001b[0m X_inicial \u001b[38;5;241m=\u001b[39m np\u001b[38;5;241m.\u001b[39mappend(precos_iniciais, \u001b[38;5;241m0\u001b[39m)\n\u001b[0;32m     46\u001b[0m \u001b[38;5;66;03m# Calculando os preços otimizados\u001b[39;00m\n\u001b[1;32m---> 47\u001b[0m X_otimizado \u001b[38;5;241m=\u001b[39m \u001b[43moptimize\u001b[49m\u001b[38;5;241;43m.\u001b[39;49m\u001b[43mfsolve\u001b[49m\u001b[43m(\u001b[49m\u001b[43mdfunc\u001b[49m\u001b[43m,\u001b[49m\u001b[43m \u001b[49m\u001b[43mX_inicial\u001b[49m\u001b[43m,\u001b[49m\u001b[43m \u001b[49m\u001b[43margs\u001b[49m\u001b[38;5;241;43m=\u001b[39;49m\u001b[43m(\u001b[49m\u001b[43mindicadora\u001b[49m\u001b[43m,\u001b[49m\u001b[43m \u001b[49m\u001b[43mtarget\u001b[49m\u001b[43m)\u001b[49m\u001b[43m,\u001b[49m\u001b[43m \u001b[49m\u001b[43mxtol\u001b[49m\u001b[38;5;241;43m=\u001b[39;49m\u001b[38;5;241;43m1e-06\u001b[39;49m\u001b[43m,\u001b[49m\u001b[43m \u001b[49m\u001b[43mmaxfev\u001b[49m\u001b[38;5;241;43m=\u001b[39;49m\u001b[38;5;241;43m500\u001b[39;49m\u001b[43m)\u001b[49m\n\u001b[0;32m     49\u001b[0m \u001b[38;5;66;03m# Retornando o vetor de preços otimizados e o multiplicador de Lagrange\u001b[39;00m\n\u001b[0;32m     50\u001b[0m precos_otimizados \u001b[38;5;241m=\u001b[39m X_otimizado[:\u001b[38;5;241m-\u001b[39m\u001b[38;5;241m1\u001b[39m]\n",
      "File \u001b[1;32mC:\\ProgramData\\anaconda3\\lib\\site-packages\\scipy\\optimize\\_minpack_py.py:163\u001b[0m, in \u001b[0;36mfsolve\u001b[1;34m(func, x0, args, fprime, full_output, col_deriv, xtol, maxfev, band, epsfcn, factor, diag)\u001b[0m\n\u001b[0;32m     51\u001b[0m \u001b[38;5;250m\u001b[39m\u001b[38;5;124;03m\"\"\"\u001b[39;00m\n\u001b[0;32m     52\u001b[0m \u001b[38;5;124;03mFind the roots of a function.\u001b[39;00m\n\u001b[0;32m     53\u001b[0m \n\u001b[1;32m   (...)\u001b[0m\n\u001b[0;32m    153\u001b[0m \n\u001b[0;32m    154\u001b[0m \u001b[38;5;124;03m\"\"\"\u001b[39;00m\n\u001b[0;32m    155\u001b[0m options \u001b[38;5;241m=\u001b[39m {\u001b[38;5;124m'\u001b[39m\u001b[38;5;124mcol_deriv\u001b[39m\u001b[38;5;124m'\u001b[39m: col_deriv,\n\u001b[0;32m    156\u001b[0m            \u001b[38;5;124m'\u001b[39m\u001b[38;5;124mxtol\u001b[39m\u001b[38;5;124m'\u001b[39m: xtol,\n\u001b[0;32m    157\u001b[0m            \u001b[38;5;124m'\u001b[39m\u001b[38;5;124mmaxfev\u001b[39m\u001b[38;5;124m'\u001b[39m: maxfev,\n\u001b[1;32m   (...)\u001b[0m\n\u001b[0;32m    160\u001b[0m            \u001b[38;5;124m'\u001b[39m\u001b[38;5;124mfactor\u001b[39m\u001b[38;5;124m'\u001b[39m: factor,\n\u001b[0;32m    161\u001b[0m            \u001b[38;5;124m'\u001b[39m\u001b[38;5;124mdiag\u001b[39m\u001b[38;5;124m'\u001b[39m: diag}\n\u001b[1;32m--> 163\u001b[0m res \u001b[38;5;241m=\u001b[39m _root_hybr(func, x0, args, jac\u001b[38;5;241m=\u001b[39mfprime, \u001b[38;5;241m*\u001b[39m\u001b[38;5;241m*\u001b[39moptions)\n\u001b[0;32m    164\u001b[0m \u001b[38;5;28;01mif\u001b[39;00m full_output:\n\u001b[0;32m    165\u001b[0m     x \u001b[38;5;241m=\u001b[39m res[\u001b[38;5;124m'\u001b[39m\u001b[38;5;124mx\u001b[39m\u001b[38;5;124m'\u001b[39m]\n",
      "File \u001b[1;32mC:\\ProgramData\\anaconda3\\lib\\site-packages\\scipy\\optimize\\_minpack_py.py:229\u001b[0m, in \u001b[0;36m_root_hybr\u001b[1;34m(func, x0, args, jac, col_deriv, xtol, maxfev, band, eps, factor, diag, **unknown_options)\u001b[0m\n\u001b[0;32m    227\u001b[0m \u001b[38;5;28;01mif\u001b[39;00m \u001b[38;5;129;01mnot\u001b[39;00m \u001b[38;5;28misinstance\u001b[39m(args, \u001b[38;5;28mtuple\u001b[39m):\n\u001b[0;32m    228\u001b[0m     args \u001b[38;5;241m=\u001b[39m (args,)\n\u001b[1;32m--> 229\u001b[0m shape, dtype \u001b[38;5;241m=\u001b[39m \u001b[43m_check_func\u001b[49m\u001b[43m(\u001b[49m\u001b[38;5;124;43m'\u001b[39;49m\u001b[38;5;124;43mfsolve\u001b[39;49m\u001b[38;5;124;43m'\u001b[39;49m\u001b[43m,\u001b[49m\u001b[43m \u001b[49m\u001b[38;5;124;43m'\u001b[39;49m\u001b[38;5;124;43mfunc\u001b[39;49m\u001b[38;5;124;43m'\u001b[39;49m\u001b[43m,\u001b[49m\u001b[43m \u001b[49m\u001b[43mfunc\u001b[49m\u001b[43m,\u001b[49m\u001b[43m \u001b[49m\u001b[43mx0\u001b[49m\u001b[43m,\u001b[49m\u001b[43m \u001b[49m\u001b[43margs\u001b[49m\u001b[43m,\u001b[49m\u001b[43m \u001b[49m\u001b[43mn\u001b[49m\u001b[43m,\u001b[49m\u001b[43m \u001b[49m\u001b[43m(\u001b[49m\u001b[43mn\u001b[49m\u001b[43m,\u001b[49m\u001b[43m)\u001b[49m\u001b[43m)\u001b[49m\n\u001b[0;32m    230\u001b[0m \u001b[38;5;28;01mif\u001b[39;00m epsfcn \u001b[38;5;129;01mis\u001b[39;00m \u001b[38;5;28;01mNone\u001b[39;00m:\n\u001b[0;32m    231\u001b[0m     epsfcn \u001b[38;5;241m=\u001b[39m finfo(dtype)\u001b[38;5;241m.\u001b[39meps\n",
      "File \u001b[1;32mC:\\ProgramData\\anaconda3\\lib\\site-packages\\scipy\\optimize\\_minpack_py.py:26\u001b[0m, in \u001b[0;36m_check_func\u001b[1;34m(checker, argname, thefunc, x0, args, numinputs, output_shape)\u001b[0m\n\u001b[0;32m     24\u001b[0m \u001b[38;5;28;01mdef\u001b[39;00m \u001b[38;5;21m_check_func\u001b[39m(checker, argname, thefunc, x0, args, numinputs,\n\u001b[0;32m     25\u001b[0m                 output_shape\u001b[38;5;241m=\u001b[39m\u001b[38;5;28;01mNone\u001b[39;00m):\n\u001b[1;32m---> 26\u001b[0m     res \u001b[38;5;241m=\u001b[39m atleast_1d(\u001b[43mthefunc\u001b[49m\u001b[43m(\u001b[49m\u001b[38;5;241;43m*\u001b[39;49m\u001b[43m(\u001b[49m\u001b[43m(\u001b[49m\u001b[43mx0\u001b[49m\u001b[43m[\u001b[49m\u001b[43m:\u001b[49m\u001b[43mnuminputs\u001b[49m\u001b[43m]\u001b[49m\u001b[43m,\u001b[49m\u001b[43m)\u001b[49m\u001b[43m \u001b[49m\u001b[38;5;241;43m+\u001b[39;49m\u001b[43m \u001b[49m\u001b[43margs\u001b[49m\u001b[43m)\u001b[49m\u001b[43m)\u001b[49m)\n\u001b[0;32m     27\u001b[0m     \u001b[38;5;28;01mif\u001b[39;00m (output_shape \u001b[38;5;129;01mis\u001b[39;00m \u001b[38;5;129;01mnot\u001b[39;00m \u001b[38;5;28;01mNone\u001b[39;00m) \u001b[38;5;129;01mand\u001b[39;00m (shape(res) \u001b[38;5;241m!=\u001b[39m output_shape):\n\u001b[0;32m     28\u001b[0m         \u001b[38;5;28;01mif\u001b[39;00m (output_shape[\u001b[38;5;241m0\u001b[39m] \u001b[38;5;241m!=\u001b[39m \u001b[38;5;241m1\u001b[39m):\n",
      "Cell \u001b[1;32mIn[92], line 35\u001b[0m, in \u001b[0;36mdfunc\u001b[1;34m(X, indicadora, target)\u001b[0m\n\u001b[0;32m     32\u001b[0m dLambda \u001b[38;5;241m=\u001b[39m np\u001b[38;5;241m.\u001b[39mzeros(\u001b[38;5;28mlen\u001b[39m(X))\n\u001b[0;32m     34\u001b[0m \u001b[38;5;28;01mfor\u001b[39;00m i \u001b[38;5;129;01min\u001b[39;00m \u001b[38;5;28mrange\u001b[39m(\u001b[38;5;28mlen\u001b[39m(P_vals)):\n\u001b[1;32m---> 35\u001b[0m     dLambda[i] \u001b[38;5;241m=\u001b[39m \u001b[43mdF_dP_func\u001b[49m\u001b[43m(\u001b[49m\u001b[43mP_vals\u001b[49m\u001b[43m[\u001b[49m\u001b[43mi\u001b[49m\u001b[43m]\u001b[49m\u001b[43m,\u001b[49m\u001b[43m \u001b[49m\u001b[38;5;241;43m*\u001b[39;49m\u001b[43mindicadora\u001b[49m\u001b[43m[\u001b[49m\u001b[43mi\u001b[49m\u001b[43m]\u001b[49m\u001b[43m,\u001b[49m\u001b[43m \u001b[49m\u001b[43mL_val\u001b[49m\u001b[43m,\u001b[49m\u001b[43m \u001b[49m\u001b[43mtarget\u001b[49m\u001b[43m)\u001b[49m\n\u001b[0;32m     37\u001b[0m dLambda[\u001b[38;5;241m-\u001b[39m\u001b[38;5;241m1\u001b[39m] \u001b[38;5;241m=\u001b[39m dF_dLambda_func(P_vals[\u001b[38;5;241m0\u001b[39m], \u001b[38;5;241m*\u001b[39mindicadora[\u001b[38;5;241m0\u001b[39m], L_val, target)  \u001b[38;5;66;03m# Usando o primeiro conjunto de indicadores para Lambda\u001b[39;00m\n\u001b[0;32m     39\u001b[0m \u001b[38;5;28;01mreturn\u001b[39;00m dLambda\n",
      "\u001b[1;31mTypeError\u001b[0m: _lambdifygenerated() missing 1 required positional argument: 'target'"
     ]
    }
   ],
   "source": [
    "import numpy as np\n",
    "import sympy as sp\n",
    "from scipy import optimize\n",
    "\n",
    "\n",
    "C = 1000\n",
    "# Definindo as variáveis\n",
    "P, X1, X2, X3, X4, X5, X6, X7, X8, X9, X10, X11, X12, X13, X14, X15, X16, X17, X18, X19, X20, X21, X22, X23, X24, X25, X26, C, Lambda, target= sp.symbols('P X1 X2 X3 X4 X5 X6 X7 X8 X9 X10 X11 X12 X13 X14 X15 X16 X17 X18 X19 X20 X21 X22 X23 X24 X25 X26 C Lambda target')\n",
    "\n",
    "# Definindo a função F\n",
    "F = sp.exp(1.3356 - 0.2576 * sp.log(P) + 1.3647 * (P / X1) - 0.8782 * sp.log(P / X2) - 0.795 * sp.log(P / X3) \n",
    "           - 1.6731 * sp.log(P / X4) + 0.3797 * sp.log(X5 + 1) + 0.0011 * X6 + 0.1253 * X7 + 0.1334 * X8 \n",
    "           - 0.1382 * X9 + 0.3919 * X10 - 0.1397 * X11 - 0.2305 * X12 - 0.2832 * X13 + 0.0024 * X14 - 0.1476 * X15 \n",
    "           + 0.2817 * X16 + 0.3336 * X17 - 0.4115 * X18 + 0.0127 * X19 - 0.73 * X20 + 0.4343 * X21 + 1.1066 * X22 \n",
    "           + 1.9561 * X23 - 0.0742 * X24 - 0.8459 * X25 - 0.7094 * X26) * (P - C) - Lambda * (sp.exp(1.3356 - 0.2576 * sp.log(P) + 1.3647 * (P / X1) - 0.8782 * sp.log(P / X2) - 0.795 * sp.log(P / X3) \n",
    "             - 1.6731 * sp.log(P / X4) + 0.3797 * sp.log(X5 + 1) + 0.0011 * X6 + 0.1253 * X7 + 0.1334 * X8 - 0.1382 * X9 \n",
    "             + 0.3919 * X10 - 0.1397 * X11 - 0.2305 * X12 - 0.2832 * X13 + 0.0024 * X14 - 0.1476 * X15 + 0.2817 * X16 \n",
    "             + 0.3336 * X17 - 0.4115 * X18 + 0.0127 * X19 - 0.73 * X20 + 0.4343 * X21 + 1.1066 * X22 + 1.9561 * X23 - 0.0742 * X24 \n",
    "                - 0.8459 * X25 - 0.7094 * X26) - target)\n",
    "\n",
    "# Derivando F em relação a P e Lambda\n",
    "dF_dP = sp.diff(F, P)\n",
    "dF_dLambda = sp.diff(F, Lambda)\n",
    "\n",
    "# Convertendo as derivadas em funções utilizáveis\n",
    "dF_dP_func = sp.lambdify((P, X1, X2, X3, X4, X5, X6, X7, X8, X9, X10, X11, X12, X13, X14, X15, X16, X17, X18, X19, X20, X21, X22, X23, X24, X25, X26, C, Lambda, target), dF_dP, 'numpy')\n",
    "dF_dLambda_func = sp.lambdify((P, X1, X2, X3, X4, X5, X6, X7, X8, X9, X10, X11, X12, X13, X14, X15, X16, X17, X18, X19, X20, X21, X22, X23, X24, X25, X26, C, Lambda, target), dF_dLambda, 'numpy')\n",
    "\n",
    "# Aplicando as derivadas calculadas\n",
    "def dfunc(X, indicadora, target):\n",
    "    P_vals = X[:-1]\n",
    "    L_val = X[-1]\n",
    "    dLambda = np.zeros(len(X))\n",
    "    \n",
    "    for i in range(len(P_vals)):\n",
    "        dLambda[i] = dF_dP_func(P_vals[i], *indicadora[i], L_val, target)\n",
    "    \n",
    "    dLambda[-1] = dF_dLambda_func(P_vals[0], *indicadora[0], L_val, target)  # Usando o primeiro conjunto de indicadores para Lambda\n",
    "    \n",
    "    return dLambda\n",
    "\n",
    "# Definindo a função para otimizar os preços\n",
    "def otimizar_precos(indicadora, precos_iniciais, target):\n",
    "    # Iniciando o vetor X com os preços iniciais e um valor inicial para o multiplicador de Lagrange\n",
    "    X_inicial = np.append(precos_iniciais, 0)\n",
    "    \n",
    "    # Calculando os preços otimizados\n",
    "    X_otimizado = optimize.fsolve(dfunc, X_inicial, args=(indicadora, target), xtol=1e-06, maxfev=500)\n",
    "    \n",
    "    # Retornando o vetor de preços otimizados e o multiplicador de Lagrange\n",
    "    precos_otimizados = X_otimizado[:-1]\n",
    "    lambida = X_otimizado[-1]\n",
    "    \n",
    "    return precos_otimizados, lambida\n",
    "\n",
    "# Exemplo de uso\n",
    "indicadora = np.random.rand(10, 26)  # Exemplo de matriz de indicadores\n",
    "precos_iniciais = np.random.rand(10) * 100  # Exemplo de preços iniciais\n",
    "target = 1000  # Exemplo de demanda média\n",
    "\n",
    "precos_otimizados, lambida = otimizar_precos(indicadora, precos_iniciais, target)\n",
    "print(\"λ:\", lambida)\n",
    "print(\"Preços Otimizados:\", precos_otimizados)"
   ]
  },
  {
   "cell_type": "code",
   "execution_count": null,
   "id": "5d02e99b",
   "metadata": {},
   "outputs": [],
   "source": []
  }
 ],
 "metadata": {
  "kernelspec": {
   "display_name": "Python 3 (ipykernel)",
   "language": "python",
   "name": "python3"
  },
  "language_info": {
   "codemirror_mode": {
    "name": "ipython",
    "version": 3
   },
   "file_extension": ".py",
   "mimetype": "text/x-python",
   "name": "python",
   "nbconvert_exporter": "python",
   "pygments_lexer": "ipython3",
   "version": "3.10.9"
  }
 },
 "nbformat": 4,
 "nbformat_minor": 5
}
