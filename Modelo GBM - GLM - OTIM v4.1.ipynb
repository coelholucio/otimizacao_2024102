{
 "cells": [
  {
   "cell_type": "code",
   "execution_count": 2,
   "id": "4317d284",
   "metadata": {},
   "outputs": [],
   "source": [
    "import pandas as pd\n",
    "import seaborn as sns\n",
    "import matplotlib.pyplot as plt\n",
    "import numpy as np\n",
    "\n",
    "from scipy.optimize import minimize\n",
    "\n",
    "from sklearn.preprocessing import LabelEncoder\n",
    "from sklearn.model_selection import train_test_split\n",
    "from sklearn import metrics\n",
    "from sklearn.preprocessing import StandardScaler\n",
    "\n",
    "from sklearn.tree import DecisionTreeRegressor\n",
    "from sklearn.ensemble import RandomForestRegressor\n",
    "import xgboost as xgb\n",
    "from sklearn.metrics import mean_squared_error, mean_absolute_error, r2_score\n",
    "from sklearn.linear_model import LinearRegression\n",
    "\n",
    "from numpy import asarray\n",
    "from sklearn.preprocessing import OrdinalEncoder\n",
    "\n",
    "import warnings\n",
    "warnings.filterwarnings('ignore')\n"
   ]
  },
  {
   "cell_type": "code",
   "execution_count": 31,
   "id": "4079b7c1",
   "metadata": {},
   "outputs": [
    {
     "data": {
      "text/plain": [
       "(96586, 36)"
      ]
     },
     "execution_count": 31,
     "metadata": {},
     "output_type": "execute_result"
    }
   ],
   "source": [
    "mercado_df = pd.read_csv(\"C://Flavio/Projeto Otimizacao/Modelo Mercado/data_consolidado_final_jun24.csv\",\n",
    "                     encoding='latin-1',\n",
    "                     delimiter=';')\n",
    "mercado_df.shape"
   ]
  },
  {
   "cell_type": "code",
   "execution_count": 3,
   "id": "657a9acc",
   "metadata": {},
   "outputs": [
    {
     "data": {
      "text/plain": [
       "(93838, 36)"
      ]
     },
     "execution_count": 3,
     "metadata": {},
     "output_type": "execute_result"
    }
   ],
   "source": [
    "mercado_df = mercado_df[(~mercado_df.Grupo_veiculo_new.isin(['ARRIZO',\n",
    "'Chery Passeio',   'Chery Tiggo'   , 'Erro'  ,'Kia Cerato','Kia Picanto' ,'Kia Sorento'  ,'Kia Soul' ,\n",
    "'Kia Sportage'  ,'Rio']))]\n",
    "\n",
    "mercado_df = mercado_df[(~mercado_df.fabrica.isin(['BYD','CAOA CHERY','GWM','KIA MOTORS','LEXUS']))]\n",
    "\n",
    "mercado_df = mercado_df[(~mercado_df.idade_ult_RNS.isin(['_03 ou+ anos']))]\n",
    "mercado_df.shape"
   ]
  },
  {
   "cell_type": "code",
   "execution_count": 32,
   "id": "a6ee281c",
   "metadata": {},
   "outputs": [],
   "source": [
    "df_mod=mercado_df[[\"premio_total_liq_cap\",\"ano_mod_conv\",\"classe_bonus\",\n",
    "                   \"idade\",\"is_casco\",\"is_dmoral\",\"is_rcdc\",\"is_rcdm\",\n",
    "                   \"RNS_Casco_calc\",\n",
    "                   \"Grupo_veiculo_new\", \"fabrica\",\"idade_ult_RNS\",\"md_categoria\",\n",
    "                   \"MD_comb\",\"md_config\",\"MD_franquia\",\"md_menor26\",\"md_sexo\",\n",
    "                   \"MD_Subzona\",\"md_tipo_renov\",\"MD_uso_veic\",\"uf\"]]\n",
    "\n",
    "df_mod.rename(columns={'premio_total_liq_cap':'premio_ofertado', 'ano_mod_conv': 'ano_mod'},inplace=True)"
   ]
  },
  {
   "cell_type": "code",
   "execution_count": 33,
   "id": "044b7592",
   "metadata": {},
   "outputs": [],
   "source": [
    "x_df_num = df_mod[['ano_mod', 'classe_bonus', 'idade', 'is_casco', 'is_dmoral', 'is_rcdc', 'is_rcdm', 'RNS_Casco_calc']]\n",
    "x_df_num = x_df_num.fillna(0)\n",
    "x_df_cat = df_mod[['Grupo_veiculo_new', 'fabrica', 'idade_ult_RNS', 'md_categoria', 'MD_comb', 'md_config', 'MD_franquia', 'md_menor26', 'md_sexo', 'MD_Subzona','md_tipo_renov', 'MD_uso_veic','uf']]\n",
    "y   = df_mod[['premio_ofertado']]\n",
    "#x_df_cat_ordinal = encoder.fit_transform(x_df_cat)\n",
    "#x_df_cat_ordinal = pd.DataFrame(x_df_cat_ordinal)\n",
    "x_df_dummy=pd.get_dummies(x_df_cat)\n",
    "#x_df=pd.concat([x_df_num, x_df_cat_ordinal],axis=1)\n",
    "x_df=pd.concat([x_df_num, x_df_dummy],axis=1)\n",
    "x_train, x_test, y_train, y_test = train_test_split(x_df, y, test_size=0.2) "
   ]
  },
  {
   "cell_type": "code",
   "execution_count": 34,
   "id": "780a715c",
   "metadata": {},
   "outputs": [
    {
     "data": {
      "text/plain": [
       "(96586, 535)"
      ]
     },
     "execution_count": 34,
     "metadata": {},
     "output_type": "execute_result"
    }
   ],
   "source": [
    "x_df.shape"
   ]
  },
  {
   "cell_type": "code",
   "execution_count": 7,
   "id": "50d6370f",
   "metadata": {},
   "outputs": [],
   "source": [
    "#x_df.columns.to_list()"
   ]
  },
  {
   "cell_type": "code",
   "execution_count": 8,
   "id": "dd333925",
   "metadata": {},
   "outputs": [
    {
     "data": {
      "text/plain": [
       "Index([], dtype='object')"
      ]
     },
     "execution_count": 8,
     "metadata": {},
     "output_type": "execute_result"
    }
   ],
   "source": [
    "x_df_num.columns[x_df_num.isnull().any()]"
   ]
  },
  {
   "cell_type": "code",
   "execution_count": 9,
   "id": "d8aec5f9",
   "metadata": {},
   "outputs": [
    {
     "data": {
      "text/plain": [
       "Index([], dtype='object')"
      ]
     },
     "execution_count": 9,
     "metadata": {},
     "output_type": "execute_result"
    }
   ],
   "source": [
    "x_df_cat.columns[x_df_cat.isnull().any()]"
   ]
  },
  {
   "cell_type": "markdown",
   "id": "f34c6ec6",
   "metadata": {},
   "source": [
    "%%time\n",
    "from sklearn.ensemble import GradientBoostingRegressor\n",
    "# inicia o modelo GBM\n",
    "gbm = GradientBoostingRegressor(n_estimators=100,\n",
    "                                max_leaf_nodes=32,\n",
    "                                learning_rate=0.1, \n",
    "                                random_state=42)\n",
    "\n",
    "# Treina o modelo\n",
    "gbm.fit(x_train, y_train)\n",
    "\n",
    "# previsão\n",
    "y_pred = gbm.predict(x_test)\n",
    "\n",
    "# Evaluate the model\n",
    "\n",
    "print(\"Premio Estimado Médio: %.2f\" % np.mean(y_pred) )\n",
    "# checando a acurácia\n",
    "mse = mean_squared_error(y_test, y_pred)\n",
    "rmse = mse**(0.5)\n",
    "print(\"MSE: %.2f\" % mse)\n",
    "print(\"RMSE: %.2f\" % rmse) "
   ]
  },
  {
   "cell_type": "code",
   "execution_count": null,
   "id": "b7d3c96d",
   "metadata": {},
   "outputs": [],
   "source": [
    "#import pickle\n",
    "# saving\n",
    "#model_pkl_file = \"mercado_model.pkl\"  \n",
    "#with open(model_pkl_file, 'wb') as file:  \n",
    "#pickle.dump(gbm, file)"
   ]
  },
  {
   "cell_type": "code",
   "execution_count": null,
   "id": "47af7d35",
   "metadata": {},
   "outputs": [],
   "source": [
    "# load model from pickle file\n",
    "#with open(model_pkl_file, 'rb') as file:  \n",
    "#model = pickle.load(file)"
   ]
  },
  {
   "cell_type": "code",
   "execution_count": null,
   "id": "1af37148",
   "metadata": {},
   "outputs": [],
   "source": [
    "#model = pickle.load(open(\"mercado_model\", \"rb\"))"
   ]
  },
  {
   "cell_type": "code",
   "execution_count": null,
   "id": "15b8e6de",
   "metadata": {},
   "outputs": [],
   "source": [
    "#cols_when_model_builds = gbm.get_booster().feature_names"
   ]
  },
  {
   "cell_type": "code",
   "execution_count": 35,
   "id": "b9e815d5",
   "metadata": {},
   "outputs": [
    {
     "name": "stdout",
     "output_type": "stream",
     "text": [
      "Premio Estimado Médio: 2634.20\n",
      "MSE: 576950.37\n",
      "RMSE: 759.57\n"
     ]
    }
   ],
   "source": [
    "import lightgbm as lgb\n",
    "params = {\n",
    "    'task': 'train', \n",
    "    'boosting': 'gbdt',\n",
    "    'objective': 'regression',\n",
    "    'n_estimators':100,\n",
    "    'num_leaves': 50,\n",
    "    'min_depth': 5,\n",
    "    'max_depth': 5,\n",
    "    'learnnig_rage': 0.1,\n",
    "    'metric': {'l2','l1'},\n",
    "    'verbose': -1\n",
    "}\n",
    "\n",
    "lgb_train = lgb.Dataset(x_train, y_train)\n",
    "lgb_eval  = lgb.Dataset(x_test, y_test, reference=lgb_train)\n",
    "\n",
    "model_gbm = lgb.train(params,\n",
    "                 train_set=lgb_train,\n",
    "                 valid_sets=lgb_eval)\n",
    "\n",
    "y_pred = model_gbm.predict(x_test)\n",
    "print(\"Premio Estimado Médio: %.2f\" % np.mean(y_pred) )\n",
    "# accuracy check\n",
    "mse = mean_squared_error(y_test, y_pred)\n",
    "rmse = mse**(0.5)\n",
    "print(\"MSE: %.2f\" % mse)\n",
    "print(\"RMSE: %.2f\" % rmse) "
   ]
  },
  {
   "cell_type": "markdown",
   "id": "a5e0e9c4",
   "metadata": {},
   "source": [
    "## modelagem GLM"
   ]
  },
  {
   "cell_type": "code",
   "execution_count": 36,
   "id": "628b03c6",
   "metadata": {},
   "outputs": [
    {
     "name": "stdout",
     "output_type": "stream",
     "text": [
      "CPU times: total: 6.02 s\n",
      "Wall time: 7.08 s\n"
     ]
    },
    {
     "data": {
      "text/plain": [
       "(571594, 105)"
      ]
     },
     "execution_count": 36,
     "metadata": {},
     "output_type": "execute_result"
    }
   ],
   "source": [
    "%%time\n",
    "df_mod_mp_feb23may24_v3 = pd.read_csv(\"C://Flavio/Projeto Otimizacao/Modelo Renovacao/df_mod_mp_feb23may24_v3.csv\",\n",
    "                     encoding='latin-1',\n",
    "                     delimiter='|')\n",
    "\n",
    "df_mod_mp_feb23may24_v3.shape"
   ]
  },
  {
   "cell_type": "code",
   "execution_count": 12,
   "id": "a1e496d0",
   "metadata": {},
   "outputs": [
    {
     "data": {
      "text/plain": [
       "(571594, 105)"
      ]
     },
     "execution_count": 12,
     "metadata": {},
     "output_type": "execute_result"
    }
   ],
   "source": [
    "df_mod_mp_feb23may24_v3.shape"
   ]
  },
  {
   "cell_type": "code",
   "execution_count": 176,
   "id": "f73168dc",
   "metadata": {},
   "outputs": [],
   "source": [
    "#df_mod_mp_feb23may24_v3.columns.to_list()"
   ]
  },
  {
   "cell_type": "code",
   "execution_count": 13,
   "id": "14f854fe",
   "metadata": {},
   "outputs": [
    {
     "data": {
      "text/plain": [
       "(377345, 105)"
      ]
     },
     "execution_count": 13,
     "metadata": {},
     "output_type": "execute_result"
    }
   ],
   "source": [
    "df_mod_mp_feb23may24_v3 = df_mod_mp_feb23may24_v3[(~df_mod_mp_feb23may24_v3.Grupo_veiculo_new.isin(['BWM X',\n",
    "'Blindados',\n",
    "'Chevrolet Astra Sedan',\n",
    "'Chrysler Passeio',\n",
    "'Citroen Antigo',\n",
    "'Citroen Xsara Picasso',\n",
    "'Dodge Journey',\n",
    "'Esportivo Porsche',\n",
    "'Fiat ANTIGOS',\n",
    "'Fiat Ducato',\n",
    "'Fiat Ducato Furgao',\n",
    "'Fiat Palio Antigo',\n",
    "'Fiat Stilo',\n",
    "'Ford Sedans Antigos',\n",
    "'Hyundai Sonata',\n",
    "'Hyundai Veloster',\n",
    "'Hyundai Vera Cruz',\n",
    "'IEV',\n",
    "'JAC J2',\n",
    "'JAC J3 Hatch',\n",
    "'JAC J3 Sedan',\n",
    "'JAC T',\n",
    "'Kia Sportage Antigo',\n",
    "'Lifan Passeio',\n",
    "'Lifan X',\n",
    "'MB Classe B',\n",
    "'MB Linha E',\n",
    "'MB Linha S',\n",
    "'MB Sprinter Furgão',\n",
    "'MB Sprinter Van',\n",
    "'Nissan Tiida',\n",
    "'Peugeot 106/205/206',\n",
    "'Peugeot Hoggar',\n",
    "'Pickup Nacional',\n",
    "'Smart Fortwo',\n",
    "'Troller T-4',\n",
    "'VW Bora',\n",
    "'VW Gol 1.8',\n",
    "'VW Kombi',\n",
    "'VW Parati',\n",
    "'VW Passat',\n",
    "'VW Santana',\n",
    "'VW Saveiro Antigo',\n",
    "'Van Importada',\n",
    "]))]\n",
    "\n",
    "df_mod_mp_feb23may24_v3 = df_mod_mp_feb23may24_v3[(~df_mod_mp_feb23may24_v3.FABRICA.isin(['CHERY',\n",
    "'CHRYSLER','DEMAIS','DODGE','JAC MOTORS','KIA','LIFAN','PORSCHE','SMART','SSANGYONG','TROLLER']))]\n",
    "\n",
    "\n",
    "df_mod_mp_feb23may24_v3 = df_mod_mp_feb23may24_v3[(~df_mod_mp_feb23may24_v3.idade_ult_RNS.isin([\n",
    "'03 anos','04 anos','05 anos','06 anos','07 anos','08 anos','09 anos','10 ou +']))]\n",
    "\n",
    "\n",
    "df_mod_mp_feb23may24_v3 = df_mod_mp_feb23may24_v3[(~df_mod_mp_feb23may24_v3.md_categoria.isin([\n",
    "'Pickup Leve Importado']))]\n",
    "\n",
    "df_mod_mp_feb23may24_v3 = df_mod_mp_feb23may24_v3[(~df_mod_mp_feb23may24_v3.MD_franquia.isin([\n",
    "'ERRO']))]\n",
    "\n",
    "df_mod_mp_feb23may24_v3 = df_mod_mp_feb23may24_v3[(~df_mod_mp_feb23may24_v3.MD_menor26.isin([\n",
    "'ERR']))]\n",
    "\n",
    "df_mod_mp_feb23may24_v3 = df_mod_mp_feb23may24_v3[(~df_mod_mp_feb23may24_v3.MD_sexo.isin([\n",
    "'ERRO']))]\n",
    "\n",
    "\n",
    "df_mod_mp_feb23may24_v3 = df_mod_mp_feb23may24_v3[(~df_mod_mp_feb23may24_v3.MD_Subzona.isin([\n",
    "'88400-SERTAO PERNAMBUCANO']))]\n",
    "\n",
    "\n",
    "df_mod_mp_feb23may24_v3 = df_mod_mp_feb23may24_v3[(~df_mod_mp_feb23may24_v3.MD_uso_veic.isin([\n",
    "'Aluguel e Frete',\n",
    "'Ambulância',\n",
    "'Bar/Lanchonete',\n",
    "'ERRO',\n",
    "'Escolares',\n",
    "'Funerárias',\n",
    "'Lotações',\n",
    "'Transporte de Carga',\n",
    "'Transporte de Funcionarios',\n",
    "'Turismos',\n",
    "]))]\n",
    "\n",
    "\n",
    "df_mod_mp_feb23may24_v3 = df_mod_mp_feb23may24_v3[(~df_mod_mp_feb23may24_v3.UF.isin([\n",
    "'ND',]))]\n",
    "\n",
    "\n",
    "df_mod_mp_feb23may24_v3.shape\n"
   ]
  },
  {
   "cell_type": "code",
   "execution_count": null,
   "id": "c7997424",
   "metadata": {},
   "outputs": [],
   "source": [
    "#sp = df_mod_mp_feb23may24_v3[df_mod_mp_feb23may24_v3['UF'] == 'SP']\n"
   ]
  },
  {
   "cell_type": "code",
   "execution_count": null,
   "id": "86434b2b",
   "metadata": {},
   "outputs": [],
   "source": [
    "#hilux = sp[sp['Grupo_veiculo_new'].isin([\"Toyota Hilux CD\",\"Toyota Hilux CS\",\"Toyota Hilux SW4\"])]"
   ]
  },
  {
   "cell_type": "code",
   "execution_count": null,
   "id": "2ba81855",
   "metadata": {},
   "outputs": [],
   "source": [
    "#sp_sem_hilux = sp[~sp['Grupo_veiculo_new'].isin([\"Toyota Hilux CD\",\"Toyota Hilux CS\",\"Toyota Hilux SW4\"])]\n"
   ]
  },
  {
   "cell_type": "markdown",
   "id": "7f91d40c",
   "metadata": {},
   "source": [
    "parte para incluir o preço do mercado na base de modelagem glm"
   ]
  },
  {
   "cell_type": "code",
   "execution_count": 39,
   "id": "c578c6e8",
   "metadata": {},
   "outputs": [],
   "source": [
    "colunas=['premio_ofertado','ano_mod','classe_bonus','MD_idade','is_casco_ofer','is_dmoral','is_rcdc','is_rcdm','RNS_Casco_calc',\n",
    " 'Grupo_veiculo_new','FABRICA','idade_ult_RNS', 'md_categoria','MD_comb','MD_config','MD_franquia','MD_menor26','MD_sexo','MD_Subzona',  \n",
    " 'MD_tipo_renov','MD_uso_veic','UF','per_com','Renovacao_ant','MD_est_civil','peso','premio_total','vigencia','premio_creserva',\n",
    "        'anomes_dt_ter','teste_validacao']\n"
   ]
  },
  {
   "cell_type": "code",
   "execution_count": 38,
   "id": "a770a756",
   "metadata": {},
   "outputs": [],
   "source": [
    "#df_escorar_gbm = df_mod_mp_feb23may24_v3.copy()"
   ]
  },
  {
   "cell_type": "code",
   "execution_count": 40,
   "id": "63db9212",
   "metadata": {},
   "outputs": [],
   "source": [
    "df_escorar_gbm=df_mod_mp_feb23may24_v3[colunas]\n",
    "#df_escorar_gbm = df_mod_mp_feb23may24_v3.copy()"
   ]
  },
  {
   "cell_type": "code",
   "execution_count": 41,
   "id": "6c191d45",
   "metadata": {},
   "outputs": [
    {
     "data": {
      "text/plain": [
       "(571594, 31)"
      ]
     },
     "execution_count": 41,
     "metadata": {},
     "output_type": "execute_result"
    }
   ],
   "source": [
    "df_escorar_gbm.shape"
   ]
  },
  {
   "cell_type": "code",
   "execution_count": 42,
   "id": "ce3bdcff",
   "metadata": {},
   "outputs": [],
   "source": [
    "df_escorar_gbm.rename(columns={'MD_idade':'idade', \n",
    "                                   'is_casco_ofer': 'is_casco',\n",
    "                                   'FABRICA': 'fabrica',\n",
    "                                   'MD_config':  'md_config',\n",
    "                                   'MD_menor26': 'md_menor26',\n",
    "                                   'MD_sexo': 'md_sexo',\n",
    "                                   'UF': 'uf',\n",
    "                                   'MD_tipo_renov':  'md_tipo_renov'},inplace=True)\n",
    "df_escorar_gbm['idade'] = pd.to_numeric(df_escorar_gbm['idade'], errors='coerce')"
   ]
  },
  {
   "cell_type": "code",
   "execution_count": 46,
   "id": "499c39a0",
   "metadata": {},
   "outputs": [],
   "source": [
    "df_num = df_escorar_gbm[['ano_mod', 'classe_bonus', 'idade', 'is_casco', 'is_dmoral', 'is_rcdc', 'is_rcdm', 'RNS_Casco_calc']]\n",
    "x_df_num = x_df_num.fillna(0)\n",
    "df_cat = df_escorar_gbm[['Grupo_veiculo_new', 'fabrica', 'idade_ult_RNS', 'md_categoria', 'MD_comb', 'md_config', 'MD_franquia', 'md_menor26', 'md_sexo', 'MD_Subzona','md_tipo_renov', 'MD_uso_veic','uf']]\n",
    "df_cat_glm=pd.get_dummies(df_cat)\n",
    "df_cat_glm=pd.concat([df_num, df_cat_glm],axis=1)\n",
    "#GBM_mercado = gbm.predict(df_cat_glm, predict_disable_shape_check=True)"
   ]
  },
  {
   "cell_type": "code",
   "execution_count": 120,
   "id": "f8c1dbe3",
   "metadata": {},
   "outputs": [],
   "source": [
    "#df_cat_glm.columns.to_list()"
   ]
  },
  {
   "cell_type": "code",
   "execution_count": 140,
   "id": "f3e35ba6",
   "metadata": {},
   "outputs": [],
   "source": [
    "#GBM_mercado = model_gbm.predict(df_cat_glm, predict_disable_shape_check=True)"
   ]
  },
  {
   "cell_type": "code",
   "execution_count": 47,
   "id": "d4cd8724",
   "metadata": {},
   "outputs": [
    {
     "data": {
      "text/plain": [
       "4134.966483193934"
      ]
     },
     "execution_count": 47,
     "metadata": {},
     "output_type": "execute_result"
    }
   ],
   "source": [
    "GBM_mercado = model_gbm.predict(df_cat_glm, predict_disable_shape_check=True)\n",
    "np.average(GBM_mercado)"
   ]
  },
  {
   "cell_type": "code",
   "execution_count": 48,
   "id": "24555f44",
   "metadata": {},
   "outputs": [
    {
     "data": {
      "text/plain": [
       "(571594, 32)"
      ]
     },
     "execution_count": 48,
     "metadata": {},
     "output_type": "execute_result"
    }
   ],
   "source": [
    "df_escorar_gbm['GBM_mercado']=GBM_mercado\n",
    "df_escorar_gbm.shape"
   ]
  },
  {
   "cell_type": "markdown",
   "id": "c798bf0a",
   "metadata": {},
   "source": [
    "#### prepara base de modelagem glm"
   ]
  },
  {
   "cell_type": "code",
   "execution_count": 51,
   "id": "245b6dd6",
   "metadata": {},
   "outputs": [
    {
     "name": "stdout",
     "output_type": "stream",
     "text": [
      "CPU times: total: 6.05 s\n",
      "Wall time: 7.17 s\n"
     ]
    },
    {
     "data": {
      "text/plain": [
       "(571594, 105)"
      ]
     },
     "execution_count": 51,
     "metadata": {},
     "output_type": "execute_result"
    }
   ],
   "source": [
    "%%time\n",
    "df_mod_mp_feb23may24_v3 = pd.read_csv(\"C://Flavio/Projeto Otimizacao/Modelo Renovacao/df_mod_mp_feb23may24_v3.csv\",\n",
    "                     encoding='latin-1',\n",
    "                     delimiter='|')\n",
    "\n",
    "df_mod_mp_feb23may24_v3.shape"
   ]
  },
  {
   "cell_type": "code",
   "execution_count": 54,
   "id": "081f0c85",
   "metadata": {},
   "outputs": [
    {
     "data": {
      "text/plain": [
       "(571594, 106)"
      ]
     },
     "execution_count": 54,
     "metadata": {},
     "output_type": "execute_result"
    }
   ],
   "source": [
    "df_mod_mp_feb23may24_v3['GBM_mercado']=GBM_mercado\n",
    "df_mod_mp_feb23may24_v3.shape"
   ]
  },
  {
   "cell_type": "code",
   "execution_count": 55,
   "id": "b717c29c",
   "metadata": {},
   "outputs": [],
   "source": [
    "df_mod_filtered=df_mod_mp_feb23may24_v3[[\"premio_ofertado\",\"premio_total\",'GBM_mercado', 'premio_creserva','premio_demais_cob',\"teste_validacao\",\"ind_renovacao\",\"MD_sexo\",\"cod_corr\",\n",
    "                                \"Cod_End\",\"MD_sin_5a_cas\",\"MD_tempo_casa_2\",\"MD_idade_veic\",\"MD_faixa_IScas\",\n",
    "                                \"anomes_dt_ter\" ,\"MD_idade\",\"per_com\", \"RNS_Casco_calc\",\"MD_menor26\",\"UF\",\"Renovacao_ant\",\n",
    "                                \"fx_ir_12m\",\"is_casco_ofer\",\"classe_bonus\",\"MD_fator_ajuste\",\"MD_capac\",\"md_categoria\",\n",
    "                                \"MD_comb\",\"MD_qtd_assis_cpf\", \"idade_ult_RNS\",\"canal\",\"MD_tipo_renov\",'FABRICA','MD_est_civil',\n",
    "                                'peso','Grupo_veiculo_new','vigencia',\n",
    "                                'Risco_PP_mod', 'Risco_PT_mod','Risco_RF_mod','Risco_DM_mod','Risco_AS_mod',\n",
    "                                'Risco_DC_mod' ,'Risco_DMO_mod']]"
   ]
  },
  {
   "cell_type": "code",
   "execution_count": 56,
   "id": "5787e9fe",
   "metadata": {},
   "outputs": [
    {
     "data": {
      "text/plain": [
       "(358297, 44)"
      ]
     },
     "execution_count": 56,
     "metadata": {},
     "output_type": "execute_result"
    }
   ],
   "source": [
    "df_mod_filtered = df_mod_filtered[df_mod_filtered['per_com'].notna()]\n",
    "df_mod_filtered = df_mod_filtered[df_mod_filtered['Renovacao_ant'].notna()]\n",
    "df_mod_filtered = df_mod_filtered[df_mod_filtered['MD_est_civil'].notna()]\n",
    "df_mod_filtered = df_mod_filtered[df_mod_filtered['peso'].notna()]\n",
    "df_mod_filtered = df_mod_filtered.query('premio_total !=0')\n",
    "df_mod_filtered = df_mod_filtered.query('vigencia == \"Anual\"')\n",
    "df_mod_filtered = df_mod_filtered.query('premio_creserva >= 0')\n",
    "df_mod_filtered = df_mod_filtered[~df_mod_filtered['anomes_dt_ter'].isin([202310,202309,202308,202302,202402])]\n",
    "df_mod_filtered = df_mod_filtered.query('is_casco_ofer > 0')\n",
    "df_mod_filtered = df_mod_filtered[(df_mod_filtered['per_com']>0) & (df_mod_filtered['per_com']<50)]\n",
    "df_mod_filtered = df_mod_filtered.query('premio_total >100')\n",
    "df_mod_filtered = df_mod_filtered.query('MD_idade !=\"ERRO\"')\n",
    "df_mod_filtered = df_mod_filtered[(df_mod_filtered.UF != \"SP\") | (~df_mod_filtered.Grupo_veiculo_new.isin([\"Toyota Hilux CD\",\"Toyota Hilux CS\",\"Toyota Hilux SW4\"]))]\n",
    "df_mod_filtered = df_mod_filtered[(df_mod_filtered.premio_ofertado/df_mod_filtered.premio_total <=2.3) &  (df_mod_filtered.premio_ofertado/df_mod_filtered.premio_total>=0.7)]\n",
    "\n",
    "df_mod_filtered.shape"
   ]
  },
  {
   "cell_type": "code",
   "execution_count": null,
   "id": "a4b127ca",
   "metadata": {},
   "outputs": [],
   "source": [
    "#df_mod_filtered['classe_bonus'].describe()"
   ]
  },
  {
   "cell_type": "code",
   "execution_count": null,
   "id": "ce9c2092",
   "metadata": {},
   "outputs": [],
   "source": [
    "#print(df_mod_filtered['classe_bonus'].value_counts(ascending=False))"
   ]
  },
  {
   "cell_type": "code",
   "execution_count": 57,
   "id": "dba3717a",
   "metadata": {},
   "outputs": [],
   "source": [
    "df_mod_filtered['DA_emissao'] =0.2349\n",
    "df_mod_filtered['DA_producao'] =0.2749\n",
    "df_mod_filtered['risco_dmais_cob'] =df_mod_filtered['premio_demais_cob']*0.2627*1.4\n",
    "df_mod_filtered['premio_anterior'] =df_mod_filtered['premio_total']\n",
    "df_mod_filtered['Act_cost']  = df_mod_filtered['Risco_PP_mod'] + df_mod_filtered['Risco_PT_mod'] + df_mod_filtered['Risco_RF_mod']+ df_mod_filtered['Risco_DM_mod']+ df_mod_filtered['Risco_AS_mod'] + df_mod_filtered['Risco_DC_mod'] +df_mod_filtered['Risco_DMO_mod'] + df_mod_filtered['risco_dmais_cob']\n",
    "df_mod_filtered['Premio_IC100']  = df_mod_filtered['Act_cost']/(1-df_mod_filtered['per_com']/100-df_mod_filtered['DA_producao'] )\n",
    "df_mod_filtered[\"premio\"] = df_mod_filtered[\"premio_ofertado\"]"
   ]
  },
  {
   "cell_type": "code",
   "execution_count": 58,
   "id": "8992cf1b",
   "metadata": {},
   "outputs": [
    {
     "data": {
      "text/plain": [
       "3028.7706417893046"
      ]
     },
     "execution_count": 58,
     "metadata": {},
     "output_type": "execute_result"
    }
   ],
   "source": [
    "np.mean(df_mod_filtered['Premio_IC100'])"
   ]
  },
  {
   "cell_type": "code",
   "execution_count": 59,
   "id": "7abcd0c0",
   "metadata": {},
   "outputs": [],
   "source": [
    "df_mod=df_mod_filtered.copy()"
   ]
  },
  {
   "cell_type": "code",
   "execution_count": 60,
   "id": "687abc4a",
   "metadata": {
    "scrolled": true
   },
   "outputs": [],
   "source": [
    "def categorizar(df):\n",
    "    \n",
    "    df['classe_bonus_bin'] = df['classe_bonus'].apply(lambda x: '00'  if x == 0 else 'Demais')   \n",
    "    \n",
    "    df['MD_sexo_bin'] = df['MD_sexo'].map({'Masculino': 'Masculino', \n",
    "                                 'Feminino': 'Feminino', \n",
    "                                  'ERRO': 'Masculino'}).astype(object)\n",
    "    \n",
    "    df['MD_sexo_2bin'] = df['MD_sexo'].map({'Masculino': 1, \n",
    "                                 'Feminino': 0, \n",
    "                                  'ERRO': 1}).astype(int)\n",
    "\n",
    "\n",
    "    df['fx_ir_12m_bin'] = df['fx_ir_12m'].apply(lambda x: '01 - 00-<=020' if x == '01 - 00-<=020' else\n",
    "                                                              '02 - 20-<=040' if x == '02 - 20-<=040' else\n",
    "                                                              '03 - 40-<=060' if x == '03 - 40-<=060' else\n",
    "                                                              '04 - 60-<=080' if x == '04 - 60-<=080' else\n",
    "                                                              '05 - 80-<=100' if x == '05 - 80-<=100' else\n",
    "                                                              '02 - 20-<=040' if x == 'NI'           else 'ERROR')\n",
    "\n",
    "  \n",
    "    df['MD_comb_bin'] = df['MD_comb'].apply(lambda x: 'Gasolina' if x == 'Gasolina'  else 'Demais')\n",
    "\n",
    "    df['canal_bin'] =  df['canal'].apply(lambda x: 'Corretor Mais' if x == 'Corretor Mais'  else 'Demais')\n",
    "   \n",
    "    df['per_com_bin'] = df['per_com'].apply(lambda x: '<10' if x < 10 else\n",
    "                                                          '>=10' if x >= 10 else 'ERROR')    \n",
    "\n",
    "\n",
    "\n",
    "    df['idade_ult_RNS_bin'] = df['idade_ult_RNS'].apply(lambda x: 'Sem Sinistro' if x == 'Sem Sinistro' else\n",
    "                                                                      '01-05 ano' if x == '01 ano' else\n",
    "                                                                      '01-05 ano' if x == '01 ano' else\n",
    "                                                                      '01-05 ano' if x == '01 ano' else\n",
    "                                                                      '01-05 ano' if x == '01 ano' else\n",
    "                                                                      '01-05 ano' if x == '01 ano' else '06+ ano +')\n",
    "\n",
    "\n",
    "    df['UF_bin'] = df['UF'].apply(lambda x: 'AL,CE,RS'  if x == 'AL' else\n",
    "                                                'AL,CE,RS'  if x == 'CE' else\n",
    "                                                'AL,CE,RS'  if x == 'RS' else \n",
    "                                                'AP,DF,ES,PA,PB,RN,SC' if x == 'AP' else \n",
    "                                                'AP,DF,ES,PA,PB,RN,SC' if x == 'DF' else \n",
    "                                                'AP,DF,ES,PA,PB,RN,SC' if x == 'ES' else \n",
    "                                                'AP,DF,ES,PA,PB,RN,SC' if x == 'PA' else \n",
    "                                                'AP,DF,ES,PA,PB,RN,SC' if x == 'PB' else \n",
    "                                                'AP,DF,ES,PA,PB,RN,SC' if x == 'RN' else \n",
    "                                                'AP,DF,ES,PA,PB,RN,SC' if x == 'SC' else \n",
    "                                                'GO,MA,MG'             if x == 'GO' else \n",
    "                                                'GO,MA,MG'             if x == 'MA' else \n",
    "                                                'GO,MA,MG'             if x == 'MG' else \n",
    "                                                'MT,PR'                if x == 'MT' else\n",
    "                                                'MT,PR'                if x == 'PR' else \n",
    "                                                'RJ'                   if x == 'RJ' else  'Demais')\n",
    "\n",
    "    df['md_tipo_renov_ant_bin'] = df['Renovacao_ant'].apply(lambda x:     '1 - SeguroNovo'       if x == '1 - Seguro Novo'  else\n",
    "                                                                          '2 - RenovPropria'     if x == '2 - Renov MAPFRE sem sinistro'   else\n",
    "                                                                          '2 - RenovPropria'     if x == '3 - Renov MAPFRE com sinistro'   else\n",
    "                                                                          '3 - RenovCongenere'   if x == '4 - Renov Congenere sem sinistro' else\n",
    "                                                                          '3 - RenovCongenere'   if x == '5 - Renov Congenere com sinistro' else\n",
    "                                                                          '3 - RenovCongenere'   if x == '6 - Renov BB sem sinistro' else\n",
    "                                                                          '3 - RenovCongenere'   if x == '7 - Renov BB com sinistro' else  '2 - RenovPropria')\n",
    "       \n",
    "     \n",
    "    df['Cod_End_bin'] = df['Cod_End'].apply(lambda x: '13509'  if x == 13509 else\n",
    "                                                      '13509'  if x == 50007 else\n",
    "                                                      '13509'  if x == 50100 else 'Demais')   \n",
    "\n",
    "    df['MD_capac_bin'] = df['MD_capac'].apply(lambda x: '5'  if x == 5  else 'Demais')  \n",
    "\n",
    "\n",
    "\n",
    "    df['fator_ajuste_bin'] = df['MD_fator_ajuste'].apply(lambda x: '<101'    if x < 101 else\n",
    "                                                                    '>=101'   if x >= 101  else '<101')   \n",
    "\n",
    "    df['MD_qtd_assis_cpf_bin'] = df['MD_qtd_assis_cpf'].apply(lambda x: '00'  if x == 0 else\n",
    "                                                                        '01'  if x == 1 else\n",
    "                                                                        '>=2' if x >= 2 else 'ERROR')\n",
    "     \n",
    "    return df"
   ]
  },
  {
   "cell_type": "code",
   "execution_count": 61,
   "id": "6be2ddc6",
   "metadata": {},
   "outputs": [],
   "source": [
    "df_mod = categorizar(df_mod)"
   ]
  },
  {
   "cell_type": "code",
   "execution_count": 62,
   "id": "5772a3fe",
   "metadata": {},
   "outputs": [
    {
     "data": {
      "text/plain": [
       "(286808, 65)"
      ]
     },
     "execution_count": 62,
     "metadata": {},
     "output_type": "execute_result"
    }
   ],
   "source": [
    "df_train = df_mod.query('teste_validacao == \"Trein\"')\n",
    "df_train.shape"
   ]
  },
  {
   "cell_type": "code",
   "execution_count": null,
   "id": "5b674e84",
   "metadata": {},
   "outputs": [],
   "source": [
    "df_train = df_train[(df_train['per_com']>0) & (df_train['per_com']<50)]\n",
    "df_train.shape"
   ]
  },
  {
   "cell_type": "code",
   "execution_count": null,
   "id": "91d0c931",
   "metadata": {},
   "outputs": [],
   "source": [
    "#df_train.columns.to_list()"
   ]
  },
  {
   "cell_type": "code",
   "execution_count": 63,
   "id": "a97368be",
   "metadata": {},
   "outputs": [
    {
     "name": "stdout",
     "output_type": "stream",
     "text": [
      "Optimization terminated successfully.\n",
      "         Current function value: 0.558855\n",
      "         Iterations 6\n"
     ]
    },
    {
     "data": {
      "text/html": [
       "<table class=\"simpletable\">\n",
       "<caption>Logit Regression Results</caption>\n",
       "<tr>\n",
       "  <th>Dep. Variable:</th>     <td>ind_renovacao</td>  <th>  No. Observations:  </th>   <td>286808</td>   \n",
       "</tr>\n",
       "<tr>\n",
       "  <th>Model:</th>                 <td>Logit</td>      <th>  Df Residuals:      </th>   <td>286780</td>   \n",
       "</tr>\n",
       "<tr>\n",
       "  <th>Method:</th>                 <td>MLE</td>       <th>  Df Model:          </th>   <td>    27</td>   \n",
       "</tr>\n",
       "<tr>\n",
       "  <th>Date:</th>            <td>Tue, 06 Aug 2024</td> <th>  Pseudo R-squ.:     </th>   <td>0.1900</td>   \n",
       "</tr>\n",
       "<tr>\n",
       "  <th>Time:</th>                <td>15:03:22</td>     <th>  Log-Likelihood:    </th> <td>-1.6028e+05</td>\n",
       "</tr>\n",
       "<tr>\n",
       "  <th>converged:</th>             <td>True</td>       <th>  LL-Null:           </th> <td>-1.9787e+05</td>\n",
       "</tr>\n",
       "<tr>\n",
       "  <th>Covariance Type:</th>     <td>nonrobust</td>    <th>  LLR p-value:       </th>   <td> 0.000</td>   \n",
       "</tr>\n",
       "</table>\n",
       "<table class=\"simpletable\">\n",
       "<tr>\n",
       "                                                     <td></td>                                                        <th>coef</th>     <th>std err</th>      <th>z</th>      <th>P>|z|</th>  <th>[0.025</th>    <th>0.975]</th>  \n",
       "</tr>\n",
       "<tr>\n",
       "  <th>Intercept</th>                                                                                               <td>    2.9758</td> <td>    0.180</td> <td>   16.570</td> <td> 0.000</td> <td>    2.624</td> <td>    3.328</td>\n",
       "</tr>\n",
       "<tr>\n",
       "  <th>C(md_tipo_renov_ant_bin, Treatment(reference=\"2 - RenovPropria\"))[T.1 - SeguroNovo]</th>                     <td>   -0.4823</td> <td>    0.018</td> <td>  -27.485</td> <td> 0.000</td> <td>   -0.517</td> <td>   -0.448</td>\n",
       "</tr>\n",
       "<tr>\n",
       "  <th>C(md_tipo_renov_ant_bin, Treatment(reference=\"2 - RenovPropria\"))[T.3 - RenovCongenere]</th>                 <td>   -0.1764</td> <td>    0.014</td> <td>  -12.875</td> <td> 0.000</td> <td>   -0.203</td> <td>   -0.150</td>\n",
       "</tr>\n",
       "<tr>\n",
       "  <th>C(classe_bonus_bin, Treatment(reference=\"Demais\"))[T.00]</th>                                                <td>   -0.2812</td> <td>    0.045</td> <td>   -6.179</td> <td> 0.000</td> <td>   -0.370</td> <td>   -0.192</td>\n",
       "</tr>\n",
       "<tr>\n",
       "  <th>C(canal_bin, Treatment(reference=\"Demais\"))[T.Corretor Mais]</th>                                            <td>    0.0393</td> <td>    0.011</td> <td>    3.665</td> <td> 0.000</td> <td>    0.018</td> <td>    0.060</td>\n",
       "</tr>\n",
       "<tr>\n",
       "  <th>C(Cod_End_bin, Treatment(reference=\"Demais\"))[T.13509]</th>                                                  <td>   -0.2579</td> <td>    0.015</td> <td>  -17.328</td> <td> 0.000</td> <td>   -0.287</td> <td>   -0.229</td>\n",
       "</tr>\n",
       "<tr>\n",
       "  <th>C(fator_ajuste_bin, Treatment(reference=\"<101\"))[T.>=101]</th>                                               <td>    0.1457</td> <td>    0.030</td> <td>    4.891</td> <td> 0.000</td> <td>    0.087</td> <td>    0.204</td>\n",
       "</tr>\n",
       "<tr>\n",
       "  <th>C(per_com_bin, Treatment(reference=\">=10\"))[T.<10]</th>                                                      <td>    0.1802</td> <td>    0.026</td> <td>    7.062</td> <td> 0.000</td> <td>    0.130</td> <td>    0.230</td>\n",
       "</tr>\n",
       "<tr>\n",
       "  <th>C(idade_ult_RNS_bin, Treatment(reference=\"Sem Sinistro\"))[T.01-05 ano]</th>                                  <td>   -0.4801</td> <td>    0.025</td> <td>  -18.874</td> <td> 0.000</td> <td>   -0.530</td> <td>   -0.430</td>\n",
       "</tr>\n",
       "<tr>\n",
       "  <th>C(idade_ult_RNS_bin, Treatment(reference=\"Sem Sinistro\"))[T.06+ ano +]</th>                                  <td>   -0.4480</td> <td>    0.013</td> <td>  -34.615</td> <td> 0.000</td> <td>   -0.473</td> <td>   -0.423</td>\n",
       "</tr>\n",
       "<tr>\n",
       "  <th>C(MD_comb_bin, Treatment(reference=\"Demais\"))[T.Gasolina]</th>                                               <td>    0.3799</td> <td>    0.020</td> <td>   18.808</td> <td> 0.000</td> <td>    0.340</td> <td>    0.420</td>\n",
       "</tr>\n",
       "<tr>\n",
       "  <th>C(UF_bin, Treatment(reference=\"Demais\"))[T.AL,CE,RS]</th>                                                    <td>   -0.2311</td> <td>    0.014</td> <td>  -16.300</td> <td> 0.000</td> <td>   -0.259</td> <td>   -0.203</td>\n",
       "</tr>\n",
       "<tr>\n",
       "  <th>C(UF_bin, Treatment(reference=\"Demais\"))[T.AP,DF,ES,PA,PB,RN,SC]</th>                                        <td>   -0.2430</td> <td>    0.015</td> <td>  -16.745</td> <td> 0.000</td> <td>   -0.271</td> <td>   -0.215</td>\n",
       "</tr>\n",
       "<tr>\n",
       "  <th>C(UF_bin, Treatment(reference=\"Demais\"))[T.GO,MA,MG]</th>                                                    <td>   -0.0748</td> <td>    0.016</td> <td>   -4.780</td> <td> 0.000</td> <td>   -0.105</td> <td>   -0.044</td>\n",
       "</tr>\n",
       "<tr>\n",
       "  <th>C(UF_bin, Treatment(reference=\"Demais\"))[T.MT,PR]</th>                                                       <td>   -0.1310</td> <td>    0.015</td> <td>   -8.814</td> <td> 0.000</td> <td>   -0.160</td> <td>   -0.102</td>\n",
       "</tr>\n",
       "<tr>\n",
       "  <th>C(UF_bin, Treatment(reference=\"Demais\"))[T.RJ]</th>                                                          <td>    0.2684</td> <td>    0.021</td> <td>   12.590</td> <td> 0.000</td> <td>    0.227</td> <td>    0.310</td>\n",
       "</tr>\n",
       "<tr>\n",
       "  <th>C(fx_ir_12m_bin, Treatment(reference=\"02 - 20-<=040\"))[T.01 - 00-<=020]</th>                                 <td>   -0.8292</td> <td>    0.018</td> <td>  -45.090</td> <td> 0.000</td> <td>   -0.865</td> <td>   -0.793</td>\n",
       "</tr>\n",
       "<tr>\n",
       "  <th>C(fx_ir_12m_bin, Treatment(reference=\"02 - 20-<=040\"))[T.03 - 40-<=060]</th>                                 <td>    0.4887</td> <td>    0.010</td> <td>   46.642</td> <td> 0.000</td> <td>    0.468</td> <td>    0.509</td>\n",
       "</tr>\n",
       "<tr>\n",
       "  <th>C(fx_ir_12m_bin, Treatment(reference=\"02 - 20-<=040\"))[T.04 - 60-<=080]</th>                                 <td>    1.1609</td> <td>    0.014</td> <td>   82.557</td> <td> 0.000</td> <td>    1.133</td> <td>    1.188</td>\n",
       "</tr>\n",
       "<tr>\n",
       "  <th>C(fx_ir_12m_bin, Treatment(reference=\"02 - 20-<=040\"))[T.05 - 80-<=100]</th>                                 <td>    2.0767</td> <td>    0.026</td> <td>   80.114</td> <td> 0.000</td> <td>    2.026</td> <td>    2.127</td>\n",
       "</tr>\n",
       "<tr>\n",
       "  <th>C(MD_tipo_renov, Treatment(reference=\"2 - Renov MAPFRE sem sinistro\"))[T.3 - Renov MAPFRE com sinistro]</th> <td>   -0.1150</td> <td>    0.025</td> <td>   -4.638</td> <td> 0.000</td> <td>   -0.164</td> <td>   -0.066</td>\n",
       "</tr>\n",
       "<tr>\n",
       "  <th>np.log(premio)</th>                                                                                          <td>   -0.2958</td> <td>    0.020</td> <td>  -14.882</td> <td> 0.000</td> <td>   -0.335</td> <td>   -0.257</td>\n",
       "</tr>\n",
       "<tr>\n",
       "  <th>np.divide(premio, is_casco_ofer)</th>                                                                        <td>   -3.9843</td> <td>    0.257</td> <td>  -15.526</td> <td> 0.000</td> <td>   -4.487</td> <td>   -3.481</td>\n",
       "</tr>\n",
       "<tr>\n",
       "  <th>np.log(np.divide(premio, GBM_mercado))</th>                                                                  <td>   -0.2264</td> <td>    0.030</td> <td>   -7.539</td> <td> 0.000</td> <td>   -0.285</td> <td>   -0.168</td>\n",
       "</tr>\n",
       "<tr>\n",
       "  <th>np.log(np.divide(premio, Premio_IC100))</th>                                                                 <td>   -1.0737</td> <td>    0.016</td> <td>  -67.583</td> <td> 0.000</td> <td>   -1.105</td> <td>   -1.043</td>\n",
       "</tr>\n",
       "<tr>\n",
       "  <th>np.divide(premio, premio_anterior)</th>                                                                      <td>   -1.1608</td> <td>    0.018</td> <td>  -66.040</td> <td> 0.000</td> <td>   -1.195</td> <td>   -1.126</td>\n",
       "</tr>\n",
       "<tr>\n",
       "  <th>per_com</th>                                                                                                 <td>    0.0156</td> <td>    0.001</td> <td>   17.028</td> <td> 0.000</td> <td>    0.014</td> <td>    0.017</td>\n",
       "</tr>\n",
       "<tr>\n",
       "  <th>np.log(MD_tempo_casa_2 + 1)</th>                                                                             <td>    0.2515</td> <td>    0.013</td> <td>   20.098</td> <td> 0.000</td> <td>    0.227</td> <td>    0.276</td>\n",
       "</tr>\n",
       "</table>"
      ],
      "text/plain": [
       "<class 'statsmodels.iolib.summary.Summary'>\n",
       "\"\"\"\n",
       "                           Logit Regression Results                           \n",
       "==============================================================================\n",
       "Dep. Variable:          ind_renovacao   No. Observations:               286808\n",
       "Model:                          Logit   Df Residuals:                   286780\n",
       "Method:                           MLE   Df Model:                           27\n",
       "Date:                Tue, 06 Aug 2024   Pseudo R-squ.:                  0.1900\n",
       "Time:                        15:03:22   Log-Likelihood:            -1.6028e+05\n",
       "converged:                       True   LL-Null:                   -1.9787e+05\n",
       "Covariance Type:            nonrobust   LLR p-value:                     0.000\n",
       "===========================================================================================================================================================================\n",
       "                                                                                                              coef    std err          z      P>|z|      [0.025      0.975]\n",
       "---------------------------------------------------------------------------------------------------------------------------------------------------------------------------\n",
       "Intercept                                                                                                   2.9758      0.180     16.570      0.000       2.624       3.328\n",
       "C(md_tipo_renov_ant_bin, Treatment(reference=\"2 - RenovPropria\"))[T.1 - SeguroNovo]                        -0.4823      0.018    -27.485      0.000      -0.517      -0.448\n",
       "C(md_tipo_renov_ant_bin, Treatment(reference=\"2 - RenovPropria\"))[T.3 - RenovCongenere]                    -0.1764      0.014    -12.875      0.000      -0.203      -0.150\n",
       "C(classe_bonus_bin, Treatment(reference=\"Demais\"))[T.00]                                                   -0.2812      0.045     -6.179      0.000      -0.370      -0.192\n",
       "C(canal_bin, Treatment(reference=\"Demais\"))[T.Corretor Mais]                                                0.0393      0.011      3.665      0.000       0.018       0.060\n",
       "C(Cod_End_bin, Treatment(reference=\"Demais\"))[T.13509]                                                     -0.2579      0.015    -17.328      0.000      -0.287      -0.229\n",
       "C(fator_ajuste_bin, Treatment(reference=\"<101\"))[T.>=101]                                                   0.1457      0.030      4.891      0.000       0.087       0.204\n",
       "C(per_com_bin, Treatment(reference=\">=10\"))[T.<10]                                                          0.1802      0.026      7.062      0.000       0.130       0.230\n",
       "C(idade_ult_RNS_bin, Treatment(reference=\"Sem Sinistro\"))[T.01-05 ano]                                     -0.4801      0.025    -18.874      0.000      -0.530      -0.430\n",
       "C(idade_ult_RNS_bin, Treatment(reference=\"Sem Sinistro\"))[T.06+ ano +]                                     -0.4480      0.013    -34.615      0.000      -0.473      -0.423\n",
       "C(MD_comb_bin, Treatment(reference=\"Demais\"))[T.Gasolina]                                                   0.3799      0.020     18.808      0.000       0.340       0.420\n",
       "C(UF_bin, Treatment(reference=\"Demais\"))[T.AL,CE,RS]                                                       -0.2311      0.014    -16.300      0.000      -0.259      -0.203\n",
       "C(UF_bin, Treatment(reference=\"Demais\"))[T.AP,DF,ES,PA,PB,RN,SC]                                           -0.2430      0.015    -16.745      0.000      -0.271      -0.215\n",
       "C(UF_bin, Treatment(reference=\"Demais\"))[T.GO,MA,MG]                                                       -0.0748      0.016     -4.780      0.000      -0.105      -0.044\n",
       "C(UF_bin, Treatment(reference=\"Demais\"))[T.MT,PR]                                                          -0.1310      0.015     -8.814      0.000      -0.160      -0.102\n",
       "C(UF_bin, Treatment(reference=\"Demais\"))[T.RJ]                                                              0.2684      0.021     12.590      0.000       0.227       0.310\n",
       "C(fx_ir_12m_bin, Treatment(reference=\"02 - 20-<=040\"))[T.01 - 00-<=020]                                    -0.8292      0.018    -45.090      0.000      -0.865      -0.793\n",
       "C(fx_ir_12m_bin, Treatment(reference=\"02 - 20-<=040\"))[T.03 - 40-<=060]                                     0.4887      0.010     46.642      0.000       0.468       0.509\n",
       "C(fx_ir_12m_bin, Treatment(reference=\"02 - 20-<=040\"))[T.04 - 60-<=080]                                     1.1609      0.014     82.557      0.000       1.133       1.188\n",
       "C(fx_ir_12m_bin, Treatment(reference=\"02 - 20-<=040\"))[T.05 - 80-<=100]                                     2.0767      0.026     80.114      0.000       2.026       2.127\n",
       "C(MD_tipo_renov, Treatment(reference=\"2 - Renov MAPFRE sem sinistro\"))[T.3 - Renov MAPFRE com sinistro]    -0.1150      0.025     -4.638      0.000      -0.164      -0.066\n",
       "np.log(premio)                                                                                             -0.2958      0.020    -14.882      0.000      -0.335      -0.257\n",
       "np.divide(premio, is_casco_ofer)                                                                           -3.9843      0.257    -15.526      0.000      -4.487      -3.481\n",
       "np.log(np.divide(premio, GBM_mercado))                                                                     -0.2264      0.030     -7.539      0.000      -0.285      -0.168\n",
       "np.log(np.divide(premio, Premio_IC100))                                                                    -1.0737      0.016    -67.583      0.000      -1.105      -1.043\n",
       "np.divide(premio, premio_anterior)                                                                         -1.1608      0.018    -66.040      0.000      -1.195      -1.126\n",
       "per_com                                                                                                     0.0156      0.001     17.028      0.000       0.014       0.017\n",
       "np.log(MD_tempo_casa_2 + 1)                                                                                 0.2515      0.013     20.098      0.000       0.227       0.276\n",
       "===========================================================================================================================================================================\n",
       "\"\"\""
      ]
     },
     "execution_count": 63,
     "metadata": {},
     "output_type": "execute_result"
    }
   ],
   "source": [
    "import statsmodels.formula.api as smf\n",
    "#Modelo GLM de retenção\n",
    "formula = 'ind_renovacao ~ 1 + np.log(premio) + np.divide(premio, is_casco_ofer) + np.log(np.divide(premio, GBM_mercado)) + np.log(np.divide(premio, Premio_IC100)) + (np.divide(premio, premio_anterior)+1) + C(md_tipo_renov_ant_bin,Treatment(reference=\"2 - RenovPropria\")) + C(classe_bonus_bin,Treatment(reference=\"Demais\")) + C(canal_bin,Treatment(reference=\"Demais\")) + C(Cod_End_bin,Treatment(reference=\"Demais\")) + C(fator_ajuste_bin,Treatment(reference=\"<101\")) + per_com + C(per_com_bin,Treatment(reference=\">=10\")) + np.log(MD_tempo_casa_2+1) + C(idade_ult_RNS_bin,Treatment(reference=\"Sem Sinistro\")) + C(MD_comb_bin,Treatment(reference=\"Demais\")) + C(UF_bin,Treatment(reference=\"Demais\")) + C(fx_ir_12m_bin,Treatment(reference=\"02 - 20-<=040\")) + C(MD_tipo_renov,Treatment(reference=\"2 - Renov MAPFRE sem sinistro\"))' \n",
    "model = smf.logit(formula , data=df_train).fit()\n",
    "model.summary()"
   ]
  },
  {
   "cell_type": "code",
   "execution_count": null,
   "id": "23a943db",
   "metadata": {},
   "outputs": [],
   "source": [
    "df_train[\"prob_est\"]=model.predict(df_train)"
   ]
  },
  {
   "cell_type": "code",
   "execution_count": 64,
   "id": "5b5a6c1b",
   "metadata": {},
   "outputs": [
    {
     "name": "stdout",
     "output_type": "stream",
     "text": [
      "Optimization terminated successfully.\n",
      "         Current function value: 0.558954\n",
      "         Iterations 6\n"
     ]
    },
    {
     "data": {
      "text/html": [
       "<table class=\"simpletable\">\n",
       "<caption>Logit Regression Results</caption>\n",
       "<tr>\n",
       "  <th>Dep. Variable:</th>     <td>ind_renovacao</td>  <th>  No. Observations:  </th>   <td>286808</td>   \n",
       "</tr>\n",
       "<tr>\n",
       "  <th>Model:</th>                 <td>Logit</td>      <th>  Df Residuals:      </th>   <td>286781</td>   \n",
       "</tr>\n",
       "<tr>\n",
       "  <th>Method:</th>                 <td>MLE</td>       <th>  Df Model:          </th>   <td>    26</td>   \n",
       "</tr>\n",
       "<tr>\n",
       "  <th>Date:</th>            <td>Tue, 06 Aug 2024</td> <th>  Pseudo R-squ.:     </th>   <td>0.1898</td>   \n",
       "</tr>\n",
       "<tr>\n",
       "  <th>Time:</th>                <td>15:04:29</td>     <th>  Log-Likelihood:    </th> <td>-1.6031e+05</td>\n",
       "</tr>\n",
       "<tr>\n",
       "  <th>converged:</th>             <td>True</td>       <th>  LL-Null:           </th> <td>-1.9787e+05</td>\n",
       "</tr>\n",
       "<tr>\n",
       "  <th>Covariance Type:</th>     <td>nonrobust</td>    <th>  LLR p-value:       </th>   <td> 0.000</td>   \n",
       "</tr>\n",
       "</table>\n",
       "<table class=\"simpletable\">\n",
       "<tr>\n",
       "                                                     <td></td>                                                        <th>coef</th>     <th>std err</th>      <th>z</th>      <th>P>|z|</th>  <th>[0.025</th>    <th>0.975]</th>  \n",
       "</tr>\n",
       "<tr>\n",
       "  <th>Intercept</th>                                                                                               <td>    4.1803</td> <td>    0.082</td> <td>   50.812</td> <td> 0.000</td> <td>    4.019</td> <td>    4.342</td>\n",
       "</tr>\n",
       "<tr>\n",
       "  <th>C(md_tipo_renov_ant_bin, Treatment(reference=\"2 - RenovPropria\"))[T.1 - SeguroNovo]</th>                     <td>   -0.4689</td> <td>    0.017</td> <td>  -26.856</td> <td> 0.000</td> <td>   -0.503</td> <td>   -0.435</td>\n",
       "</tr>\n",
       "<tr>\n",
       "  <th>C(md_tipo_renov_ant_bin, Treatment(reference=\"2 - RenovPropria\"))[T.3 - RenovCongenere]</th>                 <td>   -0.1904</td> <td>    0.014</td> <td>  -14.030</td> <td> 0.000</td> <td>   -0.217</td> <td>   -0.164</td>\n",
       "</tr>\n",
       "<tr>\n",
       "  <th>C(classe_bonus_bin, Treatment(reference=\"Demais\"))[T.00]</th>                                                <td>   -0.2634</td> <td>    0.045</td> <td>   -5.800</td> <td> 0.000</td> <td>   -0.352</td> <td>   -0.174</td>\n",
       "</tr>\n",
       "<tr>\n",
       "  <th>C(canal_bin, Treatment(reference=\"Demais\"))[T.Corretor Mais]</th>                                            <td>    0.0367</td> <td>    0.011</td> <td>    3.422</td> <td> 0.001</td> <td>    0.016</td> <td>    0.058</td>\n",
       "</tr>\n",
       "<tr>\n",
       "  <th>C(Cod_End_bin, Treatment(reference=\"Demais\"))[T.13509]</th>                                                  <td>   -0.2549</td> <td>    0.015</td> <td>  -17.137</td> <td> 0.000</td> <td>   -0.284</td> <td>   -0.226</td>\n",
       "</tr>\n",
       "<tr>\n",
       "  <th>C(fator_ajuste_bin, Treatment(reference=\"<101\"))[T.>=101]</th>                                               <td>    0.1432</td> <td>    0.030</td> <td>    4.807</td> <td> 0.000</td> <td>    0.085</td> <td>    0.202</td>\n",
       "</tr>\n",
       "<tr>\n",
       "  <th>C(per_com_bin, Treatment(reference=\">=10\"))[T.<10]</th>                                                      <td>    0.1765</td> <td>    0.026</td> <td>    6.920</td> <td> 0.000</td> <td>    0.127</td> <td>    0.226</td>\n",
       "</tr>\n",
       "<tr>\n",
       "  <th>C(idade_ult_RNS_bin, Treatment(reference=\"Sem Sinistro\"))[T.01-05 ano]</th>                                  <td>   -0.4995</td> <td>    0.025</td> <td>  -19.743</td> <td> 0.000</td> <td>   -0.549</td> <td>   -0.450</td>\n",
       "</tr>\n",
       "<tr>\n",
       "  <th>C(idade_ult_RNS_bin, Treatment(reference=\"Sem Sinistro\"))[T.06+ ano +]</th>                                  <td>   -0.4729</td> <td>    0.013</td> <td>  -37.773</td> <td> 0.000</td> <td>   -0.497</td> <td>   -0.448</td>\n",
       "</tr>\n",
       "<tr>\n",
       "  <th>C(MD_comb_bin, Treatment(reference=\"Demais\"))[T.Gasolina]</th>                                               <td>    0.3702</td> <td>    0.020</td> <td>   18.356</td> <td> 0.000</td> <td>    0.331</td> <td>    0.410</td>\n",
       "</tr>\n",
       "<tr>\n",
       "  <th>C(UF_bin, Treatment(reference=\"Demais\"))[T.AL,CE,RS]</th>                                                    <td>   -0.2291</td> <td>    0.014</td> <td>  -16.163</td> <td> 0.000</td> <td>   -0.257</td> <td>   -0.201</td>\n",
       "</tr>\n",
       "<tr>\n",
       "  <th>C(UF_bin, Treatment(reference=\"Demais\"))[T.AP,DF,ES,PA,PB,RN,SC]</th>                                        <td>   -0.2366</td> <td>    0.014</td> <td>  -16.333</td> <td> 0.000</td> <td>   -0.265</td> <td>   -0.208</td>\n",
       "</tr>\n",
       "<tr>\n",
       "  <th>C(UF_bin, Treatment(reference=\"Demais\"))[T.GO,MA,MG]</th>                                                    <td>   -0.0716</td> <td>    0.016</td> <td>   -4.578</td> <td> 0.000</td> <td>   -0.102</td> <td>   -0.041</td>\n",
       "</tr>\n",
       "<tr>\n",
       "  <th>C(UF_bin, Treatment(reference=\"Demais\"))[T.MT,PR]</th>                                                       <td>   -0.1297</td> <td>    0.015</td> <td>   -8.727</td> <td> 0.000</td> <td>   -0.159</td> <td>   -0.101</td>\n",
       "</tr>\n",
       "<tr>\n",
       "  <th>C(UF_bin, Treatment(reference=\"Demais\"))[T.RJ]</th>                                                          <td>    0.2468</td> <td>    0.021</td> <td>   11.680</td> <td> 0.000</td> <td>    0.205</td> <td>    0.288</td>\n",
       "</tr>\n",
       "<tr>\n",
       "  <th>C(fx_ir_12m_bin, Treatment(reference=\"02 - 20-<=040\"))[T.01 - 00-<=020]</th>                                 <td>   -0.8304</td> <td>    0.018</td> <td>  -45.162</td> <td> 0.000</td> <td>   -0.866</td> <td>   -0.794</td>\n",
       "</tr>\n",
       "<tr>\n",
       "  <th>C(fx_ir_12m_bin, Treatment(reference=\"02 - 20-<=040\"))[T.03 - 40-<=060]</th>                                 <td>    0.4889</td> <td>    0.010</td> <td>   46.667</td> <td> 0.000</td> <td>    0.468</td> <td>    0.509</td>\n",
       "</tr>\n",
       "<tr>\n",
       "  <th>C(fx_ir_12m_bin, Treatment(reference=\"02 - 20-<=040\"))[T.04 - 60-<=080]</th>                                 <td>    1.1602</td> <td>    0.014</td> <td>   82.515</td> <td> 0.000</td> <td>    1.133</td> <td>    1.188</td>\n",
       "</tr>\n",
       "<tr>\n",
       "  <th>C(fx_ir_12m_bin, Treatment(reference=\"02 - 20-<=040\"))[T.05 - 80-<=100]</th>                                 <td>    2.0769</td> <td>    0.026</td> <td>   80.125</td> <td> 0.000</td> <td>    2.026</td> <td>    2.128</td>\n",
       "</tr>\n",
       "<tr>\n",
       "  <th>C(MD_tipo_renov, Treatment(reference=\"2 - Renov MAPFRE sem sinistro\"))[T.3 - Renov MAPFRE com sinistro]</th> <td>   -0.1087</td> <td>    0.025</td> <td>   -4.388</td> <td> 0.000</td> <td>   -0.157</td> <td>   -0.060</td>\n",
       "</tr>\n",
       "<tr>\n",
       "  <th>np.log(premio)</th>                                                                                          <td>   -0.4235</td> <td>    0.010</td> <td>  -40.611</td> <td> 0.000</td> <td>   -0.444</td> <td>   -0.403</td>\n",
       "</tr>\n",
       "<tr>\n",
       "  <th>np.divide(premio, is_casco_ofer)</th>                                                                        <td>   -4.9810</td> <td>    0.221</td> <td>  -22.583</td> <td> 0.000</td> <td>   -5.413</td> <td>   -4.549</td>\n",
       "</tr>\n",
       "<tr>\n",
       "  <th>np.log(np.divide(premio, Premio_IC100))</th>                                                                 <td>   -1.0980</td> <td>    0.016</td> <td>  -70.545</td> <td> 0.000</td> <td>   -1.128</td> <td>   -1.067</td>\n",
       "</tr>\n",
       "<tr>\n",
       "  <th>np.divide(premio, premio_anterior)</th>                                                                      <td>   -1.1683</td> <td>    0.018</td> <td>  -66.571</td> <td> 0.000</td> <td>   -1.203</td> <td>   -1.134</td>\n",
       "</tr>\n",
       "<tr>\n",
       "  <th>per_com</th>                                                                                                 <td>    0.0142</td> <td>    0.001</td> <td>   15.856</td> <td> 0.000</td> <td>    0.012</td> <td>    0.016</td>\n",
       "</tr>\n",
       "<tr>\n",
       "  <th>np.log(MD_tempo_casa_2 + 1)</th>                                                                             <td>    0.2392</td> <td>    0.012</td> <td>   19.280</td> <td> 0.000</td> <td>    0.215</td> <td>    0.264</td>\n",
       "</tr>\n",
       "</table>"
      ],
      "text/plain": [
       "<class 'statsmodels.iolib.summary.Summary'>\n",
       "\"\"\"\n",
       "                           Logit Regression Results                           \n",
       "==============================================================================\n",
       "Dep. Variable:          ind_renovacao   No. Observations:               286808\n",
       "Model:                          Logit   Df Residuals:                   286781\n",
       "Method:                           MLE   Df Model:                           26\n",
       "Date:                Tue, 06 Aug 2024   Pseudo R-squ.:                  0.1898\n",
       "Time:                        15:04:29   Log-Likelihood:            -1.6031e+05\n",
       "converged:                       True   LL-Null:                   -1.9787e+05\n",
       "Covariance Type:            nonrobust   LLR p-value:                     0.000\n",
       "===========================================================================================================================================================================\n",
       "                                                                                                              coef    std err          z      P>|z|      [0.025      0.975]\n",
       "---------------------------------------------------------------------------------------------------------------------------------------------------------------------------\n",
       "Intercept                                                                                                   4.1803      0.082     50.812      0.000       4.019       4.342\n",
       "C(md_tipo_renov_ant_bin, Treatment(reference=\"2 - RenovPropria\"))[T.1 - SeguroNovo]                        -0.4689      0.017    -26.856      0.000      -0.503      -0.435\n",
       "C(md_tipo_renov_ant_bin, Treatment(reference=\"2 - RenovPropria\"))[T.3 - RenovCongenere]                    -0.1904      0.014    -14.030      0.000      -0.217      -0.164\n",
       "C(classe_bonus_bin, Treatment(reference=\"Demais\"))[T.00]                                                   -0.2634      0.045     -5.800      0.000      -0.352      -0.174\n",
       "C(canal_bin, Treatment(reference=\"Demais\"))[T.Corretor Mais]                                                0.0367      0.011      3.422      0.001       0.016       0.058\n",
       "C(Cod_End_bin, Treatment(reference=\"Demais\"))[T.13509]                                                     -0.2549      0.015    -17.137      0.000      -0.284      -0.226\n",
       "C(fator_ajuste_bin, Treatment(reference=\"<101\"))[T.>=101]                                                   0.1432      0.030      4.807      0.000       0.085       0.202\n",
       "C(per_com_bin, Treatment(reference=\">=10\"))[T.<10]                                                          0.1765      0.026      6.920      0.000       0.127       0.226\n",
       "C(idade_ult_RNS_bin, Treatment(reference=\"Sem Sinistro\"))[T.01-05 ano]                                     -0.4995      0.025    -19.743      0.000      -0.549      -0.450\n",
       "C(idade_ult_RNS_bin, Treatment(reference=\"Sem Sinistro\"))[T.06+ ano +]                                     -0.4729      0.013    -37.773      0.000      -0.497      -0.448\n",
       "C(MD_comb_bin, Treatment(reference=\"Demais\"))[T.Gasolina]                                                   0.3702      0.020     18.356      0.000       0.331       0.410\n",
       "C(UF_bin, Treatment(reference=\"Demais\"))[T.AL,CE,RS]                                                       -0.2291      0.014    -16.163      0.000      -0.257      -0.201\n",
       "C(UF_bin, Treatment(reference=\"Demais\"))[T.AP,DF,ES,PA,PB,RN,SC]                                           -0.2366      0.014    -16.333      0.000      -0.265      -0.208\n",
       "C(UF_bin, Treatment(reference=\"Demais\"))[T.GO,MA,MG]                                                       -0.0716      0.016     -4.578      0.000      -0.102      -0.041\n",
       "C(UF_bin, Treatment(reference=\"Demais\"))[T.MT,PR]                                                          -0.1297      0.015     -8.727      0.000      -0.159      -0.101\n",
       "C(UF_bin, Treatment(reference=\"Demais\"))[T.RJ]                                                              0.2468      0.021     11.680      0.000       0.205       0.288\n",
       "C(fx_ir_12m_bin, Treatment(reference=\"02 - 20-<=040\"))[T.01 - 00-<=020]                                    -0.8304      0.018    -45.162      0.000      -0.866      -0.794\n",
       "C(fx_ir_12m_bin, Treatment(reference=\"02 - 20-<=040\"))[T.03 - 40-<=060]                                     0.4889      0.010     46.667      0.000       0.468       0.509\n",
       "C(fx_ir_12m_bin, Treatment(reference=\"02 - 20-<=040\"))[T.04 - 60-<=080]                                     1.1602      0.014     82.515      0.000       1.133       1.188\n",
       "C(fx_ir_12m_bin, Treatment(reference=\"02 - 20-<=040\"))[T.05 - 80-<=100]                                     2.0769      0.026     80.125      0.000       2.026       2.128\n",
       "C(MD_tipo_renov, Treatment(reference=\"2 - Renov MAPFRE sem sinistro\"))[T.3 - Renov MAPFRE com sinistro]    -0.1087      0.025     -4.388      0.000      -0.157      -0.060\n",
       "np.log(premio)                                                                                             -0.4235      0.010    -40.611      0.000      -0.444      -0.403\n",
       "np.divide(premio, is_casco_ofer)                                                                           -4.9810      0.221    -22.583      0.000      -5.413      -4.549\n",
       "np.log(np.divide(premio, Premio_IC100))                                                                    -1.0980      0.016    -70.545      0.000      -1.128      -1.067\n",
       "np.divide(premio, premio_anterior)                                                                         -1.1683      0.018    -66.571      0.000      -1.203      -1.134\n",
       "per_com                                                                                                     0.0142      0.001     15.856      0.000       0.012       0.016\n",
       "np.log(MD_tempo_casa_2 + 1)                                                                                 0.2392      0.012     19.280      0.000       0.215       0.264\n",
       "===========================================================================================================================================================================\n",
       "\"\"\""
      ]
     },
     "execution_count": 64,
     "metadata": {},
     "output_type": "execute_result"
    }
   ],
   "source": [
    "import statsmodels.formula.api as smf\n",
    "#Modelo GLM de retenção\n",
    "formula = 'ind_renovacao ~ 1 + np.log(premio) + np.divide(premio, is_casco_ofer)  + np.log(np.divide(premio, Premio_IC100)) + (np.divide(premio, premio_anterior)+1) + C(md_tipo_renov_ant_bin,Treatment(reference=\"2 - RenovPropria\")) + C(classe_bonus_bin,Treatment(reference=\"Demais\")) + C(canal_bin,Treatment(reference=\"Demais\")) + C(Cod_End_bin,Treatment(reference=\"Demais\")) + C(fator_ajuste_bin,Treatment(reference=\"<101\")) + per_com + C(per_com_bin,Treatment(reference=\">=10\")) + np.log(MD_tempo_casa_2+1) + C(idade_ult_RNS_bin,Treatment(reference=\"Sem Sinistro\")) + C(MD_comb_bin,Treatment(reference=\"Demais\")) + C(UF_bin,Treatment(reference=\"Demais\")) + C(fx_ir_12m_bin,Treatment(reference=\"02 - 20-<=040\")) + C(MD_tipo_renov,Treatment(reference=\"2 - Renov MAPFRE sem sinistro\"))' \n",
    "#formula = 'ind_renovacao ~ 1 ' \n",
    "model_teste = smf.logit(formula , data=df_train).fit()\n",
    "model_teste.summary()"
   ]
  },
  {
   "cell_type": "code",
   "execution_count": null,
   "id": "bc915f8e",
   "metadata": {},
   "outputs": [],
   "source": []
  },
  {
   "cell_type": "markdown",
   "id": "808c929f",
   "metadata": {},
   "source": [
    "## Base Para escorar e otimizar"
   ]
  },
  {
   "cell_type": "code",
   "execution_count": 66,
   "id": "daae90ef",
   "metadata": {},
   "outputs": [],
   "source": [
    "df_lote_092024 = pd.read_csv(\"C://Flavio/Projeto Otimizacao/Otimizacao/Table 7 Base Case Total  - teste novo.csv\",\n",
    "                     encoding='latin-1',\n",
    "                     delimiter='|')"
   ]
  },
  {
   "cell_type": "code",
   "execution_count": 67,
   "id": "1cb3a37a",
   "metadata": {},
   "outputs": [
    {
     "data": {
      "text/html": [
       "<div>\n",
       "<style scoped>\n",
       "    .dataframe tbody tr th:only-of-type {\n",
       "        vertical-align: middle;\n",
       "    }\n",
       "\n",
       "    .dataframe tbody tr th {\n",
       "        vertical-align: top;\n",
       "    }\n",
       "\n",
       "    .dataframe thead th {\n",
       "        text-align: right;\n",
       "    }\n",
       "</style>\n",
       "<table border=\"1\" class=\"dataframe\">\n",
       "  <thead>\n",
       "    <tr style=\"text-align: right;\">\n",
       "      <th></th>\n",
       "      <th>Amostra</th>\n",
       "      <th>Controle</th>\n",
       "      <th>Otimização Atu</th>\n",
       "      <th>Otimização Mkp</th>\n",
       "      <th>Otimização Mkp2</th>\n",
       "      <th>Teste_+5%</th>\n",
       "      <th>Teste_-5%</th>\n",
       "    </tr>\n",
       "  </thead>\n",
       "  <tbody>\n",
       "    <tr>\n",
       "      <th rowspan=\"8\" valign=\"top\">GBM_mercado</th>\n",
       "      <th>count</th>\n",
       "      <td>2740.000000</td>\n",
       "      <td>10925.000000</td>\n",
       "      <td>9422.000000</td>\n",
       "      <td>1438.000000</td>\n",
       "      <td>1409.000000</td>\n",
       "      <td>1370.000000</td>\n",
       "    </tr>\n",
       "    <tr>\n",
       "      <th>mean</th>\n",
       "      <td>2602.944757</td>\n",
       "      <td>2621.370383</td>\n",
       "      <td>2601.304471</td>\n",
       "      <td>3591.388082</td>\n",
       "      <td>2587.438075</td>\n",
       "      <td>2631.246128</td>\n",
       "    </tr>\n",
       "    <tr>\n",
       "      <th>std</th>\n",
       "      <td>1312.284205</td>\n",
       "      <td>1369.512665</td>\n",
       "      <td>1338.159238</td>\n",
       "      <td>1960.647792</td>\n",
       "      <td>1354.142679</td>\n",
       "      <td>1359.976155</td>\n",
       "    </tr>\n",
       "    <tr>\n",
       "      <th>min</th>\n",
       "      <td>1015.431214</td>\n",
       "      <td>1041.331315</td>\n",
       "      <td>1035.647912</td>\n",
       "      <td>1277.207077</td>\n",
       "      <td>1015.431214</td>\n",
       "      <td>1064.661439</td>\n",
       "    </tr>\n",
       "    <tr>\n",
       "      <th>25%</th>\n",
       "      <td>1774.339627</td>\n",
       "      <td>1788.325662</td>\n",
       "      <td>1769.360916</td>\n",
       "      <td>2330.196556</td>\n",
       "      <td>1762.255533</td>\n",
       "      <td>1820.605352</td>\n",
       "    </tr>\n",
       "    <tr>\n",
       "      <th>50%</th>\n",
       "      <td>2253.495158</td>\n",
       "      <td>2262.564660</td>\n",
       "      <td>2242.979826</td>\n",
       "      <td>3028.914881</td>\n",
       "      <td>2215.446196</td>\n",
       "      <td>2286.570944</td>\n",
       "    </tr>\n",
       "    <tr>\n",
       "      <th>75%</th>\n",
       "      <td>2938.428051</td>\n",
       "      <td>2944.539948</td>\n",
       "      <td>2944.864456</td>\n",
       "      <td>3949.047382</td>\n",
       "      <td>2934.522526</td>\n",
       "      <td>2962.073010</td>\n",
       "    </tr>\n",
       "    <tr>\n",
       "      <th>max</th>\n",
       "      <td>10293.704154</td>\n",
       "      <td>13353.547185</td>\n",
       "      <td>12115.226836</td>\n",
       "      <td>11502.727289</td>\n",
       "      <td>10736.670629</td>\n",
       "      <td>11740.670563</td>\n",
       "    </tr>\n",
       "    <tr>\n",
       "      <th rowspan=\"8\" valign=\"top\">Renewal Demand</th>\n",
       "      <th>count</th>\n",
       "      <td>2740.000000</td>\n",
       "      <td>10925.000000</td>\n",
       "      <td>9422.000000</td>\n",
       "      <td>1438.000000</td>\n",
       "      <td>1409.000000</td>\n",
       "      <td>1370.000000</td>\n",
       "    </tr>\n",
       "    <tr>\n",
       "      <th>mean</th>\n",
       "      <td>0.514640</td>\n",
       "      <td>0.506257</td>\n",
       "      <td>0.507468</td>\n",
       "      <td>0.550326</td>\n",
       "      <td>0.481886</td>\n",
       "      <td>0.543340</td>\n",
       "    </tr>\n",
       "    <tr>\n",
       "      <th>std</th>\n",
       "      <td>0.238073</td>\n",
       "      <td>0.236890</td>\n",
       "      <td>0.239036</td>\n",
       "      <td>0.269660</td>\n",
       "      <td>0.240136</td>\n",
       "      <td>0.240046</td>\n",
       "    </tr>\n",
       "    <tr>\n",
       "      <th>min</th>\n",
       "      <td>0.016523</td>\n",
       "      <td>0.022698</td>\n",
       "      <td>0.020030</td>\n",
       "      <td>0.011015</td>\n",
       "      <td>0.035542</td>\n",
       "      <td>0.020685</td>\n",
       "    </tr>\n",
       "    <tr>\n",
       "      <th>25%</th>\n",
       "      <td>0.325433</td>\n",
       "      <td>0.311784</td>\n",
       "      <td>0.312750</td>\n",
       "      <td>0.315279</td>\n",
       "      <td>0.278098</td>\n",
       "      <td>0.360677</td>\n",
       "    </tr>\n",
       "    <tr>\n",
       "      <th>50%</th>\n",
       "      <td>0.526346</td>\n",
       "      <td>0.516085</td>\n",
       "      <td>0.515896</td>\n",
       "      <td>0.606889</td>\n",
       "      <td>0.483086</td>\n",
       "      <td>0.564239</td>\n",
       "    </tr>\n",
       "    <tr>\n",
       "      <th>75%</th>\n",
       "      <td>0.706608</td>\n",
       "      <td>0.690844</td>\n",
       "      <td>0.697360</td>\n",
       "      <td>0.770266</td>\n",
       "      <td>0.674171</td>\n",
       "      <td>0.741068</td>\n",
       "    </tr>\n",
       "    <tr>\n",
       "      <th>max</th>\n",
       "      <td>0.991850</td>\n",
       "      <td>0.987610</td>\n",
       "      <td>0.980289</td>\n",
       "      <td>0.986715</td>\n",
       "      <td>0.971993</td>\n",
       "      <td>0.995868</td>\n",
       "    </tr>\n",
       "  </tbody>\n",
       "</table>\n",
       "</div>"
      ],
      "text/plain": [
       "Amostra                   Controle  Otimização Atu  Otimização Mkp  \\\n",
       "GBM_mercado    count   2740.000000    10925.000000     9422.000000   \n",
       "               mean    2602.944757     2621.370383     2601.304471   \n",
       "               std     1312.284205     1369.512665     1338.159238   \n",
       "               min     1015.431214     1041.331315     1035.647912   \n",
       "               25%     1774.339627     1788.325662     1769.360916   \n",
       "               50%     2253.495158     2262.564660     2242.979826   \n",
       "               75%     2938.428051     2944.539948     2944.864456   \n",
       "               max    10293.704154    13353.547185    12115.226836   \n",
       "Renewal Demand count   2740.000000    10925.000000     9422.000000   \n",
       "               mean       0.514640        0.506257        0.507468   \n",
       "               std        0.238073        0.236890        0.239036   \n",
       "               min        0.016523        0.022698        0.020030   \n",
       "               25%        0.325433        0.311784        0.312750   \n",
       "               50%        0.526346        0.516085        0.515896   \n",
       "               75%        0.706608        0.690844        0.697360   \n",
       "               max        0.991850        0.987610        0.980289   \n",
       "\n",
       "Amostra               Otimização Mkp2     Teste_+5%     Teste_-5%  \n",
       "GBM_mercado    count      1438.000000   1409.000000   1370.000000  \n",
       "               mean       3591.388082   2587.438075   2631.246128  \n",
       "               std        1960.647792   1354.142679   1359.976155  \n",
       "               min        1277.207077   1015.431214   1064.661439  \n",
       "               25%        2330.196556   1762.255533   1820.605352  \n",
       "               50%        3028.914881   2215.446196   2286.570944  \n",
       "               75%        3949.047382   2934.522526   2962.073010  \n",
       "               max       11502.727289  10736.670629  11740.670563  \n",
       "Renewal Demand count      1438.000000   1409.000000   1370.000000  \n",
       "               mean          0.550326      0.481886      0.543340  \n",
       "               std           0.269660      0.240136      0.240046  \n",
       "               min           0.011015      0.035542      0.020685  \n",
       "               25%           0.315279      0.278098      0.360677  \n",
       "               50%           0.606889      0.483086      0.564239  \n",
       "               75%           0.770266      0.674171      0.741068  \n",
       "               max           0.986715      0.971993      0.995868  "
      ]
     },
     "execution_count": 67,
     "metadata": {},
     "output_type": "execute_result"
    }
   ],
   "source": [
    "df_lote_092024.groupby(['Amostra'])['GBM_mercado',\"Renewal Demand\"].describe().T"
   ]
  },
  {
   "cell_type": "code",
   "execution_count": null,
   "id": "403e8ca1",
   "metadata": {},
   "outputs": [],
   "source": [
    "#df_lote_092024.columns.to_list()"
   ]
  },
  {
   "cell_type": "code",
   "execution_count": 68,
   "id": "451a4bb1",
   "metadata": {},
   "outputs": [],
   "source": [
    "df_lote_escorar=df_lote_092024.copy()"
   ]
  },
  {
   "cell_type": "markdown",
   "id": "cf2e9480",
   "metadata": {},
   "source": [
    "df_lote_escorar=df_lote_092024[['Premio_oferecido_com_batente','Pr_anterior_TI','Premio_IC100','GBM_mercado',\n",
    "                                          'Classe_bonus',\"MD_sexo\",\"cod_corr\",\"cod_end\",\"MD_tempo_casa_2\",\n",
    "                                          \"per_com\", \"MD_menor26\",\"UF\",\"Renovacao_ant\",\"fx_ir_12m\",\"is_casco_ofer\",\n",
    "                                          \"MD_fator_ajuste\",\"md_capac\",\"MD_categoria\",\n",
    "                                          \"MD_comb\",\"MD_qtd_assis_cpf\", \"idade_ult_RNS\",\"canal\",\"MD_tipo_renov\",'FABRICA',\n",
    "                                          'MD_est_civil','Grupo_veiculo_new']]"
   ]
  },
  {
   "cell_type": "code",
   "execution_count": null,
   "id": "cd7912ac",
   "metadata": {},
   "outputs": [],
   "source": [
    "#print(df_lote_escorar['classe_bonus'].value_counts(ascending=False))\n",
    "#df_lote_escorar['Classe_bonus'].describe()"
   ]
  },
  {
   "cell_type": "markdown",
   "id": "544555ef",
   "metadata": {},
   "source": [
    "premio|Premio_oferecido_com_batente\n",
    "is_casco_ofer|is_casco_ofer\n",
    "GBM_mercado|GBM_mercado\n",
    "Premio_IC100|Premio_IC100\n",
    "premio_anterior|Pr_anterior_TI\n",
    "canal_bin| canal\n",
    "Cod_End_bin|  cod_end\n",
    "fator_ajuste_bin|  MD_fator_ajuste\n",
    "per_com|per_com\n",
    "MD_tempo_casa_2|MD_tempo_casa_2\n",
    "idade_ult_RNS_bin|idade_ult_RNS\n",
    "MD_comb_bin|MD_comb\n",
    "UF_bin      |     UF\n",
    "fx_ir_12m_bin|    fx_ir_12m\n",
    "MD_tipo_renov,|   MD_tipo_renov"
   ]
  },
  {
   "cell_type": "code",
   "execution_count": 69,
   "id": "f211fcfc",
   "metadata": {},
   "outputs": [],
   "source": [
    "df_lote_escorar[\"premio\"] = df_lote_escorar[\"Premio_oferecido_com_batente\"]"
   ]
  },
  {
   "cell_type": "code",
   "execution_count": 70,
   "id": "6a23c83a",
   "metadata": {},
   "outputs": [],
   "source": [
    "df_lote_escorar.rename(columns={'Pr_anterior_TI':'premio_anterior', \n",
    "                                   'cod_end': 'Cod_End',\n",
    "                                   'md_capac': 'MD_capac',\n",
    "                                   'Classe_bonus':'classe_bonus',\n",
    "                                   'fator_ajuste': 'MD_fator_ajuste'},inplace=True)"
   ]
  },
  {
   "cell_type": "code",
   "execution_count": 71,
   "id": "f062b145",
   "metadata": {},
   "outputs": [],
   "source": [
    "df_lote_escorar=df_lote_escorar[df_lote_escorar['UF']!= \"99\"]"
   ]
  },
  {
   "cell_type": "code",
   "execution_count": 72,
   "id": "8ad2c6be",
   "metadata": {},
   "outputs": [
    {
     "data": {
      "text/plain": [
       "(27298, 124)"
      ]
     },
     "execution_count": 72,
     "metadata": {},
     "output_type": "execute_result"
    }
   ],
   "source": [
    "df_lote_escorar.shape"
   ]
  },
  {
   "cell_type": "code",
   "execution_count": 73,
   "id": "0edd9824",
   "metadata": {},
   "outputs": [],
   "source": [
    "df_lote = categorizar(df_lote_escorar)"
   ]
  },
  {
   "cell_type": "code",
   "execution_count": 86,
   "id": "3a7f6f2c",
   "metadata": {},
   "outputs": [],
   "source": [
    "df_lote[\"prob_est\"]=model.predict(df_lote)\n",
    "df_lote[\"per_com_pct\"] = df_lote['per_com']/100\n",
    "df_lote[\"premio_prob\"] = df_lote[\"prob_est\"]*df_lote[\"premio\"]\n",
    "df_lote[\"Act_cost_prob\"] = df_lote[\"prob_est\"]*df_lote[\"Act_cost\"]                                                                \n",
    "df_lote[\"comissao_valor\"] = df_lote[\"per_com_pct\"] *df_lote[\"premio\"]\n",
    "df_lote[\"comissao_valor_prob\"] = df_lote[\"per_com_pct\"] *df_lote[\"premio_prob\"]\n"
   ]
  },
  {
   "cell_type": "code",
   "execution_count": 85,
   "id": "5e5b4e41",
   "metadata": {},
   "outputs": [],
   "source": [
    "#df_lote.groupby([\"Amostra\"])[\"prob_est\" , \"Renewal Demand\"].describe().T"
   ]
  },
  {
   "cell_type": "code",
   "execution_count": 90,
   "id": "6f9a5da6",
   "metadata": {},
   "outputs": [
    {
     "name": "stdout",
     "output_type": "stream",
     "text": [
      "Apolices Ofertadas: 27298\n",
      "Apolices Renovadas: 13251.0\n",
      "premio_ofertado: 2927.76\n",
      "retencao_estimada : 48.54\n",
      "premio_esperado\" : 2379.02\n",
      "risco_ofertado\" : 1769.85\n",
      "risco_esperado\" : 1401.76\n",
      "sp_ofertado\" : 60.45\n",
      "sp_esperado\" : 58.92\n",
      "ic_ofertado\" : 103.57\n",
      "ic_esperado\" : 102.42\n"
     ]
    }
   ],
   "source": [
    "apolice_ofertada  = np.round(df_lote.shape[0],0)\n",
    "apolice_estimada  = np.round(np.sum(df_lote[\"prob_est\"]),0)\n",
    "premio_ofertado   = np.mean(df_lote[\"premio\"])\n",
    "retencao_estimada = np.mean(df_lote[\"prob_est\"])\n",
    "premio_esperado   = np.sum(df_lote[\"premio_prob\"])/np.sum(df_lote[\"prob_est\"])\n",
    "risco_ofertado    = np.mean(df_lote[\"Act_cost\"])\n",
    "risco_esperado    = np.sum(df_lote[\"Act_cost_prob\"])/np.sum(df_lote[\"prob_est\"])\n",
    "sp_ofertado       = np.sum(df_lote[\"Act_cost\"])/np.sum(df_lote[\"premio\"])\n",
    "sp_esperado       = np.sum(df_lote[\"Act_cost_prob\"])/np.sum(df_lote[\"premio_prob\"])\n",
    "comis_ofertado    = np.sum(df_lote[\"comissao_valor\"])/np.sum(df_lote[\"premio\"])\n",
    "comis_esperado    = np.sum(df_lote[\"comissao_valor_prob\"])/np.sum(df_lote[\"premio_prob\"])\n",
    "ic_ofertado       =  sp_ofertado  +  comis_ofertado + 0.2749\n",
    "ic_esperado       =  sp_esperado  +  comis_esperado + 0.2749\n",
    "print('Apolices Ofertadas: %s' % apolice_ofertada)\n",
    "print('Apolices Renovadas: %s' % apolice_estimada)\n",
    "print('premio_ofertado: %s' % np.round(premio_ofertado,2))\n",
    "print('retencao_estimada : %s' % np.round(retencao_estimada*100,2))\n",
    "print('premio_esperado\" : %s'  %np.round( premio_esperado,2))\n",
    "print('risco_ofertado\" : %s'  %  np.round(risco_ofertado,2))\n",
    "print('risco_esperado\" : %s'  %  np.round(risco_esperado,2))\n",
    "print('sp_ofertado\" : %s'  % np.round(sp_ofertado*100,2))\n",
    "print('sp_esperado\" : %s'  % np.round(sp_esperado*100,2))\n",
    "print('ic_ofertado\" : %s'  % np.round(ic_ofertado*100,2))\n",
    "print('ic_esperado\" : %s'  % np.round(ic_esperado*100,2))"
   ]
  },
  {
   "cell_type": "code",
   "execution_count": null,
   "id": "70cdf05d",
   "metadata": {},
   "outputs": [],
   "source": []
  },
  {
   "cell_type": "code",
   "execution_count": null,
   "id": "f82c793c",
   "metadata": {},
   "outputs": [],
   "source": []
  },
  {
   "cell_type": "markdown",
   "id": "a34b6c2a",
   "metadata": {},
   "source": [
    "## Otimização Teste "
   ]
  },
  {
   "cell_type": "code",
   "execution_count": null,
   "id": "4101922e",
   "metadata": {},
   "outputs": [],
   "source": [
    "print(df_lote['Amostra'].value_counts(ascending=False))"
   ]
  },
  {
   "cell_type": "code",
   "execution_count": 91,
   "id": "de7683ff",
   "metadata": {
    "scrolled": true
   },
   "outputs": [
    {
     "data": {
      "text/plain": [
       "(10921, 144)"
      ]
     },
     "execution_count": 91,
     "metadata": {},
     "output_type": "execute_result"
    }
   ],
   "source": [
    "#df_lote_otim=df_mod.copy()\n",
    "df_lote_otim_atu = df_lote.query('Amostra == \"Otimização Atu\"')\n",
    "df_lote_otim_atu.shape"
   ]
  },
  {
   "cell_type": "code",
   "execution_count": 79,
   "id": "1a36f518",
   "metadata": {},
   "outputs": [
    {
     "data": {
      "image/png": "[encoded data removed]",
      "text/plain": [
       "<Figure size 1000x600 with 1 Axes>"
      ]
     },
     "metadata": {},
     "output_type": "display_data"
    }
   ],
   "source": [
    "# Plot the data to visualize the relationship between price and quantity\n",
    "plt.figure(figsize=(10, 6))\n",
    "sns.scatterplot(data=df_lote_otim_atu, x='premio', y='prob_est')\n",
    "plt.title('Preço vs Retenção')\n",
    "plt.xlabel('Preço')\n",
    "plt.ylabel('Retenção')\n",
    "plt.show()"
   ]
  },
  {
   "cell_type": "code",
   "execution_count": 112,
   "id": "b240f81c",
   "metadata": {},
   "outputs": [],
   "source": [
    "df_lote_otim = df_lote_otim_atu"
   ]
  },
  {
   "cell_type": "code",
   "execution_count": 3,
   "id": "7b833c3c",
   "metadata": {},
   "outputs": [
    {
     "ename": "NameError",
     "evalue": "name 'df_lote_otim_atu' is not defined",
     "output_type": "error",
     "traceback": [
      "\u001b[1;31m---------------------------------------------------------------------------\u001b[0m",
      "\u001b[1;31mNameError\u001b[0m                                 Traceback (most recent call last)",
      "Cell \u001b[1;32mIn[3], line 1\u001b[0m\n\u001b[1;32m----> 1\u001b[0m df_lote_otim \u001b[38;5;241m=\u001b[39m \u001b[43mdf_lote_otim_atu\u001b[49m\u001b[38;5;241m.\u001b[39msample(n \u001b[38;5;241m=\u001b[39m \u001b[38;5;241m500\u001b[39m) \n\u001b[0;32m      2\u001b[0m df_lote_otim\u001b[38;5;241m.\u001b[39mshape\n",
      "\u001b[1;31mNameError\u001b[0m: name 'df_lote_otim_atu' is not defined"
     ]
    }
   ],
   "source": [
    "df_lote_otim = df_lote_otim_atu.sample(n = 500) \n",
    "df_lote_otim.shape"
   ]
  },
  {
   "cell_type": "code",
   "execution_count": 114,
   "id": "14524f15",
   "metadata": {},
   "outputs": [],
   "source": [
    "df_lote_otim[\"Margem Inicial\"] = df_lote_otim[\"prob_est\"]*(df_lote_otim[\"Premio_oferecido_com_batente\"]-df_lote_otim[\"Act_cost\"])"
   ]
  },
  {
   "cell_type": "markdown",
   "id": "bc7f4798",
   "metadata": {},
   "source": [
    "#########################################"
   ]
  },
  {
   "cell_type": "code",
   "execution_count": 1,
   "id": "99597db7",
   "metadata": {},
   "outputs": [
    {
     "ename": "NameError",
     "evalue": "name 'np' is not defined",
     "output_type": "error",
     "traceback": [
      "\u001b[1;31m---------------------------------------------------------------------------\u001b[0m",
      "\u001b[1;31mNameError\u001b[0m                                 Traceback (most recent call last)",
      "File \u001b[1;32m<timed exec>:44\u001b[0m\n",
      "\u001b[1;31mNameError\u001b[0m: name 'np' is not defined"
     ]
    }
   ],
   "source": [
    "%%time\n",
    "\n",
    "def margem_esperada(premio,demanda_alvo):\n",
    "    df_lote_otim[\"premio\"]=premio\n",
    "    demanda= model.predict(df_lote_otim)\n",
    "    df_lote_otim[\"demanda_alvo\"]=demanda_alvo\n",
    "    custo= df_lote_otim[\"Act_cost\"]\n",
    "    margem_esperada = demanda * (premio-custo)\n",
    "    margem_total = -np.sum(margem_esperada) \n",
    "    return margem_total\n",
    "\n",
    "# restricão demanda alvo\n",
    "def constraint(premio,demanda_alvo):\n",
    "    df_lote_otim[\"premio\"]=premio\n",
    "    demanda= model.predict(df_lote_otim)\n",
    "    demanda_alvo = df_lote_otim[\"demanda_alvo\"]\n",
    "    return  np.sum(demanda) - np.sum(demanda_alvo)\n",
    "\n",
    "\n",
    "def constraint2(premio,demanda_alvo):\n",
    "    margem_inicial = df_lote_otim[\"prob_est\"]*(df_lote_otim[\"Premio_oferecido_com_batente\"]-df_lote_otim[\"Act_cost\"])\n",
    "    df_lote_otim[\"premio\"]=premio\n",
    "    df_lote_otim[\"demanda\"] = model.predict(df_lote_otim)\n",
    "    demanda_alvo = df_lote_otim[\"demanda_alvo\"]\n",
    "    margem_otim = df_lote_otim[\"demanda\"]*(df_lote_otim[\"premio\"]-df_lote_otim[\"Act_cost\"])\n",
    "    return  np.sum(margem_otim) - np.sum(margem_inicial)\n",
    "\n",
    "\n",
    "def constraint3(premio,demanda_alvo):\n",
    "    lb = df_lote_otim[\"Premio_oferecido_com_batente\"]*0.90\n",
    "    return lb\n",
    "\n",
    "def constraint4(premio,demanda_alvo):\n",
    "    ub = df_lote_otim[\"Premio_oferecido_com_batente\"]*1.1\n",
    "    return ub\n",
    " \n",
    "restr_demanda = {'type': 'eq', 'fun': constraint}   \n",
    "restr_margem  = {'type': 'ineq', 'fun': constraint2} \n",
    "restr_lb = {'type': 'ineq', 'fun': constraint3}   \n",
    "restr_ub  = {'type': 'ineq', 'fun': constraint4} \n",
    " \n",
    "#restricoes = ([restr_demanda,restr_margem,restr_lb,restr_ub])     \n",
    "\n",
    "restricoes = ([restr_demanda,restr_margem])    \n",
    "\n",
    "demanda_base_case = np.round(np.mean(df_lote_otim[\"prob_est\"]),2)\n",
    "\n",
    "demanda_alvo=0.55\n",
    "\n",
    "premio_inicial = df_lote_otim[\"Premio_oferecido_com_batente\"]*(demanda_base_case/demanda_alvo)\n",
    "#premio_inicial = df_lote_otim[\"Premio_oferecido_com_batente\"]\n",
    "# limitando o premio fique dentro do range\n",
    "bounds = [(0.9 * premio_base, premio_base*1.1) for premio_base in df_lote_otim[\"Premio_oferecido_com_batente\"]]\n",
    "\n",
    "# rodando a otimizaçao\n",
    "result = minimize(margem_esperada,\n",
    "                  premio_inicial,\n",
    "                  args=(demanda_alvo), \n",
    "                  method = 'L-BFGS-B', \n",
    "                  tol=0.01,\n",
    "                  constraints=restricoes,\n",
    "                  bounds=bounds)\n",
    "\n"
   ]
  },
  {
   "cell_type": "code",
   "execution_count": 131,
   "id": "f4ed994e",
   "metadata": {},
   "outputs": [],
   "source": [
    "# premio otimizados\n",
    "premio_otim = result.x\n",
    "df_lote_otim[\"premio\"]=result.x\n",
    "\n",
    "df_lote_otim[\"demanda otimizada\"] = model.predict(df_lote_otim)\n",
    "df_lote_otim[\"Margem otimizada\"] = df_lote_otim[\"demanda otimizada\"]*(df_lote_otim[\"premio\"]-df_lote_otim[\"Act_cost\"])"
   ]
  },
  {
   "cell_type": "code",
   "execution_count": null,
   "id": "5053b173",
   "metadata": {},
   "outputs": [],
   "source": [
    "df_plot.groupby(['Amostra'])['prob_est'].mean()"
   ]
  },
  {
   "cell_type": "code",
   "execution_count": null,
   "id": "68cedf4a",
   "metadata": {},
   "outputs": [],
   "source": [
    "df_relatorio[\"per_com_pct\"] = df_relatorio['per_com']/100\n",
    "df_relatorio[\"premio_prob\"] = df_relatorio[\"demanda otimizada\"]*df_relatorio[\"premio\"]\n",
    "df_relatorio[\"Act_cost_prob\"] = df_relatorio[\"demanda otimizada\"]*df_relatorio[\"Act_cost\"]                                                                \n",
    "df_relatorio[\"comissao_valor\"] = df_relatorio[\"per_com_pct\"] *df_relatorio[\"premio\"]\n",
    "df_relatorio[\"comissao_valor_prob\"] = df_relatorio[\"per_com_pct\"] *df_relatorio[\"premio_prob\"]\n"
   ]
  },
  {
   "cell_type": "markdown",
   "id": "11fa579c",
   "metadata": {},
   "source": [
    "#criando a função"
   ]
  },
  {
   "cell_type": "code",
   "execution_count": 133,
   "id": "e03fc056",
   "metadata": {},
   "outputs": [],
   "source": [
    "df_relatorio = df_lote_otim.copy()\n"
   ]
  },
  {
   "cell_type": "code",
   "execution_count": 134,
   "id": "d04c3892",
   "metadata": {},
   "outputs": [
    {
     "name": "stdout",
     "output_type": "stream",
     "text": [
      "Apolices Ofertadas: 500\n",
      "Apolices Renovadas: 264.0\n",
      "premio_ofertado: 2736.78\n",
      "retencao_baseCase : 46.77\n",
      "retencao_estimada : 52.8\n",
      "premio_esperado\" : 2143.37\n",
      "risco_ofertado\" : 1903.29\n",
      "risco_esperado\" : 1288.0\n",
      "sp_ofertado\" : 69.54\n",
      "sp_esperado\" : 60.09\n",
      "ic_ofertado\" : 114.25\n",
      "ic_esperado\" : 103.3\n"
     ]
    }
   ],
   "source": [
    "apolice_ofertada  = np.round(df_relatorio.shape[0],0)\n",
    "apolice_estimada  = np.round(np.sum(df_relatorio[\"demanda otimizada\"]),0)\n",
    "premio_ofertado   = np.mean(df_relatorio[\"premio\"])\n",
    "retencao_estimada = np.mean(df_relatorio[\"demanda otimizada\"])\n",
    "retencao_base_case = np.mean(df_relatorio[\"prob_est\"])\n",
    "premio_esperado   = np.sum(df_relatorio[\"premio_prob\"])/np.sum(df_relatorio[\"demanda otimizada\"])\n",
    "risco_ofertado    = np.mean(df_relatorio[\"Act_cost\"])\n",
    "risco_esperado    = np.sum(df_relatorio[\"Act_cost_prob\"])/np.sum(df_relatorio[\"demanda otimizada\"])\n",
    "sp_ofertado       = np.sum(df_relatorio[\"Act_cost\"])/np.sum(df_relatorio[\"premio\"])\n",
    "sp_esperado       = np.sum(df_relatorio[\"Act_cost_prob\"])/np.sum(df_relatorio[\"premio_prob\"])\n",
    "comis_ofertado    = np.sum(df_relatorio[\"comissao_valor\"])/np.sum(df_relatorio[\"premio\"])\n",
    "comis_esperado    = np.sum(df_relatorio[\"comissao_valor_prob\"])/np.sum(df_relatorio[\"premio_prob\"])\n",
    "ic_ofertado       =  sp_ofertado  +  comis_ofertado + 0.2749\n",
    "ic_esperado       =  sp_esperado  +  comis_esperado + 0.2749\n",
    "print('Apolices Ofertadas: %s' % apolice_ofertada)\n",
    "print('Apolices Renovadas: %s' % apolice_estimada)\n",
    "print('premio_ofertado: %s' % np.round(premio_ofertado,2))\n",
    "print('retencao_baseCase : %s' % np.round(retencao_base_case*100,2))\n",
    "print('retencao_estimada : %s' % np.round(retencao_estimada*100,2))\n",
    "print('premio_esperado\" : %s'  %np.round( premio_esperado,2))\n",
    "print('risco_ofertado\" : %s'  %  np.round(risco_ofertado,2))\n",
    "print('risco_esperado\" : %s'  %  np.round(risco_esperado,2))\n",
    "print('sp_ofertado\" : %s'  % np.round(sp_ofertado*100,2))\n",
    "print('sp_esperado\" : %s'  % np.round(sp_esperado*100,2))\n",
    "print('ic_ofertado\" : %s'  % np.round(ic_ofertado*100,2))\n",
    "print('ic_esperado\" : %s'  % np.round(ic_esperado*100,2))"
   ]
  },
  {
   "cell_type": "code",
   "execution_count": 136,
   "id": "fb3191b0",
   "metadata": {},
   "outputs": [
    {
     "data": {
      "text/html": [
       "<div>\n",
       "<style scoped>\n",
       "    .dataframe tbody tr th:only-of-type {\n",
       "        vertical-align: middle;\n",
       "    }\n",
       "\n",
       "    .dataframe tbody tr th {\n",
       "        vertical-align: top;\n",
       "    }\n",
       "\n",
       "    .dataframe thead th {\n",
       "        text-align: right;\n",
       "    }\n",
       "</style>\n",
       "<table border=\"1\" class=\"dataframe\">\n",
       "  <thead>\n",
       "    <tr style=\"text-align: right;\">\n",
       "      <th></th>\n",
       "      <th>chave</th>\n",
       "      <th>Act_cost</th>\n",
       "      <th>Premio ofertado com batente</th>\n",
       "      <th>Optimized Prices</th>\n",
       "      <th>lb_bound</th>\n",
       "      <th>up_bound</th>\n",
       "      <th>prob_est</th>\n",
       "      <th>renewal demand</th>\n",
       "      <th>variação</th>\n",
       "    </tr>\n",
       "  </thead>\n",
       "  <tbody>\n",
       "    <tr>\n",
       "      <th>23311</th>\n",
       "      <td>453500016553100001</td>\n",
       "      <td>3668.600477</td>\n",
       "      <td>5868.821752</td>\n",
       "      <td>5282.000695</td>\n",
       "      <td>5281.939577</td>\n",
       "      <td>6455.703927</td>\n",
       "      <td>0.142834</td>\n",
       "      <td>0.182620</td>\n",
       "      <td>0.900010</td>\n",
       "    </tr>\n",
       "    <tr>\n",
       "      <th>10995</th>\n",
       "      <td>612700411093100001</td>\n",
       "      <td>955.204208</td>\n",
       "      <td>2010.532956</td>\n",
       "      <td>1810.230547</td>\n",
       "      <td>1809.479660</td>\n",
       "      <td>2211.586252</td>\n",
       "      <td>0.851230</td>\n",
       "      <td>0.886673</td>\n",
       "      <td>0.900373</td>\n",
       "    </tr>\n",
       "    <tr>\n",
       "      <th>16435</th>\n",
       "      <td>715900060503100001</td>\n",
       "      <td>1367.021431</td>\n",
       "      <td>2603.354467</td>\n",
       "      <td>2343.275137</td>\n",
       "      <td>2343.019020</td>\n",
       "      <td>2863.689914</td>\n",
       "      <td>0.433212</td>\n",
       "      <td>0.495253</td>\n",
       "      <td>0.900098</td>\n",
       "    </tr>\n",
       "    <tr>\n",
       "      <th>9113</th>\n",
       "      <td>11100379113100001</td>\n",
       "      <td>968.898103</td>\n",
       "      <td>1684.747179</td>\n",
       "      <td>1516.816708</td>\n",
       "      <td>1516.272461</td>\n",
       "      <td>1853.221897</td>\n",
       "      <td>0.661810</td>\n",
       "      <td>0.716081</td>\n",
       "      <td>0.900323</td>\n",
       "    </tr>\n",
       "    <tr>\n",
       "      <th>17277</th>\n",
       "      <td>284300053253100001</td>\n",
       "      <td>1369.301291</td>\n",
       "      <td>2882.132794</td>\n",
       "      <td>2594.175631</td>\n",
       "      <td>2593.919515</td>\n",
       "      <td>3170.346073</td>\n",
       "      <td>0.500557</td>\n",
       "      <td>0.575459</td>\n",
       "      <td>0.900089</td>\n",
       "    </tr>\n",
       "    <tr>\n",
       "      <th>2232</th>\n",
       "      <td>85600111823100001</td>\n",
       "      <td>884.275434</td>\n",
       "      <td>1414.614356</td>\n",
       "      <td>1273.286799</td>\n",
       "      <td>1273.152920</td>\n",
       "      <td>1556.075792</td>\n",
       "      <td>0.251277</td>\n",
       "      <td>0.309452</td>\n",
       "      <td>0.900095</td>\n",
       "    </tr>\n",
       "    <tr>\n",
       "      <th>11054</th>\n",
       "      <td>53009389883100001</td>\n",
       "      <td>1208.631902</td>\n",
       "      <td>1933.501682</td>\n",
       "      <td>1740.756880</td>\n",
       "      <td>1740.151514</td>\n",
       "      <td>2126.851850</td>\n",
       "      <td>0.692624</td>\n",
       "      <td>0.746274</td>\n",
       "      <td>0.900313</td>\n",
       "    </tr>\n",
       "    <tr>\n",
       "      <th>6385</th>\n",
       "      <td>603500376553100001</td>\n",
       "      <td>830.846628</td>\n",
       "      <td>1582.263622</td>\n",
       "      <td>1424.508747</td>\n",
       "      <td>1424.037260</td>\n",
       "      <td>1740.489984</td>\n",
       "      <td>0.627205</td>\n",
       "      <td>0.685215</td>\n",
       "      <td>0.900298</td>\n",
       "    </tr>\n",
       "    <tr>\n",
       "      <th>20721</th>\n",
       "      <td>33043268443100001</td>\n",
       "      <td>1702.175503</td>\n",
       "      <td>3241.621602</td>\n",
       "      <td>2917.785408</td>\n",
       "      <td>2917.459442</td>\n",
       "      <td>3565.783762</td>\n",
       "      <td>0.504146</td>\n",
       "      <td>0.568194</td>\n",
       "      <td>0.900101</td>\n",
       "    </tr>\n",
       "    <tr>\n",
       "      <th>10225</th>\n",
       "      <td>335509039163100001</td>\n",
       "      <td>1394.731502</td>\n",
       "      <td>2231.213409</td>\n",
       "      <td>2008.397662</td>\n",
       "      <td>2008.092068</td>\n",
       "      <td>2454.334750</td>\n",
       "      <td>0.439577</td>\n",
       "      <td>0.513273</td>\n",
       "      <td>0.900137</td>\n",
       "    </tr>\n",
       "    <tr>\n",
       "      <th>5934</th>\n",
       "      <td>54009519533100001</td>\n",
       "      <td>948.645245</td>\n",
       "      <td>1517.589578</td>\n",
       "      <td>1366.273003</td>\n",
       "      <td>1365.830620</td>\n",
       "      <td>1669.348536</td>\n",
       "      <td>0.554286</td>\n",
       "      <td>0.618352</td>\n",
       "      <td>0.900292</td>\n",
       "    </tr>\n",
       "    <tr>\n",
       "      <th>15251</th>\n",
       "      <td>123900015313100001</td>\n",
       "      <td>1356.753067</td>\n",
       "      <td>2170.457634</td>\n",
       "      <td>1953.697091</td>\n",
       "      <td>1953.411871</td>\n",
       "      <td>2387.503397</td>\n",
       "      <td>0.407168</td>\n",
       "      <td>0.473273</td>\n",
       "      <td>0.900131</td>\n",
       "    </tr>\n",
       "    <tr>\n",
       "      <th>12377</th>\n",
       "      <td>178000269663100001</td>\n",
       "      <td>1344.690895</td>\n",
       "      <td>2151.161246</td>\n",
       "      <td>1936.353625</td>\n",
       "      <td>1936.045121</td>\n",
       "      <td>2366.277371</td>\n",
       "      <td>0.434075</td>\n",
       "      <td>0.503528</td>\n",
       "      <td>0.900143</td>\n",
       "    </tr>\n",
       "    <tr>\n",
       "      <th>25743</th>\n",
       "      <td>335509040083100001</td>\n",
       "      <td>4478.096314</td>\n",
       "      <td>5311.575000</td>\n",
       "      <td>4780.542648</td>\n",
       "      <td>4780.417500</td>\n",
       "      <td>5842.732500</td>\n",
       "      <td>0.108431</td>\n",
       "      <td>0.151675</td>\n",
       "      <td>0.900024</td>\n",
       "    </tr>\n",
       "    <tr>\n",
       "      <th>11416</th>\n",
       "      <td>146200261013100001</td>\n",
       "      <td>1649.611795</td>\n",
       "      <td>2868.391227</td>\n",
       "      <td>2581.825683</td>\n",
       "      <td>2581.552104</td>\n",
       "      <td>3155.230350</td>\n",
       "      <td>0.467940</td>\n",
       "      <td>0.553710</td>\n",
       "      <td>0.900095</td>\n",
       "    </tr>\n",
       "    <tr>\n",
       "      <th>4509</th>\n",
       "      <td>604000781783100001</td>\n",
       "      <td>822.365721</td>\n",
       "      <td>1566.112590</td>\n",
       "      <td>1410.234755</td>\n",
       "      <td>1409.501331</td>\n",
       "      <td>1722.723849</td>\n",
       "      <td>0.827099</td>\n",
       "      <td>0.866110</td>\n",
       "      <td>0.900468</td>\n",
       "    </tr>\n",
       "    <tr>\n",
       "      <th>9147</th>\n",
       "      <td>604100522243100001</td>\n",
       "      <td>1083.800567</td>\n",
       "      <td>1787.055000</td>\n",
       "      <td>1608.599796</td>\n",
       "      <td>1608.349500</td>\n",
       "      <td>1965.760500</td>\n",
       "      <td>0.434353</td>\n",
       "      <td>0.527941</td>\n",
       "      <td>0.900140</td>\n",
       "    </tr>\n",
       "    <tr>\n",
       "      <th>12294</th>\n",
       "      <td>90100401673100001</td>\n",
       "      <td>1394.352128</td>\n",
       "      <td>2230.606508</td>\n",
       "      <td>2007.796153</td>\n",
       "      <td>2007.545857</td>\n",
       "      <td>2453.667159</td>\n",
       "      <td>0.373395</td>\n",
       "      <td>0.439867</td>\n",
       "      <td>0.900112</td>\n",
       "    </tr>\n",
       "    <tr>\n",
       "      <th>9804</th>\n",
       "      <td>602100984463100001</td>\n",
       "      <td>1147.916370</td>\n",
       "      <td>1836.372372</td>\n",
       "      <td>1653.282293</td>\n",
       "      <td>1652.735135</td>\n",
       "      <td>2020.009609</td>\n",
       "      <td>0.649015</td>\n",
       "      <td>0.709364</td>\n",
       "      <td>0.900298</td>\n",
       "    </tr>\n",
       "    <tr>\n",
       "      <th>9548</th>\n",
       "      <td>303100681663100001</td>\n",
       "      <td>1303.914822</td>\n",
       "      <td>2085.929966</td>\n",
       "      <td>1877.811367</td>\n",
       "      <td>1877.336969</td>\n",
       "      <td>2294.522963</td>\n",
       "      <td>0.580571</td>\n",
       "      <td>0.642124</td>\n",
       "      <td>0.900227</td>\n",
       "    </tr>\n",
       "  </tbody>\n",
       "</table>\n",
       "</div>"
      ],
      "text/plain": [
       "                    chave     Act_cost  Premio ofertado com batente  \\\n",
       "23311  453500016553100001  3668.600477                  5868.821752   \n",
       "10995  612700411093100001   955.204208                  2010.532956   \n",
       "16435  715900060503100001  1367.021431                  2603.354467   \n",
       "9113    11100379113100001   968.898103                  1684.747179   \n",
       "17277  284300053253100001  1369.301291                  2882.132794   \n",
       "2232    85600111823100001   884.275434                  1414.614356   \n",
       "11054   53009389883100001  1208.631902                  1933.501682   \n",
       "6385   603500376553100001   830.846628                  1582.263622   \n",
       "20721   33043268443100001  1702.175503                  3241.621602   \n",
       "10225  335509039163100001  1394.731502                  2231.213409   \n",
       "5934    54009519533100001   948.645245                  1517.589578   \n",
       "15251  123900015313100001  1356.753067                  2170.457634   \n",
       "12377  178000269663100001  1344.690895                  2151.161246   \n",
       "25743  335509040083100001  4478.096314                  5311.575000   \n",
       "11416  146200261013100001  1649.611795                  2868.391227   \n",
       "4509   604000781783100001   822.365721                  1566.112590   \n",
       "9147   604100522243100001  1083.800567                  1787.055000   \n",
       "12294   90100401673100001  1394.352128                  2230.606508   \n",
       "9804   602100984463100001  1147.916370                  1836.372372   \n",
       "9548   303100681663100001  1303.914822                  2085.929966   \n",
       "\n",
       "       Optimized Prices     lb_bound     up_bound  prob_est  renewal demand  \\\n",
       "23311       5282.000695  5281.939577  6455.703927  0.142834        0.182620   \n",
       "10995       1810.230547  1809.479660  2211.586252  0.851230        0.886673   \n",
       "16435       2343.275137  2343.019020  2863.689914  0.433212        0.495253   \n",
       "9113        1516.816708  1516.272461  1853.221897  0.661810        0.716081   \n",
       "17277       2594.175631  2593.919515  3170.346073  0.500557        0.575459   \n",
       "2232        1273.286799  1273.152920  1556.075792  0.251277        0.309452   \n",
       "11054       1740.756880  1740.151514  2126.851850  0.692624        0.746274   \n",
       "6385        1424.508747  1424.037260  1740.489984  0.627205        0.685215   \n",
       "20721       2917.785408  2917.459442  3565.783762  0.504146        0.568194   \n",
       "10225       2008.397662  2008.092068  2454.334750  0.439577        0.513273   \n",
       "5934        1366.273003  1365.830620  1669.348536  0.554286        0.618352   \n",
       "15251       1953.697091  1953.411871  2387.503397  0.407168        0.473273   \n",
       "12377       1936.353625  1936.045121  2366.277371  0.434075        0.503528   \n",
       "25743       4780.542648  4780.417500  5842.732500  0.108431        0.151675   \n",
       "11416       2581.825683  2581.552104  3155.230350  0.467940        0.553710   \n",
       "4509        1410.234755  1409.501331  1722.723849  0.827099        0.866110   \n",
       "9147        1608.599796  1608.349500  1965.760500  0.434353        0.527941   \n",
       "12294       2007.796153  2007.545857  2453.667159  0.373395        0.439867   \n",
       "9804        1653.282293  1652.735135  2020.009609  0.649015        0.709364   \n",
       "9548        1877.811367  1877.336969  2294.522963  0.580571        0.642124   \n",
       "\n",
       "       variação  \n",
       "23311  0.900010  \n",
       "10995  0.900373  \n",
       "16435  0.900098  \n",
       "9113   0.900323  \n",
       "17277  0.900089  \n",
       "2232   0.900095  \n",
       "11054  0.900313  \n",
       "6385   0.900298  \n",
       "20721  0.900101  \n",
       "10225  0.900137  \n",
       "5934   0.900292  \n",
       "15251  0.900131  \n",
       "12377  0.900143  \n",
       "25743  0.900024  \n",
       "11416  0.900095  \n",
       "4509   0.900468  \n",
       "9147   0.900140  \n",
       "12294  0.900112  \n",
       "9804   0.900298  \n",
       "9548   0.900227  "
      ]
     },
     "execution_count": 136,
     "metadata": {},
     "output_type": "execute_result"
    }
   ],
   "source": [
    "prices_df = pd.DataFrame({\n",
    "    'chave': df_relatorio[\"chave\"],\n",
    "    'Act_cost':  df_relatorio[\"Act_cost\"],\n",
    "    'Premio ofertado com batente':  df_relatorio[\"Premio_oferecido_com_batente\"],\n",
    "    'Optimized Prices': df_relatorio[\"premio\"],\n",
    "    'lb_bound' : [b[0] for b in bounds],\n",
    "    'up_bound' : [b[1] for b in bounds],\n",
    "    'prob_est':         df_relatorio[\"prob_est\"],\n",
    "    'renewal demand':df_relatorio[\"demanda otimizada\"],\n",
    "    'variação':df_relatorio[\"premio\"]/df_relatorio[\"Premio_oferecido_com_batente\"]\n",
    "})\n",
    "prices_df.head(20)"
   ]
  },
  {
   "cell_type": "markdown",
   "id": "d775e90b",
   "metadata": {},
   "source": [
    "########"
   ]
  },
  {
   "cell_type": "code",
   "execution_count": 143,
   "id": "3fa34745",
   "metadata": {},
   "outputs": [
    {
     "name": "stdout",
     "output_type": "stream",
     "text": [
      "CONVERGENCE: REL_REDUCTION_OF_F_<=_FACTR*EPSMCH\n",
      "True\n",
      "3040.4790782339996\n",
      "2736.782124799197\n",
      "451.65942670069586\n",
      "388.8224096503719\n",
      "0.46771251654701623\n",
      "0.5280263702202987\n"
     ]
    }
   ],
   "source": [
    "# premio otimizados\n",
    "premio_otim = result.x\n",
    "print(result.message)\n",
    "print(result.success)\n",
    "df_lote_otim[\"premio\"]=result.x\n",
    "\n",
    "df_lote_otim[\"demanda otimizada\"] = model.predict(df_lote_otim)\n",
    "df_lote_otim[\"Margem otimizada\"] = df_lote_otim[\"demanda otimizada\"]*(df_lote_otim[\"premio\"]-df_lote_otim[\"Act_cost\"])\n",
    "\n",
    "print(np.mean(df_lote_otim[\"Premio_oferecido_com_batente\"]))\n",
    "print(np.mean(df_lote_otim[\"premio\"]))\n",
    "print(np.mean(df_lote_otim[\"Margem Inicial\"]))\n",
    "print(np.mean(df_lote_otim[\"Margem otimizada\"]))\n",
    "print(np.mean(df_lote_otim[\"prob_est\"]))\n",
    "print(np.mean(df_lote_otim[\"demanda otimizada\"]))"
   ]
  },
  {
   "cell_type": "code",
   "execution_count": null,
   "id": "727607a7",
   "metadata": {},
   "outputs": [],
   "source": [
    "df_plot = df_lote_otim[[\"prob_est\",\"premio\",\"Amostra\"]].copy()\n",
    "df_plot.dtypes\n"
   ]
  },
  {
   "cell_type": "code",
   "execution_count": 142,
   "id": "e31c3005",
   "metadata": {},
   "outputs": [
    {
     "data": {
      "text/plain": [
       "True"
      ]
     },
     "execution_count": 142,
     "metadata": {},
     "output_type": "execute_result"
    }
   ],
   "source": []
  },
  {
   "cell_type": "code",
   "execution_count": null,
   "id": "11c891c7",
   "metadata": {},
   "outputs": [],
   "source": [
    "#df_plot[\"range_preco\"] = list(range(np.min(df_plot[\"premio\"].astype('int')), np.max(df_plot[\"premio\"].astype('int')), 500))\n",
    "\n"
   ]
  },
  {
   "cell_type": "code",
   "execution_count": null,
   "id": "dcaf628f",
   "metadata": {},
   "outputs": [],
   "source": [
    "#plt.figure(figsize=(9,6))\n",
    "#plt.plot(preco, np.mean(prices_df['renewal demand']), color='grey')\n",
    "#plt.xlabel('Preço')\n",
    "#plt.ylabel('Renovação');\n",
    "#plt.title('Preço Renov');"
   ]
  },
  {
   "cell_type": "code",
   "execution_count": 129,
   "id": "89c0830a",
   "metadata": {},
   "outputs": [
    {
     "name": "stdout",
     "output_type": "stream",
     "text": [
      "3040.4790782339996\n",
      "2736.782124799197\n",
      "451.65942670069586\n",
      "388.8224096503719\n",
      "0.46771251654701623\n",
      "0.5280263702202987\n"
     ]
    }
   ],
   "source": [
    "print(np.mean(df_lote_otim[\"Premio_oferecido_com_batente\"]))\n",
    "print(np.mean(df_lote_otim[\"premio\"]))\n",
    "print(np.mean(df_lote_otim[\"Margem Inicial\"]))\n",
    "print(np.mean(df_lote_otim[\"Margem otimizada\"]))\n",
    "print(np.mean(df_lote_otim[\"prob_est\"]))\n",
    "print(np.mean(df_lote_otim[\"demanda otimizada\"]))\n"
   ]
  },
  {
   "cell_type": "code",
   "execution_count": null,
   "id": "c76d2557",
   "metadata": {},
   "outputs": [],
   "source": [
    "prices_df[\"variação\"].describe()"
   ]
  },
  {
   "cell_type": "code",
   "execution_count": 8,
   "id": "bc45c51c",
   "metadata": {},
   "outputs": [
    {
     "data": {
      "text/plain": [
       "array([100, 150, 200, 250, 300, 350, 400, 450, 500, 550, 600, 650, 700,\n",
       "       750, 800, 850, 900, 950])"
      ]
     },
     "execution_count": 8,
     "metadata": {},
     "output_type": "execute_result"
    }
   ],
   "source": [
    "np.arange(100,1000,step=50)"
   ]
  },
  {
   "cell_type": "code",
   "execution_count": null,
   "id": "3ba4b9b8",
   "metadata": {},
   "outputs": [],
   "source": []
  }
 ],
 "metadata": {
  "kernelspec": {
   "display_name": "Python 3 (ipykernel)",
   "language": "python",
   "name": "python3"
  },
  "language_info": {
   "codemirror_mode": {
    "name": "ipython",
    "version": 3
   },
   "file_extension": ".py",
   "mimetype": "text/x-python",
   "name": "python",
   "nbconvert_exporter": "python",
   "pygments_lexer": "ipython3",
   "version": "3.10.9"
  }
 },
 "nbformat": 4,
 "nbformat_minor": 5
}
