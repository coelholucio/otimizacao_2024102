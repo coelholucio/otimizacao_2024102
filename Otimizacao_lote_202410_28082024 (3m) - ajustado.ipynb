{
 "cells": [
  {
   "cell_type": "code",
   "execution_count": 177,
   "id": "4317d284",
   "metadata": {},
   "outputs": [],
   "source": [
    "import pandas as pd\n",
    "import numpy as np\n",
    "import seaborn as sns\n",
    "import matplotlib.pyplot as plt\n",
    "\n",
    "\n",
    "from scipy.optimize import minimize\n",
    "from scipy.optimize import differential_evolution\n",
    "\n",
    "from sklearn.preprocessing import LabelEncoder\n",
    "from sklearn.model_selection import train_test_split\n",
    "from sklearn import metrics\n",
    "from sklearn.preprocessing import StandardScaler\n",
    "\n",
    "from sklearn.tree import DecisionTreeRegressor\n",
    "from sklearn.ensemble import RandomForestRegressor\n",
    "import xgboost as xgb\n",
    "from sklearn.metrics import mean_squared_error, mean_absolute_error, r2_score\n",
    "from sklearn.linear_model import LinearRegression\n",
    "\n",
    "from numpy import asarray\n",
    "from sklearn.preprocessing import OrdinalEncoder\n",
    "\n",
    "import warnings\n",
    "warnings.filterwarnings('ignore')\n"
   ]
  },
  {
   "cell_type": "code",
   "execution_count": 178,
   "id": "687abc4a",
   "metadata": {
    "scrolled": true
   },
   "outputs": [],
   "source": [
    "def categorizar(df):\n",
    "    \n",
    "    df['classe_bonus_bin'] = df['classe_bonus'].apply(lambda x: '00'  if x == 0 else 'Demais')   \n",
    "    \n",
    "    df['MD_sexo_bin'] = df['MD_sexo'].map({'Masculino': 'Masculino', \n",
    "                                 'Feminino': 'Feminino', \n",
    "                                  'ERRO': 'Masculino'}).astype(object)\n",
    "    \n",
    "    df['MD_sexo_2bin'] = df['MD_sexo'].map({'Masculino': 1, \n",
    "                                 'Feminino': 0, \n",
    "                                  'ERRO': 1}).astype(object)\n",
    "\n",
    "\n",
    "    df['fx_ir_12m_bin'] = df['fx_ir_12m'].apply(lambda x: '01_00_20' if x == '01 - 00-<=020' else\n",
    "                                                          '02_20_40' if x == '02 - 20-<=040' else\n",
    "                                                          '03_40_60' if x == '03 - 40-<=060' else\n",
    "                                                          '04_60_80' if x == '04 - 60-<=080' else\n",
    "                                                          '05_80_100' if x == '05 - 80-<=100' else\n",
    "                                                          '02_20_40' if x == 'NI'           else 'ERROR')\n",
    "\n",
    "  \n",
    "    df['MD_comb_bin'] = df['MD_comb'].apply(lambda x: 'Gasolina' if x == 'Gasolina'  else 'Demais')\n",
    "\n",
    "    df['canal_bin'] =  df['canal'].apply(lambda x: 'Corretor_Mais' if x == 'Corretor Mais' else \n",
    "                                                   'Corretor_Mais' if x == 'CorretorMais'\n",
    "                                                                   else    'Demais')\n",
    "   \n",
    "    df['per_com_bin'] = df['per_com'].apply(lambda x: 'p_1_10' if x < 10 else\n",
    "                                                      'p_10_35' if x >= 10 else 'ERROR')    \n",
    "\n",
    "\n",
    "\n",
    "    df['idade_ult_RNS_bin'] = df['idade_ult_RNS'].apply(lambda x:     'Sem_Sinistro' if x == 'Sem Sinistro' else\n",
    "                                                                      '01_05_anos' if x == '01 ano' else\n",
    "                                                                      '01_05_anos' if x == '02 anos' else\n",
    "                                                                      '01_05_anos' if x == '03 anos' else\n",
    "                                                                      '01_05_anos' if x == '04 anos' else\n",
    "                                                                      '01_05_anos' if x == '05 anos' else '06_inf')\n",
    "\n",
    "\n",
    "    df['UF_bin'] = df['UF'].apply(lambda x:     'AL_CE_RS'  if x == 'AL' else\n",
    "                                                'AL_CE_RS'  if x == 'CE' else\n",
    "                                                'AL_CE_RS'  if x == 'RS' else \n",
    "                                                'AP_DF_ES_PA_PB_RN_SC' if x == 'AP' else \n",
    "                                                'AP_DF_ES_PA_PB_RN_SC' if x == 'DF' else \n",
    "                                                'AP_DF_ES_PA_PB_RN_SC' if x == 'ES' else \n",
    "                                                'AP_DF_ES_PA_PB_RN_SC' if x == 'PA' else \n",
    "                                                'AP_DF_ES_PA_PB_RN_SC' if x == 'PB' else \n",
    "                                                'AP_DF_ES_PA_PB_RN_SC' if x == 'RN' else \n",
    "                                                'AP_DF_ES_PA_PB_RN_SC' if x == 'SC' else \n",
    "                                                'GO_MA_MG'             if x == 'GO' else \n",
    "                                                'GO_MA_MG'             if x == 'MA' else \n",
    "                                                'GO_MA_MG'             if x == 'MG' else \n",
    "                                                'MT_PR'                if x == 'MT' else\n",
    "                                                'MT_PR'                if x == 'PR' else \n",
    "                                                'RJ'                   if x == 'RJ' else  \n",
    "                                                'Demais')\n",
    "\n",
    "    df['md_tipo_renov_ant_bin'] = df['Renovacao_ant'].apply(lambda x:     '1_SeguroNovo'       if x == '1 - Seguro Novo'  else\n",
    "                                                                          '2_RenovPropria'     if x == '2 - Renov MAPFRE sem sinistro'   else\n",
    "                                                                          '2_RenovPropria'     if x == '3 - Renov MAPFRE com sinistro'   else\n",
    "                                                                          '3_RenovCongenere'   if x == '4 - Renov Congenere sem sinistro' else\n",
    "                                                                          '3_RenovCongenere'   if x == '5 - Renov Congenere com sinistro' else\n",
    "                                                                          '3_RenovCongenere'   if x == '6 - Renov BB sem sinistro' else\n",
    "                                                                          '3_RenovCongenere'   if x == '7 - Renov BB com sinistro' else  \n",
    "                                                                          '2_RenovPropria')\n",
    "  \n",
    "    df['MD_tipo_renov_bin'] = df['MD_tipo_renov'].apply(lambda x:          '2_RenovPropria_sem_sin'     if x == '2 - Renov MAPFRE sem sinistro'   else\n",
    "                                                                           '3_RenovPropria_com_sin'     if x == '3 - Renov MAPFRE com sinistro'   else\n",
    "                                                                           'Error')\n",
    "   \n",
    "     \n",
    "    df['Cod_End_bin'] = df['Cod_End'].apply(lambda x: '13509'  if x == 13509 else\n",
    "                                                      '13509'  if x == 50007 else\n",
    "                                                      '13509'  if x == 50100 else 'Demais')   \n",
    "\n",
    "    df['MD_capac_bin'] = df['MD_capac'].apply(lambda x: '5'  if x == 5  else 'Demais')  \n",
    "\n",
    "\n",
    "\n",
    "    df['fator_ajuste_bin'] = df['MD_fator_ajuste'].apply(lambda x: 'f_80_101'    if x < 101 else\n",
    "                                                                   'f_101_120'   if x >= 101  else \n",
    "                                                                   'f_80_101')   \n",
    "    \n",
    "    return df"
   ]
  },
  {
   "cell_type": "code",
   "execution_count": 179,
   "id": "1acc6467",
   "metadata": {},
   "outputs": [],
   "source": [
    "def demand_model(df):\n",
    "    import pandas as pd\n",
    "    import numpy as np \n",
    "    P   = df['premio']\n",
    "    X2  = np.array(df['GBM_mercado'])\n",
    "    X3  = np.array(df['Premio_IC_100'])\n",
    "    X4  = np.array(df['premio_anterior'])\n",
    "    X5  = np.array(df['MD_tempo_casa_2'])\n",
    "    X6  = np.array(df['per_com'])\n",
    "    X7  = np.array(df['per_com_bin_p_1_10'])\n",
    "    X1  = np.array(df['is_casco_ofer'])\n",
    "    X8  = np.array(df['canal_bin_Corretor_Mais'])\n",
    "    X9  = np.array(df['Cod_End_bin_13509'])\n",
    "    X10 = np.array(df['fator_ajuste_bin_f_101_120'])\n",
    "    X11 = np.array(df['classe_bonus_bin_00'])\n",
    "    X12 = np.array(df['UF_bin_AL_CE_RS'])\n",
    "    X13 = np.array(df['UF_bin_AP_DF_ES_PA_PB_RN_SC'])\n",
    "    X14 = np.array(df['UF_bin_GO_MA_MG'])\n",
    "    X15 = np.array(df['UF_bin_MT_PR'])\n",
    "    X16 = np.array(df['UF_bin_RJ'])\n",
    "    X17 = np.array(df['MD_comb_bin_Gasolina'])\n",
    "    X18 = np.array(df['md_tipo_renov_ant_bin_1_SeguroNovo'])\n",
    "    X19 = np.array(df['md_tipo_renov_ant_bin_3_RenovCongenere'])\n",
    "    X20 = np.array(df['fx_ir_12m_bin_01_00_20'])\n",
    "    X21 = np.array(df['fx_ir_12m_bin_03_40_60'])\n",
    "    X22 = np.array(df['fx_ir_12m_bin_04_60_80'])\n",
    "    X23 = np.array(df['fx_ir_12m_bin_05_80_100'])\n",
    "    X24 = np.array(df['MD_tipo_renov_bin_3_RenovPropria_com_sin'])\n",
    "    X25 = np.array(df['idade_ult_RNS_bin_01_05_anos'])\n",
    "    X26 = np.array(df['idade_ult_RNS_bin_06_inf'])\n",
    "\n",
    "    def demanda(P,X1,X2,X3,X4,X5,X6,X7,X8,X9,X10,X11,X12,X13,X14,X15,X16,X17,X18,X19,X20,X21,X22,X23,X24,X25,X26):\n",
    "        D=np.exp(1.3356 -0.2576 * np.log(P)  + 1.3647 * np.divide(P, X1)-0.8782 * np.log(np.divide(P, X2))-0.795 * np.log(np.divide(P, X3))-1.6731 * np.log((np.divide(P, X4)))  + 0.3797 * np.log(X5 + 1)  + 0.0011 * X6  + 0.1253 * X7  + 0.1334 * X8-0.1382 * X9  + 0.3919 * X10-0.1397 * X11-0.2305 * X12-0.2832 * X13  + 0.0024 * X14-0.1476 * X15  + 0.2817 * X16  + 0.3336 * X17-0.4115 * X18  + 0.0127 * X19-0.73 * X20  + 0.4343 * X21  + 1.1066 * X22  + 1.9561 * X23-0.0742 * X24 -0.84590*X25- 0.7094 * X26)\n",
    "        return D/(1+D)\n",
    "\n",
    "\n",
    "    #df['Renewal_Demand'] = demanda(P, X1, X2, X3, X4, X5, X6, X7, X8, X9, X10, X11, X12, X13, X14, X15, X16, X17, X18, X19, X20, X21, X22, X23, X24, X25, X26)\n",
    "    \n",
    "    return  demanda(P, X1, X2, X3, X4, X5, X6, X7, X8, X9, X10, X11, X12, X13, X14, X15, X16, X17, X18, X19, X20, X21, X22, X23, X24, X25, X26)\n",
    "  "
   ]
  },
  {
   "cell_type": "code",
   "execution_count": 180,
   "id": "20127eaf",
   "metadata": {},
   "outputs": [],
   "source": [
    "def relatorio(df):\n",
    "    import pandas as pd\n",
    "    import numpy as np \n",
    "    df[\"per_com_pct\"] = df['per_com']/100\n",
    "    df[\"premio_prob\"] = df[\"Renewal_Demand\"]*df[\"premio\"]\n",
    "    df[\"premio_anterior_prob\"] = df[\"Renewal_Demand\"]*df[\"premio_anterior\"]\n",
    "    df[\"Act_cost_prob\"] = df[\"Renewal_Demand\"]*df[\"Act_cost\"]                                                                \n",
    "    df[\"comissao_valor\"] = df[\"per_com_pct\"] *df[\"premio\"]\n",
    "    df[\"comissao_valor_prob\"] = df[\"per_com_pct\"] *df[\"premio_prob\"]\n",
    "\n",
    "\n",
    "\n",
    "    apolice_ofertada    = np.round(df.shape[0],0)\n",
    "    apolice_estimada    = np.round(np.sum(df[\"Renewal_Demand\"]),0)\n",
    "    premio_ofertado     = np.mean(df[\"premio\"])\n",
    "    retencao_estimada   = np.mean(df[\"Renewal_Demand\"])\n",
    "    premio_esperado     = np.sum(df[\"premio_prob\"])/np.sum(df[\"Renewal_Demand\"])\n",
    "    risco_ofertado      = np.mean(df[\"Act_cost\"])\n",
    "    risco_esperado      = np.sum(df[\"Act_cost_prob\"])/np.sum(df[\"Renewal_Demand\"])\n",
    "    sp_ofertado         = np.sum(df[\"Act_cost\"])/np.sum(df[\"premio\"])\n",
    "    sp_esperado         = np.sum(df[\"Act_cost_prob\"])/np.sum(df[\"premio_prob\"])\n",
    "    comis_ofertado      = np.sum(df[\"comissao_valor\"])/np.sum(df[\"premio\"])\n",
    "    comis_esperado      = np.sum(df[\"comissao_valor_prob\"])/np.sum(df[\"premio_prob\"])\n",
    "    premio_anterior     = np.mean(df[\"premio_anterior\"])\n",
    "    premio_anterior_w   = np.sum(df[\"premio_anterior_prob\"])/np.sum(df[\"Renewal_Demand\"])\n",
    "    ic_ofertado       =  sp_ofertado  +  comis_ofertado + 0.2749\n",
    "    ic_esperado       =  sp_esperado  +  comis_esperado + 0.2749\n",
    "    premio_anterior   = np.mean(df_lote[\"premio_anterior\"])\n",
    "    premio_anterior_w   = np.sum(df_lote[\"premio_anterior_prob\"])/np.sum(df_lote[\"Renewal_Demand\"])\n",
    "\n",
    "\n",
    "    tabela = pd.DataFrame([apolice_ofertada,apolice_estimada,\n",
    "                            retencao_estimada,\n",
    "                            premio_ofertado,premio_esperado,\n",
    "                            premio_anterior,premio_anterior_w,\n",
    "                            risco_ofertado,risco_esperado,\n",
    "                            comis_ofertado, comis_esperado,\n",
    "                            sp_ofertado,sp_esperado,\n",
    "                            ic_ofertado,ic_esperado      \n",
    "                            ])\n",
    "\n",
    "\n",
    "    tabela = tabela.rename(columns = {0 : 'Total'})\n",
    "\n",
    "    tabela.index = ['Apolices Ofertadas:', \n",
    "                    'Apolices Renovadas:',\n",
    "                    '%Retenção:',\n",
    "                    'Premio Ofertado:',\n",
    "                    'Premio Renovado:',  \n",
    "                    'Premio Anterior Ofertado:',\n",
    "                    'Premio Anterior Renovado:',\n",
    "                    'Risco Ofertado', \n",
    "                    'Risco Renovado', \n",
    "                    '%Comissão Ofertada:',\n",
    "                    '%Comissão Renovada:',\n",
    "                    '%SP Ofertada:', \n",
    "                    '%SP Renovada:',\n",
    "                    '%IC Ofertado:', \n",
    "                    '%IC Renovado:']\n",
    "\n",
    "    return tabela"
   ]
  },
  {
   "cell_type": "code",
   "execution_count": 181,
   "id": "590d5a67",
   "metadata": {},
   "outputs": [],
   "source": [
    "def relatorio_otim(df):\n",
    "    import pandas as pd\n",
    "    import numpy as np \n",
    "    \n",
    "    df[\"retencao_otimizada\"] = df[\"retencao_otimizada\"]\n",
    "    df[\"precos_otimizados\"] = df[\"precos_otimizados\"]\n",
    "    \n",
    "    df[\"per_com_pct\"] = df['per_com']/100\n",
    "    df[\"premio_prob\"] = df[\"retencao_otimizada\"]*df[\"precos_otimizados\"]\n",
    "    df[\"premio_anterior_prob\"] = df[\"retencao_otimizada\"]*df[\"premio_anterior\"]\n",
    "    df[\"Act_cost_prob\"] = df[\"retencao_otimizada\"]*df[\"Act_cost\"]                                                                \n",
    "    df[\"comissao_valor\"] = df[\"per_com_pct\"] *df[\"precos_otimizados\"]\n",
    "    df[\"comissao_valor_prob\"] = df[\"per_com_pct\"] *df[\"premio_prob\"]\n",
    "\n",
    "\n",
    "\n",
    "    apolice_ofertada    = np.round(df.shape[0],0)\n",
    "    apolice_estimada    = np.round(np.sum(df[\"retencao_otimizada\"]),0)\n",
    "    premio_ofertado     = np.mean(df[\"precos_otimizados\"])\n",
    "    retencao_estimada   = np.mean(df[\"retencao_otimizada\"])\n",
    "    premio_esperado     = np.sum(df[\"premio_prob\"])/np.sum(df[\"retencao_otimizada\"])\n",
    "    risco_ofertado      = np.mean(df[\"Act_cost\"])\n",
    "    risco_esperado      = np.sum(df[\"Act_cost_prob\"])/np.sum(df[\"retencao_otimizada\"])\n",
    "    sp_ofertado         = np.sum(df[\"Act_cost\"])/np.sum(df[\"precos_otimizados\"])\n",
    "    sp_esperado         = np.sum(df[\"Act_cost_prob\"])/np.sum(df[\"premio_prob\"])\n",
    "    comis_ofertado      = np.sum(df[\"comissao_valor\"])/np.sum(df[\"precos_otimizados\"])\n",
    "    comis_esperado      = np.sum(df[\"comissao_valor_prob\"])/np.sum(df[\"premio_prob\"])\n",
    "    premio_anterior     = np.mean(df[\"premio_anterior\"])\n",
    "    premio_anterior_w   = np.sum(df[\"premio_anterior_prob\"])/np.sum(df[\"retencao_otimizada\"])\n",
    "    ic_ofertado       =  sp_ofertado  +  comis_ofertado + 0.2749\n",
    "    ic_esperado       =  sp_esperado  +  comis_esperado + 0.2749\n",
    "    premio_anterior   = np.mean(df_lote[\"premio_anterior\"])\n",
    "    premio_anterior_w   = np.sum(df_lote[\"premio_anterior_prob\"])/np.sum(df_lote[\"retencao_otimizada\"])\n",
    "\n",
    "\n",
    "    tabela = pd.DataFrame([apolice_ofertada,apolice_estimada,\n",
    "                            retencao_estimada,\n",
    "                            premio_ofertado,premio_esperado,\n",
    "                            premio_anterior,premio_anterior_w,\n",
    "                            risco_ofertado,risco_esperado,\n",
    "                            comis_ofertado, comis_esperado,\n",
    "                            sp_ofertado,sp_esperado,\n",
    "                            ic_ofertado,ic_esperado      \n",
    "                            ])\n",
    "\n",
    "\n",
    "    tabela = tabela.rename(columns = {0 : 'Total'})\n",
    "\n",
    "    tabela.index = ['Apolices Ofertadas:', \n",
    "                    'Apolices Renovadas:',\n",
    "                    '%Retenção:',\n",
    "                    'Premio Ofertado:',\n",
    "                    'Premio Renovado:',  \n",
    "                    'Premio Anterior Ofertado:',\n",
    "                    'Premio Anterior Renovado:',\n",
    "                    'Risco Ofertado', \n",
    "                    'Risco Renovado', \n",
    "                    '%Comissão Ofertada:',\n",
    "                    '%Comissão Renovada:',\n",
    "                    '%SP Ofertada:', \n",
    "                    '%SP Renovada:',\n",
    "                    '%IC Ofertado:', \n",
    "                    '%IC Renovado:']\n",
    "\n",
    "    return tabela"
   ]
  },
  {
   "cell_type": "markdown",
   "id": "808c929f",
   "metadata": {},
   "source": [
    "## Base Para escorar e otimizar"
   ]
  },
  {
   "cell_type": "code",
   "execution_count": 182,
   "id": "daae90ef",
   "metadata": {},
   "outputs": [],
   "source": [
    "df_lote_102024 = pd.read_csv(\"C://Flavio/Projeto Otimizacao/Otimizacao/AJUSTADO Base Case Earnix - Grupo Segmentacao.csv\",\n",
    "                             dtype={'chave': 'string'},\n",
    "                     encoding='latin-1',\n",
    "                     delimiter='|')\n",
    "\n",
    "df_lote_102024['GBM_mercado']  = df_lote_102024['GBM_mercado']/(1-df_lote_102024['per_com']/100)"
   ]
  },
  {
   "cell_type": "code",
   "execution_count": 183,
   "id": "451a4bb1",
   "metadata": {},
   "outputs": [],
   "source": [
    "df_lote_escorar=df_lote_102024.copy()"
   ]
  },
  {
   "cell_type": "code",
   "execution_count": 184,
   "id": "f211fcfc",
   "metadata": {},
   "outputs": [],
   "source": [
    "df_lote_escorar[\"premio\"] = df_lote_escorar[\"Premio_oferecido_com_batente\"]"
   ]
  },
  {
   "cell_type": "code",
   "execution_count": 185,
   "id": "6a23c83a",
   "metadata": {},
   "outputs": [],
   "source": [
    "df_lote_escorar.rename(columns={'Pr_anterior_TI':'premio_anterior', \n",
    "                                   'cod_end': 'Cod_End',\n",
    "                                   'md_capac': 'MD_capac',\n",
    "                                   'Classe_bonus':'classe_bonus',\n",
    "                                   'fator_ajuste': 'MD_fator_ajuste'},inplace=True)"
   ]
  },
  {
   "cell_type": "code",
   "execution_count": 186,
   "id": "0edd9824",
   "metadata": {},
   "outputs": [],
   "source": [
    "df_lote = categorizar(df_lote_escorar)"
   ]
  },
  {
   "cell_type": "code",
   "execution_count": 187,
   "id": "8ad2c6be",
   "metadata": {},
   "outputs": [
    {
     "data": {
      "text/plain": [
       "(1473, 144)"
      ]
     },
     "execution_count": 187,
     "metadata": {},
     "output_type": "execute_result"
    }
   ],
   "source": [
    "df_lote.shape"
   ]
  },
  {
   "cell_type": "code",
   "execution_count": 188,
   "id": "1d892d4f",
   "metadata": {},
   "outputs": [],
   "source": [
    "df_cat = df_lote[['canal_bin', 'Cod_End_bin', 'fator_ajuste_bin', 'per_com_bin', 'classe_bonus_bin', 'UF_bin', 'MD_comb_bin', 'md_tipo_renov_ant_bin', 'fx_ir_12m_bin', 'MD_tipo_renov_bin','idade_ult_RNS_bin']]\n",
    "df_cat_glm=pd.get_dummies(df_cat)\n",
    "df_lote=pd.concat([df_lote,df_cat_glm],axis=1)"
   ]
  },
  {
   "cell_type": "code",
   "execution_count": 189,
   "id": "8746ebb1",
   "metadata": {},
   "outputs": [],
   "source": [
    "df_lote.drop(['Renewal Demand','Premium Parameter'],axis='columns', inplace=True)"
   ]
  },
  {
   "cell_type": "code",
   "execution_count": 190,
   "id": "bb4d6185",
   "metadata": {},
   "outputs": [],
   "source": [
    "df_lote['Renewal_Demand'] = demand_model(df_lote)"
   ]
  },
  {
   "cell_type": "code",
   "execution_count": 191,
   "id": "135fd21e",
   "metadata": {},
   "outputs": [
    {
     "data": {
      "text/html": [
       "<div>\n",
       "<style scoped>\n",
       "    .dataframe tbody tr th:only-of-type {\n",
       "        vertical-align: middle;\n",
       "    }\n",
       "\n",
       "    .dataframe tbody tr th {\n",
       "        vertical-align: top;\n",
       "    }\n",
       "\n",
       "    .dataframe thead th {\n",
       "        text-align: right;\n",
       "    }\n",
       "</style>\n",
       "<table border=\"1\" class=\"dataframe\">\n",
       "  <thead>\n",
       "    <tr style=\"text-align: right;\">\n",
       "      <th></th>\n",
       "      <th>Total</th>\n",
       "    </tr>\n",
       "  </thead>\n",
       "  <tbody>\n",
       "    <tr>\n",
       "      <th>Apolices Ofertadas:</th>\n",
       "      <td>1473.000000</td>\n",
       "    </tr>\n",
       "    <tr>\n",
       "      <th>Apolices Renovadas:</th>\n",
       "      <td>756.000000</td>\n",
       "    </tr>\n",
       "    <tr>\n",
       "      <th>%Retenção:</th>\n",
       "      <td>0.513468</td>\n",
       "    </tr>\n",
       "    <tr>\n",
       "      <th>Premio Ofertado:</th>\n",
       "      <td>3063.388364</td>\n",
       "    </tr>\n",
       "    <tr>\n",
       "      <th>Premio Renovado:</th>\n",
       "      <td>2381.388210</td>\n",
       "    </tr>\n",
       "    <tr>\n",
       "      <th>Premio Anterior Ofertado:</th>\n",
       "      <td>2893.832077</td>\n",
       "    </tr>\n",
       "    <tr>\n",
       "      <th>Premio Anterior Renovado:</th>\n",
       "      <td>2614.777661</td>\n",
       "    </tr>\n",
       "    <tr>\n",
       "      <th>Risco Ofertado</th>\n",
       "      <td>1767.808781</td>\n",
       "    </tr>\n",
       "    <tr>\n",
       "      <th>Risco Renovado</th>\n",
       "      <td>1345.266898</td>\n",
       "    </tr>\n",
       "    <tr>\n",
       "      <th>%Comissão Ofertada:</th>\n",
       "      <td>0.159572</td>\n",
       "    </tr>\n",
       "    <tr>\n",
       "      <th>%Comissão Renovada:</th>\n",
       "      <td>0.158196</td>\n",
       "    </tr>\n",
       "    <tr>\n",
       "      <th>%SP Ofertada:</th>\n",
       "      <td>0.577076</td>\n",
       "    </tr>\n",
       "    <tr>\n",
       "      <th>%SP Renovada:</th>\n",
       "      <td>0.564909</td>\n",
       "    </tr>\n",
       "    <tr>\n",
       "      <th>%IC Ofertado:</th>\n",
       "      <td>1.011548</td>\n",
       "    </tr>\n",
       "    <tr>\n",
       "      <th>%IC Renovado:</th>\n",
       "      <td>0.998005</td>\n",
       "    </tr>\n",
       "  </tbody>\n",
       "</table>\n",
       "</div>"
      ],
      "text/plain": [
       "                                 Total\n",
       "Apolices Ofertadas:        1473.000000\n",
       "Apolices Renovadas:         756.000000\n",
       "%Retenção:                    0.513468\n",
       "Premio Ofertado:           3063.388364\n",
       "Premio Renovado:           2381.388210\n",
       "Premio Anterior Ofertado:  2893.832077\n",
       "Premio Anterior Renovado:  2614.777661\n",
       "Risco Ofertado             1767.808781\n",
       "Risco Renovado             1345.266898\n",
       "%Comissão Ofertada:           0.159572\n",
       "%Comissão Renovada:           0.158196\n",
       "%SP Ofertada:                 0.577076\n",
       "%SP Renovada:                 0.564909\n",
       "%IC Ofertado:                 1.011548\n",
       "%IC Renovado:                 0.998005"
      ]
     },
     "execution_count": 191,
     "metadata": {},
     "output_type": "execute_result"
    }
   ],
   "source": [
    "relatorio(df_lote)"
   ]
  },
  {
   "cell_type": "code",
   "execution_count": 192,
   "id": "9425af76",
   "metadata": {},
   "outputs": [
    {
     "data": {
      "text/plain": [
       "0.513467580404544"
      ]
     },
     "execution_count": 192,
     "metadata": {},
     "output_type": "execute_result"
    }
   ],
   "source": [
    "df_lote['Renewal_Demand'].mean()"
   ]
  },
  {
   "cell_type": "markdown",
   "id": "a34b6c2a",
   "metadata": {},
   "source": [
    "## Otimização Teste "
   ]
  },
  {
   "cell_type": "code",
   "execution_count": 47,
   "id": "4101922e",
   "metadata": {},
   "outputs": [],
   "source": [
    "#print(df_lote_otim['elasticidade'].value_counts(ascending=False))"
   ]
  },
  {
   "cell_type": "code",
   "execution_count": 193,
   "id": "de7683ff",
   "metadata": {
    "scrolled": true
   },
   "outputs": [
    {
     "data": {
      "text/plain": [
       "(1473, 180)"
      ]
     },
     "execution_count": 193,
     "metadata": {},
     "output_type": "execute_result"
    }
   ],
   "source": [
    "#df_lote_otim=df_mod.copy()\n",
    "df_lote_otim_atu = df_lote.query('Amostra_2 == \"Segmentacao\"')\n",
    "df_lote_otim_atu.shape"
   ]
  },
  {
   "cell_type": "code",
   "execution_count": 194,
   "id": "ff79cb4c",
   "metadata": {},
   "outputs": [
    {
     "data": {
      "text/plain": [
       "(1473, 180)"
      ]
     },
     "execution_count": 194,
     "metadata": {},
     "output_type": "execute_result"
    }
   ],
   "source": [
    "df_lote_otim = df_lote_otim_atu\n",
    "df_lote_otim.shape"
   ]
  },
  {
   "cell_type": "code",
   "execution_count": 195,
   "id": "312845ee",
   "metadata": {},
   "outputs": [
    {
     "data": {
      "text/plain": [
       "0.513467580404544"
      ]
     },
     "execution_count": 195,
     "metadata": {},
     "output_type": "execute_result"
    }
   ],
   "source": [
    "df_lote_otim['Renewal_Demand'].mean()"
   ]
  },
  {
   "cell_type": "markdown",
   "id": "bc7f4798",
   "metadata": {},
   "source": [
    "#########################################"
   ]
  },
  {
   "cell_type": "code",
   "execution_count": 198,
   "id": "eab41b1e",
   "metadata": {},
   "outputs": [
    {
     "name": "stdout",
     "output_type": "stream",
     "text": [
      "Optimization terminated successfully.\n",
      "Tamanho da Base: 1473\n",
      "CPU times: total: 1min 45s\n",
      "Wall time: 2min 9s\n"
     ]
    }
   ],
   "source": [
    "%%time\n",
    "######\n",
    "import sympy as sp\n",
    "from scipy.optimize import fsolve\n",
    "\n",
    "df = df_lote_otim\n",
    "\n",
    "\n",
    "P=(df['premio'])\n",
    "X1=np.array(df['is_casco_ofer'])\n",
    "X2=np.array(df['GBM_mercado'])\n",
    "X3=np.array(df['Premio_IC_100'])\n",
    "X4=np.array(df['premio_anterior'])\n",
    "X5=np.array(df['MD_tempo_casa_2'])\n",
    "X6=np.array(df['per_com'])\n",
    "X7=np.array(df['per_com_bin_p_1_10'])\n",
    "X8=np.array(df['canal_bin_Corretor_Mais'])\n",
    "X9=np.array(df['Cod_End_bin_13509'])\n",
    "X10=np.array(df['fator_ajuste_bin_f_101_120'])\n",
    "X11=np.array(df['classe_bonus_bin_00'])\n",
    "X12=np.array(df['UF_bin_AL_CE_RS'])\n",
    "X13=np.array(df['UF_bin_AP_DF_ES_PA_PB_RN_SC'])\n",
    "X14=np.array(df['UF_bin_GO_MA_MG'])\n",
    "X15=np.array(df['UF_bin_MT_PR'])\n",
    "X16=np.array(df['UF_bin_RJ'])\n",
    "X17=np.array(df['MD_comb_bin_Gasolina'])\n",
    "X18=np.array(df['md_tipo_renov_ant_bin_1_SeguroNovo'])\n",
    "X19=np.array(df['md_tipo_renov_ant_bin_3_RenovCongenere'])\n",
    "X20=np.array(df['fx_ir_12m_bin_01_00_20'])\n",
    "X21=np.array(df['fx_ir_12m_bin_03_40_60'])\n",
    "X22=np.array(df['fx_ir_12m_bin_04_60_80'])\n",
    "X23=np.array(df['fx_ir_12m_bin_05_80_100'])\n",
    "X24=np.array(df['MD_tipo_renov_bin_3_RenovPropria_com_sin'])\n",
    "X25=np.array(df['idade_ult_RNS_bin_01_05_anos'])\n",
    "X26=np.array(df['idade_ult_RNS_bin_06_inf'])\n",
    "X26=np.array(df['idade_ult_RNS_bin_06_inf'])\n",
    "\n",
    "\n",
    "def calcular_retencao(P,X1,X2,X3,X4,X5,X6,X7,X8,X9,X10,X11,X12,X13,X14,X15,X16,X17,X18,X19,X20,X21,X22,X23,X24,X25,X26):\n",
    "    D=np.exp(1.3356 -0.2576 * np.log(P)  + 1.3647 * np.divide(P, X1)-0.8782 * np.log(np.divide(P, X2))-0.795 * np.log(np.divide(P, X3))-1.6731 * np.log((np.divide(P, X4)))  + 0.3797 * np.log(X5 + 1)  + 0.0011 * X6  + 0.1253 * X7  + 0.1334 * X8-0.1382 * X9  + 0.3919 * X10-0.1397 * X11-0.2305 * X12-0.2832 * X13  + 0.0024 * X14-0.1476 * X15  + 0.2817 * X16  + 0.3336 * X17-0.4115 * X18  + 0.0127 * X19-0.73 * X20  + 0.4343 * X21  + 1.1066 * X22  + 1.9561 * X23-0.0742 * X24 -0.84590*X25- 0.7094 * X26)\n",
    "    return D/(1+D)\n",
    "\n",
    "\n",
    "# Definir a função objetivo que maximiza a margem esperada otimizada \n",
    "def objetivo(P):\n",
    "    \n",
    "    df['precos']= P *1.23\n",
    "        \n",
    "    # Calcular a retenção otimizada com os preços dados\n",
    "    df['retencao_otimizada1'] = calcular_retencao(P,X1,X2,X3,X4,X5,X6,X7,X8,X9,X10,X11,X12,X13,X14,X15,X16,X17,X18,X19,X20,X21,X22,X23,X24,X25,X26)\n",
    "    \n",
    "    # Calcular a margem esperada\n",
    "    df['margem_esperada_otimizada'] =   df['retencao_otimizada1']*(df['precos'] - df['Act_cost'])\n",
    "    \n",
    "  \n",
    "    margem_esperada_total = df['margem_esperada_otimizada'].sum() \n",
    "\n",
    "    # Maximizar a margem \n",
    "    return -margem_esperada_total\n",
    "\n",
    "# Definir os limites para os preços otimizado\n",
    "nome_variaveis = ['LB','UB']\n",
    "limites=np.array(df.loc[:,nome_variaveis])\n",
    "\n",
    "# Executar a otimização \n",
    "resultado = differential_evolution(objetivo, bounds=limites, strategy='best1bin', maxiter=3000, popsize=11,seed=df.shape[0])\n",
    "\n",
    "# Resultados\n",
    "print(resultado.message) \n",
    "print(\"Tamanho da Base:\", df.shape[0])\n",
    "precos_otimizados = resultado.x\n",
    "margem_esperada_total_otimizada = -resultado.fun\n"
   ]
  },
  {
   "cell_type": "code",
   "execution_count": 199,
   "id": "51bcd270",
   "metadata": {},
   "outputs": [
    {
     "name": "stdout",
     "output_type": "stream",
     "text": [
      "3761.9398461390774\n",
      "3065.5006656094965\n",
      "1206655.845539067\n"
     ]
    }
   ],
   "source": [
    "print(df['precos'].mean()),\n",
    "print(np.mean(precos_otimizados)),\n",
    "print(np.mean(-resultado.fun))"
   ]
  },
  {
   "cell_type": "code",
   "execution_count": 200,
   "id": "666e75e3",
   "metadata": {},
   "outputs": [
    {
     "name": "stdout",
     "output_type": "stream",
     "text": [
      "Margem Esperada Total Base Case: 783657.6571234912\n",
      "Margem Esperada Total Otimizada: 1206655.845539067\n",
      "Retenção Média Base Case: 0.513467580404544\n",
      "Retenção Média Otimizada: 0.5094637098953982\n",
      "Premio Medio Otimizado: 3065.5006656094965\n",
      "Premio Medio Base Case: 3063.3883643280246\n",
      "Elasticidade: -1.6137229420245336\n",
      "Elasticidade2: -1.6252969017565804\n"
     ]
    }
   ],
   "source": [
    "df['precos_otimizados'] = precos_otimizados\n",
    "\n",
    "df['retencao_otimizada'] = calcular_retencao(df['precos_otimizados'],X1,X2,X3,X4,X5,X6,X7,X8,X9,X10,X11,X12,X13,X14,X15,X16,X17,X18,X19,X20,X21,X22,X23,X24,X25,X26)\n",
    "\n",
    "df['margem_esperada_base_case'] = df['Renewal_Demand']*(df['premio']-df['Act_cost'])\n",
    "\n",
    "margem_esperada_total_base_case=df['margem_esperada_base_case'].sum()\n",
    "  \n",
    "    \n",
    "delta_q = (df['retencao_otimizada']-df['Renewal_Demand'])\n",
    "delta_p = (df['precos_otimizados']-df['premio'])\n",
    "   \n",
    "delta_q_b = ((df['retencao_otimizada']+df['Renewal_Demand'])/2)\n",
    "delta_p_b = ((df['precos_otimizados']+df['premio'])/2)\n",
    "\n",
    "df[\"elasticidade\"] = (delta_q/delta_p)*(delta_p_b/delta_q_b)\n",
    "df[\"elasticidade_2\"] = (df['retencao_otimizada']/df['Renewal_Demand']-1)/(df['precos_otimizados']/df['premio']-1)  \n",
    "\n",
    "df[\"elasticidade\"] = df[\"elasticidade\"].fillna(-1)\n",
    "df[\"elasticidade_2\"] = df[\"elasticidade_2\"].fillna(-1)\n",
    "\n",
    "df['elasticidade_bin'] = pd.cut(x=df['elasticidade'], bins=[-3.5,-2.5,-2,-1.5,-1,0])  \n",
    "\n",
    "df.replace([np.inf, -np.inf], -1, inplace=True)\n",
    "\n",
    "\n",
    "\n",
    "#df[\"SP_ofer_python\"] = df[\"Act_cost\"]/df[\"precos_otimizados\"]\n",
    "#df[\"IC_ofer_python\"] = df[\"per_com_pct\"] + df[\"SP_ofer_python\"] +  0.2749\n",
    "#df[\"SP_ofer_eranix\"] = df[\"Act_cost\"]/df[\"Premium Parameter\"]\n",
    "#df[\"IC_ofer_eranix\"] = df[\"SP_ofer_eranix\"] + df[\"per_com_pct\"]+  0.2749\n",
    "#df[\"varia_prem_anterior_py\"] = df[\"precos_otimizados\"]/df[\"premio_anterior\"]\n",
    "#df[\"varia_prem_anterior_earnix\"] = df[\"Premium Parameter\"]/df[\"premio_anterior\"]\n",
    "#df[\"varia_prem_ofer_py\"] = df[\"precos_otimizados\"]/df[\"premio\"]\n",
    "#df[\"varia_prem_ofer_earnix\"] = df[\"Premium Parameter\"]/df[\"premio\"]\n",
    "#df[\"varia_prem_py_earnix\"] = df[\"precos_otimizados\"]/df[\"Premium Parameter\"]\n",
    "\n",
    "\n",
    "#df['IC_ofer_python_bin'] = pd.cut(x=df['IC_ofer_python'], bins=[0.7,0.95,0.99,1,1.03,1.9])  \n",
    "#df['IC_ofer_eranix'] = pd.cut(x=df['IC_ofer_eranix'], bins=[0.7,0.95,0.99,1,1.03,1.9]) \n",
    "\n",
    "\n",
    "# Exibir os resultados\n",
    "print(\"Margem Esperada Total Base Case:\", margem_esperada_total_base_case) \n",
    "print(\"Margem Esperada Total Otimizada:\", margem_esperada_total_otimizada) \n",
    "print(\"Retenção Média Base Case:\", df['Renewal_Demand'].mean())\n",
    "print(\"Retenção Média Otimizada:\", df['retencao_otimizada'].mean())\n",
    "print(\"Premio Medio Otimizado:\", df['precos_otimizados'].mean())\n",
    "print(\"Premio Medio Base Case:\", df['premio'].mean())\n",
    "print(\"Elasticidade:\", df['elasticidade'].mean())\n",
    "print(\"Elasticidade2:\", df['elasticidade_2'].mean())"
   ]
  },
  {
   "cell_type": "code",
   "execution_count": 201,
   "id": "04b2b468",
   "metadata": {},
   "outputs": [
    {
     "data": {
      "text/plain": [
       "0.5094637098953982"
      ]
     },
     "execution_count": 201,
     "metadata": {},
     "output_type": "execute_result"
    }
   ],
   "source": [
    "df['retencao_otimizada'].mean()"
   ]
  },
  {
   "cell_type": "code",
   "execution_count": 202,
   "id": "ff170607",
   "metadata": {},
   "outputs": [
    {
     "data": {
      "text/plain": [
       "0.513467580404544"
      ]
     },
     "execution_count": 202,
     "metadata": {},
     "output_type": "execute_result"
    }
   ],
   "source": [
    "df['Renewal_Demand'].mean()"
   ]
  },
  {
   "cell_type": "code",
   "execution_count": 203,
   "id": "b4c772ef",
   "metadata": {},
   "outputs": [
    {
     "data": {
      "text/plain": [
       "3065.5006656094965"
      ]
     },
     "execution_count": 203,
     "metadata": {},
     "output_type": "execute_result"
    }
   ],
   "source": [
    "df['precos_otimizados'].mean()"
   ]
  },
  {
   "cell_type": "code",
   "execution_count": 40,
   "id": "0108130d",
   "metadata": {},
   "outputs": [],
   "source": [
    "#relatorio_otim(df)"
   ]
  },
  {
   "cell_type": "markdown",
   "id": "11fa579c",
   "metadata": {},
   "source": [
    "#criando a função"
   ]
  },
  {
   "cell_type": "code",
   "execution_count": 131,
   "id": "d04c3892",
   "metadata": {
    "scrolled": true
   },
   "outputs": [
    {
     "name": "stdout",
     "output_type": "stream",
     "text": [
      "Apolices Ofertadas: 1473\n",
      "Apolices Renovadas: 750.0\n",
      "premio_ofertado: 3065.5\n",
      "retencao_estimada : 50.95\n",
      "premio_esperado\" : 2408.03\n",
      "risco_ofertado\" : 1767.81\n",
      "risco_esperado\" : 1353.95\n",
      "comis_ofertado\" : 15.94\n",
      "comis_esperado\" : 15.83\n",
      "sp_ofertado\" : 57.67\n",
      "sp_esperado\" : 56.23\n",
      "ic_ofertado\" : 101.1\n",
      "ic_esperado\" : 99.55\n",
      "premio_anterior_ofer\" : 2893.83\n",
      "premio_anterior_w\" : 2615.18\n"
     ]
    }
   ],
   "source": [
    "df_relatorio_otim = df.copy()\n",
    "\n",
    "\n",
    "df_relatorio_otim['precos_otimizados'] = df_relatorio_otim['precos_otimizados']\n",
    "\n",
    "\n",
    "df_relatorio_otim['batente_otim']=np.round(df_relatorio_otim['precos_otimizados']/df_relatorio_otim['premio'],2)\n",
    "df_relatorio_otim['batente_otim_prem_ant']=np.round(df_relatorio_otim['precos_otimizados']/df_relatorio_otim['premio_anterior'],2)\n",
    "\n",
    "\n",
    "\n",
    "df_relatorio_otim['retencao_otimizada'] = calcular_retencao(df_relatorio_otim['precos_otimizados'],X1,X2,X3,X4,X5,X6,X7,X8,X9,X10,X11,X12,X13,X14,X15,X16,X17,X18,X19,X20,X21,X22,X23,X24,X25,X26)\n",
    "\n",
    "\n",
    "df_relatorio_otim[\"per_com_pct\"] = df_relatorio_otim['per_com']/100\n",
    "df_relatorio_otim[\"premio_prob\"] = df_relatorio_otim[\"retencao_otimizada\"]*df_relatorio_otim[\"precos_otimizados\"]\n",
    "df_relatorio_otim[\"Act_cost_prob\"] = df_relatorio_otim[\"retencao_otimizada\"]*df_relatorio_otim[\"Act_cost\"]                                                                \n",
    "df_relatorio_otim[\"comissao_valor\"] = df_relatorio_otim[\"per_com_pct\"] *df_relatorio_otim[\"precos_otimizados\"]\n",
    "df_relatorio_otim[\"comissao_valor_prob\"] = df_relatorio_otim[\"per_com_pct\"]*df_relatorio_otim[\"premio_prob\"]\n",
    "\n",
    "df_relatorio_otim[\"premio_anterior_prob\"] = df_relatorio_otim[\"retencao_otimizada\"]*df_relatorio_otim[\"premio_anterior\"]\n",
    "\n",
    "comis_ofertado    = np.sum(df_relatorio_otim[\"comissao_valor\"])/np.sum(df_relatorio_otim[\"precos_otimizados\"])\n",
    "comis_esperado    = np.sum(df_relatorio_otim[\"comissao_valor_prob\"])/np.sum(df_relatorio_otim[\"premio_prob\"])\n",
    "\n",
    "premio_anterior_ofer    = np.mean(df_relatorio_otim[\"premio_anterior\"])\n",
    "premio_anterior_w   = np.sum(df_relatorio_otim[\"premio_anterior_prob\"])/np.sum(df_relatorio_otim[\"retencao_otimizada\"])\n",
    "\n",
    "\n",
    "apolice_ofertada  = np.round(df_relatorio_otim.shape[0],0)\n",
    "apolice_estimada  = np.round(np.sum(df_relatorio_otim[\"retencao_otimizada\"]),0)\n",
    "premio_ofertado   = np.mean(df_relatorio_otim[\"precos_otimizados\"])\n",
    "retencao_estimada = np.mean(df_relatorio_otim[\"retencao_otimizada\"])\n",
    "premio_esperado   = np.sum(df_relatorio_otim[\"premio_prob\"])/np.sum(df_relatorio_otim[\"retencao_otimizada\"])\n",
    "risco_ofertado    = np.mean(df_relatorio_otim[\"Act_cost\"])\n",
    "risco_esperado    = np.sum(df_relatorio_otim[\"Act_cost_prob\"])/np.sum(df_relatorio_otim[\"retencao_otimizada\"])\n",
    "sp_ofertado       = np.sum(df_relatorio_otim[\"Act_cost\"])/np.sum(df_relatorio_otim[\"precos_otimizados\"])\n",
    "sp_esperado       = np.sum(df_relatorio_otim[\"Act_cost_prob\"])/np.sum(df_relatorio_otim[\"premio_prob\"])\n",
    "comis_ofertado    = np.sum(df_relatorio_otim[\"comissao_valor\"])/np.sum(df_relatorio_otim[\"precos_otimizados\"])\n",
    "comis_esperado    = np.sum(df_relatorio_otim[\"comissao_valor_prob\"])/np.sum(df_relatorio_otim[\"premio_prob\"])\n",
    "ic_ofertado       =  sp_ofertado  +  comis_ofertado + 0.2749\n",
    "ic_esperado       =  sp_esperado  +  comis_esperado + 0.2749\n",
    "\n",
    "\n",
    "print('Apolices Ofertadas: %s' % apolice_ofertada)\n",
    "print('Apolices Renovadas: %s' % apolice_estimada)\n",
    "print('premio_ofertado: %s' % np.round(premio_ofertado,2))\n",
    "print('retencao_estimada : %s' % np.round(retencao_estimada*100,2))\n",
    "print('premio_esperado\" : %s'  %np.round( premio_esperado,2))\n",
    "print('risco_ofertado\" : %s'  %  np.round(risco_ofertado,2))\n",
    "print('risco_esperado\" : %s'  %  np.round(risco_esperado,2))\n",
    "\n",
    "print('comis_ofertado\" : %s'  % np.round(comis_ofertado*100,2))\n",
    "print('comis_esperado\" : %s'  % np.round(comis_esperado*100,2))\n",
    "\n",
    "print('sp_ofertado\" : %s'  % np.round(sp_ofertado*100,2))\n",
    "print('sp_esperado\" : %s'  % np.round(sp_esperado*100,2))\n",
    "print('ic_ofertado\" : %s'  % np.round(ic_ofertado*100,2))\n",
    "print('ic_esperado\" : %s'  % np.round(ic_esperado*100,2))\n",
    "\n",
    "print('premio_anterior_ofer\" : %s'  %np.round( premio_anterior_ofer,2))\n",
    "print('premio_anterior_w\" : %s'  %np.round( premio_anterior_w,2))"
   ]
  },
  {
   "cell_type": "code",
   "execution_count": 132,
   "id": "55d2dcab",
   "metadata": {},
   "outputs": [
    {
     "data": {
      "text/plain": [
       "3065.5006656094965"
      ]
     },
     "execution_count": 132,
     "metadata": {},
     "output_type": "execute_result"
    }
   ],
   "source": [
    "df_relatorio_otim['precos_otimizados'].mean()"
   ]
  },
  {
   "cell_type": "code",
   "execution_count": 133,
   "id": "687cfc9b",
   "metadata": {},
   "outputs": [
    {
     "data": {
      "text/plain": [
       "count    1473.000000\n",
       "mean        1.068853\n",
       "std         0.354766\n",
       "min         0.520000\n",
       "25%         0.780000\n",
       "50%         0.950000\n",
       "75%         1.270000\n",
       "max         1.800000\n",
       "Name: batente_otim_prem_ant, dtype: float64"
      ]
     },
     "execution_count": 133,
     "metadata": {},
     "output_type": "execute_result"
    }
   ],
   "source": [
    "df_relatorio_otim['batente_otim_prem_ant'].describe()"
   ]
  },
  {
   "cell_type": "code",
   "execution_count": 134,
   "id": "1e6b382a",
   "metadata": {},
   "outputs": [
    {
     "data": {
      "text/plain": [
       "count    1473.000000\n",
       "mean        1.006572\n",
       "std         0.051566\n",
       "min         0.900000\n",
       "25%         0.970000\n",
       "50%         1.000000\n",
       "75%         1.050000\n",
       "max         1.100000\n",
       "Name: batente_otim, dtype: float64"
      ]
     },
     "execution_count": 134,
     "metadata": {},
     "output_type": "execute_result"
    }
   ],
   "source": [
    "df_relatorio_otim['batente_otim'].describe()"
   ]
  },
  {
   "cell_type": "code",
   "execution_count": 135,
   "id": "f9aae5eb",
   "metadata": {},
   "outputs": [],
   "source": [
    "analitico_202410_ajustado=df_relatorio_otim\n",
    "analitico_202410_ajustado.drop(['Renewal_Demand','retencao_otimizada1'],axis='columns', inplace=True)\n",
    "analitico_202410_ajustado.to_csv(r'analitico_202410_ajustado.csv', sep='|' ,header='true')"
   ]
  },
  {
   "cell_type": "code",
   "execution_count": null,
   "id": "361bc96c",
   "metadata": {},
   "outputs": [],
   "source": []
  }
 ],
 "metadata": {
  "kernelspec": {
   "display_name": "Python 3 (ipykernel)",
   "language": "python",
   "name": "python3"
  },
  "language_info": {
   "codemirror_mode": {
    "name": "ipython",
    "version": 3
   },
   "file_extension": ".py",
   "mimetype": "text/x-python",
   "name": "python",
   "nbconvert_exporter": "python",
   "pygments_lexer": "ipython3",
   "version": "3.10.9"
  }
 },
 "nbformat": 4,
 "nbformat_minor": 5
}
