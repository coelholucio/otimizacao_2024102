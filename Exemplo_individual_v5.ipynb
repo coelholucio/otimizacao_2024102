{
 "cells": [
  {
   "cell_type": "code",
   "execution_count": 1,
   "id": "4317d284",
   "metadata": {},
   "outputs": [],
   "source": [
    "import pandas as pd\n",
    "import seaborn as sns\n",
    "import matplotlib.pyplot as plt\n",
    "import numpy as np\n",
    "\n",
    "from scipy.optimize import minimize\n",
    "from scipy.optimize import differential_evolution\n",
    "\n",
    "from sklearn.preprocessing import LabelEncoder\n",
    "from sklearn.model_selection import train_test_split\n",
    "from sklearn import metrics\n",
    "from sklearn.preprocessing import StandardScaler\n",
    "\n",
    "from sklearn.tree import DecisionTreeRegressor\n",
    "from sklearn.ensemble import RandomForestRegressor\n",
    "import xgboost as xgb\n",
    "from sklearn.metrics import mean_squared_error, mean_absolute_error, r2_score\n",
    "from sklearn.linear_model import LinearRegression\n",
    "\n",
    "from numpy import asarray\n",
    "from sklearn.preprocessing import OrdinalEncoder\n",
    "\n",
    "import warnings\n",
    "warnings.filterwarnings('ignore')\n"
   ]
  },
  {
   "cell_type": "markdown",
   "id": "a5e0e9c4",
   "metadata": {},
   "source": [
    "## modelagem GLM"
   ]
  },
  {
   "cell_type": "code",
   "execution_count": 6,
   "id": "628b03c6",
   "metadata": {},
   "outputs": [
    {
     "name": "stdout",
     "output_type": "stream",
     "text": [
      "CPU times: total: 6.23 s\n",
      "Wall time: 6.62 s\n"
     ]
    },
    {
     "data": {
      "text/plain": [
       "(575924, 105)"
      ]
     },
     "execution_count": 6,
     "metadata": {},
     "output_type": "execute_result"
    }
   ],
   "source": [
    "%%time\n",
    "df_mod_mp_feb23jul24_v2 = pd.read_csv(\"C://Flavio/Projeto Otimizacao/Modelo Renovacao/df_mod_mp_feb23jul24_v2.csv\",\n",
    "                     encoding='latin-1',\n",
    "                     delimiter='|')\n",
    "\n",
    "df_mod_mp_feb23jul24_v2.shape"
   ]
  },
  {
   "cell_type": "markdown",
   "id": "c798bf0a",
   "metadata": {},
   "source": [
    "## Prepara base de modelagem glm"
   ]
  },
  {
   "cell_type": "code",
   "execution_count": 4,
   "id": "b717c29c",
   "metadata": {},
   "outputs": [],
   "source": [
    "df_mod_filtered=df_mod_mp_feb23jul24_v2[[\"premio_ofertado\",\"premio_total\", 'premio_creserva','premio_demais_cob',\"teste_validacao\",\"ind_renovacao\",\"MD_sexo\",\"cod_corr\",\n",
    "                                \"Cod_End\",\"MD_sin_5a_cas\",\"MD_tempo_casa_2\",\"MD_idade_veic\",\"MD_faixa_IScas\",\n",
    "                                \"anomes_dt_ter\" ,\"MD_idade\",\"per_com\", \"RNS_Casco_calc\",\"MD_menor26\",\"UF\",\"Renovacao_ant\",\n",
    "                                \"fx_ir_12m\",\"is_casco_ofer\",\"classe_bonus\",\"MD_fator_ajuste\",\"MD_capac\",\"md_categoria\",\n",
    "                                \"MD_comb\",\"MD_qtd_assis_cpf\", \"idade_ult_RNS\",\"canal\",\"MD_tipo_renov\",'FABRICA','MD_est_civil',\n",
    "                                'peso','Grupo_veiculo_new','vigencia',\n",
    "                                'Risco_PP_mod', 'Risco_PT_mod','Risco_RF_mod','Risco_DM_mod','Risco_AS_mod',\n",
    "                                'Risco_DC_mod' ,'Risco_DMO_mod']]\n",
    "\n",
    "df_mod_filtered['DA_emissao'] =0.2349\n",
    "df_mod_filtered['DA_producao'] =0.2749\n",
    "df_mod_filtered['risco_dmais_cob'] =df_mod_filtered['premio_demais_cob']*0.2627*1.4\n",
    "df_mod_filtered['premio_anterior'] =df_mod_filtered['premio_total']\n",
    "df_mod_filtered['Act_cost']  = df_mod_filtered['Risco_PP_mod'] + df_mod_filtered['Risco_PT_mod'] + df_mod_filtered['Risco_RF_mod']+ df_mod_filtered['Risco_DM_mod']+ df_mod_filtered['Risco_AS_mod'] + df_mod_filtered['Risco_DC_mod'] +df_mod_filtered['Risco_DMO_mod'] + df_mod_filtered['risco_dmais_cob']\n",
    "df_mod_filtered['Premio_IC100']  = df_mod_filtered['Act_cost']/(1-df_mod_filtered['per_com']/100-df_mod_filtered['DA_producao'] )\n",
    "df_mod_filtered[\"premio\"] = df_mod_filtered[\"premio_ofertado\"]"
   ]
  },
  {
   "cell_type": "code",
   "execution_count": 5,
   "id": "e6f783f7",
   "metadata": {},
   "outputs": [
    {
     "data": {
      "text/plain": [
       "(175137, 50)"
      ]
     },
     "execution_count": 5,
     "metadata": {},
     "output_type": "execute_result"
    }
   ],
   "source": [
    "df_mod_filtered = df_mod_filtered[df_mod_filtered['per_com'].notna()]\n",
    "df_mod_filtered = df_mod_filtered[df_mod_filtered['FABRICA'].notna()]\n",
    "df_mod_filtered = df_mod_filtered[df_mod_filtered['MD_est_civil'].notna()]\n",
    "df_mod_filtered = df_mod_filtered[df_mod_filtered['Renovacao_ant'].notna()]\n",
    "df_mod_filtered = df_mod_filtered.query('premio_total !=0')\n",
    "df_mod_filtered = df_mod_filtered.query('vigencia == \"Anual\"')\n",
    "df_mod_filtered = df_mod_filtered.query('premio_creserva >= 0')\n",
    "df_mod_filtered = df_mod_filtered[~df_mod_filtered['anomes_dt_ter'].isin([202310,202309,202308,202302,202402])]\n",
    "df_mod_filtered = df_mod_filtered.query('premio_total >100')\n",
    "df_mod_filtered = df_mod_filtered.query('premio_ofertado >100')\n",
    "df_mod_filtered = df_mod_filtered.query('MD_idade !=\"ERRO\"')\n",
    "df_mod_filtered = df_mod_filtered.query('is_casco_ofer > 0')\n",
    "df_mod_filtered = df_mod_filtered[(df_mod_filtered['per_com']>0)]\n",
    "df_mod_filtered = df_mod_filtered[(df_mod_filtered['per_com']<50)]\n",
    "df_mod_filtered = df_mod_filtered[(df_mod_filtered.premio_ofertado/df_mod_filtered.premio_total <=2.3)]\n",
    "df_mod_filtered = df_mod_filtered[(df_mod_filtered.premio_ofertado/df_mod_filtered.premio_total >=0.7)]\n",
    "df_mod_filtered = df_mod_filtered[(df_mod_filtered.UF != \"SP\") | (~df_mod_filtered.Grupo_veiculo_new.isin([\"Toyota Hilux CD\",\"Toyota Hilux CS\",\"Toyota Hilux SW4\"]))]\n",
    "\n",
    "df_mod_filtered.shape"
   ]
  },
  {
   "cell_type": "code",
   "execution_count": 8,
   "id": "a4b127ca",
   "metadata": {},
   "outputs": [],
   "source": [
    "#df_mod_filtered['ind_renovacao'].describe()"
   ]
  },
  {
   "cell_type": "code",
   "execution_count": 9,
   "id": "ce9c2092",
   "metadata": {},
   "outputs": [],
   "source": [
    "#print(df_mod_filtered['classe_bonus'].value_counts(ascending=False))"
   ]
  },
  {
   "cell_type": "code",
   "execution_count": 10,
   "id": "7abcd0c0",
   "metadata": {},
   "outputs": [],
   "source": [
    "df_mod=df_mod_filtered.copy()"
   ]
  },
  {
   "cell_type": "code",
   "execution_count": 11,
   "id": "687abc4a",
   "metadata": {
    "scrolled": true
   },
   "outputs": [],
   "source": [
    "def categorizar(df):\n",
    "    \n",
    "    df['classe_bonus_bin'] = df['classe_bonus'].apply(lambda x: '00'  if x == 0 else 'Demais')   \n",
    "    \n",
    "    df['MD_sexo_bin'] = df['MD_sexo'].map({'Masculino': 'Masculino', \n",
    "                                 'Feminino': 'Feminino', \n",
    "                                  'ERRO': 'Masculino'}).astype(object)\n",
    "    \n",
    "    df['MD_sexo_2bin'] = df['MD_sexo'].map({'Masculino': 1, \n",
    "                                 'Feminino': 0, \n",
    "                                  'ERRO': 1}).astype(int)\n",
    "\n",
    "\n",
    "    df['fx_ir_12m_bin'] = df['fx_ir_12m'].apply(lambda x: '01_00_20' if x == '01 - 00-<=020' else\n",
    "                                                          '02_20_40' if x == '02 - 20-<=040' else\n",
    "                                                          '03_40_60' if x == '03 - 40-<=060' else\n",
    "                                                          '04_60_80' if x == '04 - 60-<=080' else\n",
    "                                                          '05_80_100' if x == '05 - 80-<=100' else\n",
    "                                                          '02_20_40' if x == 'NI'           else 'ERROR')\n",
    "\n",
    "  \n",
    "    df['MD_comb_bin'] = df['MD_comb'].apply(lambda x: 'Gasolina' if x == 'Gasolina'  else 'Demais')\n",
    "\n",
    "    df['canal_bin'] =  df['canal'].apply(lambda x: 'Corretor_Mais' if x == 'Corretor Mais' else \n",
    "                                                   'Corretor_Mais' if x == 'CorretorMais'\n",
    "                                                                   else    'Demais')\n",
    "   \n",
    "    df['per_com_bin'] = df['per_com'].apply(lambda x: 'p_1_10' if x < 10 else\n",
    "                                                      'p_10_35' if x >= 10 else 'ERROR')    \n",
    "\n",
    "\n",
    "\n",
    "    df['idade_ult_RNS_bin'] = df['idade_ult_RNS'].apply(lambda x:     'Sem_Sinistro' if x == 'Sem Sinistro' else\n",
    "                                                                      '01_05_anos' if x == '01 ano' else\n",
    "                                                                      '01_05_anos' if x == '02 anos' else\n",
    "                                                                      '01_05_anos' if x == '03 anos' else\n",
    "                                                                      '01_05_anos' if x == '04 anos' else\n",
    "                                                                      '01_05_anos' if x == '05 anos' else '06_inf')\n",
    "\n",
    "\n",
    "    df['UF_bin'] = df['UF'].apply(lambda x:     'AL_CE_RS'  if x == 'AL' else\n",
    "                                                'AL_CE_RS'  if x == 'CE' else\n",
    "                                                'AL_CE_RS'  if x == 'RS' else \n",
    "                                                'AP_DF_ES_PA_PB_RN_SC' if x == 'AP' else \n",
    "                                                'AP_DF_ES_PA_PB_RN_SC' if x == 'DF' else \n",
    "                                                'AP_DF_ES_PA_PB_RN_SC' if x == 'ES' else \n",
    "                                                'AP_DF_ES_PA_PB_RN_SC' if x == 'PA' else \n",
    "                                                'AP_DF_ES_PA_PB_RN_SC' if x == 'PB' else \n",
    "                                                'AP_DF_ES_PA_PB_RN_SC' if x == 'RN' else \n",
    "                                                'AP_DF_ES_PA_PB_RN_SC' if x == 'SC' else \n",
    "                                                'GO_MA_MG'             if x == 'GO' else \n",
    "                                                'GO_MA_MG'             if x == 'MA' else \n",
    "                                                'GO_MA_MG'             if x == 'MG' else \n",
    "                                                'MT_PR'                if x == 'MT' else\n",
    "                                                'MT_PR'                if x == 'PR' else \n",
    "                                                'RJ'                   if x == 'RJ' else  \n",
    "                                                'Demais')\n",
    "\n",
    "    df['md_tipo_renov_ant_bin'] = df['Renovacao_ant'].apply(lambda x:     '1_SeguroNovo'       if x == '1 - Seguro Novo'  else\n",
    "                                                                          '2_RenovPropria'     if x == '2 - Renov MAPFRE sem sinistro'   else\n",
    "                                                                          '2_RenovPropria'     if x == '3 - Renov MAPFRE com sinistro'   else\n",
    "                                                                          '3_RenovCongenere'   if x == '4 - Renov Congenere sem sinistro' else\n",
    "                                                                          '3_RenovCongenere'   if x == '5 - Renov Congenere com sinistro' else\n",
    "                                                                          '3_RenovCongenere'   if x == '6 - Renov BB sem sinistro' else\n",
    "                                                                          '3_RenovCongenere'   if x == '7 - Renov BB com sinistro' else  \n",
    "                                                                          '2_RenovPropria')\n",
    "  \n",
    "    df['MD_tipo_renov_bin'] = df['MD_tipo_renov'].apply(lambda x:          '2_RenovPropria_sem_sin'     if x == '2 - Renov MAPFRE sem sinistro'   else\n",
    "                                                                           '3_RenovPropria_com_sin'     if x == '3 - Renov MAPFRE com sinistro'   else\n",
    "                                                                           'Error')\n",
    "   \n",
    "     \n",
    "    df['Cod_End_bin'] = df['Cod_End'].apply(lambda x: '13509'  if x == 13509 else\n",
    "                                                      '13509'  if x == 50007 else\n",
    "                                                      '13509'  if x == 50100 else 'Demais')   \n",
    "\n",
    "    df['MD_capac_bin'] = df['MD_capac'].apply(lambda x: '5'  if x == 5  else 'Demais')  \n",
    "\n",
    "\n",
    "\n",
    "    df['fator_ajuste_bin'] = df['MD_fator_ajuste'].apply(lambda x: 'f_80_101'    if x < 101 else\n",
    "                                                                   'f_101_120'   if x >= 101  else \n",
    "                                                                   'f_80_101')   \n",
    "    \n",
    "    return df"
   ]
  },
  {
   "cell_type": "code",
   "execution_count": 12,
   "id": "6be2ddc6",
   "metadata": {},
   "outputs": [],
   "source": [
    "df_mod = categorizar(df_mod)"
   ]
  },
  {
   "cell_type": "code",
   "execution_count": 13,
   "id": "5772a3fe",
   "metadata": {},
   "outputs": [
    {
     "data": {
      "text/plain": [
       "(291023, 64)"
      ]
     },
     "execution_count": 13,
     "metadata": {},
     "output_type": "execute_result"
    }
   ],
   "source": [
    "df_train = df_mod.query('teste_validacao == \"Trein\"')\n",
    "df_train.shape"
   ]
  },
  {
   "cell_type": "code",
   "execution_count": 14,
   "id": "76a01b69",
   "metadata": {},
   "outputs": [],
   "source": [
    "#print(df_train['fator_ajuste_bin'].value_counts(ascending=False)) "
   ]
  },
  {
   "cell_type": "code",
   "execution_count": 16,
   "id": "eadcfe51",
   "metadata": {},
   "outputs": [],
   "source": [
    "df_num = df_train[['premio', 'per_com', 'MD_tempo_casa_2', 'is_casco_ofer','Premio_IC100','premio_anterior']]\n",
    "df_cat = df_train[['canal_bin', 'Cod_End_bin', 'fator_ajuste_bin', 'per_com_bin', 'classe_bonus_bin', 'UF_bin', 'MD_comb_bin', 'md_tipo_renov_ant_bin', 'fx_ir_12m_bin', 'MD_tipo_renov_bin','idade_ult_RNS_bin']]\n",
    "df_cat_y = df_train[['ind_renovacao']]\n",
    "df_cat_glm=pd.get_dummies(df_cat)\n",
    "df_cat_glm=pd.concat([df_cat_y,df_num, df_cat_glm],axis=1)"
   ]
  },
  {
   "cell_type": "code",
   "execution_count": 17,
   "id": "b9c248c1",
   "metadata": {
    "scrolled": true
   },
   "outputs": [],
   "source": [
    "#df_cat_glm.columns.to_list()"
   ]
  },
  {
   "cell_type": "code",
   "execution_count": 18,
   "id": "3f685fb1",
   "metadata": {},
   "outputs": [
    {
     "name": "stdout",
     "output_type": "stream",
     "text": [
      "Optimization terminated successfully.\n",
      "         Current function value: 0.562651\n",
      "         Iterations 6\n"
     ]
    },
    {
     "data": {
      "text/html": [
       "<table class=\"simpletable\">\n",
       "<caption>Logit Regression Results</caption>\n",
       "<tr>\n",
       "  <th>Dep. Variable:</th>     <td>ind_renovacao</td>  <th>  No. Observations:  </th>   <td>291023</td>   \n",
       "</tr>\n",
       "<tr>\n",
       "  <th>Model:</th>                 <td>Logit</td>      <th>  Df Residuals:      </th>   <td>290996</td>   \n",
       "</tr>\n",
       "<tr>\n",
       "  <th>Method:</th>                 <td>MLE</td>       <th>  Df Model:          </th>   <td>    26</td>   \n",
       "</tr>\n",
       "<tr>\n",
       "  <th>Date:</th>            <td>Sat, 17 Aug 2024</td> <th>  Pseudo R-squ.:     </th>   <td>0.1855</td>   \n",
       "</tr>\n",
       "<tr>\n",
       "  <th>Time:</th>                <td>10:52:17</td>     <th>  Log-Likelihood:    </th> <td>-1.6374e+05</td>\n",
       "</tr>\n",
       "<tr>\n",
       "  <th>converged:</th>             <td>True</td>       <th>  LL-Null:           </th> <td>-2.0104e+05</td>\n",
       "</tr>\n",
       "<tr>\n",
       "  <th>Covariance Type:</th>     <td>nonrobust</td>    <th>  LLR p-value:       </th>   <td> 0.000</td>   \n",
       "</tr>\n",
       "</table>\n",
       "<table class=\"simpletable\">\n",
       "<tr>\n",
       "                        <td></td>                          <th>coef</th>     <th>std err</th>      <th>z</th>      <th>P>|z|</th>  <th>[0.025</th>    <th>0.975]</th>  \n",
       "</tr>\n",
       "<tr>\n",
       "  <th>Intercept</th>                                    <td>    3.3458</td> <td>    0.084</td> <td>   39.759</td> <td> 0.000</td> <td>    3.181</td> <td>    3.511</td>\n",
       "</tr>\n",
       "<tr>\n",
       "  <th>np.log(premio)</th>                               <td>   -0.4638</td> <td>    0.010</td> <td>  -44.612</td> <td> 0.000</td> <td>   -0.484</td> <td>   -0.443</td>\n",
       "</tr>\n",
       "<tr>\n",
       "  <th>np.divide(premio, is_casco_ofer)</th>             <td>   -5.1803</td> <td>    0.220</td> <td>  -23.571</td> <td> 0.000</td> <td>   -5.611</td> <td>   -4.750</td>\n",
       "</tr>\n",
       "<tr>\n",
       "  <th>np.log(np.divide(premio, Premio_IC100))</th>      <td>   -1.0904</td> <td>    0.016</td> <td>  -69.655</td> <td> 0.000</td> <td>   -1.121</td> <td>   -1.060</td>\n",
       "</tr>\n",
       "<tr>\n",
       "  <th>np.log((np.divide(premio, premio_anterior)))</th> <td>   -1.2646</td> <td>    0.021</td> <td>  -61.392</td> <td> 0.000</td> <td>   -1.305</td> <td>   -1.224</td>\n",
       "</tr>\n",
       "<tr>\n",
       "  <th>np.log(MD_tempo_casa_2 + 1)</th>                  <td>    0.2280</td> <td>    0.012</td> <td>   18.379</td> <td> 0.000</td> <td>    0.204</td> <td>    0.252</td>\n",
       "</tr>\n",
       "<tr>\n",
       "  <th>per_com</th>                                      <td>    0.0137</td> <td>    0.001</td> <td>   15.490</td> <td> 0.000</td> <td>    0.012</td> <td>    0.015</td>\n",
       "</tr>\n",
       "<tr>\n",
       "  <th>per_com_bin_p_1_10</th>                           <td>    0.1566</td> <td>    0.026</td> <td>    6.130</td> <td> 0.000</td> <td>    0.106</td> <td>    0.207</td>\n",
       "</tr>\n",
       "<tr>\n",
       "  <th>canal_bin_Corretor_Mais</th>                      <td>    0.0576</td> <td>    0.011</td> <td>    5.419</td> <td> 0.000</td> <td>    0.037</td> <td>    0.078</td>\n",
       "</tr>\n",
       "<tr>\n",
       "  <th>Cod_End_bin_13509</th>                            <td>   -0.2318</td> <td>    0.015</td> <td>  -15.792</td> <td> 0.000</td> <td>   -0.261</td> <td>   -0.203</td>\n",
       "</tr>\n",
       "<tr>\n",
       "  <th>fator_ajuste_bin_f_101_120</th>                   <td>    0.1600</td> <td>    0.030</td> <td>    5.381</td> <td> 0.000</td> <td>    0.102</td> <td>    0.218</td>\n",
       "</tr>\n",
       "<tr>\n",
       "  <th>classe_bonus_bin_00</th>                          <td>   -0.2332</td> <td>    0.044</td> <td>   -5.286</td> <td> 0.000</td> <td>   -0.320</td> <td>   -0.147</td>\n",
       "</tr>\n",
       "<tr>\n",
       "  <th>UF_bin_AL_CE_RS</th>                              <td>   -0.2319</td> <td>    0.014</td> <td>  -16.544</td> <td> 0.000</td> <td>   -0.259</td> <td>   -0.204</td>\n",
       "</tr>\n",
       "<tr>\n",
       "  <th>UF_bin_AP_DF_ES_PA_PB_RN_SC</th>                  <td>   -0.2498</td> <td>    0.014</td> <td>  -17.437</td> <td> 0.000</td> <td>   -0.278</td> <td>   -0.222</td>\n",
       "</tr>\n",
       "<tr>\n",
       "  <th>UF_bin_GO_MA_MG</th>                              <td>   -0.0697</td> <td>    0.015</td> <td>   -4.563</td> <td> 0.000</td> <td>   -0.100</td> <td>   -0.040</td>\n",
       "</tr>\n",
       "<tr>\n",
       "  <th>UF_bin_MT_PR</th>                                 <td>   -0.1227</td> <td>    0.015</td> <td>   -8.341</td> <td> 0.000</td> <td>   -0.152</td> <td>   -0.094</td>\n",
       "</tr>\n",
       "<tr>\n",
       "  <th>UF_bin_RJ</th>                                    <td>    0.2475</td> <td>    0.021</td> <td>   11.713</td> <td> 0.000</td> <td>    0.206</td> <td>    0.289</td>\n",
       "</tr>\n",
       "<tr>\n",
       "  <th>MD_comb_bin_Gasolina</th>                         <td>    0.3917</td> <td>    0.020</td> <td>   19.642</td> <td> 0.000</td> <td>    0.353</td> <td>    0.431</td>\n",
       "</tr>\n",
       "<tr>\n",
       "  <th>md_tipo_renov_ant_bin_1_SeguroNovo</th>           <td>   -0.4536</td> <td>    0.017</td> <td>  -26.046</td> <td> 0.000</td> <td>   -0.488</td> <td>   -0.419</td>\n",
       "</tr>\n",
       "<tr>\n",
       "  <th>md_tipo_renov_ant_bin_3_RenovCongenere</th>       <td>   -0.1999</td> <td>    0.013</td> <td>  -14.812</td> <td> 0.000</td> <td>   -0.226</td> <td>   -0.173</td>\n",
       "</tr>\n",
       "<tr>\n",
       "  <th>fx_ir_12m_bin_01_00_20</th>                       <td>   -0.7509</td> <td>    0.018</td> <td>  -41.872</td> <td> 0.000</td> <td>   -0.786</td> <td>   -0.716</td>\n",
       "</tr>\n",
       "<tr>\n",
       "  <th>fx_ir_12m_bin_03_40_60</th>                       <td>    0.4693</td> <td>    0.010</td> <td>   45.245</td> <td> 0.000</td> <td>    0.449</td> <td>    0.490</td>\n",
       "</tr>\n",
       "<tr>\n",
       "  <th>fx_ir_12m_bin_04_60_80</th>                       <td>    1.1327</td> <td>    0.014</td> <td>   81.310</td> <td> 0.000</td> <td>    1.105</td> <td>    1.160</td>\n",
       "</tr>\n",
       "<tr>\n",
       "  <th>fx_ir_12m_bin_05_80_100</th>                      <td>    2.0154</td> <td>    0.025</td> <td>   79.114</td> <td> 0.000</td> <td>    1.965</td> <td>    2.065</td>\n",
       "</tr>\n",
       "<tr>\n",
       "  <th>MD_tipo_renov_bin_3_RenovPropria_com_sin</th>     <td>   -0.1554</td> <td>    0.022</td> <td>   -7.108</td> <td> 0.000</td> <td>   -0.198</td> <td>   -0.113</td>\n",
       "</tr>\n",
       "<tr>\n",
       "  <th>idade_ult_RNS_bin_01_05_anos</th>                 <td>   -0.5014</td> <td>    0.016</td> <td>  -31.686</td> <td> 0.000</td> <td>   -0.532</td> <td>   -0.470</td>\n",
       "</tr>\n",
       "<tr>\n",
       "  <th>idade_ult_RNS_bin_06_inf</th>                     <td>   -0.4664</td> <td>    0.013</td> <td>  -34.636</td> <td> 0.000</td> <td>   -0.493</td> <td>   -0.440</td>\n",
       "</tr>\n",
       "</table>"
      ],
      "text/plain": [
       "<class 'statsmodels.iolib.summary.Summary'>\n",
       "\"\"\"\n",
       "                           Logit Regression Results                           \n",
       "==============================================================================\n",
       "Dep. Variable:          ind_renovacao   No. Observations:               291023\n",
       "Model:                          Logit   Df Residuals:                   290996\n",
       "Method:                           MLE   Df Model:                           26\n",
       "Date:                Sat, 17 Aug 2024   Pseudo R-squ.:                  0.1855\n",
       "Time:                        10:52:17   Log-Likelihood:            -1.6374e+05\n",
       "converged:                       True   LL-Null:                   -2.0104e+05\n",
       "Covariance Type:            nonrobust   LLR p-value:                     0.000\n",
       "================================================================================================================\n",
       "                                                   coef    std err          z      P>|z|      [0.025      0.975]\n",
       "----------------------------------------------------------------------------------------------------------------\n",
       "Intercept                                        3.3458      0.084     39.759      0.000       3.181       3.511\n",
       "np.log(premio)                                  -0.4638      0.010    -44.612      0.000      -0.484      -0.443\n",
       "np.divide(premio, is_casco_ofer)                -5.1803      0.220    -23.571      0.000      -5.611      -4.750\n",
       "np.log(np.divide(premio, Premio_IC100))         -1.0904      0.016    -69.655      0.000      -1.121      -1.060\n",
       "np.log((np.divide(premio, premio_anterior)))    -1.2646      0.021    -61.392      0.000      -1.305      -1.224\n",
       "np.log(MD_tempo_casa_2 + 1)                      0.2280      0.012     18.379      0.000       0.204       0.252\n",
       "per_com                                          0.0137      0.001     15.490      0.000       0.012       0.015\n",
       "per_com_bin_p_1_10                               0.1566      0.026      6.130      0.000       0.106       0.207\n",
       "canal_bin_Corretor_Mais                          0.0576      0.011      5.419      0.000       0.037       0.078\n",
       "Cod_End_bin_13509                               -0.2318      0.015    -15.792      0.000      -0.261      -0.203\n",
       "fator_ajuste_bin_f_101_120                       0.1600      0.030      5.381      0.000       0.102       0.218\n",
       "classe_bonus_bin_00                             -0.2332      0.044     -5.286      0.000      -0.320      -0.147\n",
       "UF_bin_AL_CE_RS                                 -0.2319      0.014    -16.544      0.000      -0.259      -0.204\n",
       "UF_bin_AP_DF_ES_PA_PB_RN_SC                     -0.2498      0.014    -17.437      0.000      -0.278      -0.222\n",
       "UF_bin_GO_MA_MG                                 -0.0697      0.015     -4.563      0.000      -0.100      -0.040\n",
       "UF_bin_MT_PR                                    -0.1227      0.015     -8.341      0.000      -0.152      -0.094\n",
       "UF_bin_RJ                                        0.2475      0.021     11.713      0.000       0.206       0.289\n",
       "MD_comb_bin_Gasolina                             0.3917      0.020     19.642      0.000       0.353       0.431\n",
       "md_tipo_renov_ant_bin_1_SeguroNovo              -0.4536      0.017    -26.046      0.000      -0.488      -0.419\n",
       "md_tipo_renov_ant_bin_3_RenovCongenere          -0.1999      0.013    -14.812      0.000      -0.226      -0.173\n",
       "fx_ir_12m_bin_01_00_20                          -0.7509      0.018    -41.872      0.000      -0.786      -0.716\n",
       "fx_ir_12m_bin_03_40_60                           0.4693      0.010     45.245      0.000       0.449       0.490\n",
       "fx_ir_12m_bin_04_60_80                           1.1327      0.014     81.310      0.000       1.105       1.160\n",
       "fx_ir_12m_bin_05_80_100                          2.0154      0.025     79.114      0.000       1.965       2.065\n",
       "MD_tipo_renov_bin_3_RenovPropria_com_sin        -0.1554      0.022     -7.108      0.000      -0.198      -0.113\n",
       "idade_ult_RNS_bin_01_05_anos                    -0.5014      0.016    -31.686      0.000      -0.532      -0.470\n",
       "idade_ult_RNS_bin_06_inf                        -0.4664      0.013    -34.636      0.000      -0.493      -0.440\n",
       "================================================================================================================\n",
       "\"\"\""
      ]
     },
     "execution_count": 18,
     "metadata": {},
     "output_type": "execute_result"
    }
   ],
   "source": [
    "import statsmodels.formula.api as smf\n",
    "#Modelo GLM de retenção\n",
    "formula =  'ind_renovacao ~ 1 + np.log(premio) + np.divide(premio,is_casco_ofer) + np.log(np.divide(premio, Premio_IC100))+ np.log((np.divide(premio, premio_anterior))) + np.log(MD_tempo_casa_2+1) + per_com + per_com_bin_p_1_10 + canal_bin_Corretor_Mais + Cod_End_bin_13509 + fator_ajuste_bin_f_101_120 + classe_bonus_bin_00 + UF_bin_AL_CE_RS + UF_bin_AP_DF_ES_PA_PB_RN_SC + UF_bin_GO_MA_MG + UF_bin_MT_PR + UF_bin_RJ + MD_comb_bin_Gasolina + md_tipo_renov_ant_bin_1_SeguroNovo + md_tipo_renov_ant_bin_3_RenovCongenere + fx_ir_12m_bin_01_00_20 + fx_ir_12m_bin_03_40_60 + fx_ir_12m_bin_04_60_80 + fx_ir_12m_bin_05_80_100 + MD_tipo_renov_bin_3_RenovPropria_com_sin + idade_ult_RNS_bin_01_05_anos + idade_ult_RNS_bin_06_inf ' \n",
    "model_glm = smf.logit(formula , data=df_cat_glm).fit()\n",
    "model_glm.summary()"
   ]
  },
  {
   "cell_type": "markdown",
   "id": "808c929f",
   "metadata": {},
   "source": [
    "## Base Para escorar e otimizar"
   ]
  },
  {
   "cell_type": "code",
   "execution_count": 21,
   "id": "daae90ef",
   "metadata": {},
   "outputs": [],
   "source": [
    "df_lote_092024 = pd.read_csv(\"C://Flavio/Projeto Otimizacao/Otimizacao/Table 7 Base Case Total  - teste novo.csv\",\n",
    "                     encoding='latin-1',\n",
    "                     delimiter='|')"
   ]
  },
  {
   "cell_type": "code",
   "execution_count": 22,
   "id": "1cb3a37a",
   "metadata": {},
   "outputs": [],
   "source": [
    "#f_lote_092024.groupby(['Amostra'])['GBM_mercado',\"Renewal Demand\"].describe().T"
   ]
  },
  {
   "cell_type": "code",
   "execution_count": 23,
   "id": "403e8ca1",
   "metadata": {},
   "outputs": [],
   "source": [
    "#df_lote_092024.columns.to_list()"
   ]
  },
  {
   "cell_type": "code",
   "execution_count": 24,
   "id": "451a4bb1",
   "metadata": {},
   "outputs": [],
   "source": [
    "df_lote_escorar=df_lote_092024.copy()"
   ]
  },
  {
   "cell_type": "code",
   "execution_count": 25,
   "id": "f211fcfc",
   "metadata": {},
   "outputs": [],
   "source": [
    "df_lote_escorar[\"premio\"] = df_lote_escorar[\"Premio_oferecido_com_batente\"]"
   ]
  },
  {
   "cell_type": "code",
   "execution_count": 26,
   "id": "6a23c83a",
   "metadata": {},
   "outputs": [],
   "source": [
    "df_lote_escorar.rename(columns={'Pr_anterior_TI':'premio_anterior', \n",
    "                                   'cod_end': 'Cod_End',\n",
    "                                   'md_capac': 'MD_capac',\n",
    "                                   'Classe_bonus':'classe_bonus',\n",
    "                                   'fator_ajuste': 'MD_fator_ajuste'},inplace=True)"
   ]
  },
  {
   "cell_type": "code",
   "execution_count": 27,
   "id": "0edd9824",
   "metadata": {},
   "outputs": [],
   "source": [
    "df_lote = categorizar(df_lote_escorar)"
   ]
  },
  {
   "cell_type": "code",
   "execution_count": 28,
   "id": "29b87316",
   "metadata": {},
   "outputs": [],
   "source": [
    "#df_num = df_train[['premio', 'per_com', 'MD_tempo_casa_2', 'is_casco_ofer','Premio_IC100','premio_anterior']]\n",
    "df_cat = df_train[['canal_bin', 'Cod_End_bin', 'fator_ajuste_bin', 'per_com_bin', 'classe_bonus_bin', 'UF_bin', 'MD_comb_bin', 'md_tipo_renov_ant_bin', 'fx_ir_12m_bin', 'MD_tipo_renov_bin','idade_ult_RNS_bin']]\n",
    "#df_cat_y = df_train[['ind_renovacao']]\n",
    "df_cat_glm=pd.get_dummies(df_cat)\n",
    "df_cat_glm=pd.concat([df_lote_escorar, df_cat_glm],axis=1)"
   ]
  },
  {
   "cell_type": "code",
   "execution_count": 29,
   "id": "8ad2c6be",
   "metadata": {},
   "outputs": [
    {
     "data": {
      "text/plain": [
       "(27304, 138)"
      ]
     },
     "execution_count": 29,
     "metadata": {},
     "output_type": "execute_result"
    }
   ],
   "source": [
    "df_lote_escorar.shape"
   ]
  },
  {
   "cell_type": "code",
   "execution_count": 30,
   "id": "1d892d4f",
   "metadata": {},
   "outputs": [],
   "source": [
    "df_cat = df_lote[['canal_bin', 'Cod_End_bin', 'fator_ajuste_bin', 'per_com_bin', 'classe_bonus_bin', 'UF_bin', 'MD_comb_bin', 'md_tipo_renov_ant_bin', 'fx_ir_12m_bin', 'MD_tipo_renov_bin','idade_ult_RNS_bin']]\n",
    "df_cat_glm2=pd.get_dummies(df_cat)\n",
    "df_lote=pd.concat([df_lote,df_cat_glm2],axis=1)"
   ]
  },
  {
   "cell_type": "code",
   "execution_count": 31,
   "id": "672a71b3",
   "metadata": {},
   "outputs": [],
   "source": [
    "#df_cat_glm2.columns.to_list()"
   ]
  },
  {
   "cell_type": "code",
   "execution_count": 32,
   "id": "3a7f6f2c",
   "metadata": {},
   "outputs": [],
   "source": [
    "df_lote[\"prob_est\"]=model_glm2.predict(df_lote)\n",
    "df_lote[\"per_com_pct\"] = df_lote['per_com']/100\n",
    "df_lote[\"premio_prob\"] = df_lote[\"prob_est\"]*df_lote[\"premio\"]\n",
    "df_lote[\"Act_cost_prob\"] = df_lote[\"prob_est\"]*df_lote[\"Act_cost\"]                                                                \n",
    "df_lote[\"comissao_valor\"] = df_lote[\"per_com_pct\"] *df_lote[\"premio\"]\n",
    "df_lote[\"comissao_valor_prob\"] = df_lote[\"per_com_pct\"] *df_lote[\"premio_prob\"]\n"
   ]
  },
  {
   "cell_type": "code",
   "execution_count": 33,
   "id": "a6513ef3",
   "metadata": {},
   "outputs": [
    {
     "data": {
      "text/plain": [
       "(27304, 175)"
      ]
     },
     "execution_count": 33,
     "metadata": {},
     "output_type": "execute_result"
    }
   ],
   "source": [
    "df_lote.shape"
   ]
  },
  {
   "cell_type": "code",
   "execution_count": 34,
   "id": "5e5b4e41",
   "metadata": {},
   "outputs": [],
   "source": [
    "#df_lote.groupby([\"Amostra\"])[\"prob_est\" , \"Renewal Demand\"].describe().T"
   ]
  },
  {
   "cell_type": "code",
   "execution_count": 35,
   "id": "6f9a5da6",
   "metadata": {},
   "outputs": [
    {
     "name": "stdout",
     "output_type": "stream",
     "text": [
      "Apolices Ofertadas: 27304\n",
      "Apolices Renovadas: 12832.0\n",
      "premio_ofertado: 2927.89\n",
      "retencao_estimada : 47.0\n",
      "premio_esperado\" : 2357.44\n",
      "risco_ofertado\" : 1769.9\n",
      "risco_esperado\" : 1400.96\n",
      "sp_ofertado\" : 60.45\n",
      "sp_esperado\" : 59.43\n",
      "ic_ofertado\" : 103.57\n",
      "ic_esperado\" : 102.57\n"
     ]
    }
   ],
   "source": [
    "apolice_ofertada  = np.round(df_lote.shape[0],0)\n",
    "apolice_estimada  = np.round(np.sum(df_lote[\"prob_est\"]),0)\n",
    "premio_ofertado   = np.mean(df_lote[\"premio\"])\n",
    "retencao_estimada = np.mean(df_lote[\"prob_est\"])\n",
    "premio_esperado   = np.sum(df_lote[\"premio_prob\"])/np.sum(df_lote[\"prob_est\"])\n",
    "risco_ofertado    = np.mean(df_lote[\"Act_cost\"])\n",
    "risco_esperado    = np.sum(df_lote[\"Act_cost_prob\"])/np.sum(df_lote[\"prob_est\"])\n",
    "sp_ofertado       = np.sum(df_lote[\"Act_cost\"])/np.sum(df_lote[\"premio\"])\n",
    "sp_esperado       = np.sum(df_lote[\"Act_cost_prob\"])/np.sum(df_lote[\"premio_prob\"])\n",
    "comis_ofertado    = np.sum(df_lote[\"comissao_valor\"])/np.sum(df_lote[\"premio\"])\n",
    "comis_esperado    = np.sum(df_lote[\"comissao_valor_prob\"])/np.sum(df_lote[\"premio_prob\"])\n",
    "ic_ofertado       =  sp_ofertado  +  comis_ofertado + 0.2749\n",
    "ic_esperado       =  sp_esperado  +  comis_esperado + 0.2749\n",
    "print('Apolices Ofertadas: %s' % apolice_ofertada)\n",
    "print('Apolices Renovadas: %s' % apolice_estimada)\n",
    "print('premio_ofertado: %s' % np.round(premio_ofertado,2))\n",
    "print('retencao_estimada : %s' % np.round(retencao_estimada*100,2))\n",
    "print('premio_esperado\" : %s'  %np.round( premio_esperado,2))\n",
    "print('risco_ofertado\" : %s'  %  np.round(risco_ofertado,2))\n",
    "print('risco_esperado\" : %s'  %  np.round(risco_esperado,2))\n",
    "print('sp_ofertado\" : %s'  % np.round(sp_ofertado*100,2))\n",
    "print('sp_esperado\" : %s'  % np.round(sp_esperado*100,2))\n",
    "print('ic_ofertado\" : %s'  % np.round(ic_ofertado*100,2))\n",
    "print('ic_esperado\" : %s'  % np.round(ic_esperado*100,2))"
   ]
  },
  {
   "cell_type": "markdown",
   "id": "a34b6c2a",
   "metadata": {},
   "source": [
    "## Otimização Teste "
   ]
  },
  {
   "cell_type": "code",
   "execution_count": 36,
   "id": "4101922e",
   "metadata": {},
   "outputs": [],
   "source": [
    "#print(df_lote['canal'].value_counts(ascending=False))"
   ]
  },
  {
   "cell_type": "code",
   "execution_count": 37,
   "id": "de7683ff",
   "metadata": {
    "scrolled": true
   },
   "outputs": [
    {
     "data": {
      "text/plain": [
       "(10925, 175)"
      ]
     },
     "execution_count": 37,
     "metadata": {},
     "output_type": "execute_result"
    }
   ],
   "source": [
    "#df_lote_otim=df_mod.copy()\n",
    "df_lote_otim_atu = df_lote.query('Amostra == \"Otimização Atu\"')\n",
    "df_lote_otim_atu.shape"
   ]
  },
  {
   "cell_type": "code",
   "execution_count": 38,
   "id": "522bedc4",
   "metadata": {},
   "outputs": [],
   "source": [
    "precos_base=np.array(df_lote_otim_atu['premio'])\n",
    "indicadora_base=np.array(df_lote_otim_atu['MD_tipo_renov_bin_3_RenovPropria_com_sin'])\n",
    "\n",
    "# Define a função de demanda\n",
    "def demanda_base(X,P):\n",
    "    D = np.exp(0.8164 -0.2974 * X - 0.0003 * P) / (1 + np.exp(0.8164 -0.2974 * X - 0.0003 * P))\n",
    "    return D"
   ]
  },
  {
   "cell_type": "code",
   "execution_count": 39,
   "id": "d5732f65",
   "metadata": {},
   "outputs": [],
   "source": [
    "df_lote_otim_atu['Demanda_base']=demanda_base(indicadora_base,precos_base)"
   ]
  },
  {
   "cell_type": "code",
   "execution_count": 40,
   "id": "17825e07",
   "metadata": {},
   "outputs": [
    {
     "data": {
      "text/html": [
       "<div>\n",
       "<style scoped>\n",
       "    .dataframe tbody tr th:only-of-type {\n",
       "        vertical-align: middle;\n",
       "    }\n",
       "\n",
       "    .dataframe tbody tr th {\n",
       "        vertical-align: top;\n",
       "    }\n",
       "\n",
       "    .dataframe thead th {\n",
       "        text-align: right;\n",
       "    }\n",
       "</style>\n",
       "<table border=\"1\" class=\"dataframe\">\n",
       "  <thead>\n",
       "    <tr style=\"text-align: right;\">\n",
       "      <th></th>\n",
       "      <th>Amostra</th>\n",
       "      <th>Otimização Atu</th>\n",
       "    </tr>\n",
       "  </thead>\n",
       "  <tbody>\n",
       "    <tr>\n",
       "      <th rowspan=\"8\" valign=\"top\">prob_est</th>\n",
       "      <th>count</th>\n",
       "      <td>10925.000000</td>\n",
       "    </tr>\n",
       "    <tr>\n",
       "      <th>mean</th>\n",
       "      <td>0.472652</td>\n",
       "    </tr>\n",
       "    <tr>\n",
       "      <th>std</th>\n",
       "      <td>0.131939</td>\n",
       "    </tr>\n",
       "    <tr>\n",
       "      <th>min</th>\n",
       "      <td>0.000145</td>\n",
       "    </tr>\n",
       "    <tr>\n",
       "      <th>25%</th>\n",
       "      <td>0.413790</td>\n",
       "    </tr>\n",
       "    <tr>\n",
       "      <th>50%</th>\n",
       "      <td>0.512757</td>\n",
       "    </tr>\n",
       "    <tr>\n",
       "      <th>75%</th>\n",
       "      <td>0.567422</td>\n",
       "    </tr>\n",
       "    <tr>\n",
       "      <th>max</th>\n",
       "      <td>0.673247</td>\n",
       "    </tr>\n",
       "    <tr>\n",
       "      <th rowspan=\"8\" valign=\"top\">Demanda_base</th>\n",
       "      <th>count</th>\n",
       "      <td>10925.000000</td>\n",
       "    </tr>\n",
       "    <tr>\n",
       "      <th>mean</th>\n",
       "      <td>0.492113</td>\n",
       "    </tr>\n",
       "    <tr>\n",
       "      <th>std</th>\n",
       "      <td>0.125110</td>\n",
       "    </tr>\n",
       "    <tr>\n",
       "      <th>min</th>\n",
       "      <td>0.000365</td>\n",
       "    </tr>\n",
       "    <tr>\n",
       "      <th>25%</th>\n",
       "      <td>0.440646</td>\n",
       "    </tr>\n",
       "    <tr>\n",
       "      <th>50%</th>\n",
       "      <td>0.530968</td>\n",
       "    </tr>\n",
       "    <tr>\n",
       "      <th>75%</th>\n",
       "      <td>0.580171</td>\n",
       "    </tr>\n",
       "    <tr>\n",
       "      <th>max</th>\n",
       "      <td>0.675214</td>\n",
       "    </tr>\n",
       "  </tbody>\n",
       "</table>\n",
       "</div>"
      ],
      "text/plain": [
       "Amostra             Otimização Atu\n",
       "prob_est     count    10925.000000\n",
       "             mean         0.472652\n",
       "             std          0.131939\n",
       "             min          0.000145\n",
       "             25%          0.413790\n",
       "             50%          0.512757\n",
       "             75%          0.567422\n",
       "             max          0.673247\n",
       "Demanda_base count    10925.000000\n",
       "             mean         0.492113\n",
       "             std          0.125110\n",
       "             min          0.000365\n",
       "             25%          0.440646\n",
       "             50%          0.530968\n",
       "             75%          0.580171\n",
       "             max          0.675214"
      ]
     },
     "execution_count": 40,
     "metadata": {},
     "output_type": "execute_result"
    }
   ],
   "source": [
    "df_lote_otim_atu.groupby([\"Amostra\"])[\"prob_est\" , \"Demanda_base\"].describe().T"
   ]
  },
  {
   "cell_type": "code",
   "execution_count": 41,
   "id": "121e6a2e",
   "metadata": {},
   "outputs": [
    {
     "data": {
      "text/plain": [
       "(10925, 176)"
      ]
     },
     "execution_count": 41,
     "metadata": {},
     "output_type": "execute_result"
    }
   ],
   "source": [
    "df_lote_otim_atu.shape"
   ]
  },
  {
   "cell_type": "code",
   "execution_count": 133,
   "id": "b240f81c",
   "metadata": {},
   "outputs": [],
   "source": [
    "df_lote_otim = df_lote_otim_atu"
   ]
  },
  {
   "cell_type": "code",
   "execution_count": 42,
   "id": "7b833c3c",
   "metadata": {},
   "outputs": [
    {
     "data": {
      "text/plain": [
       "(1000, 176)"
      ]
     },
     "execution_count": 42,
     "metadata": {},
     "output_type": "execute_result"
    }
   ],
   "source": [
    "df_lote_otim = df_lote_otim_atu.sample(n =1000) \n",
    "df_lote_otim.shape"
   ]
  },
  {
   "cell_type": "markdown",
   "id": "bc7f4798",
   "metadata": {},
   "source": [
    "#########################################"
   ]
  },
  {
   "cell_type": "code",
   "execution_count": 43,
   "id": "1f7d361c",
   "metadata": {},
   "outputs": [
    {
     "name": "stdout",
     "output_type": "stream",
     "text": [
      "Apolices Ofertadas: 1000\n",
      "Apolices Renovadas: 496.0\n",
      "premio_ofertado: 2855.89\n",
      "retencao_estimada : 49.58\n",
      "premio_esperado\" : 2348.33\n",
      "risco_ofertado\" : 1763.4\n",
      "risco_esperado\" : 1419.69\n",
      "sp_ofertado\" : 61.75\n",
      "sp_esperado\" : 60.46\n",
      "ic_ofertado\" : 104.98\n",
      "ic_esperado\" : 103.75\n"
     ]
    }
   ],
   "source": [
    "df_relatorio_bc = df_lote_otim.copy()\n",
    "\n",
    "df_relatorio_bc[\"per_com_pct\"] = df_relatorio_bc['per_com']/100\n",
    "df_relatorio_bc[\"premio_prob\"] = df_relatorio_bc[\"Demanda_base\"]*df_relatorio_bc[\"premio\"]\n",
    "df_relatorio_bc[\"Act_cost_prob\"] = df_relatorio_bc[\"Demanda_base\"]*df_relatorio_bc[\"Act_cost\"]                                                                \n",
    "df_relatorio_bc[\"comissao_valor\"] = df_relatorio_bc[\"per_com_pct\"] *df_relatorio_bc[\"premio\"]\n",
    "df_relatorio_bc[\"comissao_valor_prob\"] = df_relatorio_bc[\"per_com_pct\"] *df_relatorio_bc[\"premio_prob\"]\n",
    "\n",
    "apolice_ofertada  = np.round(df_relatorio_bc.shape[0],0)\n",
    "apolice_estimada  = np.round(np.sum(df_relatorio_bc[\"Demanda_base\"]),0)\n",
    "premio_ofertado   = np.mean(df_relatorio_bc[\"premio\"])\n",
    "retencao_estimada = np.mean(df_relatorio_bc[\"Demanda_base\"])\n",
    "premio_esperado   = np.sum(df_relatorio_bc[\"premio_prob\"])/np.sum(df_relatorio_bc[\"Demanda_base\"])\n",
    "risco_ofertado    = np.mean(df_relatorio_bc[\"Act_cost\"])\n",
    "risco_esperado    = np.sum(df_relatorio_bc[\"Act_cost_prob\"])/np.sum(df_relatorio_bc[\"Demanda_base\"])\n",
    "sp_ofertado       = np.sum(df_relatorio_bc[\"Act_cost\"])/np.sum(df_relatorio_bc[\"premio\"])\n",
    "sp_esperado       = np.sum(df_relatorio_bc[\"Act_cost_prob\"])/np.sum(df_relatorio_bc[\"premio_prob\"])\n",
    "comis_ofertado    = np.sum(df_relatorio_bc[\"comissao_valor\"])/np.sum(df_relatorio_bc[\"premio\"])\n",
    "comis_esperado    = np.sum(df_relatorio_bc[\"comissao_valor_prob\"])/np.sum(df_relatorio_bc[\"premio_prob\"])\n",
    "ic_ofertado       =  sp_ofertado  +  comis_ofertado + 0.2749\n",
    "ic_esperado       =  sp_esperado  +  comis_esperado + 0.2749\n",
    "\n",
    "print('Apolices Ofertadas: %s' % apolice_ofertada)\n",
    "print('Apolices Renovadas: %s' % apolice_estimada)\n",
    "print('premio_ofertado: %s' % np.round(premio_ofertado,2))\n",
    "print('retencao_estimada : %s' % np.round(retencao_estimada*100,2))\n",
    "print('premio_esperado\" : %s'  %np.round( premio_esperado,2))\n",
    "print('risco_ofertado\" : %s'  %  np.round(risco_ofertado,2))\n",
    "print('risco_esperado\" : %s'  %  np.round(risco_esperado,2))\n",
    "print('sp_ofertado\" : %s'  % np.round(sp_ofertado*100,2))\n",
    "print('sp_esperado\" : %s'  % np.round(sp_esperado*100,2))\n",
    "print('ic_ofertado\" : %s'  % np.round(ic_ofertado*100,2))\n",
    "print('ic_esperado\" : %s'  % np.round(ic_esperado*100,2))"
   ]
  },
  {
   "cell_type": "code",
   "execution_count": 194,
   "id": "a3bde6e0",
   "metadata": {},
   "outputs": [
    {
     "data": {
      "text/plain": [
       "0.49618017744281706"
      ]
     },
     "execution_count": 194,
     "metadata": {},
     "output_type": "execute_result"
    }
   ],
   "source": [
    "np.mean(df_relatorio_bc['Renewal Demand'])"
   ]
  },
  {
   "cell_type": "code",
   "execution_count": 195,
   "id": "a5b776c1",
   "metadata": {},
   "outputs": [
    {
     "data": {
      "text/plain": [
       "0.4732293168059332"
      ]
     },
     "execution_count": 195,
     "metadata": {},
     "output_type": "execute_result"
    }
   ],
   "source": [
    "np.mean(df_relatorio_bc['prob_est'])"
   ]
  },
  {
   "cell_type": "code",
   "execution_count": 65,
   "id": "92804fc7",
   "metadata": {},
   "outputs": [
    {
     "data": {
      "text/plain": [
       "0.4957970561324635"
      ]
     },
     "execution_count": 65,
     "metadata": {},
     "output_type": "execute_result"
    }
   ],
   "source": [
    "np.mean(df_relatorio_bc['Demanda_base'])"
   ]
  },
  {
   "cell_type": "code",
   "execution_count": null,
   "id": "15e39932",
   "metadata": {},
   "outputs": [],
   "source": [
    "#df2 = df[['premio','is_casco_ofer','Cod_End_bin_Demais','Act_cost']]"
   ]
  },
  {
   "cell_type": "code",
   "execution_count": null,
   "id": "605c3b84",
   "metadata": {},
   "outputs": [],
   "source": [
    "#df2.to_excel(r'analise_teste.xlsx',  header='true')"
   ]
  },
  {
   "cell_type": "code",
   "execution_count": null,
   "id": "a9dd7163",
   "metadata": {},
   "outputs": [],
   "source": [
    "#v2=np.mean(df2['is_casco_ofer'])\n",
    "#indicadora = np.array(df2['Cod_End_bin_Demais']) \n",
    "#precos_iniciais = np.array(df2['premio']) "
   ]
  },
  {
   "cell_type": "code",
   "execution_count": 169,
   "id": "f38bed03",
   "metadata": {},
   "outputs": [
    {
     "data": {
      "text/plain": [
       "['per_com_bin', 'per_com_bin_p_10_35', 'per_com_bin_p_1_10']"
      ]
     },
     "execution_count": 169,
     "metadata": {},
     "output_type": "execute_result"
    }
   ],
   "source": [
    "[x for x in df.columns if \"com_bin\" in x]"
   ]
  },
  {
   "cell_type": "code",
   "execution_count": 57,
   "id": "7fb5089b",
   "metadata": {},
   "outputs": [
    {
     "data": {
      "text/plain": [
       "(2, 176)"
      ]
     },
     "execution_count": 57,
     "metadata": {},
     "output_type": "execute_result"
    }
   ],
   "source": [
    "df_lote_otim = df_lote_otim_atu.sample(n =2) \n",
    "df_lote_otim.shape"
   ]
  },
  {
   "cell_type": "code",
   "execution_count": 80,
   "id": "d41a3e95",
   "metadata": {},
   "outputs": [],
   "source": [
    "df = df_lote_otim\n",
    "P1=np.array(df['premio'])\n",
    "X11=np.array(df['is_casco_ofer'])\n",
    "X22=np.array(df['Premio_IC100'])\n",
    "X33=np.array(df['premio_anterior'])\n",
    "X44=np.array(df['MD_tempo_casa_2'])\n",
    "X55=np.array(df['per_com'])\n",
    "X66=np.array(df['per_com_bin_p_1_10'])\n",
    "X77=np.array(df['canal_bin_Corretor_Mais'])\n",
    "X88=np.array(df['Cod_End_bin_13509'])\n",
    "X99=np.array(df['fator_ajuste_bin_f_101_120'])\n",
    "X100=np.array(df['classe_bonus_bin_00'])\n",
    "X110=np.array(df['UF_bin_AL_CE_RS'])\n",
    "X120=np.array(df['UF_bin_AP_DF_ES_PA_PB_RN_SC'])\n",
    "X130=np.array(df['UF_bin_GO_MA_MG'])\n",
    "X140=np.array(df['UF_bin_MT_PR'])\n",
    "X150=np.array(df['UF_bin_RJ'])\n",
    "X160=np.array(df['MD_comb_bin_Gasolina'])\n",
    "X170=np.array(df['md_tipo_renov_ant_bin_1_SeguroNovo'])\n",
    "X180=np.array(df['md_tipo_renov_ant_bin_3_RenovCongenere'])\n",
    "X190=np.array(df['fx_ir_12m_bin_01_00_20'])\n",
    "X200=np.array(df['fx_ir_12m_bin_03_40_60'])\n",
    "X210=np.array(df['fx_ir_12m_bin_04_60_80'])\n",
    "X220=np.array(df['fx_ir_12m_bin_05_80_100'])\n",
    "X230=np.array(df['MD_tipo_renov_bin_3_RenovPropria_com_sin'])\n",
    "X240=np.array(df['idade_ult_RNS_bin_01_05_anos'])\n",
    "X250=np.array(df['idade_ult_RNS_bin_06_inf'])\n",
    "\n",
    "# Define a função de demanda\n",
    "def demanda(P1,X11,X22,X33,X44,X55,X66,X77,X88,X99,X100,X110,X120,X130,X140,X150,X160,X170,X180,X190,X200,X210,X220,X230,X240,X250):\n",
    "    D = np.exp(3.3458-0.4638 * np.log(P1)-5.1803 * np.divide(P1, X11)-1.0904 * np.log(np.divide(P1, X22))-1.2646 * np.log((np.divide(P1, X33)))  + 0.228 * np.log(X44 + 1)  + 0.0137 * X55  + 0.1566 * X66  + 0.0576 * X77-0.2318 * X88  + 0.16 * X99-0.2332 * X100-0.2319 * X110-0.2498 * X120-0.0697 * X130-0.1227 * X140  + 0.2475 * X150  + 0.3917 * X160-0.4536 * X170-0.1999 * X180-0.7509 * X190  + 0.4693 * X200  + 1.1327 * X210  + 2.0154 * X220-0.1554 * X230-0.5014 * X240-0.4664 * X250)/(1 + np.exp(3.3458-0.4638 * np.log(P1)-5.1803 * np.divide(P1, X11)-1.0904 * np.log(np.divide(P1, X22))-1.2646 * np.log((np.divide(P1, X33)))  + 0.228 * np.log(X44 + 1)  + 0.0137 * X55  + 0.1566 * X66  + 0.0576 * X77-0.2318 * X88  + 0.16 * X99-0.2332 * X100-0.2319 * X110-0.2498 * X120-0.0697 * X130-0.1227 * X140  + 0.2475 * X150  + 0.3917 * X160-0.4536 * X170-0.1999 * X180-0.7509 * X190  + 0.4693 * X200  + 1.1327 * X210  + 2.0154 * X220-0.1554 * X230-0.5014 * X240-0.4664 * X250) )  \n",
    "    return D"
   ]
  },
  {
   "cell_type": "code",
   "execution_count": 81,
   "id": "750892d0",
   "metadata": {},
   "outputs": [
    {
     "data": {
      "text/plain": [
       "0.33126108548552585"
      ]
     },
     "execution_count": 81,
     "metadata": {},
     "output_type": "execute_result"
    }
   ],
   "source": [
    "demanda(P1,X11,X22,X33,X44,X55,X66,X77,X88,X99,X100,X110,X120,X130,X140,X150,X160,X170,X180,X190,X200,X210,X220,X230,X240,X250).mean()"
   ]
  },
  {
   "cell_type": "code",
   "execution_count": 61,
   "id": "7761b46d",
   "metadata": {},
   "outputs": [
    {
     "data": {
      "text/html": [
       "<div>\n",
       "<style scoped>\n",
       "    .dataframe tbody tr th:only-of-type {\n",
       "        vertical-align: middle;\n",
       "    }\n",
       "\n",
       "    .dataframe tbody tr th {\n",
       "        vertical-align: top;\n",
       "    }\n",
       "\n",
       "    .dataframe thead th {\n",
       "        text-align: right;\n",
       "    }\n",
       "</style>\n",
       "<table border=\"1\" class=\"dataframe\">\n",
       "  <thead>\n",
       "    <tr style=\"text-align: right;\">\n",
       "      <th></th>\n",
       "      <th>premio</th>\n",
       "      <th>is_casco_ofer</th>\n",
       "      <th>Premio_IC100</th>\n",
       "      <th>premio_anterior</th>\n",
       "      <th>MD_tempo_casa_2</th>\n",
       "      <th>per_com</th>\n",
       "      <th>per_com_bin_p_1_10</th>\n",
       "      <th>canal_bin_Corretor_Mais</th>\n",
       "      <th>Cod_End_bin_13509</th>\n",
       "      <th>fator_ajuste_bin_f_101_120</th>\n",
       "      <th>...</th>\n",
       "      <th>MD_comb_bin_Gasolina</th>\n",
       "      <th>md_tipo_renov_ant_bin_1_SeguroNovo</th>\n",
       "      <th>md_tipo_renov_ant_bin_3_RenovCongenere</th>\n",
       "      <th>fx_ir_12m_bin_01_00_20</th>\n",
       "      <th>fx_ir_12m_bin_03_40_60</th>\n",
       "      <th>fx_ir_12m_bin_04_60_80</th>\n",
       "      <th>fx_ir_12m_bin_05_80_100</th>\n",
       "      <th>MD_tipo_renov_bin_3_RenovPropria_com_sin</th>\n",
       "      <th>idade_ult_RNS_bin_01_05_anos</th>\n",
       "      <th>idade_ult_RNS_bin_06_inf</th>\n",
       "    </tr>\n",
       "  </thead>\n",
       "  <tbody>\n",
       "    <tr>\n",
       "      <th>3438</th>\n",
       "      <td>1227.291969</td>\n",
       "      <td>22139.0</td>\n",
       "      <td>1227.291969</td>\n",
       "      <td>1270.24</td>\n",
       "      <td>3</td>\n",
       "      <td>27.0</td>\n",
       "      <td>0</td>\n",
       "      <td>1</td>\n",
       "      <td>0</td>\n",
       "      <td>0</td>\n",
       "      <td>...</td>\n",
       "      <td>0</td>\n",
       "      <td>0</td>\n",
       "      <td>0</td>\n",
       "      <td>0</td>\n",
       "      <td>1</td>\n",
       "      <td>0</td>\n",
       "      <td>0</td>\n",
       "      <td>0</td>\n",
       "      <td>0</td>\n",
       "      <td>0</td>\n",
       "    </tr>\n",
       "    <tr>\n",
       "      <th>13770</th>\n",
       "      <td>2015.561125</td>\n",
       "      <td>89652.0</td>\n",
       "      <td>2015.561125</td>\n",
       "      <td>2258.33</td>\n",
       "      <td>1</td>\n",
       "      <td>10.0</td>\n",
       "      <td>0</td>\n",
       "      <td>0</td>\n",
       "      <td>1</td>\n",
       "      <td>0</td>\n",
       "      <td>...</td>\n",
       "      <td>1</td>\n",
       "      <td>0</td>\n",
       "      <td>1</td>\n",
       "      <td>0</td>\n",
       "      <td>1</td>\n",
       "      <td>0</td>\n",
       "      <td>0</td>\n",
       "      <td>0</td>\n",
       "      <td>0</td>\n",
       "      <td>0</td>\n",
       "    </tr>\n",
       "  </tbody>\n",
       "</table>\n",
       "<p>2 rows × 26 columns</p>\n",
       "</div>"
      ],
      "text/plain": [
       "            premio  is_casco_ofer  Premio_IC100  premio_anterior  \\\n",
       "3438   1227.291969        22139.0   1227.291969          1270.24   \n",
       "13770  2015.561125        89652.0   2015.561125          2258.33   \n",
       "\n",
       "       MD_tempo_casa_2  per_com  per_com_bin_p_1_10  canal_bin_Corretor_Mais  \\\n",
       "3438                 3     27.0                   0                        1   \n",
       "13770                1     10.0                   0                        0   \n",
       "\n",
       "       Cod_End_bin_13509  fator_ajuste_bin_f_101_120  ...  \\\n",
       "3438                   0                           0  ...   \n",
       "13770                  1                           0  ...   \n",
       "\n",
       "       MD_comb_bin_Gasolina  md_tipo_renov_ant_bin_1_SeguroNovo  \\\n",
       "3438                      0                                   0   \n",
       "13770                     1                                   0   \n",
       "\n",
       "       md_tipo_renov_ant_bin_3_RenovCongenere  fx_ir_12m_bin_01_00_20  \\\n",
       "3438                                        0                       0   \n",
       "13770                                       1                       0   \n",
       "\n",
       "       fx_ir_12m_bin_03_40_60  fx_ir_12m_bin_04_60_80  \\\n",
       "3438                        1                       0   \n",
       "13770                       1                       0   \n",
       "\n",
       "       fx_ir_12m_bin_05_80_100  MD_tipo_renov_bin_3_RenovPropria_com_sin  \\\n",
       "3438                         0                                         0   \n",
       "13770                        0                                         0   \n",
       "\n",
       "       idade_ult_RNS_bin_01_05_anos  idade_ult_RNS_bin_06_inf  \n",
       "3438                              0                         0  \n",
       "13770                             0                         0  \n",
       "\n",
       "[2 rows x 26 columns]"
      ]
     },
     "execution_count": 61,
     "metadata": {},
     "output_type": "execute_result"
    }
   ],
   "source": [
    "df_lote_otim[['premio',\n",
    "              'is_casco_ofer',\n",
    "    'Premio_IC100',\n",
    "    'premio_anterior',\n",
    "    'MD_tempo_casa_2',\n",
    "    'per_com',\n",
    "    'per_com_bin_p_1_10',\n",
    "    'canal_bin_Corretor_Mais',\n",
    "    'Cod_End_bin_13509',\n",
    "    'fator_ajuste_bin_f_101_120',\n",
    "    'classe_bonus_bin_00',\n",
    "    'UF_bin_AL_CE_RS',\n",
    "    'UF_bin_AP_DF_ES_PA_PB_RN_SC',\n",
    "    'UF_bin_GO_MA_MG',\n",
    "    'UF_bin_MT_PR',\n",
    "    'UF_bin_RJ',\n",
    "    'MD_comb_bin_Gasolina',\n",
    "    'md_tipo_renov_ant_bin_1_SeguroNovo',\n",
    "    'md_tipo_renov_ant_bin_3_RenovCongenere',\n",
    "    'fx_ir_12m_bin_01_00_20',\n",
    "    'fx_ir_12m_bin_03_40_60',\n",
    "    'fx_ir_12m_bin_04_60_80',\n",
    "    'fx_ir_12m_bin_05_80_100',\n",
    "    'MD_tipo_renov_bin_3_RenovPropria_com_sin',\n",
    "    'idade_ult_RNS_bin_01_05_anos',\n",
    "    'idade_ult_RNS_bin_06_inf']]"
   ]
  },
  {
   "cell_type": "code",
   "execution_count": null,
   "id": "330cb08f",
   "metadata": {},
   "outputs": [],
   "source": []
  },
  {
   "cell_type": "code",
   "execution_count": 71,
   "id": "eab41b1e",
   "metadata": {},
   "outputs": [
    {
     "name": "stdout",
     "output_type": "stream",
     "text": [
      "λ: 352.2354049550005\n",
      "Preços Otimizados: [2144.05182239 2825.14934155]\n",
      "CPU times: total: 46.9 ms\n",
      "Wall time: 21.2 ms\n"
     ]
    }
   ],
   "source": [
    "%%time\n",
    "######\n",
    "import numpy as np\n",
    "import sympy as sp\n",
    "from scipy.optimize import fsolve\n",
    "\n",
    "#df = df_lote_otim\n",
    "\n",
    "precos_iniciais=np.array(df['premio'])\n",
    "P=(df['premio'])\n",
    "\n",
    "\n",
    "lista_variaveis_na_ordem = ['is_casco_ofer',\n",
    "    'Premio_IC100',\n",
    "    'premio_anterior',\n",
    "    'MD_tempo_casa_2',\n",
    "    'per_com',\n",
    "    'per_com_bin_p_1_10',\n",
    "    'canal_bin_Corretor_Mais',\n",
    "    'Cod_End_bin_13509',\n",
    "    'fator_ajuste_bin_f_101_120',\n",
    "    'classe_bonus_bin_00',\n",
    "    'UF_bin_AL_CE_RS',\n",
    "    'UF_bin_AP_DF_ES_PA_PB_RN_SC',\n",
    "    'UF_bin_GO_MA_MG',\n",
    "    'UF_bin_MT_PR',\n",
    "    'UF_bin_RJ',\n",
    "    'MD_comb_bin_Gasolina',\n",
    "    'md_tipo_renov_ant_bin_1_SeguroNovo',\n",
    "    'md_tipo_renov_ant_bin_3_RenovCongenere',\n",
    "    'fx_ir_12m_bin_01_00_20',\n",
    "    'fx_ir_12m_bin_03_40_60',\n",
    "    'fx_ir_12m_bin_04_60_80',\n",
    "    'fx_ir_12m_bin_05_80_100',\n",
    "    'MD_tipo_renov_bin_3_RenovPropria_com_sin',\n",
    "    'idade_ult_RNS_bin_01_05_anos',\n",
    "    'idade_ult_RNS_bin_06_inf']\n",
    "\n",
    "indicadora=np.array(df.loc[:,lista_variaveis_na_ordem])\n",
    "\n",
    "\n",
    "target_demand=0.662522170971972\n",
    "\n",
    "custo=df['Act_cost'].mean()\n",
    "\n",
    "\n",
    "# Define a função de demanda\n",
    "def demanda(P,X1,X2,X3,X4,X5,X6,X7,X8,X9,X10,X11,X12,X13,X14,X15,X16,X17,X18,X19,X20,X21,X22,X23,X24,X25):\n",
    "    D = np.exp(3.3458-0.4638 * np.log(P)-5.1803 * np.divide(P, X1)-1.0904 * np.log(np.divide(P, X2))-1.2646 * np.log((np.divide(P, X3)))  + 0.228 * np.log(X4 + 1)  + 0.0137 * X5  + 0.1566 * X6  + 0.0576 * X7-0.2318 * X8  + 0.16 * X9-0.2332 * X10-0.2319 * X11-0.2498 * X12-0.0697 * X13-0.1227 * X14  + 0.2475 * X14  + 0.3917 * X16-0.4536 * X17-0.1999 * X18-0.7509 * X19  + 0.4693 * X20  + 1.1327 * X21  + 2.0154 * X22-0.1554 * X23-0.5014 * X24-0.4664 * X25)/(1 + np.exp(3.3458-0.4638 * np.log(P)-5.1803 * np.divide(P, X1)-1.0904 * np.log(np.divide(P, X2))-1.2646 * np.log((np.divide(P, X3)))  + 0.228 * np.log(X4 + 1)  + 0.0137 * X5  + 0.1566 * X6  + 0.0576 * X7-0.2318 * X8  + 0.16 * X9-0.2332 * X10-0.2319 * X11-0.2498 * X12-0.0697 * X13-0.1227 * X14  + 0.2475 * X14  + 0.3917 * X16-0.4536 * X17-0.1999 * X18-0.7509 * X19  + 0.4693 * X20  + 1.1327 * X21  + 2.0154 * X22-0.1554 * X23-0.5014 * X24-0.4664 * X25) )  \n",
    "    return D\n",
    "\n",
    "# Define a função de Lagrange\n",
    "def func(X, indicadora):\n",
    "    P = X[:-1]  # Extraindo o vetor de preços [p1, p2, ..., pn]\n",
    "    L = X[-1]   # Extraindo o multiplicador de Lagrange\n",
    "    n = len(P)\n",
    "    \n",
    "    # Função objetivo e a soma das demandas\n",
    "    objetivo = 0\n",
    "    soma_demandas = 0\n",
    "    \n",
    "    for i in range(n):\n",
    "        D_i = demanda(P[i],\n",
    "                     indicadora[i, 0], \n",
    "                     indicadora[i, 1],\n",
    "                     indicadora[i, 2],\n",
    "                     indicadora[i, 3],\n",
    "                     indicadora[i, 4],\n",
    "                     indicadora[i, 5],\n",
    "                     indicadora[i, 6],\n",
    "                     indicadora[i, 7],\n",
    "                     indicadora[i, 8],\n",
    "                     indicadora[i, 9],\n",
    "                     indicadora[i, 10],\n",
    "                     indicadora[i, 11],\n",
    "                     indicadora[i, 12],\n",
    "                     indicadora[i, 13],\n",
    "                     indicadora[i, 14],\n",
    "                     indicadora[i, 15],\n",
    "                     indicadora[i, 16],\n",
    "                     indicadora[i, 17],\n",
    "                     indicadora[i, 18],\n",
    "                     indicadora[i, 19],\n",
    "                     indicadora[i, 20],\n",
    "                     indicadora[i, 21],\n",
    "                     indicadora[i, 22],\n",
    "                     indicadora[i, 23],\n",
    "                     indicadora[i, 24])\n",
    "        objetivo += D_i * (P[i] - custo)\n",
    "        soma_demandas += D_i\n",
    "    \n",
    "    # Definindo a função de Lagrange com a restrição\n",
    "    return objetivo - L * (soma_demandas - target_demand)\n",
    "\n",
    "# Aplicando a diferenciação numérica\n",
    "def dfunc(X, indicadora):\n",
    "    dLambda = np.zeros(len(X))\n",
    "    h = 1e-2  # Passo usado na diferença finita\n",
    "    for i in range(len(X)):\n",
    "        dX = np.zeros(len(X))\n",
    "        dX[i] = h\n",
    "        dLambda[i] = (func(X + dX, indicadora) - func(X - dX, indicadora)) / (2 * h)\n",
    "    return dLambda\n",
    "\n",
    "# Definindo a função para otimizar os preços\n",
    "def otimizar_precos(indicadora, precos_iniciais):\n",
    "    # Iniciando o vetor X com os preços iniciais e um valor inicial para o multiplicador de Lagrange\n",
    "    X_inicial = np.append(precos_iniciais, 0)\n",
    "    \n",
    "    # Calculando os preços otimizados\n",
    "    X_otimizado = fsolve(dfunc, X_inicial, args=(indicadora))\n",
    "    \n",
    "    # Retornando o vetor de preços otimizados e o multiplicador de Lagrange\n",
    "    precos_otimizados = X_otimizado[:-1]\n",
    "    lambida = X_otimizado[-1]\n",
    "    \n",
    "    return precos_otimizados, lambida\n",
    "\n",
    "\n",
    "precos_otimizados, lambida = otimizar_precos(indicadora, precos_iniciais)\n",
    "print(\"λ:\", lambida)\n",
    "print(\"Preços Otimizados:\",precos_otimizados)\n",
    "\n"
   ]
  },
  {
   "cell_type": "code",
   "execution_count": 72,
   "id": "ceb1b33a",
   "metadata": {},
   "outputs": [
    {
     "data": {
      "text/plain": [
       "array([1227.291969, 2015.561125])"
      ]
     },
     "execution_count": 72,
     "metadata": {},
     "output_type": "execute_result"
    }
   ],
   "source": [
    "precos_iniciais"
   ]
  },
  {
   "cell_type": "code",
   "execution_count": 75,
   "id": "4b629b2d",
   "metadata": {},
   "outputs": [
    {
     "data": {
      "text/plain": [
       "array([[2.21390000e+04, 1.22729197e+03, 1.27024000e+03, 3.00000000e+00,\n",
       "        2.70000000e+01, 0.00000000e+00, 1.00000000e+00, 0.00000000e+00,\n",
       "        0.00000000e+00, 0.00000000e+00, 1.00000000e+00, 0.00000000e+00,\n",
       "        0.00000000e+00, 0.00000000e+00, 0.00000000e+00, 0.00000000e+00,\n",
       "        0.00000000e+00, 0.00000000e+00, 0.00000000e+00, 1.00000000e+00,\n",
       "        0.00000000e+00, 0.00000000e+00, 0.00000000e+00, 0.00000000e+00,\n",
       "        0.00000000e+00],\n",
       "       [8.96520000e+04, 2.01556113e+03, 2.25833000e+03, 1.00000000e+00,\n",
       "        1.00000000e+01, 0.00000000e+00, 0.00000000e+00, 1.00000000e+00,\n",
       "        0.00000000e+00, 0.00000000e+00, 0.00000000e+00, 0.00000000e+00,\n",
       "        0.00000000e+00, 0.00000000e+00, 0.00000000e+00, 1.00000000e+00,\n",
       "        0.00000000e+00, 1.00000000e+00, 0.00000000e+00, 1.00000000e+00,\n",
       "        0.00000000e+00, 0.00000000e+00, 0.00000000e+00, 0.00000000e+00,\n",
       "        0.00000000e+00]])"
      ]
     },
     "execution_count": 75,
     "metadata": {},
     "output_type": "execute_result"
    }
   ],
   "source": [
    "indicadora"
   ]
  },
  {
   "cell_type": "code",
   "execution_count": 73,
   "id": "3ad43659",
   "metadata": {},
   "outputs": [],
   "source": [
    "X1=np.array(df['is_casco_ofer'])\n",
    "X2=np.array(df['Premio_IC100'])\n",
    "X3=np.array(df['premio_anterior'])\n",
    "X4=np.array(df['MD_tempo_casa_2'])\n",
    "X5=np.array(df['per_com'])\n",
    "X6=np.array(df['per_com_bin_p_1_10'])\n",
    "X7=np.array(df['canal_bin_Corretor_Mais'])\n",
    "X8=np.array(df['Cod_End_bin_13509'])\n",
    "X9=np.array(df['fator_ajuste_bin_f_101_120'])\n",
    "X10=np.array(df['classe_bonus_bin_00'])\n",
    "X11=np.array(df['UF_bin_AL_CE_RS'])\n",
    "X12=np.array(df['UF_bin_AP_DF_ES_PA_PB_RN_SC'])\n",
    "X13=np.array(df['UF_bin_GO_MA_MG'])\n",
    "X14=np.array(df['UF_bin_MT_PR'])\n",
    "X15=np.array(df['UF_bin_RJ'])\n",
    "X16=np.array(df['MD_comb_bin_Gasolina'])\n",
    "X17=np.array(df['md_tipo_renov_ant_bin_1_SeguroNovo'])\n",
    "X18=np.array(df['md_tipo_renov_ant_bin_3_RenovCongenere'])\n",
    "X19=np.array(df['fx_ir_12m_bin_01_00_20'])\n",
    "X20=np.array(df['fx_ir_12m_bin_03_40_60'])\n",
    "X21=np.array(df['fx_ir_12m_bin_04_60_80'])\n",
    "X22=np.array(df['fx_ir_12m_bin_05_80_100'])\n",
    "X23=np.array(df['MD_tipo_renov_bin_3_RenovPropria_com_sin'])\n",
    "X24=np.array(df['idade_ult_RNS_bin_01_05_anos'])\n",
    "X25=np.array(df['idade_ult_RNS_bin_06_inf'])\n",
    "\n"
   ]
  },
  {
   "cell_type": "code",
   "execution_count": 76,
   "id": "02c70137",
   "metadata": {},
   "outputs": [
    {
     "data": {
      "text/plain": [
       "array([22139., 89652.])"
      ]
     },
     "execution_count": 76,
     "metadata": {},
     "output_type": "execute_result"
    }
   ],
   "source": [
    "X2"
   ]
  },
  {
   "cell_type": "code",
   "execution_count": 74,
   "id": "be511089",
   "metadata": {},
   "outputs": [
    {
     "name": "stdout",
     "output_type": "stream",
     "text": [
      "Margem Esperada Total Base Case: 941.5945212917563\n",
      "Margem Esperada Total Otimizada: 1042.439787362356\n",
      "Retenção Média Otimizada: 0.33126108548443134\n",
      "Retenção Média Base Case: 0.662522170971972\n",
      "Premio Medio Otimizado: 2484.600581973951\n",
      "Premio Medio Base Case: 1621.426547\n",
      "Tamanho da Base: 2\n"
     ]
    }
   ],
   "source": [
    "\n",
    "# Verificar os preços otimizados e a margem esperada otimizada \n",
    "df['precos_otimizados'] = precos_otimizados\n",
    "df['retencao_otimizada'] = demanda(precos_otimizados,X1,X2,X3,X4,X5,X6,X7,X8,X9,X10,X11,X12,X13,X14,X15,X16,X17,X18,X19,X20,X21,X22,X23,X24,X25)\n",
    "df['retencao_base_esperado']=demanda(P,X1,X2,X3,X4,X5,X6,X7,X8,X9,X10,X11,X12,X13,X14,X15,X16,X17,X18,X19,X20,X21,X22,X23,X24,X25)\n",
    "df['margem_esperada_otimizada'] =   df['retencao_otimizada']*(df['precos_otimizados'] - df['Act_cost'])\n",
    "\n",
    "df['margem_esperada_base_case'] = df['retencao_base_esperado']*(df['premio']-df['Act_cost'])\n",
    "\n",
    "margem_esperada_total_base_case=df['margem_esperada_base_case'].sum()\n",
    "margem_esperada_total_otimizada=df['margem_esperada_otimizada'].sum()\n",
    "\n",
    "# Exibir os resultados\n",
    "print(\"Margem Esperada Total Base Case:\", margem_esperada_total_base_case) \n",
    "print(\"Margem Esperada Total Otimizada:\", margem_esperada_total_otimizada) \n",
    "print(\"Retenção Média Otimizada:\", df['retencao_otimizada'].mean())\n",
    "print(\"Retenção Média Base Case:\", df['retencao_base_esperado'].mean())\n",
    "print(\"Premio Medio Otimizado:\", df['precos_otimizados'].mean())\n",
    "print(\"Premio Medio Base Case:\", df['premio'].mean())\n",
    "print(\"Tamanho da Base:\", df.shape[0])"
   ]
  },
  {
   "cell_type": "code",
   "execution_count": null,
   "id": "f38ec9fe",
   "metadata": {},
   "outputs": [],
   "source": [
    "#df[['premio','retencao_base_esperado','preco_otimizado','retencao_otimizada']]"
   ]
  },
  {
   "cell_type": "code",
   "execution_count": null,
   "id": "a7ac6a29",
   "metadata": {},
   "outputs": [],
   "source": [
    "#df#.to_csv(r'C:/Users/vcatelan/Documents/Scripts/dftocsv2.csv', sep='|', encoding='utf-8', header='true')\n",
    "#df.to_excel(r'df.xlsx', sep='|', encoding='utf-8', header='true')"
   ]
  },
  {
   "cell_type": "markdown",
   "id": "11fa579c",
   "metadata": {},
   "source": [
    "#criando a função"
   ]
  },
  {
   "cell_type": "code",
   "execution_count": 52,
   "id": "d04c3892",
   "metadata": {},
   "outputs": [
    {
     "name": "stdout",
     "output_type": "stream",
     "text": [
      "Apolices Ofertadas: 10\n",
      "Apolices Renovadas: 0.0\n",
      "premio_ofertado: 20922.36\n",
      "retencao_estimada : 4.96\n",
      "premio_esperado\" : 6780.16\n",
      "risco_ofertado\" : 1920.92\n",
      "risco_esperado\" : 1755.47\n",
      "sp_ofertado\" : 9.18\n",
      "sp_esperado\" : 25.89\n",
      "ic_ofertado\" : 57.02\n",
      "ic_esperado\" : 71.08\n"
     ]
    }
   ],
   "source": [
    "df_relatorio_otim = df.copy()\n",
    "\n",
    "df_relatorio_otim[\"per_com_pct\"] = df_relatorio_otim['per_com']/100\n",
    "df_relatorio_otim[\"premio_prob\"] = df_relatorio_otim[\"retencao_otimizada\"]*df_relatorio_otim[\"precos_otimizados\"]\n",
    "df_relatorio_otim[\"Act_cost_prob\"] = df_relatorio_otim[\"retencao_otimizada\"]*df_relatorio_otim[\"Act_cost\"]                                                                \n",
    "df_relatorio_otim[\"comissao_valor\"] = df_relatorio_otim[\"per_com_pct\"] *df_relatorio_otim[\"precos_otimizados\"]\n",
    "df_relatorio_otim[\"comissao_valor_prob\"] = df_relatorio_otim[\"per_com_pct\"] *df_relatorio_otim[\"premio_prob\"]\n",
    "\n",
    "apolice_ofertada  = np.round(df_relatorio_otim.shape[0],0)\n",
    "apolice_estimada  = np.round(np.sum(df_relatorio_otim[\"retencao_otimizada\"]),0)\n",
    "premio_ofertado   = np.mean(df_relatorio_otim[\"precos_otimizados\"])\n",
    "retencao_estimada = np.mean(df_relatorio_otim[\"retencao_otimizada\"])\n",
    "premio_esperado   = np.sum(df_relatorio_otim[\"premio_prob\"])/np.sum(df_relatorio_otim[\"retencao_otimizada\"])\n",
    "risco_ofertado    = np.mean(df_relatorio_otim[\"Act_cost\"])\n",
    "risco_esperado    = np.sum(df_relatorio_otim[\"Act_cost_prob\"])/np.sum(df_relatorio_otim[\"retencao_otimizada\"])\n",
    "sp_ofertado       = np.sum(df_relatorio_otim[\"Act_cost\"])/np.sum(df_relatorio_otim[\"precos_otimizados\"])\n",
    "sp_esperado       = np.sum(df_relatorio_otim[\"Act_cost_prob\"])/np.sum(df_relatorio_otim[\"premio_prob\"])\n",
    "comis_ofertado    = np.sum(df_relatorio_otim[\"comissao_valor\"])/np.sum(df_relatorio_otim[\"precos_otimizados\"])\n",
    "comis_esperado    = np.sum(df_relatorio_otim[\"comissao_valor_prob\"])/np.sum(df_relatorio_otim[\"premio_prob\"])\n",
    "ic_ofertado       =  sp_ofertado  +  comis_ofertado + 0.2749\n",
    "ic_esperado       =  sp_esperado  +  comis_esperado + 0.2749\n",
    "\n",
    "print('Apolices Ofertadas: %s' % apolice_ofertada)\n",
    "print('Apolices Renovadas: %s' % apolice_estimada)\n",
    "print('premio_ofertado: %s' % np.round(premio_ofertado,2))\n",
    "print('retencao_estimada : %s' % np.round(retencao_estimada*100,2))\n",
    "print('premio_esperado\" : %s'  %np.round( premio_esperado,2))\n",
    "print('risco_ofertado\" : %s'  %  np.round(risco_ofertado,2))\n",
    "print('risco_esperado\" : %s'  %  np.round(risco_esperado,2))\n",
    "print('sp_ofertado\" : %s'  % np.round(sp_ofertado*100,2))\n",
    "print('sp_esperado\" : %s'  % np.round(sp_esperado*100,2))\n",
    "print('ic_ofertado\" : %s'  % np.round(ic_ofertado*100,2))\n",
    "print('ic_esperado\" : %s'  % np.round(ic_esperado*100,2))"
   ]
  },
  {
   "cell_type": "code",
   "execution_count": 135,
   "id": "c7c849bd",
   "metadata": {},
   "outputs": [],
   "source": [
    "df.to_csv(r'df_total.csv', sep='|' ,header='true')"
   ]
  },
  {
   "cell_type": "code",
   "execution_count": null,
   "id": "a5e872d6",
   "metadata": {},
   "outputs": [],
   "source": [
    "df_relatorio_otim[['Demanda_base','retencao_otimizada','premio','preco_otimizado']]\n"
   ]
  },
  {
   "cell_type": "code",
   "execution_count": null,
   "id": "fb3191b0",
   "metadata": {},
   "outputs": [],
   "source": [
    "prices_df = pd.DataFrame({\n",
    "    'chave': df_relatorio[\"chave\"],\n",
    "    'Act_cost':  df_relatorio[\"Act_cost\"],\n",
    "    'Premio ofertado com batente':  df_relatorio[\"Premio_oferecido_com_batente\"],\n",
    "    'Optimized Prices': df_relatorio[\"premio\"],\n",
    "    'lb_bound' : [b[0] for b in bounds],\n",
    "    'up_bound' : [b[1] for b in bounds],\n",
    "    'prob_est':         df_relatorio[\"prob_est\"],\n",
    "    'renewal demand':df_relatorio[\"demanda otimizada\"],\n",
    "    'variação':df_relatorio[\"premio\"]/df_relatorio[\"Premio_oferecido_com_batente\"]\n",
    "})\n",
    "prices_df.head(20)"
   ]
  },
  {
   "cell_type": "code",
   "execution_count": null,
   "id": "08b83503",
   "metadata": {},
   "outputs": [],
   "source": []
  },
  {
   "cell_type": "code",
   "execution_count": null,
   "id": "bf781707",
   "metadata": {},
   "outputs": [],
   "source": []
  },
  {
   "cell_type": "code",
   "execution_count": null,
   "id": "9e4c93d9",
   "metadata": {},
   "outputs": [],
   "source": []
  },
  {
   "cell_type": "code",
   "execution_count": null,
   "id": "1cc5192c",
   "metadata": {},
   "outputs": [],
   "source": []
  },
  {
   "cell_type": "code",
   "execution_count": null,
   "id": "05ba91e8",
   "metadata": {},
   "outputs": [],
   "source": []
  },
  {
   "cell_type": "code",
   "execution_count": null,
   "id": "7d0f35b0",
   "metadata": {},
   "outputs": [],
   "source": []
  },
  {
   "cell_type": "code",
   "execution_count": null,
   "id": "7abc3747",
   "metadata": {},
   "outputs": [],
   "source": []
  },
  {
   "cell_type": "markdown",
   "id": "d775e90b",
   "metadata": {},
   "source": [
    "########"
   ]
  },
  {
   "cell_type": "code",
   "execution_count": 167,
   "id": "0d24e572",
   "metadata": {},
   "outputs": [
    {
     "name": "stdout",
     "output_type": "stream",
     "text": [
      "STOP: TOTAL NO. of f AND g EVALUATIONS EXCEEDS LIMIT\n",
      "Margem Esperada Total Base Case: 2472131.8046860155\n",
      "Margem Esperada Total Otimizada: 748631.2643697124\n",
      "Retenção Média Otimizada: 0.5134101292779922\n",
      "Retenção Média Base Case: 0.517242527363945\n",
      "Premio Medio Otimizado: 2908.7971447498785\n",
      "Premio Medio Base Case: 2896.3610072528\n",
      "Tamanho da Base: 5000\n",
      "CPU times: total: 46.7 s\n",
      "Wall time: 51.7 s\n"
     ]
    }
   ],
   "source": [
    "%%time\n",
    "target_demand=0.48\n",
    "\n",
    "df = df_lote_otim\n",
    "P=(df['premio'])\n",
    "X1=np.array(df['is_casco_ofer'])\n",
    "X2=np.array(df['Premio_IC100'])\n",
    "X3=np.array(df['premio_anterior'])\n",
    "X4=np.array(df['MD_tempo_casa_2'])\n",
    "X5=np.array(df['per_com'])\n",
    "X6=np.array(df['per_com_bin_p_1_10'])\n",
    "X7=np.array(df['canal_bin_Corretor_Mais'])\n",
    "X8=np.array(df['Cod_End_bin_13509'])\n",
    "X9=np.array(df['fator_ajuste_bin_f_101_120'])\n",
    "X10=np.array(df['classe_bonus_bin_00'])\n",
    "X11=np.array(df['UF_bin_AL_CE_RS'])\n",
    "X12=np.array(df['UF_bin_AP_DF_ES_PA_PB_RN_SC'])\n",
    "X13=np.array(df['UF_bin_GO_MA_MG'])\n",
    "X14=np.array(df['UF_bin_MT_PR'])\n",
    "X15=np.array(df['UF_bin_RJ'])\n",
    "X16=np.array(df['MD_comb_bin_Gasolina'])\n",
    "X17=np.array(df['md_tipo_renov_ant_bin_1_SeguroNovo'])\n",
    "X18=np.array(df['md_tipo_renov_ant_bin_3_RenovCongenere'])\n",
    "X19=np.array(df['fx_ir_12m_bin_01_00_20'])\n",
    "X20=np.array(df['fx_ir_12m_bin_03_40_60'])\n",
    "X21=np.array(df['fx_ir_12m_bin_04_60_80'])\n",
    "X22=np.array(df['fx_ir_12m_bin_05_80_100'])\n",
    "X23=np.array(df['MD_tipo_renov_bin_3_RenovPropria_com_sin'])\n",
    "X24=np.array(df['idade_ult_RNS_bin_01_05_anos'])\n",
    "X25=np.array(df['idade_ult_RNS_bin_06_inf'])\n",
    "\n",
    "\n",
    "# Função de demanda para calcular a retenção com base no preço \n",
    "def calcular_retencao(P,X1,X2,X3,X4,X5,X6,X7,X8,X9,X10,X11,X12,X13,X14,X15,X16,X17,X18,X19,X20,X21,X22,X23,X24,X25):\n",
    "    D = np.exp(3.3458-0.4638 * np.log(P)-5.1803 * np.divide(P, X1)-1.0904 * np.log(np.divide(P, X2))-1.2646 * np.log((np.divide(P, X3)))  + 0.228 * np.log(X4 + 1)  + 0.0137 * X5  + 0.1566 * X6  + 0.0576 * X7-0.2318 * X8  + 0.16 * X9-0.2332 * X10-0.2319 * X11-0.2498 * X12-0.0697 * X13-0.1227 * X14  + 0.2475 * X14  + 0.3917 * X16-0.4536 * X17-0.1999 * X18-0.7509 * X19  + 0.4693 * X20  + 1.1327 * X21  + 2.0154 * X22-0.1554 * X23-0.5014 * X24-0.4664 * X25)/(1 + np.exp(3.3458-0.4638 * np.log(P)-5.1803 * np.divide(P, X1)-1.0904 * np.log(np.divide(P, X2))-1.2646 * np.log((np.divide(P, X3)))  + 0.228 * np.log(X4 + 1)  + 0.0137 * X5  + 0.1566 * X6  + 0.0576 * X7-0.2318 * X8  + 0.16 * X9-0.2332 * X10-0.2319 * X11-0.2498 * X12-0.0697 * X13-0.1227 * X14  + 0.2475 * X14  + 0.3917 * X16-0.4536 * X17-0.1999 * X18-0.7509 * X19  + 0.4693 * X20  + 1.1327 * X21  + 2.0154 * X22-0.1554 * X23-0.5014 * X24-0.4664 * X25) )  \n",
    "    return D\n",
    "\n",
    "df['retencao_base_esperado']=calcular_retencao(P,X1,X2,X3,X4,X5,X6,X7,X8,X9,X10,X11,X12,X13,X14,X15,X16,X17,X18,X19,X20,X21,X22,X23,X24,X25)\n",
    "\n",
    "df['retencao_target']=target_demand\n",
    "\n",
    "fator_retencao = np.mean(df['retencao_base_esperado'])/np.mean(df['retencao_target'])\n",
    "\n",
    "# Definir a função objetivo que maximiza a margem esperada otimizada \n",
    "def objetivo(precos):\n",
    "    df['precos']=precos\n",
    "    # Calcular a retenção otimizada com os preços dados\n",
    "    df['retencao_otimizada'] = calcular_retencao(precos,X1,X2,X3,X4,X5,X6,X7,X8,X9,X10,X11,X12,X13,X14,X15,X16,X17,X18,X19,X20,X21,X22,X23,X24,X25)\n",
    "    df['margem_esperada_otimizada'] =   df['retencao_otimizada']*(df['precos'] - df['Act_cost'])\n",
    "    \n",
    "    # Calcular a margem esperada total (somatório)\n",
    "    margem_esperada_total = df['margem_esperada_otimizada'].sum()\n",
    "\n",
    "    # Maximizar a margem (retornamos o negativo para que o método minimize possa maximizar)\n",
    "    return -margem_esperada_total\n",
    "\n",
    "# Definir a restrição: a retenção média deve ser igual à retenção base média \n",
    "def restricao(precos):\n",
    "    df['precos']=precos\n",
    "    \n",
    "    # Calcular a retenção otimizada média com os preços dados\n",
    "    retencao_otimizada_soma = calcular_retencao(precos,X1,X2,X3,X4,X5,X6,X7,X8,X9,X10,X11,X12,X13,X14,X15,X16,X17,X18,X19,X20,X21,X22,X23,X24,X25).sum()\n",
    "    \n",
    "    return np.round(retencao_otimizada_soma,3) - np.round(df['retencao_target'].sum,3)\n",
    "\n",
    "# Estimativas iniciais (os preços base)\n",
    "\n",
    "#precos_iniciais = fator_retencao*df['premio'].values\n",
    "\n",
    "premio_base = df['premio'].values\n",
    "\n",
    "precos_iniciais = 1*df['premio'].values\n",
    "\n",
    "# Definir os limites para os preços (0.9 * preco_base <= preco_otimizado <= 1.1 * preco_base) \n",
    "limites = [(0.9 * p, 1.1 * p) for p in premio_base]\n",
    "\n",
    "# Definir as restrições no formato exigido pelo método 'minimize'\n",
    "restricoes = ({'type': 'eq', 'fun': restricao})\n",
    "\n",
    "# Executar a otimização \n",
    "\n",
    "solution = minimize(objetivo,\n",
    "                    precos_iniciais,\n",
    "                    method='L-BFGS-B',\n",
    "                    bounds=limites,\n",
    "                    constraints=restricoes) \n",
    "# Resultados\n",
    "precos_otimizados = solution.x\n",
    "margem_esperada_total_otimizada = -resultado.fun\n",
    "\n",
    "# Verificar os preços otimizados e a margem esperada otimizada \n",
    "df['preco_otimizado'] = solution.x \n",
    "df['retencao_otimizada'] = calcular_retencao(precos_otimizados,X1,X2,X3,X4,X5,X6,X7,X8,X9,X10,X11,X12,X13,X14,X15,X16,X17,X18,X19,X20,X21,X22,X23,X24,X25)\n",
    "\n",
    "df['margem_esperada_base_case'] = df['retencao_base_esperado']*(df['premio']-df['Act_cost'])\n",
    "\n",
    "margem_esperada_total_base_case=df['margem_esperada_base_case'].sum()\n",
    "\n",
    "# Exibir os resultados\n",
    "print(solution.message) \n",
    "print(\"Margem Esperada Total Base Case:\", margem_esperada_total_base_case) \n",
    "print(\"Margem Esperada Total Otimizada:\", margem_esperada_total_otimizada) \n",
    "print(\"Retenção Média Otimizada:\", df['retencao_otimizada'].mean())\n",
    "print(\"Retenção Média Base Case:\", df['retencao_base_esperado'].mean())\n",
    "print(\"Premio Medio Otimizado:\", df['preco_otimizado'].mean())\n",
    "print(\"Premio Medio Base Case:\", df['premio'].mean())\n",
    "print(\"Tamanho da Base:\", df.shape[0])\n"
   ]
  },
  {
   "cell_type": "code",
   "execution_count": 84,
   "id": "b0ac80fc",
   "metadata": {},
   "outputs": [
    {
     "ename": "ModuleNotFoundError",
     "evalue": "No module named 'handythread'",
     "output_type": "error",
     "traceback": [
      "\u001b[1;31m---------------------------------------------------------------------------\u001b[0m",
      "\u001b[1;31mModuleNotFoundError\u001b[0m                       Traceback (most recent call last)",
      "Cell \u001b[1;32mIn[84], line 1\u001b[0m\n\u001b[1;32m----> 1\u001b[0m \u001b[38;5;28;01mfrom\u001b[39;00m \u001b[38;5;21;01mhandythread\u001b[39;00m \u001b[38;5;28;01mimport\u001b[39;00m foreach\n",
      "\u001b[1;31mModuleNotFoundError\u001b[0m: No module named 'handythread'"
     ]
    }
   ],
   "source": [
    "from handythread import foreach"
   ]
  },
  {
   "cell_type": "code",
   "execution_count": 83,
   "id": "192ef0dd",
   "metadata": {},
   "outputs": [
    {
     "name": "stdout",
     "output_type": "stream",
     "text": [
      "Defaulting to user installation because normal site-packages is not writeable\n",
      "Could not fetch URL https://pypi.org/simple/pp/: There was a problem confirming the ssl certificate: HTTPSConnectionPool(host='pypi.org', port=443): Max retries exceeded with url: /simple/pp/ (Caused by SSLError(SSLCertVerificationError(1, '[SSL: CERTIFICATE_VERIFY_FAILED] certificate verify failed: self signed certificate in certificate chain (_ssl.c:997)'))) - skipping\n",
      "Could not fetch URL https://pypi.org/simple/pip/: There was a problem confirming the ssl certificate: HTTPSConnectionPool(host='pypi.org', port=443): Max retries exceeded with url: /simple/pip/ (Caused by SSLError(SSLCertVerificationError(1, '[SSL: CERTIFICATE_VERIFY_FAILED] certificate verify failed: self signed certificate in certificate chain (_ssl.c:997)'))) - skipping\n"
     ]
    },
    {
     "name": "stderr",
     "output_type": "stream",
     "text": [
      "WARNING: Retrying (Retry(total=4, connect=None, read=None, redirect=None, status=None)) after connection broken by 'SSLError(SSLCertVerificationError(1, '[SSL: CERTIFICATE_VERIFY_FAILED] certificate verify failed: self signed certificate in certificate chain (_ssl.c:997)'))': /simple/pp/\n",
      "WARNING: Retrying (Retry(total=3, connect=None, read=None, redirect=None, status=None)) after connection broken by 'SSLError(SSLCertVerificationError(1, '[SSL: CERTIFICATE_VERIFY_FAILED] certificate verify failed: self signed certificate in certificate chain (_ssl.c:997)'))': /simple/pp/\n",
      "WARNING: Retrying (Retry(total=2, connect=None, read=None, redirect=None, status=None)) after connection broken by 'SSLError(SSLCertVerificationError(1, '[SSL: CERTIFICATE_VERIFY_FAILED] certificate verify failed: self signed certificate in certificate chain (_ssl.c:997)'))': /simple/pp/\n",
      "WARNING: Retrying (Retry(total=1, connect=None, read=None, redirect=None, status=None)) after connection broken by 'SSLError(SSLCertVerificationError(1, '[SSL: CERTIFICATE_VERIFY_FAILED] certificate verify failed: self signed certificate in certificate chain (_ssl.c:997)'))': /simple/pp/\n",
      "WARNING: Retrying (Retry(total=0, connect=None, read=None, redirect=None, status=None)) after connection broken by 'SSLError(SSLCertVerificationError(1, '[SSL: CERTIFICATE_VERIFY_FAILED] certificate verify failed: self signed certificate in certificate chain (_ssl.c:997)'))': /simple/pp/\n",
      "ERROR: Could not find a version that satisfies the requirement pp (from versions: none)\n",
      "ERROR: No matching distribution found for pp\n",
      "WARNING: There was an error checking the latest version of pip.\n"
     ]
    }
   ],
   "source": [
    "!pip install pp"
   ]
  },
  {
   "cell_type": "code",
   "execution_count": null,
   "id": "066bbb55",
   "metadata": {},
   "outputs": [],
   "source": []
  }
 ],
 "metadata": {
  "kernelspec": {
   "display_name": "Python 3 (ipykernel)",
   "language": "python",
   "name": "python3"
  },
  "language_info": {
   "codemirror_mode": {
    "name": "ipython",
    "version": 3
   },
   "file_extension": ".py",
   "mimetype": "text/x-python",
   "name": "python",
   "nbconvert_exporter": "python",
   "pygments_lexer": "ipython3",
   "version": "3.10.9"
  }
 },
 "nbformat": 4,
 "nbformat_minor": 5
}
