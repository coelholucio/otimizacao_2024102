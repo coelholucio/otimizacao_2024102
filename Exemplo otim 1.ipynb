{
 "cells": [
  {
   "cell_type": "code",
   "execution_count": 2,
   "id": "d0ccf3a7",
   "metadata": {},
   "outputs": [],
   "source": [
    "import pandas as pd\n",
    "import numpy as np\n",
    "from pandas import DataFrame\n",
    "import matplotlib.pyplot as plt\n",
    "import seaborn as sns\n",
    "from statsmodels.formula.api import ols\n",
    "import plotly.express as px\n",
    "import plotly.graph_objects as go"
   ]
  },
  {
   "cell_type": "code",
   "execution_count": 3,
   "id": "6d320c80",
   "metadata": {},
   "outputs": [],
   "source": [
    "# Generate random product data\n",
    "df = pd.DataFrame({\n",
    "    'id': np.arange(1, 1001),\n",
    "    'Price': np.random.uniform(50, 500, size=1000),\n",
    "    'Quantity': np.random.uniform(1,100, size=1000)\n",
    "})"
   ]
  },
  {
   "cell_type": "code",
   "execution_count": 4,
   "id": "3a2b301c",
   "metadata": {},
   "outputs": [
    {
     "data": {
      "text/plain": [
       "(1000, 3)"
      ]
     },
     "execution_count": 4,
     "metadata": {},
     "output_type": "execute_result"
    }
   ],
   "source": [
    "df.shape"
   ]
  },
  {
   "cell_type": "code",
   "execution_count": 7,
   "id": "7a275313",
   "metadata": {},
   "outputs": [
    {
     "data": {
      "text/html": [
       "<div>\n",
       "<style scoped>\n",
       "    .dataframe tbody tr th:only-of-type {\n",
       "        vertical-align: middle;\n",
       "    }\n",
       "\n",
       "    .dataframe tbody tr th {\n",
       "        vertical-align: top;\n",
       "    }\n",
       "\n",
       "    .dataframe thead th {\n",
       "        text-align: right;\n",
       "    }\n",
       "</style>\n",
       "<table border=\"1\" class=\"dataframe\">\n",
       "  <thead>\n",
       "    <tr style=\"text-align: right;\">\n",
       "      <th></th>\n",
       "      <th>id</th>\n",
       "      <th>Price</th>\n",
       "      <th>Quantity</th>\n",
       "    </tr>\n",
       "  </thead>\n",
       "  <tbody>\n",
       "    <tr>\n",
       "      <th>0</th>\n",
       "      <td>1</td>\n",
       "      <td>90.459953</td>\n",
       "      <td>98.0</td>\n",
       "    </tr>\n",
       "    <tr>\n",
       "      <th>1</th>\n",
       "      <td>2</td>\n",
       "      <td>276.857523</td>\n",
       "      <td>42.0</td>\n",
       "    </tr>\n",
       "    <tr>\n",
       "      <th>2</th>\n",
       "      <td>3</td>\n",
       "      <td>107.414384</td>\n",
       "      <td>5.0</td>\n",
       "    </tr>\n",
       "    <tr>\n",
       "      <th>3</th>\n",
       "      <td>4</td>\n",
       "      <td>455.750539</td>\n",
       "      <td>25.0</td>\n",
       "    </tr>\n",
       "    <tr>\n",
       "      <th>4</th>\n",
       "      <td>5</td>\n",
       "      <td>457.430118</td>\n",
       "      <td>87.0</td>\n",
       "    </tr>\n",
       "  </tbody>\n",
       "</table>\n",
       "</div>"
      ],
      "text/plain": [
       "   id       Price  Quantity\n",
       "0   1   90.459953      98.0\n",
       "1   2  276.857523      42.0\n",
       "2   3  107.414384       5.0\n",
       "3   4  455.750539      25.0\n",
       "4   5  457.430118      87.0"
      ]
     },
     "execution_count": 7,
     "metadata": {},
     "output_type": "execute_result"
    }
   ],
   "source": [
    "df.head(5)"
   ]
  },
  {
   "cell_type": "code",
   "execution_count": 6,
   "id": "b3f1a39d",
   "metadata": {},
   "outputs": [],
   "source": [
    "df = df.round({'Quantity': 0})"
   ]
  },
  {
   "cell_type": "code",
   "execution_count": 8,
   "id": "0b9164dd",
   "metadata": {},
   "outputs": [],
   "source": [
    "model = ols(\"Quantity ~ Price\", data=df).fit()"
   ]
  },
  {
   "cell_type": "code",
   "execution_count": 10,
   "id": "79565412",
   "metadata": {},
   "outputs": [],
   "source": [
    "Price = list(range(200, 370, 10))\n",
    "cost = 100\n",
    "quantity = []\n",
    "Revenue = []\n",
    "for i in Price:\n",
    "\n",
    " demand = model.params[0] + (model.params[1] * i)\n",
    "\n",
    " quantity.append(demand)\n",
    "\n",
    " Revenue.append((i-cost) * demand)\n"
   ]
  },
  {
   "cell_type": "code",
   "execution_count": 13,
   "id": "015cac1e",
   "metadata": {},
   "outputs": [
    {
     "name": "stdout",
     "output_type": "stream",
     "text": [
      "    Price       Revenue   Quantity\n",
      "0     200   5079.791404  50.797914\n",
      "1     210   5583.409668  50.758270\n",
      "2     220   6086.235045  50.718625\n",
      "3     230   6588.267535  50.678981\n",
      "4     240   7089.507139  50.639337\n",
      "5     250   7589.953856  50.599692\n",
      "6     260   8089.607686  50.560048\n",
      "7     270   8588.468630  50.520404\n",
      "8     280   9086.536687  50.480759\n",
      "9     290   9583.811857  50.441115\n",
      "10    300  10080.294141  50.401471\n",
      "11    310  10575.983538  50.361826\n",
      "12    320  11070.880048  50.322182\n",
      "13    330  11564.983671  50.282538\n",
      "14    340  12058.294408  50.242893\n",
      "15    350  12550.812258  50.203249\n",
      "16    360  13042.537222  50.163605\n"
     ]
    }
   ],
   "source": [
    "profit = pd.DataFrame({\"Price\": Price, \"Revenue\": Revenue, \"Quantity\": quantity})\n",
    "print(profit)"
   ]
  },
  {
   "cell_type": "code",
   "execution_count": 14,
   "id": "ba26f598",
   "metadata": {},
   "outputs": [
    {
     "name": "stdout",
     "output_type": "stream",
     "text": [
      "    Price       Revenue   Quantity\n",
      "16    360  13042.537222  50.163605\n"
     ]
    }
   ],
   "source": [
    "max_val = profit.loc[(profit['Revenue'] == profit['Revenue'].max())]\n",
    "print(max_val)"
   ]
  },
  {
   "cell_type": "code",
   "execution_count": null,
   "id": "41074bea",
   "metadata": {},
   "outputs": [],
   "source": [
    "\n",
    "\n",
    "fig_PriceVsRevenue = go.Figure()\n",
    "\n",
    "fig_PriceVsRevenue.add_trace(go.Scatter(\n",
    "\n",
    "x=profit['Price'], y=profit['Revenue']))\n",
    "\n",
    "fig_PriceVsRevenue.add_annotation(x=int(max_val['Price']), y=int(max_val['Revenue']),\n",
    "\n",
    " text=\"Maximum Revenue\",\n",
    "\n",
    " showarrow=True,\n",
    "\n",
    " arrowhead=1)\n",
    "\n",
    "fig_PriceVsRevenue.update_layout(\n",
    "\n",
    " showlegend=False,\n",
    "\n",
    " xaxis_title=\"Price\",\n",
    "\n",
    " yaxis_title=\"Revenue\")\n",
    "\n",
    "fig_PriceVsRevenue.add_vline(x=int(max_val['Price']), line_width=2, line_dash=\"dash\", line_color=\"red\", opacity=0.25)"
   ]
  },
  {
   "cell_type": "code",
   "execution_count": null,
   "id": "e8498bc2",
   "metadata": {},
   "outputs": [],
   "source": []
  },
  {
   "cell_type": "code",
   "execution_count": null,
   "id": "d6f9451f",
   "metadata": {},
   "outputs": [],
   "source": []
  },
  {
   "cell_type": "code",
   "execution_count": null,
   "id": "a46e109c",
   "metadata": {},
   "outputs": [],
   "source": []
  },
  {
   "cell_type": "code",
   "execution_count": null,
   "id": "da07ad90",
   "metadata": {},
   "outputs": [],
   "source": []
  },
  {
   "cell_type": "code",
   "execution_count": null,
   "id": "e09d9620",
   "metadata": {},
   "outputs": [],
   "source": []
  },
  {
   "cell_type": "code",
   "execution_count": null,
   "id": "b092483c",
   "metadata": {},
   "outputs": [],
   "source": []
  }
 ],
 "metadata": {
  "kernelspec": {
   "display_name": "Python 3 (ipykernel)",
   "language": "python",
   "name": "python3"
  },
  "language_info": {
   "codemirror_mode": {
    "name": "ipython",
    "version": 3
   },
   "file_extension": ".py",
   "mimetype": "text/x-python",
   "name": "python",
   "nbconvert_exporter": "python",
   "pygments_lexer": "ipython3",
   "version": "3.10.9"
  }
 },
 "nbformat": 4,
 "nbformat_minor": 5
}
