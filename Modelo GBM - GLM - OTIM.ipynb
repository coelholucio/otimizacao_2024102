{
 "cells": [
  {
   "cell_type": "code",
   "execution_count": 1,
   "id": "4317d284",
   "metadata": {},
   "outputs": [],
   "source": [
    "import pandas as pd\n",
    "import seaborn as sns\n",
    "import matplotlib.pyplot as plt\n",
    "import numpy as np\n",
    "\n",
    "from sklearn.preprocessing import LabelEncoder\n",
    "from sklearn.model_selection import train_test_split\n",
    "from sklearn import metrics\n",
    "from sklearn.preprocessing import StandardScaler\n",
    "\n",
    "from sklearn.tree import DecisionTreeRegressor\n",
    "from sklearn.ensemble import RandomForestRegressor\n",
    "import xgboost as xgb\n",
    "from sklearn.metrics import mean_squared_error, mean_absolute_error, r2_score\n",
    "from sklearn.linear_model import LinearRegression\n",
    "\n",
    "\n",
    "import warnings\n",
    "warnings.filterwarnings('ignore')\n"
   ]
  },
  {
   "cell_type": "code",
   "execution_count": 2,
   "id": "a00505b4",
   "metadata": {},
   "outputs": [],
   "source": [
    "mercado_df = pd.read_csv(\"C://Flavio/Projeto Otimizacao/Modelo Mercado/data_consolidado_final_jun24.csv\",\n",
    "                     encoding='latin-1',\n",
    "                     delimiter=';')"
   ]
  },
  {
   "cell_type": "code",
   "execution_count": 3,
   "id": "d39023bc",
   "metadata": {},
   "outputs": [],
   "source": [
    "df_mod=mercado_df[[\"premio_total_liq_cap\",\"ano_mod_conv\",\"classe_bonus\",\n",
    "                   \"idade\",\"is_casco\",\"is_dmoral\",\"is_rcdc\",\"is_rcdm\",\n",
    "                   \"RNS_Casco_calc\",\n",
    "                   \"Grupo_veiculo_new\", \"fabrica\",\"idade_ult_RNS\",\"md_categoria\",\n",
    "                   \"MD_comb\",\"md_config\",\"MD_franquia\",\"md_menor26\",\"md_sexo\",\n",
    "                   \"MD_Subzona\",\"md_tipo_renov\",\"MD_uso_veic\",\"uf\"]]\n",
    "\n",
    "df_mod.rename(columns={'premio_total_liq_cap':'premio_ofertado', 'ano_mod_conv': 'ano_mod'},inplace=True)"
   ]
  },
  {
   "cell_type": "code",
   "execution_count": 4,
   "id": "557c1042",
   "metadata": {},
   "outputs": [],
   "source": [
    "x_df_num = df_mod[['ano_mod', 'classe_bonus', 'idade', 'is_casco', 'is_dmoral', 'is_rcdc', 'is_rcdm', 'RNS_Casco_calc']]\n",
    "x_df_cat = df_mod[['Grupo_veiculo_new', 'fabrica', 'idade_ult_RNS', 'md_categoria', 'MD_comb', 'md_config', 'MD_franquia', 'md_menor26', 'md_sexo', 'MD_Subzona','md_tipo_renov', 'MD_uso_veic','uf']]\n",
    "y   = df_mod[['premio_ofertado']]\n",
    "x_df_dummy=pd.get_dummies(x_df_cat)\n",
    "x_df=pd.concat([x_df_num, x_df_dummy],axis=1)\n",
    "x_train, x_test, y_train, y_test = train_test_split(x_df, y, test_size=0.15) "
   ]
  },
  {
   "cell_type": "code",
   "execution_count": 7,
   "id": "47d3f47b",
   "metadata": {},
   "outputs": [
    {
     "name": "stdout",
     "output_type": "stream",
     "text": [
      "MSE: 580539.45\n",
      "RMSE: 761.93\n"
     ]
    }
   ],
   "source": [
    "import lightgbm as lgb\n",
    "params = {\n",
    "    'task': 'train', \n",
    "    'boosting': 'gbdt',\n",
    "    'objective': 'regression',\n",
    "    'num_leaves': 10,\n",
    "    'learnnig_rage': 0.05,\n",
    "    'metric': {'l2','l1'},\n",
    "    'verbose': -1\n",
    "}\n",
    "\n",
    "lgb_train = lgb.Dataset(x_train, y_train)\n",
    "lgb_eval  = lgb.Dataset(x_test, y_test, reference=lgb_train)\n",
    "\n",
    "model_gbm = lgb.train(params,\n",
    "                 train_set=lgb_train,\n",
    "                 valid_sets=lgb_eval)\n",
    "\n",
    "y_pred = model_gbm.predict(x_test, predict_disable_shape_check=True)\n",
    "\n",
    "# accuracy check\n",
    "mse = mean_squared_error(y_test, y_pred)\n",
    "rmse = mse**(0.5)\n",
    "print(\"MSE: %.2f\" % mse)\n",
    "print(\"RMSE: %.2f\" % rmse) "
   ]
  },
  {
   "cell_type": "markdown",
   "id": "3a90ff8b",
   "metadata": {},
   "source": [
    "## modelagem GLM"
   ]
  },
  {
   "cell_type": "code",
   "execution_count": 8,
   "id": "628b03c6",
   "metadata": {},
   "outputs": [],
   "source": [
    "df_mod_mp_feb23may24_v3 = pd.read_csv(\"C://Flavio/Projeto Otimizacao/Modelo Renovacao/df_mod_mp_feb23may24_v3.csv\",\n",
    "                     encoding='latin-1',\n",
    "                     delimiter='|')"
   ]
  },
  {
   "cell_type": "markdown",
   "id": "fdaf0495",
   "metadata": {},
   "source": [
    "parte para incluir o preço do mercado na base de modelagem glm"
   ]
  },
  {
   "cell_type": "code",
   "execution_count": 9,
   "id": "b787d445",
   "metadata": {},
   "outputs": [],
   "source": [
    "colunas=['premio_ofertado','ano_mod','classe_bonus','MD_idade','is_casco_ofer','is_dmoral','is_rcdc','is_rcdm','RNS_Casco_calc',\n",
    " 'Grupo_veiculo_new','FABRICA','idade_ult_RNS', 'md_categoria','MD_comb','MD_config','MD_franquia','MD_menor26','MD_sexo','MD_Subzona',  \n",
    " 'MD_tipo_renov','MD_uso_veic','UF']"
   ]
  },
  {
   "cell_type": "code",
   "execution_count": 10,
   "id": "872a387c",
   "metadata": {},
   "outputs": [],
   "source": [
    "df_escorar_gbm=df_mod_mp_feb23may24_v3[colunas]"
   ]
  },
  {
   "cell_type": "code",
   "execution_count": 11,
   "id": "facf785e",
   "metadata": {},
   "outputs": [],
   "source": [
    "df_escorar_gbm.rename(columns={'MD_idade':'idade', \n",
    "                                   'is_casco_ofer': 'is_casco',\n",
    "                                   'FABRICA': 'fabrica',\n",
    "                                   'MD_config':  'md_config',\n",
    "                                   'MD_menor26': 'md_menor26',\n",
    "                                   'MD_sexo': 'md_sexo',\n",
    "                                   'UF': 'uf',\n",
    "                                   'MD_tipo_renov':  'md_tipo_renov'},inplace=True)\n",
    "df_escorar_gbm['idade'] = pd.to_numeric(df_escorar_gbm['idade'], errors='coerce')"
   ]
  },
  {
   "cell_type": "code",
   "execution_count": 13,
   "id": "8c8896bb",
   "metadata": {},
   "outputs": [],
   "source": [
    "df_num = df_escorar_gbm[['ano_mod', 'classe_bonus', 'idade', 'is_casco', 'is_dmoral', 'is_rcdc', 'is_rcdm', 'RNS_Casco_calc']]\n",
    "df_cat = df_escorar_gbm[['Grupo_veiculo_new', 'fabrica', 'idade_ult_RNS', 'md_categoria', 'MD_comb', 'md_config', 'MD_franquia', 'md_menor26', 'md_sexo', 'MD_Subzona','md_tipo_renov', 'MD_uso_veic','uf']]\n",
    "df_cat_glm=pd.get_dummies(df_cat)\n",
    "df_cat_glm=pd.concat([df_num, df_cat_glm],axis=1)\n",
    "GBM_mercado = model_gbm.predict(df_cat_glm, predict_disable_shape_check=True)"
   ]
  },
  {
   "cell_type": "code",
   "execution_count": 14,
   "id": "ffc2656d",
   "metadata": {},
   "outputs": [
    {
     "data": {
      "text/plain": [
       "4106.275672356089"
      ]
     },
     "execution_count": 14,
     "metadata": {},
     "output_type": "execute_result"
    }
   ],
   "source": [
    "import numpy as np\n",
    "np.average(GBM_mercado)"
   ]
  },
  {
   "cell_type": "code",
   "execution_count": 16,
   "id": "53c39c8f",
   "metadata": {},
   "outputs": [],
   "source": [
    "df_mod_mp_feb23may24_v3['GBM_mercado']=GBM_mercado"
   ]
  },
  {
   "cell_type": "markdown",
   "id": "332c19f7",
   "metadata": {},
   "source": [
    "#### prepara base de modelagem glm"
   ]
  },
  {
   "cell_type": "code",
   "execution_count": 43,
   "id": "b717c29c",
   "metadata": {},
   "outputs": [],
   "source": [
    "df_mod_filtered=df_mod_mp_feb23may24_v3[[\"premio_ofertado\",\"premio_total\",'GBM_mercado', 'premio_creserva','premio_demais_cob',\"teste_validacao\",\"ind_renovacao\",\"classe_bonus\",\"MD_sexo\",\"cod_corr\",\n",
    "                                \"Cod_End\",\"MD_sin_5a_cas\",\"MD_tempo_casa_2\",\"MD_idade_veic\",\"MD_faixa_IScas\",\n",
    "                                \"anomes_dt_ter\" ,\"MD_idade\" ,\"per_com\", \"RNS_Casco_calc\",\"MD_menor26\",\"UF\",\"Renovacao_ant\",\n",
    "                                \"fx_ir_12m\",\"is_casco_ofer\",\"classe_bonus\",\"MD_fator_ajuste\",\"MD_capac\",\"md_categoria\",\n",
    "                                \"MD_comb\",\"MD_qtd_assis_cpf\", \"idade_ult_RNS\",\"canal\",\"MD_tipo_renov\",'FABRICA','MD_est_civil',\n",
    "                                'peso','Grupo_veiculo_new','vigencia',\n",
    "                                'Risco_PP_mod', 'Risco_PT_mod','Risco_RF_mod','Risco_DM_mod','Risco_AS_mod',\n",
    "                                'Risco_DC_mod' ,'Risco_DMO_mod']]"
   ]
  },
  {
   "cell_type": "code",
   "execution_count": 44,
   "id": "1cb14d6c",
   "metadata": {},
   "outputs": [
    {
     "data": {
      "text/plain": [
       "(388318, 45)"
      ]
     },
     "execution_count": 44,
     "metadata": {},
     "output_type": "execute_result"
    }
   ],
   "source": [
    "df_mod_filtered = df_mod_filtered[df_mod_filtered['per_com'].notna()]\n",
    "df_mod_filtered = df_mod_filtered[df_mod_filtered['Renovacao_ant'].notna()]\n",
    "df_mod_filtered = df_mod_filtered[df_mod_filtered['MD_est_civil'].notna()]\n",
    "df_mod_filtered = df_mod_filtered[df_mod_filtered['peso'].notna()]\n",
    "df_mod_filtered = df_mod_filtered[~df_mod_filtered['anomes_dt_ter'].isin([202310,202309,202308,202302,202402])]\n",
    "df_mod_filtered = df_mod_filtered.query('vigencia == \"Anual\"')\n",
    "df_mod_filtered = df_mod_filtered[(df_mod_filtered['per_com']>0) & (df_mod_filtered['per_com']<50)]\n",
    "df_mod_filtered = df_mod_filtered.query('premio_total >100')\n",
    "df_mod_filtered = df_mod_filtered.query('premio_creserva >= 0')\n",
    "df_mod_filtered = df_mod_filtered.query('is_casco_ofer > 0')\n",
    "df_mod_filtered.shape"
   ]
  },
  {
   "cell_type": "code",
   "execution_count": 45,
   "id": "7676c516",
   "metadata": {},
   "outputs": [],
   "source": [
    "df_mod_filtered['DA_emissao'] =0.2349\n",
    "df_mod_filtered['DA_producao'] =0.2749\n",
    "df_mod_filtered['risco_dmais_cob'] =df_mod_filtered['premio_demais_cob']*0.2627*1.4\n",
    "df_mod_filtered['premio_anterior'] =df_mod_filtered['premio_total']\n",
    "df_mod_filtered['Act_cost']  = df_mod_filtered['Risco_PP_mod'] + df_mod_filtered['Risco_PT_mod'] + df_mod_filtered['Risco_RF_mod']+ df_mod_filtered['Risco_DM_mod']+ df_mod_filtered['Risco_AS_mod'] + df_mod_filtered['Risco_DC_mod'] +df_mod_filtered['Risco_DMO_mod'] + df_mod_filtered['risco_dmais_cob']\n",
    "df_mod_filtered['Premio_IC100']  = df_mod_filtered['Act_cost']/(1-df_mod_filtered['per_com']/100-df_mod_filtered['DA_producao'] )\n",
    "df_mod_filtered[\"premio\"] = df_mod_filtered[\"premio_ofertado\"]"
   ]
  },
  {
   "cell_type": "code",
   "execution_count": 46,
   "id": "a26deb65",
   "metadata": {},
   "outputs": [],
   "source": [
    "df_mod=df_mod_filtered.copy()"
   ]
  },
  {
   "cell_type": "code",
   "execution_count": 47,
   "id": "687abc4a",
   "metadata": {
    "scrolled": true
   },
   "outputs": [],
   "source": [
    "#Criar um função para categorizar \n",
    "\n",
    "df_mod['MD_sexo_bin'] = df_mod['MD_sexo'].map({'Masculino': 'Masculino', \n",
    "                                 'Feminino': 'Feminino', \n",
    "                                  'ERRO': 'Masculino'}).astype(object)\n",
    "\n",
    "df_mod['fx_ir_12m_bin'] = df_mod['fx_ir_12m'].apply(lambda x: '01 - 00-<=020' if x == '01 - 00-<=020' else\n",
    "                                                              '02 - 20-<=040' if x == '02 - 20-<=040' else\n",
    "                                                              '03 - 40-<=060' if x == '03 - 40-<=060' else\n",
    "                                                              '04 - 60-<=080' if x == '04 - 60-<=080' else\n",
    "                                                              '05 - 80-<=100' if x == '05 - 80-<=100' else\n",
    "                                                              '02 - 20-<=040' if x == 'NI'           else 'ERROR')\n",
    "   \n",
    "df_mod['per_com_bin'] = df_mod['per_com'].apply(lambda x: '<10' if x < 10 else\n",
    "                                                          '>=10' if x >= 10 else 'ERROR')     \n",
    "  \n",
    "df_mod['MD_comb_bin'] = df_mod['MD_comb'].apply(lambda x: 'Gasolina' if x == 'Gasolina'  else 'Demais')\n",
    "\n",
    "df_mod['canal_bin'] = df_mod['canal'].apply(lambda x: 'Corretor Mais' if x == 'Corretor Mais'  else 'Demais')\n",
    "\n",
    "df_mod['idade_ult_RNS_bin'] = df_mod['idade_ult_RNS'].apply(lambda x: 'Sem Sinistro' if x == 'Sem Sinistro' else\n",
    "                                                                      '01 ano' if x == '01 ano' else\n",
    "                                                                      '02 ano' if x == '02 ano' else '02 ano +')\n",
    "\n",
    "df_mod['UF_bin'] = df_mod['UF'].apply(lambda x: 'AL,CE,RS'  if x == 'AL' else\n",
    "                                                'AL,CE,RS'  if x == 'CE' else\n",
    "                                                'AL,CE,RS'  if x == 'RS' else \n",
    "                                                'AP,DF,ES,PA,PB,RN,SC' if x == 'AP' else \n",
    "                                                'AP,DF,ES,PA,PB,RN,SC' if x == 'DF' else \n",
    "                                                'AP,DF,ES,PA,PB,RN,SC' if x == 'ES' else \n",
    "                                                'AP,DF,ES,PA,PB,RN,SC' if x == 'PA' else \n",
    "                                                'AP,DF,ES,PA,PB,RN,SC' if x == 'PB' else \n",
    "                                                'AP,DF,ES,PA,PB,RN,SC' if x == 'RN' else \n",
    "                                                'AP,DF,ES,PA,PB,RN,SC' if x == 'SC' else \n",
    "                                                'GO,MA,MG'             if x == 'GO' else \n",
    "                                                'GO,MA,MG'             if x == 'MA' else \n",
    "                                                'GO,MA,MG'             if x == 'MG' else \n",
    "                                                'MT,PR'                if x == 'MT' else\n",
    "                                                'MT,PR'                if x == 'PR' else \n",
    "                                                'RJ'                   if x == 'RJ' else  'Demais')\n",
    "\n",
    "\n",
    "\n",
    "df_mod['md_tipo_renov_ant_bin'] = df_mod['Renovacao_ant'].apply(lambda x: '1-SeguroNovo'                      if x == '1-Seguro Novo'    else\n",
    "                                                                          '2 - Renov MAPFRE sem sinistro'     if x == '2-RenovPropria'   else\n",
    "                                                                          '3 - Renov MAPFRE com sinistro'     if x == '2-RenovPropria'   else\n",
    "                                                                          '4 - Renov Congenere sem sinistro'  if x == '3-RenovCongenere' else\n",
    "                                                                          '5 - Renov Congenere com sinistro'  if x == '3-RenovCongenere' else\n",
    "                                                                          '6 - Renov BB sem sinistro'         if x == '3-RenovCongenere' else\n",
    "                                                                          '7 - Renov BB com sinistro'         if x == '3-RenovCongenere' else  '2-RenovPropria')\n",
    "      \n",
    "      \n",
    "\n",
    "    \n",
    "df_mod['Cod_End_bin'] = df_mod['Cod_End'].apply(lambda x: '13509'  if x == 13509 else\n",
    "                                                          '13509'  if x == 50007 else\n",
    "                                                          '13509'  if x == 50100 else 'Demais')   \n",
    "\n",
    "df_mod['MD_capac_bin'] = df_mod['MD_capac'].apply(lambda x: '5'  if x == 5  else 'Demais')  \n",
    "\n",
    "\n",
    "\n",
    "df_mod['fator_ajuste_bin'] = df_mod['MD_fator_ajuste'].apply(lambda x: '<101'    if x < 101 else\n",
    "                                                                       '>=101'   if x >= 101  else '<101')   \n",
    "\n",
    "df_mod['MD_qtd_assis_cpf_bin'] = df_mod['MD_qtd_assis_cpf'].apply(lambda x: '00'  if x == 0 else\n",
    "                                                                            '01'  if x == 1 else\n",
    "                                                                            '>=2' if x >= 2 else 'ERROR')"
   ]
  },
  {
   "cell_type": "code",
   "execution_count": 48,
   "id": "b686fa6f",
   "metadata": {},
   "outputs": [
    {
     "data": {
      "text/plain": [
       "(310913, 64)"
      ]
     },
     "execution_count": 48,
     "metadata": {},
     "output_type": "execute_result"
    }
   ],
   "source": [
    "df_train = df_mod.query('teste_validacao == \"Trein\"')\n",
    "df_train.shape"
   ]
  },
  {
   "cell_type": "code",
   "execution_count": 36,
   "id": "2572a208",
   "metadata": {},
   "outputs": [],
   "source": [
    "#df_train2 = df_train[df_train[(df_train['UF'] == 'SP')] & (~df_train['Grupo_veiculo_new'].isin([\"Toyota Hilux CD\",\"Toyota Hilux CS\",\"Toyota Hilux SW4\"]))]\n",
    "#df_train2.shape"
   ]
  },
  {
   "cell_type": "code",
   "execution_count": 496,
   "id": "cd28c96b",
   "metadata": {},
   "outputs": [],
   "source": [
    "#df_train = df_train[(df_train['UF'] == 'SP') & (~df_train['Grupo_veiculo_new'].isin([\"Toyota Hilux CD\",\"Toyota Hilux CS\",\"Toyota Hilux SW4\"]))]\n",
    "#df_train.shape"
   ]
  },
  {
   "cell_type": "code",
   "execution_count": 49,
   "id": "30c35999",
   "metadata": {},
   "outputs": [
    {
     "data": {
      "text/html": [
       "<div>\n",
       "<style scoped>\n",
       "    .dataframe tbody tr th:only-of-type {\n",
       "        vertical-align: middle;\n",
       "    }\n",
       "\n",
       "    .dataframe tbody tr th {\n",
       "        vertical-align: top;\n",
       "    }\n",
       "\n",
       "    .dataframe thead th {\n",
       "        text-align: right;\n",
       "    }\n",
       "</style>\n",
       "<table border=\"1\" class=\"dataframe\">\n",
       "  <thead>\n",
       "    <tr style=\"text-align: right;\">\n",
       "      <th></th>\n",
       "      <th>count</th>\n",
       "      <th>mean</th>\n",
       "      <th>std</th>\n",
       "      <th>min</th>\n",
       "      <th>25%</th>\n",
       "      <th>50%</th>\n",
       "      <th>75%</th>\n",
       "      <th>max</th>\n",
       "    </tr>\n",
       "  </thead>\n",
       "  <tbody>\n",
       "    <tr>\n",
       "      <th>Act_cost</th>\n",
       "      <td>310913.0</td>\n",
       "      <td>1723.935999</td>\n",
       "      <td>1533.558565</td>\n",
       "      <td>155.790548</td>\n",
       "      <td>880.102121</td>\n",
       "      <td>1287.055629</td>\n",
       "      <td>2035.829042</td>\n",
       "      <td>74027.191185</td>\n",
       "    </tr>\n",
       "    <tr>\n",
       "      <th>Premio_IC100</th>\n",
       "      <td>310913.0</td>\n",
       "      <td>3024.359106</td>\n",
       "      <td>2669.004613</td>\n",
       "      <td>312.305413</td>\n",
       "      <td>1555.405520</td>\n",
       "      <td>2256.816147</td>\n",
       "      <td>3576.591487</td>\n",
       "      <td>124394.540725</td>\n",
       "    </tr>\n",
       "    <tr>\n",
       "      <th>per_com</th>\n",
       "      <td>310913.0</td>\n",
       "      <td>15.434452</td>\n",
       "      <td>5.672286</td>\n",
       "      <td>1.000000</td>\n",
       "      <td>10.000000</td>\n",
       "      <td>15.000000</td>\n",
       "      <td>20.000000</td>\n",
       "      <td>49.000000</td>\n",
       "    </tr>\n",
       "    <tr>\n",
       "      <th>ind_renovacao</th>\n",
       "      <td>310913.0</td>\n",
       "      <td>0.464191</td>\n",
       "      <td>0.498717</td>\n",
       "      <td>0.000000</td>\n",
       "      <td>0.000000</td>\n",
       "      <td>0.000000</td>\n",
       "      <td>1.000000</td>\n",
       "      <td>1.000000</td>\n",
       "    </tr>\n",
       "    <tr>\n",
       "      <th>GBM_mercado</th>\n",
       "      <td>310913.0</td>\n",
       "      <td>4116.566993</td>\n",
       "      <td>1060.687649</td>\n",
       "      <td>2103.220000</td>\n",
       "      <td>3376.541054</td>\n",
       "      <td>3897.500791</td>\n",
       "      <td>4635.279464</td>\n",
       "      <td>10696.172316</td>\n",
       "    </tr>\n",
       "  </tbody>\n",
       "</table>\n",
       "</div>"
      ],
      "text/plain": [
       "                  count         mean          std          min          25%  \\\n",
       "Act_cost       310913.0  1723.935999  1533.558565   155.790548   880.102121   \n",
       "Premio_IC100   310913.0  3024.359106  2669.004613   312.305413  1555.405520   \n",
       "per_com        310913.0    15.434452     5.672286     1.000000    10.000000   \n",
       "ind_renovacao  310913.0     0.464191     0.498717     0.000000     0.000000   \n",
       "GBM_mercado    310913.0  4116.566993  1060.687649  2103.220000  3376.541054   \n",
       "\n",
       "                       50%          75%            max  \n",
       "Act_cost       1287.055629  2035.829042   74027.191185  \n",
       "Premio_IC100   2256.816147  3576.591487  124394.540725  \n",
       "per_com          15.000000    20.000000      49.000000  \n",
       "ind_renovacao     0.000000     1.000000       1.000000  \n",
       "GBM_mercado    3897.500791  4635.279464   10696.172316  "
      ]
     },
     "metadata": {},
     "output_type": "display_data"
    }
   ],
   "source": [
    "display(df_train[[\"Act_cost\", \"Premio_IC100\", \"per_com\",\"ind_renovacao\",'GBM_mercado']].describe().T)"
   ]
  },
  {
   "cell_type": "code",
   "execution_count": 161,
   "id": "7d659c60",
   "metadata": {},
   "outputs": [],
   "source": [
    "#df_train.columns.to_list()"
   ]
  },
  {
   "cell_type": "code",
   "execution_count": 52,
   "id": "a97368be",
   "metadata": {},
   "outputs": [
    {
     "name": "stdout",
     "output_type": "stream",
     "text": [
      "Optimization terminated successfully.\n",
      "         Current function value: 0.564789\n",
      "         Iterations 6\n"
     ]
    },
    {
     "data": {
      "text/html": [
       "<table class=\"simpletable\">\n",
       "<caption>Logit Regression Results</caption>\n",
       "<tr>\n",
       "  <th>Dep. Variable:</th>     <td>ind_renovacao</td>  <th>  No. Observations:  </th>   <td>310913</td>   \n",
       "</tr>\n",
       "<tr>\n",
       "  <th>Model:</th>                 <td>Logit</td>      <th>  Df Residuals:      </th>   <td>310888</td>   \n",
       "</tr>\n",
       "<tr>\n",
       "  <th>Method:</th>                 <td>MLE</td>       <th>  Df Model:          </th>   <td>    24</td>   \n",
       "</tr>\n",
       "<tr>\n",
       "  <th>Date:</th>            <td>Thu, 25 Jul 2024</td> <th>  Pseudo R-squ.:     </th>   <td>0.1822</td>   \n",
       "</tr>\n",
       "<tr>\n",
       "  <th>Time:</th>                <td>11:32:57</td>     <th>  Log-Likelihood:    </th> <td>-1.7560e+05</td>\n",
       "</tr>\n",
       "<tr>\n",
       "  <th>converged:</th>             <td>True</td>       <th>  LL-Null:           </th> <td>-2.1471e+05</td>\n",
       "</tr>\n",
       "<tr>\n",
       "  <th>Covariance Type:</th>     <td>nonrobust</td>    <th>  LLR p-value:       </th>   <td> 0.000</td>   \n",
       "</tr>\n",
       "</table>\n",
       "<table class=\"simpletable\">\n",
       "<tr>\n",
       "                                                     <td></td>                                                        <th>coef</th>     <th>std err</th>      <th>z</th>      <th>P>|z|</th>  <th>[0.025</th>    <th>0.975]</th>  \n",
       "</tr>\n",
       "<tr>\n",
       "  <th>Intercept</th>                                                                                               <td>    2.2112</td> <td>    0.210</td> <td>   10.532</td> <td> 0.000</td> <td>    1.800</td> <td>    2.623</td>\n",
       "</tr>\n",
       "<tr>\n",
       "  <th>C(canal_bin, Treatment(reference=\"Demais\"))[T.Corretor Mais]</th>                                            <td>    0.0324</td> <td>    0.010</td> <td>    3.150</td> <td> 0.002</td> <td>    0.012</td> <td>    0.053</td>\n",
       "</tr>\n",
       "<tr>\n",
       "  <th>C(Cod_End_bin, Treatment(reference=\"Demais\"))[T.13509]</th>                                                  <td>   -0.2789</td> <td>    0.014</td> <td>  -20.416</td> <td> 0.000</td> <td>   -0.306</td> <td>   -0.252</td>\n",
       "</tr>\n",
       "<tr>\n",
       "  <th>C(fator_ajuste_bin, Treatment(reference=\"<101\"))[T.>=101]</th>                                               <td>    0.0802</td> <td>    0.029</td> <td>    2.774</td> <td> 0.006</td> <td>    0.024</td> <td>    0.137</td>\n",
       "</tr>\n",
       "<tr>\n",
       "  <th>C(per_com_bin, Treatment(reference=\">=10\"))[T.<10]</th>                                                      <td>    0.1797</td> <td>    0.024</td> <td>    7.467</td> <td> 0.000</td> <td>    0.133</td> <td>    0.227</td>\n",
       "</tr>\n",
       "<tr>\n",
       "  <th>C(idade_ult_RNS_bin, Treatment(reference=\"Sem Sinistro\"))[T.01 ano]</th>                                     <td>   -0.5223</td> <td>    0.024</td> <td>  -21.392</td> <td> 0.000</td> <td>   -0.570</td> <td>   -0.474</td>\n",
       "</tr>\n",
       "<tr>\n",
       "  <th>C(idade_ult_RNS_bin, Treatment(reference=\"Sem Sinistro\"))[T.02 ano +]</th>                                   <td>   -0.4709</td> <td>    0.012</td> <td>  -37.809</td> <td> 0.000</td> <td>   -0.495</td> <td>   -0.446</td>\n",
       "</tr>\n",
       "<tr>\n",
       "  <th>C(MD_comb_bin, Treatment(reference=\"Demais\"))[T.Gasolina]</th>                                               <td>    0.3811</td> <td>    0.019</td> <td>   19.914</td> <td> 0.000</td> <td>    0.344</td> <td>    0.419</td>\n",
       "</tr>\n",
       "<tr>\n",
       "  <th>C(UF_bin, Treatment(reference=\"Demais\"))[T.AL,CE,RS]</th>                                                    <td>   -0.2144</td> <td>    0.013</td> <td>  -15.897</td> <td> 0.000</td> <td>   -0.241</td> <td>   -0.188</td>\n",
       "</tr>\n",
       "<tr>\n",
       "  <th>C(UF_bin, Treatment(reference=\"Demais\"))[T.AP,DF,ES,PA,PB,RN,SC]</th>                                        <td>   -0.2300</td> <td>    0.014</td> <td>  -16.606</td> <td> 0.000</td> <td>   -0.257</td> <td>   -0.203</td>\n",
       "</tr>\n",
       "<tr>\n",
       "  <th>C(UF_bin, Treatment(reference=\"Demais\"))[T.GO,MA,MG]</th>                                                    <td>   -0.0658</td> <td>    0.015</td> <td>   -4.461</td> <td> 0.000</td> <td>   -0.095</td> <td>   -0.037</td>\n",
       "</tr>\n",
       "<tr>\n",
       "  <th>C(UF_bin, Treatment(reference=\"Demais\"))[T.MT,PR]</th>                                                       <td>   -0.1027</td> <td>    0.014</td> <td>   -7.287</td> <td> 0.000</td> <td>   -0.130</td> <td>   -0.075</td>\n",
       "</tr>\n",
       "<tr>\n",
       "  <th>C(UF_bin, Treatment(reference=\"Demais\"))[T.RJ]</th>                                                          <td>    0.3069</td> <td>    0.020</td> <td>   14.984</td> <td> 0.000</td> <td>    0.267</td> <td>    0.347</td>\n",
       "</tr>\n",
       "<tr>\n",
       "  <th>C(fx_ir_12m_bin, Treatment(reference=\"02 - 20-<=040\"))[T.01 - 00-<=020]</th>                                 <td>   -0.9160</td> <td>    0.017</td> <td>  -52.619</td> <td> 0.000</td> <td>   -0.950</td> <td>   -0.882</td>\n",
       "</tr>\n",
       "<tr>\n",
       "  <th>C(fx_ir_12m_bin, Treatment(reference=\"02 - 20-<=040\"))[T.03 - 40-<=060]</th>                                 <td>    0.4855</td> <td>    0.010</td> <td>   48.799</td> <td> 0.000</td> <td>    0.466</td> <td>    0.505</td>\n",
       "</tr>\n",
       "<tr>\n",
       "  <th>C(fx_ir_12m_bin, Treatment(reference=\"02 - 20-<=040\"))[T.04 - 60-<=080]</th>                                 <td>    1.1634</td> <td>    0.013</td> <td>   86.383</td> <td> 0.000</td> <td>    1.137</td> <td>    1.190</td>\n",
       "</tr>\n",
       "<tr>\n",
       "  <th>C(fx_ir_12m_bin, Treatment(reference=\"02 - 20-<=040\"))[T.05 - 80-<=100]</th>                                 <td>    2.0733</td> <td>    0.025</td> <td>   82.834</td> <td> 0.000</td> <td>    2.024</td> <td>    2.122</td>\n",
       "</tr>\n",
       "<tr>\n",
       "  <th>C(MD_tipo_renov, Treatment(reference=\"2 - Renov MAPFRE sem sinistro\"))[T.3 - Renov MAPFRE com sinistro]</th> <td>   -0.2424</td> <td>    0.022</td> <td>  -11.252</td> <td> 0.000</td> <td>   -0.285</td> <td>   -0.200</td>\n",
       "</tr>\n",
       "<tr>\n",
       "  <th>np.log(premio)</th>                                                                                          <td>   -0.2756</td> <td>    0.023</td> <td>  -11.760</td> <td> 0.000</td> <td>   -0.322</td> <td>   -0.230</td>\n",
       "</tr>\n",
       "<tr>\n",
       "  <th>np.divide(premio, is_casco_ofer)</th>                                                                        <td>   -5.1375</td> <td>    0.236</td> <td>  -21.789</td> <td> 0.000</td> <td>   -5.600</td> <td>   -4.675</td>\n",
       "</tr>\n",
       "<tr>\n",
       "  <th>np.log(np.divide(premio, GBM_mercado))</th>                                                                  <td>   -0.2920</td> <td>    0.035</td> <td>   -8.461</td> <td> 0.000</td> <td>   -0.360</td> <td>   -0.224</td>\n",
       "</tr>\n",
       "<tr>\n",
       "  <th>np.log(np.divide(premio, Premio_IC100))</th>                                                                 <td>   -1.0944</td> <td>    0.015</td> <td>  -73.635</td> <td> 0.000</td> <td>   -1.124</td> <td>   -1.065</td>\n",
       "</tr>\n",
       "<tr>\n",
       "  <th>np.divide(premio, premio_anterior)</th>                                                                      <td>   -0.8250</td> <td>    0.016</td> <td>  -52.805</td> <td> 0.000</td> <td>   -0.856</td> <td>   -0.794</td>\n",
       "</tr>\n",
       "<tr>\n",
       "  <th>per_com</th>                                                                                                 <td>    0.0143</td> <td>    0.001</td> <td>   16.401</td> <td> 0.000</td> <td>    0.013</td> <td>    0.016</td>\n",
       "</tr>\n",
       "<tr>\n",
       "  <th>np.log(MD_tempo_casa_2 + 1)</th>                                                                             <td>    0.3866</td> <td>    0.009</td> <td>   43.715</td> <td> 0.000</td> <td>    0.369</td> <td>    0.404</td>\n",
       "</tr>\n",
       "</table>"
      ],
      "text/plain": [
       "<class 'statsmodels.iolib.summary.Summary'>\n",
       "\"\"\"\n",
       "                           Logit Regression Results                           \n",
       "==============================================================================\n",
       "Dep. Variable:          ind_renovacao   No. Observations:               310913\n",
       "Model:                          Logit   Df Residuals:                   310888\n",
       "Method:                           MLE   Df Model:                           24\n",
       "Date:                Thu, 25 Jul 2024   Pseudo R-squ.:                  0.1822\n",
       "Time:                        11:32:57   Log-Likelihood:            -1.7560e+05\n",
       "converged:                       True   LL-Null:                   -2.1471e+05\n",
       "Covariance Type:            nonrobust   LLR p-value:                     0.000\n",
       "===========================================================================================================================================================================\n",
       "                                                                                                              coef    std err          z      P>|z|      [0.025      0.975]\n",
       "---------------------------------------------------------------------------------------------------------------------------------------------------------------------------\n",
       "Intercept                                                                                                   2.2112      0.210     10.532      0.000       1.800       2.623\n",
       "C(canal_bin, Treatment(reference=\"Demais\"))[T.Corretor Mais]                                                0.0324      0.010      3.150      0.002       0.012       0.053\n",
       "C(Cod_End_bin, Treatment(reference=\"Demais\"))[T.13509]                                                     -0.2789      0.014    -20.416      0.000      -0.306      -0.252\n",
       "C(fator_ajuste_bin, Treatment(reference=\"<101\"))[T.>=101]                                                   0.0802      0.029      2.774      0.006       0.024       0.137\n",
       "C(per_com_bin, Treatment(reference=\">=10\"))[T.<10]                                                          0.1797      0.024      7.467      0.000       0.133       0.227\n",
       "C(idade_ult_RNS_bin, Treatment(reference=\"Sem Sinistro\"))[T.01 ano]                                        -0.5223      0.024    -21.392      0.000      -0.570      -0.474\n",
       "C(idade_ult_RNS_bin, Treatment(reference=\"Sem Sinistro\"))[T.02 ano +]                                      -0.4709      0.012    -37.809      0.000      -0.495      -0.446\n",
       "C(MD_comb_bin, Treatment(reference=\"Demais\"))[T.Gasolina]                                                   0.3811      0.019     19.914      0.000       0.344       0.419\n",
       "C(UF_bin, Treatment(reference=\"Demais\"))[T.AL,CE,RS]                                                       -0.2144      0.013    -15.897      0.000      -0.241      -0.188\n",
       "C(UF_bin, Treatment(reference=\"Demais\"))[T.AP,DF,ES,PA,PB,RN,SC]                                           -0.2300      0.014    -16.606      0.000      -0.257      -0.203\n",
       "C(UF_bin, Treatment(reference=\"Demais\"))[T.GO,MA,MG]                                                       -0.0658      0.015     -4.461      0.000      -0.095      -0.037\n",
       "C(UF_bin, Treatment(reference=\"Demais\"))[T.MT,PR]                                                          -0.1027      0.014     -7.287      0.000      -0.130      -0.075\n",
       "C(UF_bin, Treatment(reference=\"Demais\"))[T.RJ]                                                              0.3069      0.020     14.984      0.000       0.267       0.347\n",
       "C(fx_ir_12m_bin, Treatment(reference=\"02 - 20-<=040\"))[T.01 - 00-<=020]                                    -0.9160      0.017    -52.619      0.000      -0.950      -0.882\n",
       "C(fx_ir_12m_bin, Treatment(reference=\"02 - 20-<=040\"))[T.03 - 40-<=060]                                     0.4855      0.010     48.799      0.000       0.466       0.505\n",
       "C(fx_ir_12m_bin, Treatment(reference=\"02 - 20-<=040\"))[T.04 - 60-<=080]                                     1.1634      0.013     86.383      0.000       1.137       1.190\n",
       "C(fx_ir_12m_bin, Treatment(reference=\"02 - 20-<=040\"))[T.05 - 80-<=100]                                     2.0733      0.025     82.834      0.000       2.024       2.122\n",
       "C(MD_tipo_renov, Treatment(reference=\"2 - Renov MAPFRE sem sinistro\"))[T.3 - Renov MAPFRE com sinistro]    -0.2424      0.022    -11.252      0.000      -0.285      -0.200\n",
       "np.log(premio)                                                                                             -0.2756      0.023    -11.760      0.000      -0.322      -0.230\n",
       "np.divide(premio, is_casco_ofer)                                                                           -5.1375      0.236    -21.789      0.000      -5.600      -4.675\n",
       "np.log(np.divide(premio, GBM_mercado))                                                                     -0.2920      0.035     -8.461      0.000      -0.360      -0.224\n",
       "np.log(np.divide(premio, Premio_IC100))                                                                    -1.0944      0.015    -73.635      0.000      -1.124      -1.065\n",
       "np.divide(premio, premio_anterior)                                                                         -0.8250      0.016    -52.805      0.000      -0.856      -0.794\n",
       "per_com                                                                                                     0.0143      0.001     16.401      0.000       0.013       0.016\n",
       "np.log(MD_tempo_casa_2 + 1)                                                                                 0.3866      0.009     43.715      0.000       0.369       0.404\n",
       "===========================================================================================================================================================================\n",
       "\"\"\""
      ]
     },
     "execution_count": 52,
     "metadata": {},
     "output_type": "execute_result"
    }
   ],
   "source": [
    "import statsmodels.formula.api as smf\n",
    "#Modelo GLM de retenção\n",
    "formula = 'ind_renovacao ~ 1 + np.log(premio) + np.divide(premio, is_casco_ofer) + np.log(np.divide(premio, GBM_mercado)) + np.log(np.divide(premio, Premio_IC100)) + (np.divide(premio, premio_anterior)+1) + C(canal_bin,Treatment(reference=\"Demais\")) + C(Cod_End_bin,Treatment(reference=\"Demais\")) + C(fator_ajuste_bin,Treatment(reference=\"<101\")) + per_com + C(per_com_bin,Treatment(reference=\">=10\")) + np.log(MD_tempo_casa_2+1) + C(idade_ult_RNS_bin,Treatment(reference=\"Sem Sinistro\")) + C(MD_comb_bin,Treatment(reference=\"Demais\")) + C(UF_bin,Treatment(reference=\"Demais\")) + C(fx_ir_12m_bin,Treatment(reference=\"02 - 20-<=040\")) + C(MD_tipo_renov,Treatment(reference=\"2 - Renov MAPFRE sem sinistro\"))' \n",
    "model = smf.logit(formula , data=df_train).fit()\n",
    "model.summary()"
   ]
  },
  {
   "cell_type": "markdown",
   "id": "808c929f",
   "metadata": {},
   "source": [
    "## Base Para escorar e otimizar"
   ]
  },
  {
   "cell_type": "code",
   "execution_count": 188,
   "id": "bff8e4b2",
   "metadata": {},
   "outputs": [],
   "source": [
    "df_lote_092024 = pd.read_csv(\"C://Flavio/Projeto Otimizacao/Otimizacao/Table Base Case Total  - modelo novo.csv\",\n",
    "                     encoding='latin-1',\n",
    "                     delimiter='|')"
   ]
  },
  {
   "cell_type": "code",
   "execution_count": 189,
   "id": "b5ee8dee",
   "metadata": {},
   "outputs": [
    {
     "data": {
      "text/plain": [
       "count    27304.000000\n",
       "mean      2662.428740\n",
       "std       1406.693218\n",
       "min       1015.431214\n",
       "25%       1797.549029\n",
       "50%       2284.675931\n",
       "75%       3005.559169\n",
       "max      13353.547185\n",
       "Name: GBM_mercado, dtype: float64"
      ]
     },
     "execution_count": 189,
     "metadata": {},
     "output_type": "execute_result"
    }
   ],
   "source": [
    "df_lote_092024['GBM_mercado'].describe()"
   ]
  },
  {
   "cell_type": "code",
   "execution_count": 190,
   "id": "fc1762e5",
   "metadata": {},
   "outputs": [],
   "source": [
    "df_lote_escorar=df_lote_092024.copy()"
   ]
  },
  {
   "cell_type": "code",
   "execution_count": 192,
   "id": "1c05aa3e",
   "metadata": {},
   "outputs": [],
   "source": [
    "#df_lote_escorar.columns.to_list()"
   ]
  },
  {
   "cell_type": "code",
   "execution_count": 68,
   "id": "f99a1fe2",
   "metadata": {},
   "outputs": [],
   "source": [
    "#df_lote_092024.columns.to_list()"
   ]
  },
  {
   "cell_type": "markdown",
   "id": "92f22f88",
   "metadata": {},
   "source": [
    "df_lote_escorar=df_lote_092024[['Premio_oferecido_com_batente','Pr_anterior_TI','Premio_IC100','GBM_mercado',\n",
    "                                          'Classe_bonus',\"MD_sexo\",\"cod_corr\",\"cod_end\",\"MD_tempo_casa_2\",\n",
    "                                          \"per_com\", \"MD_menor26\",\"UF\",\"Renovacao_ant\",\"fx_ir_12m\",\"is_casco_ofer\",\n",
    "                                          \"MD_fator_ajuste\",\"md_capac\",\"MD_categoria\",\n",
    "                                          \"MD_comb\",\"MD_qtd_assis_cpf\", \"idade_ult_RNS\",\"canal\",\"MD_tipo_renov\",'FABRICA',\n",
    "                                          'MD_est_civil','Grupo_veiculo_new']]"
   ]
  },
  {
   "cell_type": "code",
   "execution_count": 193,
   "id": "8ba0c909",
   "metadata": {},
   "outputs": [
    {
     "data": {
      "text/plain": [
       "Index(['Act_cost', 'Amostra', 'Amostra_inicial', 'ano_fab', 'ano_modelo',\n",
       "       'batente_max_ti', 'batente_min_ti', 'canal', 'Carprice', 'chave',\n",
       "       ...\n",
       "       'Taxa Prêmio/IS', 'Taxa Prêmio/Risco', 'Taxa Risco/IS (casco)',\n",
       "       'TIPO_RENOV', 'Total Earnings NPV', 'UF', 'Uniforme',\n",
       "       'valida_sistema_elast_max', 'valida_sistema_elast_min', 'vigencia'],\n",
       "      dtype='object', length=122)"
      ]
     },
     "execution_count": 193,
     "metadata": {},
     "output_type": "execute_result"
    }
   ],
   "source": [
    "df_lote_escorar.columns"
   ]
  },
  {
   "cell_type": "code",
   "execution_count": 153,
   "id": "31d87537",
   "metadata": {},
   "outputs": [],
   "source": [
    "#print(df_lote_escorar['UF'].value_counts(ascending=False))"
   ]
  },
  {
   "cell_type": "markdown",
   "id": "8754ee17",
   "metadata": {},
   "source": [
    "premio|Premio_oferecido_com_batente\n",
    "is_casco_ofer|is_casco_ofer\n",
    "GBM_mercado|GBM_mercado\n",
    "Premio_IC100|Premio_IC100\n",
    "premio_anterior|Pr_anterior_TI\n",
    "canal_bin| canal\n",
    "Cod_End_bin|  cod_end\n",
    "fator_ajuste_bin|  MD_fator_ajuste\n",
    "per_com|per_com\n",
    "MD_tempo_casa_2|MD_tempo_casa_2\n",
    "idade_ult_RNS_bin|idade_ult_RNS\n",
    "MD_comb_bin|MD_comb\n",
    "UF_bin      |     UF\n",
    "fx_ir_12m_bin|    fx_ir_12m\n",
    "MD_tipo_renov,|   MD_tipo_renov"
   ]
  },
  {
   "cell_type": "code",
   "execution_count": 98,
   "id": "7261de91",
   "metadata": {},
   "outputs": [],
   "source": [
    "#df_lote_escorar.columns.to_list()"
   ]
  },
  {
   "cell_type": "code",
   "execution_count": 194,
   "id": "461c835e",
   "metadata": {},
   "outputs": [],
   "source": [
    "df_lote_escorar[\"premio\"] = df_lote_escorar[\"Premio_oferecido_com_batente\"]"
   ]
  },
  {
   "cell_type": "code",
   "execution_count": 195,
   "id": "f7d2ee17",
   "metadata": {},
   "outputs": [],
   "source": [
    "df_lote_escorar.rename(columns={'Pr_anterior_TI':'premio_anterior', \n",
    "                                   'cod_end': 'Cod_End',\n",
    "                                   'md_capac': 'MD_capac',\n",
    "                                   'fator_ajuste': 'MD_fator_ajuste'},inplace=True)"
   ]
  },
  {
   "cell_type": "code",
   "execution_count": 197,
   "id": "ccc0f632",
   "metadata": {},
   "outputs": [],
   "source": [
    "#df_lote_escorar.columns.to_list()"
   ]
  },
  {
   "cell_type": "code",
   "execution_count": 198,
   "id": "e6a305a4",
   "metadata": {},
   "outputs": [],
   "source": [
    "df_lote_escorar=df_lote_escorar[df_lote_escorar['UF']!= \"99\"]"
   ]
  },
  {
   "cell_type": "code",
   "execution_count": 199,
   "id": "577a328f",
   "metadata": {},
   "outputs": [
    {
     "data": {
      "text/plain": [
       "(27298, 123)"
      ]
     },
     "execution_count": 199,
     "metadata": {},
     "output_type": "execute_result"
    }
   ],
   "source": [
    "df_lote_escorar.shape"
   ]
  },
  {
   "cell_type": "code",
   "execution_count": 200,
   "id": "eb996753",
   "metadata": {},
   "outputs": [],
   "source": [
    "df_mod = df_lote_escorar.copy()"
   ]
  },
  {
   "cell_type": "code",
   "execution_count": null,
   "id": "f04eff5a",
   "metadata": {},
   "outputs": [],
   "source": []
  },
  {
   "cell_type": "code",
   "execution_count": 201,
   "id": "6bd79da6",
   "metadata": {},
   "outputs": [],
   "source": [
    "#Criar um função para categorizar \n",
    "\n",
    "df_mod['MD_sexo_bin'] = df_mod['MD_sexo'].map({'Masculino': 'Masculino', \n",
    "                                 'Feminino': 'Feminino', \n",
    "                                  'ERRO': 'Masculino'}).astype(object)\n",
    "\n",
    "\n",
    "df_mod['fx_ir_12m_bin'] = df_mod['fx_ir_12m'].apply(lambda x: '01 - 00-<=020' if x == '01 - 00-<=020' else\n",
    "                                                              '02 - 20-<=040' if x == '02 - 20-<=040' else\n",
    "                                                              '03 - 40-<=060' if x == '03 - 40-<=060' else\n",
    "                                                              '04 - 60-<=080' if x == '04 - 60-<=080' else\n",
    "                                                              '05 - 80-<=100' if x == '05 - 80-<=100' else\n",
    "                                                              '02 - 20-<=040' if x == 'NI'           else 'ERROR')\n",
    "\n",
    "  \n",
    "df_mod['MD_comb_bin'] = df_mod['MD_comb'].apply(lambda x: 'Gasolina' if x == 'Gasolina'  else 'Demais')\n",
    "\n",
    "df_mod['canal_bin'] = df_mod['canal'].apply(lambda x: 'Corretor Mais' if x == 'Corretor Mais'  else 'Demais')\n",
    "   \n",
    "df_mod['per_com_bin'] = df_mod['per_com'].apply(lambda x: '<10' if x < 10 else\n",
    "                                                          '>=10' if x >= 10 else 'ERROR')    \n",
    "\n",
    "\n",
    "\n",
    "df_mod['idade_ult_RNS_bin'] = df_mod['idade_ult_RNS'].apply(lambda x: 'Sem Sinistro' if x == 'Sem Sinistro' else\n",
    "                                                                      '01 ano' if x == '01 ano' else\n",
    "                                                                      '02 ano' if x == '02 ano' else '02 ano +')\n",
    "\n",
    "\n",
    "\n",
    "\n",
    "df_mod['UF_bin'] = df_mod['UF'].apply(lambda x: 'AL,CE,RS'  if x == 'AL' else\n",
    "                                                'AL,CE,RS'  if x == 'CE' else\n",
    "                                                'AL,CE,RS'  if x == 'RS' else \n",
    "                                                'AP,DF,ES,PA,PB,RN,SC' if x == 'AP' else \n",
    "                                                'AP,DF,ES,PA,PB,RN,SC' if x == 'DF' else \n",
    "                                                'AP,DF,ES,PA,PB,RN,SC' if x == 'ES' else \n",
    "                                                'AP,DF,ES,PA,PB,RN,SC' if x == 'PA' else \n",
    "                                                'AP,DF,ES,PA,PB,RN,SC' if x == 'PB' else \n",
    "                                                'AP,DF,ES,PA,PB,RN,SC' if x == 'RN' else \n",
    "                                                'AP,DF,ES,PA,PB,RN,SC' if x == 'SC' else \n",
    "                                                'GO,MA,MG'             if x == 'GO' else \n",
    "                                                'GO,MA,MG'             if x == 'MA' else \n",
    "                                                'GO,MA,MG'             if x == 'MG' else \n",
    "                                                'MT,PR'                if x == 'MT' else\n",
    "                                                'MT,PR'                if x == 'PR' else \n",
    "                                                'RJ'                   if x == 'RJ' else  'Demais')\n",
    "\n",
    "df_mod['md_tipo_renov_ant_bin'] = df_mod['Renovacao_ant'].apply(lambda x: '1-SeguroNovo'                      if x == '1-Seguro Novo'    else\n",
    "                                                                          '2 - Renov MAPFRE sem sinistro'     if x == '2-RenovPropria'   else\n",
    "                                                                          '3 - Renov MAPFRE com sinistro'     if x == '2-RenovPropria'   else\n",
    "                                                                          '4 - Renov Congenere sem sinistro'  if x == '3-RenovCongenere' else\n",
    "                                                                          '5 - Renov Congenere com sinistro'  if x == '3-RenovCongenere' else\n",
    "                                                                          '6 - Renov BB sem sinistro'         if x == '3-RenovCongenere' else\n",
    "                                                                          '7 - Renov BB com sinistro'         if x == '3-RenovCongenere' else  '2-RenovPropria')\n",
    "      \n",
    "      \n",
    "\n",
    "    \n",
    "df_mod['Cod_End_bin'] = df_mod['Cod_End'].apply(lambda x: '13509'  if x == 13509 else\n",
    "                                                          '13509'  if x == 50007 else\n",
    "                                                          '13509'  if x == 50100 else 'Demais')   \n",
    "\n",
    "df_mod['MD_capac_bin'] = df_mod['MD_capac'].apply(lambda x: '5'  if x == 5  else 'Demais')  \n",
    "\n",
    "\n",
    "\n",
    "df_mod['fator_ajuste_bin'] = df_mod['MD_fator_ajuste'].apply(lambda x: '<101'    if x < 101 else\n",
    "                                                                       '>=101'   if x >= 101  else '<101')   \n",
    "\n",
    "df_mod['MD_qtd_assis_cpf_bin'] = df_mod['MD_qtd_assis_cpf'].apply(lambda x: '00'  if x == 0 else\n",
    "                                                                            '01'  if x == 1 else\n",
    "                                                                            '>=2' if x >= 2 else 'ERROR')\n",
    "\n"
   ]
  },
  {
   "cell_type": "code",
   "execution_count": 207,
   "id": "8e1b4552",
   "metadata": {},
   "outputs": [],
   "source": [
    "#df_mod.columns.to_list()"
   ]
  },
  {
   "cell_type": "code",
   "execution_count": 202,
   "id": "3a7f6f2c",
   "metadata": {},
   "outputs": [],
   "source": [
    "df_mod[\"prob_est\"]=model.predict(df_mod)\n",
    "prob_est = model.predict(df_mod)"
   ]
  },
  {
   "cell_type": "code",
   "execution_count": 203,
   "id": "dd0ca37e",
   "metadata": {},
   "outputs": [
    {
     "data": {
      "text/plain": [
       "count    27298.000000\n",
       "mean         0.472937\n",
       "std          0.223883\n",
       "min          0.017370\n",
       "25%          0.292339\n",
       "50%          0.466778\n",
       "75%          0.635730\n",
       "max          0.991410\n",
       "Name: prob_est, dtype: float64"
      ]
     },
     "execution_count": 203,
     "metadata": {},
     "output_type": "execute_result"
    }
   ],
   "source": [
    "df_mod[\"prob_est\"].describe()"
   ]
  },
  {
   "cell_type": "code",
   "execution_count": 269,
   "id": "5184028d",
   "metadata": {},
   "outputs": [],
   "source": [
    "#df_lote_092024.columns.to_list()"
   ]
  },
  {
   "cell_type": "code",
   "execution_count": 204,
   "id": "9ce5428f",
   "metadata": {},
   "outputs": [
    {
     "data": {
      "text/html": [
       "<div>\n",
       "<style scoped>\n",
       "    .dataframe tbody tr th:only-of-type {\n",
       "        vertical-align: middle;\n",
       "    }\n",
       "\n",
       "    .dataframe tbody tr th {\n",
       "        vertical-align: top;\n",
       "    }\n",
       "\n",
       "    .dataframe thead th {\n",
       "        text-align: right;\n",
       "    }\n",
       "</style>\n",
       "<table border=\"1\" class=\"dataframe\">\n",
       "  <thead>\n",
       "    <tr style=\"text-align: right;\">\n",
       "      <th></th>\n",
       "      <th>prob_est</th>\n",
       "      <th>Renewal Demand</th>\n",
       "    </tr>\n",
       "  </thead>\n",
       "  <tbody>\n",
       "    <tr>\n",
       "      <th>count</th>\n",
       "      <td>27298.000000</td>\n",
       "      <td>27298.000000</td>\n",
       "    </tr>\n",
       "    <tr>\n",
       "      <th>mean</th>\n",
       "      <td>0.472937</td>\n",
       "      <td>0.505496</td>\n",
       "    </tr>\n",
       "    <tr>\n",
       "      <th>std</th>\n",
       "      <td>0.223883</td>\n",
       "      <td>0.239074</td>\n",
       "    </tr>\n",
       "    <tr>\n",
       "      <th>min</th>\n",
       "      <td>0.017370</td>\n",
       "      <td>0.011015</td>\n",
       "    </tr>\n",
       "    <tr>\n",
       "      <th>25%</th>\n",
       "      <td>0.292339</td>\n",
       "      <td>0.310497</td>\n",
       "    </tr>\n",
       "    <tr>\n",
       "      <th>50%</th>\n",
       "      <td>0.466778</td>\n",
       "      <td>0.514788</td>\n",
       "    </tr>\n",
       "    <tr>\n",
       "      <th>75%</th>\n",
       "      <td>0.635730</td>\n",
       "      <td>0.694137</td>\n",
       "    </tr>\n",
       "    <tr>\n",
       "      <th>max</th>\n",
       "      <td>0.991410</td>\n",
       "      <td>0.995868</td>\n",
       "    </tr>\n",
       "  </tbody>\n",
       "</table>\n",
       "</div>"
      ],
      "text/plain": [
       "           prob_est  Renewal Demand\n",
       "count  27298.000000    27298.000000\n",
       "mean       0.472937        0.505496\n",
       "std        0.223883        0.239074\n",
       "min        0.017370        0.011015\n",
       "25%        0.292339        0.310497\n",
       "50%        0.466778        0.514788\n",
       "75%        0.635730        0.694137\n",
       "max        0.991410        0.995868"
      ]
     },
     "execution_count": 204,
     "metadata": {},
     "output_type": "execute_result"
    }
   ],
   "source": [
    "df_mod[[\"prob_est\",'Renewal Demand']].describe()"
   ]
  },
  {
   "cell_type": "markdown",
   "id": "227166bc",
   "metadata": {},
   "source": [
    "## Otimização Teste 1"
   ]
  },
  {
   "cell_type": "code",
   "execution_count": 589,
   "id": "a29abf4e",
   "metadata": {},
   "outputs": [
    {
     "data": {
      "text/html": [
       "<div>\n",
       "<style scoped>\n",
       "    .dataframe tbody tr th:only-of-type {\n",
       "        vertical-align: middle;\n",
       "    }\n",
       "\n",
       "    .dataframe tbody tr th {\n",
       "        vertical-align: top;\n",
       "    }\n",
       "\n",
       "    .dataframe thead th {\n",
       "        text-align: right;\n",
       "    }\n",
       "</style>\n",
       "<table border=\"1\" class=\"dataframe\">\n",
       "  <thead>\n",
       "    <tr style=\"text-align: right;\">\n",
       "      <th></th>\n",
       "      <th>Act_cost</th>\n",
       "      <th>Amostra</th>\n",
       "      <th>Amostra_inicial</th>\n",
       "      <th>ano_fab</th>\n",
       "      <th>ano_modelo</th>\n",
       "      <th>batente_max_ti</th>\n",
       "      <th>batente_min_ti</th>\n",
       "      <th>canal</th>\n",
       "      <th>Carprice</th>\n",
       "      <th>chave</th>\n",
       "      <th>...</th>\n",
       "      <th>canal_bin</th>\n",
       "      <th>per_com_bin</th>\n",
       "      <th>idade_ult_RNS_bin</th>\n",
       "      <th>UF_bin</th>\n",
       "      <th>md_tipo_renov_ant_bin</th>\n",
       "      <th>Cod_End_bin</th>\n",
       "      <th>MD_capac_bin</th>\n",
       "      <th>fator_ajuste_bin</th>\n",
       "      <th>MD_qtd_assis_cpf_bin</th>\n",
       "      <th>prob_est</th>\n",
       "    </tr>\n",
       "  </thead>\n",
       "  <tbody>\n",
       "    <tr>\n",
       "      <th>0</th>\n",
       "      <td>1089.960657</td>\n",
       "      <td>Otimização Mkp</td>\n",
       "      <td>Otimização Mkp</td>\n",
       "      <td>2019</td>\n",
       "      <td>2019</td>\n",
       "      <td>2.3</td>\n",
       "      <td>0.6</td>\n",
       "      <td>BancoVotorantim</td>\n",
       "      <td>49491</td>\n",
       "      <td>179600013563100001</td>\n",
       "      <td>...</td>\n",
       "      <td>Demais</td>\n",
       "      <td>&gt;=10</td>\n",
       "      <td>Sem Sinistro</td>\n",
       "      <td>AP,DF,ES,PA,PB,RN,SC</td>\n",
       "      <td>2-RenovPropria</td>\n",
       "      <td>Demais</td>\n",
       "      <td>NaN</td>\n",
       "      <td>&lt;101</td>\n",
       "      <td>00</td>\n",
       "      <td>0.160808</td>\n",
       "    </tr>\n",
       "    <tr>\n",
       "      <th>20003</th>\n",
       "      <td>3248.385166</td>\n",
       "      <td>Teste_+5%</td>\n",
       "      <td>Teste_+5%</td>\n",
       "      <td>2015</td>\n",
       "      <td>2016</td>\n",
       "      <td>2.3</td>\n",
       "      <td>1.3</td>\n",
       "      <td>CorretorMais</td>\n",
       "      <td>47021</td>\n",
       "      <td>602601397333100001</td>\n",
       "      <td>...</td>\n",
       "      <td>Demais</td>\n",
       "      <td>&gt;=10</td>\n",
       "      <td>01 ano</td>\n",
       "      <td>Demais</td>\n",
       "      <td>2-RenovPropria</td>\n",
       "      <td>Demais</td>\n",
       "      <td>NaN</td>\n",
       "      <td>&lt;101</td>\n",
       "      <td>&gt;=2</td>\n",
       "      <td>0.666168</td>\n",
       "    </tr>\n",
       "  </tbody>\n",
       "</table>\n",
       "<p>2 rows × 136 columns</p>\n",
       "</div>"
      ],
      "text/plain": [
       "          Act_cost         Amostra Amostra_inicial  ano_fab  ano_modelo  \\\n",
       "0      1089.960657  Otimização Mkp  Otimização Mkp     2019        2019   \n",
       "20003  3248.385166       Teste_+5%       Teste_+5%     2015        2016   \n",
       "\n",
       "       batente_max_ti  batente_min_ti            canal  Carprice  \\\n",
       "0                 2.3             0.6  BancoVotorantim     49491   \n",
       "20003             2.3             1.3     CorretorMais     47021   \n",
       "\n",
       "                    chave  ...  canal_bin per_com_bin  idade_ult_RNS_bin  \\\n",
       "0      179600013563100001  ...     Demais        >=10       Sem Sinistro   \n",
       "20003  602601397333100001  ...     Demais        >=10             01 ano   \n",
       "\n",
       "                     UF_bin  md_tipo_renov_ant_bin  Cod_End_bin MD_capac_bin  \\\n",
       "0      AP,DF,ES,PA,PB,RN,SC         2-RenovPropria       Demais          NaN   \n",
       "20003                Demais         2-RenovPropria       Demais          NaN   \n",
       "\n",
       "      fator_ajuste_bin MD_qtd_assis_cpf_bin  prob_est  \n",
       "0                 <101                   00  0.160808  \n",
       "20003             <101                  >=2  0.666168  \n",
       "\n",
       "[2 rows x 136 columns]"
      ]
     },
     "execution_count": 589,
     "metadata": {},
     "output_type": "execute_result"
    }
   ],
   "source": [
    "df_otim1 =df_mod[(df_mod[\"chave\"] == 602601397333100001) | (df_mod[\"chave\"] == 179600013563100001)]\n",
    "#df_otim1 =df_mod[(df_mod[\"chave\"] == 10708289513100001)]\n",
    "#df_otim1 = df_mod[[\"chave\",\"Act_cost\",\"premio\",\"prob_est\"]]\n",
    "df_otim1.head()"
   ]
  },
  {
   "cell_type": "code",
   "execution_count": 510,
   "id": "3157e993",
   "metadata": {},
   "outputs": [],
   "source": [
    "#df_otim1.columns.to_list()"
   ]
  },
  {
   "cell_type": "code",
   "execution_count": 574,
   "id": "6975b6f0",
   "metadata": {},
   "outputs": [],
   "source": [
    "def otimanual (df,renewal_target):\n",
    "\n",
    "    # Criar vetor de fatores\n",
    "    fatores = np.arange(1.5, 0.5, -0.05)\n",
    "\n",
    "    # Criar uma lista para armazenar os novos \n",
    "    dataframes = []\n",
    "\n",
    "    # Loop para criar uma nova coluna prêmio multiplicado por cada fator para cada linha \n",
    "    for fator in fatores:\n",
    "        df_temp = df.copy()\n",
    "        df_temp['premio'] = df_temp['premio'] * fator\n",
    "        df_temp['fator'] = fator\n",
    "        df_temp[\"prob_est_2\"]=model.predict(df_temp)\n",
    "        df_temp[\"margem\"]= df_temp[\"prob_est_2\"]*(df_temp[\"premio\"]-df_temp[\"Act_cost\"])\n",
    "        dataframes.append(df_temp)\n",
    "\n",
    "    # Concatenar todos os dataframes em um único dataframe \n",
    "    df_resultado = pd.concat(dataframes, ignore_index=True)\n",
    "\n",
    "    df_resultado[\"LB\"]= df_resultado[\"Premio_oferecido_com_batente\"]*0.9\n",
    "    df_resultado[\"UB\"]= df_resultado[\"Premio_oferecido_com_batente\"]*1.1 \n",
    "\n",
    "    df_resultado = df_resultado.query('premio >=LB')\n",
    "    df_resultado = df_resultado.query('premio <=UB')   \n",
    "    \n",
    "    df_resultado = df_resultado[df_resultado[\"prob_est_2\"] > renewal_target]\n",
    "\n",
    "    return df_resultado.sort_values(\"margem\",ascending=False).head(1)\n",
    "   "
   ]
  },
  {
   "cell_type": "code",
   "execution_count": 577,
   "id": "95f0e96c",
   "metadata": {},
   "outputs": [],
   "source": [
    "def otimanual2(df,renewal_target):\n",
    "    dataframes = []\n",
    "    for linha in range(df.shape[0]):\n",
    "        linha = df.iloc[[linha],:]\n",
    "        df_linha = otimanual(linha,renewal_target)\n",
    "        dataframes.append(df_linha)\n",
    "    df_resultado_final = pd.concat(dataframes, ignore_index=True) \n",
    "    return df_resultado_final"
   ]
  },
  {
   "cell_type": "code",
   "execution_count": 584,
   "id": "bdc565ff",
   "metadata": {},
   "outputs": [
    {
     "name": "stdout",
     "output_type": "stream",
     "text": [
      "CPU times: total: 234 ms\n",
      "Wall time: 285 ms\n"
     ]
    },
    {
     "data": {
      "text/html": [
       "<div>\n",
       "<style scoped>\n",
       "    .dataframe tbody tr th:only-of-type {\n",
       "        vertical-align: middle;\n",
       "    }\n",
       "\n",
       "    .dataframe tbody tr th {\n",
       "        vertical-align: top;\n",
       "    }\n",
       "\n",
       "    .dataframe thead th {\n",
       "        text-align: right;\n",
       "    }\n",
       "</style>\n",
       "<table border=\"1\" class=\"dataframe\">\n",
       "  <thead>\n",
       "    <tr style=\"text-align: right;\">\n",
       "      <th></th>\n",
       "      <th>Act_cost</th>\n",
       "      <th>Amostra</th>\n",
       "      <th>Amostra_inicial</th>\n",
       "      <th>ano_fab</th>\n",
       "      <th>ano_modelo</th>\n",
       "      <th>batente_max_ti</th>\n",
       "      <th>batente_min_ti</th>\n",
       "      <th>canal</th>\n",
       "      <th>Carprice</th>\n",
       "      <th>chave</th>\n",
       "      <th>...</th>\n",
       "      <th>Cod_End_bin</th>\n",
       "      <th>MD_capac_bin</th>\n",
       "      <th>fator_ajuste_bin</th>\n",
       "      <th>MD_qtd_assis_cpf_bin</th>\n",
       "      <th>prob_est</th>\n",
       "      <th>fator</th>\n",
       "      <th>prob_est_2</th>\n",
       "      <th>margem</th>\n",
       "      <th>LB</th>\n",
       "      <th>UB</th>\n",
       "    </tr>\n",
       "  </thead>\n",
       "  <tbody>\n",
       "    <tr>\n",
       "      <th>0</th>\n",
       "      <td>1089.960657</td>\n",
       "      <td>Otimização Mkp</td>\n",
       "      <td>Otimização Mkp</td>\n",
       "      <td>2019</td>\n",
       "      <td>2019</td>\n",
       "      <td>2.3</td>\n",
       "      <td>0.6</td>\n",
       "      <td>BancoVotorantim</td>\n",
       "      <td>49491</td>\n",
       "      <td>179600013563100001</td>\n",
       "      <td>...</td>\n",
       "      <td>Demais</td>\n",
       "      <td>NaN</td>\n",
       "      <td>&lt;101</td>\n",
       "      <td>00</td>\n",
       "      <td>0.160808</td>\n",
       "      <td>0.95</td>\n",
       "      <td>0.183224</td>\n",
       "      <td>150.634705</td>\n",
       "      <td>1811.457</td>\n",
       "      <td>2214.003</td>\n",
       "    </tr>\n",
       "  </tbody>\n",
       "</table>\n",
       "<p>1 rows × 141 columns</p>\n",
       "</div>"
      ],
      "text/plain": [
       "      Act_cost         Amostra Amostra_inicial  ano_fab  ano_modelo  \\\n",
       "0  1089.960657  Otimização Mkp  Otimização Mkp     2019        2019   \n",
       "\n",
       "   batente_max_ti  batente_min_ti            canal  Carprice  \\\n",
       "0             2.3             0.6  BancoVotorantim     49491   \n",
       "\n",
       "                chave  ...  Cod_End_bin MD_capac_bin  fator_ajuste_bin  \\\n",
       "0  179600013563100001  ...       Demais          NaN              <101   \n",
       "\n",
       "   MD_qtd_assis_cpf_bin  prob_est  fator prob_est_2      margem        LB  \\\n",
       "0                    00  0.160808   0.95   0.183224  150.634705  1811.457   \n",
       "\n",
       "         UB  \n",
       "0  2214.003  \n",
       "\n",
       "[1 rows x 141 columns]"
      ]
     },
     "execution_count": 584,
     "metadata": {},
     "output_type": "execute_result"
    }
   ],
   "source": [
    "%%time\n",
    "df_resultado_final2 = otimanual2(df_mod[0:1],renewal_target=0.1)\n",
    "df_resultado_final2"
   ]
  },
  {
   "cell_type": "code",
   "execution_count": 581,
   "id": "19564da6",
   "metadata": {},
   "outputs": [
    {
     "data": {
      "text/html": [
       "<div>\n",
       "<style scoped>\n",
       "    .dataframe tbody tr th:only-of-type {\n",
       "        vertical-align: middle;\n",
       "    }\n",
       "\n",
       "    .dataframe tbody tr th {\n",
       "        vertical-align: top;\n",
       "    }\n",
       "\n",
       "    .dataframe thead th {\n",
       "        text-align: right;\n",
       "    }\n",
       "</style>\n",
       "<table border=\"1\" class=\"dataframe\">\n",
       "  <thead>\n",
       "    <tr style=\"text-align: right;\">\n",
       "      <th></th>\n",
       "      <th>count</th>\n",
       "      <th>mean</th>\n",
       "      <th>std</th>\n",
       "      <th>min</th>\n",
       "      <th>25%</th>\n",
       "      <th>50%</th>\n",
       "      <th>75%</th>\n",
       "      <th>max</th>\n",
       "    </tr>\n",
       "  </thead>\n",
       "  <tbody>\n",
       "    <tr>\n",
       "      <th>prob_est</th>\n",
       "      <td>2.0</td>\n",
       "      <td>0.413488</td>\n",
       "      <td>0.357344</td>\n",
       "      <td>0.160808</td>\n",
       "      <td>0.287148</td>\n",
       "      <td>0.413488</td>\n",
       "      <td>0.539828</td>\n",
       "      <td>0.666168</td>\n",
       "    </tr>\n",
       "    <tr>\n",
       "      <th>prob_est_2</th>\n",
       "      <td>2.0</td>\n",
       "      <td>0.383625</td>\n",
       "      <td>0.283410</td>\n",
       "      <td>0.183224</td>\n",
       "      <td>0.283425</td>\n",
       "      <td>0.383625</td>\n",
       "      <td>0.483826</td>\n",
       "      <td>0.584027</td>\n",
       "    </tr>\n",
       "  </tbody>\n",
       "</table>\n",
       "</div>"
      ],
      "text/plain": [
       "            count      mean       std       min       25%       50%       75%  \\\n",
       "prob_est      2.0  0.413488  0.357344  0.160808  0.287148  0.413488  0.539828   \n",
       "prob_est_2    2.0  0.383625  0.283410  0.183224  0.283425  0.383625  0.483826   \n",
       "\n",
       "                 max  \n",
       "prob_est    0.666168  \n",
       "prob_est_2  0.584027  "
      ]
     },
     "metadata": {},
     "output_type": "display_data"
    }
   ],
   "source": [
    "display(df_resultado_final[[\"prob_est\",\"prob_est_2\"]].describe().T)"
   ]
  },
  {
   "cell_type": "code",
   "execution_count": 411,
   "id": "f81c38c8",
   "metadata": {},
   "outputs": [],
   "source": [
    "# Exibir o dataframe resultante\n",
    "#df_resultado.head(20)"
   ]
  },
  {
   "cell_type": "code",
   "execution_count": 512,
   "id": "92227b53",
   "metadata": {
    "scrolled": true
   },
   "outputs": [
    {
     "data": {
      "text/html": [
       "<div>\n",
       "<style scoped>\n",
       "    .dataframe tbody tr th:only-of-type {\n",
       "        vertical-align: middle;\n",
       "    }\n",
       "\n",
       "    .dataframe tbody tr th {\n",
       "        vertical-align: top;\n",
       "    }\n",
       "\n",
       "    .dataframe thead th {\n",
       "        text-align: right;\n",
       "    }\n",
       "</style>\n",
       "<table border=\"1\" class=\"dataframe\">\n",
       "  <thead>\n",
       "    <tr style=\"text-align: right;\">\n",
       "      <th></th>\n",
       "      <th>chave</th>\n",
       "      <th>Act_cost</th>\n",
       "      <th>Premio_oferecido_com_batente</th>\n",
       "      <th>premio</th>\n",
       "      <th>prob_est</th>\n",
       "      <th>prob_est_2</th>\n",
       "      <th>fator</th>\n",
       "      <th>margem</th>\n",
       "      <th>premio_anterior</th>\n",
       "    </tr>\n",
       "  </thead>\n",
       "  <tbody>\n",
       "    <tr>\n",
       "      <th>0</th>\n",
       "      <td>10708289513100001</td>\n",
       "      <td>273.190374</td>\n",
       "      <td>437.034672</td>\n",
       "      <td>655.552008</td>\n",
       "      <td>0.745265</td>\n",
       "      <td>0.512058</td>\n",
       "      <td>1.50</td>\n",
       "      <td>195.791150</td>\n",
       "      <td>574.04</td>\n",
       "    </tr>\n",
       "    <tr>\n",
       "      <th>1</th>\n",
       "      <td>10708289513100001</td>\n",
       "      <td>273.190374</td>\n",
       "      <td>437.034672</td>\n",
       "      <td>633.700275</td>\n",
       "      <td>0.745265</td>\n",
       "      <td>0.534874</td>\n",
       "      <td>1.45</td>\n",
       "      <td>192.827370</td>\n",
       "      <td>574.04</td>\n",
       "    </tr>\n",
       "    <tr>\n",
       "      <th>2</th>\n",
       "      <td>10708289513100001</td>\n",
       "      <td>273.190374</td>\n",
       "      <td>437.034672</td>\n",
       "      <td>611.848541</td>\n",
       "      <td>0.745265</td>\n",
       "      <td>0.558033</td>\n",
       "      <td>1.40</td>\n",
       "      <td>188.982499</td>\n",
       "      <td>574.04</td>\n",
       "    </tr>\n",
       "    <tr>\n",
       "      <th>3</th>\n",
       "      <td>10708289513100001</td>\n",
       "      <td>273.190374</td>\n",
       "      <td>437.034672</td>\n",
       "      <td>589.996808</td>\n",
       "      <td>0.745265</td>\n",
       "      <td>0.581459</td>\n",
       "      <td>1.35</td>\n",
       "      <td>184.209966</td>\n",
       "      <td>574.04</td>\n",
       "    </tr>\n",
       "    <tr>\n",
       "      <th>4</th>\n",
       "      <td>10708289513100001</td>\n",
       "      <td>273.190374</td>\n",
       "      <td>437.034672</td>\n",
       "      <td>568.145074</td>\n",
       "      <td>0.745265</td>\n",
       "      <td>0.605068</td>\n",
       "      <td>1.30</td>\n",
       "      <td>178.467797</td>\n",
       "      <td>574.04</td>\n",
       "    </tr>\n",
       "    <tr>\n",
       "      <th>5</th>\n",
       "      <td>10708289513100001</td>\n",
       "      <td>273.190374</td>\n",
       "      <td>437.034672</td>\n",
       "      <td>546.293340</td>\n",
       "      <td>0.745265</td>\n",
       "      <td>0.628772</td>\n",
       "      <td>1.25</td>\n",
       "      <td>171.719563</td>\n",
       "      <td>574.04</td>\n",
       "    </tr>\n",
       "    <tr>\n",
       "      <th>6</th>\n",
       "      <td>10708289513100001</td>\n",
       "      <td>273.190374</td>\n",
       "      <td>437.034672</td>\n",
       "      <td>524.441607</td>\n",
       "      <td>0.745265</td>\n",
       "      <td>0.652476</td>\n",
       "      <td>1.20</td>\n",
       "      <td>163.935285</td>\n",
       "      <td>574.04</td>\n",
       "    </tr>\n",
       "    <tr>\n",
       "      <th>7</th>\n",
       "      <td>10708289513100001</td>\n",
       "      <td>273.190374</td>\n",
       "      <td>437.034672</td>\n",
       "      <td>502.589873</td>\n",
       "      <td>0.745265</td>\n",
       "      <td>0.676079</td>\n",
       "      <td>1.15</td>\n",
       "      <td>155.092267</td>\n",
       "      <td>574.04</td>\n",
       "    </tr>\n",
       "    <tr>\n",
       "      <th>8</th>\n",
       "      <td>10708289513100001</td>\n",
       "      <td>273.190374</td>\n",
       "      <td>437.034672</td>\n",
       "      <td>480.738140</td>\n",
       "      <td>0.745265</td>\n",
       "      <td>0.699481</td>\n",
       "      <td>1.10</td>\n",
       "      <td>145.175821</td>\n",
       "      <td>574.04</td>\n",
       "    </tr>\n",
       "    <tr>\n",
       "      <th>9</th>\n",
       "      <td>10708289513100001</td>\n",
       "      <td>273.190374</td>\n",
       "      <td>437.034672</td>\n",
       "      <td>458.886406</td>\n",
       "      <td>0.745265</td>\n",
       "      <td>0.722578</td>\n",
       "      <td>1.05</td>\n",
       "      <td>134.179868</td>\n",
       "      <td>574.04</td>\n",
       "    </tr>\n",
       "    <tr>\n",
       "      <th>10</th>\n",
       "      <td>10708289513100001</td>\n",
       "      <td>273.190374</td>\n",
       "      <td>437.034672</td>\n",
       "      <td>437.034672</td>\n",
       "      <td>0.745265</td>\n",
       "      <td>0.745265</td>\n",
       "      <td>1.00</td>\n",
       "      <td>122.107362</td>\n",
       "      <td>574.04</td>\n",
       "    </tr>\n",
       "    <tr>\n",
       "      <th>11</th>\n",
       "      <td>10708289513100001</td>\n",
       "      <td>273.190374</td>\n",
       "      <td>437.034672</td>\n",
       "      <td>415.182939</td>\n",
       "      <td>0.745265</td>\n",
       "      <td>0.767438</td>\n",
       "      <td>0.95</td>\n",
       "      <td>108.970545</td>\n",
       "      <td>574.04</td>\n",
       "    </tr>\n",
       "    <tr>\n",
       "      <th>12</th>\n",
       "      <td>10708289513100001</td>\n",
       "      <td>273.190374</td>\n",
       "      <td>437.034672</td>\n",
       "      <td>393.331205</td>\n",
       "      <td>0.745265</td>\n",
       "      <td>0.788999</td>\n",
       "      <td>0.90</td>\n",
       "      <td>94.790996</td>\n",
       "      <td>574.04</td>\n",
       "    </tr>\n",
       "    <tr>\n",
       "      <th>13</th>\n",
       "      <td>10708289513100001</td>\n",
       "      <td>273.190374</td>\n",
       "      <td>437.034672</td>\n",
       "      <td>371.479471</td>\n",
       "      <td>0.745265</td>\n",
       "      <td>0.809850</td>\n",
       "      <td>0.85</td>\n",
       "      <td>79.599474</td>\n",
       "      <td>574.04</td>\n",
       "    </tr>\n",
       "    <tr>\n",
       "      <th>14</th>\n",
       "      <td>10708289513100001</td>\n",
       "      <td>273.190374</td>\n",
       "      <td>437.034672</td>\n",
       "      <td>349.627738</td>\n",
       "      <td>0.745265</td>\n",
       "      <td>0.829903</td>\n",
       "      <td>0.80</td>\n",
       "      <td>63.435563</td>\n",
       "      <td>574.04</td>\n",
       "    </tr>\n",
       "    <tr>\n",
       "      <th>15</th>\n",
       "      <td>10708289513100001</td>\n",
       "      <td>273.190374</td>\n",
       "      <td>437.034672</td>\n",
       "      <td>327.776004</td>\n",
       "      <td>0.745265</td>\n",
       "      <td>0.849072</td>\n",
       "      <td>0.75</td>\n",
       "      <td>46.347119</td>\n",
       "      <td>574.04</td>\n",
       "    </tr>\n",
       "    <tr>\n",
       "      <th>16</th>\n",
       "      <td>10708289513100001</td>\n",
       "      <td>273.190374</td>\n",
       "      <td>437.034672</td>\n",
       "      <td>305.924271</td>\n",
       "      <td>0.745265</td>\n",
       "      <td>0.867283</td>\n",
       "      <td>0.70</td>\n",
       "      <td>28.389549</td>\n",
       "      <td>574.04</td>\n",
       "    </tr>\n",
       "    <tr>\n",
       "      <th>17</th>\n",
       "      <td>10708289513100001</td>\n",
       "      <td>273.190374</td>\n",
       "      <td>437.034672</td>\n",
       "      <td>284.072537</td>\n",
       "      <td>0.745265</td>\n",
       "      <td>0.884469</td>\n",
       "      <td>0.65</td>\n",
       "      <td>9.624941</td>\n",
       "      <td>574.04</td>\n",
       "    </tr>\n",
       "    <tr>\n",
       "      <th>18</th>\n",
       "      <td>10708289513100001</td>\n",
       "      <td>273.190374</td>\n",
       "      <td>437.034672</td>\n",
       "      <td>262.220803</td>\n",
       "      <td>0.745265</td>\n",
       "      <td>0.900574</td>\n",
       "      <td>0.60</td>\n",
       "      <td>-9.878915</td>\n",
       "      <td>574.04</td>\n",
       "    </tr>\n",
       "    <tr>\n",
       "      <th>19</th>\n",
       "      <td>10708289513100001</td>\n",
       "      <td>273.190374</td>\n",
       "      <td>437.034672</td>\n",
       "      <td>240.369070</td>\n",
       "      <td>0.745265</td>\n",
       "      <td>0.915551</td>\n",
       "      <td>0.55</td>\n",
       "      <td>-30.049573</td>\n",
       "      <td>574.04</td>\n",
       "    </tr>\n",
       "  </tbody>\n",
       "</table>\n",
       "</div>"
      ],
      "text/plain": [
       "                chave    Act_cost  Premio_oferecido_com_batente      premio  \\\n",
       "0   10708289513100001  273.190374                    437.034672  655.552008   \n",
       "1   10708289513100001  273.190374                    437.034672  633.700275   \n",
       "2   10708289513100001  273.190374                    437.034672  611.848541   \n",
       "3   10708289513100001  273.190374                    437.034672  589.996808   \n",
       "4   10708289513100001  273.190374                    437.034672  568.145074   \n",
       "5   10708289513100001  273.190374                    437.034672  546.293340   \n",
       "6   10708289513100001  273.190374                    437.034672  524.441607   \n",
       "7   10708289513100001  273.190374                    437.034672  502.589873   \n",
       "8   10708289513100001  273.190374                    437.034672  480.738140   \n",
       "9   10708289513100001  273.190374                    437.034672  458.886406   \n",
       "10  10708289513100001  273.190374                    437.034672  437.034672   \n",
       "11  10708289513100001  273.190374                    437.034672  415.182939   \n",
       "12  10708289513100001  273.190374                    437.034672  393.331205   \n",
       "13  10708289513100001  273.190374                    437.034672  371.479471   \n",
       "14  10708289513100001  273.190374                    437.034672  349.627738   \n",
       "15  10708289513100001  273.190374                    437.034672  327.776004   \n",
       "16  10708289513100001  273.190374                    437.034672  305.924271   \n",
       "17  10708289513100001  273.190374                    437.034672  284.072537   \n",
       "18  10708289513100001  273.190374                    437.034672  262.220803   \n",
       "19  10708289513100001  273.190374                    437.034672  240.369070   \n",
       "\n",
       "    prob_est  prob_est_2  fator      margem  premio_anterior  \n",
       "0   0.745265    0.512058   1.50  195.791150           574.04  \n",
       "1   0.745265    0.534874   1.45  192.827370           574.04  \n",
       "2   0.745265    0.558033   1.40  188.982499           574.04  \n",
       "3   0.745265    0.581459   1.35  184.209966           574.04  \n",
       "4   0.745265    0.605068   1.30  178.467797           574.04  \n",
       "5   0.745265    0.628772   1.25  171.719563           574.04  \n",
       "6   0.745265    0.652476   1.20  163.935285           574.04  \n",
       "7   0.745265    0.676079   1.15  155.092267           574.04  \n",
       "8   0.745265    0.699481   1.10  145.175821           574.04  \n",
       "9   0.745265    0.722578   1.05  134.179868           574.04  \n",
       "10  0.745265    0.745265   1.00  122.107362           574.04  \n",
       "11  0.745265    0.767438   0.95  108.970545           574.04  \n",
       "12  0.745265    0.788999   0.90   94.790996           574.04  \n",
       "13  0.745265    0.809850   0.85   79.599474           574.04  \n",
       "14  0.745265    0.829903   0.80   63.435563           574.04  \n",
       "15  0.745265    0.849072   0.75   46.347119           574.04  \n",
       "16  0.745265    0.867283   0.70   28.389549           574.04  \n",
       "17  0.745265    0.884469   0.65    9.624941           574.04  \n",
       "18  0.745265    0.900574   0.60   -9.878915           574.04  \n",
       "19  0.745265    0.915551   0.55  -30.049573           574.04  "
      ]
     },
     "execution_count": 512,
     "metadata": {},
     "output_type": "execute_result"
    }
   ],
   "source": [
    "df_resultado2 = df_resultado[[\"chave\",\"Act_cost\",\"Premio_oferecido_com_batente\",\"premio\",\"prob_est\",\"prob_est_2\",'fator',\"margem\",\"premio_anterior\"]]\n",
    "df_resultado2"
   ]
  },
  {
   "cell_type": "code",
   "execution_count": 513,
   "id": "1cde34b8",
   "metadata": {},
   "outputs": [
    {
     "name": "stdout",
     "output_type": "stream",
     "text": [
      "     Act_cost         Amostra Amostra_inicial  ano_fab  ano_modelo  \\\n",
      "0  273.190374  Otimização Atu  Otimização Atu     2007        2008   \n",
      "\n",
      "   batente_max_ti  batente_min_ti     canal  Carprice              chave  ...  \\\n",
      "0             2.3             0.6  Corretor     30080  10708289513100001  ...   \n",
      "\n",
      "                 UF_bin md_tipo_renov_ant_bin  Cod_End_bin  MD_capac_bin  \\\n",
      "0  AP,DF,ES,PA,PB,RN,SC        2-RenovPropria       Demais           NaN   \n",
      "\n",
      "   fator_ajuste_bin  MD_qtd_assis_cpf_bin  prob_est fator prob_est_2  \\\n",
      "0              <101                    00  0.745265   1.5   0.512058   \n",
      "\n",
      "      margem  \n",
      "0  195.79115  \n",
      "\n",
      "[1 rows x 139 columns]\n"
     ]
    },
    {
     "data": {
      "application/vnd.plotly.v1+json": {
       "config": {
        "plotlyServerURL": "https://plot.ly"
       },
       "data": [
        {
         "type": "scatter",
         "x": [
          655.55200845,
          633.700274835,
          611.84854122,
          589.996807605,
          568.1450739899999,
          546.293340375,
          524.4416067599999,
          502.5898731449999,
          480.73813952999984,
          458.88640591499984,
          437.03467229999984,
          415.1829386849998,
          393.3312050699998,
          371.4794714549998,
          349.6277378399997,
          327.7760042249997,
          305.9242706099997,
          284.07253699499967,
          262.22080337999967,
          240.36906976499964
         ],
         "y": [
          195.79115003010827,
          192.82737036590225,
          188.98249925870195,
          184.20996569450202,
          178.46779657421524,
          171.71956292142622,
          163.9352853091614,
          155.09226677174394,
          145.17582131901545,
          134.17986774781488,
          122.10736184501232,
          108.97054525464043,
          94.79099604624044,
          79.599474036199,
          63.43556272287563,
          46.34711876644148,
          28.38954872098653,
          9.624940699529756,
          -9.878914572645721,
          -30.04957348936709
         ]
        }
       ],
       "layout": {
        "annotations": [
         {
          "arrowhead": 1,
          "showarrow": true,
          "text": "Maximum Revenue",
          "x": 655,
          "y": 195
         }
        ],
        "shapes": [
         {
          "line": {
           "color": "red",
           "dash": "dash",
           "width": 2
          },
          "opacity": 0.25,
          "type": "line",
          "x0": 655,
          "x1": 655,
          "xref": "x",
          "y0": 0,
          "y1": 1,
          "yref": "y domain"
         }
        ],
        "showlegend": false,
        "template": {
         "data": {
          "bar": [
           {
            "error_x": {
             "color": "#2a3f5f"
            },
            "error_y": {
             "color": "#2a3f5f"
            },
            "marker": {
             "line": {
              "color": "#E5ECF6",
              "width": 0.5
             },
             "pattern": {
              "fillmode": "overlay",
              "size": 10,
              "solidity": 0.2
             }
            },
            "type": "bar"
           }
          ],
          "barpolar": [
           {
            "marker": {
             "line": {
              "color": "#E5ECF6",
              "width": 0.5
             },
             "pattern": {
              "fillmode": "overlay",
              "size": 10,
              "solidity": 0.2
             }
            },
            "type": "barpolar"
           }
          ],
          "carpet": [
           {
            "aaxis": {
             "endlinecolor": "#2a3f5f",
             "gridcolor": "white",
             "linecolor": "white",
             "minorgridcolor": "white",
             "startlinecolor": "#2a3f5f"
            },
            "baxis": {
             "endlinecolor": "#2a3f5f",
             "gridcolor": "white",
             "linecolor": "white",
             "minorgridcolor": "white",
             "startlinecolor": "#2a3f5f"
            },
            "type": "carpet"
           }
          ],
          "choropleth": [
           {
            "colorbar": {
             "outlinewidth": 0,
             "ticks": ""
            },
            "type": "choropleth"
           }
          ],
          "contour": [
           {
            "colorbar": {
             "outlinewidth": 0,
             "ticks": ""
            },
            "colorscale": [
             [
              0,
              "#0d0887"
             ],
             [
              0.1111111111111111,
              "#46039f"
             ],
             [
              0.2222222222222222,
              "#7201a8"
             ],
             [
              0.3333333333333333,
              "#9c179e"
             ],
             [
              0.4444444444444444,
              "#bd3786"
             ],
             [
              0.5555555555555556,
              "#d8576b"
             ],
             [
              0.6666666666666666,
              "#ed7953"
             ],
             [
              0.7777777777777778,
              "#fb9f3a"
             ],
             [
              0.8888888888888888,
              "#fdca26"
             ],
             [
              1,
              "#f0f921"
             ]
            ],
            "type": "contour"
           }
          ],
          "contourcarpet": [
           {
            "colorbar": {
             "outlinewidth": 0,
             "ticks": ""
            },
            "type": "contourcarpet"
           }
          ],
          "heatmap": [
           {
            "colorbar": {
             "outlinewidth": 0,
             "ticks": ""
            },
            "colorscale": [
             [
              0,
              "#0d0887"
             ],
             [
              0.1111111111111111,
              "#46039f"
             ],
             [
              0.2222222222222222,
              "#7201a8"
             ],
             [
              0.3333333333333333,
              "#9c179e"
             ],
             [
              0.4444444444444444,
              "#bd3786"
             ],
             [
              0.5555555555555556,
              "#d8576b"
             ],
             [
              0.6666666666666666,
              "#ed7953"
             ],
             [
              0.7777777777777778,
              "#fb9f3a"
             ],
             [
              0.8888888888888888,
              "#fdca26"
             ],
             [
              1,
              "#f0f921"
             ]
            ],
            "type": "heatmap"
           }
          ],
          "heatmapgl": [
           {
            "colorbar": {
             "outlinewidth": 0,
             "ticks": ""
            },
            "colorscale": [
             [
              0,
              "#0d0887"
             ],
             [
              0.1111111111111111,
              "#46039f"
             ],
             [
              0.2222222222222222,
              "#7201a8"
             ],
             [
              0.3333333333333333,
              "#9c179e"
             ],
             [
              0.4444444444444444,
              "#bd3786"
             ],
             [
              0.5555555555555556,
              "#d8576b"
             ],
             [
              0.6666666666666666,
              "#ed7953"
             ],
             [
              0.7777777777777778,
              "#fb9f3a"
             ],
             [
              0.8888888888888888,
              "#fdca26"
             ],
             [
              1,
              "#f0f921"
             ]
            ],
            "type": "heatmapgl"
           }
          ],
          "histogram": [
           {
            "marker": {
             "pattern": {
              "fillmode": "overlay",
              "size": 10,
              "solidity": 0.2
             }
            },
            "type": "histogram"
           }
          ],
          "histogram2d": [
           {
            "colorbar": {
             "outlinewidth": 0,
             "ticks": ""
            },
            "colorscale": [
             [
              0,
              "#0d0887"
             ],
             [
              0.1111111111111111,
              "#46039f"
             ],
             [
              0.2222222222222222,
              "#7201a8"
             ],
             [
              0.3333333333333333,
              "#9c179e"
             ],
             [
              0.4444444444444444,
              "#bd3786"
             ],
             [
              0.5555555555555556,
              "#d8576b"
             ],
             [
              0.6666666666666666,
              "#ed7953"
             ],
             [
              0.7777777777777778,
              "#fb9f3a"
             ],
             [
              0.8888888888888888,
              "#fdca26"
             ],
             [
              1,
              "#f0f921"
             ]
            ],
            "type": "histogram2d"
           }
          ],
          "histogram2dcontour": [
           {
            "colorbar": {
             "outlinewidth": 0,
             "ticks": ""
            },
            "colorscale": [
             [
              0,
              "#0d0887"
             ],
             [
              0.1111111111111111,
              "#46039f"
             ],
             [
              0.2222222222222222,
              "#7201a8"
             ],
             [
              0.3333333333333333,
              "#9c179e"
             ],
             [
              0.4444444444444444,
              "#bd3786"
             ],
             [
              0.5555555555555556,
              "#d8576b"
             ],
             [
              0.6666666666666666,
              "#ed7953"
             ],
             [
              0.7777777777777778,
              "#fb9f3a"
             ],
             [
              0.8888888888888888,
              "#fdca26"
             ],
             [
              1,
              "#f0f921"
             ]
            ],
            "type": "histogram2dcontour"
           }
          ],
          "mesh3d": [
           {
            "colorbar": {
             "outlinewidth": 0,
             "ticks": ""
            },
            "type": "mesh3d"
           }
          ],
          "parcoords": [
           {
            "line": {
             "colorbar": {
              "outlinewidth": 0,
              "ticks": ""
             }
            },
            "type": "parcoords"
           }
          ],
          "pie": [
           {
            "automargin": true,
            "type": "pie"
           }
          ],
          "scatter": [
           {
            "fillpattern": {
             "fillmode": "overlay",
             "size": 10,
             "solidity": 0.2
            },
            "type": "scatter"
           }
          ],
          "scatter3d": [
           {
            "line": {
             "colorbar": {
              "outlinewidth": 0,
              "ticks": ""
             }
            },
            "marker": {
             "colorbar": {
              "outlinewidth": 0,
              "ticks": ""
             }
            },
            "type": "scatter3d"
           }
          ],
          "scattercarpet": [
           {
            "marker": {
             "colorbar": {
              "outlinewidth": 0,
              "ticks": ""
             }
            },
            "type": "scattercarpet"
           }
          ],
          "scattergeo": [
           {
            "marker": {
             "colorbar": {
              "outlinewidth": 0,
              "ticks": ""
             }
            },
            "type": "scattergeo"
           }
          ],
          "scattergl": [
           {
            "marker": {
             "colorbar": {
              "outlinewidth": 0,
              "ticks": ""
             }
            },
            "type": "scattergl"
           }
          ],
          "scattermapbox": [
           {
            "marker": {
             "colorbar": {
              "outlinewidth": 0,
              "ticks": ""
             }
            },
            "type": "scattermapbox"
           }
          ],
          "scatterpolar": [
           {
            "marker": {
             "colorbar": {
              "outlinewidth": 0,
              "ticks": ""
             }
            },
            "type": "scatterpolar"
           }
          ],
          "scatterpolargl": [
           {
            "marker": {
             "colorbar": {
              "outlinewidth": 0,
              "ticks": ""
             }
            },
            "type": "scatterpolargl"
           }
          ],
          "scatterternary": [
           {
            "marker": {
             "colorbar": {
              "outlinewidth": 0,
              "ticks": ""
             }
            },
            "type": "scatterternary"
           }
          ],
          "surface": [
           {
            "colorbar": {
             "outlinewidth": 0,
             "ticks": ""
            },
            "colorscale": [
             [
              0,
              "#0d0887"
             ],
             [
              0.1111111111111111,
              "#46039f"
             ],
             [
              0.2222222222222222,
              "#7201a8"
             ],
             [
              0.3333333333333333,
              "#9c179e"
             ],
             [
              0.4444444444444444,
              "#bd3786"
             ],
             [
              0.5555555555555556,
              "#d8576b"
             ],
             [
              0.6666666666666666,
              "#ed7953"
             ],
             [
              0.7777777777777778,
              "#fb9f3a"
             ],
             [
              0.8888888888888888,
              "#fdca26"
             ],
             [
              1,
              "#f0f921"
             ]
            ],
            "type": "surface"
           }
          ],
          "table": [
           {
            "cells": {
             "fill": {
              "color": "#EBF0F8"
             },
             "line": {
              "color": "white"
             }
            },
            "header": {
             "fill": {
              "color": "#C8D4E3"
             },
             "line": {
              "color": "white"
             }
            },
            "type": "table"
           }
          ]
         },
         "layout": {
          "annotationdefaults": {
           "arrowcolor": "#2a3f5f",
           "arrowhead": 0,
           "arrowwidth": 1
          },
          "autotypenumbers": "strict",
          "coloraxis": {
           "colorbar": {
            "outlinewidth": 0,
            "ticks": ""
           }
          },
          "colorscale": {
           "diverging": [
            [
             0,
             "#8e0152"
            ],
            [
             0.1,
             "#c51b7d"
            ],
            [
             0.2,
             "#de77ae"
            ],
            [
             0.3,
             "#f1b6da"
            ],
            [
             0.4,
             "#fde0ef"
            ],
            [
             0.5,
             "#f7f7f7"
            ],
            [
             0.6,
             "#e6f5d0"
            ],
            [
             0.7,
             "#b8e186"
            ],
            [
             0.8,
             "#7fbc41"
            ],
            [
             0.9,
             "#4d9221"
            ],
            [
             1,
             "#276419"
            ]
           ],
           "sequential": [
            [
             0,
             "#0d0887"
            ],
            [
             0.1111111111111111,
             "#46039f"
            ],
            [
             0.2222222222222222,
             "#7201a8"
            ],
            [
             0.3333333333333333,
             "#9c179e"
            ],
            [
             0.4444444444444444,
             "#bd3786"
            ],
            [
             0.5555555555555556,
             "#d8576b"
            ],
            [
             0.6666666666666666,
             "#ed7953"
            ],
            [
             0.7777777777777778,
             "#fb9f3a"
            ],
            [
             0.8888888888888888,
             "#fdca26"
            ],
            [
             1,
             "#f0f921"
            ]
           ],
           "sequentialminus": [
            [
             0,
             "#0d0887"
            ],
            [
             0.1111111111111111,
             "#46039f"
            ],
            [
             0.2222222222222222,
             "#7201a8"
            ],
            [
             0.3333333333333333,
             "#9c179e"
            ],
            [
             0.4444444444444444,
             "#bd3786"
            ],
            [
             0.5555555555555556,
             "#d8576b"
            ],
            [
             0.6666666666666666,
             "#ed7953"
            ],
            [
             0.7777777777777778,
             "#fb9f3a"
            ],
            [
             0.8888888888888888,
             "#fdca26"
            ],
            [
             1,
             "#f0f921"
            ]
           ]
          },
          "colorway": [
           "#636efa",
           "#EF553B",
           "#00cc96",
           "#ab63fa",
           "#FFA15A",
           "#19d3f3",
           "#FF6692",
           "#B6E880",
           "#FF97FF",
           "#FECB52"
          ],
          "font": {
           "color": "#2a3f5f"
          },
          "geo": {
           "bgcolor": "white",
           "lakecolor": "white",
           "landcolor": "#E5ECF6",
           "showlakes": true,
           "showland": true,
           "subunitcolor": "white"
          },
          "hoverlabel": {
           "align": "left"
          },
          "hovermode": "closest",
          "mapbox": {
           "style": "light"
          },
          "paper_bgcolor": "white",
          "plot_bgcolor": "#E5ECF6",
          "polar": {
           "angularaxis": {
            "gridcolor": "white",
            "linecolor": "white",
            "ticks": ""
           },
           "bgcolor": "#E5ECF6",
           "radialaxis": {
            "gridcolor": "white",
            "linecolor": "white",
            "ticks": ""
           }
          },
          "scene": {
           "xaxis": {
            "backgroundcolor": "#E5ECF6",
            "gridcolor": "white",
            "gridwidth": 2,
            "linecolor": "white",
            "showbackground": true,
            "ticks": "",
            "zerolinecolor": "white"
           },
           "yaxis": {
            "backgroundcolor": "#E5ECF6",
            "gridcolor": "white",
            "gridwidth": 2,
            "linecolor": "white",
            "showbackground": true,
            "ticks": "",
            "zerolinecolor": "white"
           },
           "zaxis": {
            "backgroundcolor": "#E5ECF6",
            "gridcolor": "white",
            "gridwidth": 2,
            "linecolor": "white",
            "showbackground": true,
            "ticks": "",
            "zerolinecolor": "white"
           }
          },
          "shapedefaults": {
           "line": {
            "color": "#2a3f5f"
           }
          },
          "ternary": {
           "aaxis": {
            "gridcolor": "white",
            "linecolor": "white",
            "ticks": ""
           },
           "baxis": {
            "gridcolor": "white",
            "linecolor": "white",
            "ticks": ""
           },
           "bgcolor": "#E5ECF6",
           "caxis": {
            "gridcolor": "white",
            "linecolor": "white",
            "ticks": ""
           }
          },
          "title": {
           "x": 0.05
          },
          "xaxis": {
           "automargin": true,
           "gridcolor": "white",
           "linecolor": "white",
           "ticks": "",
           "title": {
            "standoff": 15
           },
           "zerolinecolor": "white",
           "zerolinewidth": 2
          },
          "yaxis": {
           "automargin": true,
           "gridcolor": "white",
           "linecolor": "white",
           "ticks": "",
           "title": {
            "standoff": 15
           },
           "zerolinecolor": "white",
           "zerolinewidth": 2
          }
         }
        },
        "xaxis": {
         "title": {
          "text": "Premio"
         }
        },
        "yaxis": {
         "title": {
          "text": "Margem"
         }
        }
       }
      },
      "text/html": [
       "<div>                            <div id=\"67f60b24-f624-43d0-b7df-0a89ec25d7df\" class=\"plotly-graph-div\" style=\"height:525px; width:100%;\"></div>            <script type=\"text/javascript\">                require([\"plotly\"], function(Plotly) {                    window.PLOTLYENV=window.PLOTLYENV || {};                                    if (document.getElementById(\"67f60b24-f624-43d0-b7df-0a89ec25d7df\")) {                    Plotly.newPlot(                        \"67f60b24-f624-43d0-b7df-0a89ec25d7df\",                        [{\"x\":[655.55200845,633.700274835,611.84854122,589.996807605,568.1450739899999,546.293340375,524.4416067599999,502.5898731449999,480.73813952999984,458.88640591499984,437.03467229999984,415.1829386849998,393.3312050699998,371.4794714549998,349.6277378399997,327.7760042249997,305.9242706099997,284.07253699499967,262.22080337999967,240.36906976499964],\"y\":[195.79115003010827,192.82737036590225,188.98249925870195,184.20996569450202,178.46779657421524,171.71956292142622,163.9352853091614,155.09226677174394,145.17582131901545,134.17986774781488,122.10736184501232,108.97054525464043,94.79099604624044,79.599474036199,63.43556272287563,46.34711876644148,28.38954872098653,9.624940699529756,-9.878914572645721,-30.04957348936709],\"type\":\"scatter\"}],                        {\"template\":{\"data\":{\"histogram2dcontour\":[{\"type\":\"histogram2dcontour\",\"colorbar\":{\"outlinewidth\":0,\"ticks\":\"\"},\"colorscale\":[[0.0,\"#0d0887\"],[0.1111111111111111,\"#46039f\"],[0.2222222222222222,\"#7201a8\"],[0.3333333333333333,\"#9c179e\"],[0.4444444444444444,\"#bd3786\"],[0.5555555555555556,\"#d8576b\"],[0.6666666666666666,\"#ed7953\"],[0.7777777777777778,\"#fb9f3a\"],[0.8888888888888888,\"#fdca26\"],[1.0,\"#f0f921\"]]}],\"choropleth\":[{\"type\":\"choropleth\",\"colorbar\":{\"outlinewidth\":0,\"ticks\":\"\"}}],\"histogram2d\":[{\"type\":\"histogram2d\",\"colorbar\":{\"outlinewidth\":0,\"ticks\":\"\"},\"colorscale\":[[0.0,\"#0d0887\"],[0.1111111111111111,\"#46039f\"],[0.2222222222222222,\"#7201a8\"],[0.3333333333333333,\"#9c179e\"],[0.4444444444444444,\"#bd3786\"],[0.5555555555555556,\"#d8576b\"],[0.6666666666666666,\"#ed7953\"],[0.7777777777777778,\"#fb9f3a\"],[0.8888888888888888,\"#fdca26\"],[1.0,\"#f0f921\"]]}],\"heatmap\":[{\"type\":\"heatmap\",\"colorbar\":{\"outlinewidth\":0,\"ticks\":\"\"},\"colorscale\":[[0.0,\"#0d0887\"],[0.1111111111111111,\"#46039f\"],[0.2222222222222222,\"#7201a8\"],[0.3333333333333333,\"#9c179e\"],[0.4444444444444444,\"#bd3786\"],[0.5555555555555556,\"#d8576b\"],[0.6666666666666666,\"#ed7953\"],[0.7777777777777778,\"#fb9f3a\"],[0.8888888888888888,\"#fdca26\"],[1.0,\"#f0f921\"]]}],\"heatmapgl\":[{\"type\":\"heatmapgl\",\"colorbar\":{\"outlinewidth\":0,\"ticks\":\"\"},\"colorscale\":[[0.0,\"#0d0887\"],[0.1111111111111111,\"#46039f\"],[0.2222222222222222,\"#7201a8\"],[0.3333333333333333,\"#9c179e\"],[0.4444444444444444,\"#bd3786\"],[0.5555555555555556,\"#d8576b\"],[0.6666666666666666,\"#ed7953\"],[0.7777777777777778,\"#fb9f3a\"],[0.8888888888888888,\"#fdca26\"],[1.0,\"#f0f921\"]]}],\"contourcarpet\":[{\"type\":\"contourcarpet\",\"colorbar\":{\"outlinewidth\":0,\"ticks\":\"\"}}],\"contour\":[{\"type\":\"contour\",\"colorbar\":{\"outlinewidth\":0,\"ticks\":\"\"},\"colorscale\":[[0.0,\"#0d0887\"],[0.1111111111111111,\"#46039f\"],[0.2222222222222222,\"#7201a8\"],[0.3333333333333333,\"#9c179e\"],[0.4444444444444444,\"#bd3786\"],[0.5555555555555556,\"#d8576b\"],[0.6666666666666666,\"#ed7953\"],[0.7777777777777778,\"#fb9f3a\"],[0.8888888888888888,\"#fdca26\"],[1.0,\"#f0f921\"]]}],\"surface\":[{\"type\":\"surface\",\"colorbar\":{\"outlinewidth\":0,\"ticks\":\"\"},\"colorscale\":[[0.0,\"#0d0887\"],[0.1111111111111111,\"#46039f\"],[0.2222222222222222,\"#7201a8\"],[0.3333333333333333,\"#9c179e\"],[0.4444444444444444,\"#bd3786\"],[0.5555555555555556,\"#d8576b\"],[0.6666666666666666,\"#ed7953\"],[0.7777777777777778,\"#fb9f3a\"],[0.8888888888888888,\"#fdca26\"],[1.0,\"#f0f921\"]]}],\"mesh3d\":[{\"type\":\"mesh3d\",\"colorbar\":{\"outlinewidth\":0,\"ticks\":\"\"}}],\"scatter\":[{\"fillpattern\":{\"fillmode\":\"overlay\",\"size\":10,\"solidity\":0.2},\"type\":\"scatter\"}],\"parcoords\":[{\"type\":\"parcoords\",\"line\":{\"colorbar\":{\"outlinewidth\":0,\"ticks\":\"\"}}}],\"scatterpolargl\":[{\"type\":\"scatterpolargl\",\"marker\":{\"colorbar\":{\"outlinewidth\":0,\"ticks\":\"\"}}}],\"bar\":[{\"error_x\":{\"color\":\"#2a3f5f\"},\"error_y\":{\"color\":\"#2a3f5f\"},\"marker\":{\"line\":{\"color\":\"#E5ECF6\",\"width\":0.5},\"pattern\":{\"fillmode\":\"overlay\",\"size\":10,\"solidity\":0.2}},\"type\":\"bar\"}],\"scattergeo\":[{\"type\":\"scattergeo\",\"marker\":{\"colorbar\":{\"outlinewidth\":0,\"ticks\":\"\"}}}],\"scatterpolar\":[{\"type\":\"scatterpolar\",\"marker\":{\"colorbar\":{\"outlinewidth\":0,\"ticks\":\"\"}}}],\"histogram\":[{\"marker\":{\"pattern\":{\"fillmode\":\"overlay\",\"size\":10,\"solidity\":0.2}},\"type\":\"histogram\"}],\"scattergl\":[{\"type\":\"scattergl\",\"marker\":{\"colorbar\":{\"outlinewidth\":0,\"ticks\":\"\"}}}],\"scatter3d\":[{\"type\":\"scatter3d\",\"line\":{\"colorbar\":{\"outlinewidth\":0,\"ticks\":\"\"}},\"marker\":{\"colorbar\":{\"outlinewidth\":0,\"ticks\":\"\"}}}],\"scattermapbox\":[{\"type\":\"scattermapbox\",\"marker\":{\"colorbar\":{\"outlinewidth\":0,\"ticks\":\"\"}}}],\"scatterternary\":[{\"type\":\"scatterternary\",\"marker\":{\"colorbar\":{\"outlinewidth\":0,\"ticks\":\"\"}}}],\"scattercarpet\":[{\"type\":\"scattercarpet\",\"marker\":{\"colorbar\":{\"outlinewidth\":0,\"ticks\":\"\"}}}],\"carpet\":[{\"aaxis\":{\"endlinecolor\":\"#2a3f5f\",\"gridcolor\":\"white\",\"linecolor\":\"white\",\"minorgridcolor\":\"white\",\"startlinecolor\":\"#2a3f5f\"},\"baxis\":{\"endlinecolor\":\"#2a3f5f\",\"gridcolor\":\"white\",\"linecolor\":\"white\",\"minorgridcolor\":\"white\",\"startlinecolor\":\"#2a3f5f\"},\"type\":\"carpet\"}],\"table\":[{\"cells\":{\"fill\":{\"color\":\"#EBF0F8\"},\"line\":{\"color\":\"white\"}},\"header\":{\"fill\":{\"color\":\"#C8D4E3\"},\"line\":{\"color\":\"white\"}},\"type\":\"table\"}],\"barpolar\":[{\"marker\":{\"line\":{\"color\":\"#E5ECF6\",\"width\":0.5},\"pattern\":{\"fillmode\":\"overlay\",\"size\":10,\"solidity\":0.2}},\"type\":\"barpolar\"}],\"pie\":[{\"automargin\":true,\"type\":\"pie\"}]},\"layout\":{\"autotypenumbers\":\"strict\",\"colorway\":[\"#636efa\",\"#EF553B\",\"#00cc96\",\"#ab63fa\",\"#FFA15A\",\"#19d3f3\",\"#FF6692\",\"#B6E880\",\"#FF97FF\",\"#FECB52\"],\"font\":{\"color\":\"#2a3f5f\"},\"hovermode\":\"closest\",\"hoverlabel\":{\"align\":\"left\"},\"paper_bgcolor\":\"white\",\"plot_bgcolor\":\"#E5ECF6\",\"polar\":{\"bgcolor\":\"#E5ECF6\",\"angularaxis\":{\"gridcolor\":\"white\",\"linecolor\":\"white\",\"ticks\":\"\"},\"radialaxis\":{\"gridcolor\":\"white\",\"linecolor\":\"white\",\"ticks\":\"\"}},\"ternary\":{\"bgcolor\":\"#E5ECF6\",\"aaxis\":{\"gridcolor\":\"white\",\"linecolor\":\"white\",\"ticks\":\"\"},\"baxis\":{\"gridcolor\":\"white\",\"linecolor\":\"white\",\"ticks\":\"\"},\"caxis\":{\"gridcolor\":\"white\",\"linecolor\":\"white\",\"ticks\":\"\"}},\"coloraxis\":{\"colorbar\":{\"outlinewidth\":0,\"ticks\":\"\"}},\"colorscale\":{\"sequential\":[[0.0,\"#0d0887\"],[0.1111111111111111,\"#46039f\"],[0.2222222222222222,\"#7201a8\"],[0.3333333333333333,\"#9c179e\"],[0.4444444444444444,\"#bd3786\"],[0.5555555555555556,\"#d8576b\"],[0.6666666666666666,\"#ed7953\"],[0.7777777777777778,\"#fb9f3a\"],[0.8888888888888888,\"#fdca26\"],[1.0,\"#f0f921\"]],\"sequentialminus\":[[0.0,\"#0d0887\"],[0.1111111111111111,\"#46039f\"],[0.2222222222222222,\"#7201a8\"],[0.3333333333333333,\"#9c179e\"],[0.4444444444444444,\"#bd3786\"],[0.5555555555555556,\"#d8576b\"],[0.6666666666666666,\"#ed7953\"],[0.7777777777777778,\"#fb9f3a\"],[0.8888888888888888,\"#fdca26\"],[1.0,\"#f0f921\"]],\"diverging\":[[0,\"#8e0152\"],[0.1,\"#c51b7d\"],[0.2,\"#de77ae\"],[0.3,\"#f1b6da\"],[0.4,\"#fde0ef\"],[0.5,\"#f7f7f7\"],[0.6,\"#e6f5d0\"],[0.7,\"#b8e186\"],[0.8,\"#7fbc41\"],[0.9,\"#4d9221\"],[1,\"#276419\"]]},\"xaxis\":{\"gridcolor\":\"white\",\"linecolor\":\"white\",\"ticks\":\"\",\"title\":{\"standoff\":15},\"zerolinecolor\":\"white\",\"automargin\":true,\"zerolinewidth\":2},\"yaxis\":{\"gridcolor\":\"white\",\"linecolor\":\"white\",\"ticks\":\"\",\"title\":{\"standoff\":15},\"zerolinecolor\":\"white\",\"automargin\":true,\"zerolinewidth\":2},\"scene\":{\"xaxis\":{\"backgroundcolor\":\"#E5ECF6\",\"gridcolor\":\"white\",\"linecolor\":\"white\",\"showbackground\":true,\"ticks\":\"\",\"zerolinecolor\":\"white\",\"gridwidth\":2},\"yaxis\":{\"backgroundcolor\":\"#E5ECF6\",\"gridcolor\":\"white\",\"linecolor\":\"white\",\"showbackground\":true,\"ticks\":\"\",\"zerolinecolor\":\"white\",\"gridwidth\":2},\"zaxis\":{\"backgroundcolor\":\"#E5ECF6\",\"gridcolor\":\"white\",\"linecolor\":\"white\",\"showbackground\":true,\"ticks\":\"\",\"zerolinecolor\":\"white\",\"gridwidth\":2}},\"shapedefaults\":{\"line\":{\"color\":\"#2a3f5f\"}},\"annotationdefaults\":{\"arrowcolor\":\"#2a3f5f\",\"arrowhead\":0,\"arrowwidth\":1},\"geo\":{\"bgcolor\":\"white\",\"landcolor\":\"#E5ECF6\",\"subunitcolor\":\"white\",\"showland\":true,\"showlakes\":true,\"lakecolor\":\"white\"},\"title\":{\"x\":0.05},\"mapbox\":{\"style\":\"light\"}}},\"annotations\":[{\"arrowhead\":1,\"showarrow\":true,\"text\":\"Maximum Revenue\",\"x\":655,\"y\":195}],\"showlegend\":false,\"xaxis\":{\"title\":{\"text\":\"Premio\"}},\"yaxis\":{\"title\":{\"text\":\"Margem\"}},\"shapes\":[{\"line\":{\"color\":\"red\",\"dash\":\"dash\",\"width\":2},\"opacity\":0.25,\"type\":\"line\",\"x0\":655,\"x1\":655,\"xref\":\"x\",\"y0\":0,\"y1\":1,\"yref\":\"y domain\"}]},                        {\"responsive\": true}                    ).then(function(){\n",
       "                            \n",
       "var gd = document.getElementById('67f60b24-f624-43d0-b7df-0a89ec25d7df');\n",
       "var x = new MutationObserver(function (mutations, observer) {{\n",
       "        var display = window.getComputedStyle(gd).display;\n",
       "        if (!display || display === 'none') {{\n",
       "            console.log([gd, 'removed!']);\n",
       "            Plotly.purge(gd);\n",
       "            observer.disconnect();\n",
       "        }}\n",
       "}});\n",
       "\n",
       "// Listen for the removal of the full notebook cells\n",
       "var notebookContainer = gd.closest('#notebook-container');\n",
       "if (notebookContainer) {{\n",
       "    x.observe(notebookContainer, {childList: true});\n",
       "}}\n",
       "\n",
       "// Listen for the clearing of the current output cell\n",
       "var outputEl = gd.closest('.output');\n",
       "if (outputEl) {{\n",
       "    x.observe(outputEl, {childList: true});\n",
       "}}\n",
       "\n",
       "                        })                };                });            </script>        </div>"
      ]
     },
     "metadata": {},
     "output_type": "display_data"
    }
   ],
   "source": [
    "max_val = df_resultado.loc[(df_resultado['margem'] == df_resultado['margem'].max())]\n",
    "print(max_val)\n",
    "\n",
    "import plotly.graph_objects as go\n",
    "\n",
    "fig_PriceVsRevenue = go.Figure()\n",
    "\n",
    "fig_PriceVsRevenue.add_trace(go.Scatter(\n",
    "\n",
    "x=df_resultado['premio'], y=df_resultado['margem']))\n",
    "\n",
    "fig_PriceVsRevenue.add_annotation(x=int(max_val['premio']), y=int(max_val['margem']),\n",
    "\n",
    " text=\"Maximum Revenue\",\n",
    "\n",
    " showarrow=True,\n",
    "\n",
    " arrowhead=1)\n",
    "\n",
    "fig_PriceVsRevenue.update_layout(\n",
    "\n",
    " showlegend=False,\n",
    "\n",
    " xaxis_title=\"Premio\",\n",
    "\n",
    " yaxis_title=\"Margem\")\n",
    "\n",
    "fig_PriceVsRevenue.add_vline(x=int(max_val['premio']), line_width=2, line_dash=\"dash\", line_color=\"red\", opacity=0.25)"
   ]
  },
  {
   "cell_type": "markdown",
   "id": "85d9284c",
   "metadata": {},
   "source": [
    "## Otimização Teste 2"
   ]
  },
  {
   "cell_type": "code",
   "execution_count": 465,
   "id": "dc669ba4",
   "metadata": {},
   "outputs": [
    {
     "name": "stdout",
     "output_type": "stream",
     "text": [
      "Otimização Mkp     15569\n",
      "Otimização Mkp2     3271\n",
      "Controle            2830\n",
      "Otimização Atu      2829\n",
      "Teste_+5%           1402\n",
      "Teste_-5%           1397\n",
      "Name: Amostra, dtype: int64\n"
     ]
    }
   ],
   "source": [
    "print(df_mod['Amostra'].value_counts(ascending=False))"
   ]
  },
  {
   "cell_type": "code",
   "execution_count": 468,
   "id": "de7683ff",
   "metadata": {},
   "outputs": [],
   "source": [
    "#df_lote_otim=df_mod.copy()\n",
    "df_lote_otim = df_mod.query('Amostra == \"Otimização Atu\"')"
   ]
  },
  {
   "cell_type": "code",
   "execution_count": 257,
   "id": "3b1f4888",
   "metadata": {},
   "outputs": [],
   "source": [
    "#df_lote_otim = df_lote_otim.sample(n = 500) "
   ]
  },
  {
   "cell_type": "code",
   "execution_count": 469,
   "id": "ea0ddacf",
   "metadata": {},
   "outputs": [
    {
     "data": {
      "text/plain": [
       "(2829, 136)"
      ]
     },
     "execution_count": 469,
     "metadata": {},
     "output_type": "execute_result"
    }
   ],
   "source": [
    "#df_lote_otim = df_otim1\n",
    "df_lote_otim.shape"
   ]
  },
  {
   "cell_type": "code",
   "execution_count": 473,
   "id": "c4156593",
   "metadata": {},
   "outputs": [
    {
     "data": {
      "text/html": [
       "<div>\n",
       "<style scoped>\n",
       "    .dataframe tbody tr th:only-of-type {\n",
       "        vertical-align: middle;\n",
       "    }\n",
       "\n",
       "    .dataframe tbody tr th {\n",
       "        vertical-align: top;\n",
       "    }\n",
       "\n",
       "    .dataframe thead th {\n",
       "        text-align: right;\n",
       "    }\n",
       "</style>\n",
       "<table border=\"1\" class=\"dataframe\">\n",
       "  <thead>\n",
       "    <tr style=\"text-align: right;\">\n",
       "      <th></th>\n",
       "      <th>Act_cost</th>\n",
       "      <th>Amostra</th>\n",
       "      <th>Amostra_inicial</th>\n",
       "      <th>ano_fab</th>\n",
       "      <th>ano_modelo</th>\n",
       "      <th>batente_max_ti</th>\n",
       "      <th>batente_min_ti</th>\n",
       "      <th>canal</th>\n",
       "      <th>Carprice</th>\n",
       "      <th>chave</th>\n",
       "      <th>...</th>\n",
       "      <th>canal_bin</th>\n",
       "      <th>per_com_bin</th>\n",
       "      <th>idade_ult_RNS_bin</th>\n",
       "      <th>UF_bin</th>\n",
       "      <th>md_tipo_renov_ant_bin</th>\n",
       "      <th>Cod_End_bin</th>\n",
       "      <th>MD_capac_bin</th>\n",
       "      <th>fator_ajuste_bin</th>\n",
       "      <th>MD_qtd_assis_cpf_bin</th>\n",
       "      <th>prob_est</th>\n",
       "    </tr>\n",
       "  </thead>\n",
       "  <tbody>\n",
       "    <tr>\n",
       "      <th>5</th>\n",
       "      <td>1487.881781</td>\n",
       "      <td>Otimização Atu</td>\n",
       "      <td>Otimização Atu</td>\n",
       "      <td>2017</td>\n",
       "      <td>2017</td>\n",
       "      <td>2.3</td>\n",
       "      <td>0.6</td>\n",
       "      <td>BancoVotorantim</td>\n",
       "      <td>70221</td>\n",
       "      <td>231100010863100001</td>\n",
       "      <td>...</td>\n",
       "      <td>Demais</td>\n",
       "      <td>&gt;=10</td>\n",
       "      <td>Sem Sinistro</td>\n",
       "      <td>MT,PR</td>\n",
       "      <td>2-RenovPropria</td>\n",
       "      <td>Demais</td>\n",
       "      <td>Demais</td>\n",
       "      <td>&lt;101</td>\n",
       "      <td>00</td>\n",
       "      <td>0.255946</td>\n",
       "    </tr>\n",
       "    <tr>\n",
       "      <th>15</th>\n",
       "      <td>273.190374</td>\n",
       "      <td>Otimização Atu</td>\n",
       "      <td>Otimização Atu</td>\n",
       "      <td>2007</td>\n",
       "      <td>2008</td>\n",
       "      <td>2.3</td>\n",
       "      <td>0.6</td>\n",
       "      <td>Corretor</td>\n",
       "      <td>30080</td>\n",
       "      <td>10708289513100001</td>\n",
       "      <td>...</td>\n",
       "      <td>Demais</td>\n",
       "      <td>&gt;=10</td>\n",
       "      <td>Sem Sinistro</td>\n",
       "      <td>AP,DF,ES,PA,PB,RN,SC</td>\n",
       "      <td>2-RenovPropria</td>\n",
       "      <td>Demais</td>\n",
       "      <td>Demais</td>\n",
       "      <td>&lt;101</td>\n",
       "      <td>00</td>\n",
       "      <td>0.745265</td>\n",
       "    </tr>\n",
       "  </tbody>\n",
       "</table>\n",
       "<p>2 rows × 136 columns</p>\n",
       "</div>"
      ],
      "text/plain": [
       "       Act_cost         Amostra Amostra_inicial  ano_fab  ano_modelo  \\\n",
       "5   1487.881781  Otimização Atu  Otimização Atu     2017        2017   \n",
       "15   273.190374  Otimização Atu  Otimização Atu     2007        2008   \n",
       "\n",
       "    batente_max_ti  batente_min_ti            canal  Carprice  \\\n",
       "5              2.3             0.6  BancoVotorantim     70221   \n",
       "15             2.3             0.6         Corretor     30080   \n",
       "\n",
       "                 chave  ...  canal_bin per_com_bin  idade_ult_RNS_bin  \\\n",
       "5   231100010863100001  ...     Demais        >=10       Sem Sinistro   \n",
       "15   10708289513100001  ...     Demais        >=10       Sem Sinistro   \n",
       "\n",
       "                  UF_bin  md_tipo_renov_ant_bin  Cod_End_bin MD_capac_bin  \\\n",
       "5                  MT,PR         2-RenovPropria       Demais       Demais   \n",
       "15  AP,DF,ES,PA,PB,RN,SC         2-RenovPropria       Demais       Demais   \n",
       "\n",
       "   fator_ajuste_bin MD_qtd_assis_cpf_bin  prob_est  \n",
       "5              <101                   00  0.255946  \n",
       "15             <101                   00  0.745265  \n",
       "\n",
       "[2 rows x 136 columns]"
      ]
     },
     "execution_count": 473,
     "metadata": {},
     "output_type": "execute_result"
    }
   ],
   "source": [
    "df_lote_otim.head(2)"
   ]
  },
  {
   "cell_type": "code",
   "execution_count": 474,
   "id": "b76547f2",
   "metadata": {},
   "outputs": [
    {
     "data": {
      "text/plain": [
       "2967.774249120323"
      ]
     },
     "execution_count": 474,
     "metadata": {},
     "output_type": "execute_result"
    }
   ],
   "source": [
    "revenue_before = prob_est*(df_lote_otim[\"Premio_oferecido_com_batente\"]-df_lote_otim[\"Act_cost\"])\n",
    "np.sum(margrem_inic)"
   ]
  },
  {
   "cell_type": "code",
   "execution_count": 475,
   "id": "d07b6ffe",
   "metadata": {},
   "outputs": [
    {
     "data": {
      "text/plain": [
       "2959.125881455461"
      ]
     },
     "execution_count": 475,
     "metadata": {},
     "output_type": "execute_result"
    }
   ],
   "source": [
    "revenue_before = np.mean(df_lote_otim[\"premio\"])\n",
    "revenue_before"
   ]
  },
  {
   "cell_type": "code",
   "execution_count": 476,
   "id": "49cc902d",
   "metadata": {},
   "outputs": [
    {
     "data": {
      "text/plain": [
       "0.45744704057960356"
      ]
     },
     "execution_count": 476,
     "metadata": {},
     "output_type": "execute_result"
    }
   ],
   "source": [
    "prob_est = np.mean(df_lote_otim[\"prob_est\"])\n",
    "prob_est"
   ]
  },
  {
   "cell_type": "code",
   "execution_count": 619,
   "id": "99597db7",
   "metadata": {},
   "outputs": [],
   "source": [
    "from scipy.optimize import minimize\n",
    "# Calculate renewal before optimization\n",
    "\n",
    "df_lote_otim = df_otim1.copy()\n",
    "# Define the objective function (maximize revenue)\n",
    "#def objective_function(prices,renewal,beta):\n",
    "def objective_function(prices,renewal):\n",
    "    df_lote_otim[\"premio\"]=prices\n",
    "    renewal= model.predict(df_lote_otim)\n",
    "    cost= df_lote_otim[\"Act_cost\"]\n",
    "    margem_esperada = renewal * (prices-cost)\n",
    "    #penality = df_lote_otim.shape[0]*((np.mean(prob_esp) - renewal)**2)\n",
    "    margem = -np.sum(margem_esperada) \n",
    "    #- (1 - np.sum(renewal) * np.sum(cost))\n",
    "    return margem\n",
    "\n",
    "# Define constraints\n",
    "def constraint(prices, renewal_target):\n",
    "    df_lote_otim[\"premio\"]=prices\n",
    "    df_lote_otim[\"target_renewal\"]=renewal_target\n",
    "    renewal = model.predict(df_lote_otim)\n",
    "    return np.sum(renewal) - np.sum(df_lote_otim[\"target_renewal\"])\n",
    "    \n",
    "\n",
    "# Define initial prices (use predicted prices as initial guess)\n",
    "initial_prices = df_lote_otim[\"premio\"]*0.98 \n",
    "\n",
    "\n",
    "# Minimum revenue constraint\n",
    "#min_renewal = np.mean(df_lote_otim[\"prob_est\"]) * 1.05\n",
    "\n",
    "\n",
    "\n",
    "# Adjust constraints to ensure prices are no lower than predicted and no greater than 1.2 times predicted\n",
    "#bounds = [(0.6 * base, 1.7 * base) for base in df_lote_otim[\"premio_anterior\"]]\n",
    "\n",
    "bounds = [(0.9 * base, 1.1 * base) for base in df_lote_otim[\"Premio_oferecido_com_batente\"]]\n",
    "\n",
    "\n",
    "renewal_target=0.50\n",
    "\n",
    "# rodando a otimizaçao\n",
    "result = minimize(objective_function, \n",
    "                  initial_prices, \n",
    "                  args=(renewal_target),\n",
    "                  method = 'L-BFGS-B',\n",
    "                  tol=0.01,\n",
    "                  bounds=bounds)\n",
    "\n",
    "# premio otimizados\n",
    "optimized_prices = result.x\n",
    "df_lote_otim[\"premio\"]=result.x\n",
    "   \n",
    "renewal = model.predict(df_lote_otim)"
   ]
  },
  {
   "cell_type": "code",
   "execution_count": 620,
   "id": "4a985e9d",
   "metadata": {},
   "outputs": [
    {
     "data": {
      "text/plain": [
       "[(1811.457, 2214.003), (3781.235115, 4621.509585)]"
      ]
     },
     "execution_count": 620,
     "metadata": {},
     "output_type": "execute_result"
    }
   ],
   "source": [
    "bounds"
   ]
  },
  {
   "cell_type": "code",
   "execution_count": 616,
   "id": "be6ef74d",
   "metadata": {},
   "outputs": [
    {
     "data": {
      "text/plain": [
       "0        1972.450923\n",
       "20003    4117.864219\n",
       "Name: premio, dtype: float64"
      ]
     },
     "execution_count": 616,
     "metadata": {},
     "output_type": "execute_result"
    }
   ],
   "source": [
    "df_lote_otim[\"premio\"] "
   ]
  },
  {
   "cell_type": "code",
   "execution_count": 596,
   "id": "bc0fadc5",
   "metadata": {},
   "outputs": [
    {
     "name": "stdout",
     "output_type": "stream",
     "text": [
      "0.4134881283031709\n",
      "0.425680656593573\n"
     ]
    }
   ],
   "source": [
    "print(np.mean(df_lote_otim[\"prob_est\"]))\n",
    "print(np.mean(renewal))"
   ]
  },
  {
   "cell_type": "code",
   "execution_count": 481,
   "id": "8955336e",
   "metadata": {},
   "outputs": [
    {
     "data": {
      "text/plain": [
       "1266028.834294996"
      ]
     },
     "execution_count": 481,
     "metadata": {},
     "output_type": "execute_result"
    }
   ],
   "source": [
    "margrem_otim = renewal*(optimized_prices-df_lote_otim[\"Act_cost\"])\n",
    "np.sum(margrem_otim)"
   ]
  },
  {
   "cell_type": "code",
   "execution_count": 597,
   "id": "fb3191b0",
   "metadata": {},
   "outputs": [
    {
     "data": {
      "text/html": [
       "<div>\n",
       "<style scoped>\n",
       "    .dataframe tbody tr th:only-of-type {\n",
       "        vertical-align: middle;\n",
       "    }\n",
       "\n",
       "    .dataframe tbody tr th {\n",
       "        vertical-align: top;\n",
       "    }\n",
       "\n",
       "    .dataframe thead th {\n",
       "        text-align: right;\n",
       "    }\n",
       "</style>\n",
       "<table border=\"1\" class=\"dataframe\">\n",
       "  <thead>\n",
       "    <tr style=\"text-align: right;\">\n",
       "      <th></th>\n",
       "      <th>Premio ofertado com batente</th>\n",
       "      <th>Optimized Prices</th>\n",
       "      <th>lo_bound</th>\n",
       "      <th>up_bound</th>\n",
       "      <th>prob_est</th>\n",
       "      <th>chave</th>\n",
       "      <th>renewal</th>\n",
       "    </tr>\n",
       "  </thead>\n",
       "  <tbody>\n",
       "    <tr>\n",
       "      <th>0</th>\n",
       "      <td>1972.475400</td>\n",
       "      <td>1972.450923</td>\n",
       "      <td>1811.457000</td>\n",
       "      <td>2214.003000</td>\n",
       "      <td>0.160808</td>\n",
       "      <td>179600013563100001</td>\n",
       "      <td>0.169428</td>\n",
       "    </tr>\n",
       "    <tr>\n",
       "      <th>20003</th>\n",
       "      <td>4117.344903</td>\n",
       "      <td>4117.864219</td>\n",
       "      <td>3781.235115</td>\n",
       "      <td>4621.509585</td>\n",
       "      <td>0.666168</td>\n",
       "      <td>602601397333100001</td>\n",
       "      <td>0.681933</td>\n",
       "    </tr>\n",
       "  </tbody>\n",
       "</table>\n",
       "</div>"
      ],
      "text/plain": [
       "       Premio ofertado com batente  Optimized Prices     lo_bound  \\\n",
       "0                      1972.475400       1972.450923  1811.457000   \n",
       "20003                  4117.344903       4117.864219  3781.235115   \n",
       "\n",
       "          up_bound  prob_est               chave   renewal  \n",
       "0      2214.003000  0.160808  179600013563100001  0.169428  \n",
       "20003  4621.509585  0.666168  602601397333100001  0.681933  "
      ]
     },
     "execution_count": 597,
     "metadata": {},
     "output_type": "execute_result"
    }
   ],
   "source": [
    "predicted_prices =initial_prices\n",
    "\n",
    "prices_df = pd.DataFrame({\n",
    "    'Premio ofertado com batente': predicted_prices,\n",
    "    'Optimized Prices': optimized_prices,\n",
    "    'lo_bound' : [b[0] for b in bounds],\n",
    "    'up_bound' : [b[1] for b in bounds],\n",
    "    'prob_est':         df_lote_otim[\"prob_est\"],\n",
    "    'chave':         df_lote_otim[\"chave\"],\n",
    "    'renewal':renewal\n",
    "})\n",
    "prices_df.head(20)"
   ]
  },
  {
   "cell_type": "code",
   "execution_count": 463,
   "id": "e4c1d77c",
   "metadata": {},
   "outputs": [
    {
     "name": "stdout",
     "output_type": "stream",
     "text": [
      "Revenue before optimization: 3107.0511749999996\n",
      "Revenue after optimization: 3007.5371675761708\n"
     ]
    },
    {
     "data": {
      "image/png": "[encoded data removed]",
      "text/plain": [
       "<Figure size 640x480 with 1 Axes>"
      ]
     },
     "metadata": {},
     "output_type": "display_data"
    }
   ],
   "source": [
    "# Calculate revenue after optimization\n",
    "revenue_after = np.mean(optimized_prices)\n",
    "# Define revenue before and after optimization\n",
    "revenue_values = [revenue_before, revenue_after]\n",
    "\n",
    "# Print revenue before and after optimization\n",
    "print(\"Revenue before optimization:\", revenue_before)\n",
    "print(\"Revenue after optimization:\", revenue_after)\n",
    "\n",
    "\n",
    "# Define labels for the bars\n",
    "labels = ['Revenue Before Optimization', 'Revenue After Optimization']\n",
    "\n",
    "# Plotting\n",
    "plt.bar(labels, revenue_values, color=['blue', 'green'])\n",
    "plt.ylabel('Price')\n",
    "plt.gca().get_yaxis().set_major_formatter(plt.FuncFormatter(lambda x, loc: \"{:,}\".format(int(x))))"
   ]
  },
  {
   "cell_type": "code",
   "execution_count": null,
   "id": "fd32ca81",
   "metadata": {},
   "outputs": [],
   "source": [
    "def objective_function(prices,renewal):\n",
    "    df_lote_otim[\"premio\"]=prices\n",
    "    renewal= model.predict(df_lote_otim)\n",
    "    cost= df_lote_otim[\"Act_cost\"]\n",
    "    margem_esperada = renewal * (prices-cost)\n",
    "    #penality = df_lote_otim.shape[0]*((np.mean(prob_esp) - renewal)**2)\n",
    "    margem = -np.sum(margem_esperada)\n",
    "    return margemdf_lote_otim"
   ]
  },
  {
   "cell_type": "code",
   "execution_count": 487,
   "id": "beb29db6",
   "metadata": {},
   "outputs": [],
   "source": [
    "# Escorar o modelo\n",
    "df_test = df_lote_otim\n",
    "df_test['probabilidade_compra'] = model.predict(df_test)"
   ]
  },
  {
   "cell_type": "code",
   "execution_count": 492,
   "id": "f49187c6",
   "metadata": {},
   "outputs": [
    {
     "ename": "PatsyError",
     "evalue": "predict requires that you use a DataFrame when predicting from a model\nthat was created using the formula api.\n\nThe original error message returned by patsy is:\nError evaluating factor: TypeError: loop of ufunc does not support argument 0 of type float which has no callable log method\n    ind_renovacao ~ 1 + np.log(premio) + np.divide(premio, is_casco_ofer) + np.log(np.divide(premio, GBM_mercado)) + np.log(np.divide(premio, Premio_IC100)) + (np.divide(premio, premio_anterior)+1) + C(canal_bin,Treatment(reference=\"Demais\")) + C(Cod_End_bin,Treatment(reference=\"Demais\")) + C(fator_ajuste_bin,Treatment(reference=\"<101\")) + per_com + C(per_com_bin,Treatment(reference=\">=10\")) + np.log(MD_tempo_casa_2+1) + C(idade_ult_RNS_bin,Treatment(reference=\"Sem Sinistro\")) + C(MD_comb_bin,Treatment(reference=\"Demais\")) + C(UF_bin,Treatment(reference=\"Demais\")) + C(fx_ir_12m_bin,Treatment(reference=\"02 - 20-<=040\")) + C(MD_tipo_renov,Treatment(reference=\"2 - Renov MAPFRE sem sinistro\"))\n                        ^^^^^^^^^^^^^^",
     "output_type": "error",
     "traceback": [
      "\u001b[1;31m---------------------------------------------------------------------------\u001b[0m",
      "\u001b[1;31mAttributeError\u001b[0m                            Traceback (most recent call last)",
      "\u001b[1;31mAttributeError\u001b[0m: 'float' object has no attribute 'log'",
      "\nThe above exception was the direct cause of the following exception:\n",
      "\u001b[1;31mTypeError\u001b[0m                                 Traceback (most recent call last)",
      "File \u001b[1;32mC:\\ProgramData\\anaconda3\\lib\\site-packages\\patsy\\compat.py:36\u001b[0m, in \u001b[0;36mcall_and_wrap_exc\u001b[1;34m(msg, origin, f, *args, **kwargs)\u001b[0m\n\u001b[0;32m     35\u001b[0m \u001b[38;5;28;01mtry\u001b[39;00m:\n\u001b[1;32m---> 36\u001b[0m     \u001b[38;5;28;01mreturn\u001b[39;00m f(\u001b[38;5;241m*\u001b[39margs, \u001b[38;5;241m*\u001b[39m\u001b[38;5;241m*\u001b[39mkwargs)\n\u001b[0;32m     37\u001b[0m \u001b[38;5;28;01mexcept\u001b[39;00m \u001b[38;5;167;01mException\u001b[39;00m \u001b[38;5;28;01mas\u001b[39;00m e:\n",
      "File \u001b[1;32mC:\\ProgramData\\anaconda3\\lib\\site-packages\\patsy\\eval.py:169\u001b[0m, in \u001b[0;36mEvalEnvironment.eval\u001b[1;34m(self, expr, source_name, inner_namespace)\u001b[0m\n\u001b[0;32m    168\u001b[0m code \u001b[38;5;241m=\u001b[39m \u001b[38;5;28mcompile\u001b[39m(expr, source_name, \u001b[38;5;124m\"\u001b[39m\u001b[38;5;124meval\u001b[39m\u001b[38;5;124m\"\u001b[39m, \u001b[38;5;28mself\u001b[39m\u001b[38;5;241m.\u001b[39mflags, \u001b[38;5;28;01mFalse\u001b[39;00m)\n\u001b[1;32m--> 169\u001b[0m \u001b[38;5;28;01mreturn\u001b[39;00m \u001b[38;5;28;43meval\u001b[39;49m\u001b[43m(\u001b[49m\u001b[43mcode\u001b[49m\u001b[43m,\u001b[49m\u001b[43m \u001b[49m\u001b[43m{\u001b[49m\u001b[43m}\u001b[49m\u001b[43m,\u001b[49m\u001b[43m \u001b[49m\u001b[43mVarLookupDict\u001b[49m\u001b[43m(\u001b[49m\u001b[43m[\u001b[49m\u001b[43minner_namespace\u001b[49m\u001b[43m]\u001b[49m\n\u001b[0;32m    170\u001b[0m \u001b[43m                                    \u001b[49m\u001b[38;5;241;43m+\u001b[39;49m\u001b[43m \u001b[49m\u001b[38;5;28;43mself\u001b[39;49m\u001b[38;5;241;43m.\u001b[39;49m\u001b[43m_namespaces\u001b[49m\u001b[43m)\u001b[49m\u001b[43m)\u001b[49m\n",
      "File \u001b[1;32m<string>:1\u001b[0m\n",
      "File \u001b[1;32mC:\\ProgramData\\anaconda3\\lib\\site-packages\\pandas\\core\\generic.py:2113\u001b[0m, in \u001b[0;36mNDFrame.__array_ufunc__\u001b[1;34m(self, ufunc, method, *inputs, **kwargs)\u001b[0m\n\u001b[0;32m   2109\u001b[0m \u001b[38;5;129m@final\u001b[39m\n\u001b[0;32m   2110\u001b[0m \u001b[38;5;28;01mdef\u001b[39;00m \u001b[38;5;21m__array_ufunc__\u001b[39m(\n\u001b[0;32m   2111\u001b[0m     \u001b[38;5;28mself\u001b[39m, ufunc: np\u001b[38;5;241m.\u001b[39mufunc, method: \u001b[38;5;28mstr\u001b[39m, \u001b[38;5;241m*\u001b[39minputs: Any, \u001b[38;5;241m*\u001b[39m\u001b[38;5;241m*\u001b[39mkwargs: Any\n\u001b[0;32m   2112\u001b[0m ):\n\u001b[1;32m-> 2113\u001b[0m     \u001b[38;5;28;01mreturn\u001b[39;00m arraylike\u001b[38;5;241m.\u001b[39marray_ufunc(\u001b[38;5;28mself\u001b[39m, ufunc, method, \u001b[38;5;241m*\u001b[39minputs, \u001b[38;5;241m*\u001b[39m\u001b[38;5;241m*\u001b[39mkwargs)\n",
      "File \u001b[1;32mC:\\ProgramData\\anaconda3\\lib\\site-packages\\pandas\\core\\arraylike.py:402\u001b[0m, in \u001b[0;36marray_ufunc\u001b[1;34m(self, ufunc, method, *inputs, **kwargs)\u001b[0m\n\u001b[0;32m    401\u001b[0m     inputs \u001b[38;5;241m=\u001b[39m \u001b[38;5;28mtuple\u001b[39m(extract_array(x, extract_numpy\u001b[38;5;241m=\u001b[39m\u001b[38;5;28;01mTrue\u001b[39;00m) \u001b[38;5;28;01mfor\u001b[39;00m x \u001b[38;5;129;01min\u001b[39;00m inputs)\n\u001b[1;32m--> 402\u001b[0m     result \u001b[38;5;241m=\u001b[39m \u001b[38;5;28mgetattr\u001b[39m(ufunc, method)(\u001b[38;5;241m*\u001b[39minputs, \u001b[38;5;241m*\u001b[39m\u001b[38;5;241m*\u001b[39mkwargs)\n\u001b[0;32m    403\u001b[0m \u001b[38;5;28;01melse\u001b[39;00m:\n\u001b[0;32m    404\u001b[0m     \u001b[38;5;66;03m# ufunc(dataframe)\u001b[39;00m\n",
      "\u001b[1;31mTypeError\u001b[0m: loop of ufunc does not support argument 0 of type float which has no callable log method",
      "\nThe above exception was the direct cause of the following exception:\n",
      "\u001b[1;31mPatsyError\u001b[0m                                Traceback (most recent call last)",
      "File \u001b[1;32mC:\\ProgramData\\anaconda3\\lib\\site-packages\\statsmodels\\base\\model.py:1137\u001b[0m, in \u001b[0;36mResults.predict\u001b[1;34m(self, exog, transform, *args, **kwargs)\u001b[0m\n\u001b[0;32m   1136\u001b[0m \u001b[38;5;28;01mtry\u001b[39;00m:\n\u001b[1;32m-> 1137\u001b[0m     exog \u001b[38;5;241m=\u001b[39m \u001b[43mdmatrix\u001b[49m\u001b[43m(\u001b[49m\u001b[43mdesign_info\u001b[49m\u001b[43m,\u001b[49m\u001b[43m \u001b[49m\u001b[43mexog\u001b[49m\u001b[43m,\u001b[49m\u001b[43m \u001b[49m\u001b[43mreturn_type\u001b[49m\u001b[38;5;241;43m=\u001b[39;49m\u001b[38;5;124;43m\"\u001b[39;49m\u001b[38;5;124;43mdataframe\u001b[39;49m\u001b[38;5;124;43m\"\u001b[39;49m\u001b[43m)\u001b[49m\n\u001b[0;32m   1138\u001b[0m \u001b[38;5;28;01mexcept\u001b[39;00m \u001b[38;5;167;01mException\u001b[39;00m \u001b[38;5;28;01mas\u001b[39;00m exc:\n",
      "File \u001b[1;32mC:\\ProgramData\\anaconda3\\lib\\site-packages\\patsy\\highlevel.py:290\u001b[0m, in \u001b[0;36mdmatrix\u001b[1;34m(formula_like, data, eval_env, NA_action, return_type)\u001b[0m\n\u001b[0;32m    289\u001b[0m eval_env \u001b[38;5;241m=\u001b[39m EvalEnvironment\u001b[38;5;241m.\u001b[39mcapture(eval_env, reference\u001b[38;5;241m=\u001b[39m\u001b[38;5;241m1\u001b[39m)\n\u001b[1;32m--> 290\u001b[0m (lhs, rhs) \u001b[38;5;241m=\u001b[39m \u001b[43m_do_highlevel_design\u001b[49m\u001b[43m(\u001b[49m\u001b[43mformula_like\u001b[49m\u001b[43m,\u001b[49m\u001b[43m \u001b[49m\u001b[43mdata\u001b[49m\u001b[43m,\u001b[49m\u001b[43m \u001b[49m\u001b[43meval_env\u001b[49m\u001b[43m,\u001b[49m\n\u001b[0;32m    291\u001b[0m \u001b[43m                                  \u001b[49m\u001b[43mNA_action\u001b[49m\u001b[43m,\u001b[49m\u001b[43m \u001b[49m\u001b[43mreturn_type\u001b[49m\u001b[43m)\u001b[49m\n\u001b[0;32m    292\u001b[0m \u001b[38;5;28;01mif\u001b[39;00m lhs\u001b[38;5;241m.\u001b[39mshape[\u001b[38;5;241m1\u001b[39m] \u001b[38;5;241m!=\u001b[39m \u001b[38;5;241m0\u001b[39m:\n",
      "File \u001b[1;32mC:\\ProgramData\\anaconda3\\lib\\site-packages\\patsy\\highlevel.py:167\u001b[0m, in \u001b[0;36m_do_highlevel_design\u001b[1;34m(formula_like, data, eval_env, NA_action, return_type)\u001b[0m\n\u001b[0;32m    166\u001b[0m \u001b[38;5;28;01mif\u001b[39;00m design_infos \u001b[38;5;129;01mis\u001b[39;00m \u001b[38;5;129;01mnot\u001b[39;00m \u001b[38;5;28;01mNone\u001b[39;00m:\n\u001b[1;32m--> 167\u001b[0m     \u001b[38;5;28;01mreturn\u001b[39;00m \u001b[43mbuild_design_matrices\u001b[49m\u001b[43m(\u001b[49m\u001b[43mdesign_infos\u001b[49m\u001b[43m,\u001b[49m\u001b[43m \u001b[49m\u001b[43mdata\u001b[49m\u001b[43m,\u001b[49m\n\u001b[0;32m    168\u001b[0m \u001b[43m                                 \u001b[49m\u001b[43mNA_action\u001b[49m\u001b[38;5;241;43m=\u001b[39;49m\u001b[43mNA_action\u001b[49m\u001b[43m,\u001b[49m\n\u001b[0;32m    169\u001b[0m \u001b[43m                                 \u001b[49m\u001b[43mreturn_type\u001b[49m\u001b[38;5;241;43m=\u001b[39;49m\u001b[43mreturn_type\u001b[49m\u001b[43m)\u001b[49m\n\u001b[0;32m    170\u001b[0m \u001b[38;5;28;01melse\u001b[39;00m:\n\u001b[0;32m    171\u001b[0m     \u001b[38;5;66;03m# No builders, but maybe we can still get matrices\u001b[39;00m\n",
      "File \u001b[1;32mC:\\ProgramData\\anaconda3\\lib\\site-packages\\patsy\\build.py:888\u001b[0m, in \u001b[0;36mbuild_design_matrices\u001b[1;34m(design_infos, data, NA_action, return_type, dtype)\u001b[0m\n\u001b[0;32m    887\u001b[0m \u001b[38;5;28;01mif\u001b[39;00m factor_info \u001b[38;5;129;01mnot\u001b[39;00m \u001b[38;5;129;01min\u001b[39;00m factor_info_to_values:\n\u001b[1;32m--> 888\u001b[0m     value, is_NA \u001b[38;5;241m=\u001b[39m \u001b[43m_eval_factor\u001b[49m\u001b[43m(\u001b[49m\u001b[43mfactor_info\u001b[49m\u001b[43m,\u001b[49m\u001b[43m \u001b[49m\u001b[43mdata\u001b[49m\u001b[43m,\u001b[49m\u001b[43m \u001b[49m\u001b[43mNA_action\u001b[49m\u001b[43m)\u001b[49m\n\u001b[0;32m    889\u001b[0m     factor_info_to_isNAs[factor_info] \u001b[38;5;241m=\u001b[39m is_NA\n",
      "File \u001b[1;32mC:\\ProgramData\\anaconda3\\lib\\site-packages\\patsy\\build.py:63\u001b[0m, in \u001b[0;36m_eval_factor\u001b[1;34m(factor_info, data, NA_action)\u001b[0m\n\u001b[0;32m     62\u001b[0m factor \u001b[38;5;241m=\u001b[39m factor_info\u001b[38;5;241m.\u001b[39mfactor\n\u001b[1;32m---> 63\u001b[0m result \u001b[38;5;241m=\u001b[39m \u001b[43mfactor\u001b[49m\u001b[38;5;241;43m.\u001b[39;49m\u001b[43meval\u001b[49m\u001b[43m(\u001b[49m\u001b[43mfactor_info\u001b[49m\u001b[38;5;241;43m.\u001b[39;49m\u001b[43mstate\u001b[49m\u001b[43m,\u001b[49m\u001b[43m \u001b[49m\u001b[43mdata\u001b[49m\u001b[43m)\u001b[49m\n\u001b[0;32m     64\u001b[0m \u001b[38;5;66;03m# Returns either a 2d ndarray, or a DataFrame, plus is_NA mask\u001b[39;00m\n",
      "File \u001b[1;32mC:\\ProgramData\\anaconda3\\lib\\site-packages\\patsy\\eval.py:568\u001b[0m, in \u001b[0;36mEvalFactor.eval\u001b[1;34m(self, memorize_state, data)\u001b[0m\n\u001b[0;32m    567\u001b[0m \u001b[38;5;28;01mdef\u001b[39;00m \u001b[38;5;21meval\u001b[39m(\u001b[38;5;28mself\u001b[39m, memorize_state, data):\n\u001b[1;32m--> 568\u001b[0m     \u001b[38;5;28;01mreturn\u001b[39;00m \u001b[38;5;28;43mself\u001b[39;49m\u001b[38;5;241;43m.\u001b[39;49m\u001b[43m_eval\u001b[49m\u001b[43m(\u001b[49m\u001b[43mmemorize_state\u001b[49m\u001b[43m[\u001b[49m\u001b[38;5;124;43m\"\u001b[39;49m\u001b[38;5;124;43meval_code\u001b[39;49m\u001b[38;5;124;43m\"\u001b[39;49m\u001b[43m]\u001b[49m\u001b[43m,\u001b[49m\n\u001b[0;32m    569\u001b[0m \u001b[43m                      \u001b[49m\u001b[43mmemorize_state\u001b[49m\u001b[43m,\u001b[49m\n\u001b[0;32m    570\u001b[0m \u001b[43m                      \u001b[49m\u001b[43mdata\u001b[49m\u001b[43m)\u001b[49m\n",
      "File \u001b[1;32mC:\\ProgramData\\anaconda3\\lib\\site-packages\\patsy\\eval.py:551\u001b[0m, in \u001b[0;36mEvalFactor._eval\u001b[1;34m(self, code, memorize_state, data)\u001b[0m\n\u001b[0;32m    550\u001b[0m inner_namespace \u001b[38;5;241m=\u001b[39m VarLookupDict([data, memorize_state[\u001b[38;5;124m\"\u001b[39m\u001b[38;5;124mtransforms\u001b[39m\u001b[38;5;124m\"\u001b[39m]])\n\u001b[1;32m--> 551\u001b[0m \u001b[38;5;28;01mreturn\u001b[39;00m \u001b[43mcall_and_wrap_exc\u001b[49m\u001b[43m(\u001b[49m\u001b[38;5;124;43m\"\u001b[39;49m\u001b[38;5;124;43mError evaluating factor\u001b[39;49m\u001b[38;5;124;43m\"\u001b[39;49m\u001b[43m,\u001b[49m\n\u001b[0;32m    552\u001b[0m \u001b[43m                         \u001b[49m\u001b[38;5;28;43mself\u001b[39;49m\u001b[43m,\u001b[49m\n\u001b[0;32m    553\u001b[0m \u001b[43m                         \u001b[49m\u001b[43mmemorize_state\u001b[49m\u001b[43m[\u001b[49m\u001b[38;5;124;43m\"\u001b[39;49m\u001b[38;5;124;43meval_env\u001b[39;49m\u001b[38;5;124;43m\"\u001b[39;49m\u001b[43m]\u001b[49m\u001b[38;5;241;43m.\u001b[39;49m\u001b[43meval\u001b[49m\u001b[43m,\u001b[49m\n\u001b[0;32m    554\u001b[0m \u001b[43m                         \u001b[49m\u001b[43mcode\u001b[49m\u001b[43m,\u001b[49m\n\u001b[0;32m    555\u001b[0m \u001b[43m                         \u001b[49m\u001b[43minner_namespace\u001b[49m\u001b[38;5;241;43m=\u001b[39;49m\u001b[43minner_namespace\u001b[49m\u001b[43m)\u001b[49m\n",
      "File \u001b[1;32mC:\\ProgramData\\anaconda3\\lib\\site-packages\\patsy\\compat.py:43\u001b[0m, in \u001b[0;36mcall_and_wrap_exc\u001b[1;34m(msg, origin, f, *args, **kwargs)\u001b[0m\n\u001b[0;32m     42\u001b[0m     \u001b[38;5;66;03m# Use 'exec' to hide this syntax from the Python 2 parser:\u001b[39;00m\n\u001b[1;32m---> 43\u001b[0m     \u001b[43mexec\u001b[49m\u001b[43m(\u001b[49m\u001b[38;5;124;43m\"\u001b[39;49m\u001b[38;5;124;43mraise new_exc from e\u001b[39;49m\u001b[38;5;124;43m\"\u001b[39;49m\u001b[43m)\u001b[49m\n\u001b[0;32m     44\u001b[0m \u001b[38;5;28;01melse\u001b[39;00m:\n\u001b[0;32m     45\u001b[0m     \u001b[38;5;66;03m# In python 2, we just let the original exception escape -- better\u001b[39;00m\n\u001b[0;32m     46\u001b[0m     \u001b[38;5;66;03m# than destroying the traceback. But if it's a PatsyError, we can\u001b[39;00m\n\u001b[0;32m     47\u001b[0m     \u001b[38;5;66;03m# at least set the origin properly.\u001b[39;00m\n",
      "File \u001b[1;32m<string>:1\u001b[0m\n",
      "\u001b[1;31mPatsyError\u001b[0m: Error evaluating factor: TypeError: loop of ufunc does not support argument 0 of type float which has no callable log method\n    ind_renovacao ~ 1 + np.log(premio) + np.divide(premio, is_casco_ofer) + np.log(np.divide(premio, GBM_mercado)) + np.log(np.divide(premio, Premio_IC100)) + (np.divide(premio, premio_anterior)+1) + C(canal_bin,Treatment(reference=\"Demais\")) + C(Cod_End_bin,Treatment(reference=\"Demais\")) + C(fator_ajuste_bin,Treatment(reference=\"<101\")) + per_com + C(per_com_bin,Treatment(reference=\">=10\")) + np.log(MD_tempo_casa_2+1) + C(idade_ult_RNS_bin,Treatment(reference=\"Sem Sinistro\")) + C(MD_comb_bin,Treatment(reference=\"Demais\")) + C(UF_bin,Treatment(reference=\"Demais\")) + C(fx_ir_12m_bin,Treatment(reference=\"02 - 20-<=040\")) + C(MD_tipo_renov,Treatment(reference=\"2 - Renov MAPFRE sem sinistro\"))\n                        ^^^^^^^^^^^^^^",
      "\nDuring handling of the above exception, another exception occurred:\n",
      "\u001b[1;31mPatsyError\u001b[0m                                Traceback (most recent call last)",
      "Cell \u001b[1;32mIn[492], line 20\u001b[0m\n\u001b[0;32m     17\u001b[0m     \u001b[38;5;28;01mreturn\u001b[39;00m resultado\u001b[38;5;241m.\u001b[39mx[\u001b[38;5;241m0\u001b[39m]\n\u001b[0;32m     19\u001b[0m \u001b[38;5;66;03m# Otimizar a margem esperada para cada cliente\u001b[39;00m\n\u001b[1;32m---> 20\u001b[0m df_test[\u001b[38;5;124m'\u001b[39m\u001b[38;5;124mpreco_otimizado\u001b[39m\u001b[38;5;124m'\u001b[39m] \u001b[38;5;241m=\u001b[39m \u001b[43mdf_test\u001b[49m\u001b[38;5;241;43m.\u001b[39;49m\u001b[43mapply\u001b[49m\u001b[43m(\u001b[49m\u001b[43motimizar_margem\u001b[49m\u001b[43m,\u001b[49m\u001b[43m \u001b[49m\u001b[43maxis\u001b[49m\u001b[38;5;241;43m=\u001b[39;49m\u001b[38;5;241;43m1\u001b[39;49m\u001b[43m)\u001b[49m\n",
      "File \u001b[1;32mC:\\ProgramData\\anaconda3\\lib\\site-packages\\pandas\\core\\frame.py:9568\u001b[0m, in \u001b[0;36mDataFrame.apply\u001b[1;34m(self, func, axis, raw, result_type, args, **kwargs)\u001b[0m\n\u001b[0;32m   9557\u001b[0m \u001b[38;5;28;01mfrom\u001b[39;00m \u001b[38;5;21;01mpandas\u001b[39;00m\u001b[38;5;21;01m.\u001b[39;00m\u001b[38;5;21;01mcore\u001b[39;00m\u001b[38;5;21;01m.\u001b[39;00m\u001b[38;5;21;01mapply\u001b[39;00m \u001b[38;5;28;01mimport\u001b[39;00m frame_apply\n\u001b[0;32m   9559\u001b[0m op \u001b[38;5;241m=\u001b[39m frame_apply(\n\u001b[0;32m   9560\u001b[0m     \u001b[38;5;28mself\u001b[39m,\n\u001b[0;32m   9561\u001b[0m     func\u001b[38;5;241m=\u001b[39mfunc,\n\u001b[1;32m   (...)\u001b[0m\n\u001b[0;32m   9566\u001b[0m     kwargs\u001b[38;5;241m=\u001b[39mkwargs,\n\u001b[0;32m   9567\u001b[0m )\n\u001b[1;32m-> 9568\u001b[0m \u001b[38;5;28;01mreturn\u001b[39;00m \u001b[43mop\u001b[49m\u001b[38;5;241;43m.\u001b[39;49m\u001b[43mapply\u001b[49m\u001b[43m(\u001b[49m\u001b[43m)\u001b[49m\u001b[38;5;241m.\u001b[39m__finalize__(\u001b[38;5;28mself\u001b[39m, method\u001b[38;5;241m=\u001b[39m\u001b[38;5;124m\"\u001b[39m\u001b[38;5;124mapply\u001b[39m\u001b[38;5;124m\"\u001b[39m)\n",
      "File \u001b[1;32mC:\\ProgramData\\anaconda3\\lib\\site-packages\\pandas\\core\\apply.py:764\u001b[0m, in \u001b[0;36mFrameApply.apply\u001b[1;34m(self)\u001b[0m\n\u001b[0;32m    761\u001b[0m \u001b[38;5;28;01melif\u001b[39;00m \u001b[38;5;28mself\u001b[39m\u001b[38;5;241m.\u001b[39mraw:\n\u001b[0;32m    762\u001b[0m     \u001b[38;5;28;01mreturn\u001b[39;00m \u001b[38;5;28mself\u001b[39m\u001b[38;5;241m.\u001b[39mapply_raw()\n\u001b[1;32m--> 764\u001b[0m \u001b[38;5;28;01mreturn\u001b[39;00m \u001b[38;5;28;43mself\u001b[39;49m\u001b[38;5;241;43m.\u001b[39;49m\u001b[43mapply_standard\u001b[49m\u001b[43m(\u001b[49m\u001b[43m)\u001b[49m\n",
      "File \u001b[1;32mC:\\ProgramData\\anaconda3\\lib\\site-packages\\pandas\\core\\apply.py:891\u001b[0m, in \u001b[0;36mFrameApply.apply_standard\u001b[1;34m(self)\u001b[0m\n\u001b[0;32m    890\u001b[0m \u001b[38;5;28;01mdef\u001b[39;00m \u001b[38;5;21mapply_standard\u001b[39m(\u001b[38;5;28mself\u001b[39m):\n\u001b[1;32m--> 891\u001b[0m     results, res_index \u001b[38;5;241m=\u001b[39m \u001b[38;5;28;43mself\u001b[39;49m\u001b[38;5;241;43m.\u001b[39;49m\u001b[43mapply_series_generator\u001b[49m\u001b[43m(\u001b[49m\u001b[43m)\u001b[49m\n\u001b[0;32m    893\u001b[0m     \u001b[38;5;66;03m# wrap results\u001b[39;00m\n\u001b[0;32m    894\u001b[0m     \u001b[38;5;28;01mreturn\u001b[39;00m \u001b[38;5;28mself\u001b[39m\u001b[38;5;241m.\u001b[39mwrap_results(results, res_index)\n",
      "File \u001b[1;32mC:\\ProgramData\\anaconda3\\lib\\site-packages\\pandas\\core\\apply.py:907\u001b[0m, in \u001b[0;36mFrameApply.apply_series_generator\u001b[1;34m(self)\u001b[0m\n\u001b[0;32m    904\u001b[0m \u001b[38;5;28;01mwith\u001b[39;00m option_context(\u001b[38;5;124m\"\u001b[39m\u001b[38;5;124mmode.chained_assignment\u001b[39m\u001b[38;5;124m\"\u001b[39m, \u001b[38;5;28;01mNone\u001b[39;00m):\n\u001b[0;32m    905\u001b[0m     \u001b[38;5;28;01mfor\u001b[39;00m i, v \u001b[38;5;129;01min\u001b[39;00m \u001b[38;5;28menumerate\u001b[39m(series_gen):\n\u001b[0;32m    906\u001b[0m         \u001b[38;5;66;03m# ignore SettingWithCopy here in case the user mutates\u001b[39;00m\n\u001b[1;32m--> 907\u001b[0m         results[i] \u001b[38;5;241m=\u001b[39m \u001b[38;5;28;43mself\u001b[39;49m\u001b[38;5;241;43m.\u001b[39;49m\u001b[43mf\u001b[49m\u001b[43m(\u001b[49m\u001b[43mv\u001b[49m\u001b[43m)\u001b[49m\n\u001b[0;32m    908\u001b[0m         \u001b[38;5;28;01mif\u001b[39;00m \u001b[38;5;28misinstance\u001b[39m(results[i], ABCSeries):\n\u001b[0;32m    909\u001b[0m             \u001b[38;5;66;03m# If we have a view on v, we need to make a copy because\u001b[39;00m\n\u001b[0;32m    910\u001b[0m             \u001b[38;5;66;03m#  series_generator will swap out the underlying data\u001b[39;00m\n\u001b[0;32m    911\u001b[0m             results[i] \u001b[38;5;241m=\u001b[39m results[i]\u001b[38;5;241m.\u001b[39mcopy(deep\u001b[38;5;241m=\u001b[39m\u001b[38;5;28;01mFalse\u001b[39;00m)\n",
      "Cell \u001b[1;32mIn[492], line 7\u001b[0m, in \u001b[0;36motimizar_margem\u001b[1;34m(df_test)\u001b[0m\n\u001b[0;32m      6\u001b[0m \u001b[38;5;28;01mdef\u001b[39;00m \u001b[38;5;21motimizar_margem\u001b[39m(df_test):\n\u001b[1;32m----> 7\u001b[0m     probabilidade \u001b[38;5;241m=\u001b[39m \u001b[43mmodel\u001b[49m\u001b[38;5;241;43m.\u001b[39;49m\u001b[43mpredict\u001b[49m\u001b[43m(\u001b[49m\u001b[43mdf_test\u001b[49m\u001b[43m)\u001b[49m\n\u001b[0;32m      8\u001b[0m     premio \u001b[38;5;241m=\u001b[39m df_test[\u001b[38;5;124m'\u001b[39m\u001b[38;5;124mpremio\u001b[39m\u001b[38;5;124m'\u001b[39m]\n\u001b[0;32m      9\u001b[0m     custo \u001b[38;5;241m=\u001b[39m df_test[\u001b[38;5;124m'\u001b[39m\u001b[38;5;124mAct_cost\u001b[39m\u001b[38;5;124m'\u001b[39m]\n",
      "File \u001b[1;32mC:\\ProgramData\\anaconda3\\lib\\site-packages\\statsmodels\\base\\model.py:1144\u001b[0m, in \u001b[0;36mResults.predict\u001b[1;34m(self, exog, transform, *args, **kwargs)\u001b[0m\n\u001b[0;32m   1138\u001b[0m \u001b[38;5;28;01mexcept\u001b[39;00m \u001b[38;5;167;01mException\u001b[39;00m \u001b[38;5;28;01mas\u001b[39;00m exc:\n\u001b[0;32m   1139\u001b[0m     msg \u001b[38;5;241m=\u001b[39m (\u001b[38;5;124m'\u001b[39m\u001b[38;5;124mpredict requires that you use a DataFrame when \u001b[39m\u001b[38;5;124m'\u001b[39m\n\u001b[0;32m   1140\u001b[0m            \u001b[38;5;124m'\u001b[39m\u001b[38;5;124mpredicting from a model\u001b[39m\u001b[38;5;130;01m\\n\u001b[39;00m\u001b[38;5;124mthat was created using the \u001b[39m\u001b[38;5;124m'\u001b[39m\n\u001b[0;32m   1141\u001b[0m            \u001b[38;5;124m'\u001b[39m\u001b[38;5;124mformula api.\u001b[39m\u001b[38;5;124m'\u001b[39m\n\u001b[0;32m   1142\u001b[0m            \u001b[38;5;124m'\u001b[39m\u001b[38;5;130;01m\\n\u001b[39;00m\u001b[38;5;130;01m\\n\u001b[39;00m\u001b[38;5;124mThe original error message returned by patsy is:\u001b[39m\u001b[38;5;130;01m\\n\u001b[39;00m\u001b[38;5;124m'\u001b[39m\n\u001b[0;32m   1143\u001b[0m            \u001b[38;5;124m'\u001b[39m\u001b[38;5;132;01m{0}\u001b[39;00m\u001b[38;5;124m'\u001b[39m\u001b[38;5;241m.\u001b[39mformat(\u001b[38;5;28mstr\u001b[39m(\u001b[38;5;28mstr\u001b[39m(exc))))\n\u001b[1;32m-> 1144\u001b[0m     \u001b[38;5;28;01mraise\u001b[39;00m exc\u001b[38;5;241m.\u001b[39m\u001b[38;5;18m__class__\u001b[39m(msg)\n\u001b[0;32m   1145\u001b[0m \u001b[38;5;28;01mif\u001b[39;00m orig_exog_len \u001b[38;5;241m>\u001b[39m \u001b[38;5;28mlen\u001b[39m(exog) \u001b[38;5;129;01mand\u001b[39;00m \u001b[38;5;129;01mnot\u001b[39;00m is_dict:\n\u001b[0;32m   1146\u001b[0m     \u001b[38;5;28;01mif\u001b[39;00m exog_index \u001b[38;5;129;01mis\u001b[39;00m \u001b[38;5;28;01mNone\u001b[39;00m:\n",
      "\u001b[1;31mPatsyError\u001b[0m: predict requires that you use a DataFrame when predicting from a model\nthat was created using the formula api.\n\nThe original error message returned by patsy is:\nError evaluating factor: TypeError: loop of ufunc does not support argument 0 of type float which has no callable log method\n    ind_renovacao ~ 1 + np.log(premio) + np.divide(premio, is_casco_ofer) + np.log(np.divide(premio, GBM_mercado)) + np.log(np.divide(premio, Premio_IC100)) + (np.divide(premio, premio_anterior)+1) + C(canal_bin,Treatment(reference=\"Demais\")) + C(Cod_End_bin,Treatment(reference=\"Demais\")) + C(fator_ajuste_bin,Treatment(reference=\"<101\")) + per_com + C(per_com_bin,Treatment(reference=\">=10\")) + np.log(MD_tempo_casa_2+1) + C(idade_ult_RNS_bin,Treatment(reference=\"Sem Sinistro\")) + C(MD_comb_bin,Treatment(reference=\"Demais\")) + C(UF_bin,Treatment(reference=\"Demais\")) + C(fx_ir_12m_bin,Treatment(reference=\"02 - 20-<=040\")) + C(MD_tipo_renov,Treatment(reference=\"2 - Renov MAPFRE sem sinistro\"))\n                        ^^^^^^^^^^^^^^"
     ]
    }
   ],
   "source": [
    "# Função de margem esperada\n",
    "def margem_esperada(probabilidade, premio, custo, preco_venda):\n",
    "    return probabilidade * (preco_venda - custo) - (1 - probabilidade) * custo\n",
    "\n",
    "# Função para otimização da margem esperada usando Lagrange \n",
    "def otimizar_margem(df_test):\n",
    "    probabilidade = df_test['probabilidade_compra']\n",
    "    premio = df_test['premio']\n",
    "    custo = df_test['Act_cost']\n",
    "\n",
    "    def objetivo(preco_venda):\n",
    "        return -margem_esperada(probabilidade, premio, custo, preco_venda)\n",
    "\n",
    "    resultado = minimize(objetivo,\n",
    "                         x0=premio, \n",
    "                         bounds=[(custo, 2*premio)])\n",
    "    return resultado.x[0]\n",
    "\n",
    "# Otimizar a margem esperada para cada cliente\n",
    "df_test['preco_otimizado'] = df_test.apply(otimizar_margem, axis=1)\n",
    "\n"
   ]
  },
  {
   "cell_type": "code",
   "execution_count": 490,
   "id": "5ab0be69",
   "metadata": {},
   "outputs": [
    {
     "data": {
      "text/html": [
       "<div>\n",
       "<style scoped>\n",
       "    .dataframe tbody tr th:only-of-type {\n",
       "        vertical-align: middle;\n",
       "    }\n",
       "\n",
       "    .dataframe tbody tr th {\n",
       "        vertical-align: top;\n",
       "    }\n",
       "\n",
       "    .dataframe thead th {\n",
       "        text-align: right;\n",
       "    }\n",
       "</style>\n",
       "<table border=\"1\" class=\"dataframe\">\n",
       "  <thead>\n",
       "    <tr style=\"text-align: right;\">\n",
       "      <th></th>\n",
       "      <th>Act_cost</th>\n",
       "      <th>Amostra</th>\n",
       "      <th>Amostra_inicial</th>\n",
       "      <th>ano_fab</th>\n",
       "      <th>ano_modelo</th>\n",
       "      <th>batente_max_ti</th>\n",
       "      <th>batente_min_ti</th>\n",
       "      <th>canal</th>\n",
       "      <th>Carprice</th>\n",
       "      <th>chave</th>\n",
       "      <th>...</th>\n",
       "      <th>idade_ult_RNS_bin</th>\n",
       "      <th>UF_bin</th>\n",
       "      <th>md_tipo_renov_ant_bin</th>\n",
       "      <th>Cod_End_bin</th>\n",
       "      <th>MD_capac_bin</th>\n",
       "      <th>fator_ajuste_bin</th>\n",
       "      <th>MD_qtd_assis_cpf_bin</th>\n",
       "      <th>prob_est</th>\n",
       "      <th>probabilidade_compra</th>\n",
       "      <th>preco_otimizado</th>\n",
       "    </tr>\n",
       "  </thead>\n",
       "  <tbody>\n",
       "    <tr>\n",
       "      <th>5</th>\n",
       "      <td>1487.881781</td>\n",
       "      <td>Otimização Atu</td>\n",
       "      <td>Otimização Atu</td>\n",
       "      <td>2017</td>\n",
       "      <td>2017</td>\n",
       "      <td>2.3</td>\n",
       "      <td>0.6</td>\n",
       "      <td>BancoVotorantim</td>\n",
       "      <td>70221</td>\n",
       "      <td>231100010863100001</td>\n",
       "      <td>...</td>\n",
       "      <td>Sem Sinistro</td>\n",
       "      <td>MT,PR</td>\n",
       "      <td>2-RenovPropria</td>\n",
       "      <td>Demais</td>\n",
       "      <td>Demais</td>\n",
       "      <td>&lt;101</td>\n",
       "      <td>00</td>\n",
       "      <td>0.255946</td>\n",
       "      <td>0.255879</td>\n",
       "      <td>4025.925666</td>\n",
       "    </tr>\n",
       "    <tr>\n",
       "      <th>15</th>\n",
       "      <td>273.190374</td>\n",
       "      <td>Otimização Atu</td>\n",
       "      <td>Otimização Atu</td>\n",
       "      <td>2007</td>\n",
       "      <td>2008</td>\n",
       "      <td>2.3</td>\n",
       "      <td>0.6</td>\n",
       "      <td>Corretor</td>\n",
       "      <td>30080</td>\n",
       "      <td>10708289513100001</td>\n",
       "      <td>...</td>\n",
       "      <td>Sem Sinistro</td>\n",
       "      <td>AP,DF,ES,PA,PB,RN,SC</td>\n",
       "      <td>2-RenovPropria</td>\n",
       "      <td>Demais</td>\n",
       "      <td>Demais</td>\n",
       "      <td>&lt;101</td>\n",
       "      <td>00</td>\n",
       "      <td>0.745265</td>\n",
       "      <td>0.744068</td>\n",
       "      <td>876.397649</td>\n",
       "    </tr>\n",
       "    <tr>\n",
       "      <th>17</th>\n",
       "      <td>293.558516</td>\n",
       "      <td>Otimização Atu</td>\n",
       "      <td>Otimização Atu</td>\n",
       "      <td>2013</td>\n",
       "      <td>2014</td>\n",
       "      <td>2.3</td>\n",
       "      <td>0.6</td>\n",
       "      <td>GCdoBrasil</td>\n",
       "      <td>39263</td>\n",
       "      <td>50200046043100001</td>\n",
       "      <td>...</td>\n",
       "      <td>Sem Sinistro</td>\n",
       "      <td>Demais</td>\n",
       "      <td>2-RenovPropria</td>\n",
       "      <td>Demais</td>\n",
       "      <td>Demais</td>\n",
       "      <td>&lt;101</td>\n",
       "      <td>00</td>\n",
       "      <td>0.653046</td>\n",
       "      <td>0.652141</td>\n",
       "      <td>1022.618499</td>\n",
       "    </tr>\n",
       "    <tr>\n",
       "      <th>20</th>\n",
       "      <td>251.381741</td>\n",
       "      <td>Otimização Atu</td>\n",
       "      <td>Otimização Atu</td>\n",
       "      <td>2013</td>\n",
       "      <td>2014</td>\n",
       "      <td>2.3</td>\n",
       "      <td>0.6</td>\n",
       "      <td>SicoobCopercana</td>\n",
       "      <td>33612</td>\n",
       "      <td>241100125133100001</td>\n",
       "      <td>...</td>\n",
       "      <td>Sem Sinistro</td>\n",
       "      <td>Demais</td>\n",
       "      <td>2-RenovPropria</td>\n",
       "      <td>Demais</td>\n",
       "      <td>Demais</td>\n",
       "      <td>&lt;101</td>\n",
       "      <td>00</td>\n",
       "      <td>0.864104</td>\n",
       "      <td>0.863369</td>\n",
       "      <td>1061.113748</td>\n",
       "    </tr>\n",
       "    <tr>\n",
       "      <th>38</th>\n",
       "      <td>275.377276</td>\n",
       "      <td>Otimização Atu</td>\n",
       "      <td>Otimização Atu</td>\n",
       "      <td>2000</td>\n",
       "      <td>2000</td>\n",
       "      <td>2.3</td>\n",
       "      <td>0.6</td>\n",
       "      <td>CorretorMais</td>\n",
       "      <td>10863</td>\n",
       "      <td>228100912763100001</td>\n",
       "      <td>...</td>\n",
       "      <td>Sem Sinistro</td>\n",
       "      <td>Demais</td>\n",
       "      <td>2-RenovPropria</td>\n",
       "      <td>Demais</td>\n",
       "      <td>Demais</td>\n",
       "      <td>&lt;101</td>\n",
       "      <td>00</td>\n",
       "      <td>0.939407</td>\n",
       "      <td>0.938838</td>\n",
       "      <td>884.651903</td>\n",
       "    </tr>\n",
       "  </tbody>\n",
       "</table>\n",
       "<p>5 rows × 138 columns</p>\n",
       "</div>"
      ],
      "text/plain": [
       "       Act_cost         Amostra Amostra_inicial  ano_fab  ano_modelo  \\\n",
       "5   1487.881781  Otimização Atu  Otimização Atu     2017        2017   \n",
       "15   273.190374  Otimização Atu  Otimização Atu     2007        2008   \n",
       "17   293.558516  Otimização Atu  Otimização Atu     2013        2014   \n",
       "20   251.381741  Otimização Atu  Otimização Atu     2013        2014   \n",
       "38   275.377276  Otimização Atu  Otimização Atu     2000        2000   \n",
       "\n",
       "    batente_max_ti  batente_min_ti            canal  Carprice  \\\n",
       "5              2.3             0.6  BancoVotorantim     70221   \n",
       "15             2.3             0.6         Corretor     30080   \n",
       "17             2.3             0.6       GCdoBrasil     39263   \n",
       "20             2.3             0.6  SicoobCopercana     33612   \n",
       "38             2.3             0.6     CorretorMais     10863   \n",
       "\n",
       "                 chave  ...  idade_ult_RNS_bin                UF_bin  \\\n",
       "5   231100010863100001  ...       Sem Sinistro                 MT,PR   \n",
       "15   10708289513100001  ...       Sem Sinistro  AP,DF,ES,PA,PB,RN,SC   \n",
       "17   50200046043100001  ...       Sem Sinistro                Demais   \n",
       "20  241100125133100001  ...       Sem Sinistro                Demais   \n",
       "38  228100912763100001  ...       Sem Sinistro                Demais   \n",
       "\n",
       "    md_tipo_renov_ant_bin  Cod_End_bin  MD_capac_bin  fator_ajuste_bin  \\\n",
       "5          2-RenovPropria       Demais        Demais              <101   \n",
       "15         2-RenovPropria       Demais        Demais              <101   \n",
       "17         2-RenovPropria       Demais        Demais              <101   \n",
       "20         2-RenovPropria       Demais        Demais              <101   \n",
       "38         2-RenovPropria       Demais        Demais              <101   \n",
       "\n",
       "   MD_qtd_assis_cpf_bin  prob_est probabilidade_compra preco_otimizado  \n",
       "5                    00  0.255946             0.255879     4025.925666  \n",
       "15                   00  0.745265             0.744068      876.397649  \n",
       "17                   00  0.653046             0.652141     1022.618499  \n",
       "20                   00  0.864104             0.863369     1061.113748  \n",
       "38                   00  0.939407             0.938838      884.651903  \n",
       "\n",
       "[5 rows x 138 columns]"
      ]
     },
     "execution_count": 490,
     "metadata": {},
     "output_type": "execute_result"
    }
   ],
   "source": [
    "\n",
    "# Exibir o dataframe resultante\n",
    "df_test.head(5)"
   ]
  },
  {
   "cell_type": "code",
   "execution_count": null,
   "id": "fac50d0e",
   "metadata": {},
   "outputs": [],
   "source": []
  },
  {
   "cell_type": "code",
   "execution_count": null,
   "id": "2eaa5c83",
   "metadata": {},
   "outputs": [],
   "source": []
  },
  {
   "cell_type": "code",
   "execution_count": null,
   "id": "2fa16a9a",
   "metadata": {},
   "outputs": [],
   "source": []
  },
  {
   "cell_type": "markdown",
   "id": "848cf620",
   "metadata": {},
   "source": [
    "#criando a função"
   ]
  },
  {
   "cell_type": "code",
   "execution_count": 505,
   "id": "ffbbf6d7",
   "metadata": {},
   "outputs": [],
   "source": [
    "def categorizar(df):\n",
    "    \n",
    "    df['MD_sexo_bin'] = df['MD_sexo'].map({'Masculino': 'Masculino', \n",
    "                                 'Feminino': 'Feminino', \n",
    "                                  'ERRO': 'Masculino'}).astype(object)\n",
    "\n",
    "\n",
    "    df['fx_ir_12m_bin'] = df['fx_ir_12m'].apply(lambda x: '01 - 00-<=020' if x == '01 - 00-<=020' else\n",
    "                                                              '02 - 20-<=040' if x == '02 - 20-<=040' else\n",
    "                                                              '03 - 40-<=060' if x == '03 - 40-<=060' else\n",
    "                                                              '04 - 60-<=080' if x == '04 - 60-<=080' else\n",
    "                                                              '05 - 80-<=100' if x == '05 - 80-<=100' else\n",
    "                                                              '02 - 20-<=040' if x == 'NI'           else 'ERROR')\n",
    "\n",
    "  \n",
    "    df['MD_comb_bin'] = df['MD_comb'].apply(lambda x: 'Gasolina' if x == 'Gasolina'  else 'Demais')\n",
    "\n",
    "    df['canal_bin'] =  df['canal'].apply(lambda x: 'Corretor Mais' if x == 'Corretor Mais'  else 'Demais')\n",
    "   \n",
    "    df['per_com_bin'] = df['per_com'].apply(lambda x: '<10' if x < 10 else\n",
    "                                                          '>=10' if x >= 10 else 'ERROR')    \n",
    "\n",
    "\n",
    "\n",
    "    df['idade_ult_RNS_bin'] = df['idade_ult_RNS'].apply(lambda x: 'Sem Sinistro' if x == 'Sem Sinistro' else\n",
    "                                                                      '01 ano' if x == '01 ano' else\n",
    "                                                                      '02 ano' if x == '02 ano' else '02 ano +')\n",
    "\n",
    "\n",
    "\n",
    "\n",
    "    df['UF_bin'] = df['UF'].apply(lambda x: 'AL,CE,RS'  if x == 'AL' else\n",
    "                                                'AL,CE,RS'  if x == 'CE' else\n",
    "                                                'AL,CE,RS'  if x == 'RS' else \n",
    "                                                'AP,DF,ES,PA,PB,RN,SC' if x == 'AP' else \n",
    "                                                'AP,DF,ES,PA,PB,RN,SC' if x == 'DF' else \n",
    "                                                'AP,DF,ES,PA,PB,RN,SC' if x == 'ES' else \n",
    "                                                'AP,DF,ES,PA,PB,RN,SC' if x == 'PA' else \n",
    "                                                'AP,DF,ES,PA,PB,RN,SC' if x == 'PB' else \n",
    "                                                'AP,DF,ES,PA,PB,RN,SC' if x == 'RN' else \n",
    "                                                'AP,DF,ES,PA,PB,RN,SC' if x == 'SC' else \n",
    "                                                'GO,MA,MG'             if x == 'GO' else \n",
    "                                                'GO,MA,MG'             if x == 'MA' else \n",
    "                                                'GO,MA,MG'             if x == 'MG' else \n",
    "                                                'MT,PR'                if x == 'MT' else\n",
    "                                                'MT,PR'                if x == 'PR' else \n",
    "                                                'RJ'                   if x == 'RJ' else  'Demais')\n",
    "\n",
    "    df['md_tipo_renov_ant_bin'] = df['Renovacao_ant'].apply(lambda x: '1-SeguroNovo'                      if x == '1-Seguro Novo'    else\n",
    "                                                                          '2 - Renov MAPFRE sem sinistro'     if x == '2-RenovPropria'   else\n",
    "                                                                          '3 - Renov MAPFRE com sinistro'     if x == '2-RenovPropria'   else\n",
    "                                                                          '4 - Renov Congenere sem sinistro'  if x == '3-RenovCongenere' else\n",
    "                                                                          '5 - Renov Congenere com sinistro'  if x == '3-RenovCongenere' else\n",
    "                                                                          '6 - Renov BB sem sinistro'         if x == '3-RenovCongenere' else\n",
    "                                                                          '7 - Renov BB com sinistro'         if x == '3-RenovCongenere' else  '2-RenovPropria')\n",
    "      \n",
    "     \n",
    "    df['Cod_End_bin'] = df['Cod_End'].apply(lambda x: '13509'  if x == 13509 else\n",
    "                                                          '13509'  if x == 50007 else\n",
    "                                                          '13509'  if x == 50100 else 'Demais')   \n",
    "\n",
    "    df['MD_capac_bin'] = df['MD_capac'].apply(lambda x: '5'  if x == 5  else 'Demais')  \n",
    "\n",
    "\n",
    "\n",
    "    df['fator_ajuste_bin'] = df['MD_fator_ajuste'].apply(lambda x: '<101'    if x < 101 else\n",
    "                                                                       '>=101'   if x >= 101  else '<101')   \n",
    "\n",
    "    df['MD_qtd_assis_cpf_bin'] = df['MD_qtd_assis_cpf'].apply(lambda x: '00'  if x == 0 else\n",
    "                                                                            '01'  if x == 1 else\n",
    "                                                                            '>=2' if x >= 2 else 'ERROR')\n",
    "    return df"
   ]
  },
  {
   "cell_type": "code",
   "execution_count": 506,
   "id": "47112ab3",
   "metadata": {},
   "outputs": [],
   "source": [
    "df_mod_categ=df_mod_filtered.copy()"
   ]
  },
  {
   "cell_type": "code",
   "execution_count": 507,
   "id": "639f4cbc",
   "metadata": {},
   "outputs": [],
   "source": [
    "df_mod_categ = categorizar(df_mod_categ)"
   ]
  },
  {
   "cell_type": "code",
   "execution_count": 508,
   "id": "fa64e7ad",
   "metadata": {},
   "outputs": [
    {
     "data": {
      "text/plain": [
       "['premio_ofertado',\n",
       " 'premio_total',\n",
       " 'GBM_mercado',\n",
       " 'premio_creserva',\n",
       " 'premio_demais_cob',\n",
       " 'teste_validacao',\n",
       " 'ind_renovacao',\n",
       " 'classe_bonus',\n",
       " 'MD_sexo',\n",
       " 'cod_corr',\n",
       " 'Cod_End',\n",
       " 'MD_sin_5a_cas',\n",
       " 'MD_tempo_casa_2',\n",
       " 'MD_idade_veic',\n",
       " 'MD_faixa_IScas',\n",
       " 'anomes_dt_ter',\n",
       " 'MD_idade',\n",
       " 'per_com',\n",
       " 'RNS_Casco_calc',\n",
       " 'MD_menor26',\n",
       " 'UF',\n",
       " 'Renovacao_ant',\n",
       " 'fx_ir_12m',\n",
       " 'is_casco_ofer',\n",
       " 'classe_bonus',\n",
       " 'MD_fator_ajuste',\n",
       " 'MD_capac',\n",
       " 'md_categoria',\n",
       " 'MD_comb',\n",
       " 'MD_qtd_assis_cpf',\n",
       " 'idade_ult_RNS',\n",
       " 'canal',\n",
       " 'MD_tipo_renov',\n",
       " 'FABRICA',\n",
       " 'MD_est_civil',\n",
       " 'peso',\n",
       " 'Grupo_veiculo_new',\n",
       " 'vigencia',\n",
       " 'Risco_PP_mod',\n",
       " 'Risco_PT_mod',\n",
       " 'Risco_RF_mod',\n",
       " 'Risco_DM_mod',\n",
       " 'Risco_AS_mod',\n",
       " 'Risco_DC_mod',\n",
       " 'Risco_DMO_mod',\n",
       " 'DA_emissao',\n",
       " 'DA_producao',\n",
       " 'risco_dmais_cob',\n",
       " 'premio_anterior',\n",
       " 'Act_cost',\n",
       " 'Premio_IC100',\n",
       " 'premio',\n",
       " 'MD_sexo_bin',\n",
       " 'fx_ir_12m_bin',\n",
       " 'MD_comb_bin',\n",
       " 'canal_bin',\n",
       " 'per_com_bin',\n",
       " 'idade_ult_RNS_bin',\n",
       " 'UF_bin',\n",
       " 'md_tipo_renov_ant_bin',\n",
       " 'Cod_End_bin',\n",
       " 'MD_capac_bin',\n",
       " 'fator_ajuste_bin',\n",
       " 'MD_qtd_assis_cpf_bin']"
      ]
     },
     "execution_count": 508,
     "metadata": {},
     "output_type": "execute_result"
    }
   ],
   "source": [
    "df_mod_categ.columns.to_list()"
   ]
  },
  {
   "cell_type": "code",
   "execution_count": null,
   "id": "cd005d19",
   "metadata": {},
   "outputs": [],
   "source": []
  }
 ],
 "metadata": {
  "kernelspec": {
   "display_name": "Python 3 (ipykernel)",
   "language": "python",
   "name": "python3"
  },
  "language_info": {
   "codemirror_mode": {
    "name": "ipython",
    "version": 3
   },
   "file_extension": ".py",
   "mimetype": "text/x-python",
   "name": "python",
   "nbconvert_exporter": "python",
   "pygments_lexer": "ipython3",
   "version": "3.10.9"
  }
 },
 "nbformat": 4,
 "nbformat_minor": 5
}
