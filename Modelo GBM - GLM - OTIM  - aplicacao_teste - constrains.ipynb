{
 "cells": [
  {
   "cell_type": "code",
   "execution_count": 1,
   "id": "4317d284",
   "metadata": {},
   "outputs": [],
   "source": [
    "import pandas as pd\n",
    "import seaborn as sns\n",
    "import matplotlib.pyplot as plt\n",
    "import numpy as np\n",
    "\n",
    "from scipy.optimize import minimize\n",
    "from scipy.optimize import differential_evolution\n",
    "\n",
    "from sklearn.preprocessing import LabelEncoder\n",
    "from sklearn.model_selection import train_test_split\n",
    "from sklearn import metrics\n",
    "from sklearn.preprocessing import StandardScaler\n",
    "\n",
    "from sklearn.tree import DecisionTreeRegressor\n",
    "from sklearn.ensemble import RandomForestRegressor\n",
    "import xgboost as xgb\n",
    "from sklearn.metrics import mean_squared_error, mean_absolute_error, r2_score\n",
    "from sklearn.linear_model import LinearRegression\n",
    "\n",
    "from numpy import asarray\n",
    "from sklearn.preprocessing import OrdinalEncoder\n",
    "\n",
    "import warnings\n",
    "warnings.filterwarnings('ignore')\n"
   ]
  },
  {
   "cell_type": "markdown",
   "id": "a5e0e9c4",
   "metadata": {},
   "source": [
    "## modelagem GLM"
   ]
  },
  {
   "cell_type": "code",
   "execution_count": 2,
   "id": "628b03c6",
   "metadata": {},
   "outputs": [
    {
     "name": "stdout",
     "output_type": "stream",
     "text": [
      "CPU times: total: 14.2 s\n",
      "Wall time: 15.5 s\n"
     ]
    },
    {
     "data": {
      "text/plain": [
       "(575924, 105)"
      ]
     },
     "execution_count": 2,
     "metadata": {},
     "output_type": "execute_result"
    }
   ],
   "source": [
    "%%time\n",
    "df_mod_mp_feb23jul24_v2 = pd.read_csv(\"C://Flavio/Projeto Otimizacao/Modelo Renovacao/df_mod_mp_feb23jul24_v2.csv\",\n",
    "                     encoding='latin-1',\n",
    "                     delimiter='|')\n",
    "\n",
    "\n",
    "df_mod_mp_feb23jul24_v2.shape"
   ]
  },
  {
   "cell_type": "code",
   "execution_count": 3,
   "id": "6b785a08",
   "metadata": {},
   "outputs": [
    {
     "data": {
      "text/plain": [
       "(575924, 3)"
      ]
     },
     "execution_count": 3,
     "metadata": {},
     "output_type": "execute_result"
    }
   ],
   "source": [
    "premio_gbm = pd.read_csv(\"C://Flavio/Projeto Otimizacao/Modelo Renovacao/df_mod_julho_gbm_python_v2.csv\",\n",
    "                     encoding='latin-1',\n",
    "                     delimiter='|')\n",
    "premio_gbm.shape"
   ]
  },
  {
   "cell_type": "code",
   "execution_count": 4,
   "id": "6cf77128",
   "metadata": {},
   "outputs": [],
   "source": [
    "df_mod_mp_feb23jul24_v2 = pd.merge(df_mod_mp_feb23jul24_v2,premio_gbm[['Chave','GBM_mercado']],on='Chave', how='left')"
   ]
  },
  {
   "cell_type": "code",
   "execution_count": 5,
   "id": "06a46a00",
   "metadata": {},
   "outputs": [],
   "source": [
    "#df_mod_mp_feb23jul24_v2 = pd.merge(df_mod_mp_feb23jul24_v2,premio_gbm,how='left',on=['Chave'])"
   ]
  },
  {
   "cell_type": "code",
   "execution_count": 6,
   "id": "99365986",
   "metadata": {},
   "outputs": [],
   "source": [
    "#df.drop(''Unnamed: 0'', axis=1)"
   ]
  },
  {
   "cell_type": "code",
   "execution_count": 7,
   "id": "3b02a0bd",
   "metadata": {},
   "outputs": [],
   "source": [
    "df_mod_mp_feb23jul24_v2['Grupo_veiculo_new']=df_mod_mp_feb23jul24_v2['novo']"
   ]
  },
  {
   "cell_type": "code",
   "execution_count": 8,
   "id": "fd8582fc",
   "metadata": {},
   "outputs": [
    {
     "name": "stdout",
     "output_type": "stream",
     "text": [
      "Your selected dataframe has 107 columns and 575924 Rows.\n",
      "There are 16 columns that have missing values.\n"
     ]
    },
    {
     "data": {
      "text/html": [
       "<div>\n",
       "<style scoped>\n",
       "    .dataframe tbody tr th:only-of-type {\n",
       "        vertical-align: middle;\n",
       "    }\n",
       "\n",
       "    .dataframe tbody tr th {\n",
       "        vertical-align: top;\n",
       "    }\n",
       "\n",
       "    .dataframe thead th {\n",
       "        text-align: right;\n",
       "    }\n",
       "</style>\n",
       "<table border=\"1\" class=\"dataframe\">\n",
       "  <thead>\n",
       "    <tr style=\"text-align: right;\">\n",
       "      <th></th>\n",
       "      <th>Zero Values</th>\n",
       "      <th>Missing Values</th>\n",
       "      <th>% of Total Values</th>\n",
       "      <th>Total Zero Missing Values</th>\n",
       "      <th>% Total Zero Missing Values</th>\n",
       "      <th>Data Type</th>\n",
       "    </tr>\n",
       "  </thead>\n",
       "  <tbody>\n",
       "    <tr>\n",
       "      <th>perf_cond_menor26</th>\n",
       "      <td>0</td>\n",
       "      <td>391245</td>\n",
       "      <td>67.9</td>\n",
       "      <td>391245</td>\n",
       "      <td>67.9</td>\n",
       "      <td>object</td>\n",
       "    </tr>\n",
       "    <tr>\n",
       "      <th>perf_est_civil</th>\n",
       "      <td>0</td>\n",
       "      <td>227357</td>\n",
       "      <td>39.5</td>\n",
       "      <td>227357</td>\n",
       "      <td>39.5</td>\n",
       "      <td>object</td>\n",
       "    </tr>\n",
       "    <tr>\n",
       "      <th>Corr_Classif_5_hibr</th>\n",
       "      <td>0</td>\n",
       "      <td>99433</td>\n",
       "      <td>17.3</td>\n",
       "      <td>99433</td>\n",
       "      <td>17.3</td>\n",
       "      <td>object</td>\n",
       "    </tr>\n",
       "    <tr>\n",
       "      <th>perf_modalidade</th>\n",
       "      <td>0</td>\n",
       "      <td>40243</td>\n",
       "      <td>7.0</td>\n",
       "      <td>40243</td>\n",
       "      <td>7.0</td>\n",
       "      <td>object</td>\n",
       "    </tr>\n",
       "    <tr>\n",
       "      <th>novo</th>\n",
       "      <td>0</td>\n",
       "      <td>1622</td>\n",
       "      <td>0.3</td>\n",
       "      <td>1622</td>\n",
       "      <td>0.3</td>\n",
       "      <td>object</td>\n",
       "    </tr>\n",
       "    <tr>\n",
       "      <th>Grupo_veiculo_new</th>\n",
       "      <td>0</td>\n",
       "      <td>1622</td>\n",
       "      <td>0.3</td>\n",
       "      <td>1622</td>\n",
       "      <td>0.3</td>\n",
       "      <td>object</td>\n",
       "    </tr>\n",
       "    <tr>\n",
       "      <th>per_com</th>\n",
       "      <td>652</td>\n",
       "      <td>1372</td>\n",
       "      <td>0.2</td>\n",
       "      <td>2024</td>\n",
       "      <td>0.4</td>\n",
       "      <td>float64</td>\n",
       "    </tr>\n",
       "    <tr>\n",
       "      <th>MD_est_civil</th>\n",
       "      <td>0</td>\n",
       "      <td>566</td>\n",
       "      <td>0.1</td>\n",
       "      <td>566</td>\n",
       "      <td>0.1</td>\n",
       "      <td>object</td>\n",
       "    </tr>\n",
       "    <tr>\n",
       "      <th>FABRICA</th>\n",
       "      <td>0</td>\n",
       "      <td>378</td>\n",
       "      <td>0.1</td>\n",
       "      <td>378</td>\n",
       "      <td>0.1</td>\n",
       "      <td>object</td>\n",
       "    </tr>\n",
       "    <tr>\n",
       "      <th>cod_nacionalidade</th>\n",
       "      <td>0</td>\n",
       "      <td>378</td>\n",
       "      <td>0.1</td>\n",
       "      <td>378</td>\n",
       "      <td>0.1</td>\n",
       "      <td>float64</td>\n",
       "    </tr>\n",
       "    <tr>\n",
       "      <th>peso</th>\n",
       "      <td>0</td>\n",
       "      <td>378</td>\n",
       "      <td>0.1</td>\n",
       "      <td>378</td>\n",
       "      <td>0.1</td>\n",
       "      <td>float64</td>\n",
       "    </tr>\n",
       "    <tr>\n",
       "      <th>potencia</th>\n",
       "      <td>0</td>\n",
       "      <td>378</td>\n",
       "      <td>0.1</td>\n",
       "      <td>378</td>\n",
       "      <td>0.1</td>\n",
       "      <td>float64</td>\n",
       "    </tr>\n",
       "    <tr>\n",
       "      <th>peso_pot</th>\n",
       "      <td>0</td>\n",
       "      <td>378</td>\n",
       "      <td>0.1</td>\n",
       "      <td>378</td>\n",
       "      <td>0.1</td>\n",
       "      <td>float64</td>\n",
       "    </tr>\n",
       "    <tr>\n",
       "      <th>cod_marca</th>\n",
       "      <td>0</td>\n",
       "      <td>2</td>\n",
       "      <td>0.0</td>\n",
       "      <td>2</td>\n",
       "      <td>0.0</td>\n",
       "      <td>object</td>\n",
       "    </tr>\n",
       "    <tr>\n",
       "      <th>Renovacao_ant</th>\n",
       "      <td>0</td>\n",
       "      <td>1</td>\n",
       "      <td>0.0</td>\n",
       "      <td>1</td>\n",
       "      <td>0.0</td>\n",
       "      <td>object</td>\n",
       "    </tr>\n",
       "    <tr>\n",
       "      <th>v_franq</th>\n",
       "      <td>3018</td>\n",
       "      <td>1</td>\n",
       "      <td>0.0</td>\n",
       "      <td>3019</td>\n",
       "      <td>0.5</td>\n",
       "      <td>float64</td>\n",
       "    </tr>\n",
       "  </tbody>\n",
       "</table>\n",
       "</div>"
      ],
      "text/plain": [
       "                     Zero Values  Missing Values  % of Total Values  \\\n",
       "perf_cond_menor26              0          391245               67.9   \n",
       "perf_est_civil                 0          227357               39.5   \n",
       "Corr_Classif_5_hibr            0           99433               17.3   \n",
       "perf_modalidade                0           40243                7.0   \n",
       "novo                           0            1622                0.3   \n",
       "Grupo_veiculo_new              0            1622                0.3   \n",
       "per_com                      652            1372                0.2   \n",
       "MD_est_civil                   0             566                0.1   \n",
       "FABRICA                        0             378                0.1   \n",
       "cod_nacionalidade              0             378                0.1   \n",
       "peso                           0             378                0.1   \n",
       "potencia                       0             378                0.1   \n",
       "peso_pot                       0             378                0.1   \n",
       "cod_marca                      0               2                0.0   \n",
       "Renovacao_ant                  0               1                0.0   \n",
       "v_franq                     3018               1                0.0   \n",
       "\n",
       "                     Total Zero Missing Values  % Total Zero Missing Values  \\\n",
       "perf_cond_menor26                       391245                         67.9   \n",
       "perf_est_civil                          227357                         39.5   \n",
       "Corr_Classif_5_hibr                      99433                         17.3   \n",
       "perf_modalidade                          40243                          7.0   \n",
       "novo                                      1622                          0.3   \n",
       "Grupo_veiculo_new                         1622                          0.3   \n",
       "per_com                                   2024                          0.4   \n",
       "MD_est_civil                               566                          0.1   \n",
       "FABRICA                                    378                          0.1   \n",
       "cod_nacionalidade                          378                          0.1   \n",
       "peso                                       378                          0.1   \n",
       "potencia                                   378                          0.1   \n",
       "peso_pot                                   378                          0.1   \n",
       "cod_marca                                    2                          0.0   \n",
       "Renovacao_ant                                1                          0.0   \n",
       "v_franq                                   3019                          0.5   \n",
       "\n",
       "                    Data Type  \n",
       "perf_cond_menor26      object  \n",
       "perf_est_civil         object  \n",
       "Corr_Classif_5_hibr    object  \n",
       "perf_modalidade        object  \n",
       "novo                   object  \n",
       "Grupo_veiculo_new      object  \n",
       "per_com               float64  \n",
       "MD_est_civil           object  \n",
       "FABRICA                object  \n",
       "cod_nacionalidade     float64  \n",
       "peso                  float64  \n",
       "potencia              float64  \n",
       "peso_pot              float64  \n",
       "cod_marca              object  \n",
       "Renovacao_ant          object  \n",
       "v_franq               float64  "
      ]
     },
     "execution_count": 8,
     "metadata": {},
     "output_type": "execute_result"
    }
   ],
   "source": [
    "def missing_zero_values_table(df):\n",
    "        zero_val = (df == 0.00).astype(int).sum(axis=0)\n",
    "        mis_val = df.isnull().sum()\n",
    "        mis_val_percent = 100 * df.isnull().sum() / len(df)\n",
    "        mz_table = pd.concat([zero_val, mis_val, mis_val_percent], axis=1)\n",
    "        mz_table = mz_table.rename(\n",
    "        columns = {0 : 'Zero Values', 1 : 'Missing Values', 2 : '% of Total Values'})\n",
    "        mz_table['Total Zero Missing Values'] = mz_table['Zero Values'] + mz_table['Missing Values']\n",
    "        mz_table['% Total Zero Missing Values'] = 100 * mz_table['Total Zero Missing Values'] / len(df)\n",
    "        mz_table['Data Type'] = df.dtypes\n",
    "        mz_table = mz_table[\n",
    "            mz_table.iloc[:,1] != 0].sort_values(\n",
    "        '% of Total Values', ascending=False).round(1)\n",
    "        print (\"Your selected dataframe has \" + str(df.shape[1]) + \" columns and \" + str(df.shape[0]) + \" Rows.\\n\"      \n",
    "            \"There are \" + str(mz_table.shape[0]) +\n",
    "              \" columns that have missing values.\")\n",
    "#         mz_table.to_excel('D:/sampledata/missing_and_zero_values.xlsx', freeze_panes=(1,0), index = False)\n",
    "        return mz_table\n",
    "\n",
    "missing_zero_values_table(df_mod_mp_feb23jul24_v2)"
   ]
  },
  {
   "cell_type": "markdown",
   "id": "c798bf0a",
   "metadata": {},
   "source": [
    "#### prepara base de modelagem glm"
   ]
  },
  {
   "cell_type": "code",
   "execution_count": 9,
   "id": "b717c29c",
   "metadata": {},
   "outputs": [],
   "source": [
    "df_mod_filtered=df_mod_mp_feb23jul24_v2[[\"premio_ofertado\",\"premio_total\", 'premio_creserva','premio_demais_cob',\"teste_validacao\",\"ind_renovacao\",\"MD_sexo\",\"cod_corr\",\n",
    "                                \"Cod_End\",\"MD_sin_5a_cas\",\"MD_tempo_casa_2\",\"MD_idade_veic\",\"MD_faixa_IScas\",\n",
    "                                \"anomes_dt_ter\" ,\"MD_idade\",\"per_com\", \"RNS_Casco_calc\",\"MD_menor26\",\"UF\",\"Renovacao_ant\",\n",
    "                                \"fx_ir_12m\",\"is_casco_ofer\",\"classe_bonus\",\"MD_fator_ajuste\",\"MD_capac\",\"md_categoria\",\n",
    "                                \"MD_comb\",\"MD_qtd_assis_cpf\", \"idade_ult_RNS\",\"canal\",\"MD_tipo_renov\",'FABRICA','MD_est_civil',\n",
    "                                'peso','Grupo_veiculo_new','vigencia',\n",
    "                                'Risco_PP_mod', 'Risco_PT_mod','Risco_RF_mod','Risco_DM_mod','Risco_AS_mod',\n",
    "                                'Risco_DC_mod' ,'Risco_DMO_mod','GBM_mercado']]\n",
    "\n",
    "df_mod_filtered['DA_emissao'] =0.2349\n",
    "df_mod_filtered['DA_producao'] =0.2749\n",
    "df_mod_filtered['risco_dmais_cob'] =df_mod_filtered['premio_demais_cob']*0.2627*1.4\n",
    "df_mod_filtered['premio_anterior'] =df_mod_filtered['premio_total']\n",
    "df_mod_filtered['Act_cost']  = df_mod_filtered['Risco_PP_mod'] + df_mod_filtered['Risco_PT_mod'] + df_mod_filtered['Risco_RF_mod']+ df_mod_filtered['Risco_DM_mod']+ df_mod_filtered['Risco_AS_mod'] + df_mod_filtered['Risco_DC_mod'] +df_mod_filtered['Risco_DMO_mod'] + df_mod_filtered['risco_dmais_cob']\n",
    "df_mod_filtered['Premio_IC100']  = df_mod_filtered['Act_cost']/(1-df_mod_filtered['per_com']/100-df_mod_filtered['DA_producao'] )\n",
    "df_mod_filtered[\"premio\"] = df_mod_filtered[\"premio_ofertado\"]\n",
    "df_mod_filtered['GBM_mercado']  = df_mod_filtered['GBM_mercado']/(1-df_mod_filtered['per_com']/100)\n"
   ]
  },
  {
   "cell_type": "code",
   "execution_count": 10,
   "id": "e6f783f7",
   "metadata": {},
   "outputs": [
    {
     "data": {
      "text/plain": [
       "(363905, 51)"
      ]
     },
     "execution_count": 10,
     "metadata": {},
     "output_type": "execute_result"
    }
   ],
   "source": [
    "df_mod_filtered = df_mod_filtered[df_mod_filtered['per_com'].notna()]\n",
    "df_mod_filtered = df_mod_filtered[df_mod_filtered['FABRICA'].notna()]\n",
    "df_mod_filtered = df_mod_filtered[df_mod_filtered['MD_est_civil'].notna()]\n",
    "df_mod_filtered = df_mod_filtered[df_mod_filtered['Renovacao_ant'].notna()]\n",
    "df_mod_filtered = df_mod_filtered.query('premio_total !=0')\n",
    "df_mod_filtered = df_mod_filtered.query('vigencia == \"Anual\"')\n",
    "df_mod_filtered = df_mod_filtered.query('premio_creserva >= 0')\n",
    "df_mod_filtered = df_mod_filtered[~df_mod_filtered['anomes_dt_ter'].isin([202310,202309,202308,202302,202402])]\n",
    "df_mod_filtered = df_mod_filtered.query('premio_total >100')\n",
    "df_mod_filtered = df_mod_filtered.query('premio_ofertado >100')\n",
    "df_mod_filtered = df_mod_filtered.query('MD_idade !=\"ERRO\"')\n",
    "df_mod_filtered = df_mod_filtered.query('is_casco_ofer > 0')\n",
    "df_mod_filtered = df_mod_filtered[(df_mod_filtered['per_com']>0)]\n",
    "df_mod_filtered = df_mod_filtered[(df_mod_filtered['per_com']<50)]\n",
    "df_mod_filtered = df_mod_filtered[(df_mod_filtered.premio_ofertado/df_mod_filtered.premio_total <=2.3)]\n",
    "df_mod_filtered = df_mod_filtered[(df_mod_filtered.premio_ofertado/df_mod_filtered.premio_total >=0.7)]\n",
    "df_mod_filtered = df_mod_filtered[(df_mod_filtered.UF != \"SP\") | (~df_mod_filtered.Grupo_veiculo_new.isin([\"Toyota Hilux CD\",\"Toyota Hilux CS\",\"Toyota Hilux SW4\"]))]\n",
    "\n",
    "df_mod_filtered.shape"
   ]
  },
  {
   "cell_type": "code",
   "execution_count": 11,
   "id": "a4b127ca",
   "metadata": {},
   "outputs": [],
   "source": [
    "#df_mod_filtered['GBM_mercado'].describe()"
   ]
  },
  {
   "cell_type": "code",
   "execution_count": 12,
   "id": "ce9c2092",
   "metadata": {},
   "outputs": [],
   "source": [
    "#print(df_mod_filtered['classe_bonus'].value_counts(ascending=False))"
   ]
  },
  {
   "cell_type": "code",
   "execution_count": 13,
   "id": "7abcd0c0",
   "metadata": {},
   "outputs": [],
   "source": [
    "df_mod=df_mod_filtered.copy()"
   ]
  },
  {
   "cell_type": "code",
   "execution_count": 14,
   "id": "687abc4a",
   "metadata": {
    "scrolled": true
   },
   "outputs": [],
   "source": [
    "def categorizar(df):\n",
    "    \n",
    "    df['classe_bonus_bin'] = df['classe_bonus'].apply(lambda x: '00'  if x == 0 else 'Demais')   \n",
    "    \n",
    "    df['MD_sexo_bin'] = df['MD_sexo'].map({'Masculino': 'Masculino', \n",
    "                                 'Feminino': 'Feminino', \n",
    "                                  'ERRO': 'Masculino'}).astype(object)\n",
    "    \n",
    "    df['MD_sexo_2bin'] = df['MD_sexo'].map({'Masculino': 1, \n",
    "                                 'Feminino': 0, \n",
    "                                  'ERRO': 1}).astype(object)\n",
    "\n",
    "\n",
    "    df['fx_ir_12m_bin'] = df['fx_ir_12m'].apply(lambda x: '01_00_20' if x == '01 - 00-<=020' else\n",
    "                                                          '02_20_40' if x == '02 - 20-<=040' else\n",
    "                                                          '03_40_60' if x == '03 - 40-<=060' else\n",
    "                                                          '04_60_80' if x == '04 - 60-<=080' else\n",
    "                                                          '05_80_100' if x == '05 - 80-<=100' else\n",
    "                                                          '02_20_40' if x == 'NI'           else 'ERROR')\n",
    "\n",
    "  \n",
    "    df['MD_comb_bin'] = df['MD_comb'].apply(lambda x: 'Gasolina' if x == 'Gasolina'  else 'Demais')\n",
    "\n",
    "    df['canal_bin'] =  df['canal'].apply(lambda x: 'Corretor_Mais' if x == 'Corretor Mais' else \n",
    "                                                   'Corretor_Mais' if x == 'CorretorMais'\n",
    "                                                                   else    'Demais')\n",
    "   \n",
    "    df['per_com_bin'] = df['per_com'].apply(lambda x: 'p_1_10' if x < 10 else\n",
    "                                                      'p_10_35' if x >= 10 else 'ERROR')    \n",
    "\n",
    "\n",
    "\n",
    "    df['idade_ult_RNS_bin'] = df['idade_ult_RNS'].apply(lambda x:     'Sem_Sinistro' if x == 'Sem Sinistro' else\n",
    "                                                                      '01_05_anos' if x == '01 ano' else\n",
    "                                                                      '01_05_anos' if x == '02 anos' else\n",
    "                                                                      '01_05_anos' if x == '03 anos' else\n",
    "                                                                      '01_05_anos' if x == '04 anos' else\n",
    "                                                                      '01_05_anos' if x == '05 anos' else '06_inf')\n",
    "\n",
    "\n",
    "    df['UF_bin'] = df['UF'].apply(lambda x:     'AL_CE_RS'  if x == 'AL' else\n",
    "                                                'AL_CE_RS'  if x == 'CE' else\n",
    "                                                'AL_CE_RS'  if x == 'RS' else \n",
    "                                                'AP_DF_ES_PA_PB_RN_SC' if x == 'AP' else \n",
    "                                                'AP_DF_ES_PA_PB_RN_SC' if x == 'DF' else \n",
    "                                                'AP_DF_ES_PA_PB_RN_SC' if x == 'ES' else \n",
    "                                                'AP_DF_ES_PA_PB_RN_SC' if x == 'PA' else \n",
    "                                                'AP_DF_ES_PA_PB_RN_SC' if x == 'PB' else \n",
    "                                                'AP_DF_ES_PA_PB_RN_SC' if x == 'RN' else \n",
    "                                                'AP_DF_ES_PA_PB_RN_SC' if x == 'SC' else \n",
    "                                                'GO_MA_MG'             if x == 'GO' else \n",
    "                                                'GO_MA_MG'             if x == 'MA' else \n",
    "                                                'GO_MA_MG'             if x == 'MG' else \n",
    "                                                'MT_PR'                if x == 'MT' else\n",
    "                                                'MT_PR'                if x == 'PR' else \n",
    "                                                'RJ'                   if x == 'RJ' else  \n",
    "                                                'Demais')\n",
    "\n",
    "    df['md_tipo_renov_ant_bin'] = df['Renovacao_ant'].apply(lambda x:     '1_SeguroNovo'       if x == '1 - Seguro Novo'  else\n",
    "                                                                          '2_RenovPropria'     if x == '2 - Renov MAPFRE sem sinistro'   else\n",
    "                                                                          '2_RenovPropria'     if x == '3 - Renov MAPFRE com sinistro'   else\n",
    "                                                                          '3_RenovCongenere'   if x == '4 - Renov Congenere sem sinistro' else\n",
    "                                                                          '3_RenovCongenere'   if x == '5 - Renov Congenere com sinistro' else\n",
    "                                                                          '3_RenovCongenere'   if x == '6 - Renov BB sem sinistro' else\n",
    "                                                                          '3_RenovCongenere'   if x == '7 - Renov BB com sinistro' else  \n",
    "                                                                          '2_RenovPropria')\n",
    "  \n",
    "    df['MD_tipo_renov_bin'] = df['MD_tipo_renov'].apply(lambda x:          '2_RenovPropria_sem_sin'     if x == '2 - Renov MAPFRE sem sinistro'   else\n",
    "                                                                           '3_RenovPropria_com_sin'     if x == '3 - Renov MAPFRE com sinistro'   else\n",
    "                                                                           'Error')\n",
    "   \n",
    "     \n",
    "    df['Cod_End_bin'] = df['Cod_End'].apply(lambda x: '13509'  if x == 13509 else\n",
    "                                                      '13509'  if x == 50007 else\n",
    "                                                      '13509'  if x == 50100 else 'Demais')   \n",
    "\n",
    "    df['MD_capac_bin'] = df['MD_capac'].apply(lambda x: '5'  if x == 5  else 'Demais')  \n",
    "\n",
    "\n",
    "\n",
    "    df['fator_ajuste_bin'] = df['MD_fator_ajuste'].apply(lambda x: 'f_80_101'    if x < 101 else\n",
    "                                                                   'f_101_120'   if x >= 101  else \n",
    "                                                                   'f_80_101')   \n",
    "    \n",
    "    return df"
   ]
  },
  {
   "cell_type": "code",
   "execution_count": 15,
   "id": "6be2ddc6",
   "metadata": {},
   "outputs": [],
   "source": [
    "df_mod = categorizar(df_mod)"
   ]
  },
  {
   "cell_type": "code",
   "execution_count": 16,
   "id": "5772a3fe",
   "metadata": {},
   "outputs": [
    {
     "data": {
      "text/plain": [
       "(291023, 65)"
      ]
     },
     "execution_count": 16,
     "metadata": {},
     "output_type": "execute_result"
    }
   ],
   "source": [
    "df_train = df_mod.query('teste_validacao == \"Trein\"')\n",
    "df_train.shape"
   ]
  },
  {
   "cell_type": "code",
   "execution_count": 17,
   "id": "e68eea74",
   "metadata": {},
   "outputs": [],
   "source": [
    "df_train['Premio_IC_100']=df_train['Premio_IC100']"
   ]
  },
  {
   "cell_type": "code",
   "execution_count": 18,
   "id": "740b4b6a",
   "metadata": {},
   "outputs": [],
   "source": [
    "#df_cat_glm.columns.to_list()"
   ]
  },
  {
   "cell_type": "code",
   "execution_count": 19,
   "id": "76a01b69",
   "metadata": {},
   "outputs": [],
   "source": [
    "#print(df_train['fator_ajuste_bin'].value_counts(ascending=False)) "
   ]
  },
  {
   "cell_type": "code",
   "execution_count": 20,
   "id": "eadcfe51",
   "metadata": {},
   "outputs": [],
   "source": [
    "df_num = df_train[['premio', 'per_com', 'MD_tempo_casa_2', 'is_casco_ofer','Premio_IC_100','premio_anterior','GBM_mercado']]\n",
    "df_cat = df_train[['canal_bin', 'Cod_End_bin', 'fator_ajuste_bin', 'per_com_bin', 'classe_bonus_bin', 'UF_bin', 'MD_comb_bin', 'md_tipo_renov_ant_bin', 'fx_ir_12m_bin', 'MD_tipo_renov_bin','idade_ult_RNS_bin']]\n",
    "df_cat_y = df_train[['ind_renovacao']]\n",
    "df_cat_glm=pd.get_dummies(df_cat)\n",
    "df_cat_glm=pd.concat([df_cat_y,df_num, df_cat_glm],axis=1)"
   ]
  },
  {
   "cell_type": "code",
   "execution_count": 21,
   "id": "b9c248c1",
   "metadata": {
    "scrolled": true
   },
   "outputs": [],
   "source": [
    "#df_cat_glm.columns.to_list()"
   ]
  },
  {
   "cell_type": "code",
   "execution_count": 22,
   "id": "3f685fb1",
   "metadata": {},
   "outputs": [
    {
     "name": "stdout",
     "output_type": "stream",
     "text": [
      "Optimization terminated successfully.\n",
      "         Current function value: 0.560766\n",
      "         Iterations 6\n"
     ]
    },
    {
     "data": {
      "text/html": [
       "<table class=\"simpletable\">\n",
       "<caption>Logit Regression Results</caption>\n",
       "<tr>\n",
       "  <th>Dep. Variable:</th>     <td>ind_renovacao</td>  <th>  No. Observations:  </th>   <td>291023</td>   \n",
       "</tr>\n",
       "<tr>\n",
       "  <th>Model:</th>                 <td>Logit</td>      <th>  Df Residuals:      </th>   <td>290995</td>   \n",
       "</tr>\n",
       "<tr>\n",
       "  <th>Method:</th>                 <td>MLE</td>       <th>  Df Model:          </th>   <td>    27</td>   \n",
       "</tr>\n",
       "<tr>\n",
       "  <th>Date:</th>            <td>Thu, 22 Aug 2024</td> <th>  Pseudo R-squ.:     </th>   <td>0.1882</td>   \n",
       "</tr>\n",
       "<tr>\n",
       "  <th>Time:</th>                <td>00:45:50</td>     <th>  Log-Likelihood:    </th> <td>-1.6320e+05</td>\n",
       "</tr>\n",
       "<tr>\n",
       "  <th>converged:</th>             <td>True</td>       <th>  LL-Null:           </th> <td>-2.0104e+05</td>\n",
       "</tr>\n",
       "<tr>\n",
       "  <th>Covariance Type:</th>     <td>nonrobust</td>    <th>  LLR p-value:       </th>   <td> 0.000</td>   \n",
       "</tr>\n",
       "</table>\n",
       "<table class=\"simpletable\">\n",
       "<tr>\n",
       "                        <td></td>                          <th>coef</th>     <th>std err</th>      <th>z</th>      <th>P>|z|</th>  <th>[0.025</th>    <th>0.975]</th>  \n",
       "</tr>\n",
       "<tr>\n",
       "  <th>Intercept</th>                                    <td>    0.6010</td> <td>    0.118</td> <td>    5.092</td> <td> 0.000</td> <td>    0.370</td> <td>    0.832</td>\n",
       "</tr>\n",
       "<tr>\n",
       "  <th>np.log(premio)</th>                               <td>   -0.1513</td> <td>    0.014</td> <td>  -10.787</td> <td> 0.000</td> <td>   -0.179</td> <td>   -0.124</td>\n",
       "</tr>\n",
       "<tr>\n",
       "  <th>np.divide(premio, is_casco_ofer)</th>             <td>   -1.9242</td> <td>    0.240</td> <td>   -8.026</td> <td> 0.000</td> <td>   -2.394</td> <td>   -1.454</td>\n",
       "</tr>\n",
       "<tr>\n",
       "  <th>np.log(np.divide(premio, GBM_mercado))</th>       <td>   -0.9005</td> <td>    0.027</td> <td>  -33.026</td> <td> 0.000</td> <td>   -0.954</td> <td>   -0.847</td>\n",
       "</tr>\n",
       "<tr>\n",
       "  <th>np.log(np.divide(premio, Premio_IC_100))</th>     <td>   -0.9288</td> <td>    0.016</td> <td>  -56.652</td> <td> 0.000</td> <td>   -0.961</td> <td>   -0.897</td>\n",
       "</tr>\n",
       "<tr>\n",
       "  <th>np.log((np.divide(premio, premio_anterior)))</th> <td>   -1.1300</td> <td>    0.021</td> <td>  -53.769</td> <td> 0.000</td> <td>   -1.171</td> <td>   -1.089</td>\n",
       "</tr>\n",
       "<tr>\n",
       "  <th>np.log(MD_tempo_casa_2 + 1)</th>                  <td>    0.2656</td> <td>    0.012</td> <td>   21.292</td> <td> 0.000</td> <td>    0.241</td> <td>    0.290</td>\n",
       "</tr>\n",
       "<tr>\n",
       "  <th>per_com</th>                                      <td>    0.0110</td> <td>    0.001</td> <td>   12.324</td> <td> 0.000</td> <td>    0.009</td> <td>    0.013</td>\n",
       "</tr>\n",
       "<tr>\n",
       "  <th>per_com_bin_p_1_10</th>                           <td>    0.1572</td> <td>    0.026</td> <td>    6.132</td> <td> 0.000</td> <td>    0.107</td> <td>    0.207</td>\n",
       "</tr>\n",
       "<tr>\n",
       "  <th>canal_bin_Corretor_Mais</th>                      <td>    0.0683</td> <td>    0.011</td> <td>    6.422</td> <td> 0.000</td> <td>    0.047</td> <td>    0.089</td>\n",
       "</tr>\n",
       "<tr>\n",
       "  <th>Cod_End_bin_13509</th>                            <td>   -0.2266</td> <td>    0.015</td> <td>  -15.409</td> <td> 0.000</td> <td>   -0.255</td> <td>   -0.198</td>\n",
       "</tr>\n",
       "<tr>\n",
       "  <th>fator_ajuste_bin_f_101_120</th>                   <td>    0.1930</td> <td>    0.030</td> <td>    6.475</td> <td> 0.000</td> <td>    0.135</td> <td>    0.251</td>\n",
       "</tr>\n",
       "<tr>\n",
       "  <th>classe_bonus_bin_00</th>                          <td>   -0.2988</td> <td>    0.044</td> <td>   -6.731</td> <td> 0.000</td> <td>   -0.386</td> <td>   -0.212</td>\n",
       "</tr>\n",
       "<tr>\n",
       "  <th>UF_bin_AL_CE_RS</th>                              <td>   -0.2465</td> <td>    0.014</td> <td>  -17.533</td> <td> 0.000</td> <td>   -0.274</td> <td>   -0.219</td>\n",
       "</tr>\n",
       "<tr>\n",
       "  <th>UF_bin_AP_DF_ES_PA_PB_RN_SC</th>                  <td>   -0.2347</td> <td>    0.014</td> <td>  -16.351</td> <td> 0.000</td> <td>   -0.263</td> <td>   -0.207</td>\n",
       "</tr>\n",
       "<tr>\n",
       "  <th>UF_bin_GO_MA_MG</th>                              <td>   -0.0984</td> <td>    0.015</td> <td>   -6.418</td> <td> 0.000</td> <td>   -0.128</td> <td>   -0.068</td>\n",
       "</tr>\n",
       "<tr>\n",
       "  <th>UF_bin_MT_PR</th>                                 <td>   -0.1547</td> <td>    0.015</td> <td>  -10.460</td> <td> 0.000</td> <td>   -0.184</td> <td>   -0.126</td>\n",
       "</tr>\n",
       "<tr>\n",
       "  <th>UF_bin_RJ</th>                                    <td>    0.1750</td> <td>    0.021</td> <td>    8.213</td> <td> 0.000</td> <td>    0.133</td> <td>    0.217</td>\n",
       "</tr>\n",
       "<tr>\n",
       "  <th>MD_comb_bin_Gasolina</th>                         <td>    0.2990</td> <td>    0.020</td> <td>   14.802</td> <td> 0.000</td> <td>    0.259</td> <td>    0.339</td>\n",
       "</tr>\n",
       "<tr>\n",
       "  <th>md_tipo_renov_ant_bin_1_SeguroNovo</th>           <td>   -0.4524</td> <td>    0.017</td> <td>  -25.927</td> <td> 0.000</td> <td>   -0.487</td> <td>   -0.418</td>\n",
       "</tr>\n",
       "<tr>\n",
       "  <th>md_tipo_renov_ant_bin_3_RenovCongenere</th>       <td>   -0.1465</td> <td>    0.014</td> <td>  -10.767</td> <td> 0.000</td> <td>   -0.173</td> <td>   -0.120</td>\n",
       "</tr>\n",
       "<tr>\n",
       "  <th>fx_ir_12m_bin_01_00_20</th>                       <td>   -0.7454</td> <td>    0.018</td> <td>  -41.468</td> <td> 0.000</td> <td>   -0.781</td> <td>   -0.710</td>\n",
       "</tr>\n",
       "<tr>\n",
       "  <th>fx_ir_12m_bin_03_40_60</th>                       <td>    0.4683</td> <td>    0.010</td> <td>   45.047</td> <td> 0.000</td> <td>    0.448</td> <td>    0.489</td>\n",
       "</tr>\n",
       "<tr>\n",
       "  <th>fx_ir_12m_bin_04_60_80</th>                       <td>    1.1445</td> <td>    0.014</td> <td>   81.964</td> <td> 0.000</td> <td>    1.117</td> <td>    1.172</td>\n",
       "</tr>\n",
       "<tr>\n",
       "  <th>fx_ir_12m_bin_05_80_100</th>                      <td>    2.0254</td> <td>    0.026</td> <td>   79.360</td> <td> 0.000</td> <td>    1.975</td> <td>    2.075</td>\n",
       "</tr>\n",
       "<tr>\n",
       "  <th>MD_tipo_renov_bin_3_RenovPropria_com_sin</th>     <td>   -0.2652</td> <td>    0.022</td> <td>  -11.931</td> <td> 0.000</td> <td>   -0.309</td> <td>   -0.222</td>\n",
       "</tr>\n",
       "<tr>\n",
       "  <th>idade_ult_RNS_bin_01_05_anos</th>                 <td>   -0.4850</td> <td>    0.016</td> <td>  -30.586</td> <td> 0.000</td> <td>   -0.516</td> <td>   -0.454</td>\n",
       "</tr>\n",
       "<tr>\n",
       "  <th>idade_ult_RNS_bin_06_inf</th>                     <td>   -0.4300</td> <td>    0.014</td> <td>  -31.795</td> <td> 0.000</td> <td>   -0.457</td> <td>   -0.403</td>\n",
       "</tr>\n",
       "</table>"
      ],
      "text/plain": [
       "<class 'statsmodels.iolib.summary.Summary'>\n",
       "\"\"\"\n",
       "                           Logit Regression Results                           \n",
       "==============================================================================\n",
       "Dep. Variable:          ind_renovacao   No. Observations:               291023\n",
       "Model:                          Logit   Df Residuals:                   290995\n",
       "Method:                           MLE   Df Model:                           27\n",
       "Date:                Thu, 22 Aug 2024   Pseudo R-squ.:                  0.1882\n",
       "Time:                        00:45:50   Log-Likelihood:            -1.6320e+05\n",
       "converged:                       True   LL-Null:                   -2.0104e+05\n",
       "Covariance Type:            nonrobust   LLR p-value:                     0.000\n",
       "================================================================================================================\n",
       "                                                   coef    std err          z      P>|z|      [0.025      0.975]\n",
       "----------------------------------------------------------------------------------------------------------------\n",
       "Intercept                                        0.6010      0.118      5.092      0.000       0.370       0.832\n",
       "np.log(premio)                                  -0.1513      0.014    -10.787      0.000      -0.179      -0.124\n",
       "np.divide(premio, is_casco_ofer)                -1.9242      0.240     -8.026      0.000      -2.394      -1.454\n",
       "np.log(np.divide(premio, GBM_mercado))          -0.9005      0.027    -33.026      0.000      -0.954      -0.847\n",
       "np.log(np.divide(premio, Premio_IC_100))        -0.9288      0.016    -56.652      0.000      -0.961      -0.897\n",
       "np.log((np.divide(premio, premio_anterior)))    -1.1300      0.021    -53.769      0.000      -1.171      -1.089\n",
       "np.log(MD_tempo_casa_2 + 1)                      0.2656      0.012     21.292      0.000       0.241       0.290\n",
       "per_com                                          0.0110      0.001     12.324      0.000       0.009       0.013\n",
       "per_com_bin_p_1_10                               0.1572      0.026      6.132      0.000       0.107       0.207\n",
       "canal_bin_Corretor_Mais                          0.0683      0.011      6.422      0.000       0.047       0.089\n",
       "Cod_End_bin_13509                               -0.2266      0.015    -15.409      0.000      -0.255      -0.198\n",
       "fator_ajuste_bin_f_101_120                       0.1930      0.030      6.475      0.000       0.135       0.251\n",
       "classe_bonus_bin_00                             -0.2988      0.044     -6.731      0.000      -0.386      -0.212\n",
       "UF_bin_AL_CE_RS                                 -0.2465      0.014    -17.533      0.000      -0.274      -0.219\n",
       "UF_bin_AP_DF_ES_PA_PB_RN_SC                     -0.2347      0.014    -16.351      0.000      -0.263      -0.207\n",
       "UF_bin_GO_MA_MG                                 -0.0984      0.015     -6.418      0.000      -0.128      -0.068\n",
       "UF_bin_MT_PR                                    -0.1547      0.015    -10.460      0.000      -0.184      -0.126\n",
       "UF_bin_RJ                                        0.1750      0.021      8.213      0.000       0.133       0.217\n",
       "MD_comb_bin_Gasolina                             0.2990      0.020     14.802      0.000       0.259       0.339\n",
       "md_tipo_renov_ant_bin_1_SeguroNovo              -0.4524      0.017    -25.927      0.000      -0.487      -0.418\n",
       "md_tipo_renov_ant_bin_3_RenovCongenere          -0.1465      0.014    -10.767      0.000      -0.173      -0.120\n",
       "fx_ir_12m_bin_01_00_20                          -0.7454      0.018    -41.468      0.000      -0.781      -0.710\n",
       "fx_ir_12m_bin_03_40_60                           0.4683      0.010     45.047      0.000       0.448       0.489\n",
       "fx_ir_12m_bin_04_60_80                           1.1445      0.014     81.964      0.000       1.117       1.172\n",
       "fx_ir_12m_bin_05_80_100                          2.0254      0.026     79.360      0.000       1.975       2.075\n",
       "MD_tipo_renov_bin_3_RenovPropria_com_sin        -0.2652      0.022    -11.931      0.000      -0.309      -0.222\n",
       "idade_ult_RNS_bin_01_05_anos                    -0.4850      0.016    -30.586      0.000      -0.516      -0.454\n",
       "idade_ult_RNS_bin_06_inf                        -0.4300      0.014    -31.795      0.000      -0.457      -0.403\n",
       "================================================================================================================\n",
       "\"\"\""
      ]
     },
     "execution_count": 22,
     "metadata": {},
     "output_type": "execute_result"
    }
   ],
   "source": [
    "import statsmodels.formula.api as smf\n",
    "#Modelo GLM de retenção\n",
    "#formula =  'ind_renovacao ~ 1 + np.log(np.divide(premio, GBM_mercado)) ' \n",
    "formula =  'ind_renovacao ~ 1 + np.log(premio) +  np.divide(premio,is_casco_ofer) + np.log(np.divide(premio, GBM_mercado)) + np.log(np.divide(premio, Premio_IC_100))+ np.log((np.divide(premio, premio_anterior))) + np.log(MD_tempo_casa_2+1) + per_com + per_com_bin_p_1_10 + canal_bin_Corretor_Mais + Cod_End_bin_13509 + fator_ajuste_bin_f_101_120 + classe_bonus_bin_00 + UF_bin_AL_CE_RS + UF_bin_AP_DF_ES_PA_PB_RN_SC + UF_bin_GO_MA_MG + UF_bin_MT_PR + UF_bin_RJ + MD_comb_bin_Gasolina + md_tipo_renov_ant_bin_1_SeguroNovo + md_tipo_renov_ant_bin_3_RenovCongenere + fx_ir_12m_bin_01_00_20 + fx_ir_12m_bin_03_40_60 + fx_ir_12m_bin_04_60_80 + fx_ir_12m_bin_05_80_100 + MD_tipo_renov_bin_3_RenovPropria_com_sin + idade_ult_RNS_bin_01_05_anos + idade_ult_RNS_bin_06_inf ' \n",
    "#formula =  'ind_renovacao ~ 1 + np.log(premio) + np.divide(premio,is_casco_ofer) + np.log(np.divide(premio, Premio_IC100))+ np.log((np.divide(premio, premio_anterior))) + np.log(MD_tempo_casa_2+1) + per_com + per_com_bin_p_1_10 + canal_bin_Corretor_Mais + Cod_End_bin_13509 + fator_ajuste_bin_f_101_120 + classe_bonus_bin_00 + UF_bin_AL_CE_RS + UF_bin_AP_DF_ES_PA_PB_RN_SC + UF_bin_GO_MA_MG + UF_bin_MT_PR + UF_bin_RJ + MD_comb_bin_Gasolina + md_tipo_renov_ant_bin_1_SeguroNovo + md_tipo_renov_ant_bin_3_RenovCongenere + fx_ir_12m_bin_01_00_20 + fx_ir_12m_bin_03_40_60 + fx_ir_12m_bin_04_60_80 + fx_ir_12m_bin_05_80_100 + MD_tipo_renov_bin_3_RenovPropria_com_sin + idade_ult_RNS_bin_01_05_anos + idade_ult_RNS_bin_06_inf ' \n",
    "model_glm = smf.logit(formula , data=df_cat_glm).fit()\n",
    "model_glm.summary()"
   ]
  },
  {
   "cell_type": "code",
   "execution_count": 23,
   "id": "bc915f8e",
   "metadata": {},
   "outputs": [],
   "source": [
    "#df_train[\"prob_est\"]=model.predict(df_train)"
   ]
  },
  {
   "cell_type": "markdown",
   "id": "808c929f",
   "metadata": {},
   "source": [
    "## Base Para escorar e otimizar"
   ]
  },
  {
   "cell_type": "code",
   "execution_count": 24,
   "id": "4db117b5",
   "metadata": {},
   "outputs": [],
   "source": [
    "#df_lote_092024 = pd.read_csv(\"C://Flavio/Projeto Otimizacao/Otimizacao/Table 7 Base Case Total  - teste novo.csv\","
   ]
  },
  {
   "cell_type": "code",
   "execution_count": 25,
   "id": "daae90ef",
   "metadata": {},
   "outputs": [],
   "source": [
    "df_lote_102024 = pd.read_csv(\"C://Flavio/Projeto Otimizacao/Otimizacao/data table - Otimização Atuarial Segmentacao Earnix.csv\",\n",
    "                     encoding='latin-1',\n",
    "                     delimiter='|')\n",
    "\n",
    "df_lote_102024['GBM_mercado']  = df_lote_102024['GBM_mercado']/(1-df_lote_102024['per_com']/100)"
   ]
  },
  {
   "cell_type": "code",
   "execution_count": 26,
   "id": "60265ed3",
   "metadata": {},
   "outputs": [
    {
     "data": {
      "text/plain": [
       "0.5075687198952625"
      ]
     },
     "execution_count": 26,
     "metadata": {},
     "output_type": "execute_result"
    }
   ],
   "source": [
    "np.mean(df_lote_102024['Renewal Demand'])"
   ]
  },
  {
   "cell_type": "code",
   "execution_count": 27,
   "id": "1cb3a37a",
   "metadata": {},
   "outputs": [],
   "source": [
    "#df_lote_102024.groupby(['Amostra_2'])['Premio_oferecido_com_batente','Premium Parameter','Mercado_Mediana','GBM_mercado',\"Renewal Demand\"].describe().T"
   ]
  },
  {
   "cell_type": "code",
   "execution_count": 28,
   "id": "403e8ca1",
   "metadata": {},
   "outputs": [],
   "source": [
    "#df_lote_092024.columns.to_list()"
   ]
  },
  {
   "cell_type": "code",
   "execution_count": 29,
   "id": "451a4bb1",
   "metadata": {},
   "outputs": [],
   "source": [
    "df_lote_escorar=df_lote_102024.copy()"
   ]
  },
  {
   "cell_type": "code",
   "execution_count": 30,
   "id": "f211fcfc",
   "metadata": {},
   "outputs": [],
   "source": [
    "df_lote_escorar[\"premio\"] = df_lote_escorar[\"Premio_oferecido_com_batente\"]"
   ]
  },
  {
   "cell_type": "code",
   "execution_count": 31,
   "id": "6a23c83a",
   "metadata": {},
   "outputs": [],
   "source": [
    "df_lote_escorar.rename(columns={'Pr_anterior_TI':'premio_anterior', \n",
    "                                   'cod_end': 'Cod_End',\n",
    "                                   'md_capac': 'MD_capac',\n",
    "                                   'Classe_bonus':'classe_bonus',\n",
    "                                   'fator_ajuste': 'MD_fator_ajuste'},inplace=True)"
   ]
  },
  {
   "cell_type": "code",
   "execution_count": 32,
   "id": "0edd9824",
   "metadata": {},
   "outputs": [],
   "source": [
    "df_lote = categorizar(df_lote_escorar)"
   ]
  },
  {
   "cell_type": "code",
   "execution_count": 33,
   "id": "29b87316",
   "metadata": {},
   "outputs": [],
   "source": [
    "#df_num = df_train[['premio', 'per_com', 'MD_tempo_casa_2', 'is_casco_ofer','Premio_IC100','premio_anterior']]\n",
    "#df_cat = df_train[['canal_bin', 'Cod_End_bin', 'fator_ajuste_bin', 'per_com_bin', 'classe_bonus_bin', 'UF_bin', 'MD_comb_bin', 'md_tipo_renov_ant_bin', 'fx_ir_12m_bin', 'MD_tipo_renov_bin','idade_ult_RNS_bin']]\n",
    "#df_cat_y = df_train[['ind_renovacao']]\n",
    "#df_cat_glm=pd.get_dummies(df_cat)\n",
    "#df_cat_glm=pd.concat([df_lote_escorar, df_cat_glm],axis=1)"
   ]
  },
  {
   "cell_type": "code",
   "execution_count": 34,
   "id": "8ad2c6be",
   "metadata": {},
   "outputs": [
    {
     "data": {
      "text/plain": [
       "(1459, 137)"
      ]
     },
     "execution_count": 34,
     "metadata": {},
     "output_type": "execute_result"
    }
   ],
   "source": [
    "df_lote.shape"
   ]
  },
  {
   "cell_type": "code",
   "execution_count": 35,
   "id": "1d892d4f",
   "metadata": {},
   "outputs": [],
   "source": [
    "df_cat = df_lote[['canal_bin', 'Cod_End_bin', 'fator_ajuste_bin', 'per_com_bin', 'classe_bonus_bin', 'UF_bin', 'MD_comb_bin', 'md_tipo_renov_ant_bin', 'fx_ir_12m_bin', 'MD_tipo_renov_bin','idade_ult_RNS_bin']]\n",
    "df_cat_glm=pd.get_dummies(df_cat)\n",
    "df_lote=pd.concat([df_lote,df_cat_glm],axis=1)"
   ]
  },
  {
   "cell_type": "code",
   "execution_count": 36,
   "id": "672a71b3",
   "metadata": {},
   "outputs": [],
   "source": [
    "#df_cat_glm2.columns.to_list()"
   ]
  },
  {
   "cell_type": "code",
   "execution_count": 37,
   "id": "3a7f6f2c",
   "metadata": {},
   "outputs": [],
   "source": [
    "df_lote[\"Demanda_base\"]=model_glm.predict(df_lote)\n",
    "df_lote[\"per_com_pct\"] = df_lote['per_com']/100\n",
    "df_lote[\"premio_prob\"] = df_lote[\"Demanda_base\"]*df_lote[\"premio\"]\n",
    "df_lote[\"premio_anterior_prob\"] = df_lote[\"Demanda_base\"]*df_lote[\"premio_anterior\"]\n",
    "df_lote[\"Act_cost_prob\"] = df_lote[\"Demanda_base\"]*df_lote[\"Act_cost\"]                                                                \n",
    "df_lote[\"comissao_valor\"] = df_lote[\"per_com_pct\"] *df_lote[\"premio\"]\n",
    "df_lote[\"comissao_valor_prob\"] = df_lote[\"per_com_pct\"] *df_lote[\"premio_prob\"]\n",
    "df_lote[\"per_com_pct\"] = df_lote['per_com']/100"
   ]
  },
  {
   "cell_type": "code",
   "execution_count": null,
   "id": "a6513ef3",
   "metadata": {},
   "outputs": [],
   "source": [
    "('TUT_Premium'-'TARIFA')/'TARIFA' (offered)\tRelative Core Optimization Increase [Offered]\n",
    "('TUT_Premium'-'TARIFA')/'TARIFA' (written)\tRelative Core Optimization Increase [Written]\n",
    "TUT_Premium'-'TUT_Previous Premium'  (offered) / renewal Demand\tCore Premium Increase [Offered]\n",
    "TUT_Premium'-'TUT_Previous Premium' (written)  / Renewal Demand\tCore Premium Increase [Written]\n",
    "Actuarial Cost Parameter\tRisco Oferecido\n",
    "Actuarial Cost Parameter\tRisco Renovado\n",
    "per_com_'/100*'Premium Parameter' / 'per_com_'/100*'Premium Parameter' (Offered)\t% Comissão Oferecida\n",
    "per_com_'/100*'Premium Parameter' / 'per_com_'/100*'Premium Parameter' (Written)\t% Comissão Renovado\n",
    "Actuarial Cost Parameter / Premium Parameter (Offered)\tLoss Ratio [%] - Offered (TW)\n",
    "Actuarial Cost Parameter / Premium Parameter (Written)\tLoss Ratio [%] - Written (TW)\n",
    "('Premium Parameter'*('per_com_'/100+'Coef_Carregamento_Produção')+'Act_cost_TW') / Premium Parameter (Offered)\tCombined Ratio [%] - Offered\n",
    "('Premium Parameter'*('per_com_'/100+'Coef_Carregamento_Produção')+'Act_cost_TW') / Premium Parameter (Written)\tCombined Ratio [%] - Written\n"
   ]
  },
  {
   "cell_type": "code",
   "execution_count": null,
   "id": "c0b2ba9c",
   "metadata": {},
   "outputs": [],
   "source": [
    "Relative_Core_Optimization_Increase_Offered"
   ]
  },
  {
   "cell_type": "code",
   "execution_count": null,
   "id": "5e5b4e41",
   "metadata": {},
   "outputs": [],
   "source": [
    "#df_lote.groupby([\"Amostra\"])[\"prob_est\" , \"Renewal Demand\"].describe().T"
   ]
  },
  {
   "cell_type": "code",
   "execution_count": 38,
   "id": "6f9a5da6",
   "metadata": {},
   "outputs": [
    {
     "name": "stdout",
     "output_type": "stream",
     "text": [
      "Apolices Ofertadas: 1459\n",
      "Apolices Renovadas: 732.0\n",
      "premio_ofertado: 2993.3\n",
      "retencao_estimada : 50.16\n",
      "premio_esperado\" : 2454.63\n",
      "risco_ofertado\" : 1726.89\n",
      "risco_esperado\" : 1389.03\n",
      "sp_ofertado\" : 57.69\n",
      "sp_esperado\" : 56.59\n",
      "ic_ofertado\" : 100.78\n",
      "ic_esperado\" : 99.88\n",
      "premio_anterior: 2863.09\n",
      "premio_anterior_w: 2623.47\n"
     ]
    }
   ],
   "source": [
    "apolice_ofertada  = np.round(df_lote.shape[0],0)\n",
    "apolice_estimada  = np.round(np.sum(df_lote[\"Demanda_base\"]),0)\n",
    "premio_ofertado   = np.mean(df_lote[\"premio\"])\n",
    "retencao_estimada = np.mean(df_lote[\"Demanda_base\"])\n",
    "premio_esperado   = np.sum(df_lote[\"premio_prob\"])/np.sum(df_lote[\"Demanda_base\"])\n",
    "risco_ofertado    = np.mean(df_lote[\"Act_cost\"])\n",
    "risco_esperado    = np.sum(df_lote[\"Act_cost_prob\"])/np.sum(df_lote[\"Demanda_base\"])\n",
    "sp_ofertado       = np.sum(df_lote[\"Act_cost\"])/np.sum(df_lote[\"premio\"])\n",
    "sp_esperado       = np.sum(df_lote[\"Act_cost_prob\"])/np.sum(df_lote[\"premio_prob\"])\n",
    "comis_ofertado    = np.sum(df_lote[\"comissao_valor\"])/np.sum(df_lote[\"premio\"])\n",
    "comis_esperado    = np.sum(df_lote[\"comissao_valor_prob\"])/np.sum(df_lote[\"premio_prob\"])\n",
    "\n",
    "\n",
    "\n",
    "premio_anterior   = np.mean(df_lote[\"premio_anterior\"])\n",
    "premio_anterior_w   = np.sum(df_lote[\"premio_anterior_prob\"])/np.sum(df_lote[\"Demanda_base\"])\n",
    "\n",
    "ic_ofertado       =  sp_ofertado  +  comis_ofertado + 0.2749\n",
    "ic_esperado       =  sp_esperado  +  comis_esperado + 0.2749\n",
    "print('Apolices Ofertadas: %s' % apolice_ofertada)\n",
    "print('Apolices Renovadas: %s' % apolice_estimada)\n",
    "print('premio_ofertado: %s' % np.round(premio_ofertado,2))\n",
    "print('retencao_estimada : %s' % np.round(retencao_estimada*100,2))\n",
    "print('premio_esperado\" : %s'  %np.round( premio_esperado,2))\n",
    "print('risco_ofertado\" : %s'  %  np.round(risco_ofertado,2))\n",
    "print('risco_esperado\" : %s'  %  np.round(risco_esperado,2))\n",
    "print('sp_ofertado\" : %s'  % np.round(sp_ofertado*100,2))\n",
    "print('sp_esperado\" : %s'  % np.round(sp_esperado*100,2))\n",
    "print('ic_ofertado\" : %s'  % np.round(ic_ofertado*100,2))\n",
    "print('ic_esperado\" : %s'  % np.round(ic_esperado*100,2))\n",
    "print('premio_anterior: %s' % np.round(premio_anterior,2))\n",
    "print('premio_anterior_w: %s' % np.round(premio_anterior_w,2))\n"
   ]
  },
  {
   "cell_type": "code",
   "execution_count": 39,
   "id": "a03d266d",
   "metadata": {},
   "outputs": [
    {
     "data": {
      "text/plain": [
       "0.5075687198952625"
      ]
     },
     "execution_count": 39,
     "metadata": {},
     "output_type": "execute_result"
    }
   ],
   "source": [
    "np.mean(df_lote_102024['Renewal Demand'])"
   ]
  },
  {
   "cell_type": "markdown",
   "id": "a34b6c2a",
   "metadata": {},
   "source": [
    "## Otimização Teste "
   ]
  },
  {
   "cell_type": "code",
   "execution_count": 40,
   "id": "4101922e",
   "metadata": {},
   "outputs": [],
   "source": [
    "#print(df_lote['canal'].value_counts(ascending=False))"
   ]
  },
  {
   "cell_type": "code",
   "execution_count": 41,
   "id": "de7683ff",
   "metadata": {
    "scrolled": true
   },
   "outputs": [
    {
     "data": {
      "text/plain": [
       "(1459, 175)"
      ]
     },
     "execution_count": 41,
     "metadata": {},
     "output_type": "execute_result"
    }
   ],
   "source": [
    "#df_lote_otim=df_mod.copy()\n",
    "df_lote_otim_atu = df_lote.query('Amostra_2 == \"Segmentacao\"')\n",
    "df_lote_otim_atu.shape"
   ]
  },
  {
   "cell_type": "code",
   "execution_count": 42,
   "id": "17825e07",
   "metadata": {},
   "outputs": [],
   "source": [
    "#df_lote_otim_atu.groupby([\"Amostra\"])[\"Demanda_base\"].describe().T"
   ]
  },
  {
   "cell_type": "code",
   "execution_count": 43,
   "id": "7b833c3c",
   "metadata": {},
   "outputs": [],
   "source": [
    "#df_lote_otim = df_lote_otim_atu.sample(n =100) \n",
    "#df_lote_otim.shape"
   ]
  },
  {
   "cell_type": "code",
   "execution_count": 44,
   "id": "691bcaa0",
   "metadata": {},
   "outputs": [
    {
     "data": {
      "text/plain": [
       "(1459, 175)"
      ]
     },
     "execution_count": 44,
     "metadata": {},
     "output_type": "execute_result"
    }
   ],
   "source": [
    "df_lote_otim = df_lote_otim_atu\n",
    "df_lote_otim.shape"
   ]
  },
  {
   "cell_type": "code",
   "execution_count": 45,
   "id": "47305a72",
   "metadata": {},
   "outputs": [
    {
     "data": {
      "text/plain": [
       "0.5075687198952625"
      ]
     },
     "execution_count": 45,
     "metadata": {},
     "output_type": "execute_result"
    }
   ],
   "source": [
    "np.mean(df_lote_otim['Renewal Demand'])"
   ]
  },
  {
   "cell_type": "code",
   "execution_count": 46,
   "id": "e88cc6ef",
   "metadata": {},
   "outputs": [
    {
     "data": {
      "text/plain": [
       "0.5015768113336583"
      ]
     },
     "execution_count": 46,
     "metadata": {},
     "output_type": "execute_result"
    }
   ],
   "source": [
    "np.mean(df_lote_otim['Demanda_base'])"
   ]
  },
  {
   "cell_type": "markdown",
   "id": "bc7f4798",
   "metadata": {},
   "source": [
    "#########################################"
   ]
  },
  {
   "cell_type": "code",
   "execution_count": 47,
   "id": "1f7d361c",
   "metadata": {},
   "outputs": [
    {
     "name": "stdout",
     "output_type": "stream",
     "text": [
      "Apolices Ofertadas: 1459\n",
      "Apolices Renovadas: 732.0\n",
      "premio_ofertado: 2993.3\n",
      "retencao_estimada : 50.16\n",
      "premio_esperado\" : 2454.63\n",
      "risco_ofertado\" : 1726.89\n",
      "risco_esperado\" : 1389.03\n",
      "sp_ofertado\" : 57.69\n",
      "sp_esperado\" : 56.59\n",
      "ic_ofertado\" : 100.78\n",
      "ic_esperado\" : 99.88\n"
     ]
    }
   ],
   "source": [
    "df_relatorio_bc = df_lote_otim.copy()\n",
    "\n",
    "df_relatorio_bc[\"per_com_pct\"] = df_relatorio_bc['per_com']/100\n",
    "df_relatorio_bc[\"premio_prob\"] = df_relatorio_bc[\"Demanda_base\"]*df_relatorio_bc[\"premio\"]\n",
    "df_relatorio_bc[\"Act_cost_prob\"] = df_relatorio_bc[\"Demanda_base\"]*df_relatorio_bc[\"Act_cost\"]                                                                \n",
    "df_relatorio_bc[\"comissao_valor\"] = df_relatorio_bc[\"per_com_pct\"] *df_relatorio_bc[\"premio\"]\n",
    "df_relatorio_bc[\"comissao_valor_prob\"] = df_relatorio_bc[\"per_com_pct\"] *df_relatorio_bc[\"premio_prob\"]\n",
    "\n",
    "apolice_ofertada  = np.round(df_relatorio_bc.shape[0],0)\n",
    "apolice_estimada  = np.round(np.sum(df_relatorio_bc[\"Demanda_base\"]),0)\n",
    "premio_ofertado   = np.mean(df_relatorio_bc[\"premio\"])\n",
    "retencao_estimada = np.mean(df_relatorio_bc[\"Demanda_base\"])\n",
    "premio_esperado   = np.sum(df_relatorio_bc[\"premio_prob\"])/np.sum(df_relatorio_bc[\"Demanda_base\"])\n",
    "risco_ofertado    = np.mean(df_relatorio_bc[\"Act_cost\"])\n",
    "risco_esperado    = np.sum(df_relatorio_bc[\"Act_cost_prob\"])/np.sum(df_relatorio_bc[\"Demanda_base\"])\n",
    "sp_ofertado       = np.sum(df_relatorio_bc[\"Act_cost\"])/np.sum(df_relatorio_bc[\"premio\"])\n",
    "sp_esperado       = np.sum(df_relatorio_bc[\"Act_cost_prob\"])/np.sum(df_relatorio_bc[\"premio_prob\"])\n",
    "comis_ofertado    = np.sum(df_relatorio_bc[\"comissao_valor\"])/np.sum(df_relatorio_bc[\"premio\"])\n",
    "comis_esperado    = np.sum(df_relatorio_bc[\"comissao_valor_prob\"])/np.sum(df_relatorio_bc[\"premio_prob\"])\n",
    "ic_ofertado       =  sp_ofertado  +  comis_ofertado + 0.2749\n",
    "ic_esperado       =  sp_esperado  +  comis_esperado + 0.2749\n",
    "\n",
    "print('Apolices Ofertadas: %s' % apolice_ofertada)\n",
    "print('Apolices Renovadas: %s' % apolice_estimada)\n",
    "print('premio_ofertado: %s' % np.round(premio_ofertado,2))\n",
    "print('retencao_estimada : %s' % np.round(retencao_estimada*100,2))\n",
    "print('premio_esperado\" : %s'  %np.round( premio_esperado,2))\n",
    "print('risco_ofertado\" : %s'  %  np.round(risco_ofertado,2))\n",
    "print('risco_esperado\" : %s'  %  np.round(risco_esperado,2))\n",
    "print('sp_ofertado\" : %s'  % np.round(sp_ofertado*100,2))\n",
    "print('sp_esperado\" : %s'  % np.round(sp_esperado*100,2))\n",
    "print('ic_ofertado\" : %s'  % np.round(ic_ofertado*100,2))\n",
    "print('ic_esperado\" : %s'  % np.round(ic_esperado*100,2))"
   ]
  },
  {
   "cell_type": "code",
   "execution_count": 48,
   "id": "a3bde6e0",
   "metadata": {},
   "outputs": [
    {
     "data": {
      "text/plain": [
       "0.5075687198952625"
      ]
     },
     "execution_count": 48,
     "metadata": {},
     "output_type": "execute_result"
    }
   ],
   "source": [
    "np.mean(df_relatorio_bc['Renewal Demand'])"
   ]
  },
  {
   "cell_type": "code",
   "execution_count": 49,
   "id": "92804fc7",
   "metadata": {},
   "outputs": [
    {
     "data": {
      "text/plain": [
       "0.5015768113336583"
      ]
     },
     "execution_count": 49,
     "metadata": {},
     "output_type": "execute_result"
    }
   ],
   "source": [
    "np.mean(df_relatorio_bc['Demanda_base'])"
   ]
  },
  {
   "cell_type": "code",
   "execution_count": 50,
   "id": "15e39932",
   "metadata": {},
   "outputs": [],
   "source": [
    "#df2 = df[['premio','is_casco_ofer','Cod_End_bin_Demais','Act_cost']]"
   ]
  },
  {
   "cell_type": "code",
   "execution_count": 51,
   "id": "605c3b84",
   "metadata": {},
   "outputs": [],
   "source": [
    "#df2.to_excel(r'analise_teste.xlsx',  header='true')"
   ]
  },
  {
   "cell_type": "code",
   "execution_count": 52,
   "id": "a9dd7163",
   "metadata": {},
   "outputs": [],
   "source": [
    "#v2=np.mean(df2['is_casco_ofer'])\n",
    "#indicadora = np.array(df2['Cod_End_bin_Demais']) \n",
    "#precos_iniciais = np.array(df2['premio']) "
   ]
  },
  {
   "cell_type": "code",
   "execution_count": 53,
   "id": "f38bed03",
   "metadata": {},
   "outputs": [],
   "source": [
    "#[x for x in df.columns if \"com_bin\" in x]"
   ]
  },
  {
   "cell_type": "code",
   "execution_count": 54,
   "id": "da24f46d",
   "metadata": {},
   "outputs": [],
   "source": [
    "#df.chave.dtypes"
   ]
  },
  {
   "cell_type": "code",
   "execution_count": 56,
   "id": "6406c5bc",
   "metadata": {},
   "outputs": [],
   "source": [
    "df2 = df_lote_otim\n",
    "\n",
    "P2=(df2['premio'])\n",
    "#P2 = precos_otimizados\n",
    "X1=np.array(df2['is_casco_ofer'])\n",
    "X2=np.array(df2['GBM_mercado'])\n",
    "X3=np.array(df2['Premio_IC_100'])\n",
    "X4=np.array(df2['premio_anterior'])\n",
    "X5=np.array(df2['MD_tempo_casa_2'])\n",
    "X6=np.array(df2['per_com'])\n",
    "X7=np.array(df2['per_com_bin_p_1_10'])\n",
    "X8=np.array(df2['canal_bin_Corretor_Mais'])\n",
    "X9=np.array(df2['Cod_End_bin_13509'])\n",
    "X10=np.array(df2['fator_ajuste_bin_f_101_120'])\n",
    "X11=np.array(df2['classe_bonus_bin_00'])\n",
    "X12=np.array(df2['UF_bin_AL_CE_RS'])\n",
    "X13=np.array(df2['UF_bin_AP_DF_ES_PA_PB_RN_SC'])\n",
    "X14=np.array(df2['UF_bin_GO_MA_MG'])\n",
    "X15=np.array(df2['UF_bin_MT_PR'])\n",
    "X16=np.array(df2['UF_bin_RJ'])\n",
    "X17=np.array(df2['MD_comb_bin_Gasolina'])\n",
    "X18=np.array(df2['md_tipo_renov_ant_bin_1_SeguroNovo'])\n",
    "X19=np.array(df2['md_tipo_renov_ant_bin_3_RenovCongenere'])\n",
    "X20=np.array(df2['fx_ir_12m_bin_01_00_20'])\n",
    "X21=np.array(df2['fx_ir_12m_bin_03_40_60'])\n",
    "X22=np.array(df2['fx_ir_12m_bin_04_60_80'])\n",
    "X23=np.array(df2['fx_ir_12m_bin_05_80_100'])\n",
    "X24=np.array(df2['MD_tipo_renov_bin_3_RenovPropria_com_sin'])\n",
    "X25=np.array(df2['idade_ult_RNS_bin_01_05_anos'])\n",
    "X26=np.array(df2['idade_ult_RNS_bin_06_inf'])\n",
    "\n",
    "def demanda(P2,X1,X2,X3,X4,X5,X6,X7,X8,X9,X10,X11,X12,X13,X14,X15,X16,X17,X18,X19,X20,X21,X22,X23,X24,X25,X26):\n",
    "    D=np.exp(0.601-0.1513 * np.log(P2)-1.9242 * np.divide(P2, X1)-0.9005 * np.log(np.divide(P2, X2))-0.9288 * np.log(np.divide(P2, X3))-1.13 * np.log((np.divide(P2, X4)))  + 0.2656 * np.log(X5 + 1)  + 0.011 * X6  + 0.1572 * X7  + 0.0683 * X8-0.2266 * X9  + 0.193 * X10-0.2988 * X11-0.2465 * X12-0.2347 * X13-0.0984 * X14-0.1547 * X15  + 0.175 * X16  + 0.299 * X17-0.4524 * X18-0.1465 * X19-0.7454 * X20  + 0.4683 * X21  + 1.1445 * X22  + 2.0254 * X23-0.2652 * X24-0.485*X25-0.43 * X26)\n",
    "    return D/(1+D)"
   ]
  },
  {
   "cell_type": "code",
   "execution_count": 57,
   "id": "279a431f",
   "metadata": {},
   "outputs": [
    {
     "data": {
      "text/plain": [
       "2993.303855515689"
      ]
     },
     "execution_count": 57,
     "metadata": {},
     "output_type": "execute_result"
    }
   ],
   "source": [
    "np.mean(P2)"
   ]
  },
  {
   "cell_type": "code",
   "execution_count": 58,
   "id": "d41a3e95",
   "metadata": {},
   "outputs": [
    {
     "data": {
      "text/plain": [
       "0.5015731841949308"
      ]
     },
     "execution_count": 58,
     "metadata": {},
     "output_type": "execute_result"
    }
   ],
   "source": [
    "demanda(P2,X1,X2,X3,X4,X5,X6,X7,X8,X9,X10,X11,X12,X13,X14,X15,X16,X17,X18,X19,X20,X21,X22,X23,X24,X25,X26).mean()"
   ]
  },
  {
   "cell_type": "code",
   "execution_count": 60,
   "id": "420e092a",
   "metadata": {},
   "outputs": [],
   "source": [
    "df = df_lote_otim\n",
    "\n",
    "#P2=(df2['premio'])\n",
    "#P2 = precos_otimizados\n",
    "X1=np.array(df2['is_casco_ofer'])\n",
    "X2=np.array(df2['GBM_mercado'])\n",
    "X3=np.array(df2['Premio_IC_100'])\n",
    "X4=np.array(df2['premio_anterior'])\n",
    "X5=np.array(df2['MD_tempo_casa_2'])\n",
    "X6=np.array(df2['per_com'])\n",
    "X7=np.array(df2['per_com_bin_p_1_10'])\n",
    "X8=np.array(df2['canal_bin_Corretor_Mais'])\n",
    "X9=np.array(df2['Cod_End_bin_13509'])\n",
    "X10=np.array(df2['fator_ajuste_bin_f_101_120'])\n",
    "X11=np.array(df2['classe_bonus_bin_00'])\n",
    "X12=np.array(df2['UF_bin_AL_CE_RS'])\n",
    "X13=np.array(df2['UF_bin_AP_DF_ES_PA_PB_RN_SC'])\n",
    "X14=np.array(df2['UF_bin_GO_MA_MG'])\n",
    "X15=np.array(df2['UF_bin_MT_PR'])\n",
    "X16=np.array(df2['UF_bin_RJ'])\n",
    "X17=np.array(df2['MD_comb_bin_Gasolina'])\n",
    "X18=np.array(df2['md_tipo_renov_ant_bin_1_SeguroNovo'])\n",
    "X19=np.array(df2['md_tipo_renov_ant_bin_3_RenovCongenere'])\n",
    "X20=np.array(df2['fx_ir_12m_bin_01_00_20'])\n",
    "X21=np.array(df2['fx_ir_12m_bin_03_40_60'])\n",
    "X22=np.array(df2['fx_ir_12m_bin_04_60_80'])\n",
    "X23=np.array(df2['fx_ir_12m_bin_05_80_100'])\n",
    "X24=np.array(df2['MD_tipo_renov_bin_3_RenovPropria_com_sin'])\n",
    "X25=np.array(df2['idade_ult_RNS_bin_01_05_anos'])\n",
    "X26=np.array(df2['idade_ult_RNS_bin_06_inf'])\n"
   ]
  },
  {
   "cell_type": "code",
   "execution_count": 67,
   "id": "eab41b1e",
   "metadata": {},
   "outputs": [
    {
     "ename": "ValueError",
     "evalue": "shapes (1,2) and (1459,) not aligned: 2 (dim 1) != 1459 (dim 0)",
     "output_type": "error",
     "traceback": [
      "\u001b[1;31m---------------------------------------------------------------------------\u001b[0m",
      "\u001b[1;31mValueError\u001b[0m                                Traceback (most recent call last)",
      "File \u001b[1;32m<timed exec>:53\u001b[0m\n",
      "File \u001b[1;32mC:\\ProgramData\\anaconda3\\lib\\site-packages\\scipy\\optimize\\_differentialevolution.py:382\u001b[0m, in \u001b[0;36mdifferential_evolution\u001b[1;34m(func, bounds, args, strategy, maxiter, popsize, tol, mutation, recombination, seed, callback, disp, polish, init, atol, updating, workers, constraints, x0, integrality, vectorized)\u001b[0m\n\u001b[0;32m     29\u001b[0m \u001b[38;5;250m\u001b[39m\u001b[38;5;124;03m\"\"\"Finds the global minimum of a multivariate function.\u001b[39;00m\n\u001b[0;32m     30\u001b[0m \n\u001b[0;32m     31\u001b[0m \u001b[38;5;124;03mThe differential evolution method [1]_ is stochastic in nature. It does\u001b[39;00m\n\u001b[1;32m   (...)\u001b[0m\n\u001b[0;32m    377\u001b[0m \n\u001b[0;32m    378\u001b[0m \u001b[38;5;124;03m\"\"\"\u001b[39;00m\n\u001b[0;32m    380\u001b[0m \u001b[38;5;66;03m# using a context manager means that any created Pool objects are\u001b[39;00m\n\u001b[0;32m    381\u001b[0m \u001b[38;5;66;03m# cleared up.\u001b[39;00m\n\u001b[1;32m--> 382\u001b[0m \u001b[38;5;28;01mwith\u001b[39;00m \u001b[43mDifferentialEvolutionSolver\u001b[49m\u001b[43m(\u001b[49m\u001b[43mfunc\u001b[49m\u001b[43m,\u001b[49m\u001b[43m \u001b[49m\u001b[43mbounds\u001b[49m\u001b[43m,\u001b[49m\u001b[43m \u001b[49m\u001b[43margs\u001b[49m\u001b[38;5;241;43m=\u001b[39;49m\u001b[43margs\u001b[49m\u001b[43m,\u001b[49m\n\u001b[0;32m    383\u001b[0m \u001b[43m                                 \u001b[49m\u001b[43mstrategy\u001b[49m\u001b[38;5;241;43m=\u001b[39;49m\u001b[43mstrategy\u001b[49m\u001b[43m,\u001b[49m\n\u001b[0;32m    384\u001b[0m \u001b[43m                                 \u001b[49m\u001b[43mmaxiter\u001b[49m\u001b[38;5;241;43m=\u001b[39;49m\u001b[43mmaxiter\u001b[49m\u001b[43m,\u001b[49m\n\u001b[0;32m    385\u001b[0m \u001b[43m                                 \u001b[49m\u001b[43mpopsize\u001b[49m\u001b[38;5;241;43m=\u001b[39;49m\u001b[43mpopsize\u001b[49m\u001b[43m,\u001b[49m\u001b[43m \u001b[49m\u001b[43mtol\u001b[49m\u001b[38;5;241;43m=\u001b[39;49m\u001b[43mtol\u001b[49m\u001b[43m,\u001b[49m\n\u001b[0;32m    386\u001b[0m \u001b[43m                                 \u001b[49m\u001b[43mmutation\u001b[49m\u001b[38;5;241;43m=\u001b[39;49m\u001b[43mmutation\u001b[49m\u001b[43m,\u001b[49m\n\u001b[0;32m    387\u001b[0m \u001b[43m                                 \u001b[49m\u001b[43mrecombination\u001b[49m\u001b[38;5;241;43m=\u001b[39;49m\u001b[43mrecombination\u001b[49m\u001b[43m,\u001b[49m\n\u001b[0;32m    388\u001b[0m \u001b[43m                                 \u001b[49m\u001b[43mseed\u001b[49m\u001b[38;5;241;43m=\u001b[39;49m\u001b[43mseed\u001b[49m\u001b[43m,\u001b[49m\u001b[43m \u001b[49m\u001b[43mpolish\u001b[49m\u001b[38;5;241;43m=\u001b[39;49m\u001b[43mpolish\u001b[49m\u001b[43m,\u001b[49m\n\u001b[0;32m    389\u001b[0m \u001b[43m                                 \u001b[49m\u001b[43mcallback\u001b[49m\u001b[38;5;241;43m=\u001b[39;49m\u001b[43mcallback\u001b[49m\u001b[43m,\u001b[49m\n\u001b[0;32m    390\u001b[0m \u001b[43m                                 \u001b[49m\u001b[43mdisp\u001b[49m\u001b[38;5;241;43m=\u001b[39;49m\u001b[43mdisp\u001b[49m\u001b[43m,\u001b[49m\u001b[43m \u001b[49m\u001b[43minit\u001b[49m\u001b[38;5;241;43m=\u001b[39;49m\u001b[43minit\u001b[49m\u001b[43m,\u001b[49m\u001b[43m \u001b[49m\u001b[43matol\u001b[49m\u001b[38;5;241;43m=\u001b[39;49m\u001b[43matol\u001b[49m\u001b[43m,\u001b[49m\n\u001b[0;32m    391\u001b[0m \u001b[43m                                 \u001b[49m\u001b[43mupdating\u001b[49m\u001b[38;5;241;43m=\u001b[39;49m\u001b[43mupdating\u001b[49m\u001b[43m,\u001b[49m\n\u001b[0;32m    392\u001b[0m \u001b[43m                                 \u001b[49m\u001b[43mworkers\u001b[49m\u001b[38;5;241;43m=\u001b[39;49m\u001b[43mworkers\u001b[49m\u001b[43m,\u001b[49m\n\u001b[0;32m    393\u001b[0m \u001b[43m                                 \u001b[49m\u001b[43mconstraints\u001b[49m\u001b[38;5;241;43m=\u001b[39;49m\u001b[43mconstraints\u001b[49m\u001b[43m,\u001b[49m\n\u001b[0;32m    394\u001b[0m \u001b[43m                                 \u001b[49m\u001b[43mx0\u001b[49m\u001b[38;5;241;43m=\u001b[39;49m\u001b[43mx0\u001b[49m\u001b[43m,\u001b[49m\n\u001b[0;32m    395\u001b[0m \u001b[43m                                 \u001b[49m\u001b[43mintegrality\u001b[49m\u001b[38;5;241;43m=\u001b[39;49m\u001b[43mintegrality\u001b[49m\u001b[43m,\u001b[49m\n\u001b[0;32m    396\u001b[0m \u001b[43m                                 \u001b[49m\u001b[43mvectorized\u001b[49m\u001b[38;5;241;43m=\u001b[39;49m\u001b[43mvectorized\u001b[49m\u001b[43m)\u001b[49m \u001b[38;5;28;01mas\u001b[39;00m solver:\n\u001b[0;32m    397\u001b[0m     ret \u001b[38;5;241m=\u001b[39m solver\u001b[38;5;241m.\u001b[39msolve()\n\u001b[0;32m    399\u001b[0m \u001b[38;5;28;01mreturn\u001b[39;00m ret\n",
      "File \u001b[1;32mC:\\ProgramData\\anaconda3\\lib\\site-packages\\scipy\\optimize\\_differentialevolution.py:797\u001b[0m, in \u001b[0;36mDifferentialEvolutionSolver.__init__\u001b[1;34m(self, func, bounds, args, strategy, maxiter, popsize, tol, mutation, recombination, seed, maxfun, callback, disp, polish, init, atol, updating, workers, constraints, x0, integrality, vectorized)\u001b[0m\n\u001b[0;32m    792\u001b[0m         \u001b[38;5;28mself\u001b[39m\u001b[38;5;241m.\u001b[39m_wrapped_constraints\u001b[38;5;241m.\u001b[39mappend(\n\u001b[0;32m    793\u001b[0m             _ConstraintWrapper(c, \u001b[38;5;28mself\u001b[39m\u001b[38;5;241m.\u001b[39mx)\n\u001b[0;32m    794\u001b[0m         )\n\u001b[0;32m    795\u001b[0m \u001b[38;5;28;01melse\u001b[39;00m:\n\u001b[0;32m    796\u001b[0m     \u001b[38;5;28mself\u001b[39m\u001b[38;5;241m.\u001b[39m_wrapped_constraints \u001b[38;5;241m=\u001b[39m [\n\u001b[1;32m--> 797\u001b[0m         \u001b[43m_ConstraintWrapper\u001b[49m\u001b[43m(\u001b[49m\u001b[43mconstraints\u001b[49m\u001b[43m,\u001b[49m\u001b[43m \u001b[49m\u001b[38;5;28;43mself\u001b[39;49m\u001b[38;5;241;43m.\u001b[39;49m\u001b[43mx\u001b[49m\u001b[43m)\u001b[49m\n\u001b[0;32m    798\u001b[0m     ]\n\u001b[0;32m    799\u001b[0m \u001b[38;5;28mself\u001b[39m\u001b[38;5;241m.\u001b[39mtotal_constraints \u001b[38;5;241m=\u001b[39m np\u001b[38;5;241m.\u001b[39msum(\n\u001b[0;32m    800\u001b[0m     [c\u001b[38;5;241m.\u001b[39mnum_constr \u001b[38;5;28;01mfor\u001b[39;00m c \u001b[38;5;129;01min\u001b[39;00m \u001b[38;5;28mself\u001b[39m\u001b[38;5;241m.\u001b[39m_wrapped_constraints]\n\u001b[0;32m    801\u001b[0m )\n\u001b[0;32m    802\u001b[0m \u001b[38;5;28mself\u001b[39m\u001b[38;5;241m.\u001b[39mconstraint_violation \u001b[38;5;241m=\u001b[39m np\u001b[38;5;241m.\u001b[39mzeros((\u001b[38;5;28mself\u001b[39m\u001b[38;5;241m.\u001b[39mnum_population_members, \u001b[38;5;241m1\u001b[39m))\n",
      "File \u001b[1;32mC:\\ProgramData\\anaconda3\\lib\\site-packages\\scipy\\optimize\\_differentialevolution.py:1619\u001b[0m, in \u001b[0;36m_ConstraintWrapper.__init__\u001b[1;34m(self, constraint, x0)\u001b[0m\n\u001b[0;32m   1616\u001b[0m x0 \u001b[38;5;241m=\u001b[39m np\u001b[38;5;241m.\u001b[39masarray(x0)\n\u001b[0;32m   1618\u001b[0m \u001b[38;5;66;03m# find out the number of constraints\u001b[39;00m\n\u001b[1;32m-> 1619\u001b[0m f0 \u001b[38;5;241m=\u001b[39m \u001b[43mfun\u001b[49m\u001b[43m(\u001b[49m\u001b[43mx0\u001b[49m\u001b[43m)\u001b[49m\n\u001b[0;32m   1620\u001b[0m \u001b[38;5;28mself\u001b[39m\u001b[38;5;241m.\u001b[39mnum_constr \u001b[38;5;241m=\u001b[39m m \u001b[38;5;241m=\u001b[39m f0\u001b[38;5;241m.\u001b[39msize\n\u001b[0;32m   1621\u001b[0m \u001b[38;5;28mself\u001b[39m\u001b[38;5;241m.\u001b[39mparameter_count \u001b[38;5;241m=\u001b[39m x0\u001b[38;5;241m.\u001b[39msize\n",
      "File \u001b[1;32mC:\\ProgramData\\anaconda3\\lib\\site-packages\\scipy\\optimize\\_differentialevolution.py:1604\u001b[0m, in \u001b[0;36m_ConstraintWrapper.__init__.<locals>.fun\u001b[1;34m(x)\u001b[0m\n\u001b[0;32m   1602\u001b[0m \u001b[38;5;28;01melse\u001b[39;00m:\n\u001b[0;32m   1603\u001b[0m     A \u001b[38;5;241m=\u001b[39m np\u001b[38;5;241m.\u001b[39matleast_2d(constraint\u001b[38;5;241m.\u001b[39mA)\n\u001b[1;32m-> 1604\u001b[0m \u001b[38;5;28;01mreturn\u001b[39;00m \u001b[43mA\u001b[49m\u001b[38;5;241;43m.\u001b[39;49m\u001b[43mdot\u001b[49m\u001b[43m(\u001b[49m\u001b[43mx\u001b[49m\u001b[43m)\u001b[49m\n",
      "\u001b[1;31mValueError\u001b[0m: shapes (1,2) and (1459,) not aligned: 2 (dim 1) != 1459 (dim 0)"
     ]
    }
   ],
   "source": [
    "%%time\n",
    "######\n",
    "import numpy as np\n",
    "import sympy as sp\n",
    "from scipy.optimize import fsolve\n",
    "\n",
    "\n",
    "target_demand=0.5015731841949308\n",
    "\n",
    "\n",
    "df['target_demand']=target_demand\n",
    "\n",
    "def calcular_retencao(P,X1,X2,X3,X4,X5,X6,X7,X8,X9,X10,X11,X12,X13,X14,X15,X16,X17,X18,X19,X20,X21,X22,X23,X24,X25,X26):\n",
    "    D=np.exp(0.601-0.1513 * np.log(P)-1.9242 * np.divide(P, X1)-0.9005 * np.log(np.divide(P, X2))-0.9288 * np.log(np.divide(P, X3))-1.13 * np.log((np.divide(P, X4)))  + 0.2656 * np.log(X5 + 1)  + 0.011 * X6  + 0.1572 * X7  + 0.0683 * X8-0.2266 * X9  + 0.193 * X10-0.2988 * X11-0.2465 * X12-0.2347 * X13-0.0984 * X14-0.1547 * X15  + 0.175 * X16  + 0.299 * X17-0.4524 * X18-0.1465 * X19-0.7454 * X20  + 0.4683 * X21  + 1.1445 * X22  + 2.0254 * X23-0.2652 * X24-0.485*X25-0.43 * X26)\n",
    "    return D/(1+D)\n",
    "\n",
    "\n",
    "# Definir a função objetivo que maximiza a margem esperada otimizada \n",
    "def objetivo(P):\n",
    "    \n",
    "    df['P'] = df['premio']\n",
    "    #df['precos']=df['premio'].values\n",
    "    \n",
    "    # Calcular a retenção otimizada com os preços dados\n",
    "    df['retencao_otimizada1'] = calcular_retencao(P,X1,X2,X3,X4,X5,X6,X7,X8,X9,X10,X11,X12,X13,X14,X15,X16,X17,X18,X19,X20,X21,X22,X23,X24,X25,X26)\n",
    "    \n",
    "    df['margem_esperada_otimizada'] =   df['retencao_otimizada1']*(df['P'] - df['Act_cost'])\n",
    "    \n",
    "    # Calcular a margem esperada total (somatório)\n",
    "    margem_esperada_total = df['margem_esperada_otimizada'].sum() \n",
    "\n",
    "    # Maximizar a margem \n",
    "    return -margem_esperada_total\n",
    "\n",
    "# Definir os limites para os preços otimizado\n",
    "nome_variaveis = ['LB','UB']\n",
    "limites=np.array(df.loc[:,nome_variaveis])\n",
    "\n",
    "#nome_variaveis2 = ['retencao_otimizada1','retencao_otimizada1']\n",
    "#A=np.array(df.loc[:,nome_variaveis2])\n",
    "\n",
    "a = np.squeeze(np.asarray(target_demand))*0.999\n",
    "b = np.squeeze(np.asarray(target_demand))*1.001\n",
    "\n",
    "# restricão demanda alvo\n",
    "from scipy.optimize import LinearConstraint, Bounds\n",
    "\n",
    "lc = LinearConstraint([a,b])\n",
    "\n",
    "# Definir as restrições no formato exigido pelo método 'minimize'\n",
    "#restricoes = ({'type': 'eq', 'fun': restricao})\n",
    "\n",
    "# Executar a otimização usando o método de Differential Evolution \n",
    "resultado = differential_evolution(objetivo, \n",
    "                                   bounds=limites, \n",
    "                                   strategy='best1bin',\n",
    "                                   maxiter=3000, \n",
    "                                   popsize=11,\n",
    "                                   seed=df.shape[0],\n",
    "                                   constraints=lc)\n",
    "\n",
    "# Resultados\n",
    "print(resultado.message) \n",
    "precos_otimizados = resultado.x\n",
    "margem_esperada_total_otimizada = -resultado.fun\n",
    "\n",
    "\n",
    "\n",
    "# Verificar os preços otimizados e a margem esperada otimizada \n",
    "#df['precos_otimizados'] = resultado.x \n"
   ]
  },
  {
   "cell_type": "code",
   "execution_count": 68,
   "id": "666e75e3",
   "metadata": {},
   "outputs": [
    {
     "name": "stdout",
     "output_type": "stream",
     "text": [
      "Margem Esperada Total Base Case: 779807.0247068419\n",
      "Margem Esperada Total Otimizada1: 864214.6088270601\n",
      "Margem Esperada Total Otimizada: 787266.6275917034\n",
      "Retenção Média Otimizada: 0.503565634562428\n",
      "Retenção Média Otimizada1: 0.5525332890148633\n",
      "Retenção Média Base Case: 0.5015768113336583\n",
      "Premio Medio Otimizado: 2977.9262062420403\n",
      "Premio Medio Base Case: 2993.303855515689\n",
      "Tamanho da Base: 1459\n"
     ]
    }
   ],
   "source": [
    "\n",
    "fator_retencao = np.mean(df['Demanda_base'])/target_demand\n",
    "\n",
    "df['precos_otimizados1']=precos_otimizados\n",
    "\n",
    "df['margem_esperada_total_otimizada1'] = df['retencao_otimizada1']*(df['precos_otimizados1']-df['Act_cost'])\n",
    "\n",
    "P = precos_otimizados *1\n",
    "\n",
    "df['precos_otimizados'] = P\n",
    "\n",
    "df['retencao_otimizada'] = calcular_retencao(P,X1,X2,X3,X4,X5,X6,X7,X8,X9,X10,X11,X12,X13,X14,X15,X16,X17,X18,X19,X20,X21,X22,X23,X24,X25,X26)\n",
    "\n",
    "df['margem_esperada_base_case'] = df['Demanda_base']*(df['premio']-df['Act_cost'])\n",
    "\n",
    "margem_esperada_total_base_case=df['margem_esperada_base_case'].sum()\n",
    "\n",
    "# Exibir os resultados\n",
    "\n",
    "print(\"Margem Esperada Total Base Case:\", margem_esperada_total_base_case) \n",
    "print(\"Margem Esperada Total Otimizada1:\", df['margem_esperada_total_otimizada1'].sum())\n",
    "print(\"Margem Esperada Total Otimizada:\", margem_esperada_total_otimizada) \n",
    "print(\"Retenção Média Otimizada:\", df['retencao_otimizada'].mean())\n",
    "print(\"Retenção Média Otimizada1:\", df['retencao_otimizada1'].mean())\n",
    "print(\"Retenção Média Base Case:\", df['Demanda_base'].mean())\n",
    "print(\"Premio Medio Otimizado:\", df['precos_otimizados'].mean())\n",
    "print(\"Premio Medio Base Case:\", df['premio'].mean())\n",
    "print(\"Tamanho da Base:\", df.shape[0])\n"
   ]
  },
  {
   "cell_type": "code",
   "execution_count": null,
   "id": "38995c72",
   "metadata": {},
   "outputs": [],
   "source": [
    "df[[\"precos_otimizados\",\"premio\"]].describe().T"
   ]
  },
  {
   "cell_type": "code",
   "execution_count": null,
   "id": "73bd0285",
   "metadata": {},
   "outputs": [],
   "source": []
  },
  {
   "cell_type": "code",
   "execution_count": null,
   "id": "5eb43094",
   "metadata": {},
   "outputs": [],
   "source": [
    "np.mean(df['precos_otimizados'])"
   ]
  },
  {
   "cell_type": "code",
   "execution_count": null,
   "id": "663413aa",
   "metadata": {},
   "outputs": [],
   "source": [
    "np.mean(P)/np.mean(df[\"premio\"])"
   ]
  },
  {
   "cell_type": "code",
   "execution_count": null,
   "id": "10b25a95",
   "metadata": {},
   "outputs": [],
   "source": [
    "df_t = df.query('chave == 167700061973100001')\n",
    "df_t[[\"varia_prem_anterior\",\"varia_prem_ofer\",\"varia_prem_anterior_earnix\",\"varia_prem_ofer_earnix\"]]"
   ]
  },
  {
   "cell_type": "code",
   "execution_count": null,
   "id": "16d88f46",
   "metadata": {},
   "outputs": [],
   "source": [
    "df[\"varia_prem_anterior\"] = df[\"precos_otimizados\"]/df[\"premio_anterior\"]\n",
    "df[\"varia_prem_anterior_earnix\"] = df[\"Premium Parameter\"]/df[\"premio_anterior\"]\n",
    "df[\"varia_prem_ofer\"] = df[\"precos_otimizados\"]/df[\"premio\"]\n",
    "df[\"varia_prem_ofer_earnix\"] = df[\"Premium Parameter\"]/df[\"premio\"]"
   ]
  },
  {
   "cell_type": "code",
   "execution_count": null,
   "id": "1d0f24ac",
   "metadata": {},
   "outputs": [],
   "source": [
    "df[[\"varia_prem_anterior\",\"varia_prem_ofer\",\"varia_prem_anterior_earnix\",\"varia_prem_ofer_earnix\"]].describe().T"
   ]
  },
  {
   "cell_type": "code",
   "execution_count": null,
   "id": "65497149",
   "metadata": {},
   "outputs": [],
   "source": [
    "ver = df.query('varia_prem_ofer >= 1.1')\n",
    "ver"
   ]
  },
  {
   "cell_type": "code",
   "execution_count": null,
   "id": "fa51229a",
   "metadata": {},
   "outputs": [],
   "source": [
    "#df_lote_otim_atu.groupby([\"Amostra\"])[\"Demanda_base\"].describe().T"
   ]
  },
  {
   "cell_type": "code",
   "execution_count": null,
   "id": "95693b3f",
   "metadata": {},
   "outputs": [],
   "source": [
    "ver[[\"premio_anterior\",\"premio\",\"precos_otimizados\",\"Premium Parameter\",\"LB\",\"UB\",\"varia_prem_anterior\",\"varia_prem_ofer\"]]"
   ]
  },
  {
   "cell_type": "code",
   "execution_count": null,
   "id": "f38ec9fe",
   "metadata": {},
   "outputs": [],
   "source": [
    "#df[['premio','retencao_base_esperado','preco_otimizado','retencao_otimizada']]"
   ]
  },
  {
   "cell_type": "code",
   "execution_count": null,
   "id": "a7ac6a29",
   "metadata": {},
   "outputs": [],
   "source": [
    "#df#.to_csv(r'C:/Users/vcatelan/Documents/Scripts/dftocsv2.csv', sep='|', encoding='utf-8', header='true')\n",
    "#df.to_excel(r'df.xlsx', sep='|', encoding='utf-8', header='true')"
   ]
  },
  {
   "cell_type": "markdown",
   "id": "11fa579c",
   "metadata": {},
   "source": [
    "#criando a função"
   ]
  },
  {
   "cell_type": "code",
   "execution_count": null,
   "id": "d04c3892",
   "metadata": {},
   "outputs": [],
   "source": [
    "df_relatorio_otim = df.copy()\n",
    "\n",
    "df_relatorio_otim[\"per_com_pct\"] = df_relatorio_otim['per_com']/100\n",
    "df_relatorio_otim[\"premio_prob\"] = df_relatorio_otim[\"retencao_otimizada\"]*df_relatorio_otim[\"precos_otimizados\"]\n",
    "df_relatorio_otim[\"Act_cost_prob\"] = df_relatorio_otim[\"retencao_otimizada\"]*df_relatorio_otim[\"Act_cost\"]                                                                \n",
    "df_relatorio_otim[\"comissao_valor\"] = df_relatorio_otim[\"per_com_pct\"] *df_relatorio_otim[\"precos_otimizados\"]\n",
    "df_relatorio_otim[\"comissao_valor_prob\"] = df_relatorio_otim[\"per_com_pct\"] *df_relatorio_otim[\"premio_prob\"]\n",
    "\n",
    "apolice_ofertada  = np.round(df_relatorio_otim.shape[0],0)\n",
    "apolice_estimada  = np.round(np.sum(df_relatorio_otim[\"retencao_otimizada\"]),0)\n",
    "premio_ofertado   = np.mean(df_relatorio_otim[\"precos_otimizados\"])\n",
    "retencao_estimada = np.mean(df_relatorio_otim[\"retencao_otimizada\"])\n",
    "premio_esperado   = np.sum(df_relatorio_otim[\"premio_prob\"])/np.sum(df_relatorio_otim[\"retencao_otimizada\"])\n",
    "risco_ofertado    = np.mean(df_relatorio_otim[\"Act_cost\"])\n",
    "risco_esperado    = np.sum(df_relatorio_otim[\"Act_cost_prob\"])/np.sum(df_relatorio_otim[\"retencao_otimizada\"])\n",
    "sp_ofertado       = np.sum(df_relatorio_otim[\"Act_cost\"])/np.sum(df_relatorio_otim[\"precos_otimizados\"])\n",
    "sp_esperado       = np.sum(df_relatorio_otim[\"Act_cost_prob\"])/np.sum(df_relatorio_otim[\"premio_prob\"])\n",
    "comis_ofertado    = np.sum(df_relatorio_otim[\"comissao_valor\"])/np.sum(df_relatorio_otim[\"precos_otimizados\"])\n",
    "comis_esperado    = np.sum(df_relatorio_otim[\"comissao_valor_prob\"])/np.sum(df_relatorio_otim[\"premio_prob\"])\n",
    "ic_ofertado       =  sp_ofertado  +  comis_ofertado + 0.2749\n",
    "ic_esperado       =  sp_esperado  +  comis_esperado + 0.2749\n",
    "\n",
    "print('Apolices Ofertadas: %s' % apolice_ofertada)\n",
    "print('Apolices Renovadas: %s' % apolice_estimada)\n",
    "print('premio_ofertado: %s' % np.round(premio_ofertado,2))\n",
    "print('retencao_estimada : %s' % np.round(retencao_estimada*100,2))\n",
    "print('premio_esperado\" : %s'  %np.round( premio_esperado,2))\n",
    "print('risco_ofertado\" : %s'  %  np.round(risco_ofertado,2))\n",
    "print('risco_esperado\" : %s'  %  np.round(risco_esperado,2))\n",
    "print('sp_ofertado\" : %s'  % np.round(sp_ofertado*100,2))\n",
    "print('sp_esperado\" : %s'  % np.round(sp_esperado*100,2))\n",
    "print('ic_ofertado\" : %s'  % np.round(ic_ofertado*100,2))\n",
    "print('ic_esperado\" : %s'  % np.round(ic_esperado*100,2))"
   ]
  },
  {
   "cell_type": "code",
   "execution_count": null,
   "id": "bc5e4627",
   "metadata": {},
   "outputs": [],
   "source": []
  },
  {
   "cell_type": "code",
   "execution_count": null,
   "id": "c7c849bd",
   "metadata": {},
   "outputs": [],
   "source": [
    "df.to_csv(r'df_lote-202410_teste3.csv', sep='|' ,header='true')"
   ]
  },
  {
   "cell_type": "code",
   "execution_count": null,
   "id": "a5e872d6",
   "metadata": {},
   "outputs": [],
   "source": [
    "df_relatorio_otim[['Demanda_base','retencao_otimizada','premio','preco_otimizado']]\n",
    ", sep='|', encoding='utf-8', header='true'"
   ]
  },
  {
   "cell_type": "code",
   "execution_count": null,
   "id": "fb3191b0",
   "metadata": {},
   "outputs": [],
   "source": [
    "prices_df = pd.DataFrame({\n",
    "    'chave': df_relatorio[\"chave\"],\n",
    "    'Act_cost':  df_relatorio[\"Act_cost\"],\n",
    "    'Premio ofertado com batente':  df_relatorio[\"Premio_oferecido_com_batente\"],\n",
    "    'Optimized Prices': df_relatorio[\"premio\"],\n",
    "    'lb_bound' : [b[0] for b in bounds],\n",
    "    'up_bound' : [b[1] for b in bounds],\n",
    "    'prob_est':         df_relatorio[\"prob_est\"],\n",
    "    'renewal demand':df_relatorio[\"demanda otimizada\"],\n",
    "    'variação':df_relatorio[\"premio\"]/df_relatorio[\"Premio_oferecido_com_batente\"]\n",
    "})\n",
    "prices_df.head(20)"
   ]
  },
  {
   "cell_type": "code",
   "execution_count": null,
   "id": "08b83503",
   "metadata": {},
   "outputs": [],
   "source": []
  },
  {
   "cell_type": "code",
   "execution_count": null,
   "id": "bf781707",
   "metadata": {},
   "outputs": [],
   "source": []
  },
  {
   "cell_type": "code",
   "execution_count": null,
   "id": "9e4c93d9",
   "metadata": {},
   "outputs": [],
   "source": []
  },
  {
   "cell_type": "code",
   "execution_count": null,
   "id": "1cc5192c",
   "metadata": {},
   "outputs": [],
   "source": []
  },
  {
   "cell_type": "code",
   "execution_count": null,
   "id": "05ba91e8",
   "metadata": {},
   "outputs": [],
   "source": []
  },
  {
   "cell_type": "code",
   "execution_count": null,
   "id": "7d0f35b0",
   "metadata": {},
   "outputs": [],
   "source": []
  },
  {
   "cell_type": "code",
   "execution_count": null,
   "id": "7abc3747",
   "metadata": {},
   "outputs": [],
   "source": []
  },
  {
   "cell_type": "markdown",
   "id": "d775e90b",
   "metadata": {},
   "source": [
    "########"
   ]
  },
  {
   "cell_type": "code",
   "execution_count": null,
   "id": "0d24e572",
   "metadata": {},
   "outputs": [],
   "source": [
    "%%time\n",
    "target_demand=0.47\n",
    "\n",
    "# Função de demanda para calcular a retenção com base no preço \n",
    "def calcular_retencao(P,X1,X2,X3,X4,X5,X6,X7,X8,X9,X10,X11,X12,X13,X14,X15,X16,X17,X18,X19,X20,X21,X22,X23,X24,X25,X26):\n",
    "    D=np.exp(0.601-0.1513 * np.log(P)-1.9242 * np.divide(P, X1)-0.9005 * np.log(np.divide(P, X2))-0.9288 * np.log(np.divide(P, X3))-1.13 * np.log((np.divide(P, X4)))  + 0.2656 * np.log(X5 + 1)  + 0.011 * X6  + 0.1572 * X7  + 0.0683 * X8-0.2266 * X9  + 0.193 * X10-0.2988 * X11-0.2465 * X12-0.2347 * X13-0.0984 * X14-0.1547 * X15  + 0.175 * X16  + 0.299 * X17-0.4524 * X18-0.1465 * X19-0.7454 * X20  + 0.4683 * X21  + 1.1445 * X22  + 2.0254 * X23-0.2652 * X24-0.485*X25-0.43 * X26)\n",
    "    return D/(1+D)\n",
    "\n",
    "df['retencao_otimizada'] = calcular_retencao(precos_otimizados,X1,X2,X3,X4,X5,X6,X7,X8,X9,X10,X11,X12,X13,X14,X15,X16,X17,X18,X19,X20,X21,X22,X23,X24,X25,X26)\n",
    "\n",
    "df['retencao_target']=target_demand\n",
    "\n",
    "fator_retencao = np.mean(df['Demanda_base'])/np.mean(df['retencao_target'])\n",
    "\n",
    "# Definir a função objetivo que maximiza a margem esperada otimizada \n",
    "def objetivo(precos):\n",
    "    df['precos']=precos\n",
    "    # Calcular a retenção otimizada com os preços dados\n",
    "    df['retencao_otimizada'] = calcular_retencao(precos,X1,X2,X3,X4,X5,X6,X7,X8,X9,X10,X11,X12,X13,X14,X15,X16,X17,X18,X19,X20,X21,X22,X23,X24,X25,X26)\n",
    "    \n",
    "    df['margem_esperada_otimizada'] =   df['retencao_otimizada']*(df['precos'] - df['Act_cost'])\n",
    "    \n",
    "    # Calcular a margem esperada total (somatório)\n",
    "    margem_esperada_total = df['margem_esperada_otimizada'].sum()\n",
    "\n",
    "    # Maximizar a margem (retornamos o negativo para que o método minimize possa maximizar)\n",
    "    return -margem_esperada_total\n",
    "\n",
    "# Definir a restrição: a retenção média deve ser igual à retenção base média \n",
    "def restricao(precos):\n",
    "    df['precos']=precos\n",
    "    \n",
    "    # Calcular a retenção otimizada média com os preços dados\n",
    "    retencao_otimizada_soma = calcular_retencao(precos,X1,X2,X3,X4,X5,X6,X7,X8,X9,X10,X11,X12,X13,X14,X15,X16,X17,X18,X19,X20,X21,X22,X23,X24,X25,X26).sum()\n",
    "    \n",
    "    return np.round(retencao_otimizada_soma,3) - np.round(df['retencao_target'].sum,3)\n",
    "\n",
    "# Estimativas iniciais (os preços base)\n",
    "\n",
    "#precos_iniciais = fator_retencao*df['premio'].values\n",
    "\n",
    "premio_base = df['premio'].values\n",
    "\n",
    "precos_iniciais = 1*df['premio'].values\n",
    "\n",
    "# Definir os limites para os preços (0.9 * preco_base <= preco_otimizado <= 1.1 * preco_base) \n",
    "limites = [(0.9 * p, 1.1 * p) for p in premio_base]\n",
    "\n",
    "# Definir as restrições no formato exigido pelo método 'minimize'\n",
    "restricoes = ({'type': 'eq', 'fun': restricao})\n",
    "\n",
    "# Executar a otimização \n",
    "\n",
    "solution = minimize(objetivo,\n",
    "                    precos_iniciais,\n",
    "                    method='L-BFGS-B',\n",
    "                    bounds=limites) \n",
    "# Resultados\n",
    "precos_otimizados = solution.x\n",
    "margem_esperada_total_otimizada = -resultado.fun\n",
    "\n",
    "# Verificar os preços otimizados e a margem esperada otimizada \n",
    "df['preco_otimizado'] = solution.x \n",
    "df['retencao_otimizada'] = calcular_retencao(precos_otimizados,X1,X2,X3,X4,X5,X6,X7,X8,X9,X10,X11,X12,X13,X14,X15,X16,X17,X18,X19,X20,X21,X22,X23,X24,X25,X26)\n",
    "\n",
    "df['margem_esperada_base_case'] = df['Demanda_base']*(df['premio']-df['Act_cost'])\n",
    "\n",
    "margem_esperada_total_base_case=df['margem_esperada_base_case'].sum()\n",
    "\n",
    "# Exibir os resultados\n",
    "print(solution.message) \n",
    "print(\"Margem Esperada Total Base Case:\", margem_esperada_total_base_case) \n",
    "print(\"Margem Esperada Total Otimizada:\", margem_esperada_total_otimizada) \n",
    "print(\"Retenção Média Otimizada:\", df['retencao_otimizada'].mean())\n",
    "print(\"Retenção Média Base Case:\", df['Demanda_base'].mean())\n",
    "print(\"Premio Medio Otimizado:\", df['preco_otimizado'].mean())\n",
    "print(\"Premio Medio Base Case:\", df['premio'].mean())\n",
    "print(\"Tamanho da Base:\", df.shape[0])\n"
   ]
  },
  {
   "cell_type": "code",
   "execution_count": null,
   "id": "b0ac80fc",
   "metadata": {},
   "outputs": [],
   "source": [
    "#from handythread import foreach"
   ]
  },
  {
   "cell_type": "code",
   "execution_count": null,
   "id": "192ef0dd",
   "metadata": {},
   "outputs": [],
   "source": [
    "#!pip install pp"
   ]
  },
  {
   "cell_type": "code",
   "execution_count": null,
   "id": "066bbb55",
   "metadata": {},
   "outputs": [],
   "source": []
  }
 ],
 "metadata": {
  "kernelspec": {
   "display_name": "Python 3 (ipykernel)",
   "language": "python",
   "name": "python3"
  },
  "language_info": {
   "codemirror_mode": {
    "name": "ipython",
    "version": 3
   },
   "file_extension": ".py",
   "mimetype": "text/x-python",
   "name": "python",
   "nbconvert_exporter": "python",
   "pygments_lexer": "ipython3",
   "version": "3.10.9"
  }
 },
 "nbformat": 4,
 "nbformat_minor": 5
}
