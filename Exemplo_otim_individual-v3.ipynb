{
 "cells": [
  {
   "cell_type": "code",
   "execution_count": 3,
   "id": "173cec60",
   "metadata": {},
   "outputs": [],
   "source": [
    "import numpy as np\n",
    "import pandas as pd\n",
    "import seaborn as sns\n",
    "from sympy import diff\n",
    "from sympy import symbols\n",
    "import sympy as sp\n",
    "import matplotlib.pyplot as plt"
   ]
  },
  {
   "cell_type": "code",
   "execution_count": 2,
   "id": "b8a17ad3",
   "metadata": {},
   "outputs": [
    {
     "name": "stdout",
     "output_type": "stream",
     "text": [
      "Demanda Cliente 1: 0.44769\n",
      "Demanda Cliente 2: 0.29734\n",
      "Demanda Total: 0.74503\n"
     ]
    }
   ],
   "source": [
    "# Define a função de demanda\n",
    "def demanda(X,P):\n",
    "    #X é uma variavel qq indicadora (X=1/0)\n",
    "    D = np.exp(0.64+0.4*X - 0.005*P)/((1+np.exp(0.64+0.4*X - 0.005*P)))\n",
    "    return D\n",
    "\n",
    "D1 =demanda(1,250)\n",
    "D2 =demanda(0,300)\n",
    "print('Demanda Cliente 1: %s' % round(D1,5))\n",
    "print('Demanda Cliente 2: %s' % round(D2,5))\n",
    "print('Demanda Total: %s' % round((np.sum(D1)+np.sum(D2)),5))"
   ]
  },
  {
   "cell_type": "code",
   "execution_count": 21,
   "id": "2ed193f0",
   "metadata": {},
   "outputs": [],
   "source": [
    "P = symbols('P')\n",
    "L = symbols('L')\n",
    "X = symbols('X')\n",
    "f = ((sp.exp(0.64+0.4*X)*sp.exp(-0.005*P))/(1+sp.exp(0.64+0.4*X)*sp.exp(-0.005*P)))*(P-150)  - L*(((sp.exp(0.64+0.4*X)*sp.exp(-0.005*P))/(1+sp.exp(0.64+0.4*X)*sp.exp(-0.005*P)))-0.7450314360809431) \n",
    "f_prime_P = diff(f, P)\n",
    "f_prime_L = diff(f, L)\n"
   ]
  },
  {
   "cell_type": "code",
   "execution_count": 22,
   "id": "64315e32",
   "metadata": {},
   "outputs": [
    {
     "name": "stdout",
     "output_type": "stream",
     "text": [
      "-L*(-0.00948240439652476*exp(-0.005*P)*exp(0.4*X)/(1 + 1.89648087930495*exp(-0.005*P)*exp(0.4*X)) + 0.005*exp(-0.01*P)*exp(0.8*X)/(0.527292424043049 + exp(-0.005*P)*exp(0.4*X))**2) - 0.00948240439652476*(P - 150)*exp(-0.005*P)*exp(0.4*X)/(1 + 1.89648087930495*exp(-0.005*P)*exp(0.4*X)) + 1.89648087930495*exp(-0.005*P)*exp(0.4*X)/(1 + 1.89648087930495*exp(-0.005*P)*exp(0.4*X)) + 0.005*(P - 150)*exp(-0.01*P)*exp(0.8*X)/(0.527292424043049 + exp(-0.005*P)*exp(0.4*X))**2\n"
     ]
    }
   ],
   "source": [
    "print(f_prime_P)\n"
   ]
  },
  {
   "cell_type": "code",
   "execution_count": 23,
   "id": "68062149",
   "metadata": {},
   "outputs": [
    {
     "name": "stdout",
     "output_type": "stream",
     "text": [
      "0.745031436080943 - 1.89648087930495*exp(-0.005*P)*exp(0.4*X)/(1 + 1.89648087930495*exp(-0.005*P)*exp(0.4*X))\n"
     ]
    }
   ],
   "source": [
    "print(f_prime_L)"
   ]
  },
  {
   "cell_type": "code",
   "execution_count": 25,
   "id": "be63ac64",
   "metadata": {},
   "outputs": [
    {
     "data": {
      "text/plain": [
       "0.34323372506713673"
      ]
     },
     "execution_count": 25,
     "metadata": {},
     "output_type": "execute_result"
    }
   ],
   "source": [
    "0.745031436080943 - 1.89648087930495*np.exp(-0.005*287.5960434220056)*np.exp(0.4*1)/(1 + 1.89648087930495*np.exp(-0.005*287.5960434220056)*np.exp(0.4*1))"
   ]
  },
  {
   "cell_type": "code",
   "execution_count": 26,
   "id": "e835b2bf",
   "metadata": {},
   "outputs": [
    {
     "data": {
      "text/plain": [
       "0.40179771100770095"
      ]
     },
     "execution_count": 26,
     "metadata": {},
     "output_type": "execute_result"
    }
   ],
   "source": [
    "0.745031436080943 - 1.89648087930495*np.exp(-0.005*257.7833159899672)*np.exp(0.4*0)/(1 + 1.89648087930495*np.exp(-0.005*257.7833159899672)*np.exp(0.4*0))"
   ]
  },
  {
   "cell_type": "code",
   "execution_count": 28,
   "id": "504afc7a",
   "metadata": {},
   "outputs": [
    {
     "data": {
      "text/plain": [
       "0.7450314360748377"
      ]
     },
     "execution_count": 28,
     "metadata": {},
     "output_type": "execute_result"
    }
   ],
   "source": [
    "0.34323372506713673+0.40179771100770095"
   ]
  },
  {
   "cell_type": "code",
   "execution_count": null,
   "id": "3c06ce21",
   "metadata": {},
   "outputs": [],
   "source": [
    "P1: 287.5960434220056\n",
    "P2: 257.7833159899672"
   ]
  },
  {
   "cell_type": "markdown",
   "id": "c0f7ecc7",
   "metadata": {},
   "source": [
    "## Replicando o exemplo Geral\n"
   ]
  },
  {
   "cell_type": "code",
   "execution_count": 87,
   "id": "24678a2a",
   "metadata": {},
   "outputs": [
    {
     "name": "stdout",
     "output_type": "stream",
     "text": [
      "λ: -196.73901963513433\n",
      "P1: 287.5960434220056\n",
      "P2: 257.7833159899672\n"
     ]
    }
   ],
   "source": [
    "import numpy as np\n",
    "import sympy as sp\n",
    "from scipy.optimize import fsolve\n",
    "\n",
    "# Define a função de demanda\n",
    "def demanda(X, P):\n",
    "    # X é uma variável indicadora (X=1/0)\n",
    "    D = np.exp(0.64 + 0.4 * X - 0.005 * P) / (1 + np.exp(0.64 + 0.4 * X - 0.005 * P))\n",
    "    return D\n",
    "\n",
    "# Define a função de Lagrange\n",
    "def func(X, indicadora):\n",
    "    P = X[:-1]  # Extraindo o vetor de preços [p1, p2, ..., pn]\n",
    "    L = X[-1]   # Extraindo o multiplicador de Lagrange\n",
    "    n = len(P)\n",
    "    \n",
    "    # Função objetivo e a soma das demandas\n",
    "    objetivo = 0\n",
    "    soma_demandas = 0\n",
    "    \n",
    "    for i in range(n):\n",
    "        D_i = demanda(indicadora[i], P[i])\n",
    "        objetivo += D_i * (P[i] - 150)\n",
    "        soma_demandas += D_i\n",
    "    \n",
    "    # Definindo a função de Lagrange com a restrição\n",
    "    return objetivo - L * (soma_demandas - 0.7450314360809431)\n",
    "\n",
    "# Aplicando a diferenciação numérica\n",
    "def dfunc(X, indicadora):\n",
    "    dLambda = np.zeros(len(X))\n",
    "    h = 1e-3  # Passo usado na diferença finita\n",
    "    for i in range(len(X)):\n",
    "        dX = np.zeros(len(X))\n",
    "        dX[i] = h\n",
    "        dLambda[i] = (func(X + dX, indicadora) - func(X - dX, indicadora)) / (2 * h)\n",
    "    return dLambda\n",
    "\n",
    "# Definindo a função para otimizar os preços\n",
    "def otimizar_precos(indicadora, precos_iniciais):\n",
    "    # Iniciando o vetor X com os preços iniciais e um valor inicial para o multiplicador de Lagrange\n",
    "    X_inicial = np.append(precos_iniciais, 0)\n",
    "    \n",
    "    # Calculando os preços otimizados\n",
    "    X_otimizado = fsolve(dfunc, X_inicial, args=(indicadora,))\n",
    "    \n",
    "    # Retornando o vetor de preços otimizados e o multiplicador de Lagrange\n",
    "    precos_otimizados = X_otimizado[:-1]\n",
    "    lambida = X_otimizado[-1]\n",
    "    \n",
    "    return precos_otimizados, lambida\n",
    "\n",
    "# Exemplo de uso\n",
    "indicadora = [1, 0]  # Exemplo de variáveis indicadoras para dois clientes\n",
    "precos_iniciais = [400, 500]  # Exemplo de preços iniciais para dois clientes\n",
    "\n",
    "precos_otimizados, lambida = otimizar_precos(indicadora, precos_iniciais)\n",
    "print(\"λ:\", lambida)\n",
    "#print(\"Preços Otimizados:\", precos_otimizados[0], precos_otimizados[1])\n",
    "#print(\"Preços Otimizados:\")\n",
    "print(\"P1:\", precos_otimizados[0])\n",
    "print(\"P2:\", precos_otimizados[1])\n"
   ]
  },
  {
   "cell_type": "markdown",
   "id": "77495f0a",
   "metadata": {},
   "source": [
    "## Replicando o exemplo Geral"
   ]
  },
  {
   "cell_type": "code",
   "execution_count": 31,
   "id": "6d3fc81e",
   "metadata": {},
   "outputs": [
    {
     "data": {
      "text/html": [
       "<div>\n",
       "<style scoped>\n",
       "    .dataframe tbody tr th:only-of-type {\n",
       "        vertical-align: middle;\n",
       "    }\n",
       "\n",
       "    .dataframe tbody tr th {\n",
       "        vertical-align: top;\n",
       "    }\n",
       "\n",
       "    .dataframe thead th {\n",
       "        text-align: right;\n",
       "    }\n",
       "</style>\n",
       "<table border=\"1\" class=\"dataframe\">\n",
       "  <thead>\n",
       "    <tr style=\"text-align: right;\">\n",
       "      <th></th>\n",
       "      <th>X</th>\n",
       "      <th>P</th>\n",
       "      <th>C</th>\n",
       "      <th>D</th>\n",
       "    </tr>\n",
       "  </thead>\n",
       "  <tbody>\n",
       "    <tr>\n",
       "      <th>0</th>\n",
       "      <td>1</td>\n",
       "      <td>250</td>\n",
       "      <td>150</td>\n",
       "      <td>0.447692</td>\n",
       "    </tr>\n",
       "    <tr>\n",
       "      <th>1</th>\n",
       "      <td>0</td>\n",
       "      <td>300</td>\n",
       "      <td>150</td>\n",
       "      <td>0.297339</td>\n",
       "    </tr>\n",
       "  </tbody>\n",
       "</table>\n",
       "</div>"
      ],
      "text/plain": [
       "   X    P    C         D\n",
       "0  1  250  150  0.447692\n",
       "1  0  300  150  0.297339"
      ]
     },
     "execution_count": 31,
     "metadata": {},
     "output_type": "execute_result"
    }
   ],
   "source": [
    "df = pd.DataFrame({\n",
    "   \n",
    "    'X': [1, 0],\n",
    "    'P': [250, 300],\n",
    "    'C': [150, 150]\n",
    "})\n",
    "df['D']=demanda(df['X'],df['P'])\n",
    "df"
   ]
  },
  {
   "cell_type": "code",
   "execution_count": 34,
   "id": "a0fe49ae",
   "metadata": {},
   "outputs": [
    {
     "name": "stdout",
     "output_type": "stream",
     "text": [
      "0.4476920904256747\n",
      "0.2768781948756102\n"
     ]
    }
   ],
   "source": [
    "print(demanda(1,250)),\n",
    "print(demanda(1,400))"
   ]
  },
  {
   "cell_type": "markdown",
   "id": "4dbeb715",
   "metadata": {},
   "source": [
    "################################################################\n",
    "################################################################"
   ]
  },
  {
   "cell_type": "code",
   "execution_count": 91,
   "id": "4f2e10db",
   "metadata": {},
   "outputs": [
    {
     "name": "stdout",
     "output_type": "stream",
     "text": [
      "CPU times: total: 0 ns\n",
      "Wall time: 0 ns\n"
     ]
    }
   ],
   "source": [
    "%%time\n",
    "def margem_esperada(X,P):\n",
    "    premio= df['P']\n",
    "    prob= demanda(df['X'],df['P'])\n",
    "    custo= 150\n",
    "    margem_esperada = prob * (premio-custo)\n",
    "    margem_total = -np.sum(margem_esperada) \n",
    "    return margem_total"
   ]
  },
  {
   "cell_type": "code",
   "execution_count": 92,
   "id": "57bb9e51",
   "metadata": {},
   "outputs": [
    {
     "data": {
      "text/plain": [
       "-89.37011089085775"
      ]
     },
     "execution_count": 92,
     "metadata": {},
     "output_type": "execute_result"
    }
   ],
   "source": [
    "margem_esperada([1, 0],[250, 300])"
   ]
  },
  {
   "cell_type": "code",
   "execution_count": 136,
   "id": "ac0829b3",
   "metadata": {},
   "outputs": [],
   "source": [
    "demanda_alvo = 0.745031436080943"
   ]
  },
  {
   "cell_type": "code",
   "execution_count": 137,
   "id": "00da3ff2",
   "metadata": {},
   "outputs": [],
   "source": [
    "# restricão der\n",
    "def constraint(X,P,demanda_alvo):\n",
    "    cons= sum(1.89648087930495*np.exp(-0.005*df['P'])*np.exp(0.4*df['X'])/(1 + 1.89648087930495*np.exp(-0.005*df['P'])*np.exp(0.4*df['X'])))-demanda_alvo \n",
    "    return cons"
   ]
  },
  {
   "cell_type": "code",
   "execution_count": 139,
   "id": "308b95d4",
   "metadata": {},
   "outputs": [
    {
     "data": {
      "text/plain": [
       "-1.1102230246251565e-16"
      ]
     },
     "execution_count": 139,
     "metadata": {},
     "output_type": "execute_result"
    }
   ],
   "source": [
    "constraint([1, 0],[250, 300],demanda_alvo)"
   ]
  },
  {
   "cell_type": "code",
   "execution_count": 120,
   "id": "bd2cc997",
   "metadata": {},
   "outputs": [
    {
     "data": {
      "text/plain": [
       "0.2973393456552684"
      ]
     },
     "execution_count": 120,
     "metadata": {},
     "output_type": "execute_result"
    }
   ],
   "source": [
    "0.745031436080943 - 1.89648087930495*np.exp(-0.005*250)*np.exp(0.4*1)/(1 + 1.89648087930495*np.exp(-0.005*250)*np.exp(0.4*1))"
   ]
  },
  {
   "cell_type": "code",
   "execution_count": 121,
   "id": "2810ea43",
   "metadata": {},
   "outputs": [
    {
     "data": {
      "text/plain": [
       "0.44769209042567465"
      ]
     },
     "execution_count": 121,
     "metadata": {},
     "output_type": "execute_result"
    }
   ],
   "source": [
    "0.745031436080943 - 1.89648087930495*np.exp(-0.005*300)*np.exp(0.4*0)/(1 + 1.89648087930495*np.exp(-0.005*300)*np.exp(0.4*0))"
   ]
  },
  {
   "cell_type": "code",
   "execution_count": 95,
   "id": "46d42a41",
   "metadata": {},
   "outputs": [],
   "source": [
    "from scipy.optimize import minimize"
   ]
  },
  {
   "cell_type": "code",
   "execution_count": null,
   "id": "a29816d8",
   "metadata": {},
   "outputs": [],
   "source": []
  },
  {
   "cell_type": "code",
   "execution_count": 155,
   "id": "1345d96b",
   "metadata": {},
   "outputs": [
    {
     "name": "stdout",
     "output_type": "stream",
     "text": [
      "CPU times: total: 0 ns\n",
      "Wall time: 5.46 ms\n"
     ]
    }
   ],
   "source": [
    "%%time\n",
    "\n",
    "demanda_alvo=0.55\n",
    "\n",
    "premio_inicial = df[\"P\"]\n",
    "\n",
    "\n",
    "# Define a função de demanda\n",
    "def demanda(X, P):\n",
    "    # X é uma variável indicadora (X=1/0)\n",
    "    D = np.exp(0.64 + 0.4 * X - 0.005 * P) / (1 + np.exp(0.64 + 0.4 * X - 0.005 * P))\n",
    "    return D\n",
    "\n",
    "\n",
    "def margem_esperada(X,P):\n",
    "   \n",
    "    premio= df['P']\n",
    "    prob= demanda(df['X'],df['P'])\n",
    "    custo= 150\n",
    "    margem_esperada = prob * (premio-custo)\n",
    "    margem_total = -np.sum(margem_esperada) \n",
    "    return margem_total\n",
    "\n",
    "\n",
    "# restricão der\n",
    "# restricão der\n",
    "def constraint(X,P,demanda_alvo):\n",
    "    return np.sum(1.89648087930495*np.exp(-0.005*P)*np.exp(0.4*X)/(1 + 1.89648087930495*np.exp(-0.005*P)*np.exp(0.4*X)))-demanda_alvo \n",
    "\n",
    " \n",
    "restr_budget = {'type': 'eq', 'fun': constraint}   \n",
    "\n",
    " \n",
    "#restricoes = ([restr_demanda,restr_margem,restr_lb,restr_ub])     \n",
    "\n",
    "#restricoes = ([restr_demanda,restr_margem])    \n",
    "\n",
    "\n",
    "\n",
    "\n",
    "# limitando o premio fique dentro do range\n",
    "bounds = [(0.9 * premio_base, premio_base*1.1) for premio_base in df[\"P\"]]\n",
    "\n",
    "# rodando a otimizaçao\n",
    "result = minimize(margem_esperada,\n",
    "                  premio_inicial,\n",
    "                  args=(demanda_alvo), \n",
    "                  method = 'L-BFGS-B', \n",
    "                  tol=0.01,\n",
    "                  constraints=restr_budget,\n",
    "                  bounds=bounds)"
   ]
  },
  {
   "cell_type": "code",
   "execution_count": 151,
   "id": "07d411c9",
   "metadata": {},
   "outputs": [
    {
     "data": {
      "text/plain": [
       "array([250., 300.])"
      ]
     },
     "execution_count": 151,
     "metadata": {},
     "output_type": "execute_result"
    }
   ],
   "source": [
    "result.x"
   ]
  },
  {
   "cell_type": "code",
   "execution_count": null,
   "id": "d61d75b5",
   "metadata": {},
   "outputs": [],
   "source": []
  },
  {
   "cell_type": "code",
   "execution_count": null,
   "id": "f78c5276",
   "metadata": {},
   "outputs": [],
   "source": []
  },
  {
   "cell_type": "code",
   "execution_count": null,
   "id": "e74e4d7f",
   "metadata": {},
   "outputs": [],
   "source": []
  },
  {
   "cell_type": "markdown",
   "id": "93b1f4b6",
   "metadata": {},
   "source": [
    "#   teste novo "
   ]
  },
  {
   "cell_type": "code",
   "execution_count": 4,
   "id": "78bad297",
   "metadata": {},
   "outputs": [],
   "source": [
    "# Define a função de demanda\n",
    "def demanda(X1,X2,X3, P):\n",
    "    # X é uma variável indicadora (X=1/0)\n",
    "    D = np.exp(0.64 + 0.4 * X1 - 0.1 * X2 + 0.41 * X3 - 0.005 * P) / (1 +  np.exp(0.64 + 0.4 * X1 - 0.1 * X2 + 0.41 * X3 - 0.005 * P ))\n",
    "    return D"
   ]
  },
  {
   "cell_type": "code",
   "execution_count": 5,
   "id": "f26de42a",
   "metadata": {},
   "outputs": [
    {
     "data": {
      "text/html": [
       "<div>\n",
       "<style scoped>\n",
       "    .dataframe tbody tr th:only-of-type {\n",
       "        vertical-align: middle;\n",
       "    }\n",
       "\n",
       "    .dataframe tbody tr th {\n",
       "        vertical-align: top;\n",
       "    }\n",
       "\n",
       "    .dataframe thead th {\n",
       "        text-align: right;\n",
       "    }\n",
       "</style>\n",
       "<table border=\"1\" class=\"dataframe\">\n",
       "  <thead>\n",
       "    <tr style=\"text-align: right;\">\n",
       "      <th></th>\n",
       "      <th>X1</th>\n",
       "      <th>X2</th>\n",
       "      <th>X3</th>\n",
       "      <th>P</th>\n",
       "      <th>D</th>\n",
       "    </tr>\n",
       "  </thead>\n",
       "  <tbody>\n",
       "    <tr>\n",
       "      <th>0</th>\n",
       "      <td>1</td>\n",
       "      <td>1</td>\n",
       "      <td>1</td>\n",
       "      <td>250</td>\n",
       "      <td>0.524979</td>\n",
       "    </tr>\n",
       "    <tr>\n",
       "      <th>1</th>\n",
       "      <td>0</td>\n",
       "      <td>0</td>\n",
       "      <td>0</td>\n",
       "      <td>300</td>\n",
       "      <td>0.297339</td>\n",
       "    </tr>\n",
       "    <tr>\n",
       "      <th>2</th>\n",
       "      <td>1</td>\n",
       "      <td>1</td>\n",
       "      <td>1</td>\n",
       "      <td>400</td>\n",
       "      <td>0.342990</td>\n",
       "    </tr>\n",
       "    <tr>\n",
       "      <th>3</th>\n",
       "      <td>0</td>\n",
       "      <td>0</td>\n",
       "      <td>0</td>\n",
       "      <td>500</td>\n",
       "      <td>0.134703</td>\n",
       "    </tr>\n",
       "    <tr>\n",
       "      <th>4</th>\n",
       "      <td>1</td>\n",
       "      <td>1</td>\n",
       "      <td>1</td>\n",
       "      <td>600</td>\n",
       "      <td>0.161109</td>\n",
       "    </tr>\n",
       "    <tr>\n",
       "      <th>5</th>\n",
       "      <td>0</td>\n",
       "      <td>0</td>\n",
       "      <td>0</td>\n",
       "      <td>250</td>\n",
       "      <td>0.352059</td>\n",
       "    </tr>\n",
       "    <tr>\n",
       "      <th>6</th>\n",
       "      <td>1</td>\n",
       "      <td>1</td>\n",
       "      <td>1</td>\n",
       "      <td>300</td>\n",
       "      <td>0.462570</td>\n",
       "    </tr>\n",
       "    <tr>\n",
       "      <th>7</th>\n",
       "      <td>0</td>\n",
       "      <td>0</td>\n",
       "      <td>0</td>\n",
       "      <td>200</td>\n",
       "      <td>0.410960</td>\n",
       "    </tr>\n",
       "    <tr>\n",
       "      <th>8</th>\n",
       "      <td>1</td>\n",
       "      <td>1</td>\n",
       "      <td>1</td>\n",
       "      <td>500</td>\n",
       "      <td>0.240489</td>\n",
       "    </tr>\n",
       "    <tr>\n",
       "      <th>9</th>\n",
       "      <td>0</td>\n",
       "      <td>0</td>\n",
       "      <td>0</td>\n",
       "      <td>600</td>\n",
       "      <td>0.086274</td>\n",
       "    </tr>\n",
       "  </tbody>\n",
       "</table>\n",
       "</div>"
      ],
      "text/plain": [
       "   X1  X2  X3    P         D\n",
       "0   1   1   1  250  0.524979\n",
       "1   0   0   0  300  0.297339\n",
       "2   1   1   1  400  0.342990\n",
       "3   0   0   0  500  0.134703\n",
       "4   1   1   1  600  0.161109\n",
       "5   0   0   0  250  0.352059\n",
       "6   1   1   1  300  0.462570\n",
       "7   0   0   0  200  0.410960\n",
       "8   1   1   1  500  0.240489\n",
       "9   0   0   0  600  0.086274"
      ]
     },
     "execution_count": 5,
     "metadata": {},
     "output_type": "execute_result"
    }
   ],
   "source": [
    "df = pd.DataFrame({\n",
    "    'X1': [1, 0, 1, 0, 1, 0 ,1, 0,1,0],\n",
    "    'X2': [1, 0, 1, 0, 1, 0 ,1, 0,1,0],\n",
    "    'X3': [1, 0, 1, 0, 1, 0 ,1, 0,1,0],\n",
    "    'P': [250, 300,400,500,600,250,300,200,500,600]\n",
    "})\n",
    "df['D']=demanda(df['X1'],df['X2'],df['X3'],df['P'])\n",
    "df"
   ]
  },
  {
   "cell_type": "code",
   "execution_count": 6,
   "id": "a387d29d",
   "metadata": {},
   "outputs": [
    {
     "data": {
      "text/plain": [
       "3.013472268053064"
      ]
     },
     "execution_count": 6,
     "metadata": {},
     "output_type": "execute_result"
    }
   ],
   "source": [
    "df['D'].sum()"
   ]
  },
  {
   "cell_type": "code",
   "execution_count": 7,
   "id": "2ba7f059",
   "metadata": {},
   "outputs": [
    {
     "data": {
      "text/plain": [
       "0.3013472268053064"
      ]
     },
     "execution_count": 7,
     "metadata": {},
     "output_type": "execute_result"
    }
   ],
   "source": [
    "df['D'].mean()"
   ]
  },
  {
   "cell_type": "code",
   "execution_count": 8,
   "id": "c1dd9907",
   "metadata": {},
   "outputs": [],
   "source": [
    "# Exemplo de uso\n",
    "lista_variaveis_na_ordem = ['X1','X2','X3']\n",
    "indicadora=np.array(df.loc[:,lista_variaveis_na_ordem])                                             \n",
    "precos_iniciais = np.array(df['P'])*1\n",
    "#target = 3.013472268053064\n",
    "target = 2.613472268053064"
   ]
  },
  {
   "cell_type": "code",
   "execution_count": 9,
   "id": "c3c17913",
   "metadata": {},
   "outputs": [
    {
     "name": "stdout",
     "output_type": "stream",
     "text": [
      "λ: -11.927611519984694\n",
      "Preços Otimizados: [428.57896653 391.60505644 428.57896654 391.60505644 428.57896616\n",
      " 391.60505644 428.57896656 391.60505691 428.5789665  391.60505624]\n"
     ]
    }
   ],
   "source": [
    "import numpy as np\n",
    "import sympy as sp\n",
    "from scipy.optimize import fsolve\n",
    "import scipy.optimize as optimize\n",
    "#import warnings\n",
    "#warnings.filterwarnings('ignore', 'The iteration is not making good progress')\n",
    "\n",
    "# Define a função de demanda\n",
    "def demanda(X1,X2,X3, P):\n",
    "    # X é uma variável indicadora (X=1/0)\n",
    "    D = np.exp(0.64 + 0.4 * X1 - 0.1 * X2 + 0.41 * X3 - 0.005 * P) / (1 +  np.exp(0.64 + 0.4 * X1 - 0.1 * X2 + 0.41 * X3 - 0.005 * P ))\n",
    "    return D\n",
    "\n",
    "\n",
    "# Define a função de Lagrange\n",
    "def func(X, indicadora):\n",
    "    P = X[:-1]  # Extraindo o vetor de preços [p1, p2, ..., pn]\n",
    "    L = X[-1]   # Extraindo o multiplicador de Lagrange\n",
    "    n = len(P)\n",
    "    \n",
    "    # Função objetivo e a soma das demandas\n",
    "    objetivo = 0\n",
    "    soma_demandas = 0\n",
    "    \n",
    "    for i in range(n):\n",
    "        D_i = demanda(indicadora[i,0],\n",
    "                      indicadora[i,1],\n",
    "                      indicadora[i,2],\n",
    "                      P[i])\n",
    "        objetivo += D_i * (P[i] - 150)\n",
    "        soma_demandas += D_i\n",
    "    \n",
    "    # Definindo a função de Lagrange com a restrição\n",
    "    return objetivo - L * (soma_demandas - target)\n",
    "\n",
    "# Aplicando a diferenciação numérica\n",
    "def dfunc(X, indicadora):\n",
    "    dLambda = np.zeros(len(X))\n",
    "    h = 1e-3  # Passo usado na diferença finita\n",
    "    for i in range(len(X)):\n",
    "        dX = np.zeros(len(X))\n",
    "        dX[i] = h\n",
    "        dLambda[i] = (func(X + dX, indicadora) - func(X - dX, indicadora)) / (2 * h)\n",
    "    return dLambda\n",
    "\n",
    "# Definindo a função para otimizar os preços\n",
    "def otimizar_precos(indicadora, precos_iniciais):\n",
    "    # Iniciando o vetor X com os preços iniciais e um valor inicial para o multiplicador de Lagrange\n",
    "    X_inicial = np.append(precos_iniciais, 0)\n",
    "    \n",
    "    # Calculando os preços otimizados\n",
    "    X_otimizado = optimize.fsolve(dfunc, X_inicial, args=(indicadora),xtol=1e-06, maxfev=500)\n",
    "    \n",
    "    # Retornando o vetor de preços otimizados e o multiplicador de Lagrange\n",
    "    precos_otimizados = X_otimizado[:-1]\n",
    "    lambida = X_otimizado[-1]\n",
    "    \n",
    "    return precos_otimizados, lambida\n",
    "\n",
    "precos_otimizados, lambida = otimizar_precos(indicadora, precos_iniciais)\n",
    "print(\"λ:\", lambida)\n",
    "#print(\"Preços Otimizados:\", precos_otimizados[0], precos_otimizados[1])\n",
    "print(\"Preços Otimizados:\",precos_otimizados)\n",
    "#print(\"P1:\", precos_otimizados[0])\n",
    "#print(\"P2:\", precos_otimizados[1])"
   ]
  },
  {
   "cell_type": "code",
   "execution_count": null,
   "id": "9a20fec6",
   "metadata": {},
   "outputs": [],
   "source": [
    "λ: -54.40034617869815\n",
    "Preços Otimizados: [374.36608672 358.70437044 374.36608687 358.70436557 374.36608669\n",
    " 358.70437288 374.36608706 358.70437626 374.36609053 358.70437026]"
   ]
  },
  {
   "cell_type": "code",
   "execution_count": 164,
   "id": "080126d6",
   "metadata": {},
   "outputs": [
    {
     "data": {
      "text/html": [
       "<div>\n",
       "<style scoped>\n",
       "    .dataframe tbody tr th:only-of-type {\n",
       "        vertical-align: middle;\n",
       "    }\n",
       "\n",
       "    .dataframe tbody tr th {\n",
       "        vertical-align: top;\n",
       "    }\n",
       "\n",
       "    .dataframe thead th {\n",
       "        text-align: right;\n",
       "    }\n",
       "</style>\n",
       "<table border=\"1\" class=\"dataframe\">\n",
       "  <thead>\n",
       "    <tr style=\"text-align: right;\">\n",
       "      <th></th>\n",
       "      <th>X1</th>\n",
       "      <th>X2</th>\n",
       "      <th>X3</th>\n",
       "      <th>P</th>\n",
       "      <th>D</th>\n",
       "      <th>precos_otimizados</th>\n",
       "      <th>D*</th>\n",
       "    </tr>\n",
       "  </thead>\n",
       "  <tbody>\n",
       "    <tr>\n",
       "      <th>0</th>\n",
       "      <td>1</td>\n",
       "      <td>1</td>\n",
       "      <td>1</td>\n",
       "      <td>250</td>\n",
       "      <td>0.524979</td>\n",
       "      <td>428.578967</td>\n",
       "      <td>0.311547</td>\n",
       "    </tr>\n",
       "    <tr>\n",
       "      <th>1</th>\n",
       "      <td>0</td>\n",
       "      <td>0</td>\n",
       "      <td>0</td>\n",
       "      <td>300</td>\n",
       "      <td>0.297339</td>\n",
       "      <td>391.605056</td>\n",
       "      <td>0.211147</td>\n",
       "    </tr>\n",
       "    <tr>\n",
       "      <th>2</th>\n",
       "      <td>1</td>\n",
       "      <td>1</td>\n",
       "      <td>1</td>\n",
       "      <td>400</td>\n",
       "      <td>0.342990</td>\n",
       "      <td>428.578967</td>\n",
       "      <td>0.311547</td>\n",
       "    </tr>\n",
       "    <tr>\n",
       "      <th>3</th>\n",
       "      <td>0</td>\n",
       "      <td>0</td>\n",
       "      <td>0</td>\n",
       "      <td>500</td>\n",
       "      <td>0.134703</td>\n",
       "      <td>391.605056</td>\n",
       "      <td>0.211147</td>\n",
       "    </tr>\n",
       "    <tr>\n",
       "      <th>4</th>\n",
       "      <td>1</td>\n",
       "      <td>1</td>\n",
       "      <td>1</td>\n",
       "      <td>600</td>\n",
       "      <td>0.161109</td>\n",
       "      <td>428.578966</td>\n",
       "      <td>0.311547</td>\n",
       "    </tr>\n",
       "    <tr>\n",
       "      <th>5</th>\n",
       "      <td>0</td>\n",
       "      <td>0</td>\n",
       "      <td>0</td>\n",
       "      <td>250</td>\n",
       "      <td>0.352059</td>\n",
       "      <td>391.605056</td>\n",
       "      <td>0.211147</td>\n",
       "    </tr>\n",
       "    <tr>\n",
       "      <th>6</th>\n",
       "      <td>1</td>\n",
       "      <td>1</td>\n",
       "      <td>1</td>\n",
       "      <td>300</td>\n",
       "      <td>0.462570</td>\n",
       "      <td>428.578967</td>\n",
       "      <td>0.311547</td>\n",
       "    </tr>\n",
       "    <tr>\n",
       "      <th>7</th>\n",
       "      <td>0</td>\n",
       "      <td>0</td>\n",
       "      <td>0</td>\n",
       "      <td>200</td>\n",
       "      <td>0.410960</td>\n",
       "      <td>391.605057</td>\n",
       "      <td>0.211147</td>\n",
       "    </tr>\n",
       "    <tr>\n",
       "      <th>8</th>\n",
       "      <td>1</td>\n",
       "      <td>1</td>\n",
       "      <td>1</td>\n",
       "      <td>500</td>\n",
       "      <td>0.240489</td>\n",
       "      <td>428.578967</td>\n",
       "      <td>0.311547</td>\n",
       "    </tr>\n",
       "    <tr>\n",
       "      <th>9</th>\n",
       "      <td>0</td>\n",
       "      <td>0</td>\n",
       "      <td>0</td>\n",
       "      <td>600</td>\n",
       "      <td>0.086274</td>\n",
       "      <td>391.605056</td>\n",
       "      <td>0.211147</td>\n",
       "    </tr>\n",
       "  </tbody>\n",
       "</table>\n",
       "</div>"
      ],
      "text/plain": [
       "   X1  X2  X3    P         D  precos_otimizados        D*\n",
       "0   1   1   1  250  0.524979         428.578967  0.311547\n",
       "1   0   0   0  300  0.297339         391.605056  0.211147\n",
       "2   1   1   1  400  0.342990         428.578967  0.311547\n",
       "3   0   0   0  500  0.134703         391.605056  0.211147\n",
       "4   1   1   1  600  0.161109         428.578966  0.311547\n",
       "5   0   0   0  250  0.352059         391.605056  0.211147\n",
       "6   1   1   1  300  0.462570         428.578967  0.311547\n",
       "7   0   0   0  200  0.410960         391.605057  0.211147\n",
       "8   1   1   1  500  0.240489         428.578967  0.311547\n",
       "9   0   0   0  600  0.086274         391.605056  0.211147"
      ]
     },
     "execution_count": 164,
     "metadata": {},
     "output_type": "execute_result"
    }
   ],
   "source": [
    "df2=df\n",
    "df2[\"precos_otimizados\"]=precos_otimizados\n",
    "df2['D*']=demanda(df['X1'],df['X2'],df['X3'],df['precos_otimizados'])\n",
    "df2"
   ]
  },
  {
   "cell_type": "code",
   "execution_count": 165,
   "id": "428bdc1f",
   "metadata": {},
   "outputs": [
    {
     "name": "stdout",
     "output_type": "stream",
     "text": [
      "0.3013472268053064\n",
      "0.261347226822794\n"
     ]
    }
   ],
   "source": [
    "print(df2['D'].mean()),\n",
    "print(df2['D*'].mean())"
   ]
  },
  {
   "cell_type": "code",
   "execution_count": null,
   "id": "d28f1650",
   "metadata": {},
   "outputs": [],
   "source": [
    "import numpy as np\n",
    "import sympy as sp\n",
    "from scipy.optimize import fsolve\n",
    "\n",
    "# Define a função de demanda\n",
    "def demanda(X, P):\n",
    "    # X é uma variável indicadora (X=1/0)\n",
    "    D = np.exp(0.64 + 0.4 * X - 0.005 * P) / (1 + np.exp(0.64 + 0.4 * X - 0.005 * P))\n",
    "    return D\n",
    "\n",
    "# Define a função de Lagrange\n",
    "def func(X, indicadora):\n",
    "    P = X[:-1]  # Extraindo o vetor de preços [p1, p2, ..., pn]\n",
    "    L = X[-1]   # Extraindo o multiplicador de Lagrange\n",
    "    n = len(P)\n",
    "    \n",
    "    # Função objetivo e a soma das demandas\n",
    "    objetivo = 0\n",
    "    soma_demandas = 0\n",
    "    \n",
    "    for i in range(n):\n",
    "        D_i = demanda(indicadora[i], P[i])\n",
    "        objetivo += D_i * (P[i] - 150)\n",
    "        soma_demandas += D_i\n",
    "    \n",
    "    # Definindo a função de Lagrange com a restrição\n",
    "    return objetivo - L * (soma_demandas - 0.7450314360809431)\n",
    "\n",
    "# Aplicando a diferenciação numérica\n",
    "def dfunc(X, indicadora):\n",
    "    dLambda = np.zeros(len(X))\n",
    "    h = 1e-3  # Passo usado na diferença finita\n",
    "    for i in range(len(X)):\n",
    "        dX = np.zeros(len(X))\n",
    "        dX[i] = h\n",
    "        dLambda[i] = (func(X + dX, indicadora) - func(X - dX, indicadora)) / (2 * h)\n",
    "    return dLambda\n",
    "\n",
    "# Definindo a função para otimizar os preços\n",
    "def otimizar_precos(indicadora, precos_iniciais):\n",
    "    # Iniciando o vetor X com os preços iniciais e um valor inicial para o multiplicador de Lagrange\n",
    "    X_inicial = np.append(precos_iniciais, 0)\n",
    "    \n",
    "    # Calculando os preços otimizados\n",
    "    X_otimizado = fsolve(dfunc, X_inicial, args=(indicadora,))\n",
    "    \n",
    "    # Retornando o vetor de preços otimizados e o multiplicador de Lagrange\n",
    "    precos_otimizados = X_otimizado[:-1]\n",
    "    lambida = X_otimizado[-1]\n",
    "    \n",
    "    return precos_otimizados, lambida\n",
    "\n",
    "# Exemplo de uso\n",
    "indicadora = [1, 0]  # Exemplo de variáveis indicadoras para dois clientes\n",
    "precos_iniciais = [400, 500]  # Exemplo de preços iniciais para dois clientes\n",
    "\n",
    "precos_otimizados, lambida = otimizar_precos(indicadora, precos_iniciais)\n",
    "print(\"λ:\", lambida)\n",
    "#print(\"Preços Otimizados:\", precos_otimizados[0], precos_otimizados[1])\n",
    "#print(\"Preços Otimizados:\")\n",
    "print(\"P1:\", precos_otimizados[0])\n",
    "print(\"P2:\", precos_otimizados[1])\n"
   ]
  },
  {
   "cell_type": "code",
   "execution_count": null,
   "id": "ff5e4675",
   "metadata": {},
   "outputs": [],
   "source": []
  },
  {
   "cell_type": "code",
   "execution_count": null,
   "id": "af35feb9",
   "metadata": {},
   "outputs": [],
   "source": [
    "import numpy as np\n",
    "import sympy as sp\n",
    "from scipy import optimize\n",
    "\n",
    "# Definindo as variáveis\n",
    "P, X1, X2, X3, X4, X5, X6, X7, X8, X9, X10, X11, X12, X13, X14, X15, X16, X17, X18, X19, X20, X21, X22, X23, X24, X25, X26, C, Lambda, K = sp.symbols('P X1 X2 X3 X4 X5 X6 X7 X8 X9 X10 X11 X12 X13 X14 X15 X16 X17 X18 X19 X20 X21 X22 X23 X24 X25 X26 C Lambda K')\n",
    "\n",
    "# Definindo a função F\n",
    "#F = (sp.exp(1.3356 - 0.2576 * sp.log(P) + 1.3647 * P / X1 - 0.8782 * sp.log(P / X2) - 0.795 * sp.log(P / X3) - 1.6731 * sp.log(P / X4) + 0.3797 * sp.log(X5 + 1) + 0.0011 * X6 + 0.1253 * X7 + 0.1334 * X8 - 0.1382 * X9 + 0.3919 * X10 - 0.1397 * X11 - 0.2305 * X12 - 0.2832 * X13 + 0.0024 * X14 - 0.1476 * X15 + 0.2817 * X16 + 0.3336 * X17 - 0.4115 * X18 + 0.0127 * X19 - 0.73 * X20 + 0.4343 * X21 + 1.1066 * X22 + 1.9561 * X23 - 0.0742 * X24 - 0.8459 * X25 - 0.7094 * X26) * (P - C) - Lambda * (sp.exp(1.3356 - 0.2576 * sp.log(P) + 1.3647 * P / X1 - 0.8782 * sp.log(P / X2) - 0.795 * sp.log(P / X3) - 1.6731 * sp.log(P / X4) + 0.3797 * sp.log(X5 + 1) + 0.0011 * X6 + 0.1253 * X7 + 0.1334 * X8 - 0.1382 * X9 + 0.3919 * X10 - 0.1397 * X11 - 0.2305 * X12 - 0.2832 * X13 + 0.0024 * X14 - 0.1476 * X15 + 0.2817 * X16 + 0.3336 * X17 - 0.4115 * X18 + 0.0127 * X19 - 0.73 * X20 + 0.4343 * X21 + 1.1066 * X22 + 1.9561 * X23 - 0.0742 * X24 - 0.8459 * X25 - 0.7094 * X26) - K)\n",
    "\n",
    "# Derivando F em relação a P e Lambda\n",
    "dF_dP = sp.diff(F, P)\n",
    "dF_dLambda = sp.diff(F, Lambda)\n",
    "\n",
    "# Convertendo as derivadas em funções utilizáveis\n",
    "dF_dP_func = sp.lambdify((P, X1, X2, X3, X4, X5, X6, X7, X8, X9, X10, X11, X12, X13, X14, X15, X16, X17, X18, X19, X20, X21, X22, X23, X24, X25, X26, C, Lambda, K), dF_dP, 'numpy')\n",
    "dF_dLambda_func = sp.lambdify((P, X1, X2, X3, X4, X5, X6, X7, X8, X9, X10, X11, X12, X13, X14, X15, X16, X17, X18, X19, X20, X21, X22, X23, X24, X25, X26, C, Lambda, K), dF_dLambda, 'numpy')\n",
    "\n",
    "# Aplicando as derivadas calculadas\n",
    "def dfunc(X, indicadora, target):\n",
    "    P_vals = X[:-1]\n",
    "    L_val = X[-1]\n",
    "    dLambda = np.zeros(len(X))\n",
    "    \n",
    "    for i in range(len(P_vals)):\n",
    "        dLambda[i] = dF_dP_func(P_vals[i], *indicadora[i], L_val, target)\n",
    "    \n",
    "    dLambda[-1] = dF_dLambda_func(P_vals[0], *indicadora[0], L_val, target)  # Usando o primeiro conjunto de indicadores para Lambda\n",
    "    \n",
    "    return dLambda\n",
    "\n",
    "# Definindo a função para otimizar os preços\n",
    "def otimizar_precos(indicadora, precos_iniciais, target):\n",
    "    # Iniciando o vetor X com os preços iniciais e um valor inicial para o multiplicador de Lagrange\n",
    "    X_inicial = np.append(precos_iniciais, 0)\n",
    "    \n",
    "    # Calculando os preços otimizados\n",
    "    X_otimizado = optimize.fsolve(dfunc, X_inicial, args=(indicadora, target), xtol=1e-06, maxfev=500)\n",
    "    \n",
    "    # Retornando o vetor de preços otimizados e o multiplicador de Lagrange\n",
    "    precos_otimizados = X_otimizado[:-1]\n",
    "    lambida = X_otimizado[-1]\n",
    "    \n",
    "    return precos_otimizados, lambida\n",
    "\n",
    "# Exemplo de uso\n",
    "indicadora = np.random.rand(10, 26)  # Exemplo de matriz de indicadores\n",
    "precos_iniciais = np.random.rand(10) * 100  # Exemplo de preços iniciais\n",
    "target = 1000  # Exemplo de demanda média\n",
    "\n",
    "precos_otimizados, lambida = otimizar_precos(indicadora, precos_iniciais, target)\n",
    "print(\"λ:\", lambida)\n",
    "print(\"Preços Otimizados:\", precos_otimizados)"
   ]
  },
  {
   "cell_type": "code",
   "execution_count": 12,
   "id": "2ce4d11a",
   "metadata": {},
   "outputs": [
    {
     "name": "stdout",
     "output_type": "stream",
     "text": [
      "Cliente 1: Preço Otimizado = 7105427357601036262503874560000.00\n",
      "Cliente 2: Preço Otimizado = 7105427357601039640203595087872.00\n"
     ]
    }
   ],
   "source": [
    "import numpy as np\n",
    "from scipy.optimize import minimize\n",
    "\n",
    "# Função de demanda baseada em regressão logística\n",
    "def demanda(X, P, b0, b1, b2):\n",
    "    z = b0 + b1 * X + b2 * P\n",
    "    return 1 / (1 + np.exp(-z))\n",
    "\n",
    "# Função objetivo (margem)\n",
    "def margem(P, X, b0, b1, b2, C):\n",
    "    D = demanda(X, P, b0, b1, b2)\n",
    "    return D * (P - C)\n",
    "\n",
    "# Função de restrição\n",
    "def restricao(P, X, b0, b1, b2, target):\n",
    "    D = demanda(X, P, b0, b1, b2)\n",
    "    return D - target\n",
    "\n",
    "# Parâmetros do modelo\n",
    "b0, b1, b2 = 1.0, -0.005, 0.1  # Coeficientes da regressão logística\n",
    "C = 150  # Custo constante\n",
    "target = 0.5  # Demanda alvo\n",
    "\n",
    "# Dados dos clientes\n",
    "clientes = [\n",
    "    {'X': 1, 'P': 250},\n",
    "    {'X': 0, 'P': 300}\n",
    "]\n",
    "\n",
    "# Otimização para cada cliente\n",
    "resultados = []\n",
    "for cliente in clientes:\n",
    "    X = cliente['X']\n",
    "    P_inicial = cliente['P']\n",
    "    \n",
    "    # Função a ser minimizada (negativa da margem para maximização)\n",
    "    func_objetivo = lambda P: -margem(P, X, b0, b1, b2, C)\n",
    "    \n",
    "    # Restrições\n",
    "    cons = {'type': 'eq', 'fun': lambda P: restricao(P, X, b0, b1, b2, target)}\n",
    "    \n",
    "    # Otimização\n",
    "    resultado = minimize(func_objetivo, P_inicial, constraints=cons, method='SLSQP')\n",
    "    resultados.append(resultado.x[0])\n",
    "\n",
    "# Exibindo os resultados\n",
    "for i, cliente in enumerate(clientes):\n",
    "    print(f\"Cliente {i+1}: Preço Otimizado = {resultados[i]:.2f}\")"
   ]
  },
  {
   "cell_type": "code",
   "execution_count": null,
   "id": "4c3913f1",
   "metadata": {},
   "outputs": [],
   "source": []
  }
 ],
 "metadata": {
  "kernelspec": {
   "display_name": "Python 3 (ipykernel)",
   "language": "python",
   "name": "python3"
  },
  "language_info": {
   "codemirror_mode": {
    "name": "ipython",
    "version": 3
   },
   "file_extension": ".py",
   "mimetype": "text/x-python",
   "name": "python",
   "nbconvert_exporter": "python",
   "pygments_lexer": "ipython3",
   "version": "3.10.9"
  }
 },
 "nbformat": 4,
 "nbformat_minor": 5
}
