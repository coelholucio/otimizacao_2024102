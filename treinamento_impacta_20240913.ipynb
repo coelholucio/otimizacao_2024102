{
 "cells": [
  {
   "cell_type": "code",
   "execution_count": 1,
   "id": "fb6af72b",
   "metadata": {},
   "outputs": [],
   "source": [
    "import pandas as pd\n",
    "import numpy as np"
   ]
  },
  {
   "cell_type": "code",
   "execution_count": 4,
   "id": "da058514",
   "metadata": {},
   "outputs": [
    {
     "name": "stdout",
     "output_type": "stream",
     "text": [
      "Digite o Capital Inicial (R$): 20000\n",
      "Taxa de Juros Anual (%): 5\n",
      "Periodo de Investimento (em anos): 8\n",
      "O mntante final é de R$: 29549.10887578126\n",
      "rendimento é de R$: 9549.108875781261\n"
     ]
    }
   ],
   "source": [
    "capital_inicial = float(input(\"Digite o Capital Inicial (R$): \"))\n",
    "tx_juros = float(input(\"Taxa de Juros Anual (%): \"))\n",
    "periodo = int(input(\"Periodo de Investimento (em anos): \"))\n",
    "\n",
    "tx_juros_decimal = tx_juros/100\n",
    "                 \n",
    "montante =  capital_inicial *(1+tx_juros_decimal)**periodo   \n",
    "rendimento = montante - capital_inicial                \n",
    "                 \n",
    "print('O mntante final é de R$:' ,montante)\n",
    "\n",
    "print('rendimento é de R$:' ,rendimento)"
   ]
  },
  {
   "cell_type": "code",
   "execution_count": null,
   "id": "5074222d",
   "metadata": {},
   "outputs": [],
   "source": []
  },
  {
   "cell_type": "code",
   "execution_count": null,
   "id": "fe9c32e6",
   "metadata": {},
   "outputs": [],
   "source": []
  },
  {
   "cell_type": "code",
   "execution_count": 5,
   "id": "a3c9598d",
   "metadata": {},
   "outputs": [],
   "source": [
    "import math\n"
   ]
  },
  {
   "cell_type": "code",
   "execution_count": 7,
   "id": "f63fac7b",
   "metadata": {},
   "outputs": [
    {
     "name": "stdout",
     "output_type": "stream",
     "text": [
      "[2.0, 1.4142135623730951, 2.449489742783178]\n"
     ]
    }
   ],
   "source": [
    "a = [4,2,6]\n",
    "b=[]\n",
    "for i in a:\n",
    "    b.append(math.sqrt(i))\n",
    "\n",
    "print(b)    \n"
   ]
  },
  {
   "cell_type": "code",
   "execution_count": 9,
   "id": "ba34c25f",
   "metadata": {},
   "outputs": [
    {
     "name": "stdout",
     "output_type": "stream",
     "text": [
      "13\n"
     ]
    }
   ],
   "source": [
    "x = lambda a: a+5\n",
    "print(x(8))"
   ]
  },
  {
   "cell_type": "code",
   "execution_count": null,
   "id": "97d37f95",
   "metadata": {},
   "outputs": [],
   "source": [
    "x = lambda a,b,c: a+5\n",
    "print(x(8))"
   ]
  },
  {
   "cell_type": "code",
   "execution_count": 13,
   "id": "c0aabca9",
   "metadata": {},
   "outputs": [
    {
     "name": "stdout",
     "output_type": "stream",
     "text": [
      "é: 10\n"
     ]
    }
   ],
   "source": [
    "#contador simples\n",
    "contador =0\n",
    "for i in range(1,11):\n",
    "    contador+=1\n",
    "\n",
    "print(\"é:\",contador)\n",
    "\n"
   ]
  },
  {
   "cell_type": "code",
   "execution_count": 17,
   "id": "505fad61",
   "metadata": {},
   "outputs": [
    {
     "name": "stdout",
     "output_type": "stream",
     "text": [
      "é: 15\n"
     ]
    }
   ],
   "source": [
    "soma=0\n",
    "for i in range(1,6):\n",
    "    soma  += i\n",
    "print(\"é:\",soma)    "
   ]
  },
  {
   "cell_type": "code",
   "execution_count": 20,
   "id": "4d441e29",
   "metadata": {},
   "outputs": [
    {
     "name": "stdout",
     "output_type": "stream",
     "text": [
      "É: 5\n"
     ]
    }
   ],
   "source": [
    "contadores_pares=0\n",
    "for i in range(1,11):\n",
    "    if i % 2 ==0:\n",
    "        contadores_pares +=1\n",
    "print(\"É:\",contadores_pares)        \n",
    "    "
   ]
  },
  {
   "cell_type": "code",
   "execution_count": 23,
   "id": "bdc9cd6c",
   "metadata": {},
   "outputs": [
    {
     "name": "stdout",
     "output_type": "stream",
     "text": [
      "é: 25\n"
     ]
    }
   ],
   "source": [
    "soma_impares=0\n",
    "for i in range(1,11):\n",
    "    if i%2 != 0:\n",
    "        soma_impares+=i\n",
    "print(\"é:\",soma_impares)        "
   ]
  },
  {
   "cell_type": "code",
   "execution_count": 25,
   "id": "0f6e8614",
   "metadata": {},
   "outputs": [
    {
     "name": "stdout",
     "output_type": "stream",
     "text": [
      "digite o numero limite: 8\n",
      " o contadore é:  8\n"
     ]
    }
   ],
   "source": [
    "#contador de usuario\n",
    "limite= int(input(\"digite o numero limite: \"))\n",
    "contador =0\n",
    "for i in range(1,limite+1):\n",
    "    contador+=1\n",
    "print(\" o contadore é: \", contador)    "
   ]
  },
  {
   "cell_type": "code",
   "execution_count": 27,
   "id": "ac9c6081",
   "metadata": {},
   "outputs": [
    {
     "name": "stdout",
     "output_type": "stream",
     "text": [
      "digite o numero limite: 5\n",
      "é: 5\n"
     ]
    }
   ],
   "source": [
    "limite= int(input(\"digite o numero limite: \"))\n",
    "soma=0\n",
    "for i in range(1,limite+1):\n",
    "    soma += i\n",
    "print(\"é:\",limite)    "
   ]
  },
  {
   "cell_type": "code",
   "execution_count": null,
   "id": "9f837503",
   "metadata": {},
   "outputs": [],
   "source": []
  }
 ],
 "metadata": {
  "kernelspec": {
   "display_name": "Python 3 (ipykernel)",
   "language": "python",
   "name": "python3"
  },
  "language_info": {
   "codemirror_mode": {
    "name": "ipython",
    "version": 3
   },
   "file_extension": ".py",
   "mimetype": "text/x-python",
   "name": "python",
   "nbconvert_exporter": "python",
   "pygments_lexer": "ipython3",
   "version": "3.10.9"
  }
 },
 "nbformat": 4,
 "nbformat_minor": 5
}
