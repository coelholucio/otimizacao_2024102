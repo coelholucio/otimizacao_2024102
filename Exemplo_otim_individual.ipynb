{
 "cells": [
  {
   "cell_type": "code",
   "execution_count": 6,
   "id": "173cec60",
   "metadata": {},
   "outputs": [],
   "source": [
    "import numpy as np\n",
    "import pandas as pd\n",
    "import seaborn as sns\n",
    "from sympy import diff\n",
    "from sympy import symbols\n",
    "import sympy as sp\n",
    "import matplotlib.pyplot as plt"
   ]
  },
  {
   "cell_type": "code",
   "execution_count": 21,
   "id": "b8a17ad3",
   "metadata": {},
   "outputs": [
    {
     "name": "stdout",
     "output_type": "stream",
     "text": [
      "Demanda Cliente 1: 0.44769\n",
      "Demanda Cliente 2: 0.29734\n",
      "Demanda Total: 0.74503\n"
     ]
    }
   ],
   "source": [
    "# Define a função de demanda\n",
    "def demanda(X,P):\n",
    "    #X é uma variavel qq indicadora (X=1/0)\n",
    "    D = np.exp(0.64+0.4*X - 0.005*P)/((1+np.exp(0.64+0.4*X - 0.005*P)))\n",
    "    return D\n",
    "\n",
    "D1 =demanda(1,250)\n",
    "D2 =demanda(0,300)\n",
    "print('Demanda Cliente 1: %s' % round(D1,5))\n",
    "print('Demanda Cliente 2: %s' % round(D2,5))\n",
    "print('Demanda Total: %s' % round((np.sum(D1)+np.sum(D2)),5))"
   ]
  },
  {
   "cell_type": "code",
   "execution_count": null,
   "id": "0afbe311",
   "metadata": {},
   "outputs": [],
   "source": [
    "P = np.arange(100,1000,step=50)\n",
    "X = "
   ]
  },
  {
   "cell_type": "code",
   "execution_count": null,
   "id": "2ed193f0",
   "metadata": {},
   "outputs": [],
   "source": [
    "#"
   ]
  },
  {
   "cell_type": "markdown",
   "id": "c0f7ecc7",
   "metadata": {},
   "source": [
    "# Replicando o exemplo\n"
   ]
  },
  {
   "cell_type": "code",
   "execution_count": 22,
   "id": "3f319f27",
   "metadata": {
    "scrolled": true
   },
   "outputs": [
    {
     "name": "stdout",
     "output_type": "stream",
     "text": [
      "Lambda: [-196.73901962]\n",
      "P1: [287.59604342]\n",
      "P2: [257.783316]\n"
     ]
    }
   ],
   "source": [
    "def func(X):\n",
    "    p1 = X[0]\n",
    "    p2 = X[1]\n",
    "    L  = X[2] # this is the multiplier. lambda is a reserved keyword in python\n",
    "    return (((sp.exp(1.04)*sp.exp(-0.005*p1))/(1+sp.exp(1.04)*sp.exp(-0.005*p1)))*(p1-150)+((sp.exp(0.64)*sp.exp(-0.005*p2))/(1+sp.exp(0.64)*sp.exp(-0.005*p2)))*(p2-150))-L*((((sp.exp(1.04)*sp.exp(-0.005*p1))/(1+sp.exp(1.04)*sp.exp(-0.005*p1)))+((sp.exp(0.64)*sp.exp(-0.005*p2))/(1+sp.exp(0.64)*sp.exp(-0.005*p2))))-0.7450314360809431)\n",
    "\n",
    "def dfunc(X):\n",
    "    dLambda = np.zeros(len(X))\n",
    "    h = 1e-3 # this is the step size used in the finite difference.\n",
    "    for i in range(len(X)):\n",
    "        dX = np.zeros(len(X))\n",
    "        dX[i] = h\n",
    "        dLambda[i] = (func(X+dX)-func(X-dX))/(2*h);\n",
    "    return dLambda\n",
    "\n",
    "from scipy.optimize import fsolve\n",
    "\n",
    "#this is the max\n",
    "X1 = fsolve(dfunc, [400, 500, 0])\n",
    "#print(X1) \n",
    "#print(func(X1))\n",
    "\n",
    "premio_otim1 = X1[:1]\n",
    "premio_otim2 = X1[1:2]\n",
    "lambda_=X1[2:3]\n",
    "print('Lambda: %s' % lambda_)\n",
    "print('P1: %s' % premio_otim1)\n",
    "print('P2: %s' % premio_otim2)\n"
   ]
  },
  {
   "cell_type": "code",
   "execution_count": 23,
   "id": "072dedad",
   "metadata": {},
   "outputs": [
    {
     "name": "stdout",
     "output_type": "stream",
     "text": [
      "Demanda Cliente 1: 0.4018\n",
      "Demanda Cliente 2: 0.34323\n",
      "Demanda Total: 0.74503\n"
     ]
    }
   ],
   "source": [
    "D1 =demanda(1,287.59604342)\n",
    "D2 =demanda(0,257.783316)\n",
    "print('Demanda Cliente 1: %s' % round(D1,5))\n",
    "print('Demanda Cliente 2: %s' % round(D2,5))\n",
    "print('Demanda Total: %s' % round((np.sum(D1)+np.sum(D2)),5))"
   ]
  },
  {
   "cell_type": "code",
   "execution_count": null,
   "id": "6e845531",
   "metadata": {},
   "outputs": [],
   "source": [
    "f = ((sp.exp(0.64)*sp.exp(-0.005*P))/(1+sp.exp(0.64)*sp.exp(-0.005*P)))*(P-150)  - L*(((sp.exp(0.64)*sp.exp(-0.005*P))/(1+sp.exp(0.64)*sp.exp(-0.005*P)))-0.7450314360809431) \n",
    "#sp.sum( ((sp.exp(0.64)*sp.exp(-0.005*P))/(1+sp.exp(0.64)*sp.exp(-0.005*P)))*(P-150) ) - sp.sum( L*(((sp.exp(0.64)*sp.exp(-0.005*P))/(1+sp.exp(0.64)*sp.exp(-0.005*P)))-0.7450314360809431) )\n",
    "P = symbols('P')\n",
    "L = symbols('L')\n",
    "#f_prime_P = diff(f, P)\n",
    "#f_prime_L = diff(f, L)\n",
    "#print(f_prime_P)\n",
    "#print(f_prime_L)"
   ]
  },
  {
   "cell_type": "code",
   "execution_count": 9,
   "id": "a75dfe4d",
   "metadata": {},
   "outputs": [
    {
     "ename": "NameError",
     "evalue": "name 'f' is not defined",
     "output_type": "error",
     "traceback": [
      "\u001b[1;31m---------------------------------------------------------------------------\u001b[0m",
      "\u001b[1;31mNameError\u001b[0m                                 Traceback (most recent call last)",
      "Cell \u001b[1;32mIn[9], line 1\u001b[0m\n\u001b[1;32m----> 1\u001b[0m diff(\u001b[43mf\u001b[49m, P)\n",
      "\u001b[1;31mNameError\u001b[0m: name 'f' is not defined"
     ]
    }
   ],
   "source": [
    "diff(f, P)"
   ]
  },
  {
   "cell_type": "code",
   "execution_count": null,
   "id": "1a47216a",
   "metadata": {},
   "outputs": [],
   "source": [
    "diff(f, L)"
   ]
  },
  {
   "cell_type": "code",
   "execution_count": null,
   "id": "715447c9",
   "metadata": {},
   "outputs": [],
   "source": [
    "def func(P):\n",
    "    return 0.745031436080943 - 1.89648087930495*sp.exp(-0.005*𝑃)/(1+1.89648087930495*sp.exp(-0.005*𝑃))"
   ]
  },
  {
   "cell_type": "code",
   "execution_count": null,
   "id": "15846c87",
   "metadata": {},
   "outputs": [],
   "source": [
    "func(287.59604342)+func(257.783316)"
   ]
  },
  {
   "cell_type": "code",
   "execution_count": null,
   "id": "6c90b775",
   "metadata": {},
   "outputs": [],
   "source": [
    "func(287.59604342)+func(257.783316) - 0.74503"
   ]
  },
  {
   "cell_type": "markdown",
   "id": "77495f0a",
   "metadata": {},
   "source": [
    "## Replicando o exemplo Geral"
   ]
  },
  {
   "cell_type": "code",
   "execution_count": 10,
   "id": "212d78a7",
   "metadata": {},
   "outputs": [
    {
     "name": "stdout",
     "output_type": "stream",
     "text": [
      "λ: -196.73901963513433\n",
      "P1: 287.5960434220056\n",
      "P2: 257.7833159899672\n"
     ]
    }
   ],
   "source": [
    "import numpy as np\n",
    "import sympy as sp\n",
    "from scipy.optimize import fsolve\n",
    "\n",
    "# Define a função de demanda\n",
    "def demanda(X, P):\n",
    "    # X é uma variável indicadora (X=1/0)\n",
    "    D = np.exp(0.64 + 0.4 * X - 0.005 * P) / (1 + np.exp(0.64 + 0.4 * X - 0.005 * P))\n",
    "    return D\n",
    "\n",
    "# Define a função de Lagrange\n",
    "def func(X, indicadora):\n",
    "    P = X[:-1]  # Extraindo o vetor de preços [p1, p2, ..., pn]\n",
    "    L = X[-1]   # Extraindo o multiplicador de Lagrange\n",
    "    n = len(P)\n",
    "    \n",
    "    # Função objetivo e a soma das demandas\n",
    "    objetivo = 0\n",
    "    soma_demandas = 0\n",
    "    \n",
    "    for i in range(n):\n",
    "        D_i = demanda(indicadora[i], P[i])\n",
    "        objetivo += D_i * (P[i] - 150)\n",
    "        soma_demandas += D_i\n",
    "    \n",
    "    # Definindo a função de Lagrange com a restrição\n",
    "    return objetivo - L * (soma_demandas - 0.7450314360809431)\n",
    "\n",
    "# Aplicando a diferenciação numérica\n",
    "def dfunc(X, indicadora):\n",
    "    dLambda = np.zeros(len(X))\n",
    "    h = 1e-3  # Passo usado na diferença finita\n",
    "    for i in range(len(X)):\n",
    "        dX = np.zeros(len(X))\n",
    "        dX[i] = h\n",
    "        dLambda[i] = (func(X + dX, indicadora) - func(X - dX, indicadora)) / (2 * h)\n",
    "    return dLambda\n",
    "\n",
    "# Definindo a função para otimizar os preços\n",
    "def otimizar_precos(indicadora, precos_iniciais):\n",
    "    # Iniciando o vetor X com os preços iniciais e um valor inicial para o multiplicador de Lagrange\n",
    "    X_inicial = np.append(precos_iniciais, 0)\n",
    "    \n",
    "    # Calculando os preços otimizados\n",
    "    X_otimizado = fsolve(dfunc, X_inicial, args=(indicadora,))\n",
    "    \n",
    "    # Retornando o vetor de preços otimizados e o multiplicador de Lagrange\n",
    "    precos_otimizados = X_otimizado[:-1]\n",
    "    lambida = X_otimizado[-1]\n",
    "    \n",
    "    return precos_otimizados, lambida\n",
    "\n",
    "# Exemplo de uso\n",
    "indicadora = [1, 0]  # Exemplo de variáveis indicadoras para dois clientes\n",
    "precos_iniciais = [400, 500]  # Exemplo de preços iniciais para dois clientes\n",
    "\n",
    "precos_otimizados, lambida = otimizar_precos(indicadora, precos_iniciais)\n",
    "print(\"λ:\", lambida)\n",
    "#print(\"Preços Otimizados:\", precos_otimizados[0], precos_otimizados[1])\n",
    "#print(\"Preços Otimizados:\")\n",
    "print(\"P1:\", precos_otimizados[0])\n",
    "print(\"P2:\", precos_otimizados[1])\n"
   ]
  },
  {
   "cell_type": "code",
   "execution_count": 3,
   "id": "83c67607",
   "metadata": {},
   "outputs": [
    {
     "name": "stdout",
     "output_type": "stream",
     "text": [
      "λ: -166.01295948174976\n",
      "P1: 306.31778839555534\n",
      "P2: 278.31273904697014\n"
     ]
    }
   ],
   "source": [
    "import numpy as np\n",
    "import sympy as sp\n",
    "from scipy.optimize import fsolve\n",
    "\n",
    "# Define a função de demanda\n",
    "def demanda(X, P):\n",
    "    # X é uma variável indicadora (X=1/0)\n",
    "    D = np.exp(0.64 + 0.4 * X - 0.005 * P) / (1 + np.exp(0.64 + 0.4 * X - 0.005 * P))\n",
    "    return D\n",
    "\n",
    "# Define a função de Lagrange\n",
    "def func(X, indicadora):\n",
    "    P = X[:-1]  # Extraindo o vetor de preços [p1, p2, ..., pn]\n",
    "    L = X[-1]   # Extraindo o multiplicador de Lagrange\n",
    "    n = len(P)\n",
    "    \n",
    "    # Função objetivo e a soma das demandas\n",
    "    objetivo = 0\n",
    "    soma_demandas = 0\n",
    "    \n",
    "    for i in range(n):\n",
    "        D_i = demanda(indicadora[i], P[i])\n",
    "        objetivo += D_i * (P[i] - 150)\n",
    "        soma_demandas += D_i\n",
    "    \n",
    "    # Definindo a função de Lagrange com a restrição\n",
    "    return objetivo - L * (soma_demandas - target)\n",
    "\n",
    "# Aplicando a diferenciação numérica\n",
    "def dfunc(X, indicadora):\n",
    "    dLambda = np.zeros(len(X))\n",
    "    h = 1e-3  # Passo usado na diferença finita\n",
    "    for i in range(len(X)):\n",
    "        dX = np.zeros(len(X))\n",
    "        dX[i] = h\n",
    "        dLambda[i] = (func(X + dX, indicadora) - func(X - dX, indicadora)) / (2 * h)\n",
    "    return dLambda\n",
    "\n",
    "# Definindo a função para otimizar os preços\n",
    "def otimizar_precos(indicadora, precos_iniciais):\n",
    "    # Iniciando o vetor X com os preços iniciais e um valor inicial para o multiplicador de Lagrange\n",
    "    X_inicial = np.append(precos_iniciais, 0)\n",
    "    \n",
    "    # Calculando os preços otimizados\n",
    "    X_otimizado = fsolve(dfunc, X_inicial, args=(indicadora,))\n",
    "    \n",
    "    # Retornando o vetor de preços otimizados e o multiplicador de Lagrange\n",
    "    precos_otimizados = X_otimizado[:-1]\n",
    "    lambida = X_otimizado[-1]\n",
    "    \n",
    "    return precos_otimizados, lambida\n",
    "\n",
    "# Exemplo de uso\n",
    "indicadora = [1, 0]  # Exemplo de variáveis indicadoras para dois clientes\n",
    "precos_iniciais = [400, 500]  # Exemplo de preços iniciais para dois clientes\n",
    "target=0.7\n",
    "precos_otimizados, lambida = otimizar_precos(indicadora, precos_iniciais)\n",
    "print(\"λ:\", lambida)\n",
    "#print(\"Preços Otimizados:\", precos_otimizados[0], precos_otimizados[1])\n",
    "#print(\"Preços Otimizados:\")\n",
    "print(\"P1:\", precos_otimizados[0])\n",
    "print(\"P2:\", precos_otimizados[1])\n"
   ]
  },
  {
   "cell_type": "code",
   "execution_count": 4,
   "id": "3e8c4d9f",
   "metadata": {},
   "outputs": [],
   "source": [
    "# Define a função de demanda\n",
    "def demanda1(X, P):\n",
    "    # X é uma variável indicadora (X=1/0)\n",
    "    D = np.exp(0.64 + 0.4 * X - 0.005 * P) / (1 + np.exp(0.64 + 0.4 * X - 0.005 * P))\n",
    "    return D"
   ]
  },
  {
   "cell_type": "code",
   "execution_count": 11,
   "id": "6d3fc81e",
   "metadata": {},
   "outputs": [
    {
     "data": {
      "text/html": [
       "<div>\n",
       "<style scoped>\n",
       "    .dataframe tbody tr th:only-of-type {\n",
       "        vertical-align: middle;\n",
       "    }\n",
       "\n",
       "    .dataframe tbody tr th {\n",
       "        vertical-align: top;\n",
       "    }\n",
       "\n",
       "    .dataframe thead th {\n",
       "        text-align: right;\n",
       "    }\n",
       "</style>\n",
       "<table border=\"1\" class=\"dataframe\">\n",
       "  <thead>\n",
       "    <tr style=\"text-align: right;\">\n",
       "      <th></th>\n",
       "      <th>Cliente</th>\n",
       "      <th>X</th>\n",
       "      <th>P</th>\n",
       "      <th>C</th>\n",
       "      <th>D</th>\n",
       "    </tr>\n",
       "  </thead>\n",
       "  <tbody>\n",
       "    <tr>\n",
       "      <th>0</th>\n",
       "      <td>1</td>\n",
       "      <td>1</td>\n",
       "      <td>250</td>\n",
       "      <td>150</td>\n",
       "      <td>0.447692</td>\n",
       "    </tr>\n",
       "    <tr>\n",
       "      <th>1</th>\n",
       "      <td>2</td>\n",
       "      <td>0</td>\n",
       "      <td>300</td>\n",
       "      <td>150</td>\n",
       "      <td>0.297339</td>\n",
       "    </tr>\n",
       "  </tbody>\n",
       "</table>\n",
       "</div>"
      ],
      "text/plain": [
       "   Cliente  X    P    C         D\n",
       "0        1  1  250  150  0.447692\n",
       "1        2  0  300  150  0.297339"
      ]
     },
     "execution_count": 11,
     "metadata": {},
     "output_type": "execute_result"
    }
   ],
   "source": [
    "df2 = pd.DataFrame({\n",
    "    'Cliente': [1, 2],\n",
    "    'X': [1, 0],\n",
    "    'P': [250, 300],\n",
    "    'C': [150, 150]\n",
    "})\n",
    "df2['D']=demanda1(df2['X'],df2['P'])\n",
    "df2"
   ]
  },
  {
   "cell_type": "code",
   "execution_count": null,
   "id": "33c28e22",
   "metadata": {},
   "outputs": [],
   "source": [
    "# Criação do DataFrame\n",
    "df6 = pd.DataFrame({\n",
    "    'Cliente': [1, 2, 3, 4, 5,6],\n",
    "    'X': [1, 1, 1, 0, 0,0],\n",
    "    'P': [100, 200, 250, 150, 200,300],\n",
    "    'C': [150, 150, 150, 150, 150,150]\n",
    "})\n",
    "df6['D']=demanda1(df6['X'],df6['P'])\n",
    "df6\n",
    "print(np.mean(df6['D']))"
   ]
  },
  {
   "cell_type": "code",
   "execution_count": null,
   "id": "f04490fa",
   "metadata": {},
   "outputs": [],
   "source": [
    "# Exemplo de uso df2\n",
    "custo_medio=np.mean(df2['C'])\n",
    "#custo_medio=np.array(df2['C'])\n",
    "target_demand = np.mean(df2['D'])\n",
    "#target_demand = np.sum(df2['D'])\n",
    "indicadora = np.array(df2['X'])  # Exemplo de variáveis indicadoras para dois clientes\n",
    "precos_iniciais = np.array(df2['P']*1.7) # Exemplo de preços iniciais para dois clientes"
   ]
  },
  {
   "cell_type": "code",
   "execution_count": null,
   "id": "d17fcdf1",
   "metadata": {},
   "outputs": [],
   "source": [
    "# Exemplo de uso df6\n",
    "custo_medio=np.mean(df6['C'])\n",
    "#custo_medio=np.array(df6['C'])\n",
    "target_demand = np.mean(df6['D'])\n",
    "#target_demand=0.45\n",
    "#target_demand = np.sum(df6['D'])\n",
    "indicadora = np.array(df6['X'])  # Exemplo de variáveis indicadoras para dois clientes\n",
    "precos_iniciais = np.array(df6['P']*1.7) # Exemplo de preços iniciais para dois clientes"
   ]
  },
  {
   "cell_type": "code",
   "execution_count": null,
   "id": "e0b3316c",
   "metadata": {},
   "outputs": [],
   "source": [
    "# Exemplo de uso df 2\n",
    "indicadora = [1, 0]  # Exemplo de variáveis indicadoras para dois clientes\n",
    "precos_iniciais = [425, 510]  # Exemplo de preços iniciais para dois clientes\n",
    "#target_demand=0.7450314360809431\n",
    "target_demand=0.7450314360809431/2\n",
    "custo_medio = 150"
   ]
  },
  {
   "cell_type": "code",
   "execution_count": null,
   "id": "b601016e",
   "metadata": {},
   "outputs": [],
   "source": [
    "import numpy as np\n",
    "import sympy as sp\n",
    "from scipy.optimize import fsolve\n",
    "\n",
    "# Define a função de demanda\n",
    "def demanda(X, P):\n",
    "    # X é uma variável indicadora (X=1/0)\n",
    "    D = np.exp(0.64 + 0.4 * X - 0.005 * P) / (1 + np.exp(0.64 + 0.4 * X - 0.005 * P))\n",
    "    return D\n",
    "\n",
    "# Define a função de Lagrange\n",
    "def func(X, indicadora):\n",
    "    P = X[:-1]  # Extraindo o vetor de preços [p1, p2, ..., pn]\n",
    "    L = X[-1]   # Extraindo o multiplicador de Lagrange\n",
    "    n = len(P)\n",
    "    \n",
    "    # Função objetivo e a soma das demandas\n",
    "    objetivo = 0\n",
    "    soma_demandas = 0\n",
    "    \n",
    "    for i in range(n):\n",
    "        D_i = demanda(indicadora[i], P[i])\n",
    "        objetivo += D_i * (P[i] - custo_medio)\n",
    "        soma_demandas += D_i\n",
    "    \n",
    "    # Definindo a função de Lagrange com a restrição\n",
    "    return objetivo - L * (soma_demandas - target_demand*n)\n",
    "\n",
    "# Aplicando a diferenciação numérica\n",
    "def dfunc(X, indicadora):\n",
    "    dLambda = np.zeros(len(X))\n",
    "    h = 1e-3  # Passo usado na diferença finita\n",
    "    for i in range(len(X)):\n",
    "        dX = np.zeros(len(X))\n",
    "        dX[i] = h\n",
    "        dLambda[i] = (func(X + dX, indicadora) - func(X - dX, indicadora)) / (2 * h)\n",
    "    return dLambda\n",
    "\n",
    "# Definindo a função para otimizar os preços\n",
    "def otimizar_precos(indicadora, precos_iniciais):\n",
    "    # Iniciando o vetor X com os preços iniciais e um valor inicial para o multiplicador de Lagrange\n",
    "    X_inicial = np.append(precos_iniciais, 0)\n",
    "    \n",
    "    # Calculando os preços otimizados\n",
    "    X_otimizado = fsolve(dfunc, X_inicial, args=(indicadora))\n",
    "    \n",
    "    # Retornando o vetor de preços otimizados e o multiplicador de Lagrange\n",
    "    precos_otimizados = X_otimizado[:-1]\n",
    "    lambida = X_otimizado[-1]\n",
    "    \n",
    "    return precos_otimizados, lambida\n",
    "\n",
    "\n",
    "precos_otimizados, lambida = otimizar_precos(indicadora, precos_iniciais)\n",
    "print(\"Multiplicador de Lagrange (λ):\", lambida)\n",
    "#print(\"Preços Otimizados:\", precos_otimizados[0], precos_otimizados[1])\n",
    "print(\"Preços Otimizados:\")\n",
    "#print(\"P1:\", precos_otimizados[0])\n",
    "#print(\"P2:\", precos_otimizados[1])\n",
    "print(\"P:\", precos_otimizados)\n"
   ]
  },
  {
   "cell_type": "code",
   "execution_count": null,
   "id": "a0fe49ae",
   "metadata": {},
   "outputs": [],
   "source": [
    "print(demanda1(1,250)),\n",
    "print(demanda1(1,400)),\n",
    "print(demanda1(1,500)),\n",
    "print(demanda1(1,376.970066)),\n"
   ]
  },
  {
   "cell_type": "code",
   "execution_count": null,
   "id": "aadf9e96",
   "metadata": {},
   "outputs": [],
   "source": [
    "df6['P*']=precos_otimizados\n",
    "df6['D*']=demanda1(df6['X'],df6['P*'])\n",
    "df6"
   ]
  },
  {
   "cell_type": "code",
   "execution_count": null,
   "id": "779b05fa",
   "metadata": {},
   "outputs": [],
   "source": [
    "precos_otimizados"
   ]
  },
  {
   "cell_type": "code",
   "execution_count": null,
   "id": "d4c53815",
   "metadata": {},
   "outputs": [],
   "source": [
    "np.array(df6['D*'])"
   ]
  },
  {
   "cell_type": "markdown",
   "id": "4dbeb715",
   "metadata": {},
   "source": [
    "################################################################\n",
    "################################################################"
   ]
  },
  {
   "cell_type": "code",
   "execution_count": null,
   "id": "a1625268",
   "metadata": {},
   "outputs": [],
   "source": [
    "np.sum(df6['D'])"
   ]
  },
  {
   "cell_type": "code",
   "execution_count": null,
   "id": "fa6098bc",
   "metadata": {},
   "outputs": [],
   "source": [
    "# Exemplo de uso df6\n",
    "#custo_medio=np.mean(df6['C'])\n",
    "custo_medio=np.array(df6['C'])\n",
    "#target_demand = np.mean(df6['D'])\n",
    "#target_demand=0.45\n",
    "#target_demand = np.sum(df6['D'])\n",
    "X = np.array(df6['X'])  # Exemplo de variáveis indicadoras para dois clientes\n",
    "premio_inicial = np.array(df6['P*']) # Exemplo de preços iniciais para dois clientes\n",
    "demanda_alvo=0.55\n"
   ]
  },
  {
   "cell_type": "code",
   "execution_count": 2,
   "id": "43503c33",
   "metadata": {},
   "outputs": [
    {
     "ename": "NameError",
     "evalue": "name 'df6' is not defined",
     "output_type": "error",
     "traceback": [
      "\u001b[1;31m---------------------------------------------------------------------------\u001b[0m",
      "\u001b[1;31mNameError\u001b[0m                                 Traceback (most recent call last)",
      "Cell \u001b[1;32mIn[2], line 20\u001b[0m\n\u001b[0;32m     17\u001b[0m restr_demanda \u001b[38;5;241m=\u001b[39m {\u001b[38;5;124m'\u001b[39m\u001b[38;5;124mtype\u001b[39m\u001b[38;5;124m'\u001b[39m: \u001b[38;5;124m'\u001b[39m\u001b[38;5;124meq\u001b[39m\u001b[38;5;124m'\u001b[39m, \u001b[38;5;124m'\u001b[39m\u001b[38;5;124mfun\u001b[39m\u001b[38;5;124m'\u001b[39m: constraint}   \n\u001b[0;32m     19\u001b[0m \u001b[38;5;66;03m# limitando o premio fique dentro do range\u001b[39;00m\n\u001b[1;32m---> 20\u001b[0m bounds \u001b[38;5;241m=\u001b[39m [(\u001b[38;5;241m0.9\u001b[39m \u001b[38;5;241m*\u001b[39m premio_base, premio_base\u001b[38;5;241m*\u001b[39m\u001b[38;5;241m1.1\u001b[39m) \u001b[38;5;28;01mfor\u001b[39;00m premio_base \u001b[38;5;129;01min\u001b[39;00m \u001b[43mdf6\u001b[49m[\u001b[38;5;124m\"\u001b[39m\u001b[38;5;124mP*\u001b[39m\u001b[38;5;124m\"\u001b[39m]]\n\u001b[0;32m     22\u001b[0m \u001b[38;5;66;03m# rodando a otimizaçao\u001b[39;00m\n\u001b[0;32m     23\u001b[0m result \u001b[38;5;241m=\u001b[39m minimize(margem_esperada,\n\u001b[0;32m     24\u001b[0m                   premio_inicial,\n\u001b[0;32m     25\u001b[0m                   args\u001b[38;5;241m=\u001b[39m(demanda_alvo), \n\u001b[1;32m   (...)\u001b[0m\n\u001b[0;32m     28\u001b[0m                   constraints\u001b[38;5;241m=\u001b[39mrestr_demanda,\n\u001b[0;32m     29\u001b[0m                   bounds\u001b[38;5;241m=\u001b[39mbounds)\n",
      "\u001b[1;31mNameError\u001b[0m: name 'df6' is not defined"
     ]
    }
   ],
   "source": [
    "from scipy.optimize import minimize\n",
    "\n",
    "def demanda_t(X, P):\n",
    "    # X é uma variável indicadora (X=1/0)\n",
    "    \n",
    "    D = np.exp(0.64 + 0.4 * X - 0.005 * P) / (1 + np.exp(0.64 + 0.4 * X - 0.005 * P))\n",
    "    return D\n",
    "\n",
    "# Definindo a função objetivo\n",
    "def margem_esperada(P, X):\n",
    "    return -np.sum(demanda_t(P, X) * (P - custo_medio))\n",
    "\n",
    "# restricão demanda alvo\n",
    "def constraint(P,X,demanda_alvo):\n",
    "    return np.sum(demanda_t(P, X) - demanda_alvo*n)\n",
    "\n",
    "restr_demanda = {'type': 'eq', 'fun': constraint}   \n",
    "\n",
    "# limitando o premio fique dentro do range\n",
    "bounds = [(0.9 * premio_base, premio_base*1.1) for premio_base in df6[\"P*\"]]\n",
    "\n",
    "# rodando a otimizaçao\n",
    "result = minimize(margem_esperada,\n",
    "                  premio_inicial,\n",
    "                  args=(demanda_alvo), \n",
    "                  method = 'L-BFGS-B', \n",
    "                  tol=0.01,\n",
    "                  constraints=restr_demanda,\n",
    "                  bounds=bounds)\n",
    "\n"
   ]
  },
  {
   "cell_type": "code",
   "execution_count": null,
   "id": "6462f0e2",
   "metadata": {},
   "outputs": [],
   "source": [
    "# premio otimizados\n",
    "premio_otim = result.x\n",
    "premio_otim"
   ]
  },
  {
   "cell_type": "code",
   "execution_count": null,
   "id": "48303626",
   "metadata": {},
   "outputs": [],
   "source": [
    "df6['P*2']=premio_otim\n",
    "df6['D*2']=demanda(df6['X'],df6['P*2'])\n",
    "df6"
   ]
  },
  {
   "cell_type": "code",
   "execution_count": 1,
   "id": "6c8c4216",
   "metadata": {},
   "outputs": [
    {
     "name": "stdout",
     "output_type": "stream",
     "text": [
      "λ: 312.71747288263015\n",
      "Preços Otimizados: [ 681.46380892 6132.45673345  681.46380897  675.65390883  681.4638089\n",
      "  675.6539088   681.46380887 5853.05627919  681.46380894 5862.26095362]\n"
     ]
    },
    {
     "name": "stderr",
     "output_type": "stream",
     "text": [
      "C:\\ProgramData\\anaconda3\\lib\\site-packages\\scipy\\optimize\\_minpack_py.py:178: RuntimeWarning: The iteration is not making good progress, as measured by the \n",
      "  improvement from the last ten iterations.\n",
      "  warnings.warn(msg, RuntimeWarning)\n"
     ]
    }
   ],
   "source": [
    "import numpy as np\n",
    "import sympy as sp\n",
    "from scipy.optimize import fsolve\n",
    "\n",
    "target_demand=0.55\n",
    "custo=150\n",
    "\n",
    "# Exemplo de \n",
    "indicadora = [1, 0,1,0, 1,0,1, 0,1,0]  # Exemplo de variáveis indicadoras para dois clientes\n",
    "precos_iniciais = [400, 500,400,200,150,250,300,500,400,500]  # Exemplo de preços iniciais para dois clientes\n",
    "\n",
    "\n",
    "# Define a função de demanda\n",
    "def demanda(X,P):\n",
    "    # X é uma variável indicadora (X=1/0)\n",
    "    D = np.exp(0.64 + 0.4 * X - 0.005 * P) / (1 + np.exp(0.64 + 0.4 * X - 0.005 * P))\n",
    "    return D\n",
    "\n",
    "# Define a função de Lagrange\n",
    "def func(X, indicadora):\n",
    "    P = X[:-1]  # Extraindo o vetor de preços [p1, p2, ..., pn]\n",
    "    L = X[-1]   # Extraindo o multiplicador de Lagrange\n",
    "    n = len(P)\n",
    "    \n",
    "    # Função objetivo e a soma das demandas\n",
    "    objetivo = 0\n",
    "    soma_demandas = 0\n",
    "    \n",
    "    for i in range(n):\n",
    "        D_i = demanda(indicadora[i], P[i])\n",
    "        objetivo += D_i * (P[i] - custo)\n",
    "        soma_demandas += D_i\n",
    "    \n",
    "    # Definindo a função de Lagrange com a restrição\n",
    "    return objetivo - L * (soma_demandas - target_demand)\n",
    "\n",
    "# Aplicando a diferenciação numérica\n",
    "def dfunc(X, indicadora):\n",
    "    dLambda = np.zeros(len(X))\n",
    "    h = 1e-3  # Passo usado na diferença finita\n",
    "    for i in range(len(X)):\n",
    "        dX = np.zeros(len(X))\n",
    "        dX[i] = h\n",
    "        dLambda[i] = (func(X + dX, indicadora) - func(X - dX, indicadora)) / (2 * h)\n",
    "    return dLambda\n",
    "\n",
    "# Definindo a função para otimizar os preços\n",
    "def otimizar_precos(indicadora, precos_iniciais):\n",
    "    # Iniciando o vetor X com os preços iniciais e um valor inicial para o multiplicador de Lagrange\n",
    "    X_inicial = np.append(precos_iniciais, 0)\n",
    "    \n",
    "    # Calculando os preços otimizados\n",
    "    X_otimizado = fsolve(dfunc, X_inicial, args=(indicadora,))\n",
    "    \n",
    "    # Retornando o vetor de preços otimizados e o multiplicador de Lagrange\n",
    "    precos_otimizados = X_otimizado[:-1]\n",
    "    lambida = X_otimizado[-1]\n",
    "    \n",
    "    return precos_otimizados, lambida\n",
    "\n",
    "\n",
    "precos_otimizados, lambida = otimizar_precos(indicadora, precos_iniciais)\n",
    "print(\"λ:\", lambida)\n",
    "print(\"Preços Otimizados:\",precos_otimizados)\n",
    "#print(\"P1:\", precos_otimizados[0])\n",
    "#print(\"P2:\", precos_otimizados[1])\n",
    "#print(\"P3:\", precos_otimizados[2])\n",
    "#precos_otimizados"
   ]
  },
  {
   "cell_type": "code",
   "execution_count": null,
   "id": "5815cbda",
   "metadata": {},
   "outputs": [],
   "source": []
  },
  {
   "cell_type": "code",
   "execution_count": null,
   "id": "c50b9b4e",
   "metadata": {},
   "outputs": [],
   "source": [
    "def demanda1(X,P):\n",
    "    # X é uma variável indicadora (X=1/0)\n",
    "    D = np.exp(0.64 + 0.4 * X - 0.005 * P) / (1 + np.exp(0.64 + 0.4 * X - 0.005 * P))\n",
    "    return D"
   ]
  },
  {
   "cell_type": "code",
   "execution_count": null,
   "id": "fcdf76bf",
   "metadata": {},
   "outputs": [],
   "source": [
    "x=np.array(indicadora)\n",
    "x2=np.array(precos_otimizados)\n",
    "demanda1(x,precos_otimizados)"
   ]
  },
  {
   "cell_type": "code",
   "execution_count": null,
   "id": "777bc02e",
   "metadata": {},
   "outputs": [],
   "source": [
    "type(precos_otimizados)"
   ]
  },
  {
   "cell_type": "code",
   "execution_count": null,
   "id": "f1f827c8",
   "metadata": {},
   "outputs": [],
   "source": [
    "demanda(1,precos_otimizados[0])+demanda(0,precos_otimizados[1])+demanda(1,precos_otimizados[2])+demanda(0,precos_otimizados[3])+demanda(1,precos_otimizados[4])+demanda(0,precos_otimizados[5])+demanda(1,precos_otimizados[6])+demanda(0,precos_otimizados[7])+demanda(1,precos_otimizados[8])+demanda(0,precos_otimizados[9])\n"
   ]
  },
  {
   "cell_type": "code",
   "execution_count": null,
   "id": "632369cd",
   "metadata": {},
   "outputs": [],
   "source": [
    "len(precos_iniciais)"
   ]
  },
  {
   "cell_type": "code",
   "execution_count": null,
   "id": "c1077cd2",
   "metadata": {},
   "outputs": [],
   "source": [
    "\n",
    "indicadora =[1, 0, 1, 0, 1, 0 ,1, 0,1,0]  # Exemplo de variáveis indicadoras para dois clientes\n",
    "precos_iniciais = [400, 500,400,100,60,250,300,1000,900,500]  # Exemplo de preços iniciais para dois clientes\n"
   ]
  },
  {
   "cell_type": "code",
   "execution_count": null,
   "id": "6b60696c",
   "metadata": {},
   "outputs": [],
   "source": [
    "print(func([250,300],[1,0]))"
   ]
  },
  {
   "cell_type": "code",
   "execution_count": null,
   "id": "eaa4e9d0",
   "metadata": {},
   "outputs": [],
   "source": [
    "indicadora = [1, 0]  # Exemplo de variáveis indicadoras para dois clientes\n",
    "precos_iniciais = [400, 500]  # Exemplo de preços iniciais para dois clientes\n",
    "X=[250,300]"
   ]
  },
  {
   "cell_type": "code",
   "execution_count": null,
   "id": "ad58de0f",
   "metadata": {},
   "outputs": [],
   "source": [
    "func( [250, 300],[1, 0])\n"
   ]
  },
  {
   "cell_type": "code",
   "execution_count": null,
   "id": "cd129c69",
   "metadata": {},
   "outputs": [],
   "source": [
    "X[:-1]"
   ]
  },
  {
   "cell_type": "markdown",
   "id": "93b1f4b6",
   "metadata": {},
   "source": [
    "#   teste novo "
   ]
  },
  {
   "cell_type": "code",
   "execution_count": 79,
   "id": "78bad297",
   "metadata": {},
   "outputs": [],
   "source": [
    "# Define a função de demanda\n",
    "def demanda(X1,X2,X3, P):\n",
    "    # X é uma variável indicadora (X=1/0)\n",
    "    D = np.exp(0.64 + 0.4 * X1 - 0.1 * X2 + 0.41 * X3 - 0.005 * P) / (1 +  np.exp(0.64 + 0.4 * X1 - 0.1 * X2 + 0.41 * X3 - 0.005 * P ))\n",
    "    return D"
   ]
  },
  {
   "cell_type": "code",
   "execution_count": 81,
   "id": "f26de42a",
   "metadata": {},
   "outputs": [
    {
     "data": {
      "text/html": [
       "<div>\n",
       "<style scoped>\n",
       "    .dataframe tbody tr th:only-of-type {\n",
       "        vertical-align: middle;\n",
       "    }\n",
       "\n",
       "    .dataframe tbody tr th {\n",
       "        vertical-align: top;\n",
       "    }\n",
       "\n",
       "    .dataframe thead th {\n",
       "        text-align: right;\n",
       "    }\n",
       "</style>\n",
       "<table border=\"1\" class=\"dataframe\">\n",
       "  <thead>\n",
       "    <tr style=\"text-align: right;\">\n",
       "      <th></th>\n",
       "      <th>X1</th>\n",
       "      <th>X2</th>\n",
       "      <th>X3</th>\n",
       "      <th>P</th>\n",
       "      <th>D</th>\n",
       "    </tr>\n",
       "  </thead>\n",
       "  <tbody>\n",
       "    <tr>\n",
       "      <th>0</th>\n",
       "      <td>1</td>\n",
       "      <td>1</td>\n",
       "      <td>1</td>\n",
       "      <td>250</td>\n",
       "      <td>0.524979</td>\n",
       "    </tr>\n",
       "    <tr>\n",
       "      <th>1</th>\n",
       "      <td>0</td>\n",
       "      <td>0</td>\n",
       "      <td>0</td>\n",
       "      <td>300</td>\n",
       "      <td>0.297339</td>\n",
       "    </tr>\n",
       "    <tr>\n",
       "      <th>2</th>\n",
       "      <td>1</td>\n",
       "      <td>1</td>\n",
       "      <td>1</td>\n",
       "      <td>400</td>\n",
       "      <td>0.342990</td>\n",
       "    </tr>\n",
       "    <tr>\n",
       "      <th>3</th>\n",
       "      <td>0</td>\n",
       "      <td>0</td>\n",
       "      <td>0</td>\n",
       "      <td>500</td>\n",
       "      <td>0.134703</td>\n",
       "    </tr>\n",
       "    <tr>\n",
       "      <th>4</th>\n",
       "      <td>1</td>\n",
       "      <td>1</td>\n",
       "      <td>1</td>\n",
       "      <td>600</td>\n",
       "      <td>0.161109</td>\n",
       "    </tr>\n",
       "    <tr>\n",
       "      <th>5</th>\n",
       "      <td>0</td>\n",
       "      <td>0</td>\n",
       "      <td>0</td>\n",
       "      <td>250</td>\n",
       "      <td>0.352059</td>\n",
       "    </tr>\n",
       "    <tr>\n",
       "      <th>6</th>\n",
       "      <td>1</td>\n",
       "      <td>1</td>\n",
       "      <td>1</td>\n",
       "      <td>300</td>\n",
       "      <td>0.462570</td>\n",
       "    </tr>\n",
       "    <tr>\n",
       "      <th>7</th>\n",
       "      <td>0</td>\n",
       "      <td>0</td>\n",
       "      <td>0</td>\n",
       "      <td>200</td>\n",
       "      <td>0.410960</td>\n",
       "    </tr>\n",
       "    <tr>\n",
       "      <th>8</th>\n",
       "      <td>1</td>\n",
       "      <td>1</td>\n",
       "      <td>1</td>\n",
       "      <td>500</td>\n",
       "      <td>0.240489</td>\n",
       "    </tr>\n",
       "    <tr>\n",
       "      <th>9</th>\n",
       "      <td>0</td>\n",
       "      <td>0</td>\n",
       "      <td>0</td>\n",
       "      <td>600</td>\n",
       "      <td>0.086274</td>\n",
       "    </tr>\n",
       "  </tbody>\n",
       "</table>\n",
       "</div>"
      ],
      "text/plain": [
       "   X1  X2  X3    P         D\n",
       "0   1   1   1  250  0.524979\n",
       "1   0   0   0  300  0.297339\n",
       "2   1   1   1  400  0.342990\n",
       "3   0   0   0  500  0.134703\n",
       "4   1   1   1  600  0.161109\n",
       "5   0   0   0  250  0.352059\n",
       "6   1   1   1  300  0.462570\n",
       "7   0   0   0  200  0.410960\n",
       "8   1   1   1  500  0.240489\n",
       "9   0   0   0  600  0.086274"
      ]
     },
     "execution_count": 81,
     "metadata": {},
     "output_type": "execute_result"
    }
   ],
   "source": [
    "df = pd.DataFrame({\n",
    "    'X1': [1, 0, 1, 0, 1, 0 ,1, 0,1,0],\n",
    "    'X2': [1, 0, 1, 0, 1, 0 ,1, 0,1,0],\n",
    "    'X3': [1, 0, 1, 0, 1, 0 ,1, 0,1,0],\n",
    "    'P': [250, 300,400,500,600,250,300,200,500,600]\n",
    "})\n",
    "df['D']=demanda(df['X1'],df['X2'],df['X3'],df['P'])\n",
    "df"
   ]
  },
  {
   "cell_type": "code",
   "execution_count": 82,
   "id": "a387d29d",
   "metadata": {},
   "outputs": [
    {
     "data": {
      "text/plain": [
       "3.013472268053064"
      ]
     },
     "execution_count": 82,
     "metadata": {},
     "output_type": "execute_result"
    }
   ],
   "source": [
    "df['D'].sum()"
   ]
  },
  {
   "cell_type": "code",
   "execution_count": 83,
   "id": "2ba7f059",
   "metadata": {},
   "outputs": [
    {
     "data": {
      "text/plain": [
       "0.3013472268053064"
      ]
     },
     "execution_count": 83,
     "metadata": {},
     "output_type": "execute_result"
    }
   ],
   "source": [
    "df['D'].mean()"
   ]
  },
  {
   "cell_type": "code",
   "execution_count": 84,
   "id": "c1dd9907",
   "metadata": {},
   "outputs": [],
   "source": [
    "# Exemplo de uso\n",
    "lista_variaveis_na_ordem = ['X1','X2','X3']\n",
    "indicadora=np.array(df.loc[:,lista_variaveis_na_ordem])                                             \n",
    "precos_iniciais = np.array(df['P'])*1\n",
    "target = 3.013472268053064"
   ]
  },
  {
   "cell_type": "code",
   "execution_count": 88,
   "id": "c3c17913",
   "metadata": {},
   "outputs": [
    {
     "name": "stdout",
     "output_type": "stream",
     "text": [
      "λ: -68.21938132711797\n",
      "Preços Otimizados: [390.997092   348.26626309 390.99709353 348.26628731 390.99710774\n",
      " 348.2662627  390.99709232 348.2662615  390.99709323 348.26626385]\n"
     ]
    }
   ],
   "source": [
    "import numpy as np\n",
    "import sympy as sp\n",
    "from scipy.optimize import fsolve\n",
    "import scipy.optimize as optimize\n",
    "#import warnings\n",
    "#warnings.filterwarnings('ignore', 'The iteration is not making good progress')\n",
    "\n",
    "# Define a função de demanda\n",
    "def demanda(X1,X2,X3, P):\n",
    "    # X é uma variável indicadora (X=1/0)\n",
    "    D = np.exp(0.64 + 0.4 * X1 - 0.1 * X2 + 0.41 * X3 - 0.005 * P) / (1 +  np.exp(0.64 + 0.4 * X1 - 0.1 * X2 + 0.41 * X3 - 0.005 * P ))\n",
    "    return D\n",
    "\n",
    "\n",
    "# Define a função de Lagrange\n",
    "def func(X, indicadora):\n",
    "    P = X[:-1]  # Extraindo o vetor de preços [p1, p2, ..., pn]\n",
    "    L = X[-1]   # Extraindo o multiplicador de Lagrange\n",
    "    n = len(P)\n",
    "    \n",
    "    # Função objetivo e a soma das demandas\n",
    "    objetivo = 0\n",
    "    soma_demandas = 0\n",
    "    \n",
    "    for i in range(n):\n",
    "        D_i = demanda(indicadora[i,0],\n",
    "                      indicadora[i,1],\n",
    "                      indicadora[i,2],\n",
    "                      P[i])\n",
    "        objetivo += D_i * (P[i] - 150)\n",
    "        soma_demandas += D_i\n",
    "    \n",
    "    # Definindo a função de Lagrange com a restrição\n",
    "    return objetivo - L * (soma_demandas - target)\n",
    "\n",
    "# Aplicando a diferenciação numérica\n",
    "def dfunc(X, indicadora):\n",
    "    dLambda = np.zeros(len(X))\n",
    "    h = 1e-3  # Passo usado na diferença finita\n",
    "    for i in range(len(X)):\n",
    "        dX = np.zeros(len(X))\n",
    "        dX[i] = h\n",
    "        dLambda[i] = (func(X + dX, indicadora) - func(X - dX, indicadora)) / (2 * h)\n",
    "    return dLambda\n",
    "\n",
    "# Definindo a função para otimizar os preços\n",
    "def otimizar_precos(indicadora, precos_iniciais):\n",
    "    # Iniciando o vetor X com os preços iniciais e um valor inicial para o multiplicador de Lagrange\n",
    "    X_inicial = np.append(precos_iniciais, 0)\n",
    "    \n",
    "    # Calculando os preços otimizados\n",
    "    X_otimizado = optimize.fsolve(dfunc, X_inicial, args=(indicadora),xtol=1e-06, maxfev=500)\n",
    "    \n",
    "    # Retornando o vetor de preços otimizados e o multiplicador de Lagrange\n",
    "    precos_otimizados = X_otimizado[:-1]\n",
    "    lambida = X_otimizado[-1]\n",
    "    \n",
    "    return precos_otimizados, lambida\n",
    "\n",
    "precos_otimizados, lambida = otimizar_precos(indicadora, precos_iniciais)\n",
    "print(\"λ:\", lambida)\n",
    "#print(\"Preços Otimizados:\", precos_otimizados[0], precos_otimizados[1])\n",
    "print(\"Preços Otimizados:\",precos_otimizados)\n",
    "#print(\"P1:\", precos_otimizados[0])\n",
    "#print(\"P2:\", precos_otimizados[1])"
   ]
  },
  {
   "cell_type": "code",
   "execution_count": null,
   "id": "9a20fec6",
   "metadata": {},
   "outputs": [],
   "source": [
    "λ: -54.40034617869815\n",
    "Preços Otimizados: [374.36608672 358.70437044 374.36608687 358.70436557 374.36608669\n",
    " 358.70437288 374.36608706 358.70437626 374.36609053 358.70437026]"
   ]
  },
  {
   "cell_type": "code",
   "execution_count": 89,
   "id": "080126d6",
   "metadata": {},
   "outputs": [
    {
     "data": {
      "text/html": [
       "<div>\n",
       "<style scoped>\n",
       "    .dataframe tbody tr th:only-of-type {\n",
       "        vertical-align: middle;\n",
       "    }\n",
       "\n",
       "    .dataframe tbody tr th {\n",
       "        vertical-align: top;\n",
       "    }\n",
       "\n",
       "    .dataframe thead th {\n",
       "        text-align: right;\n",
       "    }\n",
       "</style>\n",
       "<table border=\"1\" class=\"dataframe\">\n",
       "  <thead>\n",
       "    <tr style=\"text-align: right;\">\n",
       "      <th></th>\n",
       "      <th>X1</th>\n",
       "      <th>X2</th>\n",
       "      <th>X3</th>\n",
       "      <th>P</th>\n",
       "      <th>D</th>\n",
       "      <th>precos_otimizados</th>\n",
       "      <th>D*</th>\n",
       "    </tr>\n",
       "  </thead>\n",
       "  <tbody>\n",
       "    <tr>\n",
       "      <th>0</th>\n",
       "      <td>1</td>\n",
       "      <td>1</td>\n",
       "      <td>1</td>\n",
       "      <td>250</td>\n",
       "      <td>0.524979</td>\n",
       "      <td>390.997092</td>\n",
       "      <td>0.353204</td>\n",
       "    </tr>\n",
       "    <tr>\n",
       "      <th>1</th>\n",
       "      <td>0</td>\n",
       "      <td>0</td>\n",
       "      <td>0</td>\n",
       "      <td>300</td>\n",
       "      <td>0.297339</td>\n",
       "      <td>348.266263</td>\n",
       "      <td>0.249491</td>\n",
       "    </tr>\n",
       "    <tr>\n",
       "      <th>2</th>\n",
       "      <td>1</td>\n",
       "      <td>1</td>\n",
       "      <td>1</td>\n",
       "      <td>400</td>\n",
       "      <td>0.342990</td>\n",
       "      <td>390.997094</td>\n",
       "      <td>0.353204</td>\n",
       "    </tr>\n",
       "    <tr>\n",
       "      <th>3</th>\n",
       "      <td>0</td>\n",
       "      <td>0</td>\n",
       "      <td>0</td>\n",
       "      <td>500</td>\n",
       "      <td>0.134703</td>\n",
       "      <td>348.266287</td>\n",
       "      <td>0.249491</td>\n",
       "    </tr>\n",
       "    <tr>\n",
       "      <th>4</th>\n",
       "      <td>1</td>\n",
       "      <td>1</td>\n",
       "      <td>1</td>\n",
       "      <td>600</td>\n",
       "      <td>0.161109</td>\n",
       "      <td>390.997108</td>\n",
       "      <td>0.353204</td>\n",
       "    </tr>\n",
       "    <tr>\n",
       "      <th>5</th>\n",
       "      <td>0</td>\n",
       "      <td>0</td>\n",
       "      <td>0</td>\n",
       "      <td>250</td>\n",
       "      <td>0.352059</td>\n",
       "      <td>348.266263</td>\n",
       "      <td>0.249491</td>\n",
       "    </tr>\n",
       "    <tr>\n",
       "      <th>6</th>\n",
       "      <td>1</td>\n",
       "      <td>1</td>\n",
       "      <td>1</td>\n",
       "      <td>300</td>\n",
       "      <td>0.462570</td>\n",
       "      <td>390.997092</td>\n",
       "      <td>0.353204</td>\n",
       "    </tr>\n",
       "    <tr>\n",
       "      <th>7</th>\n",
       "      <td>0</td>\n",
       "      <td>0</td>\n",
       "      <td>0</td>\n",
       "      <td>200</td>\n",
       "      <td>0.410960</td>\n",
       "      <td>348.266262</td>\n",
       "      <td>0.249491</td>\n",
       "    </tr>\n",
       "    <tr>\n",
       "      <th>8</th>\n",
       "      <td>1</td>\n",
       "      <td>1</td>\n",
       "      <td>1</td>\n",
       "      <td>500</td>\n",
       "      <td>0.240489</td>\n",
       "      <td>390.997093</td>\n",
       "      <td>0.353204</td>\n",
       "    </tr>\n",
       "    <tr>\n",
       "      <th>9</th>\n",
       "      <td>0</td>\n",
       "      <td>0</td>\n",
       "      <td>0</td>\n",
       "      <td>600</td>\n",
       "      <td>0.086274</td>\n",
       "      <td>348.266264</td>\n",
       "      <td>0.249491</td>\n",
       "    </tr>\n",
       "  </tbody>\n",
       "</table>\n",
       "</div>"
      ],
      "text/plain": [
       "   X1  X2  X3    P         D  precos_otimizados        D*\n",
       "0   1   1   1  250  0.524979         390.997092  0.353204\n",
       "1   0   0   0  300  0.297339         348.266263  0.249491\n",
       "2   1   1   1  400  0.342990         390.997094  0.353204\n",
       "3   0   0   0  500  0.134703         348.266287  0.249491\n",
       "4   1   1   1  600  0.161109         390.997108  0.353204\n",
       "5   0   0   0  250  0.352059         348.266263  0.249491\n",
       "6   1   1   1  300  0.462570         390.997092  0.353204\n",
       "7   0   0   0  200  0.410960         348.266262  0.249491\n",
       "8   1   1   1  500  0.240489         390.997093  0.353204\n",
       "9   0   0   0  600  0.086274         348.266264  0.249491"
      ]
     },
     "execution_count": 89,
     "metadata": {},
     "output_type": "execute_result"
    }
   ],
   "source": [
    "df2=df\n",
    "df2[\"precos_otimizados\"]=precos_otimizados\n",
    "df2['D*']=demanda(df['X1'],df['X2'],df['X3'],df['precos_otimizados'])\n",
    "df2"
   ]
  },
  {
   "cell_type": "code",
   "execution_count": 90,
   "id": "428bdc1f",
   "metadata": {},
   "outputs": [
    {
     "name": "stdout",
     "output_type": "stream",
     "text": [
      "0.3013472268053064\n",
      "0.30134722480740883\n"
     ]
    }
   ],
   "source": [
    "print(df2['D'].mean()),\n",
    "print(df2['D*'].mean())"
   ]
  },
  {
   "cell_type": "code",
   "execution_count": 15,
   "id": "a4506a27",
   "metadata": {},
   "outputs": [
    {
     "ename": "ValueError",
     "evalue": "operands could not be broadcast together with shapes (3,) (2,) ",
     "output_type": "error",
     "traceback": [
      "\u001b[1;31m---------------------------------------------------------------------------\u001b[0m",
      "\u001b[1;31mValueError\u001b[0m                                Traceback (most recent call last)",
      "Cell \u001b[1;32mIn[15], line 14\u001b[0m\n\u001b[0;32m      5\u001b[0m     \u001b[38;5;28;01mreturn\u001b[39;00m D\n\u001b[0;32m      7\u001b[0m df \u001b[38;5;241m=\u001b[39m pd\u001b[38;5;241m.\u001b[39mDataFrame({\n\u001b[0;32m      8\u001b[0m     \u001b[38;5;124m'\u001b[39m\u001b[38;5;124mCliente\u001b[39m\u001b[38;5;124m'\u001b[39m: [\u001b[38;5;241m1\u001b[39m, \u001b[38;5;241m2\u001b[39m],\n\u001b[0;32m      9\u001b[0m     \u001b[38;5;124m'\u001b[39m\u001b[38;5;124mX1\u001b[39m\u001b[38;5;124m'\u001b[39m: [\u001b[38;5;241m1\u001b[39m, \u001b[38;5;241m0\u001b[39m],\n\u001b[0;32m     10\u001b[0m     \u001b[38;5;124m'\u001b[39m\u001b[38;5;124mP\u001b[39m\u001b[38;5;124m'\u001b[39m: [\u001b[38;5;241m250\u001b[39m, \u001b[38;5;241m300\u001b[39m],\n\u001b[0;32m     11\u001b[0m     \u001b[38;5;124m'\u001b[39m\u001b[38;5;124mC\u001b[39m\u001b[38;5;124m'\u001b[39m: [\u001b[38;5;241m150\u001b[39m, \u001b[38;5;241m150\u001b[39m]\n\u001b[0;32m     12\u001b[0m })\n\u001b[1;32m---> 14\u001b[0m df[\u001b[38;5;124m'\u001b[39m\u001b[38;5;124mD\u001b[39m\u001b[38;5;124m'\u001b[39m]\u001b[38;5;241m=\u001b[39m\u001b[43mdemanda\u001b[49m\u001b[43m(\u001b[49m\u001b[43mdf\u001b[49m\u001b[43m[\u001b[49m\u001b[38;5;124;43m'\u001b[39;49m\u001b[38;5;124;43mX1\u001b[39;49m\u001b[38;5;124;43m'\u001b[39;49m\u001b[43m]\u001b[49m\u001b[43m,\u001b[49m\u001b[43mdf\u001b[49m\u001b[43m[\u001b[49m\u001b[38;5;124;43m'\u001b[39;49m\u001b[38;5;124;43mP\u001b[39;49m\u001b[38;5;124;43m'\u001b[39;49m\u001b[43m]\u001b[49m\u001b[43m)\u001b[49m\n\u001b[0;32m     15\u001b[0m df\n",
      "Cell \u001b[1;32mIn[15], line 4\u001b[0m, in \u001b[0;36mdemanda\u001b[1;34m(X, P)\u001b[0m\n\u001b[0;32m      2\u001b[0m \u001b[38;5;28;01mdef\u001b[39;00m \u001b[38;5;21mdemanda\u001b[39m(X, P):\n\u001b[0;32m      3\u001b[0m     \u001b[38;5;66;03m# X é uma variável indicadora (X=1/0)\u001b[39;00m\n\u001b[1;32m----> 4\u001b[0m     D \u001b[38;5;241m=\u001b[39m np\u001b[38;5;241m.\u001b[39mexp(\u001b[38;5;241;43m0.64\u001b[39;49m\u001b[43m \u001b[49m\u001b[38;5;241;43m+\u001b[39;49m\u001b[43m \u001b[49m\u001b[38;5;241;43m0.4\u001b[39;49m\u001b[43m \u001b[49m\u001b[38;5;241;43m*\u001b[39;49m\u001b[43m \u001b[49m\u001b[43mX1\u001b[49m\u001b[43m \u001b[49m\u001b[38;5;241;43m-\u001b[39;49m\u001b[43m \u001b[49m\u001b[38;5;241;43m0.005\u001b[39;49m\u001b[43m \u001b[49m\u001b[38;5;241;43m*\u001b[39;49m\u001b[43m \u001b[49m\u001b[43mP\u001b[49m)\u001b[38;5;241m/\u001b[39m(\u001b[38;5;241m1\u001b[39m\u001b[38;5;241m+\u001b[39mnp\u001b[38;5;241m.\u001b[39mexp(\u001b[38;5;241m0.64\u001b[39m \u001b[38;5;241m+\u001b[39m \u001b[38;5;241m0.4\u001b[39m \u001b[38;5;241m*\u001b[39m X1 \u001b[38;5;241m-\u001b[39m \u001b[38;5;241m0.005\u001b[39m \u001b[38;5;241m*\u001b[39m P))\n\u001b[0;32m      5\u001b[0m     \u001b[38;5;28;01mreturn\u001b[39;00m D\n",
      "File \u001b[1;32mC:\\ProgramData\\anaconda3\\lib\\site-packages\\pandas\\core\\generic.py:2113\u001b[0m, in \u001b[0;36mNDFrame.__array_ufunc__\u001b[1;34m(self, ufunc, method, *inputs, **kwargs)\u001b[0m\n\u001b[0;32m   2109\u001b[0m \u001b[38;5;129m@final\u001b[39m\n\u001b[0;32m   2110\u001b[0m \u001b[38;5;28;01mdef\u001b[39;00m \u001b[38;5;21m__array_ufunc__\u001b[39m(\n\u001b[0;32m   2111\u001b[0m     \u001b[38;5;28mself\u001b[39m, ufunc: np\u001b[38;5;241m.\u001b[39mufunc, method: \u001b[38;5;28mstr\u001b[39m, \u001b[38;5;241m*\u001b[39minputs: Any, \u001b[38;5;241m*\u001b[39m\u001b[38;5;241m*\u001b[39mkwargs: Any\n\u001b[0;32m   2112\u001b[0m ):\n\u001b[1;32m-> 2113\u001b[0m     \u001b[38;5;28;01mreturn\u001b[39;00m arraylike\u001b[38;5;241m.\u001b[39marray_ufunc(\u001b[38;5;28mself\u001b[39m, ufunc, method, \u001b[38;5;241m*\u001b[39minputs, \u001b[38;5;241m*\u001b[39m\u001b[38;5;241m*\u001b[39mkwargs)\n",
      "File \u001b[1;32mC:\\ProgramData\\anaconda3\\lib\\site-packages\\pandas\\core\\arraylike.py:265\u001b[0m, in \u001b[0;36marray_ufunc\u001b[1;34m(self, ufunc, method, *inputs, **kwargs)\u001b[0m\n\u001b[0;32m    262\u001b[0m     \u001b[38;5;28;01mreturn\u001b[39;00m result\n\u001b[0;32m    264\u001b[0m \u001b[38;5;66;03m# for binary ops, use our custom dunder methods\u001b[39;00m\n\u001b[1;32m--> 265\u001b[0m result \u001b[38;5;241m=\u001b[39m maybe_dispatch_ufunc_to_dunder_op(\u001b[38;5;28mself\u001b[39m, ufunc, method, \u001b[38;5;241m*\u001b[39minputs, \u001b[38;5;241m*\u001b[39m\u001b[38;5;241m*\u001b[39mkwargs)\n\u001b[0;32m    266\u001b[0m \u001b[38;5;28;01mif\u001b[39;00m result \u001b[38;5;129;01mis\u001b[39;00m \u001b[38;5;129;01mnot\u001b[39;00m \u001b[38;5;28mNotImplemented\u001b[39m:\n\u001b[0;32m    267\u001b[0m     \u001b[38;5;28;01mreturn\u001b[39;00m result\n",
      "File \u001b[1;32mC:\\ProgramData\\anaconda3\\lib\\site-packages\\pandas\\_libs\\ops_dispatch.pyx:113\u001b[0m, in \u001b[0;36mpandas._libs.ops_dispatch.maybe_dispatch_ufunc_to_dunder_op\u001b[1;34m()\u001b[0m\n",
      "File \u001b[1;32mC:\\ProgramData\\anaconda3\\lib\\site-packages\\pandas\\core\\ops\\common.py:72\u001b[0m, in \u001b[0;36m_unpack_zerodim_and_defer.<locals>.new_method\u001b[1;34m(self, other)\u001b[0m\n\u001b[0;32m     68\u001b[0m             \u001b[38;5;28;01mreturn\u001b[39;00m \u001b[38;5;28mNotImplemented\u001b[39m\n\u001b[0;32m     70\u001b[0m other \u001b[38;5;241m=\u001b[39m item_from_zerodim(other)\n\u001b[1;32m---> 72\u001b[0m \u001b[38;5;28;01mreturn\u001b[39;00m \u001b[43mmethod\u001b[49m\u001b[43m(\u001b[49m\u001b[38;5;28;43mself\u001b[39;49m\u001b[43m,\u001b[49m\u001b[43m \u001b[49m\u001b[43mother\u001b[49m\u001b[43m)\u001b[49m\n",
      "File \u001b[1;32mC:\\ProgramData\\anaconda3\\lib\\site-packages\\pandas\\core\\arraylike.py:114\u001b[0m, in \u001b[0;36mOpsMixin.__rsub__\u001b[1;34m(self, other)\u001b[0m\n\u001b[0;32m    112\u001b[0m \u001b[38;5;129m@unpack_zerodim_and_defer\u001b[39m(\u001b[38;5;124m\"\u001b[39m\u001b[38;5;124m__rsub__\u001b[39m\u001b[38;5;124m\"\u001b[39m)\n\u001b[0;32m    113\u001b[0m \u001b[38;5;28;01mdef\u001b[39;00m \u001b[38;5;21m__rsub__\u001b[39m(\u001b[38;5;28mself\u001b[39m, other):\n\u001b[1;32m--> 114\u001b[0m     \u001b[38;5;28;01mreturn\u001b[39;00m \u001b[38;5;28;43mself\u001b[39;49m\u001b[38;5;241;43m.\u001b[39;49m\u001b[43m_arith_method\u001b[49m\u001b[43m(\u001b[49m\u001b[43mother\u001b[49m\u001b[43m,\u001b[49m\u001b[43m \u001b[49m\u001b[43mroperator\u001b[49m\u001b[38;5;241;43m.\u001b[39;49m\u001b[43mrsub\u001b[49m\u001b[43m)\u001b[49m\n",
      "File \u001b[1;32mC:\\ProgramData\\anaconda3\\lib\\site-packages\\pandas\\core\\series.py:6259\u001b[0m, in \u001b[0;36mSeries._arith_method\u001b[1;34m(self, other, op)\u001b[0m\n\u001b[0;32m   6257\u001b[0m \u001b[38;5;28;01mdef\u001b[39;00m \u001b[38;5;21m_arith_method\u001b[39m(\u001b[38;5;28mself\u001b[39m, other, op):\n\u001b[0;32m   6258\u001b[0m     \u001b[38;5;28mself\u001b[39m, other \u001b[38;5;241m=\u001b[39m ops\u001b[38;5;241m.\u001b[39malign_method_SERIES(\u001b[38;5;28mself\u001b[39m, other)\n\u001b[1;32m-> 6259\u001b[0m     \u001b[38;5;28;01mreturn\u001b[39;00m \u001b[43mbase\u001b[49m\u001b[38;5;241;43m.\u001b[39;49m\u001b[43mIndexOpsMixin\u001b[49m\u001b[38;5;241;43m.\u001b[39;49m\u001b[43m_arith_method\u001b[49m\u001b[43m(\u001b[49m\u001b[38;5;28;43mself\u001b[39;49m\u001b[43m,\u001b[49m\u001b[43m \u001b[49m\u001b[43mother\u001b[49m\u001b[43m,\u001b[49m\u001b[43m \u001b[49m\u001b[43mop\u001b[49m\u001b[43m)\u001b[49m\n",
      "File \u001b[1;32mC:\\ProgramData\\anaconda3\\lib\\site-packages\\pandas\\core\\base.py:1325\u001b[0m, in \u001b[0;36mIndexOpsMixin._arith_method\u001b[1;34m(self, other, op)\u001b[0m\n\u001b[0;32m   1322\u001b[0m rvalues \u001b[38;5;241m=\u001b[39m ensure_wrapped_if_datetimelike(rvalues)\n\u001b[0;32m   1324\u001b[0m \u001b[38;5;28;01mwith\u001b[39;00m np\u001b[38;5;241m.\u001b[39merrstate(\u001b[38;5;28mall\u001b[39m\u001b[38;5;241m=\u001b[39m\u001b[38;5;124m\"\u001b[39m\u001b[38;5;124mignore\u001b[39m\u001b[38;5;124m\"\u001b[39m):\n\u001b[1;32m-> 1325\u001b[0m     result \u001b[38;5;241m=\u001b[39m \u001b[43mops\u001b[49m\u001b[38;5;241;43m.\u001b[39;49m\u001b[43marithmetic_op\u001b[49m\u001b[43m(\u001b[49m\u001b[43mlvalues\u001b[49m\u001b[43m,\u001b[49m\u001b[43m \u001b[49m\u001b[43mrvalues\u001b[49m\u001b[43m,\u001b[49m\u001b[43m \u001b[49m\u001b[43mop\u001b[49m\u001b[43m)\u001b[49m\n\u001b[0;32m   1327\u001b[0m \u001b[38;5;28;01mreturn\u001b[39;00m \u001b[38;5;28mself\u001b[39m\u001b[38;5;241m.\u001b[39m_construct_result(result, name\u001b[38;5;241m=\u001b[39mres_name)\n",
      "File \u001b[1;32mC:\\ProgramData\\anaconda3\\lib\\site-packages\\pandas\\core\\ops\\array_ops.py:226\u001b[0m, in \u001b[0;36marithmetic_op\u001b[1;34m(left, right, op)\u001b[0m\n\u001b[0;32m    222\u001b[0m     _bool_arith_check(op, left, right)\n\u001b[0;32m    224\u001b[0m     \u001b[38;5;66;03m# error: Argument 1 to \"_na_arithmetic_op\" has incompatible type\u001b[39;00m\n\u001b[0;32m    225\u001b[0m     \u001b[38;5;66;03m# \"Union[ExtensionArray, ndarray[Any, Any]]\"; expected \"ndarray[Any, Any]\"\u001b[39;00m\n\u001b[1;32m--> 226\u001b[0m     res_values \u001b[38;5;241m=\u001b[39m \u001b[43m_na_arithmetic_op\u001b[49m\u001b[43m(\u001b[49m\u001b[43mleft\u001b[49m\u001b[43m,\u001b[49m\u001b[43m \u001b[49m\u001b[43mright\u001b[49m\u001b[43m,\u001b[49m\u001b[43m \u001b[49m\u001b[43mop\u001b[49m\u001b[43m)\u001b[49m  \u001b[38;5;66;03m# type: ignore[arg-type]\u001b[39;00m\n\u001b[0;32m    228\u001b[0m \u001b[38;5;28;01mreturn\u001b[39;00m res_values\n",
      "File \u001b[1;32mC:\\ProgramData\\anaconda3\\lib\\site-packages\\pandas\\core\\ops\\array_ops.py:165\u001b[0m, in \u001b[0;36m_na_arithmetic_op\u001b[1;34m(left, right, op, is_cmp)\u001b[0m\n\u001b[0;32m    162\u001b[0m     func \u001b[38;5;241m=\u001b[39m partial(expressions\u001b[38;5;241m.\u001b[39mevaluate, op)\n\u001b[0;32m    164\u001b[0m \u001b[38;5;28;01mtry\u001b[39;00m:\n\u001b[1;32m--> 165\u001b[0m     result \u001b[38;5;241m=\u001b[39m \u001b[43mfunc\u001b[49m\u001b[43m(\u001b[49m\u001b[43mleft\u001b[49m\u001b[43m,\u001b[49m\u001b[43m \u001b[49m\u001b[43mright\u001b[49m\u001b[43m)\u001b[49m\n\u001b[0;32m    166\u001b[0m \u001b[38;5;28;01mexcept\u001b[39;00m \u001b[38;5;167;01mTypeError\u001b[39;00m:\n\u001b[0;32m    167\u001b[0m     \u001b[38;5;28;01mif\u001b[39;00m \u001b[38;5;129;01mnot\u001b[39;00m is_cmp \u001b[38;5;129;01mand\u001b[39;00m (is_object_dtype(left\u001b[38;5;241m.\u001b[39mdtype) \u001b[38;5;129;01mor\u001b[39;00m is_object_dtype(right)):\n\u001b[0;32m    168\u001b[0m         \u001b[38;5;66;03m# For object dtype, fallback to a masked operation (only operating\u001b[39;00m\n\u001b[0;32m    169\u001b[0m         \u001b[38;5;66;03m#  on the non-missing values)\u001b[39;00m\n\u001b[0;32m    170\u001b[0m         \u001b[38;5;66;03m# Don't do this for comparisons, as that will handle complex numbers\u001b[39;00m\n\u001b[0;32m    171\u001b[0m         \u001b[38;5;66;03m#  incorrectly, see GH#32047\u001b[39;00m\n",
      "File \u001b[1;32mC:\\ProgramData\\anaconda3\\lib\\site-packages\\pandas\\core\\computation\\expressions.py:241\u001b[0m, in \u001b[0;36mevaluate\u001b[1;34m(op, a, b, use_numexpr)\u001b[0m\n\u001b[0;32m    238\u001b[0m \u001b[38;5;28;01mif\u001b[39;00m op_str \u001b[38;5;129;01mis\u001b[39;00m \u001b[38;5;129;01mnot\u001b[39;00m \u001b[38;5;28;01mNone\u001b[39;00m:\n\u001b[0;32m    239\u001b[0m     \u001b[38;5;28;01mif\u001b[39;00m use_numexpr:\n\u001b[0;32m    240\u001b[0m         \u001b[38;5;66;03m# error: \"None\" not callable\u001b[39;00m\n\u001b[1;32m--> 241\u001b[0m         \u001b[38;5;28;01mreturn\u001b[39;00m \u001b[43m_evaluate\u001b[49m\u001b[43m(\u001b[49m\u001b[43mop\u001b[49m\u001b[43m,\u001b[49m\u001b[43m \u001b[49m\u001b[43mop_str\u001b[49m\u001b[43m,\u001b[49m\u001b[43m \u001b[49m\u001b[43ma\u001b[49m\u001b[43m,\u001b[49m\u001b[43m \u001b[49m\u001b[43mb\u001b[49m\u001b[43m)\u001b[49m  \u001b[38;5;66;03m# type: ignore[misc]\u001b[39;00m\n\u001b[0;32m    242\u001b[0m \u001b[38;5;28;01mreturn\u001b[39;00m _evaluate_standard(op, op_str, a, b)\n",
      "File \u001b[1;32mC:\\ProgramData\\anaconda3\\lib\\site-packages\\pandas\\core\\computation\\expressions.py:129\u001b[0m, in \u001b[0;36m_evaluate_numexpr\u001b[1;34m(op, op_str, a, b)\u001b[0m\n\u001b[0;32m    126\u001b[0m     _store_test_result(result \u001b[38;5;129;01mis\u001b[39;00m \u001b[38;5;129;01mnot\u001b[39;00m \u001b[38;5;28;01mNone\u001b[39;00m)\n\u001b[0;32m    128\u001b[0m \u001b[38;5;28;01mif\u001b[39;00m result \u001b[38;5;129;01mis\u001b[39;00m \u001b[38;5;28;01mNone\u001b[39;00m:\n\u001b[1;32m--> 129\u001b[0m     result \u001b[38;5;241m=\u001b[39m \u001b[43m_evaluate_standard\u001b[49m\u001b[43m(\u001b[49m\u001b[43mop\u001b[49m\u001b[43m,\u001b[49m\u001b[43m \u001b[49m\u001b[43mop_str\u001b[49m\u001b[43m,\u001b[49m\u001b[43m \u001b[49m\u001b[43ma\u001b[49m\u001b[43m,\u001b[49m\u001b[43m \u001b[49m\u001b[43mb\u001b[49m\u001b[43m)\u001b[49m\n\u001b[0;32m    131\u001b[0m \u001b[38;5;28;01mreturn\u001b[39;00m result\n",
      "File \u001b[1;32mC:\\ProgramData\\anaconda3\\lib\\site-packages\\pandas\\core\\computation\\expressions.py:70\u001b[0m, in \u001b[0;36m_evaluate_standard\u001b[1;34m(op, op_str, a, b)\u001b[0m\n\u001b[0;32m     68\u001b[0m \u001b[38;5;28;01mif\u001b[39;00m _TEST_MODE:\n\u001b[0;32m     69\u001b[0m     _store_test_result(\u001b[38;5;28;01mFalse\u001b[39;00m)\n\u001b[1;32m---> 70\u001b[0m \u001b[38;5;28;01mreturn\u001b[39;00m \u001b[43mop\u001b[49m\u001b[43m(\u001b[49m\u001b[43ma\u001b[49m\u001b[43m,\u001b[49m\u001b[43m \u001b[49m\u001b[43mb\u001b[49m\u001b[43m)\u001b[49m\n",
      "File \u001b[1;32mC:\\ProgramData\\anaconda3\\lib\\site-packages\\pandas\\core\\roperator.py:15\u001b[0m, in \u001b[0;36mrsub\u001b[1;34m(left, right)\u001b[0m\n\u001b[0;32m     14\u001b[0m \u001b[38;5;28;01mdef\u001b[39;00m \u001b[38;5;21mrsub\u001b[39m(left, right):\n\u001b[1;32m---> 15\u001b[0m     \u001b[38;5;28;01mreturn\u001b[39;00m \u001b[43mright\u001b[49m\u001b[43m \u001b[49m\u001b[38;5;241;43m-\u001b[39;49m\u001b[43m \u001b[49m\u001b[43mleft\u001b[49m\n",
      "\u001b[1;31mValueError\u001b[0m: operands could not be broadcast together with shapes (3,) (2,) "
     ]
    }
   ],
   "source": [
    "# Define a função de demanda\n",
    "def demanda(X, P):\n",
    "    # X é uma variável indicadora (X=1/0)\n",
    "    D = np.exp(0.64 + 0.4 * X1 - 0.005 * P)/(1+np.exp(0.64 + 0.4 * X1 - 0.005 * P))\n",
    "    return D\n",
    "\n",
    "df = pd.DataFrame({\n",
    "    'Cliente': [1, 2],\n",
    "    'X1': [1, 0],\n",
    "    'P': [250, 300],\n",
    "    'C': [150, 150]\n",
    "})\n",
    "                                              \n",
    "df['D']=demanda(df['X1'],df['P'])\n",
    "df"
   ]
  },
  {
   "cell_type": "code",
   "execution_count": 17,
   "id": "02f1c8d6",
   "metadata": {},
   "outputs": [
    {
     "data": {
      "text/html": [
       "<div>\n",
       "<style scoped>\n",
       "    .dataframe tbody tr th:only-of-type {\n",
       "        vertical-align: middle;\n",
       "    }\n",
       "\n",
       "    .dataframe tbody tr th {\n",
       "        vertical-align: top;\n",
       "    }\n",
       "\n",
       "    .dataframe thead th {\n",
       "        text-align: right;\n",
       "    }\n",
       "</style>\n",
       "<table border=\"1\" class=\"dataframe\">\n",
       "  <thead>\n",
       "    <tr style=\"text-align: right;\">\n",
       "      <th></th>\n",
       "      <th>Cliente</th>\n",
       "      <th>X1</th>\n",
       "      <th>P</th>\n",
       "      <th>C</th>\n",
       "    </tr>\n",
       "  </thead>\n",
       "  <tbody>\n",
       "    <tr>\n",
       "      <th>0</th>\n",
       "      <td>1</td>\n",
       "      <td>1</td>\n",
       "      <td>250</td>\n",
       "      <td>150</td>\n",
       "    </tr>\n",
       "    <tr>\n",
       "      <th>1</th>\n",
       "      <td>2</td>\n",
       "      <td>0</td>\n",
       "      <td>300</td>\n",
       "      <td>150</td>\n",
       "    </tr>\n",
       "  </tbody>\n",
       "</table>\n",
       "</div>"
      ],
      "text/plain": [
       "   Cliente  X1    P    C\n",
       "0        1   1  250  150\n",
       "1        2   0  300  150"
      ]
     },
     "execution_count": 17,
     "metadata": {},
     "output_type": "execute_result"
    }
   ],
   "source": [
    "df = pd.DataFrame({\n",
    "    'Cliente': [1, 2],\n",
    "    'X1': [1, 0],\n",
    "    'P': [250, 300],\n",
    "    'C': [150, 150]\n",
    "})\n",
    "df"
   ]
  },
  {
   "cell_type": "code",
   "execution_count": 30,
   "id": "d28f1650",
   "metadata": {},
   "outputs": [
    {
     "name": "stdout",
     "output_type": "stream",
     "text": [
      "Derivada de F em relação a P: [0.027608453078457607, -0.0686909019062033]\n",
      "Derivada de F em relação a Lambda: [0.46815180512439, 0.6103269480479719]\n"
     ]
    }
   ],
   "source": [
    "import sympy as sp\n",
    "import numpy as np\n",
    "\n",
    "# Definindo as variáveis\n",
    "P, X1, C, Lambda, K = sp.symbols('P X1 C Lambda K')\n",
    "\n",
    "# Definindo a função F usando sympy\n",
    "F = (sp.exp(0.64 + 0.4 * X1 - 0.005 * P) / (1 + sp.exp(0.64 + 0.4 * X1 - 0.005 * P))) * (P - C) - Lambda * (sp.exp(0.64 + 0.4 * X1 - 0.005 * P) / (1 + sp.exp(0.64 + 0.4 * X1 - 0.005 * P)) - K)\n",
    "\n",
    "# Derivando F em relação a P\n",
    "dF_dP = sp.diff(F, P)\n",
    "\n",
    "# Derivando F em relação a Lambda\n",
    "dF_dLambda = sp.diff(F, Lambda)\n",
    "\n",
    "# Convertendo as derivadas em funções utilizáveis\n",
    "dF_dP_func = sp.lambdify((P, X1, C, Lambda, K), dF_dP, 'numpy')\n",
    "dF_dLambda_func = sp.lambdify((P, X1, C, Lambda, K), dF_dLambda, 'numpy')\n",
    "\n",
    "# Exemplo de uso das funções\n",
    "P_vals = [400, 500]\n",
    "X_vals = [1, 0]\n",
    "C_val = 150\n",
    "Lambda_val = 1.0\n",
    "K_val = 0.74503\n",
    "\n",
    "# Calculando as derivadas para cada valor de P e X1\n",
    "dF_dP_results = [dF_dP_func(P, X, C_val, Lambda_val, K_val) for P, X in zip(P_vals, X_vals)]\n",
    "dF_dLambda_results = [dF_dLambda_func(P, X, C_val, Lambda_val, K_val) for P, X in zip(P_vals, X_vals)]\n",
    "\n",
    "print(\"Derivada de F em relação a P:\", dF_dP_results)\n",
    "print(\"Derivada de F em relação a Lambda:\", dF_dLambda_results)"
   ]
  },
  {
   "cell_type": "code",
   "execution_count": 32,
   "id": "edf5b907",
   "metadata": {},
   "outputs": [
    {
     "name": "stdout",
     "output_type": "stream",
     "text": [
      "Derivada de F em relação a P: [0.027608453078457607, -0.0686909019062033]\n",
      "Derivada de F em relação a Lambda: [0.46815180512439, 0.6103269480479719]\n"
     ]
    }
   ],
   "source": [
    "import sympy as sp\n",
    "import numpy as np\n",
    "\n",
    "# Definindo as variáveis\n",
    "P, X1, C, Lambda, K = sp.symbols('P X1 C Lambda K')\n",
    "\n",
    "# Definindo a função F usando sympy\n",
    "F = (sp.exp(0.64 + 0.4 * X1 - 0.005 * P) / (1 + sp.exp(0.64 + 0.4 * X1 - 0.005 * P))) * (P - C) - Lambda * (sp.exp(0.64 + 0.4 * X1 - 0.005 * P) / (1 + sp.exp(0.64 + 0.4 * X1 - 0.005 * P)) - K)\n",
    "\n",
    "# Derivando F em relação a P\n",
    "dF_dP = sp.diff(F, P)\n",
    "\n",
    "# Derivando F em relação a Lambda\n",
    "dF_dLambda = sp.diff(F, Lambda)\n",
    "\n",
    "# Convertendo as derivadas em funções utilizáveis\n",
    "dF_dP_func = sp.lambdify((P, X1, C, Lambda, K), dF_dP, 'numpy')\n",
    "dF_dLambda_func = sp.lambdify((P, X1, C, Lambda, K), dF_dLambda, 'numpy')\n",
    "\n",
    "# Exemplo de uso das funções\n",
    "P_vals = [400, 500]\n",
    "X_vals = [1, 0]\n",
    "C_val = 150\n",
    "Lambda_val = 1.0\n",
    "K_val = 0.74503\n",
    "\n",
    "# Calculando as derivadas para cada valor de P e X1\n",
    "dF_dP_results = [dF_dP_func(P, X, C_val, Lambda_val, K_val) for P, X in zip(P_vals, X_vals)]\n",
    "dF_dLambda_results = [dF_dLambda_func(P, X, C_val, Lambda_val, K_val) for P, X in zip(P_vals, X_vals)]\n",
    "\n",
    "print(\"Derivada de F em relação a P:\", dF_dP_results)\n",
    "print(\"Derivada de F em relação a Lambda:\", dF_dLambda_results)"
   ]
  },
  {
   "cell_type": "code",
   "execution_count": 33,
   "id": "a79c2142",
   "metadata": {},
   "outputs": [
    {
     "ename": "SyntaxError",
     "evalue": "'(' was never closed (3284162838.py, line 9)",
     "output_type": "error",
     "traceback": [
      "\u001b[1;36m  Cell \u001b[1;32mIn[33], line 9\u001b[1;36m\u001b[0m\n\u001b[1;33m    F = (sp.exp(1.3356 - 0.2576 * sp.log(P) + 1.3647 * P / X1 - 0.8782 * sp.log(P / X2) - 0.795 * sp.log(P / X3) - 1.6731 * sp.log(P / X4) + 0.3797 * sp.log(X5 + 1) + 0.0011 * X6 + 0.1253 * X7 + 0.1334 * X8 - 0.1382 * X9 + 0.3919 * X10 - 0.1397 * X11 - 0.2305 * X12 - 0.2832 * X13 + 0.0024 * X14 - 0.1476 * X15 + 0.2817 * X16 + 0.3336 * X17 - 0.4115 * X18 + 0.0127 * X19 - 0.73 * X20 + 0.4343 * X21 + 1.1066 * X22 + 1.9561 * X23 - 0.0742 * X24 - 0.8459 * X25 - 0.7094 * X26) * (P - C) - Lambda * (sp.exp(1.3356 - 0.2576 * sp.log(P) + 1.3647 * P / X1 - 0.8782 * sp.log(P / X2) - 0.795 * sp.log(P / X3) - 1.6731 * sp.log(P / X4) + 0.3797 * sp.log(X5 + 1) + 0.0011 * X6 + 0.1253 * X7 + 0.1334 * X8 - 0.1382 * X9 + 0.3919 * X10 - 0.1397 * X11 - 0.2305 * X12 - 0.2832 * X13 + 0.0024 * X14 - 0.1476 * X15 + 0.2817 * X16 + 0.3336 * X17 - 0.4115 * X18 + 0.0127 * X19 - 0.73 * X20 + 0.4343 * X21 + 1.1066 * X22 + 1.9561 * X23 - 0.0742 * X24 - 0.8459 * X25 - 0.7094 * X26) - K)\u001b[0m\n\u001b[1;37m        ^\u001b[0m\n\u001b[1;31mSyntaxError\u001b[0m\u001b[1;31m:\u001b[0m '(' was never closed\n"
     ]
    }
   ],
   "source": [
    "import numpy as np\n",
    "import sympy as sp\n",
    "from scipy import optimize\n",
    "\n",
    "# Definindo as variáveis\n",
    "P, X1, X2, X3, X4, X5, X6, X7, X8, X9, X10, X11, X12, X13, X14, X15, X16, X17, X18, X19, X20, X21, X22, X23, X24, X25, X26, C, Lambda, K = sp.symbols('P X1 X2 X3 X4 X5 X6 X7 X8 X9 X10 X11 X12 X13 X14 X15 X16 X17 X18 X19 X20 X21 X22 X23 X24 X25 X26 C Lambda K')\n",
    "\n",
    "# Definindo a função F\n",
    "F = (sp.exp(1.3356 - 0.2576 * sp.log(P) + 1.3647 * P / X1 - 0.8782 * sp.log(P / X2) - 0.795 * sp.log(P / X3) - 1.6731 * sp.log(P / X4) + 0.3797 * sp.log(X5 + 1) + 0.0011 * X6 + 0.1253 * X7 + 0.1334 * X8 - 0.1382 * X9 + 0.3919 * X10 - 0.1397 * X11 - 0.2305 * X12 - 0.2832 * X13 + 0.0024 * X14 - 0.1476 * X15 + 0.2817 * X16 + 0.3336 * X17 - 0.4115 * X18 + 0.0127 * X19 - 0.73 * X20 + 0.4343 * X21 + 1.1066 * X22 + 1.9561 * X23 - 0.0742 * X24 - 0.8459 * X25 - 0.7094 * X26) * (P - C) - Lambda * (sp.exp(1.3356 - 0.2576 * sp.log(P) + 1.3647 * P / X1 - 0.8782 * sp.log(P / X2) - 0.795 * sp.log(P / X3) - 1.6731 * sp.log(P / X4) + 0.3797 * sp.log(X5 + 1) + 0.0011 * X6 + 0.1253 * X7 + 0.1334 * X8 - 0.1382 * X9 + 0.3919 * X10 - 0.1397 * X11 - 0.2305 * X12 - 0.2832 * X13 + 0.0024 * X14 - 0.1476 * X15 + 0.2817 * X16 + 0.3336 * X17 - 0.4115 * X18 + 0.0127 * X19 - 0.73 * X20 + 0.4343 * X21 + 1.1066 * X22 + 1.9561 * X23 - 0.0742 * X24 - 0.8459 * X25 - 0.7094 * X26) - K)\n",
    "\n",
    "# Derivando F em relação a P e Lambda\n",
    "dF_dP = sp.diff(F, P)\n",
    "dF_dLambda = sp.diff(F, Lambda)\n",
    "\n",
    "# Convertendo as derivadas em funções utilizáveis\n",
    "dF_dP_func = sp.lambdify((P, X1, X2, X3, X4, X5, X6, X7, X8, X9, X10, X11, X12, X13, X14, X15, X16, X17, X18, X19, X20, X21, X22, X23, X24, X25, X26, C, Lambda, K), dF_dP, 'numpy')\n",
    "dF_dLambda_func = sp.lambdify((P, X1, X2, X3, X4, X5, X6, X7, X8, X9, X10, X11, X12, X13, X14, X15, X16, X17, X18, X19, X20, X21, X22, X23, X24, X25, X26, C, Lambda, K), dF_dLambda, 'numpy')\n",
    "\n",
    "# Aplicando as derivadas calculadas\n",
    "def dfunc(X, indicadora, target):\n",
    "    P_vals = X[:-1]\n",
    "    L_val = X[-1]\n",
    "    dLambda = np.zeros(len(X))\n",
    "    \n",
    "    for i in range(len(P_vals)):\n",
    "        dLambda[i] = dF_dP_func(P_vals[i], *indicadora[i], L_val, target)\n",
    "    \n",
    "    dLambda[-1] = dF_dLambda_func(P_vals[0], *indicadora[0], L_val, target)  # Usando o primeiro conjunto de indicadores para Lambda\n",
    "    \n",
    "    return dLambda\n",
    "\n",
    "# Definindo a função para otimizar os preços\n",
    "def otimizar_precos(indicadora, precos_iniciais, target):\n",
    "    # Iniciando o vetor X com os preços iniciais e um valor inicial para o multiplicador de Lagrange\n",
    "    X_inicial = np.append(precos_iniciais, 0)\n",
    "    \n",
    "    # Calculando os preços otimizados\n",
    "    X_otimizado = optimize.fsolve(dfunc, X_inicial, args=(indicadora, target), xtol=1e-06, maxfev=500)\n",
    "    \n",
    "    # Retornando o vetor de preços otimizados e o multiplicador de Lagrange\n",
    "    precos_otimizados = X_otimizado[:-1]\n",
    "    lambida = X_otimizado[-1]\n",
    "    \n",
    "    return precos_otimizados, lambida\n",
    "\n",
    "# Exemplo de uso\n",
    "indicadora = np.random.rand(10, 26)  # Exemplo de matriz de indicadores\n",
    "precos_iniciais = np.random.rand(10) * 100  # Exemplo de preços iniciais\n",
    "target = 1000  # Exemplo de demanda média\n",
    "\n",
    "precos_otimizados, lambida = otimizar_precos(indicadora, precos_iniciais, target)\n",
    "print(\"λ:\", lambida)\n",
    "print(\"Preços Otimizados:\", precos_otimizados)"
   ]
  },
  {
   "cell_type": "code",
   "execution_count": null,
   "id": "7e4c5a23",
   "metadata": {},
   "outputs": [],
   "source": []
  }
 ],
 "metadata": {
  "kernelspec": {
   "display_name": "Python 3 (ipykernel)",
   "language": "python",
   "name": "python3"
  },
  "language_info": {
   "codemirror_mode": {
    "name": "ipython",
    "version": 3
   },
   "file_extension": ".py",
   "mimetype": "text/x-python",
   "name": "python",
   "nbconvert_exporter": "python",
   "pygments_lexer": "ipython3",
   "version": "3.10.9"
  }
 },
 "nbformat": 4,
 "nbformat_minor": 5
}
