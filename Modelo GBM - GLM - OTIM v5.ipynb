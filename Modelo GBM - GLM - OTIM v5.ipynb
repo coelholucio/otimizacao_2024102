{
 "cells": [
  {
   "cell_type": "code",
   "execution_count": 5,
   "id": "4317d284",
   "metadata": {},
   "outputs": [],
   "source": [
    "import pandas as pd\n",
    "import seaborn as sns\n",
    "import matplotlib.pyplot as plt\n",
    "import numpy as np\n",
    "import statsmodels.formula.api as smf\n",
    "\n",
    "from scipy.optimize import minimize\n",
    "\n",
    "from sklearn.preprocessing import LabelEncoder\n",
    "from sklearn.model_selection import train_test_split\n",
    "from sklearn import metrics\n",
    "from sklearn.preprocessing import StandardScaler\n",
    "\n",
    "from sklearn.tree import DecisionTreeRegressor\n",
    "from sklearn.ensemble import RandomForestRegressor\n",
    "import xgboost as xgb\n",
    "from sklearn.metrics import mean_squared_error, mean_absolute_error, r2_score\n",
    "from sklearn.linear_model import LinearRegression\n",
    "\n",
    "from numpy import asarray\n",
    "from sklearn.preprocessing import OrdinalEncoder\n",
    "\n",
    "import warnings\n",
    "warnings.filterwarnings('ignore')\n"
   ]
  },
  {
   "cell_type": "markdown",
   "id": "a5e0e9c4",
   "metadata": {},
   "source": [
    "## modelagem GLM"
   ]
  },
  {
   "cell_type": "code",
   "execution_count": 6,
   "id": "628b03c6",
   "metadata": {},
   "outputs": [
    {
     "name": "stdout",
     "output_type": "stream",
     "text": [
      "CPU times: total: 5.97 s\n",
      "Wall time: 7.04 s\n"
     ]
    }
   ],
   "source": [
    "%%time\n",
    "df_mod_mp_feb23may24_v3 = pd.read_csv(\"C://Flavio/Projeto Otimizacao/Modelo Renovacao/df_mod_mp_feb23may24_v3.csv\",\n",
    "                     encoding='latin-1',\n",
    "                     delimiter='|')"
   ]
  },
  {
   "cell_type": "code",
   "execution_count": 7,
   "id": "a1e496d0",
   "metadata": {},
   "outputs": [
    {
     "data": {
      "text/plain": [
       "(571594, 105)"
      ]
     },
     "execution_count": 7,
     "metadata": {},
     "output_type": "execute_result"
    }
   ],
   "source": [
    "df_mod_mp_feb23may24_v3.shape"
   ]
  },
  {
   "cell_type": "markdown",
   "id": "c798bf0a",
   "metadata": {},
   "source": [
    "###  Prepara base de modelagem glm"
   ]
  },
  {
   "cell_type": "code",
   "execution_count": 8,
   "id": "b717c29c",
   "metadata": {},
   "outputs": [],
   "source": [
    "df_mod_filtered=df_mod_mp_feb23may24_v3[[\"premio_ofertado\",\"premio_total\", 'premio_creserva','premio_demais_cob',\"teste_validacao\",\"ind_renovacao\",\"MD_sexo\",\"cod_corr\",\n",
    "                                \"Cod_End\",\"MD_sin_5a_cas\",\"MD_tempo_casa_2\",\"MD_idade_veic\",\"MD_faixa_IScas\",\n",
    "                                \"anomes_dt_ter\" ,\"MD_idade\",\"per_com\", \"RNS_Casco_calc\",\"MD_menor26\",\"UF\",\"Renovacao_ant\",\n",
    "                                \"fx_ir_12m\",\"is_casco_ofer\",\"classe_bonus\",\"MD_fator_ajuste\",\"MD_capac\",\"md_categoria\",\n",
    "                                \"MD_comb\",\"MD_qtd_assis_cpf\", \"idade_ult_RNS\",\"canal\",\"MD_tipo_renov\",'FABRICA','MD_est_civil',\n",
    "                                'peso','Grupo_veiculo_new','vigencia',\n",
    "                                'Risco_PP_mod', 'Risco_PT_mod','Risco_RF_mod','Risco_DM_mod','Risco_AS_mod',\n",
    "                                'Risco_DC_mod' ,'Risco_DMO_mod']]"
   ]
  },
  {
   "cell_type": "code",
   "execution_count": 9,
   "id": "6e9e026a",
   "metadata": {},
   "outputs": [
    {
     "data": {
      "text/plain": [
       "(358297, 43)"
      ]
     },
     "execution_count": 9,
     "metadata": {},
     "output_type": "execute_result"
    }
   ],
   "source": [
    "df_mod_filtered = df_mod_filtered[df_mod_filtered['per_com'].notna()]\n",
    "df_mod_filtered = df_mod_filtered[df_mod_filtered['Renovacao_ant'].notna()]\n",
    "df_mod_filtered = df_mod_filtered[df_mod_filtered['MD_est_civil'].notna()]\n",
    "df_mod_filtered = df_mod_filtered[df_mod_filtered['peso'].notna()]\n",
    "df_mod_filtered = df_mod_filtered.query('premio_total !=0')\n",
    "df_mod_filtered = df_mod_filtered.query('vigencia == \"Anual\"')\n",
    "df_mod_filtered = df_mod_filtered.query('premio_creserva >= 0')\n",
    "df_mod_filtered = df_mod_filtered[~df_mod_filtered['anomes_dt_ter'].isin([202310,202309,202308,202302,202402])]\n",
    "df_mod_filtered = df_mod_filtered.query('is_casco_ofer > 0')\n",
    "df_mod_filtered = df_mod_filtered[(df_mod_filtered['per_com']>0) & (df_mod_filtered['per_com']<50)]\n",
    "df_mod_filtered = df_mod_filtered.query('premio_total >100')\n",
    "df_mod_filtered = df_mod_filtered.query('MD_idade !=\"ERRO\"')\n",
    "df_mod_filtered = df_mod_filtered[(df_mod_filtered.UF != \"SP\") | (~df_mod_filtered.Grupo_veiculo_new.isin([\"Toyota Hilux CD\",\"Toyota Hilux CS\",\"Toyota Hilux SW4\"]))]\n",
    "df_mod_filtered = df_mod_filtered[(df_mod_filtered.premio_ofertado/df_mod_filtered.premio_total <=2.3) &  (df_mod_filtered.premio_ofertado/df_mod_filtered.premio_total>=0.7)]\n",
    "\n",
    "df_mod_filtered.shape\n"
   ]
  },
  {
   "cell_type": "code",
   "execution_count": 10,
   "id": "360599fc",
   "metadata": {},
   "outputs": [],
   "source": [
    "df_mod_filtered['DA_emissao'] =0.2349\n",
    "df_mod_filtered['DA_producao'] =0.2749\n",
    "df_mod_filtered['risco_dmais_cob'] =df_mod_filtered['premio_demais_cob']*0.2627*1.4\n",
    "df_mod_filtered['premio_anterior'] =df_mod_filtered['premio_total']\n",
    "df_mod_filtered['Act_cost']  = df_mod_filtered['Risco_PP_mod'] + df_mod_filtered['Risco_PT_mod'] + df_mod_filtered['Risco_RF_mod']+ df_mod_filtered['Risco_DM_mod']+ df_mod_filtered['Risco_AS_mod'] + df_mod_filtered['Risco_DC_mod'] +df_mod_filtered['Risco_DMO_mod'] + df_mod_filtered['risco_dmais_cob']\n",
    "df_mod_filtered['Premio_IC100']  = df_mod_filtered['Act_cost']/(1-df_mod_filtered['per_com']/100-df_mod_filtered['DA_producao'] )\n",
    "df_mod_filtered[\"premio\"] = df_mod_filtered[\"premio_ofertado\"]"
   ]
  },
  {
   "cell_type": "code",
   "execution_count": 11,
   "id": "687abc4a",
   "metadata": {
    "scrolled": true
   },
   "outputs": [],
   "source": [
    "def categorizar(df):\n",
    "    \n",
    "    df['classe_bonus_bin'] = df['classe_bonus'].apply(lambda x: '00'  if x == 0 else 'Demais')   \n",
    "    \n",
    "    df['MD_sexo_bin'] = df['MD_sexo'].map({'Masculino': 'Masculino', \n",
    "                                 'Feminino': 'Feminino', \n",
    "                                  'ERRO': 'Masculino'}).astype(object)\n",
    "    \n",
    "    df['MD_sexo_2bin'] = df['MD_sexo'].map({'Masculino': 1, \n",
    "                                 'Feminino': 0, \n",
    "                                  'ERRO': 1}).astype(int)\n",
    "\n",
    "\n",
    "    df['fx_ir_12m_bin'] = df['fx_ir_12m'].apply(lambda x: '01 - 00-<=020' if x == '01 - 00-<=020' else\n",
    "                                                              '02 - 20-<=040' if x == '02 - 20-<=040' else\n",
    "                                                              '03 - 40-<=060' if x == '03 - 40-<=060' else\n",
    "                                                              '04 - 60-<=080' if x == '04 - 60-<=080' else\n",
    "                                                              '05 - 80-<=100' if x == '05 - 80-<=100' else\n",
    "                                                              '02 - 20-<=040' if x == 'NI'           else 'ERROR')\n",
    "\n",
    "  \n",
    "    df['MD_comb_bin'] = df['MD_comb'].apply(lambda x: 'Gasolina' if x == 'Gasolina'  else 'Demais')\n",
    "\n",
    "    df['canal_bin'] =  df['canal'].apply(lambda x: 'Corretor Mais' if x == 'Corretor Mais'  else 'Demais')\n",
    "   \n",
    "    df['per_com_bin'] = df['per_com'].apply(lambda x: '<10' if x < 10 else\n",
    "                                                          '>=10' if x >= 10 else 'ERROR')    \n",
    "\n",
    "\n",
    "\n",
    "    df['idade_ult_RNS_bin'] = df['idade_ult_RNS'].apply(lambda x: 'Sem Sinistro' if x == 'Sem Sinistro' else\n",
    "                                                                      '01-05 ano' if x == '01 ano' else\n",
    "                                                                      '01-05 ano' if x == '01 ano' else\n",
    "                                                                      '01-05 ano' if x == '01 ano' else\n",
    "                                                                      '01-05 ano' if x == '01 ano' else\n",
    "                                                                      '01-05 ano' if x == '01 ano' else '06+ ano +')\n",
    "\n",
    "\n",
    "    df['UF_bin'] = df['UF'].apply(lambda x: 'AL,CE,RS'  if x == 'AL' else\n",
    "                                                'AL,CE,RS'  if x == 'CE' else\n",
    "                                                'AL,CE,RS'  if x == 'RS' else \n",
    "                                                'AP,DF,ES,PA,PB,RN,SC' if x == 'AP' else \n",
    "                                                'AP,DF,ES,PA,PB,RN,SC' if x == 'DF' else \n",
    "                                                'AP,DF,ES,PA,PB,RN,SC' if x == 'ES' else \n",
    "                                                'AP,DF,ES,PA,PB,RN,SC' if x == 'PA' else \n",
    "                                                'AP,DF,ES,PA,PB,RN,SC' if x == 'PB' else \n",
    "                                                'AP,DF,ES,PA,PB,RN,SC' if x == 'RN' else \n",
    "                                                'AP,DF,ES,PA,PB,RN,SC' if x == 'SC' else \n",
    "                                                'GO,MA,MG'             if x == 'GO' else \n",
    "                                                'GO,MA,MG'             if x == 'MA' else \n",
    "                                                'GO,MA,MG'             if x == 'MG' else \n",
    "                                                'MT,PR'                if x == 'MT' else\n",
    "                                                'MT,PR'                if x == 'PR' else \n",
    "                                                'RJ'                   if x == 'RJ' else  'Demais')\n",
    "\n",
    "    df['md_tipo_renov_ant_bin'] = df['Renovacao_ant'].apply(lambda x:     '1 - SeguroNovo'       if x == '1 - Seguro Novo'  else\n",
    "                                                                          '2 - RenovPropria'     if x == '2 - Renov MAPFRE sem sinistro'   else\n",
    "                                                                          '2 - RenovPropria'     if x == '3 - Renov MAPFRE com sinistro'   else\n",
    "                                                                          '3 - RenovCongenere'   if x == '4 - Renov Congenere sem sinistro' else\n",
    "                                                                          '3 - RenovCongenere'   if x == '5 - Renov Congenere com sinistro' else\n",
    "                                                                          '3 - RenovCongenere'   if x == '6 - Renov BB sem sinistro' else\n",
    "                                                                          '3 - RenovCongenere'   if x == '7 - Renov BB com sinistro' else  '2 - RenovPropria')\n",
    "       \n",
    "     \n",
    "    df['Cod_End_bin'] = df['Cod_End'].apply(lambda x: '13509'  if x == 13509 else\n",
    "                                                      '13509'  if x == 50007 else\n",
    "                                                      '13509'  if x == 50100 else 'Demais')   \n",
    "\n",
    "    df['MD_capac_bin'] = df['MD_capac'].apply(lambda x: '5'  if x == 5  else 'Demais')  \n",
    "\n",
    "\n",
    "\n",
    "    df['fator_ajuste_bin'] = df['MD_fator_ajuste'].apply(lambda x: '<101'    if x < 101 else\n",
    "                                                                    '>=101'   if x >= 101  else '<101')   \n",
    "\n",
    "    df['MD_qtd_assis_cpf_bin'] = df['MD_qtd_assis_cpf'].apply(lambda x: '00'  if x == 0 else\n",
    "                                                                        '01'  if x == 1 else\n",
    "                                                                        '>=2' if x >= 2 else 'ERROR')\n",
    "     \n",
    "    return df"
   ]
  },
  {
   "cell_type": "code",
   "execution_count": 12,
   "id": "6be2ddc6",
   "metadata": {},
   "outputs": [],
   "source": [
    "df_mod=df_mod_filtered.copy()\n",
    "df_mod = categorizar(df_mod)"
   ]
  },
  {
   "cell_type": "code",
   "execution_count": 13,
   "id": "5772a3fe",
   "metadata": {},
   "outputs": [
    {
     "data": {
      "text/plain": [
       "(286808, 64)"
      ]
     },
     "execution_count": 13,
     "metadata": {},
     "output_type": "execute_result"
    }
   ],
   "source": [
    "df_train = df_mod.query('teste_validacao == \"Trein\"')\n",
    "df_train.shape"
   ]
  },
  {
   "cell_type": "code",
   "execution_count": 14,
   "id": "ad26e9d8",
   "metadata": {},
   "outputs": [
    {
     "data": {
      "text/plain": [
       "(71489, 64)"
      ]
     },
     "execution_count": 14,
     "metadata": {},
     "output_type": "execute_result"
    }
   ],
   "source": [
    "df_test = df_mod.query('teste_validacao == \"Teste\"')\n",
    "df_test.shape"
   ]
  },
  {
   "cell_type": "code",
   "execution_count": 15,
   "id": "93629be3",
   "metadata": {},
   "outputs": [],
   "source": [
    "#x_df_num = df_train[['premio']]\n",
    "#x_df_num = x_df_num.fillna(0)\n",
    "#x_df_cat = df_train[['MD_sexo_bin']]\n",
    "#y   = df_train[['ind_renovacao']]\n",
    "#x_df_dummy=pd.get_dummies(x_df_cat)\n",
    "#x_df=pd.concat([x_df_num, x_df_dummy],axis=1)\n",
    "#x_train, x_test, y_train, y_test = train_test_split(x_df, y, test_size=0.2) \n",
    "#x_train = x_df"
   ]
  },
  {
   "cell_type": "code",
   "execution_count": 16,
   "id": "86f2cae7",
   "metadata": {},
   "outputs": [],
   "source": [
    "#Modelo GLM de retenção\n",
    "#formula = 'ind_renovacao ~ 1 + MD_sexo_bin_Feminino  + np.log(premio) ' \n",
    "#model_glm = smf.logit(formula , data=x_df).fit()\n",
    "#model_glm.summary()"
   ]
  },
  {
   "cell_type": "code",
   "execution_count": 18,
   "id": "a97368be",
   "metadata": {},
   "outputs": [
    {
     "name": "stdout",
     "output_type": "stream",
     "text": [
      "Optimization terminated successfully.\n",
      "         Current function value: 0.651262\n",
      "         Iterations 6\n"
     ]
    },
    {
     "data": {
      "text/html": [
       "<table class=\"simpletable\">\n",
       "<caption>Logit Regression Results</caption>\n",
       "<tr>\n",
       "  <th>Dep. Variable:</th>     <td>ind_renovacao</td>  <th>  No. Observations:  </th>   <td>286808</td>   \n",
       "</tr>\n",
       "<tr>\n",
       "  <th>Model:</th>                 <td>Logit</td>      <th>  Df Residuals:      </th>   <td>286805</td>   \n",
       "</tr>\n",
       "<tr>\n",
       "  <th>Method:</th>                 <td>MLE</td>       <th>  Df Model:          </th>   <td>     2</td>   \n",
       "</tr>\n",
       "<tr>\n",
       "  <th>Date:</th>            <td>Sat, 10 Aug 2024</td> <th>  Pseudo R-squ.:     </th>   <td>0.05603</td>  \n",
       "</tr>\n",
       "<tr>\n",
       "  <th>Time:</th>                <td>20:52:09</td>     <th>  Log-Likelihood:    </th> <td>-1.8679e+05</td>\n",
       "</tr>\n",
       "<tr>\n",
       "  <th>converged:</th>             <td>True</td>       <th>  LL-Null:           </th> <td>-1.9787e+05</td>\n",
       "</tr>\n",
       "<tr>\n",
       "  <th>Covariance Type:</th>     <td>nonrobust</td>    <th>  LLR p-value:       </th>   <td> 0.000</td>   \n",
       "</tr>\n",
       "</table>\n",
       "<table class=\"simpletable\">\n",
       "<tr>\n",
       "        <td></td>          <th>coef</th>     <th>std err</th>      <th>z</th>      <th>P>|z|</th>  <th>[0.025</th>    <th>0.975]</th>  \n",
       "</tr>\n",
       "<tr>\n",
       "  <th>Intercept</th>    <td>    0.7437</td> <td>    0.009</td> <td>   85.725</td> <td> 0.000</td> <td>    0.727</td> <td>    0.761</td>\n",
       "</tr>\n",
       "<tr>\n",
       "  <th>MD_sexo_2bin</th> <td>    0.0838</td> <td>    0.008</td> <td>   10.723</td> <td> 0.000</td> <td>    0.068</td> <td>    0.099</td>\n",
       "</tr>\n",
       "<tr>\n",
       "  <th>premio</th>       <td>   -0.0003</td> <td> 2.67e-06</td> <td> -125.884</td> <td> 0.000</td> <td>   -0.000</td> <td>   -0.000</td>\n",
       "</tr>\n",
       "</table>"
      ],
      "text/plain": [
       "<class 'statsmodels.iolib.summary.Summary'>\n",
       "\"\"\"\n",
       "                           Logit Regression Results                           \n",
       "==============================================================================\n",
       "Dep. Variable:          ind_renovacao   No. Observations:               286808\n",
       "Model:                          Logit   Df Residuals:                   286805\n",
       "Method:                           MLE   Df Model:                            2\n",
       "Date:                Sat, 10 Aug 2024   Pseudo R-squ.:                 0.05603\n",
       "Time:                        20:52:09   Log-Likelihood:            -1.8679e+05\n",
       "converged:                       True   LL-Null:                   -1.9787e+05\n",
       "Covariance Type:            nonrobust   LLR p-value:                     0.000\n",
       "================================================================================\n",
       "                   coef    std err          z      P>|z|      [0.025      0.975]\n",
       "--------------------------------------------------------------------------------\n",
       "Intercept        0.7437      0.009     85.725      0.000       0.727       0.761\n",
       "MD_sexo_2bin     0.0838      0.008     10.723      0.000       0.068       0.099\n",
       "premio          -0.0003   2.67e-06   -125.884      0.000      -0.000      -0.000\n",
       "================================================================================\n",
       "\"\"\""
      ]
     },
     "execution_count": 18,
     "metadata": {},
     "output_type": "execute_result"
    }
   ],
   "source": [
    "import statsmodels.formula.api as smf\n",
    "#Modelo GLM de retenção\n",
    "#formula = 'ind_renovacao ~ 1 + MD_sexo_2bin + np.log(premio) ' \n",
    "formula = 'ind_renovacao ~ 1 + MD_sexo_2bin + premio '\n",
    "model_glm = smf.logit(formula , data=df_train).fit()\n",
    "model_glm.summary()"
   ]
  },
  {
   "cell_type": "code",
   "execution_count": 19,
   "id": "23a943db",
   "metadata": {},
   "outputs": [],
   "source": [
    "df_train[\"prob_est\"]=model_glm.predict(df_train)\n"
   ]
  },
  {
   "cell_type": "markdown",
   "id": "808c929f",
   "metadata": {},
   "source": [
    "## Base Para escorar e otimizar"
   ]
  },
  {
   "cell_type": "code",
   "execution_count": 20,
   "id": "daae90ef",
   "metadata": {},
   "outputs": [],
   "source": [
    "df_lote_092024 = pd.read_csv(\"C://Flavio/Projeto Otimizacao/Otimizacao/Table 7 Base Case Total  - teste novo.csv\",\n",
    "                     encoding='latin-1',\n",
    "                     delimiter='|')"
   ]
  },
  {
   "cell_type": "code",
   "execution_count": 174,
   "id": "1cb3a37a",
   "metadata": {},
   "outputs": [],
   "source": [
    "#df_lote_092024.groupby(['Amostra'])['GBM_mercado',\"Renewal Demand\"].describe().T"
   ]
  },
  {
   "cell_type": "code",
   "execution_count": 21,
   "id": "451a4bb1",
   "metadata": {},
   "outputs": [
    {
     "data": {
      "text/plain": [
       "(27304, 123)"
      ]
     },
     "execution_count": 21,
     "metadata": {},
     "output_type": "execute_result"
    }
   ],
   "source": [
    "df_lote_escorar=df_lote_092024.copy()\n",
    "df_lote_escorar.shape"
   ]
  },
  {
   "cell_type": "code",
   "execution_count": 28,
   "id": "f211fcfc",
   "metadata": {},
   "outputs": [],
   "source": [
    "df_lote_escorar[\"premio\"] = df_lote_escorar[\"Premio_oferecido_com_batente\"]"
   ]
  },
  {
   "cell_type": "code",
   "execution_count": 29,
   "id": "6a23c83a",
   "metadata": {},
   "outputs": [],
   "source": [
    "df_lote_escorar.rename(columns={'Pr_anterior_TI':'premio_anterior', \n",
    "                                   'cod_end': 'Cod_End',\n",
    "                                   'md_capac': 'MD_capac',\n",
    "                                   'Classe_bonus':'classe_bonus',\n",
    "                                   'fator_ajuste': 'MD_fator_ajuste'},inplace=True)"
   ]
  },
  {
   "cell_type": "code",
   "execution_count": 30,
   "id": "0edd9824",
   "metadata": {},
   "outputs": [
    {
     "data": {
      "text/html": [
       "<div>\n",
       "<style scoped>\n",
       "    .dataframe tbody tr th:only-of-type {\n",
       "        vertical-align: middle;\n",
       "    }\n",
       "\n",
       "    .dataframe tbody tr th {\n",
       "        vertical-align: top;\n",
       "    }\n",
       "\n",
       "    .dataframe thead th {\n",
       "        text-align: right;\n",
       "    }\n",
       "</style>\n",
       "<table border=\"1\" class=\"dataframe\">\n",
       "  <thead>\n",
       "    <tr style=\"text-align: right;\">\n",
       "      <th></th>\n",
       "      <th>Act_cost</th>\n",
       "      <th>Amostra</th>\n",
       "      <th>Amostra_inicial</th>\n",
       "      <th>ano_fab</th>\n",
       "      <th>ano_modelo</th>\n",
       "      <th>batente_max_ti</th>\n",
       "      <th>batente_min_ti</th>\n",
       "      <th>batente_min_ti_original</th>\n",
       "      <th>canal</th>\n",
       "      <th>Carprice</th>\n",
       "      <th>...</th>\n",
       "      <th>canal_bin</th>\n",
       "      <th>per_com_bin</th>\n",
       "      <th>idade_ult_RNS_bin</th>\n",
       "      <th>UF_bin</th>\n",
       "      <th>md_tipo_renov_ant_bin</th>\n",
       "      <th>Cod_End_bin</th>\n",
       "      <th>MD_capac_bin</th>\n",
       "      <th>fator_ajuste_bin</th>\n",
       "      <th>MD_qtd_assis_cpf_bin</th>\n",
       "      <th>premio</th>\n",
       "    </tr>\n",
       "  </thead>\n",
       "  <tbody>\n",
       "    <tr>\n",
       "      <th>0</th>\n",
       "      <td>1089.960657</td>\n",
       "      <td>Otimização Mkp</td>\n",
       "      <td>Otimização Mkp</td>\n",
       "      <td>2019</td>\n",
       "      <td>2019</td>\n",
       "      <td>2.3</td>\n",
       "      <td>0.5</td>\n",
       "      <td>0.6</td>\n",
       "      <td>BancoVotorantim</td>\n",
       "      <td>49491</td>\n",
       "      <td>...</td>\n",
       "      <td>Demais</td>\n",
       "      <td>&gt;=10</td>\n",
       "      <td>Sem Sinistro</td>\n",
       "      <td>AP,DF,ES,PA,PB,RN,SC</td>\n",
       "      <td>1 - SeguroNovo</td>\n",
       "      <td>Demais</td>\n",
       "      <td>Demais</td>\n",
       "      <td>&lt;101</td>\n",
       "      <td>00</td>\n",
       "      <td>2012.730000</td>\n",
       "    </tr>\n",
       "    <tr>\n",
       "      <th>1</th>\n",
       "      <td>201.505993</td>\n",
       "      <td>Otimização Atu</td>\n",
       "      <td>Otimização Atu</td>\n",
       "      <td>2008</td>\n",
       "      <td>2008</td>\n",
       "      <td>2.3</td>\n",
       "      <td>0.5</td>\n",
       "      <td>0.6</td>\n",
       "      <td>MNP</td>\n",
       "      <td>15989</td>\n",
       "      <td>...</td>\n",
       "      <td>Demais</td>\n",
       "      <td>&lt;10</td>\n",
       "      <td>Sem Sinistro</td>\n",
       "      <td>Demais</td>\n",
       "      <td>2 - RenovPropria</td>\n",
       "      <td>Demais</td>\n",
       "      <td>Demais</td>\n",
       "      <td>&lt;101</td>\n",
       "      <td>00</td>\n",
       "      <td>281.787153</td>\n",
       "    </tr>\n",
       "    <tr>\n",
       "      <th>2</th>\n",
       "      <td>233.955581</td>\n",
       "      <td>Otimização Mkp</td>\n",
       "      <td>Otimização Mkp</td>\n",
       "      <td>2019</td>\n",
       "      <td>2020</td>\n",
       "      <td>2.3</td>\n",
       "      <td>0.5</td>\n",
       "      <td>0.6</td>\n",
       "      <td>Coamo</td>\n",
       "      <td>77960</td>\n",
       "      <td>...</td>\n",
       "      <td>Demais</td>\n",
       "      <td>&gt;=10</td>\n",
       "      <td>Sem Sinistro</td>\n",
       "      <td>Demais</td>\n",
       "      <td>3 - RenovCongenere</td>\n",
       "      <td>Demais</td>\n",
       "      <td>Demais</td>\n",
       "      <td>&lt;101</td>\n",
       "      <td>00</td>\n",
       "      <td>374.269047</td>\n",
       "    </tr>\n",
       "    <tr>\n",
       "      <th>3</th>\n",
       "      <td>304.632691</td>\n",
       "      <td>Controle</td>\n",
       "      <td>Controle</td>\n",
       "      <td>2022</td>\n",
       "      <td>2023</td>\n",
       "      <td>2.3</td>\n",
       "      <td>0.5</td>\n",
       "      <td>0.6</td>\n",
       "      <td>MNP</td>\n",
       "      <td>124965</td>\n",
       "      <td>...</td>\n",
       "      <td>Demais</td>\n",
       "      <td>&lt;10</td>\n",
       "      <td>Sem Sinistro</td>\n",
       "      <td>Demais</td>\n",
       "      <td>2 - RenovPropria</td>\n",
       "      <td>Demais</td>\n",
       "      <td>Demais</td>\n",
       "      <td>&lt;101</td>\n",
       "      <td>00</td>\n",
       "      <td>426.000127</td>\n",
       "    </tr>\n",
       "    <tr>\n",
       "      <th>4</th>\n",
       "      <td>198.441307</td>\n",
       "      <td>Otimização Mkp2</td>\n",
       "      <td>Otimização Mkp</td>\n",
       "      <td>1993</td>\n",
       "      <td>1993</td>\n",
       "      <td>2.3</td>\n",
       "      <td>0.5</td>\n",
       "      <td>0.6</td>\n",
       "      <td>Corretor</td>\n",
       "      <td>8021</td>\n",
       "      <td>...</td>\n",
       "      <td>Demais</td>\n",
       "      <td>&gt;=10</td>\n",
       "      <td>Sem Sinistro</td>\n",
       "      <td>AL,CE,RS</td>\n",
       "      <td>2 - RenovPropria</td>\n",
       "      <td>Demais</td>\n",
       "      <td>Demais</td>\n",
       "      <td>&lt;101</td>\n",
       "      <td>00</td>\n",
       "      <td>369.890000</td>\n",
       "    </tr>\n",
       "  </tbody>\n",
       "</table>\n",
       "<p>5 rows × 138 columns</p>\n",
       "</div>"
      ],
      "text/plain": [
       "      Act_cost          Amostra Amostra_inicial  ano_fab  ano_modelo  \\\n",
       "0  1089.960657   Otimização Mkp  Otimização Mkp     2019        2019   \n",
       "1   201.505993   Otimização Atu  Otimização Atu     2008        2008   \n",
       "2   233.955581   Otimização Mkp  Otimização Mkp     2019        2020   \n",
       "3   304.632691         Controle        Controle     2022        2023   \n",
       "4   198.441307  Otimização Mkp2  Otimização Mkp     1993        1993   \n",
       "\n",
       "   batente_max_ti  batente_min_ti  batente_min_ti_original            canal  \\\n",
       "0             2.3             0.5                      0.6  BancoVotorantim   \n",
       "1             2.3             0.5                      0.6              MNP   \n",
       "2             2.3             0.5                      0.6            Coamo   \n",
       "3             2.3             0.5                      0.6              MNP   \n",
       "4             2.3             0.5                      0.6         Corretor   \n",
       "\n",
       "   Carprice  ...  canal_bin  per_com_bin idade_ult_RNS_bin  \\\n",
       "0     49491  ...     Demais         >=10      Sem Sinistro   \n",
       "1     15989  ...     Demais          <10      Sem Sinistro   \n",
       "2     77960  ...     Demais         >=10      Sem Sinistro   \n",
       "3    124965  ...     Demais          <10      Sem Sinistro   \n",
       "4      8021  ...     Demais         >=10      Sem Sinistro   \n",
       "\n",
       "                 UF_bin  md_tipo_renov_ant_bin  Cod_End_bin  MD_capac_bin  \\\n",
       "0  AP,DF,ES,PA,PB,RN,SC         1 - SeguroNovo       Demais        Demais   \n",
       "1                Demais       2 - RenovPropria       Demais        Demais   \n",
       "2                Demais     3 - RenovCongenere       Demais        Demais   \n",
       "3                Demais       2 - RenovPropria       Demais        Demais   \n",
       "4              AL,CE,RS       2 - RenovPropria       Demais        Demais   \n",
       "\n",
       "  fator_ajuste_bin MD_qtd_assis_cpf_bin       premio  \n",
       "0             <101                   00  2012.730000  \n",
       "1             <101                   00   281.787153  \n",
       "2             <101                   00   374.269047  \n",
       "3             <101                   00   426.000127  \n",
       "4             <101                   00   369.890000  \n",
       "\n",
       "[5 rows x 138 columns]"
      ]
     },
     "execution_count": 30,
     "metadata": {},
     "output_type": "execute_result"
    }
   ],
   "source": [
    "df_lote = categorizar(df_lote_escorar)\n",
    "df_lote.head(5)"
   ]
  },
  {
   "cell_type": "code",
   "execution_count": 31,
   "id": "3a7f6f2c",
   "metadata": {},
   "outputs": [],
   "source": [
    "df_lote[\"prob_est\"]=model_glm.predict(df_lote)"
   ]
  },
  {
   "cell_type": "code",
   "execution_count": 209,
   "id": "5e5b4e41",
   "metadata": {},
   "outputs": [],
   "source": [
    "#df_lote.groupby([\"Amostra\"])[\"prob_est\" , \"Renewal Demand\"].describe().T"
   ]
  },
  {
   "cell_type": "markdown",
   "id": "a34b6c2a",
   "metadata": {},
   "source": [
    "## Otimização Teste "
   ]
  },
  {
   "cell_type": "code",
   "execution_count": 182,
   "id": "4101922e",
   "metadata": {},
   "outputs": [],
   "source": [
    "#print(df_lote['Amostra'].value_counts(ascending=False))"
   ]
  },
  {
   "cell_type": "code",
   "execution_count": 32,
   "id": "de7683ff",
   "metadata": {
    "scrolled": true
   },
   "outputs": [
    {
     "data": {
      "text/plain": [
       "(10925, 139)"
      ]
     },
     "execution_count": 32,
     "metadata": {},
     "output_type": "execute_result"
    }
   ],
   "source": [
    "#df_lote_otim=df_mod.copy()\n",
    "df_lote_otim_atu = df_lote.query('Amostra == \"Otimização Atu\"')\n",
    "df_lote_otim_atu.shape"
   ]
  },
  {
   "cell_type": "code",
   "execution_count": 33,
   "id": "b240f81c",
   "metadata": {},
   "outputs": [],
   "source": [
    "#df_lote_otim = df_lote_otim_atu"
   ]
  },
  {
   "cell_type": "code",
   "execution_count": 247,
   "id": "73b1dc1e",
   "metadata": {},
   "outputs": [
    {
     "data": {
      "text/plain": [
       "(5, 139)"
      ]
     },
     "execution_count": 247,
     "metadata": {},
     "output_type": "execute_result"
    }
   ],
   "source": [
    "df_lote_otim = df_lote_otim_atu.sample(n = 5) \n",
    "df_lote_otim.shape"
   ]
  },
  {
   "cell_type": "code",
   "execution_count": 51,
   "id": "60ba8cd7",
   "metadata": {},
   "outputs": [
    {
     "data": {
      "text/plain": [
       "0.7437110315116003"
      ]
     },
     "execution_count": 51,
     "metadata": {},
     "output_type": "execute_result"
    }
   ],
   "source": [
    "model_glm.params[0]"
   ]
  },
  {
   "cell_type": "code",
   "execution_count": 52,
   "id": "d22029eb",
   "metadata": {},
   "outputs": [
    {
     "data": {
      "text/plain": [
       "0.08379804132383697"
      ]
     },
     "execution_count": 52,
     "metadata": {},
     "output_type": "execute_result"
    }
   ],
   "source": [
    "model_glm.params[1]"
   ]
  },
  {
   "cell_type": "code",
   "execution_count": 53,
   "id": "0b3527ca",
   "metadata": {},
   "outputs": [
    {
     "data": {
      "text/plain": [
       "-0.0003355330181045059"
      ]
     },
     "execution_count": 53,
     "metadata": {},
     "output_type": "execute_result"
    }
   ],
   "source": [
    "model_glm.params[2]"
   ]
  },
  {
   "cell_type": "code",
   "execution_count": 248,
   "id": "ac28aa95",
   "metadata": {},
   "outputs": [],
   "source": [
    "df_lote[\"prob_est\"]=model_glm.predict(df_lote)"
   ]
  },
  {
   "cell_type": "code",
   "execution_count": 194,
   "id": "14524f15",
   "metadata": {},
   "outputs": [],
   "source": [
    "#df_lote_otim[\"Margem Inicial\"] = df_lote_otim[\"prob_est\"]*(df_lote_otim[\"Premio_oferecido_com_batente\"]-df_lote_otim[\"Act_cost\"])"
   ]
  },
  {
   "cell_type": "code",
   "execution_count": 249,
   "id": "0dcc1480",
   "metadata": {},
   "outputs": [
    {
     "data": {
      "text/html": [
       "<div>\n",
       "<style scoped>\n",
       "    .dataframe tbody tr th:only-of-type {\n",
       "        vertical-align: middle;\n",
       "    }\n",
       "\n",
       "    .dataframe tbody tr th {\n",
       "        vertical-align: top;\n",
       "    }\n",
       "\n",
       "    .dataframe thead th {\n",
       "        text-align: right;\n",
       "    }\n",
       "</style>\n",
       "<table border=\"1\" class=\"dataframe\">\n",
       "  <thead>\n",
       "    <tr style=\"text-align: right;\">\n",
       "      <th></th>\n",
       "      <th>Act_cost</th>\n",
       "      <th>premio</th>\n",
       "      <th>prob_est</th>\n",
       "      <th>MD_sexo_2bin</th>\n",
       "    </tr>\n",
       "  </thead>\n",
       "  <tbody>\n",
       "    <tr>\n",
       "      <th>3632</th>\n",
       "      <td>692.105159</td>\n",
       "      <td>1318.044484</td>\n",
       "      <td>0.574800</td>\n",
       "      <td>0</td>\n",
       "    </tr>\n",
       "    <tr>\n",
       "      <th>26998</th>\n",
       "      <td>5921.704558</td>\n",
       "      <td>6458.866998</td>\n",
       "      <td>0.194121</td>\n",
       "      <td>0</td>\n",
       "    </tr>\n",
       "    <tr>\n",
       "      <th>3431</th>\n",
       "      <td>736.208140</td>\n",
       "      <td>1402.034165</td>\n",
       "      <td>0.567899</td>\n",
       "      <td>0</td>\n",
       "    </tr>\n",
       "    <tr>\n",
       "      <th>3423</th>\n",
       "      <td>673.578481</td>\n",
       "      <td>1417.761485</td>\n",
       "      <td>0.566603</td>\n",
       "      <td>0</td>\n",
       "    </tr>\n",
       "    <tr>\n",
       "      <th>7532</th>\n",
       "      <td>850.037294</td>\n",
       "      <td>1789.175530</td>\n",
       "      <td>0.535785</td>\n",
       "      <td>0</td>\n",
       "    </tr>\n",
       "  </tbody>\n",
       "</table>\n",
       "</div>"
      ],
      "text/plain": [
       "          Act_cost       premio  prob_est  MD_sexo_2bin\n",
       "3632    692.105159  1318.044484  0.574800             0\n",
       "26998  5921.704558  6458.866998  0.194121             0\n",
       "3431    736.208140  1402.034165  0.567899             0\n",
       "3423    673.578481  1417.761485  0.566603             0\n",
       "7532    850.037294  1789.175530  0.535785             0"
      ]
     },
     "execution_count": 249,
     "metadata": {},
     "output_type": "execute_result"
    }
   ],
   "source": [
    "df_teste = df_lote_otim[['Act_cost','premio','prob_est','MD_sexo_2bin']]\n",
    "df_teste"
   ]
  },
  {
   "cell_type": "code",
   "execution_count": 350,
   "id": "473e1490",
   "metadata": {},
   "outputs": [],
   "source": [
    "def demanda1(X, P):\n",
    "    # X é uma variável indicadora (X=1/0)\n",
    "    #D = np.exp(0.7437110315116003 + 0.08379804132383697 * X - 0.0003355330181045059 * P) / (1 + np.exp(0.7437110315116003 + 0.08379804132383697 * X - 0.0003355330181045059 * P))\n",
    "    D = np.exp(0.64 + 0.4 * X - 0.005 * P) / (1 + np.exp(0.64 + 0.4 * X - 0.005 * P))\n",
    "    return D"
   ]
  },
  {
   "cell_type": "code",
   "execution_count": 351,
   "id": "d8ed8a74",
   "metadata": {},
   "outputs": [
    {
     "data": {
      "text/plain": [
       "0.4476920904256747"
      ]
     },
     "execution_count": 351,
     "metadata": {},
     "output_type": "execute_result"
    }
   ],
   "source": [
    "demanda1(1,250)\n"
   ]
  },
  {
   "cell_type": "code",
   "execution_count": 352,
   "id": "27fc2f95",
   "metadata": {},
   "outputs": [
    {
     "data": {
      "text/plain": [
       "0.2973393456552685"
      ]
     },
     "execution_count": 352,
     "metadata": {},
     "output_type": "execute_result"
    }
   ],
   "source": [
    "demanda1(0,300)"
   ]
  },
  {
   "cell_type": "code",
   "execution_count": 353,
   "id": "1cff3bae",
   "metadata": {},
   "outputs": [
    {
     "data": {
      "text/plain": [
       "0.37251571804047157"
      ]
     },
     "execution_count": 353,
     "metadata": {},
     "output_type": "execute_result"
    }
   ],
   "source": [
    "(demanda1(1,250)+demanda1(0,300))/2"
   ]
  },
  {
   "cell_type": "code",
   "execution_count": 356,
   "id": "e4259e7a",
   "metadata": {},
   "outputs": [
    {
     "data": {
      "text/plain": [
       "array([-2.59849124,  1.70894129, -0.12903317, -1.33290873])"
      ]
     },
     "execution_count": 356,
     "metadata": {},
     "output_type": "execute_result"
    }
   ],
   "source": []
  },
  {
   "cell_type": "code",
   "execution_count": 326,
   "id": "e0ee271f",
   "metadata": {},
   "outputs": [
    {
     "data": {
      "text/html": [
       "<div>\n",
       "<style scoped>\n",
       "    .dataframe tbody tr th:only-of-type {\n",
       "        vertical-align: middle;\n",
       "    }\n",
       "\n",
       "    .dataframe tbody tr th {\n",
       "        vertical-align: top;\n",
       "    }\n",
       "\n",
       "    .dataframe thead th {\n",
       "        text-align: right;\n",
       "    }\n",
       "</style>\n",
       "<table border=\"1\" class=\"dataframe\">\n",
       "  <thead>\n",
       "    <tr style=\"text-align: right;\">\n",
       "      <th></th>\n",
       "      <th>Cliente</th>\n",
       "      <th>X</th>\n",
       "      <th>P</th>\n",
       "      <th>C</th>\n",
       "      <th>D</th>\n",
       "      <th>margem</th>\n",
       "    </tr>\n",
       "  </thead>\n",
       "  <tbody>\n",
       "    <tr>\n",
       "      <th>0</th>\n",
       "      <td>1</td>\n",
       "      <td>1</td>\n",
       "      <td>250</td>\n",
       "      <td>150</td>\n",
       "      <td>0.447</td>\n",
       "      <td>44.70</td>\n",
       "    </tr>\n",
       "    <tr>\n",
       "      <th>1</th>\n",
       "      <td>2</td>\n",
       "      <td>1</td>\n",
       "      <td>250</td>\n",
       "      <td>150</td>\n",
       "      <td>0.447</td>\n",
       "      <td>44.70</td>\n",
       "    </tr>\n",
       "    <tr>\n",
       "      <th>2</th>\n",
       "      <td>3</td>\n",
       "      <td>1</td>\n",
       "      <td>250</td>\n",
       "      <td>150</td>\n",
       "      <td>0.447</td>\n",
       "      <td>44.70</td>\n",
       "    </tr>\n",
       "    <tr>\n",
       "      <th>3</th>\n",
       "      <td>4</td>\n",
       "      <td>0</td>\n",
       "      <td>300</td>\n",
       "      <td>150</td>\n",
       "      <td>0.297</td>\n",
       "      <td>44.55</td>\n",
       "    </tr>\n",
       "    <tr>\n",
       "      <th>4</th>\n",
       "      <td>5</td>\n",
       "      <td>0</td>\n",
       "      <td>300</td>\n",
       "      <td>150</td>\n",
       "      <td>0.297</td>\n",
       "      <td>44.55</td>\n",
       "    </tr>\n",
       "    <tr>\n",
       "      <th>5</th>\n",
       "      <td>6</td>\n",
       "      <td>0</td>\n",
       "      <td>300</td>\n",
       "      <td>150</td>\n",
       "      <td>0.297</td>\n",
       "      <td>44.55</td>\n",
       "    </tr>\n",
       "  </tbody>\n",
       "</table>\n",
       "</div>"
      ],
      "text/plain": [
       "   Cliente  X    P    C      D  margem\n",
       "0        1  1  250  150  0.447   44.70\n",
       "1        2  1  250  150  0.447   44.70\n",
       "2        3  1  250  150  0.447   44.70\n",
       "3        4  0  300  150  0.297   44.55\n",
       "4        5  0  300  150  0.297   44.55\n",
       "5        6  0  300  150  0.297   44.55"
      ]
     },
     "execution_count": 326,
     "metadata": {},
     "output_type": "execute_result"
    }
   ],
   "source": [
    "# Criação do DataFrame\n",
    "df = pd.DataFrame({\n",
    "    'Cliente': [1, 2, 3, 4, 5,6],\n",
    "    'X': [1, 1, 1, 0, 0,0],\n",
    "    'P': [250, 250, 250, 300, 300,300],\n",
    "    'C': [150, 150, 150, 150, 150,150],\n",
    "    'D': [0.447, 0.447, 0.447, 0.297, 0.297,0.297]\n",
    "})\n",
    "\n",
    "\n",
    "df['margem']=df['D']*(df['P'] - df['C'])\n",
    "df"
   ]
  },
  {
   "cell_type": "code",
   "execution_count": 295,
   "id": "797dc51f",
   "metadata": {},
   "outputs": [],
   "source": [
    "# Calcular a média ponderada\n",
    "#media_ponderada = (df['Notas'] * df['Pesos']).sum() / df['Pesos'].sum()\n",
    "\n",
    "# Exibir o resultado\n",
    "#print(\"Média Ponderada:\", media_ponderada)"
   ]
  },
  {
   "cell_type": "code",
   "execution_count": 165,
   "id": "769a8288",
   "metadata": {},
   "outputs": [],
   "source": [
    "#df_teste[\"D\"]=demanda1(df_teste['MD_sexo_2bin'],df_teste['premio'])\n",
    "#df_teste"
   ]
  },
  {
   "cell_type": "code",
   "execution_count": 296,
   "id": "5acceae7",
   "metadata": {},
   "outputs": [],
   "source": [
    "#df[\"D\"]=demanda1(df['X'],df['P'])\n",
    "#df=df[0:1,3:4]\n",
    "#df"
   ]
  },
  {
   "cell_type": "code",
   "execution_count": 327,
   "id": "f82acf46",
   "metadata": {},
   "outputs": [
    {
     "data": {
      "text/html": [
       "<div>\n",
       "<style scoped>\n",
       "    .dataframe tbody tr th:only-of-type {\n",
       "        vertical-align: middle;\n",
       "    }\n",
       "\n",
       "    .dataframe tbody tr th {\n",
       "        vertical-align: top;\n",
       "    }\n",
       "\n",
       "    .dataframe thead th {\n",
       "        text-align: right;\n",
       "    }\n",
       "</style>\n",
       "<table border=\"1\" class=\"dataframe\">\n",
       "  <thead>\n",
       "    <tr style=\"text-align: right;\">\n",
       "      <th></th>\n",
       "      <th>Cliente</th>\n",
       "      <th>X</th>\n",
       "      <th>P</th>\n",
       "      <th>C</th>\n",
       "      <th>D</th>\n",
       "      <th>margem</th>\n",
       "    </tr>\n",
       "  </thead>\n",
       "  <tbody>\n",
       "    <tr>\n",
       "      <th>0</th>\n",
       "      <td>1</td>\n",
       "      <td>1</td>\n",
       "      <td>250</td>\n",
       "      <td>150</td>\n",
       "      <td>0.447</td>\n",
       "      <td>44.70</td>\n",
       "    </tr>\n",
       "    <tr>\n",
       "      <th>4</th>\n",
       "      <td>5</td>\n",
       "      <td>0</td>\n",
       "      <td>300</td>\n",
       "      <td>150</td>\n",
       "      <td>0.297</td>\n",
       "      <td>44.55</td>\n",
       "    </tr>\n",
       "  </tbody>\n",
       "</table>\n",
       "</div>"
      ],
      "text/plain": [
       "   Cliente  X    P    C      D  margem\n",
       "0        1  1  250  150  0.447   44.70\n",
       "4        5  0  300  150  0.297   44.55"
      ]
     },
     "execution_count": 327,
     "metadata": {},
     "output_type": "execute_result"
    }
   ],
   "source": [
    "df = df.iloc[[0,4], :]\n",
    "df"
   ]
  },
  {
   "cell_type": "code",
   "execution_count": 343,
   "id": "94cfc6f5",
   "metadata": {},
   "outputs": [],
   "source": [
    "# Exemplo de uso\n",
    "#custo_medio=np.mean(df['C'])\n",
    "custo_medio=np.array(df['C'])\n",
    "target_demand = np.mean(df['D'])\n",
    "indicadora = np.array(df['X'])  # Exemplo de variáveis indicadoras para dois clientes\n",
    "precos_iniciais = np.array(df['P']*1.7) # Exemplo de preços iniciais para dois clientes"
   ]
  },
  {
   "cell_type": "code",
   "execution_count": 344,
   "id": "f58d3ad1",
   "metadata": {},
   "outputs": [
    {
     "data": {
      "text/plain": [
       "(array([150, 150], dtype=int64),\n",
       " 0.372,\n",
       " array([1, 0], dtype=int64),\n",
       " array([425., 510.]))"
      ]
     },
     "execution_count": 344,
     "metadata": {},
     "output_type": "execute_result"
    }
   ],
   "source": [
    "custo_medio,target_demand,indicadora,precos_iniciais"
   ]
  },
  {
   "cell_type": "code",
   "execution_count": 256,
   "id": "9059808b",
   "metadata": {},
   "outputs": [],
   "source": [
    "# Exemplo de uso\n",
    "custo_medio=np.array(df_teste['Act_cost'])\n",
    "#custo_medio=np.mean(df_teste['Act_cost'])\n",
    "target_demand = np.mean(df_teste['prob_est'])\n",
    "indicadora = np.array(df_teste['MD_sexo_2bin'])  # Exemplo de variáveis indicadoras para dois clientes\n",
    "precos_iniciais = np.array(df_teste['premio']*1) # Exemplo de preços iniciais para dois clientes"
   ]
  },
  {
   "cell_type": "code",
   "execution_count": 217,
   "id": "48128d17",
   "metadata": {},
   "outputs": [],
   "source": [
    "#custo_medio"
   ]
  },
  {
   "cell_type": "code",
   "execution_count": 362,
   "id": "903898e6",
   "metadata": {},
   "outputs": [],
   "source": [
    "indicadora = [1, 0]  # Exemplo de variáveis indicadoras para dois clientes\n",
    "precos_iniciais = [400, 500]  # Exemplo de preços iniciais para dois clientes\n",
    "target_demand=0.7450314360809431/2\n",
    "#target_demand=0.6666155296440016/2\n",
    "custo_medio = 150"
   ]
  },
  {
   "cell_type": "code",
   "execution_count": null,
   "id": "0718d128",
   "metadata": {},
   "outputs": [],
   "source": []
  },
  {
   "cell_type": "code",
   "execution_count": 363,
   "id": "87551c97",
   "metadata": {},
   "outputs": [
    {
     "name": "stdout",
     "output_type": "stream",
     "text": [
      "Preços Otimizados: [419.47373108 500.        ]\n",
      "Multiplicador de Lagrange (λ): 0.0\n",
      "CPU times: total: 0 ns\n",
      "Wall time: 998 µs\n"
     ]
    }
   ],
   "source": [
    "%%time\n",
    "precos_otimizados, lambida = otimizar_precos(indicadora, precos_iniciais)\n",
    "print(\"Preços Otimizados:\", precos_otimizados)\n",
    "print(\"Multiplicador de Lagrange (λ):\", lambida)\n"
   ]
  },
  {
   "cell_type": "code",
   "execution_count": 213,
   "id": "88ac12b0",
   "metadata": {},
   "outputs": [
    {
     "data": {
      "text/html": [
       "<div>\n",
       "<style scoped>\n",
       "    .dataframe tbody tr th:only-of-type {\n",
       "        vertical-align: middle;\n",
       "    }\n",
       "\n",
       "    .dataframe tbody tr th {\n",
       "        vertical-align: top;\n",
       "    }\n",
       "\n",
       "    .dataframe thead th {\n",
       "        text-align: right;\n",
       "    }\n",
       "</style>\n",
       "<table border=\"1\" class=\"dataframe\">\n",
       "  <thead>\n",
       "    <tr style=\"text-align: right;\">\n",
       "      <th></th>\n",
       "      <th>Act_cost</th>\n",
       "      <th>premio</th>\n",
       "      <th>prob_est</th>\n",
       "      <th>MD_sexo_2bin</th>\n",
       "      <th>Preços Otimizados</th>\n",
       "      <th>D_otimizada</th>\n",
       "    </tr>\n",
       "  </thead>\n",
       "  <tbody>\n",
       "    <tr>\n",
       "      <th>24112</th>\n",
       "      <td>3387.573658</td>\n",
       "      <td>5367.210000</td>\n",
       "      <td>0.274210</td>\n",
       "      <td>1</td>\n",
       "      <td>37903.931000</td>\n",
       "      <td>0.000007</td>\n",
       "    </tr>\n",
       "    <tr>\n",
       "      <th>14219</th>\n",
       "      <td>1291.506246</td>\n",
       "      <td>2459.543412</td>\n",
       "      <td>0.479625</td>\n",
       "      <td>0</td>\n",
       "      <td>2705.497754</td>\n",
       "      <td>0.459074</td>\n",
       "    </tr>\n",
       "    <tr>\n",
       "      <th>23099</th>\n",
       "      <td>3125.039560</td>\n",
       "      <td>4999.263414</td>\n",
       "      <td>0.299452</td>\n",
       "      <td>1</td>\n",
       "      <td>5499.189755</td>\n",
       "      <td>0.265485</td>\n",
       "    </tr>\n",
       "    <tr>\n",
       "      <th>18620</th>\n",
       "      <td>1790.983676</td>\n",
       "      <td>3131.865000</td>\n",
       "      <td>0.423815</td>\n",
       "      <td>0</td>\n",
       "      <td>3445.051500</td>\n",
       "      <td>0.398381</td>\n",
       "    </tr>\n",
       "    <tr>\n",
       "      <th>19691</th>\n",
       "      <td>1703.737066</td>\n",
       "      <td>2725.543218</td>\n",
       "      <td>0.478264</td>\n",
       "      <td>1</td>\n",
       "      <td>2998.097540</td>\n",
       "      <td>0.455505</td>\n",
       "    </tr>\n",
       "    <tr>\n",
       "      <th>...</th>\n",
       "      <td>...</td>\n",
       "      <td>...</td>\n",
       "      <td>...</td>\n",
       "      <td>...</td>\n",
       "      <td>...</td>\n",
       "      <td>...</td>\n",
       "    </tr>\n",
       "    <tr>\n",
       "      <th>14955</th>\n",
       "      <td>1393.678276</td>\n",
       "      <td>2556.738719</td>\n",
       "      <td>0.471491</td>\n",
       "      <td>0</td>\n",
       "      <td>2812.412591</td>\n",
       "      <td>0.450179</td>\n",
       "    </tr>\n",
       "    <tr>\n",
       "      <th>7395</th>\n",
       "      <td>1074.892216</td>\n",
       "      <td>1719.552417</td>\n",
       "      <td>0.541590</td>\n",
       "      <td>0</td>\n",
       "      <td>1891.507659</td>\n",
       "      <td>0.527235</td>\n",
       "    </tr>\n",
       "    <tr>\n",
       "      <th>4295</th>\n",
       "      <td>840.975185</td>\n",
       "      <td>1389.811908</td>\n",
       "      <td>0.568905</td>\n",
       "      <td>0</td>\n",
       "      <td>1528.793099</td>\n",
       "      <td>0.557433</td>\n",
       "    </tr>\n",
       "    <tr>\n",
       "      <th>13414</th>\n",
       "      <td>1762.627745</td>\n",
       "      <td>2819.753232</td>\n",
       "      <td>0.470382</td>\n",
       "      <td>1</td>\n",
       "      <td>3101.728555</td>\n",
       "      <td>0.446895</td>\n",
       "    </tr>\n",
       "    <tr>\n",
       "      <th>12466</th>\n",
       "      <td>1124.162058</td>\n",
       "      <td>1798.371554</td>\n",
       "      <td>0.555791</td>\n",
       "      <td>1</td>\n",
       "      <td>1978.208709</td>\n",
       "      <td>0.540847</td>\n",
       "    </tr>\n",
       "  </tbody>\n",
       "</table>\n",
       "<p>100 rows × 6 columns</p>\n",
       "</div>"
      ],
      "text/plain": [
       "          Act_cost       premio  prob_est  MD_sexo_2bin  Preços Otimizados  \\\n",
       "24112  3387.573658  5367.210000  0.274210             1       37903.931000   \n",
       "14219  1291.506246  2459.543412  0.479625             0        2705.497754   \n",
       "23099  3125.039560  4999.263414  0.299452             1        5499.189755   \n",
       "18620  1790.983676  3131.865000  0.423815             0        3445.051500   \n",
       "19691  1703.737066  2725.543218  0.478264             1        2998.097540   \n",
       "...            ...          ...       ...           ...                ...   \n",
       "14955  1393.678276  2556.738719  0.471491             0        2812.412591   \n",
       "7395   1074.892216  1719.552417  0.541590             0        1891.507659   \n",
       "4295    840.975185  1389.811908  0.568905             0        1528.793099   \n",
       "13414  1762.627745  2819.753232  0.470382             1        3101.728555   \n",
       "12466  1124.162058  1798.371554  0.555791             1        1978.208709   \n",
       "\n",
       "       D_otimizada  \n",
       "24112     0.000007  \n",
       "14219     0.459074  \n",
       "23099     0.265485  \n",
       "18620     0.398381  \n",
       "19691     0.455505  \n",
       "...            ...  \n",
       "14955     0.450179  \n",
       "7395      0.527235  \n",
       "4295      0.557433  \n",
       "13414     0.446895  \n",
       "12466     0.540847  \n",
       "\n",
       "[100 rows x 6 columns]"
      ]
     },
     "execution_count": 213,
     "metadata": {},
     "output_type": "execute_result"
    }
   ],
   "source": [
    "df_teste['Preços Otimizados']=precos_otimizados\n",
    "df_teste[\"D_otimizada\"]=demanda1(df_teste['MD_sexo_2bin'],df_teste['Preços Otimizados'])\n",
    "df_teste"
   ]
  },
  {
   "cell_type": "code",
   "execution_count": 337,
   "id": "f5723e0d",
   "metadata": {},
   "outputs": [],
   "source": [
    "#df_teste[['D','D_otimizada']].describe()"
   ]
  },
  {
   "cell_type": "code",
   "execution_count": 365,
   "id": "574942ee",
   "metadata": {},
   "outputs": [],
   "source": [
    "import numpy as np\n",
    "import sympy as sp\n",
    "from scipy.optimize import fsolve\n",
    "\n",
    "# Define a função de demanda\n",
    "def demanda(X, P):\n",
    "    # X é uma variável indicadora (X=1/0)\n",
    "    #D = np.exp(0.7437110315116003 + 0.08379804132383697 * X - 0.0003355330181045059 * P) / (1 + np.exp(0.7437110315116003 + 0.08379804132383697 * X - 0.0003355330181045059 * P))\n",
    "    D = np.exp(0.64 + 0.4 * X - 0.005 * P) / (1 + np.exp(0.64 + 0.4 * X - 0.005 * P))\n",
    "    return D\n",
    "\n",
    "# Define a função de Lagrange\n",
    "def func(X, indicadora):\n",
    "    P = X[:-1]  # Extraindo o vetor de preços [p1, p2, ..., pn]\n",
    "    L = X[-1]   # Extraindo o multiplicador de Lagrange\n",
    "    #L =  np.zeros(len(P))   # Extraindo o multiplicador de Lagrange\n",
    "    n = len(P)\n",
    "    \n",
    "    # Função objetivo e a soma das demandas\n",
    "    objetivo = 0\n",
    "    soma_demandas = 0\n",
    "    \n",
    "    for i in range(n):\n",
    "        D_i = demanda(indicadora[i], P[i])\n",
    "        objetivo += D_i * (P[i] - custo_medio)\n",
    "        soma_demandas += D_i\n",
    "    \n",
    "    # Definindo a função de Lagrange com a restrição\n",
    "    return objetivo - L * (soma_demandas - target_demand*n)\n",
    "\n",
    "# Aplicando a diferenciação numérica\n",
    "def dfunc(X, indicadora):\n",
    "    dLambda = np.zeros(len(X))\n",
    "    h = 1e-3  # Passo usado na diferença finita\n",
    "    for i in range(len(X)):\n",
    "        dX = np.zeros(len(X))\n",
    "        dX[i] = h\n",
    "        dLambda[i] = (func(X + dX, indicadora) - func(X - dX, indicadora)) / (2 * h)\n",
    "        return dLambda\n",
    "\n",
    "  \n",
    "    \n",
    "    \n",
    "# Definindo a função para otimizar os preços\n",
    "def otimizar_precos(indicadora, precos_iniciais):\n",
    "    # Iniciando o vetor X com os preços iniciais e um valor inicial para o multiplicador de Lagrange\n",
    "    X_inicial = np.append(precos_iniciais, 0)\n",
    "    \n",
    "# Calculando os preços otimizados\n",
    "   X_otimizado = fsolve(dfunc, \n",
    "  #                       X_inicial, \n",
    "   #                      args=(indicadora))\n",
    "    \n",
    "    # Retornando o vetor de preços otimizados e o multiplicador de Lagrange\n",
    "    #precos_otimizados = X_otimizado[:-1]\n",
    "    #lambda_ = X_otimizado[-1]\n",
    "    \n",
    "    #return precos_otimizados, lambda_\n",
    "\n"
   ]
  },
  {
   "cell_type": "code",
   "execution_count": 366,
   "id": "59b8f6bc",
   "metadata": {},
   "outputs": [
    {
     "name": "stdout",
     "output_type": "stream",
     "text": [
      "[419.47373108 500.           0.        ]\n"
     ]
    }
   ],
   "source": [
    "print(X1) "
   ]
  },
  {
   "cell_type": "code",
   "execution_count": 107,
   "id": "357c4509",
   "metadata": {},
   "outputs": [],
   "source": [
    "# Definindo a nova função de demanda\n",
    "def demanda(P, X):\n",
    "    return np.exp(0.7437 + 0.0837 * X - 0.000335 * P) / (1 + np.exp(0.7437 + 0.0837 * X - 0.000335 * P))\n"
   ]
  },
  {
   "cell_type": "code",
   "execution_count": null,
   "id": "e48c242c",
   "metadata": {},
   "outputs": [],
   "source": []
  },
  {
   "cell_type": "code",
   "execution_count": null,
   "id": "f718f853",
   "metadata": {},
   "outputs": [],
   "source": []
  },
  {
   "cell_type": "code",
   "execution_count": 367,
   "id": "0424eb41",
   "metadata": {},
   "outputs": [
    {
     "data": {
      "text/plain": [
       "(array([-141748.54257849,     278.27798705]), -3151.921444871386)"
      ]
     },
     "execution_count": 367,
     "metadata": {},
     "output_type": "execute_result"
    }
   ],
   "source": [
    "import pandas as pd\n",
    "import numpy as np\n",
    "from scipy.optimize import minimize\n",
    "\n",
    "# Criação do DataFrame\n",
    "#df = pd.DataFrame({\n",
    "#    'Cliente': [1, 2, 3, 4, 5],\n",
    "#    'X': [1, 1, 1, 0, 0],\n",
    "#    'P': [1870, 6160, 4290, 2521, 2361],\n",
    "#    'C': [1079, 3850, 2467, 1576, 1358],\n",
    "#    'D': [0.549, 0.224, 0.351, 0.474, 0.487]\n",
    "#})\n",
    "\n",
    "df = pd.DataFrame({\n",
    "    'Cliente': [1, 2],\n",
    "    'X': [1, 0],\n",
    "    'P': [250, 300],\n",
    "    'C': [150, 150],\n",
    "    'D': [0.474, 0.297]\n",
    "})\n",
    "\n",
    "# Definindo a nova função de demanda\n",
    "def demanda(P, X):\n",
    "    #return np.exp(0.7437 + 0.0837 * X - 0.000335 * P) / (1 + np.exp(0.7437 + 0.0837 * X - 0.000335 * P))\n",
    "    return np.exp(0.64+0.4*X - 0.005*P)/((1+np.exp(0.64+0.4*X - 0.005*P)))\n",
    "\n",
    "# Função de Lagrange com as restrições\n",
    "def func(X, df):\n",
    "    P = X[:-1]  # Extraindo o vetor de preços otimizados [p1, p2, ..., pn]\n",
    "    L = X[-1]   # Extraindo o multiplicador de Lagrange\n",
    "    n = len(P)\n",
    "    \n",
    "    margem_total = 0\n",
    "    soma_demandas = 0\n",
    "    \n",
    "    for i in range(n):\n",
    "        D_i = demanda(P[i], df['X'][i])\n",
    "        margem_total += D_i * (P[i] - df['C'][i])\n",
    "        soma_demandas += D_i\n",
    "    \n",
    "    return margem_total - L * (soma_demandas - sum(df['D']))\n",
    "\n",
    "# Restrições para os preços otimizados\n",
    "def constraint(X, df):\n",
    "    P = X[:-1]\n",
    "    L = X[-1]\n",
    "    precos_iniciais = df['P'].values\n",
    "    n = len(P)\n",
    "    \n",
    "    constraints = []\n",
    "    \n",
    "    # Restrições para garantir que os preços fiquem entre 90% e 110% dos preços iniciais\n",
    "    for i in range(n):\n",
    "        constraints.append({'type': 'ineq', 'fun': lambda X: X[i] - 0.9 * precos_iniciais[i]})\n",
    "        constraints.append({'type': 'ineq', 'fun': lambda X: 1.1 * precos_iniciais[i] - X[i]})\n",
    "    \n",
    "    return constraints\n",
    "\n",
    "# Função para otimizar os preços\n",
    "def otimizar_precos(df):\n",
    "    precos_iniciais = df['P'].values\n",
    "    X_inicial = np.append(precos_iniciais, 0)  # Adicionando um valor inicial para o multiplicador de Lagrange\n",
    "    \n",
    "    # Executando a otimização com restrições\n",
    "    resultado = minimize(func, X_inicial, args=(df,), method='SLSQP', constraints=constraint(X_inicial, df))\n",
    "    \n",
    "    precos_otimizados = resultado.x[:-1]\n",
    "    lambida = resultado.x[-1]\n",
    "    \n",
    "    return precos_otimizados, lambida\n",
    "\n",
    "# Executar otimização para os preços\n",
    "precos_otimizados, lambida = otimizar_precos(df)\n",
    "precos_otimizados, lambida\n"
   ]
  },
  {
   "cell_type": "code",
   "execution_count": 46,
   "id": "32477e57",
   "metadata": {},
   "outputs": [
    {
     "data": {
      "text/plain": [
       "5501     1\n",
       "25342    1\n",
       "22067    1\n",
       "13579    0\n",
       "17593    0\n",
       "Name: MD_sexo_2bin, dtype: int32"
      ]
     },
     "execution_count": 46,
     "metadata": {},
     "output_type": "execute_result"
    }
   ],
   "source": [
    " df_teste['MD_sexo_2bin']"
   ]
  },
  {
   "cell_type": "code",
   "execution_count": null,
   "id": "8ed677df",
   "metadata": {},
   "outputs": [],
   "source": []
  },
  {
   "cell_type": "code",
   "execution_count": null,
   "id": "269f4adb",
   "metadata": {},
   "outputs": [],
   "source": []
  },
  {
   "cell_type": "code",
   "execution_count": null,
   "id": "bddd6bad",
   "metadata": {},
   "outputs": [],
   "source": []
  },
  {
   "cell_type": "code",
   "execution_count": null,
   "id": "e398ba57",
   "metadata": {},
   "outputs": [],
   "source": []
  },
  {
   "cell_type": "markdown",
   "id": "bc7f4798",
   "metadata": {},
   "source": [
    "#########################################"
   ]
  },
  {
   "cell_type": "code",
   "execution_count": 188,
   "id": "f4ed994e",
   "metadata": {},
   "outputs": [],
   "source": [
    "# premio otimizados\n",
    "premio_otim = result.x\n",
    "df_lote_otim[\"premio\"]=result.x\n",
    "df_lote_otim[\"demanda otimizada\"] = model_glm.predict(df_lote_otim)\n",
    "df_lote_otim[\"Margem otimizada\"] = df_lote_otim[\"demanda otimizada\"]*(df_lote_otim[\"premio\"]-df_lote_otim[\"Act_cost\"])"
   ]
  },
  {
   "cell_type": "code",
   "execution_count": 189,
   "id": "89c0830a",
   "metadata": {},
   "outputs": [
    {
     "name": "stdout",
     "output_type": "stream",
     "text": [
      "2981.7841009168\n",
      "2981.860280769805\n",
      "426.8343062015792\n",
      "426.8754092048532\n",
      "0.4698531952629786\n",
      "0.46983657231791\n"
     ]
    }
   ],
   "source": [
    "print(np.mean(df_lote_otim[\"Premio_oferecido_com_batente\"]))\n",
    "print(np.mean(df_lote_otim[\"premio\"]))\n",
    "print(np.mean(df_lote_otim[\"Margem Inicial\"]))\n",
    "print(np.mean(df_lote_otim[\"Margem otimizada\"]))\n",
    "print(np.mean(df_lote_otim[\"prob_est\"]))\n",
    "print(np.mean(df_lote_otim[\"demanda otimizada\"]))\n"
   ]
  },
  {
   "cell_type": "code",
   "execution_count": 190,
   "id": "fb3191b0",
   "metadata": {},
   "outputs": [
    {
     "data": {
      "text/html": [
       "<div>\n",
       "<style scoped>\n",
       "    .dataframe tbody tr th:only-of-type {\n",
       "        vertical-align: middle;\n",
       "    }\n",
       "\n",
       "    .dataframe tbody tr th {\n",
       "        vertical-align: top;\n",
       "    }\n",
       "\n",
       "    .dataframe thead th {\n",
       "        text-align: right;\n",
       "    }\n",
       "</style>\n",
       "<table border=\"1\" class=\"dataframe\">\n",
       "  <thead>\n",
       "    <tr style=\"text-align: right;\">\n",
       "      <th></th>\n",
       "      <th>chave</th>\n",
       "      <th>Act_cost</th>\n",
       "      <th>Premio ofertado com batente</th>\n",
       "      <th>Optimized Prices</th>\n",
       "      <th>lb_bound</th>\n",
       "      <th>up_bound</th>\n",
       "      <th>prob_est</th>\n",
       "      <th>renewal demand</th>\n",
       "      <th>variação</th>\n",
       "    </tr>\n",
       "  </thead>\n",
       "  <tbody>\n",
       "    <tr>\n",
       "      <th>7261</th>\n",
       "      <td>56509736733100001</td>\n",
       "      <td>899.821476</td>\n",
       "      <td>1713.619265</td>\n",
       "      <td>1713.697119</td>\n",
       "      <td>1542.257339</td>\n",
       "      <td>1884.981192</td>\n",
       "      <td>0.559198</td>\n",
       "      <td>0.559184</td>\n",
       "      <td>1.000045</td>\n",
       "    </tr>\n",
       "    <tr>\n",
       "      <th>3416</th>\n",
       "      <td>605401733543100001</td>\n",
       "      <td>660.122232</td>\n",
       "      <td>1257.136226</td>\n",
       "      <td>1257.307940</td>\n",
       "      <td>1131.422603</td>\n",
       "      <td>1382.849849</td>\n",
       "      <td>0.652000</td>\n",
       "      <td>0.651961</td>\n",
       "      <td>1.000137</td>\n",
       "    </tr>\n",
       "    <tr>\n",
       "      <th>6635</th>\n",
       "      <td>168100190953100001</td>\n",
       "      <td>1018.497275</td>\n",
       "      <td>1802.331048</td>\n",
       "      <td>1802.415450</td>\n",
       "      <td>1622.097943</td>\n",
       "      <td>1982.564153</td>\n",
       "      <td>0.565637</td>\n",
       "      <td>0.565623</td>\n",
       "      <td>1.000047</td>\n",
       "    </tr>\n",
       "    <tr>\n",
       "      <th>25028</th>\n",
       "      <td>135101190983100001</td>\n",
       "      <td>3631.597126</td>\n",
       "      <td>5809.625862</td>\n",
       "      <td>5809.620041</td>\n",
       "      <td>5228.663276</td>\n",
       "      <td>6390.588448</td>\n",
       "      <td>0.214343</td>\n",
       "      <td>0.214344</td>\n",
       "      <td>0.999999</td>\n",
       "    </tr>\n",
       "    <tr>\n",
       "      <th>25387</th>\n",
       "      <td>347200137683100001</td>\n",
       "      <td>2754.524955</td>\n",
       "      <td>3735.075000</td>\n",
       "      <td>3735.090280</td>\n",
       "      <td>3361.567500</td>\n",
       "      <td>4108.582500</td>\n",
       "      <td>0.342273</td>\n",
       "      <td>0.342272</td>\n",
       "      <td>1.000004</td>\n",
       "    </tr>\n",
       "  </tbody>\n",
       "</table>\n",
       "</div>"
      ],
      "text/plain": [
       "                    chave     Act_cost  Premio ofertado com batente  \\\n",
       "7261    56509736733100001   899.821476                  1713.619265   \n",
       "3416   605401733543100001   660.122232                  1257.136226   \n",
       "6635   168100190953100001  1018.497275                  1802.331048   \n",
       "25028  135101190983100001  3631.597126                  5809.625862   \n",
       "25387  347200137683100001  2754.524955                  3735.075000   \n",
       "\n",
       "       Optimized Prices     lb_bound     up_bound  prob_est  renewal demand  \\\n",
       "7261        1713.697119  1542.257339  1884.981192  0.559198        0.559184   \n",
       "3416        1257.307940  1131.422603  1382.849849  0.652000        0.651961   \n",
       "6635        1802.415450  1622.097943  1982.564153  0.565637        0.565623   \n",
       "25028       5809.620041  5228.663276  6390.588448  0.214343        0.214344   \n",
       "25387       3735.090280  3361.567500  4108.582500  0.342273        0.342272   \n",
       "\n",
       "       variação  \n",
       "7261   1.000045  \n",
       "3416   1.000137  \n",
       "6635   1.000047  \n",
       "25028  0.999999  \n",
       "25387  1.000004  "
      ]
     },
     "execution_count": 190,
     "metadata": {},
     "output_type": "execute_result"
    }
   ],
   "source": [
    "prices_df = pd.DataFrame({\n",
    "    'chave': df_lote_otim[\"chave\"],\n",
    "    'Act_cost':  df_lote_otim[\"Act_cost\"],\n",
    "    'Premio ofertado com batente':  df_lote_otim[\"Premio_oferecido_com_batente\"],\n",
    "    'Optimized Prices': df_lote_otim[\"premio\"],\n",
    "    'lb_bound' : [b[0] for b in bounds],\n",
    "    'up_bound' : [b[1] for b in bounds],\n",
    "    'prob_est':         df_lote_otim[\"prob_est\"],\n",
    "    'renewal demand':df_lote_otim[\"demanda otimizada\"],\n",
    "    'variação':df_lote_otim[\"premio\"]/df_lote_otim[\"Premio_oferecido_com_batente\"]\n",
    "})\n",
    "prices_df.head(5)"
   ]
  },
  {
   "cell_type": "markdown",
   "id": "ca145ea2",
   "metadata": {},
   "source": [
    "### Aplicando processo de Lagrange"
   ]
  },
  {
   "cell_type": "code",
   "execution_count": 191,
   "id": "1b7bdec2",
   "metadata": {},
   "outputs": [
    {
     "data": {
      "text/html": [
       "<div>\n",
       "<style scoped>\n",
       "    .dataframe tbody tr th:only-of-type {\n",
       "        vertical-align: middle;\n",
       "    }\n",
       "\n",
       "    .dataframe tbody tr th {\n",
       "        vertical-align: top;\n",
       "    }\n",
       "\n",
       "    .dataframe thead th {\n",
       "        text-align: right;\n",
       "    }\n",
       "</style>\n",
       "<table border=\"1\" class=\"dataframe\">\n",
       "  <thead>\n",
       "    <tr style=\"text-align: right;\">\n",
       "      <th></th>\n",
       "      <th>premio</th>\n",
       "      <th>MD_sexo_2bin</th>\n",
       "      <th>prob_est</th>\n",
       "    </tr>\n",
       "  </thead>\n",
       "  <tbody>\n",
       "    <tr>\n",
       "      <th>7261</th>\n",
       "      <td>1713.697119</td>\n",
       "      <td>0</td>\n",
       "      <td>0.559198</td>\n",
       "    </tr>\n",
       "    <tr>\n",
       "      <th>3416</th>\n",
       "      <td>1257.307940</td>\n",
       "      <td>0</td>\n",
       "      <td>0.652000</td>\n",
       "    </tr>\n",
       "    <tr>\n",
       "      <th>6635</th>\n",
       "      <td>1802.415450</td>\n",
       "      <td>1</td>\n",
       "      <td>0.565637</td>\n",
       "    </tr>\n",
       "    <tr>\n",
       "      <th>25028</th>\n",
       "      <td>5809.620041</td>\n",
       "      <td>0</td>\n",
       "      <td>0.214343</td>\n",
       "    </tr>\n",
       "    <tr>\n",
       "      <th>25387</th>\n",
       "      <td>3735.090280</td>\n",
       "      <td>1</td>\n",
       "      <td>0.342273</td>\n",
       "    </tr>\n",
       "  </tbody>\n",
       "</table>\n",
       "</div>"
      ],
      "text/plain": [
       "            premio  MD_sexo_2bin  prob_est\n",
       "7261   1713.697119             0  0.559198\n",
       "3416   1257.307940             0  0.652000\n",
       "6635   1802.415450             1  0.565637\n",
       "25028  5809.620041             0  0.214343\n",
       "25387  3735.090280             1  0.342273"
      ]
     },
     "execution_count": 191,
     "metadata": {},
     "output_type": "execute_result"
    }
   ],
   "source": [
    "df = df_lote_otim[[\"premio\", \"MD_sexo_2bin\",\"prob_est\"]]\n",
    "df.head(5)"
   ]
  },
  {
   "cell_type": "code",
   "execution_count": 206,
   "id": "50c69169",
   "metadata": {},
   "outputs": [],
   "source": [
    "# Definindo a função demanda\n",
    "def demand(x,price,modelo):\n",
    "    a =model_glm.params[0]\n",
    "    b1=model_glm.params[1]\n",
    "    b2=model_glm.params[2]\n",
    "    return np.exp(a + b1*x + b2*np.log(price))/(1 + np.exp(a + b1*x + b2*np.log(price)))\n",
    "    #return 1/(1+np.exp(-1*(a + b1*x + b2*np.log(price))))"
   ]
  },
  {
   "cell_type": "code",
   "execution_count": 207,
   "id": "873fdb37",
   "metadata": {},
   "outputs": [
    {
     "name": "stdout",
     "output_type": "stream",
     "text": [
      "Demanda Base Case: 0.56\n"
     ]
    }
   ],
   "source": [
    "demanda =demand(0,1713.697119,model_glm)\n",
    "print('Demanda Base Case: %s' % round(demanda,2))"
   ]
  },
  {
   "cell_type": "code",
   "execution_count": null,
   "id": "c5c915b3",
   "metadata": {},
   "outputs": [],
   "source": []
  },
  {
   "cell_type": "code",
   "execution_count": null,
   "id": "2678b4d2",
   "metadata": {},
   "outputs": [],
   "source": []
  },
  {
   "cell_type": "code",
   "execution_count": null,
   "id": "403dc82d",
   "metadata": {},
   "outputs": [],
   "source": []
  },
  {
   "cell_type": "code",
   "execution_count": null,
   "id": "ea857dce",
   "metadata": {},
   "outputs": [],
   "source": []
  },
  {
   "cell_type": "code",
   "execution_count": null,
   "id": "97b9f77e",
   "metadata": {},
   "outputs": [],
   "source": []
  },
  {
   "cell_type": "code",
   "execution_count": null,
   "id": "61b989c5",
   "metadata": {},
   "outputs": [],
   "source": []
  },
  {
   "cell_type": "code",
   "execution_count": null,
   "id": "830e1a6f",
   "metadata": {},
   "outputs": [],
   "source": []
  },
  {
   "cell_type": "code",
   "execution_count": null,
   "id": "619926c2",
   "metadata": {},
   "outputs": [],
   "source": []
  },
  {
   "cell_type": "markdown",
   "id": "11fa579c",
   "metadata": {},
   "source": [
    "### criando a função para o relatório"
   ]
  },
  {
   "cell_type": "code",
   "execution_count": null,
   "id": "e03fc056",
   "metadata": {},
   "outputs": [],
   "source": [
    "df_relatorio = df_lote_otim.copy()\n",
    "df_relatorio"
   ]
  },
  {
   "cell_type": "code",
   "execution_count": null,
   "id": "68cedf4a",
   "metadata": {},
   "outputs": [],
   "source": [
    "df_relatorio[\"per_com_pct\"] = df_relatorio['per_com']/100\n",
    "df_relatorio[\"premio_prob\"] = df_relatorio[\"demanda otimizada\"]*df_relatorio[\"premio\"]\n",
    "df_relatorio[\"Act_cost_prob\"] = df_relatorio[\"demanda otimizada\"]*df_relatorio[\"Act_cost\"]                                                                \n",
    "df_relatorio[\"comissao_valor\"] = df_relatorio[\"per_com_pct\"] *df_relatorio[\"premio\"]\n",
    "df_relatorio[\"comissao_valor_prob\"] = df_relatorio[\"per_com_pct\"] *df_relatorio[\"premio_prob\"]\n"
   ]
  },
  {
   "cell_type": "code",
   "execution_count": null,
   "id": "d04c3892",
   "metadata": {},
   "outputs": [],
   "source": [
    "apolice_ofertada  = np.round(df_relatorio.shape[0],0)\n",
    "apolice_estimada  = np.round(np.sum(df_relatorio[\"demanda otimizada\"]),0)\n",
    "premio_ofertado   = np.mean(df_relatorio[\"premio\"])\n",
    "retencao_estimada = np.mean(df_relatorio[\"demanda otimizada\"])\n",
    "retencao_base_case = np.mean(df_relatorio[\"prob_est\"])\n",
    "premio_esperado   = np.sum(df_relatorio[\"premio_prob\"])/np.sum(df_relatorio[\"demanda otimizada\"])\n",
    "risco_ofertado    = np.mean(df_relatorio[\"Act_cost\"])\n",
    "risco_esperado    = np.sum(df_relatorio[\"Act_cost_prob\"])/np.sum(df_relatorio[\"demanda otimizada\"])\n",
    "sp_ofertado       = np.sum(df_relatorio[\"Act_cost\"])/np.sum(df_relatorio[\"premio\"])\n",
    "sp_esperado       = np.sum(df_relatorio[\"Act_cost_prob\"])/np.sum(df_relatorio[\"premio_prob\"])\n",
    "comis_ofertado    = np.sum(df_relatorio[\"comissao_valor\"])/np.sum(df_relatorio[\"premio\"])\n",
    "comis_esperado    = np.sum(df_relatorio[\"comissao_valor_prob\"])/np.sum(df_relatorio[\"premio_prob\"])\n",
    "ic_ofertado       =  sp_ofertado  +  comis_ofertado + 0.2749\n",
    "ic_esperado       =  sp_esperado  +  comis_esperado + 0.2749"
   ]
  },
  {
   "cell_type": "code",
   "execution_count": null,
   "id": "871bfc91",
   "metadata": {},
   "outputs": [],
   "source": [
    "print('Apolices Ofertadas: %s' % apolice_ofertada)\n",
    "print('Apolices Renovadas: %s' % apolice_estimada)\n",
    "print('premio_ofertado: %s' % np.round(premio_ofertado,2))\n",
    "print('retencao_baseCase : %s' % np.round(retencao_base_case*100,2))\n",
    "print('retencao_estimada : %s' % np.round(retencao_estimada*100,2))\n",
    "print('premio_esperado\" : %s'  %np.round( premio_esperado,2))\n",
    "print('risco_ofertado\" : %s'  %  np.round(risco_ofertado,2))\n",
    "print('risco_esperado\" : %s'  %  np.round(risco_esperado,2))\n",
    "print('sp_ofertado\" : %s'  % np.round(sp_ofertado*100,2))\n",
    "print('sp_esperado\" : %s'  % np.round(sp_esperado*100,2))\n",
    "print('ic_ofertado\" : %s'  % np.round(ic_ofertado*100,2))\n",
    "print('ic_esperado\" : %s'  % np.round(ic_esperado*100,2))"
   ]
  }
 ],
 "metadata": {
  "kernelspec": {
   "display_name": "Python 3 (ipykernel)",
   "language": "python",
   "name": "python3"
  },
  "language_info": {
   "codemirror_mode": {
    "name": "ipython",
    "version": 3
   },
   "file_extension": ".py",
   "mimetype": "text/x-python",
   "name": "python",
   "nbconvert_exporter": "python",
   "pygments_lexer": "ipython3",
   "version": "3.10.9"
  }
 },
 "nbformat": 4,
 "nbformat_minor": 5
}
