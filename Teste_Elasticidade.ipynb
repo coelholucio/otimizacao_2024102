{
 "cells": [
  {
   "cell_type": "code",
   "execution_count": 1,
   "id": "4317d284",
   "metadata": {},
   "outputs": [],
   "source": [
    "import pandas as pd\n",
    "import numpy as np\n",
    "import seaborn as sns\n",
    "import matplotlib.pyplot as plt\n",
    "\n",
    "\n",
    "from scipy.optimize import minimize\n",
    "from scipy.optimize import differential_evolution\n",
    "\n",
    "from sklearn.preprocessing import LabelEncoder\n",
    "from sklearn.model_selection import train_test_split\n",
    "from sklearn import metrics\n",
    "from sklearn.preprocessing import StandardScaler\n",
    "\n",
    "from sklearn.tree import DecisionTreeRegressor\n",
    "from sklearn.ensemble import RandomForestRegressor\n",
    "import xgboost as xgb\n",
    "from sklearn.metrics import mean_squared_error, mean_absolute_error, r2_score\n",
    "from sklearn.linear_model import LinearRegression\n",
    "\n",
    "from numpy import asarray\n",
    "from sklearn.preprocessing import OrdinalEncoder\n",
    "\n",
    "import warnings\n",
    "warnings.filterwarnings('ignore')\n"
   ]
  },
  {
   "cell_type": "markdown",
   "id": "a5e0e9c4",
   "metadata": {},
   "source": [
    "## modelagem GLM"
   ]
  },
  {
   "cell_type": "code",
   "execution_count": 2,
   "id": "628b03c6",
   "metadata": {},
   "outputs": [
    {
     "name": "stdout",
     "output_type": "stream",
     "text": [
      "CPU times: total: 13.9 s\n",
      "Wall time: 17.2 s\n"
     ]
    },
    {
     "data": {
      "text/plain": [
       "(575924, 105)"
      ]
     },
     "execution_count": 2,
     "metadata": {},
     "output_type": "execute_result"
    }
   ],
   "source": [
    "%%time\n",
    "df_mod_mp_feb23jul24_v2 = pd.read_csv(\"C://Flavio/Projeto Otimizacao/Modelo Renovacao/df_mod_mp_feb23jul24_v2.csv\",\n",
    "                     encoding='latin-1',\n",
    "                     delimiter='|')\n",
    "\n",
    "\n",
    "df_mod_mp_feb23jul24_v2.shape"
   ]
  },
  {
   "cell_type": "code",
   "execution_count": 3,
   "id": "6b785a08",
   "metadata": {},
   "outputs": [
    {
     "data": {
      "text/plain": [
       "(575924, 3)"
      ]
     },
     "execution_count": 3,
     "metadata": {},
     "output_type": "execute_result"
    }
   ],
   "source": [
    "premio_gbm = pd.read_csv(\"C://Flavio/Projeto Otimizacao/Modelo Renovacao/df_mod_julho_gbm_python_v2.csv\",\n",
    "                     encoding='latin-1',\n",
    "                     delimiter='|')\n",
    "premio_gbm.shape"
   ]
  },
  {
   "cell_type": "code",
   "execution_count": 4,
   "id": "6cf77128",
   "metadata": {},
   "outputs": [],
   "source": [
    "df_mod_mp_feb23jul24_v2 = pd.merge(df_mod_mp_feb23jul24_v2,premio_gbm[['Chave','GBM_mercado']],on='Chave', how='left')"
   ]
  },
  {
   "cell_type": "code",
   "execution_count": 5,
   "id": "3b02a0bd",
   "metadata": {},
   "outputs": [],
   "source": [
    "df_mod_mp_feb23jul24_v2['Grupo_veiculo_new']=df_mod_mp_feb23jul24_v2['novo']"
   ]
  },
  {
   "cell_type": "code",
   "execution_count": 6,
   "id": "fd8582fc",
   "metadata": {},
   "outputs": [
    {
     "name": "stdout",
     "output_type": "stream",
     "text": [
      "Your selected dataframe has 107 columns and 575924 Rows.\n",
      "There are 16 columns that have missing values.\n"
     ]
    },
    {
     "data": {
      "text/html": [
       "<div>\n",
       "<style scoped>\n",
       "    .dataframe tbody tr th:only-of-type {\n",
       "        vertical-align: middle;\n",
       "    }\n",
       "\n",
       "    .dataframe tbody tr th {\n",
       "        vertical-align: top;\n",
       "    }\n",
       "\n",
       "    .dataframe thead th {\n",
       "        text-align: right;\n",
       "    }\n",
       "</style>\n",
       "<table border=\"1\" class=\"dataframe\">\n",
       "  <thead>\n",
       "    <tr style=\"text-align: right;\">\n",
       "      <th></th>\n",
       "      <th>Zero Values</th>\n",
       "      <th>Missing Values</th>\n",
       "      <th>% of Total Values</th>\n",
       "      <th>Total Zero Missing Values</th>\n",
       "      <th>% Total Zero Missing Values</th>\n",
       "      <th>Data Type</th>\n",
       "    </tr>\n",
       "  </thead>\n",
       "  <tbody>\n",
       "    <tr>\n",
       "      <th>perf_cond_menor26</th>\n",
       "      <td>0</td>\n",
       "      <td>391245</td>\n",
       "      <td>67.9</td>\n",
       "      <td>391245</td>\n",
       "      <td>67.9</td>\n",
       "      <td>object</td>\n",
       "    </tr>\n",
       "    <tr>\n",
       "      <th>perf_est_civil</th>\n",
       "      <td>0</td>\n",
       "      <td>227357</td>\n",
       "      <td>39.5</td>\n",
       "      <td>227357</td>\n",
       "      <td>39.5</td>\n",
       "      <td>object</td>\n",
       "    </tr>\n",
       "    <tr>\n",
       "      <th>Corr_Classif_5_hibr</th>\n",
       "      <td>0</td>\n",
       "      <td>99433</td>\n",
       "      <td>17.3</td>\n",
       "      <td>99433</td>\n",
       "      <td>17.3</td>\n",
       "      <td>object</td>\n",
       "    </tr>\n",
       "    <tr>\n",
       "      <th>perf_modalidade</th>\n",
       "      <td>0</td>\n",
       "      <td>40243</td>\n",
       "      <td>7.0</td>\n",
       "      <td>40243</td>\n",
       "      <td>7.0</td>\n",
       "      <td>object</td>\n",
       "    </tr>\n",
       "    <tr>\n",
       "      <th>novo</th>\n",
       "      <td>0</td>\n",
       "      <td>1622</td>\n",
       "      <td>0.3</td>\n",
       "      <td>1622</td>\n",
       "      <td>0.3</td>\n",
       "      <td>object</td>\n",
       "    </tr>\n",
       "    <tr>\n",
       "      <th>Grupo_veiculo_new</th>\n",
       "      <td>0</td>\n",
       "      <td>1622</td>\n",
       "      <td>0.3</td>\n",
       "      <td>1622</td>\n",
       "      <td>0.3</td>\n",
       "      <td>object</td>\n",
       "    </tr>\n",
       "    <tr>\n",
       "      <th>per_com</th>\n",
       "      <td>652</td>\n",
       "      <td>1372</td>\n",
       "      <td>0.2</td>\n",
       "      <td>2024</td>\n",
       "      <td>0.4</td>\n",
       "      <td>float64</td>\n",
       "    </tr>\n",
       "    <tr>\n",
       "      <th>MD_est_civil</th>\n",
       "      <td>0</td>\n",
       "      <td>566</td>\n",
       "      <td>0.1</td>\n",
       "      <td>566</td>\n",
       "      <td>0.1</td>\n",
       "      <td>object</td>\n",
       "    </tr>\n",
       "    <tr>\n",
       "      <th>FABRICA</th>\n",
       "      <td>0</td>\n",
       "      <td>378</td>\n",
       "      <td>0.1</td>\n",
       "      <td>378</td>\n",
       "      <td>0.1</td>\n",
       "      <td>object</td>\n",
       "    </tr>\n",
       "    <tr>\n",
       "      <th>cod_nacionalidade</th>\n",
       "      <td>0</td>\n",
       "      <td>378</td>\n",
       "      <td>0.1</td>\n",
       "      <td>378</td>\n",
       "      <td>0.1</td>\n",
       "      <td>float64</td>\n",
       "    </tr>\n",
       "    <tr>\n",
       "      <th>peso</th>\n",
       "      <td>0</td>\n",
       "      <td>378</td>\n",
       "      <td>0.1</td>\n",
       "      <td>378</td>\n",
       "      <td>0.1</td>\n",
       "      <td>float64</td>\n",
       "    </tr>\n",
       "    <tr>\n",
       "      <th>potencia</th>\n",
       "      <td>0</td>\n",
       "      <td>378</td>\n",
       "      <td>0.1</td>\n",
       "      <td>378</td>\n",
       "      <td>0.1</td>\n",
       "      <td>float64</td>\n",
       "    </tr>\n",
       "    <tr>\n",
       "      <th>peso_pot</th>\n",
       "      <td>0</td>\n",
       "      <td>378</td>\n",
       "      <td>0.1</td>\n",
       "      <td>378</td>\n",
       "      <td>0.1</td>\n",
       "      <td>float64</td>\n",
       "    </tr>\n",
       "    <tr>\n",
       "      <th>cod_marca</th>\n",
       "      <td>0</td>\n",
       "      <td>2</td>\n",
       "      <td>0.0</td>\n",
       "      <td>2</td>\n",
       "      <td>0.0</td>\n",
       "      <td>object</td>\n",
       "    </tr>\n",
       "    <tr>\n",
       "      <th>Renovacao_ant</th>\n",
       "      <td>0</td>\n",
       "      <td>1</td>\n",
       "      <td>0.0</td>\n",
       "      <td>1</td>\n",
       "      <td>0.0</td>\n",
       "      <td>object</td>\n",
       "    </tr>\n",
       "    <tr>\n",
       "      <th>v_franq</th>\n",
       "      <td>3018</td>\n",
       "      <td>1</td>\n",
       "      <td>0.0</td>\n",
       "      <td>3019</td>\n",
       "      <td>0.5</td>\n",
       "      <td>float64</td>\n",
       "    </tr>\n",
       "  </tbody>\n",
       "</table>\n",
       "</div>"
      ],
      "text/plain": [
       "                     Zero Values  Missing Values  % of Total Values  \\\n",
       "perf_cond_menor26              0          391245               67.9   \n",
       "perf_est_civil                 0          227357               39.5   \n",
       "Corr_Classif_5_hibr            0           99433               17.3   \n",
       "perf_modalidade                0           40243                7.0   \n",
       "novo                           0            1622                0.3   \n",
       "Grupo_veiculo_new              0            1622                0.3   \n",
       "per_com                      652            1372                0.2   \n",
       "MD_est_civil                   0             566                0.1   \n",
       "FABRICA                        0             378                0.1   \n",
       "cod_nacionalidade              0             378                0.1   \n",
       "peso                           0             378                0.1   \n",
       "potencia                       0             378                0.1   \n",
       "peso_pot                       0             378                0.1   \n",
       "cod_marca                      0               2                0.0   \n",
       "Renovacao_ant                  0               1                0.0   \n",
       "v_franq                     3018               1                0.0   \n",
       "\n",
       "                     Total Zero Missing Values  % Total Zero Missing Values  \\\n",
       "perf_cond_menor26                       391245                         67.9   \n",
       "perf_est_civil                          227357                         39.5   \n",
       "Corr_Classif_5_hibr                      99433                         17.3   \n",
       "perf_modalidade                          40243                          7.0   \n",
       "novo                                      1622                          0.3   \n",
       "Grupo_veiculo_new                         1622                          0.3   \n",
       "per_com                                   2024                          0.4   \n",
       "MD_est_civil                               566                          0.1   \n",
       "FABRICA                                    378                          0.1   \n",
       "cod_nacionalidade                          378                          0.1   \n",
       "peso                                       378                          0.1   \n",
       "potencia                                   378                          0.1   \n",
       "peso_pot                                   378                          0.1   \n",
       "cod_marca                                    2                          0.0   \n",
       "Renovacao_ant                                1                          0.0   \n",
       "v_franq                                   3019                          0.5   \n",
       "\n",
       "                    Data Type  \n",
       "perf_cond_menor26      object  \n",
       "perf_est_civil         object  \n",
       "Corr_Classif_5_hibr    object  \n",
       "perf_modalidade        object  \n",
       "novo                   object  \n",
       "Grupo_veiculo_new      object  \n",
       "per_com               float64  \n",
       "MD_est_civil           object  \n",
       "FABRICA                object  \n",
       "cod_nacionalidade     float64  \n",
       "peso                  float64  \n",
       "potencia              float64  \n",
       "peso_pot              float64  \n",
       "cod_marca              object  \n",
       "Renovacao_ant          object  \n",
       "v_franq               float64  "
      ]
     },
     "execution_count": 6,
     "metadata": {},
     "output_type": "execute_result"
    }
   ],
   "source": [
    "def missing_zero_values_table(df):\n",
    "        zero_val = (df == 0.00).astype(int).sum(axis=0)\n",
    "        mis_val = df.isnull().sum()\n",
    "        mis_val_percent = 100 * df.isnull().sum() / len(df)\n",
    "        mz_table = pd.concat([zero_val, mis_val, mis_val_percent], axis=1)\n",
    "        mz_table = mz_table.rename(\n",
    "        columns = {0 : 'Zero Values', 1 : 'Missing Values', 2 : '% of Total Values'})\n",
    "        mz_table['Total Zero Missing Values'] = mz_table['Zero Values'] + mz_table['Missing Values']\n",
    "        mz_table['% Total Zero Missing Values'] = 100 * mz_table['Total Zero Missing Values'] / len(df)\n",
    "        mz_table['Data Type'] = df.dtypes\n",
    "        mz_table = mz_table[\n",
    "            mz_table.iloc[:,1] != 0].sort_values(\n",
    "        '% of Total Values', ascending=False).round(1)\n",
    "        print (\"Your selected dataframe has \" + str(df.shape[1]) + \" columns and \" + str(df.shape[0]) + \" Rows.\\n\"      \n",
    "            \"There are \" + str(mz_table.shape[0]) +\n",
    "              \" columns that have missing values.\")\n",
    "#         mz_table.to_excel('D:/sampledata/missing_and_zero_values.xlsx', freeze_panes=(1,0), index = False)\n",
    "        return mz_table\n",
    "\n",
    "missing_zero_values_table(df_mod_mp_feb23jul24_v2)"
   ]
  },
  {
   "cell_type": "markdown",
   "id": "c798bf0a",
   "metadata": {},
   "source": [
    "#### prepara base de modelagem glm"
   ]
  },
  {
   "cell_type": "code",
   "execution_count": 7,
   "id": "b717c29c",
   "metadata": {},
   "outputs": [],
   "source": [
    "df_mod_filtered=df_mod_mp_feb23jul24_v2[[\"premio_ofertado\",\"premio_total\", 'premio_creserva','premio_demais_cob',\"teste_validacao\",\"ind_renovacao\",\"MD_sexo\",\"cod_corr\",\n",
    "                                \"Cod_End\",\"MD_sin_5a_cas\",\"MD_tempo_casa_2\",\"MD_idade_veic\",\"MD_faixa_IScas\",\n",
    "                                \"anomes_dt_ter\" ,\"MD_idade\",\"per_com\", \"RNS_Casco_calc\",\"MD_menor26\",\"UF\",\"Renovacao_ant\",\n",
    "                                \"fx_ir_12m\",\"is_casco_ofer\",\"classe_bonus\",\"MD_fator_ajuste\",\"MD_capac\",\"md_categoria\",\n",
    "                                \"MD_comb\",\"MD_qtd_assis_cpf\", \"idade_ult_RNS\",\"canal\",\"MD_tipo_renov\",'FABRICA','MD_est_civil',\n",
    "                                'peso','Grupo_veiculo_new','vigencia',\n",
    "                                'Risco_PP_mod', 'Risco_PT_mod','Risco_RF_mod','Risco_DM_mod','Risco_AS_mod',\n",
    "                                'Risco_DC_mod' ,'Risco_DMO_mod','GBM_mercado']]\n",
    "\n",
    "df_mod_filtered['DA_emissao'] =0.2349\n",
    "df_mod_filtered['DA_producao'] =0.2749\n",
    "df_mod_filtered['risco_dmais_cob'] =df_mod_filtered['premio_demais_cob']*0.2627*1.4\n",
    "df_mod_filtered['premio_anterior'] =df_mod_filtered['premio_total']\n",
    "df_mod_filtered['Act_cost']  = df_mod_filtered['Risco_PP_mod'] + df_mod_filtered['Risco_PT_mod'] + df_mod_filtered['Risco_RF_mod']+ df_mod_filtered['Risco_DM_mod']+ df_mod_filtered['Risco_AS_mod'] + df_mod_filtered['Risco_DC_mod'] +df_mod_filtered['Risco_DMO_mod'] + df_mod_filtered['risco_dmais_cob']\n",
    "df_mod_filtered['Premio_IC100']  = df_mod_filtered['Act_cost']/(1-df_mod_filtered['per_com']/100-df_mod_filtered['DA_producao'] )\n",
    "df_mod_filtered[\"premio\"] = df_mod_filtered[\"premio_ofertado\"]\n",
    "df_mod_filtered['GBM_mercado']  = df_mod_filtered['GBM_mercado']/(1-df_mod_filtered['per_com']/100)\n"
   ]
  },
  {
   "cell_type": "code",
   "execution_count": 8,
   "id": "e6f783f7",
   "metadata": {},
   "outputs": [
    {
     "data": {
      "text/plain": [
       "(80201, 51)"
      ]
     },
     "execution_count": 8,
     "metadata": {},
     "output_type": "execute_result"
    }
   ],
   "source": [
    "df_mod_filtered = df_mod_filtered[df_mod_filtered['per_com'].notna()]\n",
    "df_mod_filtered = df_mod_filtered[df_mod_filtered['FABRICA'].notna()]\n",
    "df_mod_filtered = df_mod_filtered[df_mod_filtered['MD_est_civil'].notna()]\n",
    "df_mod_filtered = df_mod_filtered[df_mod_filtered['Renovacao_ant'].notna()]\n",
    "df_mod_filtered = df_mod_filtered.query('premio_total !=0')\n",
    "df_mod_filtered = df_mod_filtered.query('vigencia == \"Anual\"')\n",
    "df_mod_filtered = df_mod_filtered.query('premio_creserva >= 0')\n",
    "#df_mod_filtered = df_mod_filtered[~df_mod_filtered['anomes_dt_ter'].isin([202310,202309,202308,202302,202402])]\n",
    "\n",
    "df_mod_filtered = df_mod_filtered[df_mod_filtered['anomes_dt_ter'].isin([202405,202406,202407])]\n",
    "\n",
    "\n",
    "df_mod_filtered = df_mod_filtered.query('premio_total >100')\n",
    "df_mod_filtered = df_mod_filtered.query('premio_ofertado >100')\n",
    "df_mod_filtered = df_mod_filtered.query('MD_idade !=\"ERRO\"')\n",
    "df_mod_filtered = df_mod_filtered.query('is_casco_ofer > 0')\n",
    "df_mod_filtered = df_mod_filtered[(df_mod_filtered['per_com']>0)]\n",
    "df_mod_filtered = df_mod_filtered[(df_mod_filtered['per_com']<50)]\n",
    "df_mod_filtered = df_mod_filtered[(df_mod_filtered.premio_ofertado/df_mod_filtered.premio_total <=2.3)]\n",
    "df_mod_filtered = df_mod_filtered[(df_mod_filtered.premio_ofertado/df_mod_filtered.premio_total >=0.7)]\n",
    "df_mod_filtered = df_mod_filtered[(df_mod_filtered.UF != \"SP\") | (~df_mod_filtered.Grupo_veiculo_new.isin([\"Toyota Hilux CD\",\"Toyota Hilux CS\",\"Toyota Hilux SW4\"]))]\n",
    "\n",
    "df_mod_filtered.shape"
   ]
  },
  {
   "cell_type": "code",
   "execution_count": 9,
   "id": "7abcd0c0",
   "metadata": {},
   "outputs": [],
   "source": [
    "df_mod=df_mod_filtered.copy()"
   ]
  },
  {
   "cell_type": "code",
   "execution_count": 10,
   "id": "687abc4a",
   "metadata": {
    "scrolled": true
   },
   "outputs": [],
   "source": [
    "def categorizar(df):\n",
    "    \n",
    "    df['classe_bonus_bin'] = df['classe_bonus'].apply(lambda x: '00'  if x == 0 else 'Demais')   \n",
    "    \n",
    "    df['MD_sexo_bin'] = df['MD_sexo'].map({'Masculino': 'Masculino', \n",
    "                                 'Feminino': 'Feminino', \n",
    "                                  'ERRO': 'Masculino'}).astype(object)\n",
    "    \n",
    "    df['MD_sexo_2bin'] = df['MD_sexo'].map({'Masculino': 1, \n",
    "                                 'Feminino': 0, \n",
    "                                  'ERRO': 1}).astype(object)\n",
    "\n",
    "\n",
    "    df['fx_ir_12m_bin'] = df['fx_ir_12m'].apply(lambda x: '01_00_20' if x == '01 - 00-<=020' else\n",
    "                                                          '02_20_40' if x == '02 - 20-<=040' else\n",
    "                                                          '03_40_60' if x == '03 - 40-<=060' else\n",
    "                                                          '04_60_80' if x == '04 - 60-<=080' else\n",
    "                                                          '05_80_100' if x == '05 - 80-<=100' else\n",
    "                                                          '02_20_40' if x == 'NI'           else 'ERROR')\n",
    "\n",
    "  \n",
    "    df['MD_comb_bin'] = df['MD_comb'].apply(lambda x: 'Gasolina' if x == 'Gasolina'  else 'Demais')\n",
    "\n",
    "    df['canal_bin'] =  df['canal'].apply(lambda x: 'Corretor_Mais' if x == 'Corretor Mais' else \n",
    "                                                   'Corretor_Mais' if x == 'CorretorMais'\n",
    "                                                                   else    'Demais')\n",
    "   \n",
    "    df['per_com_bin'] = df['per_com'].apply(lambda x: 'p_1_10' if x < 10 else\n",
    "                                                      'p_10_35' if x >= 10 else 'ERROR')    \n",
    "\n",
    "\n",
    "\n",
    "    df['idade_ult_RNS_bin'] = df['idade_ult_RNS'].apply(lambda x:     'Sem_Sinistro' if x == 'Sem Sinistro' else\n",
    "                                                                      '01_05_anos' if x == '01 ano' else\n",
    "                                                                      '01_05_anos' if x == '02 anos' else\n",
    "                                                                      '01_05_anos' if x == '03 anos' else\n",
    "                                                                      '01_05_anos' if x == '04 anos' else\n",
    "                                                                      '01_05_anos' if x == '05 anos' else '06_inf')\n",
    "\n",
    "\n",
    "    df['UF_bin'] = df['UF'].apply(lambda x:     'AL_CE_RS'  if x == 'AL' else\n",
    "                                                'AL_CE_RS'  if x == 'CE' else\n",
    "                                                'AL_CE_RS'  if x == 'RS' else \n",
    "                                                'AP_DF_ES_PA_PB_RN_SC' if x == 'AP' else \n",
    "                                                'AP_DF_ES_PA_PB_RN_SC' if x == 'DF' else \n",
    "                                                'AP_DF_ES_PA_PB_RN_SC' if x == 'ES' else \n",
    "                                                'AP_DF_ES_PA_PB_RN_SC' if x == 'PA' else \n",
    "                                                'AP_DF_ES_PA_PB_RN_SC' if x == 'PB' else \n",
    "                                                'AP_DF_ES_PA_PB_RN_SC' if x == 'RN' else \n",
    "                                                'AP_DF_ES_PA_PB_RN_SC' if x == 'SC' else \n",
    "                                                'GO_MA_MG'             if x == 'GO' else \n",
    "                                                'GO_MA_MG'             if x == 'MA' else \n",
    "                                                'GO_MA_MG'             if x == 'MG' else \n",
    "                                                'MT_PR'                if x == 'MT' else\n",
    "                                                'MT_PR'                if x == 'PR' else \n",
    "                                                'RJ'                   if x == 'RJ' else  \n",
    "                                                'Demais')\n",
    "\n",
    "    df['md_tipo_renov_ant_bin'] = df['Renovacao_ant'].apply(lambda x:     '1_SeguroNovo'       if x == '1 - Seguro Novo'  else\n",
    "                                                                          '2_RenovPropria'     if x == '2 - Renov MAPFRE sem sinistro'   else\n",
    "                                                                          '2_RenovPropria'     if x == '3 - Renov MAPFRE com sinistro'   else\n",
    "                                                                          '3_RenovCongenere'   if x == '4 - Renov Congenere sem sinistro' else\n",
    "                                                                          '3_RenovCongenere'   if x == '5 - Renov Congenere com sinistro' else\n",
    "                                                                          '3_RenovCongenere'   if x == '6 - Renov BB sem sinistro' else\n",
    "                                                                          '3_RenovCongenere'   if x == '7 - Renov BB com sinistro' else  \n",
    "                                                                          '2_RenovPropria')\n",
    "  \n",
    "    df['MD_tipo_renov_bin'] = df['MD_tipo_renov'].apply(lambda x:          '2_RenovPropria_sem_sin'     if x == '2 - Renov MAPFRE sem sinistro'   else\n",
    "                                                                           '3_RenovPropria_com_sin'     if x == '3 - Renov MAPFRE com sinistro'   else\n",
    "                                                                           'Error')\n",
    "   \n",
    "     \n",
    "    df['Cod_End_bin'] = df['Cod_End'].apply(lambda x: '13509'  if x == 13509 else\n",
    "                                                      '13509'  if x == 50007 else\n",
    "                                                      '13509'  if x == 50100 else 'Demais')   \n",
    "\n",
    "    df['MD_capac_bin'] = df['MD_capac'].apply(lambda x: '5'  if x == 5  else 'Demais')  \n",
    "\n",
    "\n",
    "\n",
    "    df['fator_ajuste_bin'] = df['MD_fator_ajuste'].apply(lambda x: 'f_80_101'    if x < 101 else\n",
    "                                                                   'f_101_120'   if x >= 101  else \n",
    "                                                                   'f_80_101')   \n",
    "    \n",
    "    return df"
   ]
  },
  {
   "cell_type": "code",
   "execution_count": 11,
   "id": "6be2ddc6",
   "metadata": {},
   "outputs": [],
   "source": [
    "df_mod = categorizar(df_mod)"
   ]
  },
  {
   "cell_type": "code",
   "execution_count": 12,
   "id": "5772a3fe",
   "metadata": {},
   "outputs": [
    {
     "data": {
      "text/plain": [
       "(64070, 65)"
      ]
     },
     "execution_count": 12,
     "metadata": {},
     "output_type": "execute_result"
    }
   ],
   "source": [
    "df_train = df_mod.query('teste_validacao == \"Trein\"')\n",
    "df_train.shape"
   ]
  },
  {
   "cell_type": "code",
   "execution_count": 13,
   "id": "e68eea74",
   "metadata": {},
   "outputs": [],
   "source": [
    "df_train['Premio_IC_100']=df_train['Premio_IC100']"
   ]
  },
  {
   "cell_type": "code",
   "execution_count": 109,
   "id": "eadcfe51",
   "metadata": {},
   "outputs": [],
   "source": [
    "df_num = df_train[['premio', 'per_com', 'MD_tempo_casa_2', 'is_casco_ofer','Premio_IC_100','premio_anterior','GBM_mercado']]\n",
    "df_cat = df_train[['canal_bin', 'Cod_End_bin', 'fator_ajuste_bin', 'per_com_bin', 'classe_bonus_bin', 'UF_bin', 'MD_comb_bin', 'md_tipo_renov_ant_bin', 'fx_ir_12m_bin', 'MD_tipo_renov_bin','idade_ult_RNS_bin']]\n",
    "df_cat_y = df_train[['ind_renovacao']]\n",
    "df_cat_glm=pd.get_dummies(df_cat)\n",
    "df_cat_glm=pd.concat([df_cat_y,df_num, df_cat_glm],axis=1)"
   ]
  },
  {
   "cell_type": "code",
   "execution_count": 110,
   "id": "3f685fb1",
   "metadata": {},
   "outputs": [
    {
     "name": "stdout",
     "output_type": "stream",
     "text": [
      "Optimization terminated successfully.\n",
      "         Current function value: 0.541466\n",
      "         Iterations 6\n"
     ]
    },
    {
     "data": {
      "text/html": [
       "<table class=\"simpletable\">\n",
       "<caption>Logit Regression Results</caption>\n",
       "<tr>\n",
       "  <th>Dep. Variable:</th>     <td>ind_renovacao</td>  <th>  No. Observations:  </th>  <td> 64070</td> \n",
       "</tr>\n",
       "<tr>\n",
       "  <th>Model:</th>                 <td>Logit</td>      <th>  Df Residuals:      </th>  <td> 64042</td> \n",
       "</tr>\n",
       "<tr>\n",
       "  <th>Method:</th>                 <td>MLE</td>       <th>  Df Model:          </th>  <td>    27</td> \n",
       "</tr>\n",
       "<tr>\n",
       "  <th>Date:</th>            <td>Tue, 03 Sep 2024</td> <th>  Pseudo R-squ.:     </th>  <td>0.2188</td> \n",
       "</tr>\n",
       "<tr>\n",
       "  <th>Time:</th>                <td>13:38:52</td>     <th>  Log-Likelihood:    </th> <td> -34692.</td>\n",
       "</tr>\n",
       "<tr>\n",
       "  <th>converged:</th>             <td>True</td>       <th>  LL-Null:           </th> <td> -44409.</td>\n",
       "</tr>\n",
       "<tr>\n",
       "  <th>Covariance Type:</th>     <td>nonrobust</td>    <th>  LLR p-value:       </th>  <td> 0.000</td> \n",
       "</tr>\n",
       "</table>\n",
       "<table class=\"simpletable\">\n",
       "<tr>\n",
       "                        <td></td>                          <th>coef</th>     <th>std err</th>      <th>z</th>      <th>P>|z|</th>  <th>[0.025</th>    <th>0.975]</th>  \n",
       "</tr>\n",
       "<tr>\n",
       "  <th>Intercept</th>                                    <td>    1.3356</td> <td>    0.246</td> <td>    5.426</td> <td> 0.000</td> <td>    0.853</td> <td>    1.818</td>\n",
       "</tr>\n",
       "<tr>\n",
       "  <th>np.log(premio)</th>                               <td>   -0.2576</td> <td>    0.029</td> <td>   -8.746</td> <td> 0.000</td> <td>   -0.315</td> <td>   -0.200</td>\n",
       "</tr>\n",
       "<tr>\n",
       "  <th>np.divide(premio, is_casco_ofer)</th>             <td>    1.3647</td> <td>    0.562</td> <td>    2.428</td> <td> 0.015</td> <td>    0.263</td> <td>    2.466</td>\n",
       "</tr>\n",
       "<tr>\n",
       "  <th>np.log(np.divide(premio, GBM_mercado))</th>       <td>   -0.8782</td> <td>    0.059</td> <td>  -14.789</td> <td> 0.000</td> <td>   -0.995</td> <td>   -0.762</td>\n",
       "</tr>\n",
       "<tr>\n",
       "  <th>np.log(np.divide(premio, Premio_IC_100))</th>     <td>   -0.7950</td> <td>    0.042</td> <td>  -18.863</td> <td> 0.000</td> <td>   -0.878</td> <td>   -0.712</td>\n",
       "</tr>\n",
       "<tr>\n",
       "  <th>np.log((np.divide(premio, premio_anterior)))</th> <td>   -1.6731</td> <td>    0.054</td> <td>  -31.182</td> <td> 0.000</td> <td>   -1.778</td> <td>   -1.568</td>\n",
       "</tr>\n",
       "<tr>\n",
       "  <th>np.log(MD_tempo_casa_2 + 1)</th>                  <td>    0.3797</td> <td>    0.032</td> <td>   11.879</td> <td> 0.000</td> <td>    0.317</td> <td>    0.442</td>\n",
       "</tr>\n",
       "<tr>\n",
       "  <th>per_com</th>                                      <td>    0.0011</td> <td>    0.002</td> <td>    0.570</td> <td> 0.569</td> <td>   -0.003</td> <td>    0.005</td>\n",
       "</tr>\n",
       "<tr>\n",
       "  <th>per_com_bin_p_1_10</th>                           <td>    0.1253</td> <td>    0.052</td> <td>    2.390</td> <td> 0.017</td> <td>    0.023</td> <td>    0.228</td>\n",
       "</tr>\n",
       "<tr>\n",
       "  <th>canal_bin_Corretor_Mais</th>                      <td>    0.1334</td> <td>    0.024</td> <td>    5.537</td> <td> 0.000</td> <td>    0.086</td> <td>    0.181</td>\n",
       "</tr>\n",
       "<tr>\n",
       "  <th>Cod_End_bin_13509</th>                            <td>   -0.1382</td> <td>    0.030</td> <td>   -4.624</td> <td> 0.000</td> <td>   -0.197</td> <td>   -0.080</td>\n",
       "</tr>\n",
       "<tr>\n",
       "  <th>fator_ajuste_bin_f_101_120</th>                   <td>    0.3919</td> <td>    0.075</td> <td>    5.191</td> <td> 0.000</td> <td>    0.244</td> <td>    0.540</td>\n",
       "</tr>\n",
       "<tr>\n",
       "  <th>classe_bonus_bin_00</th>                          <td>   -0.1397</td> <td>    0.084</td> <td>   -1.659</td> <td> 0.097</td> <td>   -0.305</td> <td>    0.025</td>\n",
       "</tr>\n",
       "<tr>\n",
       "  <th>UF_bin_AL_CE_RS</th>                              <td>   -0.2305</td> <td>    0.030</td> <td>   -7.626</td> <td> 0.000</td> <td>   -0.290</td> <td>   -0.171</td>\n",
       "</tr>\n",
       "<tr>\n",
       "  <th>UF_bin_AP_DF_ES_PA_PB_RN_SC</th>                  <td>   -0.2832</td> <td>    0.031</td> <td>   -9.171</td> <td> 0.000</td> <td>   -0.344</td> <td>   -0.223</td>\n",
       "</tr>\n",
       "<tr>\n",
       "  <th>UF_bin_GO_MA_MG</th>                              <td>    0.0024</td> <td>    0.030</td> <td>    0.078</td> <td> 0.938</td> <td>   -0.057</td> <td>    0.062</td>\n",
       "</tr>\n",
       "<tr>\n",
       "  <th>UF_bin_MT_PR</th>                                 <td>   -0.1476</td> <td>    0.034</td> <td>   -4.303</td> <td> 0.000</td> <td>   -0.215</td> <td>   -0.080</td>\n",
       "</tr>\n",
       "<tr>\n",
       "  <th>UF_bin_RJ</th>                                    <td>    0.2817</td> <td>    0.050</td> <td>    5.588</td> <td> 0.000</td> <td>    0.183</td> <td>    0.381</td>\n",
       "</tr>\n",
       "<tr>\n",
       "  <th>MD_comb_bin_Gasolina</th>                         <td>    0.3336</td> <td>    0.045</td> <td>    7.341</td> <td> 0.000</td> <td>    0.245</td> <td>    0.423</td>\n",
       "</tr>\n",
       "<tr>\n",
       "  <th>md_tipo_renov_ant_bin_1_SeguroNovo</th>           <td>   -0.4115</td> <td>    0.040</td> <td>  -10.270</td> <td> 0.000</td> <td>   -0.490</td> <td>   -0.333</td>\n",
       "</tr>\n",
       "<tr>\n",
       "  <th>md_tipo_renov_ant_bin_3_RenovCongenere</th>       <td>    0.0127</td> <td>    0.033</td> <td>    0.382</td> <td> 0.702</td> <td>   -0.052</td> <td>    0.078</td>\n",
       "</tr>\n",
       "<tr>\n",
       "  <th>fx_ir_12m_bin_01_00_20</th>                       <td>   -0.7300</td> <td>    0.037</td> <td>  -19.702</td> <td> 0.000</td> <td>   -0.803</td> <td>   -0.657</td>\n",
       "</tr>\n",
       "<tr>\n",
       "  <th>fx_ir_12m_bin_03_40_60</th>                       <td>    0.4343</td> <td>    0.023</td> <td>   19.173</td> <td> 0.000</td> <td>    0.390</td> <td>    0.479</td>\n",
       "</tr>\n",
       "<tr>\n",
       "  <th>fx_ir_12m_bin_04_60_80</th>                       <td>    1.1066</td> <td>    0.031</td> <td>   35.877</td> <td> 0.000</td> <td>    1.046</td> <td>    1.167</td>\n",
       "</tr>\n",
       "<tr>\n",
       "  <th>fx_ir_12m_bin_05_80_100</th>                      <td>    1.9561</td> <td>    0.051</td> <td>   38.237</td> <td> 0.000</td> <td>    1.856</td> <td>    2.056</td>\n",
       "</tr>\n",
       "<tr>\n",
       "  <th>MD_tipo_renov_bin_3_RenovPropria_com_sin</th>     <td>   -0.0742</td> <td>    0.047</td> <td>   -1.585</td> <td> 0.113</td> <td>   -0.166</td> <td>    0.018</td>\n",
       "</tr>\n",
       "<tr>\n",
       "  <th>idade_ult_RNS_bin_01_05_anos</th>                 <td>   -0.8459</td> <td>    0.038</td> <td>  -22.357</td> <td> 0.000</td> <td>   -0.920</td> <td>   -0.772</td>\n",
       "</tr>\n",
       "<tr>\n",
       "  <th>idade_ult_RNS_bin_06_inf</th>                     <td>   -0.7094</td> <td>    0.029</td> <td>  -24.420</td> <td> 0.000</td> <td>   -0.766</td> <td>   -0.652</td>\n",
       "</tr>\n",
       "</table>"
      ],
      "text/plain": [
       "<class 'statsmodels.iolib.summary.Summary'>\n",
       "\"\"\"\n",
       "                           Logit Regression Results                           \n",
       "==============================================================================\n",
       "Dep. Variable:          ind_renovacao   No. Observations:                64070\n",
       "Model:                          Logit   Df Residuals:                    64042\n",
       "Method:                           MLE   Df Model:                           27\n",
       "Date:                Tue, 03 Sep 2024   Pseudo R-squ.:                  0.2188\n",
       "Time:                        13:38:52   Log-Likelihood:                -34692.\n",
       "converged:                       True   LL-Null:                       -44409.\n",
       "Covariance Type:            nonrobust   LLR p-value:                     0.000\n",
       "================================================================================================================\n",
       "                                                   coef    std err          z      P>|z|      [0.025      0.975]\n",
       "----------------------------------------------------------------------------------------------------------------\n",
       "Intercept                                        1.3356      0.246      5.426      0.000       0.853       1.818\n",
       "np.log(premio)                                  -0.2576      0.029     -8.746      0.000      -0.315      -0.200\n",
       "np.divide(premio, is_casco_ofer)                 1.3647      0.562      2.428      0.015       0.263       2.466\n",
       "np.log(np.divide(premio, GBM_mercado))          -0.8782      0.059    -14.789      0.000      -0.995      -0.762\n",
       "np.log(np.divide(premio, Premio_IC_100))        -0.7950      0.042    -18.863      0.000      -0.878      -0.712\n",
       "np.log((np.divide(premio, premio_anterior)))    -1.6731      0.054    -31.182      0.000      -1.778      -1.568\n",
       "np.log(MD_tempo_casa_2 + 1)                      0.3797      0.032     11.879      0.000       0.317       0.442\n",
       "per_com                                          0.0011      0.002      0.570      0.569      -0.003       0.005\n",
       "per_com_bin_p_1_10                               0.1253      0.052      2.390      0.017       0.023       0.228\n",
       "canal_bin_Corretor_Mais                          0.1334      0.024      5.537      0.000       0.086       0.181\n",
       "Cod_End_bin_13509                               -0.1382      0.030     -4.624      0.000      -0.197      -0.080\n",
       "fator_ajuste_bin_f_101_120                       0.3919      0.075      5.191      0.000       0.244       0.540\n",
       "classe_bonus_bin_00                             -0.1397      0.084     -1.659      0.097      -0.305       0.025\n",
       "UF_bin_AL_CE_RS                                 -0.2305      0.030     -7.626      0.000      -0.290      -0.171\n",
       "UF_bin_AP_DF_ES_PA_PB_RN_SC                     -0.2832      0.031     -9.171      0.000      -0.344      -0.223\n",
       "UF_bin_GO_MA_MG                                  0.0024      0.030      0.078      0.938      -0.057       0.062\n",
       "UF_bin_MT_PR                                    -0.1476      0.034     -4.303      0.000      -0.215      -0.080\n",
       "UF_bin_RJ                                        0.2817      0.050      5.588      0.000       0.183       0.381\n",
       "MD_comb_bin_Gasolina                             0.3336      0.045      7.341      0.000       0.245       0.423\n",
       "md_tipo_renov_ant_bin_1_SeguroNovo              -0.4115      0.040    -10.270      0.000      -0.490      -0.333\n",
       "md_tipo_renov_ant_bin_3_RenovCongenere           0.0127      0.033      0.382      0.702      -0.052       0.078\n",
       "fx_ir_12m_bin_01_00_20                          -0.7300      0.037    -19.702      0.000      -0.803      -0.657\n",
       "fx_ir_12m_bin_03_40_60                           0.4343      0.023     19.173      0.000       0.390       0.479\n",
       "fx_ir_12m_bin_04_60_80                           1.1066      0.031     35.877      0.000       1.046       1.167\n",
       "fx_ir_12m_bin_05_80_100                          1.9561      0.051     38.237      0.000       1.856       2.056\n",
       "MD_tipo_renov_bin_3_RenovPropria_com_sin        -0.0742      0.047     -1.585      0.113      -0.166       0.018\n",
       "idade_ult_RNS_bin_01_05_anos                    -0.8459      0.038    -22.357      0.000      -0.920      -0.772\n",
       "idade_ult_RNS_bin_06_inf                        -0.7094      0.029    -24.420      0.000      -0.766      -0.652\n",
       "================================================================================================================\n",
       "\"\"\""
      ]
     },
     "execution_count": 110,
     "metadata": {},
     "output_type": "execute_result"
    }
   ],
   "source": [
    "import statsmodels.formula.api as smf\n",
    "#Modelo GLM de retenção\n",
    "formula =  'ind_renovacao ~ 1 + np.log(premio) +  np.divide(premio,is_casco_ofer) + np.log(np.divide(premio, GBM_mercado)) +  np.log(np.divide(premio, Premio_IC_100))+ np.log((np.divide(premio, premio_anterior))) + np.log(MD_tempo_casa_2+1) + per_com + per_com_bin_p_1_10 + canal_bin_Corretor_Mais + Cod_End_bin_13509 + fator_ajuste_bin_f_101_120 + classe_bonus_bin_00 + UF_bin_AL_CE_RS + UF_bin_AP_DF_ES_PA_PB_RN_SC + UF_bin_GO_MA_MG + UF_bin_MT_PR + UF_bin_RJ + MD_comb_bin_Gasolina + md_tipo_renov_ant_bin_1_SeguroNovo + md_tipo_renov_ant_bin_3_RenovCongenere + fx_ir_12m_bin_01_00_20 + fx_ir_12m_bin_03_40_60 + fx_ir_12m_bin_04_60_80 + fx_ir_12m_bin_05_80_100 + MD_tipo_renov_bin_3_RenovPropria_com_sin + idade_ult_RNS_bin_01_05_anos + idade_ult_RNS_bin_06_inf ' \n",
    "#formula = 'ind_renovacao ~ 1 + np.log(premio) + np.log(np.divide(premio, premio_anterior)) + np.where(np.divide(premio, premio_anterior) > 1, 1, 0)'\n",
    "model_glm = smf.logit(formula , data=df_cat_glm).fit()\n",
    "model_glm.summary()"
   ]
  },
  {
   "cell_type": "code",
   "execution_count": 16,
   "id": "c352072c",
   "metadata": {},
   "outputs": [
    {
     "data": {
      "text/plain": [
       "-1.673076119185243"
      ]
     },
     "execution_count": 16,
     "metadata": {},
     "output_type": "execute_result"
    }
   ],
   "source": [
    " model_glm.params['np.log((np.divide(premio, premio_anterior)))']"
   ]
  },
  {
   "cell_type": "code",
   "execution_count": 18,
   "id": "1696aaa1",
   "metadata": {},
   "outputs": [
    {
     "data": {
      "text/plain": [
       "array([46.93826502, 56.57798247, 68.58974826, 81.47930721, 85.00868992,\n",
       "       35.24210809, 80.3181335 , 16.06098619, 49.42396792, 87.82231562,\n",
       "       41.24344485, 93.76237643, 60.59325961, 54.28901514, 41.51942922,\n",
       "       44.04931368, 84.23551992, 17.51366067, 95.46878583, 60.24622995,\n",
       "       45.60096626, 93.99966627, 59.49986118, 89.30570346, 73.51596473,\n",
       "       12.07187614])"
      ]
     },
     "execution_count": 18,
     "metadata": {},
     "output_type": "execute_result"
    }
   ],
   "source": [
    "X_vals"
   ]
  },
  {
   "cell_type": "code",
   "execution_count": 21,
   "id": "a4f915a1",
   "metadata": {},
   "outputs": [
    {
     "data": {
      "text/plain": [
       "array([[4.94910000e+04, 2.60071567e+03, 2.56989446e+03, ...,\n",
       "        1.00000000e+00, 1.00000000e+00, 0.00000000e+00],\n",
       "       [3.05168000e+05, 8.03149777e+03, 1.12766090e+04, ...,\n",
       "        0.00000000e+00, 0.00000000e+00, 1.00000000e+00],\n",
       "       [1.15632000e+05, 3.82558036e+03, 4.36304867e+03, ...,\n",
       "        0.00000000e+00, 0.00000000e+00, 1.00000000e+00],\n",
       "       ...,\n",
       "       [1.08514000e+05, 3.72513823e+03, 2.13456284e+03, ...,\n",
       "        1.00000000e+00, 0.00000000e+00, 0.00000000e+00],\n",
       "       [2.70606000e+05, 6.77621705e+03, 6.28688802e+03, ...,\n",
       "        0.00000000e+00, 0.00000000e+00, 0.00000000e+00],\n",
       "       [1.49688000e+05, 4.24062082e+03, 2.09024865e+03, ...,\n",
       "        0.00000000e+00, 0.00000000e+00, 0.00000000e+00]])"
      ]
     },
     "execution_count": 21,
     "metadata": {},
     "output_type": "execute_result"
    }
   ],
   "source": [
    "indicadora"
   ]
  },
  {
   "cell_type": "code",
   "execution_count": 111,
   "id": "aeeae6f3",
   "metadata": {},
   "outputs": [],
   "source": [
    "df = df_cat_glm"
   ]
  },
  {
   "cell_type": "code",
   "execution_count": null,
   "id": "ac448e68",
   "metadata": {},
   "outputs": [],
   "source": []
  },
  {
   "cell_type": "code",
   "execution_count": 113,
   "id": "5bc2c834",
   "metadata": {},
   "outputs": [],
   "source": [
    "df['tarifa']=df['premio']\n",
    "df['numbers'] = df['premio']/df['tarifa']\n",
    "if df['numbers'].any()>1 :\n",
    "    df['X27'] = numbers-1\n",
    "else:\n",
    "     df['X27']=1"
   ]
  },
  {
   "cell_type": "code",
   "execution_count": 114,
   "id": "d322070f",
   "metadata": {},
   "outputs": [
    {
     "data": {
      "text/html": [
       "<div>\n",
       "<style scoped>\n",
       "    .dataframe tbody tr th:only-of-type {\n",
       "        vertical-align: middle;\n",
       "    }\n",
       "\n",
       "    .dataframe tbody tr th {\n",
       "        vertical-align: top;\n",
       "    }\n",
       "\n",
       "    .dataframe thead th {\n",
       "        text-align: right;\n",
       "    }\n",
       "</style>\n",
       "<table border=\"1\" class=\"dataframe\">\n",
       "  <thead>\n",
       "    <tr style=\"text-align: right;\">\n",
       "      <th></th>\n",
       "      <th>ind_renovacao</th>\n",
       "      <th>premio</th>\n",
       "      <th>per_com</th>\n",
       "      <th>MD_tempo_casa_2</th>\n",
       "      <th>is_casco_ofer</th>\n",
       "      <th>Premio_IC_100</th>\n",
       "      <th>premio_anterior</th>\n",
       "      <th>GBM_mercado</th>\n",
       "      <th>canal_bin_Corretor_Mais</th>\n",
       "      <th>canal_bin_Demais</th>\n",
       "      <th>...</th>\n",
       "      <th>fx_ir_12m_bin_04_60_80</th>\n",
       "      <th>fx_ir_12m_bin_05_80_100</th>\n",
       "      <th>MD_tipo_renov_bin_2_RenovPropria_sem_sin</th>\n",
       "      <th>MD_tipo_renov_bin_3_RenovPropria_com_sin</th>\n",
       "      <th>idade_ult_RNS_bin_01_05_anos</th>\n",
       "      <th>idade_ult_RNS_bin_06_inf</th>\n",
       "      <th>idade_ult_RNS_bin_Sem_Sinistro</th>\n",
       "      <th>tarifa</th>\n",
       "      <th>numbers</th>\n",
       "      <th>X27</th>\n",
       "    </tr>\n",
       "  </thead>\n",
       "  <tbody>\n",
       "    <tr>\n",
       "      <th>8</th>\n",
       "      <td>0</td>\n",
       "      <td>2487.76</td>\n",
       "      <td>14.0</td>\n",
       "      <td>3</td>\n",
       "      <td>49491.0</td>\n",
       "      <td>2569.894455</td>\n",
       "      <td>1426.222541</td>\n",
       "      <td>2600.715672</td>\n",
       "      <td>0</td>\n",
       "      <td>1</td>\n",
       "      <td>...</td>\n",
       "      <td>0</td>\n",
       "      <td>0</td>\n",
       "      <td>0</td>\n",
       "      <td>1</td>\n",
       "      <td>1</td>\n",
       "      <td>0</td>\n",
       "      <td>0</td>\n",
       "      <td>2487.76</td>\n",
       "      <td>1.0</td>\n",
       "      <td>1</td>\n",
       "    </tr>\n",
       "    <tr>\n",
       "      <th>11</th>\n",
       "      <td>0</td>\n",
       "      <td>11826.61</td>\n",
       "      <td>18.0</td>\n",
       "      <td>1</td>\n",
       "      <td>305168.0</td>\n",
       "      <td>11276.608968</td>\n",
       "      <td>12195.826776</td>\n",
       "      <td>8031.497770</td>\n",
       "      <td>0</td>\n",
       "      <td>1</td>\n",
       "      <td>...</td>\n",
       "      <td>0</td>\n",
       "      <td>0</td>\n",
       "      <td>1</td>\n",
       "      <td>0</td>\n",
       "      <td>0</td>\n",
       "      <td>1</td>\n",
       "      <td>0</td>\n",
       "      <td>11826.61</td>\n",
       "      <td>1.0</td>\n",
       "      <td>1</td>\n",
       "    </tr>\n",
       "    <tr>\n",
       "      <th>12</th>\n",
       "      <td>0</td>\n",
       "      <td>5098.39</td>\n",
       "      <td>2.0</td>\n",
       "      <td>1</td>\n",
       "      <td>115632.0</td>\n",
       "      <td>4363.048672</td>\n",
       "      <td>4703.393989</td>\n",
       "      <td>3825.580360</td>\n",
       "      <td>0</td>\n",
       "      <td>1</td>\n",
       "      <td>...</td>\n",
       "      <td>0</td>\n",
       "      <td>0</td>\n",
       "      <td>1</td>\n",
       "      <td>0</td>\n",
       "      <td>0</td>\n",
       "      <td>1</td>\n",
       "      <td>0</td>\n",
       "      <td>5098.39</td>\n",
       "      <td>1.0</td>\n",
       "      <td>1</td>\n",
       "    </tr>\n",
       "    <tr>\n",
       "      <th>27</th>\n",
       "      <td>0</td>\n",
       "      <td>3162.51</td>\n",
       "      <td>2.0</td>\n",
       "      <td>1</td>\n",
       "      <td>68281.0</td>\n",
       "      <td>2668.775192</td>\n",
       "      <td>2405.928415</td>\n",
       "      <td>2879.474068</td>\n",
       "      <td>0</td>\n",
       "      <td>1</td>\n",
       "      <td>...</td>\n",
       "      <td>0</td>\n",
       "      <td>0</td>\n",
       "      <td>1</td>\n",
       "      <td>0</td>\n",
       "      <td>1</td>\n",
       "      <td>0</td>\n",
       "      <td>0</td>\n",
       "      <td>3162.51</td>\n",
       "      <td>1.0</td>\n",
       "      <td>1</td>\n",
       "    </tr>\n",
       "    <tr>\n",
       "      <th>46</th>\n",
       "      <td>1</td>\n",
       "      <td>1670.24</td>\n",
       "      <td>16.0</td>\n",
       "      <td>5</td>\n",
       "      <td>40743.0</td>\n",
       "      <td>1465.592847</td>\n",
       "      <td>2371.632377</td>\n",
       "      <td>2444.952182</td>\n",
       "      <td>0</td>\n",
       "      <td>1</td>\n",
       "      <td>...</td>\n",
       "      <td>0</td>\n",
       "      <td>0</td>\n",
       "      <td>1</td>\n",
       "      <td>0</td>\n",
       "      <td>0</td>\n",
       "      <td>0</td>\n",
       "      <td>1</td>\n",
       "      <td>1670.24</td>\n",
       "      <td>1.0</td>\n",
       "      <td>1</td>\n",
       "    </tr>\n",
       "    <tr>\n",
       "      <th>...</th>\n",
       "      <td>...</td>\n",
       "      <td>...</td>\n",
       "      <td>...</td>\n",
       "      <td>...</td>\n",
       "      <td>...</td>\n",
       "      <td>...</td>\n",
       "      <td>...</td>\n",
       "      <td>...</td>\n",
       "      <td>...</td>\n",
       "      <td>...</td>\n",
       "      <td>...</td>\n",
       "      <td>...</td>\n",
       "      <td>...</td>\n",
       "      <td>...</td>\n",
       "      <td>...</td>\n",
       "      <td>...</td>\n",
       "      <td>...</td>\n",
       "      <td>...</td>\n",
       "      <td>...</td>\n",
       "      <td>...</td>\n",
       "      <td>...</td>\n",
       "    </tr>\n",
       "    <tr>\n",
       "      <th>575915</th>\n",
       "      <td>0</td>\n",
       "      <td>2326.28</td>\n",
       "      <td>10.0</td>\n",
       "      <td>1</td>\n",
       "      <td>65670.0</td>\n",
       "      <td>2462.056261</td>\n",
       "      <td>2075.583470</td>\n",
       "      <td>3108.454800</td>\n",
       "      <td>0</td>\n",
       "      <td>1</td>\n",
       "      <td>...</td>\n",
       "      <td>0</td>\n",
       "      <td>0</td>\n",
       "      <td>1</td>\n",
       "      <td>0</td>\n",
       "      <td>0</td>\n",
       "      <td>0</td>\n",
       "      <td>1</td>\n",
       "      <td>2326.28</td>\n",
       "      <td>1.0</td>\n",
       "      <td>1</td>\n",
       "    </tr>\n",
       "    <tr>\n",
       "      <th>575917</th>\n",
       "      <td>0</td>\n",
       "      <td>15007.96</td>\n",
       "      <td>13.0</td>\n",
       "      <td>1</td>\n",
       "      <td>156528.0</td>\n",
       "      <td>14881.988575</td>\n",
       "      <td>11528.804235</td>\n",
       "      <td>8294.507867</td>\n",
       "      <td>0</td>\n",
       "      <td>1</td>\n",
       "      <td>...</td>\n",
       "      <td>0</td>\n",
       "      <td>0</td>\n",
       "      <td>1</td>\n",
       "      <td>0</td>\n",
       "      <td>0</td>\n",
       "      <td>1</td>\n",
       "      <td>0</td>\n",
       "      <td>15007.96</td>\n",
       "      <td>1.0</td>\n",
       "      <td>1</td>\n",
       "    </tr>\n",
       "    <tr>\n",
       "      <th>575918</th>\n",
       "      <td>0</td>\n",
       "      <td>2331.16</td>\n",
       "      <td>15.0</td>\n",
       "      <td>1</td>\n",
       "      <td>108514.0</td>\n",
       "      <td>2134.562840</td>\n",
       "      <td>2458.185246</td>\n",
       "      <td>3725.138234</td>\n",
       "      <td>0</td>\n",
       "      <td>1</td>\n",
       "      <td>...</td>\n",
       "      <td>0</td>\n",
       "      <td>0</td>\n",
       "      <td>0</td>\n",
       "      <td>1</td>\n",
       "      <td>0</td>\n",
       "      <td>0</td>\n",
       "      <td>1</td>\n",
       "      <td>2331.16</td>\n",
       "      <td>1.0</td>\n",
       "      <td>1</td>\n",
       "    </tr>\n",
       "    <tr>\n",
       "      <th>575920</th>\n",
       "      <td>0</td>\n",
       "      <td>6007.08</td>\n",
       "      <td>18.0</td>\n",
       "      <td>2</td>\n",
       "      <td>270606.0</td>\n",
       "      <td>6286.888017</td>\n",
       "      <td>7776.225273</td>\n",
       "      <td>6776.217049</td>\n",
       "      <td>0</td>\n",
       "      <td>1</td>\n",
       "      <td>...</td>\n",
       "      <td>0</td>\n",
       "      <td>0</td>\n",
       "      <td>1</td>\n",
       "      <td>0</td>\n",
       "      <td>0</td>\n",
       "      <td>0</td>\n",
       "      <td>1</td>\n",
       "      <td>6007.08</td>\n",
       "      <td>1.0</td>\n",
       "      <td>1</td>\n",
       "    </tr>\n",
       "    <tr>\n",
       "      <th>575921</th>\n",
       "      <td>0</td>\n",
       "      <td>2694.67</td>\n",
       "      <td>10.0</td>\n",
       "      <td>1</td>\n",
       "      <td>149688.0</td>\n",
       "      <td>2090.248648</td>\n",
       "      <td>3615.594262</td>\n",
       "      <td>4240.620825</td>\n",
       "      <td>0</td>\n",
       "      <td>1</td>\n",
       "      <td>...</td>\n",
       "      <td>0</td>\n",
       "      <td>0</td>\n",
       "      <td>1</td>\n",
       "      <td>0</td>\n",
       "      <td>0</td>\n",
       "      <td>0</td>\n",
       "      <td>1</td>\n",
       "      <td>2694.67</td>\n",
       "      <td>1.0</td>\n",
       "      <td>1</td>\n",
       "    </tr>\n",
       "  </tbody>\n",
       "</table>\n",
       "<p>64070 rows × 42 columns</p>\n",
       "</div>"
      ],
      "text/plain": [
       "        ind_renovacao    premio  per_com  MD_tempo_casa_2  is_casco_ofer  \\\n",
       "8                   0   2487.76     14.0                3        49491.0   \n",
       "11                  0  11826.61     18.0                1       305168.0   \n",
       "12                  0   5098.39      2.0                1       115632.0   \n",
       "27                  0   3162.51      2.0                1        68281.0   \n",
       "46                  1   1670.24     16.0                5        40743.0   \n",
       "...               ...       ...      ...              ...            ...   \n",
       "575915              0   2326.28     10.0                1        65670.0   \n",
       "575917              0  15007.96     13.0                1       156528.0   \n",
       "575918              0   2331.16     15.0                1       108514.0   \n",
       "575920              0   6007.08     18.0                2       270606.0   \n",
       "575921              0   2694.67     10.0                1       149688.0   \n",
       "\n",
       "        Premio_IC_100  premio_anterior  GBM_mercado  canal_bin_Corretor_Mais  \\\n",
       "8         2569.894455      1426.222541  2600.715672                        0   \n",
       "11       11276.608968     12195.826776  8031.497770                        0   \n",
       "12        4363.048672      4703.393989  3825.580360                        0   \n",
       "27        2668.775192      2405.928415  2879.474068                        0   \n",
       "46        1465.592847      2371.632377  2444.952182                        0   \n",
       "...               ...              ...          ...                      ...   \n",
       "575915    2462.056261      2075.583470  3108.454800                        0   \n",
       "575917   14881.988575     11528.804235  8294.507867                        0   \n",
       "575918    2134.562840      2458.185246  3725.138234                        0   \n",
       "575920    6286.888017      7776.225273  6776.217049                        0   \n",
       "575921    2090.248648      3615.594262  4240.620825                        0   \n",
       "\n",
       "        canal_bin_Demais  ...  fx_ir_12m_bin_04_60_80  \\\n",
       "8                      1  ...                       0   \n",
       "11                     1  ...                       0   \n",
       "12                     1  ...                       0   \n",
       "27                     1  ...                       0   \n",
       "46                     1  ...                       0   \n",
       "...                  ...  ...                     ...   \n",
       "575915                 1  ...                       0   \n",
       "575917                 1  ...                       0   \n",
       "575918                 1  ...                       0   \n",
       "575920                 1  ...                       0   \n",
       "575921                 1  ...                       0   \n",
       "\n",
       "        fx_ir_12m_bin_05_80_100  MD_tipo_renov_bin_2_RenovPropria_sem_sin  \\\n",
       "8                             0                                         0   \n",
       "11                            0                                         1   \n",
       "12                            0                                         1   \n",
       "27                            0                                         1   \n",
       "46                            0                                         1   \n",
       "...                         ...                                       ...   \n",
       "575915                        0                                         1   \n",
       "575917                        0                                         1   \n",
       "575918                        0                                         0   \n",
       "575920                        0                                         1   \n",
       "575921                        0                                         1   \n",
       "\n",
       "        MD_tipo_renov_bin_3_RenovPropria_com_sin  \\\n",
       "8                                              1   \n",
       "11                                             0   \n",
       "12                                             0   \n",
       "27                                             0   \n",
       "46                                             0   \n",
       "...                                          ...   \n",
       "575915                                         0   \n",
       "575917                                         0   \n",
       "575918                                         1   \n",
       "575920                                         0   \n",
       "575921                                         0   \n",
       "\n",
       "        idade_ult_RNS_bin_01_05_anos  idade_ult_RNS_bin_06_inf  \\\n",
       "8                                  1                         0   \n",
       "11                                 0                         1   \n",
       "12                                 0                         1   \n",
       "27                                 1                         0   \n",
       "46                                 0                         0   \n",
       "...                              ...                       ...   \n",
       "575915                             0                         0   \n",
       "575917                             0                         1   \n",
       "575918                             0                         0   \n",
       "575920                             0                         0   \n",
       "575921                             0                         0   \n",
       "\n",
       "        idade_ult_RNS_bin_Sem_Sinistro    tarifa  numbers  X27  \n",
       "8                                    0   2487.76      1.0    1  \n",
       "11                                   0  11826.61      1.0    1  \n",
       "12                                   0   5098.39      1.0    1  \n",
       "27                                   0   3162.51      1.0    1  \n",
       "46                                   1   1670.24      1.0    1  \n",
       "...                                ...       ...      ...  ...  \n",
       "575915                               1   2326.28      1.0    1  \n",
       "575917                               0  15007.96      1.0    1  \n",
       "575918                               1   2331.16      1.0    1  \n",
       "575920                               1   6007.08      1.0    1  \n",
       "575921                               1   2694.67      1.0    1  \n",
       "\n",
       "[64070 rows x 42 columns]"
      ]
     },
     "execution_count": 114,
     "metadata": {},
     "output_type": "execute_result"
    }
   ],
   "source": [
    "df"
   ]
  },
  {
   "cell_type": "code",
   "execution_count": null,
   "id": "e2ecfd65",
   "metadata": {},
   "outputs": [],
   "source": []
  },
  {
   "cell_type": "code",
   "execution_count": 115,
   "id": "1414228b",
   "metadata": {},
   "outputs": [
    {
     "name": "stdout",
     "output_type": "stream",
     "text": [
      "Demanda (D): [0.19465364 0.2086642  0.14825357 ... 0.43359875 0.49695501 0.46909072]\n",
      "Derivada da Demanda em relação ao Preço (dD/dP): [-2.22773291e-04 -4.95793244e-05 -8.77693437e-05 ... -3.76587148e-04\n",
      " -1.48719220e-04 -3.30806207e-04]\n",
      "Elasticidade-Preço da Demanda (Ep): [-2.84714156 -2.81004279 -3.01835793 ... -2.02464814 -1.79768438\n",
      " -1.90030101]\n"
     ]
    }
   ],
   "source": [
    "import sympy as sp\n",
    "import numpy as np\n",
    "import pandas as pd\n",
    "\n",
    "# Definindo as variáveis simbólicas\n",
    "P, X1, X2, X3, X4, X5, X6, X7, X8, X9, X10, X11, X12, X13, X14, X15, X16, X17, X18, X19, X20, X21, X22, X23, X24, X25, X26 = sp.symbols('P X1 X2 X3 X4 X5 X6 X7 X8 X9 X10 X11 X12 X13 X14 X15 X16 X17 X18 X19 X20 X21 X22 X23 X24 X25 X26')\n",
    "\n",
    "# Definindo a função de demanda\n",
    "demanda = sp.exp(1.3356- 0.2576 * sp.log(P)+ 1.3647 * (P / X1)- 0.8782 * sp.log(P / X2)- 0.795 * sp.log(P / X3)- 1.6731 * sp.log(P / X4)+ 0.3797 * sp.log(X5 + 1)+ 0.0011 * X6+ 0.1253 * X7+ 0.1334 * X8- 0.1382 * X9+ 0.3919 * X10- 0.1397 * X11- 0.2305 * X12- 0.2832 * X13+ 0.0024 * X14- 0.1476 * X15+ 0.2817 * X16+ 0.3336 * X17- 0.4115 * X18+ 0.0127 * X19- 0.73 * X20+ 0.4343 * X21+ 1.1066 * X22+ 1.9561 * X23- 0.0742 * X24- 0.8459 * X25- 0.7094 * X26)/(1+sp.exp(1.3356- 0.2576 * sp.log(P)+ 1.3647 * (P / X1)- 0.8782 * sp.log(P / X2)- 0.795 * sp.log(P / X3)- 1.6731 * sp.log(P / X4)+ 0.3797 * sp.log(X5 + 1)+ 0.0011 * X6+ 0.1253 * X7+ 0.1334 * X8- 0.1382 * X9+ 0.3919 * X10- 0.1397 * X11- 0.2305 * X12- 0.2832 * X13+ 0.0024 * X14- 0.1476 * X15+ 0.2817 * X16+ 0.3336 * X17- 0.4115 * X18+ 0.0127 * X19- 0.73 * X20+ 0.4343 * X21+ 1.1066 * X22+ 1.9561 * X23- 0.0742 * X24- 0.8459 * X25- 0.7094 * X26))\n",
    "\n",
    "# Derivada da demanda em relação ao preço\n",
    "demanda_derivada_P = sp.diff(demanda, P)\n",
    "\n",
    "# Funções lambdify para avaliação numérica\n",
    "demanda_func = sp.lambdify((P, X1, X2, X3, X4, X5, X6, X7, X8, X9, X10, X11, X12, X13, X14, X15, X16, X17, X18, X19, X20, X21, X22, X23, X24, X25, X26), demanda, 'numpy')\n",
    "demanda_derivada_P_func = sp.lambdify((P, X1, X2, X3, X4, X5, X6, X7, X8, X9, X10, X11, X12, X13, X14, X15, X16, X17, X18, X19, X20, X21, X22, X23, X24, X25, X26), demanda_derivada_P, 'numpy')\n",
    "\n",
    "\n",
    "# Supondo que df é um DataFrame do pandas com os dados necessários\n",
    "#df = df_cat_glm\n",
    "\n",
    "# Extraindo os valores das variáveis\n",
    "lista_variaveis_na_ordem = ['is_casco_ofer','GBM_mercado','Premio_IC_100','premio_anterior','MD_tempo_casa_2','per_com','per_com_bin_p_1_10','canal_bin_Corretor_Mais','Cod_End_bin_13509','fator_ajuste_bin_f_101_120','classe_bonus_bin_00','UF_bin_AL_CE_RS','UF_bin_AP_DF_ES_PA_PB_RN_SC','UF_bin_GO_MA_MG','UF_bin_MT_PR','UF_bin_RJ','MD_comb_bin_Gasolina','md_tipo_renov_ant_bin_1_SeguroNovo','md_tipo_renov_ant_bin_3_RenovCongenere','fx_ir_12m_bin_01_00_20','fx_ir_12m_bin_03_40_60','fx_ir_12m_bin_04_60_80','fx_ir_12m_bin_05_80_100','MD_tipo_renov_bin_3_RenovPropria_com_sin','idade_ult_RNS_bin_01_05_anos','idade_ult_RNS_bin_06_inf']\n",
    "\n",
    "X_vals = np.array(df.loc[:, lista_variaveis_na_ordem])\n",
    "P_val = df['premio'].values\n",
    "\n",
    "# Calculando os valores de demanda e sua derivada\n",
    "D_val = demanda_func(P_val, *X_vals.T)\n",
    "dD_dP_val = demanda_derivada_P_func(P_val, *X_vals.T)\n",
    "\n",
    "# Calculando a elasticidade-preço da demanda\n",
    "elasticidade_preco = (dD_dP_val * P_val) / D_val\n",
    "\n",
    "# Exibindo os resultados\n",
    "print(\"Demanda (D):\", D_val)\n",
    "print(\"Derivada da Demanda em relação ao Preço (dD/dP):\", dD_dP_val)\n",
    "print(\"Elasticidade-Preço da Demanda (Ep):\", elasticidade_preco)"
   ]
  },
  {
   "cell_type": "code",
   "execution_count": 116,
   "id": "1e75b836",
   "metadata": {},
   "outputs": [
    {
     "data": {
      "text/plain": [
       "-1.7591950103137135"
      ]
     },
     "execution_count": 116,
     "metadata": {},
     "output_type": "execute_result"
    }
   ],
   "source": [
    "np.mean(elasticidade_preco)"
   ]
  },
  {
   "cell_type": "code",
   "execution_count": 117,
   "id": "7749774e",
   "metadata": {},
   "outputs": [
    {
     "data": {
      "text/plain": [
       "-0.030124737394791993"
      ]
     },
     "execution_count": 117,
     "metadata": {},
     "output_type": "execute_result"
    }
   ],
   "source": [
    "np.max(elasticidade_preco)"
   ]
  },
  {
   "cell_type": "code",
   "execution_count": 118,
   "id": "383ee63c",
   "metadata": {},
   "outputs": [
    {
     "data": {
      "text/plain": [
       "-3.4937747026576647"
      ]
     },
     "execution_count": 118,
     "metadata": {},
     "output_type": "execute_result"
    }
   ],
   "source": [
    "np.min(elasticidade_preco)"
   ]
  },
  {
   "cell_type": "code",
   "execution_count": 91,
   "id": "e20dba29",
   "metadata": {},
   "outputs": [],
   "source": []
  },
  {
   "cell_type": "code",
   "execution_count": 93,
   "id": "bfc9c772",
   "metadata": {},
   "outputs": [],
   "source": []
  },
  {
   "cell_type": "code",
   "execution_count": 94,
   "id": "4fda31cb",
   "metadata": {},
   "outputs": [],
   "source": []
  },
  {
   "cell_type": "code",
   "execution_count": 119,
   "id": "f8e5f0a1",
   "metadata": {},
   "outputs": [
    {
     "data": {
      "text/plain": [
       "1.0"
      ]
     },
     "execution_count": 119,
     "metadata": {},
     "output_type": "execute_result"
    }
   ],
   "source": [
    "df['X27'].mean()"
   ]
  },
  {
   "cell_type": "code",
   "execution_count": 98,
   "id": "1b66c930",
   "metadata": {},
   "outputs": [],
   "source": [
    "#df.loc[df['numbers'] > 1, '>1'] = 'True'\n",
    "#df.loc[df['numbers'] <=1 , '>1'] = 'False'\n",
    "#df"
   ]
  },
  {
   "cell_type": "code",
   "execution_count": 120,
   "id": "aaa04f55",
   "metadata": {},
   "outputs": [
    {
     "name": "stdout",
     "output_type": "stream",
     "text": [
      "Demanda (D): [0.23882781 0.26026918 0.17256294 ... 0.7374268  0.94158264 0.84633094]\n",
      "Derivada da Demanda em relação ao Preço (dD/dP): [-3.35357361e-04 -7.71347737e-05 -1.18912517e-04 ... -1.08924930e-03\n",
      " -5.33887608e-04 -1.07681329e-03]\n",
      "Elasticidade-Preço da Demanda (Ep): [-3.49326412 -3.50499769 -3.51328271 ... -3.44334436 -3.40607978\n",
      " -3.42851282]\n"
     ]
    }
   ],
   "source": [
    "import sympy as sp\n",
    "import numpy as np\n",
    "import pandas as pd\n",
    "\n",
    "# Definindo as variáveis simbólicas\n",
    "P, X1, X2, X3, X4, X5, X6, X7, X8, X9, X10, X11, X12, X13, X14, X15, X16, X17, X18, X19, X20, X21, X22, X23, X24, X25, X26, X27 = sp.symbols('P X1 X2 X3 X4 X5 X6 X7 X8 X9 X10 X11 X12 X13 X14 X15 X16 X17 X18 X19 X20 X21 X22 X23 X24 X25 X26 X27')\n",
    "\n",
    "# Definindo a função de demanda\n",
    "demanda = sp.exp(1.3356- 0.2576 * sp.log(P)+ 1.3647 * (P / X1)- 0.8782 * sp.log(P / X2)- 0.795 * sp.log(P / X3)- 1.6731 * sp.log(P / X4)+ 0.3797 * sp.log(X5 + 1)+ 0.0011 * X6+ 0.1253 * X7+ 0.1334 * X8- 0.1382 * X9+ 0.3919 * X10- 0.1397 * X11- 0.2305 * X12- 0.2832 * X13+ 0.0024 * X14- 0.1476 * X15+ 0.2817 * X16+ 0.3336 * X17- 0.4115 * X18+ 0.0127 * X19- 0.73 * X20+ 0.4343 * X21+ 1.1066 * X22+ 1.9561 * X23- 0.0742 * X24- 0.8459 * X25- 0.7094 * X26)/(1+sp.exp(1.3356- 0.2576 * sp.log(P)+ 1.3647 * (P / X1)- 0.8782 * sp.log(P / X2)- 0.795 * sp.log(P / X3)- 1.6731 * sp.log(P / X4)+ 0.3797 * sp.log(X5 + 1)+ 0.0011 * X6+ 0.1253 * X7+ 0.1334 * X8- 0.1382 * X9+ 0.3919 * X10- 0.1397 * X11- 0.2305 * X12- 0.2832 * X13+ 0.0024 * X14- 0.1476 * X15+ 0.2817 * X16+ 0.3336 * X17- 0.4115 * X18+ 0.0127 * X19- 0.73 * X20+ 0.4343 * X21+ 1.1066 * X22+ 1.9561 * X23- 0.0742 * X24- 0.8459 * X25- 0.7094 * X26 -3*X27))\n",
    "\n",
    "# Derivada da demanda em relação ao preço\n",
    "demanda_derivada_P = sp.diff(demanda, P)\n",
    "\n",
    "# Funções lambdify para avaliação numérica\n",
    "demanda_func = sp.lambdify((P, X1, X2, X3, X4, X5, X6, X7, X8, X9, X10, X11, X12, X13, X14, X15, X16, X17, X18, X19, X20, X21, X22, X23, X24, X25, X26,X27), demanda, 'numpy')\n",
    "demanda_derivada_P_func = sp.lambdify((P, X1, X2, X3, X4, X5, X6, X7, X8, X9, X10, X11, X12, X13, X14, X15, X16, X17, X18, X19, X20, X21, X22, X23, X24, X25, X26,X27), demanda_derivada_P, 'numpy')\n",
    "\n",
    "\n",
    "# Supondo que df é um DataFrame do pandas com os dados necessários\n",
    "df = df_cat_glm\n",
    "\n",
    "# Extraindo os valores das variáveis\n",
    "lista_variaveis_na_ordem = ['is_casco_ofer','GBM_mercado','Premio_IC_100','premio_anterior','MD_tempo_casa_2','per_com','per_com_bin_p_1_10','canal_bin_Corretor_Mais','Cod_End_bin_13509','fator_ajuste_bin_f_101_120','classe_bonus_bin_00','UF_bin_AL_CE_RS','UF_bin_AP_DF_ES_PA_PB_RN_SC','UF_bin_GO_MA_MG','UF_bin_MT_PR','UF_bin_RJ','MD_comb_bin_Gasolina','md_tipo_renov_ant_bin_1_SeguroNovo','md_tipo_renov_ant_bin_3_RenovCongenere','fx_ir_12m_bin_01_00_20','fx_ir_12m_bin_03_40_60','fx_ir_12m_bin_04_60_80','fx_ir_12m_bin_05_80_100','MD_tipo_renov_bin_3_RenovPropria_com_sin','idade_ult_RNS_bin_01_05_anos','idade_ult_RNS_bin_06_inf','X27']\n",
    "\n",
    "X_vals = np.array(df.loc[:, lista_variaveis_na_ordem])\n",
    "P_val = df['premio'].values\n",
    "\n",
    "# Calculando os valores de demanda e sua derivada\n",
    "D_val = demanda_func(P_val, *X_vals.T)\n",
    "dD_dP_val = demanda_derivada_P_func(P_val, *X_vals.T)\n",
    "\n",
    "# Calculando a elasticidade-preço da demanda\n",
    "elasticidade_preco = (dD_dP_val * P_val) / D_val\n",
    "\n",
    "# Exibindo os resultados\n",
    "print(\"Demanda (D):\", D_val)\n",
    "print(\"Derivada da Demanda em relação ao Preço (dD/dP):\", dD_dP_val)\n",
    "print(\"Elasticidade-Preço da Demanda (Ep):\", elasticidade_preco)"
   ]
  },
  {
   "cell_type": "code",
   "execution_count": 121,
   "id": "7820c63c",
   "metadata": {},
   "outputs": [
    {
     "data": {
      "text/plain": [
       "-3.229573645043233"
      ]
     },
     "execution_count": 121,
     "metadata": {},
     "output_type": "execute_result"
    }
   ],
   "source": [
    "np.mean(elasticidade_preco)"
   ]
  },
  {
   "cell_type": "code",
   "execution_count": 124,
   "id": "4df7ba68",
   "metadata": {},
   "outputs": [
    {
     "name": "stdout",
     "output_type": "stream",
     "text": [
      "          premio  pred_prob  elasticidade\n",
      "8        2487.76   0.194704     -0.220160\n",
      "11      11826.61   0.208735     -1.048174\n",
      "12       5098.39   0.148306     -0.451662\n",
      "27       3162.51   0.202198     -0.280018\n",
      "46       1670.24   0.806874     -0.147844\n",
      "...          ...        ...           ...\n",
      "575915   2326.28   0.445986     -0.205952\n",
      "575917  15007.96   0.056130     -1.330155\n",
      "575918   2331.16   0.433678     -0.206408\n",
      "575920   6007.08   0.497059     -0.532316\n",
      "575921   2694.67   0.469183     -0.238650\n",
      "\n",
      "[64070 rows x 3 columns]\n"
     ]
    }
   ],
   "source": [
    "# Obtenha os coeficientes relevantes\n",
    "df = df_cat_glm\n",
    "coef_log_premio = model_glm.params['np.log(premio)']\n",
    "coef_premio_is_casco_ofer = model_glm.params['np.divide(premio, is_casco_ofer)']\n",
    "coef_premio_GBM_mercado = model_glm.params['np.log(np.divide(premio, GBM_mercado))']\n",
    "coef_premio_Premio_IC_100 = model_glm.params['np.log(np.divide(premio, Premio_IC_100))']\n",
    "coef_premio_anterior = model_glm.params['np.log((np.divide(premio, premio_anterior)))']\n",
    "\n",
    "# Calcule a previsão do modelo\n",
    "df['pred_prob'] = model_glm.predict(df)\n",
    "\n",
    "# Calcule a elasticidade ajustada\n",
    "df['elasticidade'] = (\n",
    "    coef_log_premio * (df['premio'] +\n",
    "    coef_premio_is_casco_ofer * (df['premio'] / df['is_casco_ofer']) +\n",
    "    coef_premio_GBM_mercado * (df['premio'] / df['GBM_mercado']) +\n",
    "    coef_premio_Premio_IC_100 * (df['premio'] / df['Premio_IC_100']) +\n",
    "    coef_premio_anterior * (df['premio'] / df['premio_anterior']) )/np.mean(df['premio'])\n",
    ")\n",
    "\n",
    "print(df[['premio', 'pred_prob', 'elasticidade']])"
   ]
  },
  {
   "cell_type": "code",
   "execution_count": 125,
   "id": "d3e04f5c",
   "metadata": {},
   "outputs": [
    {
     "data": {
      "text/plain": [
       "-0.25726733452629835"
      ]
     },
     "execution_count": 125,
     "metadata": {},
     "output_type": "execute_result"
    }
   ],
   "source": [
    "df[\"elasticidade\"].mean()"
   ]
  },
  {
   "cell_type": "code",
   "execution_count": 61,
   "id": "7a71570f",
   "metadata": {},
   "outputs": [],
   "source": [
    "#print(dir(model_glm))"
   ]
  },
  {
   "cell_type": "code",
   "execution_count": 62,
   "id": "bc915f8e",
   "metadata": {},
   "outputs": [],
   "source": [
    "df_cat_glm[\"prob_est\"]=model_glm.predict(df_cat_glm)"
   ]
  },
  {
   "cell_type": "code",
   "execution_count": 63,
   "id": "0dc5d251",
   "metadata": {},
   "outputs": [
    {
     "data": {
      "text/plain": [
       "0.5029811144061183"
      ]
     },
     "execution_count": 63,
     "metadata": {},
     "output_type": "execute_result"
    }
   ],
   "source": [
    "df_cat_glm[\"prob_est\"].mean()"
   ]
  },
  {
   "cell_type": "markdown",
   "id": "808c929f",
   "metadata": {},
   "source": [
    "## Base Para escorar e otimizar"
   ]
  },
  {
   "cell_type": "code",
   "execution_count": 64,
   "id": "4db117b5",
   "metadata": {},
   "outputs": [],
   "source": [
    "#df_lote_092024 = pd.read_csv(\"C://Flavio/Projeto Otimizacao/Otimizacao/Table 7 Base Case Total  - teste novo.csv\","
   ]
  },
  {
   "cell_type": "code",
   "execution_count": 65,
   "id": "88741a08",
   "metadata": {},
   "outputs": [],
   "source": [
    "import pandas as pd\n",
    "import numpy as np"
   ]
  },
  {
   "cell_type": "code",
   "execution_count": 66,
   "id": "daae90ef",
   "metadata": {},
   "outputs": [],
   "source": [
    "df_lote_102024 = pd.read_csv(\"C://Flavio/Projeto Otimizacao/Otimizacao/Data Table - Otimizacao segmentacao 49.7.csv\",\n",
    "                     encoding='latin-1',\n",
    "                     delimiter='|')\n",
    "\n",
    "df_lote_102024['GBM_mercado']  = df_lote_102024['GBM_mercado']/(1-df_lote_102024['per_com']/100)"
   ]
  },
  {
   "cell_type": "code",
   "execution_count": 67,
   "id": "8e2e923b",
   "metadata": {},
   "outputs": [],
   "source": [
    "#df_lote_102024.columns.to_list()"
   ]
  },
  {
   "cell_type": "code",
   "execution_count": 68,
   "id": "60265ed3",
   "metadata": {},
   "outputs": [
    {
     "data": {
      "text/plain": [
       "0.49692578162505185"
      ]
     },
     "execution_count": 68,
     "metadata": {},
     "output_type": "execute_result"
    }
   ],
   "source": [
    "np.mean(df_lote_102024['Renewal Demand'])"
   ]
  },
  {
   "cell_type": "code",
   "execution_count": 69,
   "id": "2a009f78",
   "metadata": {},
   "outputs": [
    {
     "data": {
      "text/plain": [
       "0.4969852338386432"
      ]
     },
     "execution_count": 69,
     "metadata": {},
     "output_type": "execute_result"
    }
   ],
   "source": [
    "np.mean(df_lote_102024['Demanda_basecase'])"
   ]
  },
  {
   "cell_type": "code",
   "execution_count": 70,
   "id": "1cb3a37a",
   "metadata": {},
   "outputs": [],
   "source": [
    "#df_lote_102024.groupby(['Amostra_2'])['Premio_oferecido_com_batente','Premium Parameter','Mercado_Mediana','GBM_mercado',\"Renewal Demand\"].describe().T"
   ]
  },
  {
   "cell_type": "code",
   "execution_count": 71,
   "id": "403e8ca1",
   "metadata": {},
   "outputs": [],
   "source": [
    "#df_lote_092024.columns.to_list()"
   ]
  },
  {
   "cell_type": "code",
   "execution_count": 72,
   "id": "451a4bb1",
   "metadata": {},
   "outputs": [],
   "source": [
    "df_lote_escorar=df_lote_102024.copy()"
   ]
  },
  {
   "cell_type": "code",
   "execution_count": 73,
   "id": "f211fcfc",
   "metadata": {},
   "outputs": [],
   "source": [
    "df_lote_escorar[\"premio\"] = df_lote_escorar[\"Premio_oferecido_com_batente\"]"
   ]
  },
  {
   "cell_type": "code",
   "execution_count": 74,
   "id": "6a23c83a",
   "metadata": {},
   "outputs": [],
   "source": [
    "df_lote_escorar.rename(columns={'Pr_anterior_TI':'premio_anterior', \n",
    "                                   'cod_end': 'Cod_End',\n",
    "                                   'md_capac': 'MD_capac',\n",
    "                                   'Classe_bonus':'classe_bonus',\n",
    "                                   'fator_ajuste': 'MD_fator_ajuste'},inplace=True)"
   ]
  },
  {
   "cell_type": "code",
   "execution_count": 75,
   "id": "0edd9824",
   "metadata": {},
   "outputs": [],
   "source": [
    "df_lote = categorizar(df_lote_escorar)"
   ]
  },
  {
   "cell_type": "code",
   "execution_count": 76,
   "id": "8ad2c6be",
   "metadata": {},
   "outputs": [
    {
     "data": {
      "text/plain": [
       "(1459, 145)"
      ]
     },
     "execution_count": 76,
     "metadata": {},
     "output_type": "execute_result"
    }
   ],
   "source": [
    "df_lote.shape"
   ]
  },
  {
   "cell_type": "code",
   "execution_count": 77,
   "id": "1d892d4f",
   "metadata": {},
   "outputs": [],
   "source": [
    "df_cat = df_lote[['canal_bin', 'Cod_End_bin', 'fator_ajuste_bin', 'per_com_bin', 'classe_bonus_bin', 'UF_bin', 'MD_comb_bin', 'md_tipo_renov_ant_bin', 'fx_ir_12m_bin', 'MD_tipo_renov_bin','idade_ult_RNS_bin']]\n",
    "df_cat_glm=pd.get_dummies(df_cat)\n",
    "df_lote=pd.concat([df_lote,df_cat_glm],axis=1)"
   ]
  },
  {
   "cell_type": "code",
   "execution_count": 78,
   "id": "672a71b3",
   "metadata": {},
   "outputs": [],
   "source": [
    "#df_cat_glm2.columns.to_list()"
   ]
  },
  {
   "cell_type": "code",
   "execution_count": 79,
   "id": "08a08bf1",
   "metadata": {},
   "outputs": [],
   "source": [
    "df_lote = df_lote\n",
    "#df_lote = df\n",
    "#df_lote = df.query('chave == 695900014103100001')\n",
    "P2=(df_lote['premio'])\n",
    "X1=np.array(df_lote['is_casco_ofer'])\n",
    "X2=np.array(df_lote['GBM_mercado'])\n",
    "X3=np.array(df_lote['Premio_IC_100'])\n",
    "X4=np.array(df_lote['premio_anterior'])\n",
    "X5=np.array(df_lote['MD_tempo_casa_2'])\n",
    "X6=np.array(df_lote['per_com'])\n",
    "X7=np.array(df_lote['per_com_bin_p_1_10'])\n",
    "X8=np.array(df_lote['canal_bin_Corretor_Mais'])\n",
    "X9=np.array(df_lote['Cod_End_bin_13509'])\n",
    "X10=np.array(df_lote['fator_ajuste_bin_f_101_120'])\n",
    "X11=np.array(df_lote['classe_bonus_bin_00'])\n",
    "X12=np.array(df_lote['UF_bin_AL_CE_RS'])\n",
    "X13=np.array(df_lote['UF_bin_AP_DF_ES_PA_PB_RN_SC'])\n",
    "X14=np.array(df_lote['UF_bin_GO_MA_MG'])\n",
    "X15=np.array(df_lote['UF_bin_MT_PR'])\n",
    "X16=np.array(df_lote['UF_bin_RJ'])\n",
    "X17=np.array(df_lote['MD_comb_bin_Gasolina'])\n",
    "X18=np.array(df_lote['md_tipo_renov_ant_bin_1_SeguroNovo'])\n",
    "X19=np.array(df_lote['md_tipo_renov_ant_bin_3_RenovCongenere'])\n",
    "X20=np.array(df_lote['fx_ir_12m_bin_01_00_20'])\n",
    "X21=np.array(df_lote['fx_ir_12m_bin_03_40_60'])\n",
    "X22=np.array(df_lote['fx_ir_12m_bin_04_60_80'])\n",
    "X23=np.array(df_lote['fx_ir_12m_bin_05_80_100'])\n",
    "X24=np.array(df_lote['MD_tipo_renov_bin_3_RenovPropria_com_sin'])\n",
    "X25=np.array(df_lote['idade_ult_RNS_bin_01_05_anos'])\n",
    "X26=np.array(df_lote['idade_ult_RNS_bin_06_inf'])\n",
    "\n",
    "def demanda(P2,X1,X2,X3,X4,X5,X6,X7,X8,X9,X10,X11,X12,X13,X14,X15,X16,X17,X18,X19,X20,X21,X22,X23,X24,X25,X26):\n",
    "    D=np.exp(1.3356 -0.2576 * np.log(P2)  + 1.3647 * np.divide(P2, X1)-0.8782 * np.log(np.divide(P2, X2))-0.795 * np.log(np.divide(P2, X3))-1.6731 * np.log((np.divide(P2, X4)))  + 0.3797 * np.log(X5 + 1)  + 0.0011 * X6  + 0.1253 * X7  + 0.1334 * X8-0.1382 * X9  + 0.3919 * X10-0.1397 * X11-0.2305 * X12-0.2832 * X13  + 0.0024 * X14-0.1476 * X15  + 0.2817 * X16  + 0.3336 * X17-0.4115 * X18  + 0.0127 * X19-0.73 * X20  + 0.4343 * X21  + 1.1066 * X22  + 1.9561 * X23-0.0742 * X24 -0.84590*X25- 0.7094 * X26)\n",
    "    return D/(1+D)\n",
    "\n"
   ]
  },
  {
   "cell_type": "code",
   "execution_count": 80,
   "id": "3a7f6f2c",
   "metadata": {},
   "outputs": [],
   "source": [
    "df_lote[\"Demanda_base\"]=demanda(P2,X1,X2,X3,X4,X5,X6,X7,X8,X9,X10,X11,X12,X13,X14,X15,X16,X17,X18,X19,X20,X21,X22,X23,X24,X25,X26)\n",
    "df_lote[\"per_com_pct\"] = df_lote['per_com']/100\n",
    "df_lote[\"premio_prob\"] = df_lote[\"Demanda_base\"]*df_lote[\"premio\"]\n",
    "df_lote[\"premio_anterior_prob\"] = df_lote[\"Demanda_base\"]*df_lote[\"premio_anterior\"]\n",
    "df_lote[\"Act_cost_prob\"] = df_lote[\"Demanda_base\"]*df_lote[\"Act_cost\"]                                                                \n",
    "df_lote[\"comissao_valor\"] = df_lote[\"per_com_pct\"] *df_lote[\"premio\"]\n",
    "df_lote[\"comissao_valor_prob\"] = df_lote[\"per_com_pct\"] *df_lote[\"premio_prob\"]\n"
   ]
  },
  {
   "cell_type": "code",
   "execution_count": 81,
   "id": "a6513ef3",
   "metadata": {},
   "outputs": [
    {
     "data": {
      "text/plain": [
       "(1459, 183)"
      ]
     },
     "execution_count": 81,
     "metadata": {},
     "output_type": "execute_result"
    }
   ],
   "source": [
    "df_lote.shape"
   ]
  },
  {
   "cell_type": "code",
   "execution_count": 82,
   "id": "1cda92b8",
   "metadata": {},
   "outputs": [
    {
     "data": {
      "text/plain": [
       "0.5073676747519267"
      ]
     },
     "execution_count": 82,
     "metadata": {},
     "output_type": "execute_result"
    }
   ],
   "source": [
    "np.mean(df_lote['Demanda_base'])"
   ]
  },
  {
   "cell_type": "code",
   "execution_count": 83,
   "id": "5e5b4e41",
   "metadata": {},
   "outputs": [],
   "source": [
    "#df_lote.groupby([\"Amostra\"])[\"prob_est\" , \"Renewal Demand\"].describe().T"
   ]
  },
  {
   "cell_type": "code",
   "execution_count": 84,
   "id": "6f9a5da6",
   "metadata": {},
   "outputs": [
    {
     "name": "stdout",
     "output_type": "stream",
     "text": [
      "Apolices Ofertadas: 1459\n",
      "Apolices Renovadas: 740.0\n",
      "premio_ofertado: 2993.3\n",
      "retencao_estimada : 50.74\n",
      "premio_esperado\" : 2388.44\n",
      "risco_ofertado\" : 1726.89\n",
      "risco_esperado\" : 1347.66\n",
      "sp_ofertado\" : 57.69\n",
      "sp_esperado\" : 56.42\n",
      "ic_ofertado\" : 100.78\n",
      "ic_esperado\" : 99.58\n",
      "premio_anterior: 2863.09\n",
      "premio_anterior_w: 2634.39\n"
     ]
    }
   ],
   "source": [
    "apolice_ofertada  = np.round(df_lote.shape[0],0)\n",
    "apolice_estimada  = np.round(np.sum(df_lote[\"Demanda_base\"]),0)\n",
    "premio_ofertado   = np.mean(df_lote[\"premio\"])\n",
    "retencao_estimada = np.mean(df_lote[\"Demanda_base\"])\n",
    "premio_esperado   = np.sum(df_lote[\"premio_prob\"])/np.sum(df_lote[\"Demanda_base\"])\n",
    "risco_ofertado    = np.mean(df_lote[\"Act_cost\"])\n",
    "risco_esperado    = np.sum(df_lote[\"Act_cost_prob\"])/np.sum(df_lote[\"Demanda_base\"])\n",
    "sp_ofertado       = np.sum(df_lote[\"Act_cost\"])/np.sum(df_lote[\"premio\"])\n",
    "sp_esperado       = np.sum(df_lote[\"Act_cost_prob\"])/np.sum(df_lote[\"premio_prob\"])\n",
    "comis_ofertado    = np.sum(df_lote[\"comissao_valor\"])/np.sum(df_lote[\"premio\"])\n",
    "comis_esperado    = np.sum(df_lote[\"comissao_valor_prob\"])/np.sum(df_lote[\"premio_prob\"])\n",
    "\n",
    "premio_anterior   = np.mean(df_lote[\"premio_anterior\"])\n",
    "premio_anterior_w   = np.sum(df_lote[\"premio_anterior_prob\"])/np.sum(df_lote[\"Demanda_base\"])\n",
    "\n",
    "ic_ofertado       =  sp_ofertado  +  comis_ofertado + 0.2749\n",
    "ic_esperado       =  sp_esperado  +  comis_esperado + 0.2749\n",
    "print('Apolices Ofertadas: %s' % apolice_ofertada)\n",
    "print('Apolices Renovadas: %s' % apolice_estimada)\n",
    "print('premio_ofertado: %s' % np.round(premio_ofertado,2))\n",
    "print('retencao_estimada : %s' % np.round(retencao_estimada*100,2))\n",
    "print('premio_esperado\" : %s'  %np.round( premio_esperado,2))\n",
    "print('risco_ofertado\" : %s'  %  np.round(risco_ofertado,2))\n",
    "print('risco_esperado\" : %s'  %  np.round(risco_esperado,2))\n",
    "print('sp_ofertado\" : %s'  % np.round(sp_ofertado*100,2))\n",
    "print('sp_esperado\" : %s'  % np.round(sp_esperado*100,2))\n",
    "print('ic_ofertado\" : %s'  % np.round(ic_ofertado*100,2))\n",
    "print('ic_esperado\" : %s'  % np.round(ic_esperado*100,2))\n",
    "print('premio_anterior: %s' % np.round(premio_anterior,2))\n",
    "print('premio_anterior_w: %s' % np.round(premio_anterior_w,2))\n"
   ]
  },
  {
   "cell_type": "markdown",
   "id": "a34b6c2a",
   "metadata": {},
   "source": [
    "## Otimização Teste "
   ]
  },
  {
   "cell_type": "code",
   "execution_count": 85,
   "id": "4101922e",
   "metadata": {},
   "outputs": [],
   "source": [
    "#print(df_lote_otim['elasticidade'].value_counts(ascending=False))"
   ]
  },
  {
   "cell_type": "code",
   "execution_count": 86,
   "id": "de7683ff",
   "metadata": {
    "scrolled": true
   },
   "outputs": [
    {
     "data": {
      "text/plain": [
       "(1459, 183)"
      ]
     },
     "execution_count": 86,
     "metadata": {},
     "output_type": "execute_result"
    }
   ],
   "source": [
    "#df_lote_otim=df_mod.copy()\n",
    "df_lote_otim_atu = df_lote.query('Amostra_2 == \"Segmentacao\"')\n",
    "df_lote_otim_atu.shape"
   ]
  },
  {
   "cell_type": "code",
   "execution_count": 87,
   "id": "17825e07",
   "metadata": {},
   "outputs": [],
   "source": [
    "#df_lote_otim_atu.groupby([\"Amostra\"])[\"Demanda_base\"].describe().T"
   ]
  },
  {
   "cell_type": "code",
   "execution_count": 88,
   "id": "691bcaa0",
   "metadata": {},
   "outputs": [
    {
     "data": {
      "text/plain": [
       "(1459, 183)"
      ]
     },
     "execution_count": 88,
     "metadata": {},
     "output_type": "execute_result"
    }
   ],
   "source": [
    "df_lote_otim = df_lote_otim_atu\n",
    "df_lote_otim.shape"
   ]
  },
  {
   "cell_type": "code",
   "execution_count": 89,
   "id": "47305a72",
   "metadata": {},
   "outputs": [
    {
     "name": "stdout",
     "output_type": "stream",
     "text": [
      "0.4969852338386432\n",
      "0.49692578162505185\n",
      "0.5073676747519267\n"
     ]
    }
   ],
   "source": [
    "print(np.mean(df_lote_otim['Demanda_basecase'])),\n",
    "print(np.mean(df_lote_otim['Renewal Demand'])),\n",
    "print(np.mean(df_lote_otim['Demanda_base']))"
   ]
  },
  {
   "cell_type": "markdown",
   "id": "bc7f4798",
   "metadata": {},
   "source": [
    "#########################################"
   ]
  },
  {
   "cell_type": "code",
   "execution_count": 90,
   "id": "1f7d361c",
   "metadata": {},
   "outputs": [
    {
     "name": "stdout",
     "output_type": "stream",
     "text": [
      "Apolices Ofertadas: 1459\n",
      "Apolices Renovadas: 740.0\n",
      "premio_ofertado: 2993.3\n",
      "retencao_estimada : 50.74\n",
      "premio_esperado\" : 2388.44\n",
      "risco_ofertado\" : 1726.89\n",
      "risco_esperado\" : 1347.66\n",
      "comis_ofertado\" : 15.59\n",
      "comis_esperado\" : 15.66\n",
      "sp_ofertado\" : 57.69\n",
      "sp_esperado\" : 56.42\n",
      "ic_ofertado\" : 100.78\n",
      "ic_esperado\" : 99.58\n",
      "premio_anterior_ofer\" : 2863.09\n",
      "premio_anterior_w\" : 2634.39\n"
     ]
    }
   ],
   "source": [
    "df_relatorio_bc = df_lote_otim.copy()\n",
    "\n",
    "df_relatorio_bc[\"per_com_pct\"] = df_relatorio_bc['per_com']/100\n",
    "df_relatorio_bc[\"premio_prob\"] = df_relatorio_bc[\"Demanda_base\"]*df_relatorio_bc[\"premio\"]\n",
    "df_relatorio_bc[\"premio_anterior_prob\"] = df_relatorio_bc[\"Demanda_base\"]*df_relatorio_bc[\"premio_anterior\"]\n",
    "df_relatorio_bc[\"Act_cost_prob\"] = df_relatorio_bc[\"Demanda_base\"]*df_relatorio_bc[\"Act_cost\"]                                                                \n",
    "df_relatorio_bc[\"comissao_valor\"] = df_relatorio_bc[\"per_com_pct\"] *df_relatorio_bc[\"premio\"]\n",
    "df_relatorio_bc[\"comissao_valor_prob\"] = df_relatorio_bc[\"per_com_pct\"] *df_relatorio_bc[\"premio_prob\"]\n",
    "\n",
    "apolice_ofertada  = np.round(df_relatorio_bc.shape[0],0)\n",
    "apolice_estimada  = np.round(np.sum(df_relatorio_bc[\"Demanda_base\"]),0)\n",
    "premio_ofertado   = np.mean(df_relatorio_bc[\"premio\"])\n",
    "retencao_estimada = np.mean(df_relatorio_bc[\"Demanda_base\"])\n",
    "premio_esperado   = np.sum(df_relatorio_bc[\"premio_prob\"])/np.sum(df_relatorio_bc[\"Demanda_base\"])\n",
    "risco_ofertado    = np.mean(df_relatorio_bc[\"Act_cost\"])\n",
    "risco_esperado    = np.sum(df_relatorio_bc[\"Act_cost_prob\"])/np.sum(df_relatorio_bc[\"Demanda_base\"])\n",
    "sp_ofertado       = np.sum(df_relatorio_bc[\"Act_cost\"])/np.sum(df_relatorio_bc[\"premio\"])\n",
    "sp_esperado       = np.sum(df_relatorio_bc[\"Act_cost_prob\"])/np.sum(df_relatorio_bc[\"premio_prob\"])\n",
    "comis_ofertado    = np.sum(df_relatorio_bc[\"comissao_valor\"])/np.sum(df_relatorio_bc[\"premio\"])\n",
    "comis_esperado    = np.sum(df_relatorio_bc[\"comissao_valor_prob\"])/np.sum(df_relatorio_bc[\"premio_prob\"])\n",
    "ic_ofertado       =  sp_ofertado  +  comis_ofertado + 0.2749\n",
    "ic_esperado       =  sp_esperado  +  comis_esperado + 0.2749\n",
    "\n",
    "\n",
    "premio_anterior_ofer    = np.mean(df_relatorio_bc[\"premio_anterior\"])\n",
    "premio_anterior_w   = np.sum(df_relatorio_bc[\"premio_anterior_prob\"])/np.sum(df_relatorio_bc[\"Demanda_base\"])\n",
    "\n",
    "print('Apolices Ofertadas: %s' % apolice_ofertada)\n",
    "print('Apolices Renovadas: %s' % apolice_estimada)\n",
    "print('premio_ofertado: %s' % np.round(premio_ofertado,2))\n",
    "print('retencao_estimada : %s' % np.round(retencao_estimada*100,2))\n",
    "print('premio_esperado\" : %s'  %np.round( premio_esperado,2))\n",
    "print('risco_ofertado\" : %s'  %  np.round(risco_ofertado,2))\n",
    "print('risco_esperado\" : %s'  %  np.round(risco_esperado,2))\n",
    "\n",
    "print('comis_ofertado\" : %s'  % np.round(comis_ofertado*100,2))\n",
    "print('comis_esperado\" : %s'  % np.round(comis_esperado*100,2))\n",
    "\n",
    "print('sp_ofertado\" : %s'  % np.round(sp_ofertado*100,2))\n",
    "print('sp_esperado\" : %s'  % np.round(sp_esperado*100,2))\n",
    "print('ic_ofertado\" : %s'  % np.round(ic_ofertado*100,2))\n",
    "print('ic_esperado\" : %s'  % np.round(ic_esperado*100,2))\n",
    "\n",
    "print('premio_anterior_ofer\" : %s'  %np.round( premio_anterior_ofer,2))\n",
    "print('premio_anterior_w\" : %s'  %np.round( premio_anterior_w,2))"
   ]
  },
  {
   "cell_type": "code",
   "execution_count": 91,
   "id": "15e39932",
   "metadata": {},
   "outputs": [],
   "source": [
    "#df2 = df[['premio','is_casco_ofer','Cod_End_bin_Demais','Act_cost']]"
   ]
  },
  {
   "cell_type": "code",
   "execution_count": 92,
   "id": "605c3b84",
   "metadata": {},
   "outputs": [],
   "source": [
    "#df2.to_excel(r'analise_teste.xlsx',  header='true')"
   ]
  },
  {
   "cell_type": "code",
   "execution_count": 93,
   "id": "a9dd7163",
   "metadata": {},
   "outputs": [],
   "source": [
    "#v2=np.mean(df2['is_casco_ofer'])\n",
    "#indicadora = np.array(df2['Cod_End_bin_Demais']) \n",
    "#precos_iniciais = np.array(df2['premio']) "
   ]
  },
  {
   "cell_type": "code",
   "execution_count": 94,
   "id": "f38bed03",
   "metadata": {},
   "outputs": [],
   "source": [
    "#[x for x in df.columns if \"com_bin\" in x]"
   ]
  },
  {
   "cell_type": "code",
   "execution_count": null,
   "id": "6406c5bc",
   "metadata": {},
   "outputs": [],
   "source": [
    "df[\"IC_ofer_python0\"] = df[\"per_com_pct\"] + df[\"Act_cost\"]/df[\"premio\"] +  0.2749\n",
    "\n",
    "for index, row in df.iterrows():\n",
    "    if row['IC_ofer_python0']   <= 0.8:\n",
    "        df.at[index, 'fat_ajuste_otim0'] = 0.95\n",
    "    elif row['IC_ofer_python0']   <= 0.95:\n",
    "        df.at[index, 'fat_ajuste_otim0'] = 0.92        \n",
    "    elif row['IC_ofer_python0']   <= 0.99:\n",
    "        df.at[index, 'fat_ajuste_otim0'] = 0.99\n",
    "\n",
    "    elif row['IC_ofer_python0']   >= 1.01:\n",
    "        df.at[index, 'fat_ajuste_otim0'] = 1.02\n",
    "    elif row['IC_ofer_python0']   >= 1.03:\n",
    "        df.at[index, 'fat_ajuste_otim0'] = 1.04\n",
    "    else:\n",
    "        df.at[index, 'fat_ajuste_otim0'] = 1.0\n",
    "    "
   ]
  },
  {
   "cell_type": "code",
   "execution_count": 95,
   "id": "eab41b1e",
   "metadata": {},
   "outputs": [
    {
     "name": "stdout",
     "output_type": "stream",
     "text": [
      "Optimization terminated successfully.\n",
      "Tamanho da Base: 1459\n",
      "CPU times: total: 1min 10s\n",
      "Wall time: 1min 24s\n"
     ]
    }
   ],
   "source": [
    "%%time\n",
    "######\n",
    "import sympy as sp\n",
    "from scipy.optimize import fsolve\n",
    "\n",
    "df = df_lote_otim\n",
    "\n",
    "target_demand=0.525\n",
    "\n",
    "fator_retencao = np.mean(df['Demanda_base'])/target_demand\n",
    "\n",
    "df['fator_retencao']=fator_retencao\n",
    "\n",
    "\n",
    "def calcular_retencao(P,X1,X2,X3,X4,X5,X6,X7,X8,X9,X10,X11,X12,X13,X14,X15,X16,X17,X18,X19,X20,X21,X22,X23,X24,X25,X26):\n",
    "    D=np.exp(1.3356 -0.2576 * np.log(P)  + 1.3647 * np.divide(P, X1)-0.8782 * np.log(np.divide(P, X2))-0.795 * np.log(np.divide(P, X3))-1.6731 * np.log((np.divide(P, X4)))  + 0.3797 * np.log(X5 + 1)  + 0.0011 * X6  + 0.1253 * X7  + 0.1334 * X8-0.1382 * X9  + 0.3919 * X10-0.1397 * X11-0.2305 * X12-0.2832 * X13  + 0.0024 * X14-0.1476 * X15  + 0.2817 * X16  + 0.3336 * X17-0.4115 * X18  + 0.0127 * X19-0.73 * X20  + 0.4343 * X21  + 1.1066 * X22  + 1.9561 * X23-0.0742 * X24 -0.84590*X25- 0.7094 * X26)\n",
    "    return D/(1+D)\n",
    "\n",
    "\n",
    "# Definir a função objetivo que maximiza a margem esperada otimizada \n",
    "def objetivo(P):\n",
    "    \n",
    "    #df['precos']= P *df[\"fat_ajuste_otim0\"] \n",
    "    df['precos']= P *1.16\n",
    "    \n",
    "    \n",
    "    # Calcular a retenção otimizada com os preços dados\n",
    "    df['retencao_otimizada1'] = calcular_retencao(P,X1,X2,X3,X4,X5,X6,X7,X8,X9,X10,X11,X12,X13,X14,X15,X16,X17,X18,X19,X20,X21,X22,X23,X24,X25,X26)\n",
    "    \n",
    "    # Calcular a margem esperada\n",
    "    df['margem_esperada_otimizada'] =   df['retencao_otimizada1']*(df['precos'] - df['Act_cost'] - df['per_com']/100 - 0.2749*df['precos'])\n",
    "    \n",
    "  \n",
    "    margem_esperada_total = df['margem_esperada_otimizada'].sum() \n",
    "\n",
    "    # Maximizar a margem \n",
    "    return -margem_esperada_total\n",
    "\n",
    "# Definir os limites para os preços otimizado\n",
    "nome_variaveis = ['LB','UB']\n",
    "limites=np.array(df.loc[:,nome_variaveis])\n",
    "\n",
    "# Executar a otimização \n",
    "resultado = differential_evolution(objetivo, bounds=limites, strategy='best1bin', maxiter=3000, popsize=12,seed=df.shape[0])\n",
    "\n",
    "# Resultados\n",
    "print(resultado.message) \n",
    "print(\"Tamanho da Base:\", df.shape[0])\n",
    "precos_otimizados = resultado.x\n",
    "margem_esperada_total_otimizada = -resultado.fun\n"
   ]
  },
  {
   "cell_type": "code",
   "execution_count": 96,
   "id": "51bcd270",
   "metadata": {},
   "outputs": [
    {
     "name": "stdout",
     "output_type": "stream",
     "text": [
      "3658.5962946161403\n",
      "3009.1527695587147\n",
      "498203.81187089736\n"
     ]
    }
   ],
   "source": [
    "print(df['precos'].mean()),\n",
    "print(np.mean(precos_otimizados)),\n",
    "print(np.mean(-resultado.fun))"
   ]
  },
  {
   "cell_type": "code",
   "execution_count": null,
   "id": "ce082262",
   "metadata": {},
   "outputs": [],
   "source": [
    "#df3.to_csv(r'df3_avalia_prem.csv', sep='|' ,header='true')"
   ]
  },
  {
   "cell_type": "code",
   "execution_count": 97,
   "id": "666e75e3",
   "metadata": {},
   "outputs": [
    {
     "name": "stdout",
     "output_type": "stream",
     "text": [
      "Margem Esperada Total Base Case: 770432.568237982\n",
      "Margem Esperada Total Otimizada: 498203.81187089736\n",
      "Retenção Média Base Case: 0.5073676747519267\n",
      "Retenção Média Otimizada: 0.5026309974805719\n",
      "Premio Medio Otimizado: 3009.1527695587147\n",
      "Premio Medio Base Case: 2993.303855515689\n",
      "Elasticidade: -1.6389693210790068\n",
      "Elasticidade2: -1.6428786657757861\n"
     ]
    }
   ],
   "source": [
    "\n",
    "df['batente_otim_min']=0.9\n",
    "df['batente_otim_max']=1.1\n",
    "df['batente_otim_prem_ant_min']=0.5\n",
    "df['batente_otim_prem_ant_max']=1.8\n",
    "\n",
    " \n",
    "df['precos_otimizados'] = precos_otimizados\n",
    "\n",
    "\n",
    "df['retencao_otimizada'] = calcular_retencao(df['precos_otimizados'],X1,X2,X3,X4,X5,X6,X7,X8,X9,X10,X11,X12,X13,X14,X15,X16,X17,X18,X19,X20,X21,X22,X23,X24,X25,X26)\n",
    "\n",
    "df['margem_esperada_base_case'] = df['Demanda_base']*(df['premio']-df['Act_cost'])\n",
    "\n",
    "margem_esperada_total_base_case=df['margem_esperada_base_case'].sum()\n",
    "\n",
    "\n",
    "df['fat_teste0']= df['precos_otimizados']/df['premio']\n",
    "df['fat_teste1']=df['precos_otimizados']/df['premio']-1 \n",
    "\n",
    "fat_teste0= df['fat_teste0'].values\n",
    "fat_teste1= df['fat_teste1'].values\n",
    "\n",
    "if (fat_teste0 > 1).any() ==True:\n",
    "    fat_teste = fat_teste1\n",
    "else:\n",
    "    fat_teste=0\n",
    "    \n",
    "df['fat_teste'] =  fat_teste\n",
    "    \n",
    "    \n",
    "delta_q = (df['retencao_otimizada']-df['Demanda_base'])\n",
    "delta_p = (df['precos_otimizados']-df['premio'])\n",
    "   \n",
    "delta_q_b = ((df['retencao_otimizada']+df['Demanda_base'])/2)\n",
    "delta_p_b = ((df['precos_otimizados']+df['premio'])/2)\n",
    "\n",
    "df[\"elasticidade\"] = (delta_q/delta_p)*(delta_p_b/delta_q_b)\n",
    "df[\"elasticidade_2\"] = (df['retencao_otimizada']/df['Demanda_base']-1)/(df['precos_otimizados']/df['premio']-1)  \n",
    "\n",
    "df[\"elasticidade\"] = df[\"elasticidade\"].fillna(-1)\n",
    "df[\"elasticidade_2\"] = df[\"elasticidade_2\"].fillna(-1)\n",
    "\n",
    "df['elasticidade_bin'] = pd.cut(x=df['elasticidade'], bins=[-3.5,-2.5,-2,-1.5,-1,0])  \n",
    "\n",
    "df.replace([np.inf, -np.inf], -1, inplace=True)\n",
    "\n",
    "\n",
    "\n",
    "df[\"SP_ofer_python\"] = df[\"Act_cost\"]/df[\"precos_otimizados\"]\n",
    "df[\"IC_ofer_python\"] = df[\"per_com_pct\"] + df[\"SP_ofer_python\"] +  0.2749\n",
    "df[\"SP_ofer_eranix\"] = df[\"Act_cost\"]/df[\"Premium Parameter\"]\n",
    "df[\"IC_ofer_eranix\"] = df[\"SP_ofer_eranix\"] + df[\"per_com_pct\"]+  0.2749\n",
    "df[\"varia_prem_anterior_py\"] = df[\"precos_otimizados\"]/df[\"premio_anterior\"]\n",
    "df[\"varia_prem_anterior_earnix\"] = df[\"Premium Parameter\"]/df[\"premio_anterior\"]\n",
    "df[\"varia_prem_ofer_py\"] = df[\"precos_otimizados\"]/df[\"premio\"]\n",
    "df[\"varia_prem_ofer_earnix\"] = df[\"Premium Parameter\"]/df[\"premio\"]\n",
    "df[\"varia_prem_py_earnix\"] = df[\"precos_otimizados\"]/df[\"Premium Parameter\"]\n",
    "\n",
    "\n",
    "df['IC_ofer_python_bin'] = pd.cut(x=df['IC_ofer_python'], bins=[0.7,0.95,0.99,1,1.03,1.9])  \n",
    "df['IC_ofer_eranix'] = pd.cut(x=df['IC_ofer_eranix'], bins=[0.7,0.95,0.99,1,1.03,1.9]) \n",
    "\n",
    "df['fat_ajuste_otim'] = 1.0  \n",
    "\n",
    "for index, row in df.iterrows():\n",
    "    if row['IC_ofer_python'] <= 0.95:\n",
    "        if row['elasticidade']   <= -2.5:\n",
    "            df.at[index, 'fat_ajuste_otim'] = 0.88\n",
    "        elif row['elasticidade'] <= -2.0:\n",
    "            df.at[index, 'fat_ajuste_otim'] = 0.995\n",
    "        elif row['elasticidade'] <= -1.5:\n",
    "            df.at[index, 'fat_ajuste_otim'] = 0.995\n",
    "        elif row['elasticidade'] <= -1:\n",
    "            df.at[index, 'fat_ajuste_otim'] = 0.97\n",
    "        elif row['elasticidade'] <= 0:\n",
    "            df.at[index, 'fat_ajuste_otim'] = 1.015\n",
    "            \n",
    "    elif row['IC_ofer_python']<= 0.99:\n",
    "        if row['elasticidade']   <= -2.5:\n",
    "            df.at[index, 'fat_ajuste_otim'] = 1\n",
    "        elif row['elasticidade'] <= -2.0:\n",
    "            df.at[index, 'fat_ajuste_otim'] = 1\n",
    "        elif row['elasticidade'] <= -1.5:\n",
    "            df.at[index, 'fat_ajuste_otim'] = 1\n",
    "        elif row['elasticidade'] <= -1:\n",
    "            df.at[index, 'fat_ajuste_otim'] = 0.99\n",
    "        elif row['elasticidade'] <= 0:\n",
    "            df.at[index, 'fat_ajuste_otim'] = 0.96\n",
    "            \n",
    "             \n",
    "    elif row['IC_ofer_python']<= 1:\n",
    "        if row['elasticidade']   <= -2.5:\n",
    "            df.at[index, 'fat_ajuste_otim'] = 1\n",
    "        elif row['elasticidade'] <= -2.0:\n",
    "            df.at[index, 'fat_ajuste_otim'] = 1\n",
    "        elif row['elasticidade'] <= -1.5:\n",
    "            df.at[index, 'fat_ajuste_otim'] = 1\n",
    "        elif row['elasticidade'] <= -1:\n",
    "            df.at[index, 'fat_ajuste_otim'] = 1\n",
    "        elif row['elasticidade'] <= 0:\n",
    "            df.at[index, 'fat_ajuste_otim'] = 1      \n",
    "            \n",
    "            \n",
    "            \n",
    "    elif row['IC_ofer_python']<= 1.03:\n",
    "        if row['elasticidade'] <= -2.5:\n",
    "            df.at[index, 'fat_ajuste_otim'] = 1\n",
    "        elif row['elasticidade'] <= -2.0:\n",
    "            df.at[index, 'fat_ajuste_otim'] = 1\n",
    "        elif row['elasticidade'] <= -1.5:\n",
    "            df.at[index, 'fat_ajuste_otim'] = 1\n",
    "        elif row['elasticidade'] <= -1:\n",
    "            df.at[index, 'fat_ajuste_otim'] = 1\n",
    "        elif row['elasticidade'] <= 0:\n",
    "            df.at[index, 'fat_ajuste_otim'] = 1            \n",
    "            \n",
    "    elif row['IC_ofer_python']<= 3:\n",
    "        if row['elasticidade'] <= -2.5:\n",
    "            df.at[index, 'fat_ajuste_otim'] = 1\n",
    "        elif row['elasticidade'] <= -2.0:\n",
    "            df.at[index, 'fat_ajuste_otim'] = 1\n",
    "        elif row['elasticidade'] <= -1.5:\n",
    "            df.at[index, 'fat_ajuste_otim'] = 1\n",
    "        elif row['elasticidade'] <= -1:\n",
    "            df.at[index, 'fat_ajuste_otim'] = 1\n",
    "        elif row['elasticidade'] <= 0:\n",
    "            df.at[index, 'fat_ajuste_otim'] = 1.02\n",
    "            \n",
    "            \n",
    "#df['fat_ajuste_otim']=fat_ajuste_otim\n",
    "\n",
    "# Exibir os resultados\n",
    "print(\"Margem Esperada Total Base Case:\", margem_esperada_total_base_case) \n",
    "print(\"Margem Esperada Total Otimizada:\", margem_esperada_total_otimizada) \n",
    "print(\"Retenção Média Base Case:\", df['Demanda_base'].mean())\n",
    "print(\"Retenção Média Otimizada:\", df['retencao_otimizada'].mean())\n",
    "print(\"Premio Medio Otimizado:\", df['precos_otimizados'].mean())\n",
    "print(\"Premio Medio Base Case:\", df['premio'].mean())\n",
    "print(\"Elasticidade:\", df['elasticidade'].mean())\n",
    "print(\"Elasticidade2:\", df['elasticidade_2'].mean())"
   ]
  },
  {
   "cell_type": "code",
   "execution_count": null,
   "id": "087adc80",
   "metadata": {},
   "outputs": [],
   "source": [
    "df['Demanda_base']"
   ]
  },
  {
   "cell_type": "code",
   "execution_count": null,
   "id": "e1c2be42",
   "metadata": {},
   "outputs": [],
   "source": [
    "df['precos_otimizados'].mean()"
   ]
  },
  {
   "cell_type": "code",
   "execution_count": null,
   "id": "89f4e8af",
   "metadata": {},
   "outputs": [],
   "source": [
    "#df['margem_esperada_base_case'] = df['Demanda_base']*(df['premio']-df['Act_cost'])"
   ]
  },
  {
   "cell_type": "code",
   "execution_count": null,
   "id": "aa99af07",
   "metadata": {},
   "outputs": [],
   "source": [
    "df['fat_teste3']=df['fat_teste2']+df['elasticidade']"
   ]
  },
  {
   "cell_type": "code",
   "execution_count": null,
   "id": "062052f0",
   "metadata": {},
   "outputs": [],
   "source": [
    "df['fat_teste3'].mean()"
   ]
  },
  {
   "cell_type": "code",
   "execution_count": null,
   "id": "630da7d6",
   "metadata": {},
   "outputs": [],
   "source": [
    "print(df['IC_ofer_python_bin'].value_counts(ascending=False))"
   ]
  },
  {
   "cell_type": "code",
   "execution_count": null,
   "id": "9f10db14",
   "metadata": {},
   "outputs": [],
   "source": [
    "df_t = df.query('chave == 288900056083100001')\n",
    "df_t[[\"premio_anterior\",'elasticidade','elasticidade_bin',\"premio\",\"precos_otimizados\",\"Premium Parameter\",\"LB\",\"UB\",\"varia_prem_anterior_py\",\"varia_prem_ofer_py\"]]"
   ]
  },
  {
   "cell_type": "code",
   "execution_count": null,
   "id": "e637767e",
   "metadata": {},
   "outputs": [],
   "source": [
    "#df[['IC_ofer_python','fat_ajuste_otim',\"Demanda_base\",\"retencao_otimizada\",\"elasticidade\",\"premio_anterior\",\"premio\",\"precos_otimizados\",\"Premium Parameter\"]]"
   ]
  },
  {
   "cell_type": "code",
   "execution_count": null,
   "id": "93c0ffcf",
   "metadata": {},
   "outputs": [],
   "source": [
    "df['fat_teste'].describe()"
   ]
  },
  {
   "cell_type": "code",
   "execution_count": null,
   "id": "09df0994",
   "metadata": {},
   "outputs": [],
   "source": [
    "print(df['IC_ofer_eranix'].value_counts(ascending=False))"
   ]
  },
  {
   "cell_type": "code",
   "execution_count": null,
   "id": "26d2686b",
   "metadata": {},
   "outputs": [],
   "source": [
    "df['elasticidade_bin'].unique()"
   ]
  },
  {
   "cell_type": "code",
   "execution_count": null,
   "id": "cca4fccb",
   "metadata": {},
   "outputs": [],
   "source": [
    "df.groupby([\"elasticidade_bin\"])[\"retencao_otimizada\",\"precos_otimizados\"].describe().T"
   ]
  },
  {
   "cell_type": "code",
   "execution_count": null,
   "id": "2ac157eb",
   "metadata": {},
   "outputs": [],
   "source": [
    "df_ver.loc[1440:1459,[\"fat_teste0\",\"fat_teste1\",\"fat_teste\",'retencao_otimizada','Demanda_base','precos_otimizados','premio','elasticidade']]"
   ]
  },
  {
   "cell_type": "code",
   "execution_count": null,
   "id": "0bdecdfb",
   "metadata": {},
   "outputs": [],
   "source": [
    "(df['retencao_otimizada']/df['Demanda_base']-1) /(df['precos_otimizados']/df['premio']-1)"
   ]
  },
  {
   "cell_type": "code",
   "execution_count": null,
   "id": "c932a70c",
   "metadata": {},
   "outputs": [],
   "source": [
    "df[[\"precos_otimizados\",\"premio\"]].describe().T"
   ]
  },
  {
   "cell_type": "code",
   "execution_count": null,
   "id": "1d0f24ac",
   "metadata": {},
   "outputs": [],
   "source": [
    "df[[\"varia_prem_anterior\",\"varia_prem_ofer\",\"varia_prem_anterior_earnix\",\"varia_prem_ofer_earnix\"]].describe().T"
   ]
  },
  {
   "cell_type": "code",
   "execution_count": null,
   "id": "65497149",
   "metadata": {},
   "outputs": [],
   "source": [
    "#ver = df.query('varia_prem_ofer >= 1.1')\n",
    "#ver"
   ]
  },
  {
   "cell_type": "code",
   "execution_count": null,
   "id": "fa51229a",
   "metadata": {},
   "outputs": [],
   "source": [
    "#df_lote_otim_atu.groupby([\"Amostra\"])[\"Demanda_base\"].describe().T"
   ]
  },
  {
   "cell_type": "code",
   "execution_count": null,
   "id": "95693b3f",
   "metadata": {},
   "outputs": [],
   "source": [
    "ver[[\"premio_anterior\",\"premio\",\"precos_otimizados\",\"Premium Parameter\",\"LB\",\"UB\",\"varia_prem_anterior\",\"varia_prem_ofer\"]]"
   ]
  },
  {
   "cell_type": "code",
   "execution_count": null,
   "id": "a8ea8e4a",
   "metadata": {},
   "outputs": [],
   "source": [
    "#data =df[[\"IC_ofer_python\",\"elasticidade\"]]\n"
   ]
  },
  {
   "cell_type": "code",
   "execution_count": null,
   "id": "f38ec9fe",
   "metadata": {},
   "outputs": [],
   "source": [
    "#df[['premio','retencao_base_esperado','preco_otimizado','retencao_otimizada']]"
   ]
  },
  {
   "cell_type": "code",
   "execution_count": null,
   "id": "a7ac6a29",
   "metadata": {},
   "outputs": [],
   "source": [
    "#df#.to_csv(r'C:/Users/vcatelan/Documents/Scripts/dftocsv2.csv', sep='|', encoding='utf-8', header='true')\n",
    "#df.to_excel(r'df.xlsx', sep='|', encoding='utf-8', header='true')"
   ]
  },
  {
   "cell_type": "code",
   "execution_count": null,
   "id": "46aaae8c",
   "metadata": {},
   "outputs": [],
   "source": [
    " df['retencao_otimizada'].mean()"
   ]
  },
  {
   "cell_type": "markdown",
   "id": "11fa579c",
   "metadata": {},
   "source": [
    "#criando a função"
   ]
  },
  {
   "cell_type": "code",
   "execution_count": 98,
   "id": "d04c3892",
   "metadata": {
    "scrolled": true
   },
   "outputs": [
    {
     "name": "stdout",
     "output_type": "stream",
     "text": [
      "Apolices Ofertadas: 1459\n",
      "Apolices Renovadas: 738.0\n",
      "premio_ofertado: 2994.92\n",
      "retencao_estimada : 50.58\n",
      "premio_esperado\" : 2399.01\n",
      "risco_ofertado\" : 1726.89\n",
      "risco_esperado\" : 1350.42\n",
      "comis_ofertado\" : 15.59\n",
      "comis_esperado\" : 15.67\n",
      "sp_ofertado\" : 57.66\n",
      "sp_esperado\" : 56.29\n",
      "ic_ofertado\" : 100.74\n",
      "ic_esperado\" : 99.45\n",
      "premio_anterior_ofer\" : 2863.09\n",
      "premio_anterior_w\" : 2626.48\n"
     ]
    }
   ],
   "source": [
    "df_relatorio_otim = df.copy()\n",
    "\n",
    "#df_relatorio_otim['precos_otimizados'] = df_relatorio_otim['precos_otimizados']*1\n",
    "df_relatorio_otim['precos_otimizados'] = df_relatorio_otim['precos_otimizados']*df['fat_ajuste_otim']\n",
    "#df_relatorio_otim['precos_otimizados'] = df_relatorio_otim['precos_otimizados']*df_relatorio_otim['fator_retencao']*df['fat_ajuste_otim']\n",
    "\n",
    "\n",
    "df_relatorio_otim['batente_otim']=np.round(df_relatorio_otim['precos_otimizados']/df_relatorio_otim['premio'],2)\n",
    "df_relatorio_otim['batente_otim_prem_ant']=np.round(df_relatorio_otim['precos_otimizados']/df_relatorio_otim['premio_anterior'],2)\n",
    "\n",
    "df_relatorio_otim['retencao_otimizada'] = calcular_retencao(df_relatorio_otim['precos_otimizados'],X1,X2,X3,X4,X5,X6,X7,X8,X9,X10,X11,X12,X13,X14,X15,X16,X17,X18,X19,X20,X21,X22,X23,X24,X25,X26)\n",
    "\n",
    "\n",
    "df_relatorio_otim[\"per_com_pct\"] = df_relatorio_otim['per_com']/100\n",
    "df_relatorio_otim[\"premio_prob\"] = df_relatorio_otim[\"retencao_otimizada\"]*df_relatorio_otim[\"precos_otimizados\"]\n",
    "df_relatorio_otim[\"Act_cost_prob\"] = df_relatorio_otim[\"retencao_otimizada\"]*df_relatorio_otim[\"Act_cost\"]                                                                \n",
    "df_relatorio_otim[\"comissao_valor\"] = df_relatorio_otim[\"per_com_pct\"] *df_relatorio_otim[\"precos_otimizados\"]\n",
    "df_relatorio_otim[\"comissao_valor_prob\"] = df_relatorio_otim[\"per_com_pct\"]*df_relatorio_otim[\"premio_prob\"]\n",
    "\n",
    "df_relatorio_otim[\"premio_anterior_prob\"] = df_relatorio_otim[\"retencao_otimizada\"]*df_relatorio_otim[\"premio_anterior\"]\n",
    "\n",
    "comis_ofertado    = np.sum(df_relatorio_otim[\"comissao_valor\"])/np.sum(df_relatorio_otim[\"precos_otimizados\"])\n",
    "comis_esperado    = np.sum(df_relatorio_otim[\"comissao_valor_prob\"])/np.sum(df_relatorio_otim[\"premio_prob\"])\n",
    "\n",
    "premio_anterior_ofer    = np.mean(df_relatorio_otim[\"premio_anterior\"])\n",
    "premio_anterior_w   = np.sum(df_relatorio_otim[\"premio_anterior_prob\"])/np.sum(df_relatorio_otim[\"retencao_otimizada\"])\n",
    "\n",
    "df_relatorio_otim['var_prem_earnix_py'] = df_relatorio_otim['Premium Parameter']/df_relatorio_otim['precos_otimizados']\n",
    "\n",
    "df_relatorio_otim['comis_valor_py'] = df_relatorio_otim[\"per_com_pct\"]*df_relatorio_otim['precos_otimizados'] \n",
    "df_relatorio_otim['comis_valor_earnix'] =df_relatorio_otim[\"per_com_pct\"]*df_relatorio_otim['Premium Parameter'] \n",
    "df_relatorio_otim['DA_Ofer'] = 0.2749\n",
    "\n",
    "\n",
    "apolice_ofertada  = np.round(df_relatorio_otim.shape[0],0)\n",
    "apolice_estimada  = np.round(np.sum(df_relatorio_otim[\"retencao_otimizada\"]),0)\n",
    "premio_ofertado   = np.mean(df_relatorio_otim[\"precos_otimizados\"])\n",
    "retencao_estimada = np.mean(df_relatorio_otim[\"retencao_otimizada\"])\n",
    "premio_esperado   = np.sum(df_relatorio_otim[\"premio_prob\"])/np.sum(df_relatorio_otim[\"retencao_otimizada\"])\n",
    "risco_ofertado    = np.mean(df_relatorio_otim[\"Act_cost\"])\n",
    "risco_esperado    = np.sum(df_relatorio_otim[\"Act_cost_prob\"])/np.sum(df_relatorio_otim[\"retencao_otimizada\"])\n",
    "sp_ofertado       = np.sum(df_relatorio_otim[\"Act_cost\"])/np.sum(df_relatorio_otim[\"precos_otimizados\"])\n",
    "sp_esperado       = np.sum(df_relatorio_otim[\"Act_cost_prob\"])/np.sum(df_relatorio_otim[\"premio_prob\"])\n",
    "comis_ofertado    = np.sum(df_relatorio_otim[\"comissao_valor\"])/np.sum(df_relatorio_otim[\"precos_otimizados\"])\n",
    "comis_esperado    = np.sum(df_relatorio_otim[\"comissao_valor_prob\"])/np.sum(df_relatorio_otim[\"premio_prob\"])\n",
    "ic_ofertado       =  sp_ofertado  +  comis_ofertado + 0.2749\n",
    "ic_esperado       =  sp_esperado  +  comis_esperado + 0.2749\n",
    "\n",
    "\n",
    "print('Apolices Ofertadas: %s' % apolice_ofertada)\n",
    "print('Apolices Renovadas: %s' % apolice_estimada)\n",
    "print('premio_ofertado: %s' % np.round(premio_ofertado,2))\n",
    "print('retencao_estimada : %s' % np.round(retencao_estimada*100,2))\n",
    "print('premio_esperado\" : %s'  %np.round( premio_esperado,2))\n",
    "print('risco_ofertado\" : %s'  %  np.round(risco_ofertado,2))\n",
    "print('risco_esperado\" : %s'  %  np.round(risco_esperado,2))\n",
    "\n",
    "print('comis_ofertado\" : %s'  % np.round(comis_ofertado*100,2))\n",
    "print('comis_esperado\" : %s'  % np.round(comis_esperado*100,2))\n",
    "\n",
    "print('sp_ofertado\" : %s'  % np.round(sp_ofertado*100,2))\n",
    "print('sp_esperado\" : %s'  % np.round(sp_esperado*100,2))\n",
    "print('ic_ofertado\" : %s'  % np.round(ic_ofertado*100,2))\n",
    "print('ic_esperado\" : %s'  % np.round(ic_esperado*100,2))\n",
    "\n",
    "print('premio_anterior_ofer\" : %s'  %np.round( premio_anterior_ofer,2))\n",
    "print('premio_anterior_w\" : %s'  %np.round( premio_anterior_w,2))"
   ]
  },
  {
   "cell_type": "code",
   "execution_count": null,
   "id": "587247ea",
   "metadata": {},
   "outputs": [],
   "source": [
    "df_relatorio_otim['precos_otimizados'].mean()"
   ]
  },
  {
   "cell_type": "code",
   "execution_count": null,
   "id": "baa18be9",
   "metadata": {},
   "outputs": [],
   "source": [
    "df_relatorio_otim['batente_otim_prem_ant'].describe()"
   ]
  },
  {
   "cell_type": "code",
   "execution_count": null,
   "id": "9e658d65",
   "metadata": {},
   "outputs": [],
   "source": [
    "df_relatorio_otim['batente_otim'].describe()"
   ]
  },
  {
   "cell_type": "code",
   "execution_count": null,
   "id": "9a577709",
   "metadata": {},
   "outputs": [],
   "source": [
    "df_relatorio_otim['var_prem_earnix_py'].describe()"
   ]
  },
  {
   "cell_type": "code",
   "execution_count": null,
   "id": "50be3807",
   "metadata": {},
   "outputs": [],
   "source": [
    "df_t = df_relatorio_otim.query('chave == 288900056083100001')\n",
    "df_t[[\"premio_anterior\",'elasticidade','elasticidade_bin',\"premio\",\"precos_otimizados\",\"Premium Parameter\",\"LB\",\"UB\",\"varia_prem_anterior_py\",\"varia_prem_ofer_py\"]]"
   ]
  },
  {
   "cell_type": "code",
   "execution_count": null,
   "id": "bc5e4627",
   "metadata": {},
   "outputs": [],
   "source": [
    "df_export_analise_2 =df_relatorio_otim[[\"chave\",'IC_ofer_eranix','IC_ofer_python_bin','elasticidade','elasticidade_bin',\"Renovacao_ant\",\"flag_idade_ult_rns\",'comis_valor_py','comis_valor_earnix','DA_Ofer',\"Act_cost\",\"TARIFA\",\"premio_anterior\",\"per_com_pct\",\"precos_otimizados\",\"Premium Parameter\",\"varia_prem_py_earnix\",\"Demanda_base\",\"retencao_otimizada\",'Demanda_basecase',\"Renewal Demand\",\"IC_ofer_python\",\"IC_ofer_eranix\",\"varia_prem_anterior_py\",\"varia_prem_ofer_py\",\"varia_prem_anterior_earnix\",\"varia_prem_ofer_earnix\",\"SP_ofer_python\",\"SP_ofer_eranix\"]]\n",
    "#df_export_analise_2.columns.to_list()"
   ]
  },
  {
   "cell_type": "code",
   "execution_count": null,
   "id": "5e0cfade",
   "metadata": {},
   "outputs": [],
   "source": [
    "df_t = df_export_analise_2.query('chave == 288900056083100001')\n",
    "df_t[[\"premio_anterior\",'elasticidade','elasticidade_bin',\"precos_otimizados\",\"Premium Parameter\",\"varia_prem_anterior_py\",\"varia_prem_ofer_py\"]]"
   ]
  },
  {
   "cell_type": "code",
   "execution_count": null,
   "id": "ad32b8be",
   "metadata": {},
   "outputs": [],
   "source": [
    "df_export_analise_2.groupby([\"elasticidade_bin\"])[\"retencao_otimizada\",\"precos_otimizados\"].describe().T"
   ]
  },
  {
   "cell_type": "code",
   "execution_count": null,
   "id": "1d6701b6",
   "metadata": {},
   "outputs": [],
   "source": [
    "df_export_analise_2.to_csv(r'df_export_analise_3m.csv', sep='|' ,header='true')"
   ]
  },
  {
   "cell_type": "code",
   "execution_count": null,
   "id": "c7c849bd",
   "metadata": {},
   "outputs": [],
   "source": [
    "df.to_csv(r'analitico_202410_v1.csv', sep='|' ,header='true')"
   ]
  },
  {
   "cell_type": "code",
   "execution_count": null,
   "id": "a5e872d6",
   "metadata": {},
   "outputs": [],
   "source": [
    "df_relatorio_otim[['Demanda_base','retencao_otimizada','premio','preco_otimizado']]\n",
    ", sep='|', encoding='utf-8', header='true'"
   ]
  },
  {
   "cell_type": "code",
   "execution_count": null,
   "id": "fb3191b0",
   "metadata": {},
   "outputs": [],
   "source": [
    "prices_df = pd.DataFrame({\n",
    "    'chave': df_relatorio[\"chave\"],\n",
    "    'Act_cost':  df_relatorio[\"Act_cost\"],\n",
    "    'Premio ofertado com batente':  df_relatorio[\"Premio_oferecido_com_batente\"],\n",
    "    'Optimized Prices': df_relatorio[\"premio\"],\n",
    "    'lb_bound' : [b[0] for b in bounds],\n",
    "    'up_bound' : [b[1] for b in bounds],\n",
    "    'prob_est':         df_relatorio[\"prob_est\"],\n",
    "    'renewal demand':df_relatorio[\"demanda otimizada\"],\n",
    "    'variação':df_relatorio[\"premio\"]/df_relatorio[\"Premio_oferecido_com_batente\"]\n",
    "})\n",
    "prices_df.head(20)"
   ]
  },
  {
   "cell_type": "code",
   "execution_count": null,
   "id": "08b83503",
   "metadata": {},
   "outputs": [],
   "source": []
  },
  {
   "cell_type": "code",
   "execution_count": null,
   "id": "bf781707",
   "metadata": {},
   "outputs": [],
   "source": []
  },
  {
   "cell_type": "code",
   "execution_count": null,
   "id": "9e4c93d9",
   "metadata": {},
   "outputs": [],
   "source": []
  },
  {
   "cell_type": "code",
   "execution_count": null,
   "id": "1cc5192c",
   "metadata": {},
   "outputs": [],
   "source": []
  },
  {
   "cell_type": "code",
   "execution_count": null,
   "id": "05ba91e8",
   "metadata": {},
   "outputs": [],
   "source": []
  },
  {
   "cell_type": "code",
   "execution_count": null,
   "id": "7d0f35b0",
   "metadata": {},
   "outputs": [],
   "source": []
  },
  {
   "cell_type": "code",
   "execution_count": 100,
   "id": "7abc3747",
   "metadata": {},
   "outputs": [],
   "source": [
    "df_teste = df"
   ]
  },
  {
   "cell_type": "code",
   "execution_count": 101,
   "id": "066bbb55",
   "metadata": {},
   "outputs": [],
   "source": [
    "delta_q = (df_teste['retencao_otimizada']-df_teste['Demanda_base'])\n",
    "delta_p = (df_teste['precos_otimizados']-df_teste['premio'])\n",
    "   \n",
    "delta_q_b = ((df_teste['retencao_otimizada']+df_teste['Demanda_base'])/2)\n",
    "delta_p_b = ((df_teste['precos_otimizados']+df_teste['premio'])/2)\n",
    "\n",
    "df_teste[\"elasticidade\"] = (delta_q/delta_p)*(delta_p_b/delta_q_b)\n",
    "df_teste[\"elasticidade_2\"] = (df_teste['retencao_otimizada']/df_teste['Demanda_base']-1)/(df_teste['precos_otimizados']/df_teste['premio']-1)\n",
    "\n",
    "df_teste.replace([np.inf, -np.inf], -1, inplace=True)\n",
    "    \n",
    "df_teste['elasticidade_bin'] = pd.cut(x=df_teste['elasticidade'], bins=[-3.5,-2.5,-2,-1.5,-1,0])  \n",
    "\n",
    "\n",
    "df_teste[\"SP_ofer_python\"] = df_teste[\"Act_cost\"]/df_teste[\"precos_otimizados\"]\n",
    "df_teste[\"IC_ofer_python\"] = df_teste[\"per_com_pct\"]+ df_teste[\"SP_ofer_python\"] +  0.2749\n",
    "df_teste[\"SP_ofer_eranix\"] = df_teste[\"Act_cost\"]/df_teste[\"Premium Parameter\"]\n",
    "df_teste[\"IC_ofer_eranix\"] = df_teste[\"SP_ofer_eranix\"] + df_teste[\"per_com_pct\"]+  0.2749\n",
    "df_teste[\"varia_prem_anterior_py\"] = df_teste[\"precos_otimizados\"]/df_teste[\"premio_anterior\"]\n",
    "df_teste[\"varia_prem_anterior_earnix\"] = df_teste[\"Premium Parameter\"]/df_teste[\"premio_anterior\"]\n",
    "df_teste[\"varia_prem_ofer_py\"] = df_teste[\"precos_otimizados\"]/df_teste[\"premio\"]\n",
    "df_teste[\"varia_prem_ofer_earnix\"] = df_teste[\"Premium Parameter\"]/df_teste[\"premio\"]\n",
    "df_teste[\"varia_prem_py_earnix\"] = df_teste[\"precos_otimizados\"]/df_teste[\"Premium Parameter\"]\n",
    "\n",
    "df_teste['IC_ofer_python_bin'] = pd.cut(x=df_teste['IC_ofer_python'], bins=[0.7,0.95,0.99,1,1.03,1.9])  \n",
    "df_teste['IC_ofer_eranix'] = pd.cut(x=df_teste['IC_ofer_eranix'], bins=[0.7,0.95,0.99,1,1.03,1.9]) \n"
   ]
  },
  {
   "cell_type": "code",
   "execution_count": 102,
   "id": "90cfeee1",
   "metadata": {},
   "outputs": [],
   "source": [
    "df['fat_ajuste_otim'] = 1.0  \n",
    "\n",
    "for index, row in df.iterrows():\n",
    "    if row['IC_ofer_python'] <= 0.95:\n",
    "        if row['elasticidade']   <= -2.5:\n",
    "            df.at[index, 'fat_ajuste_otim'] = 0.96\n",
    "        elif row['elasticidade'] <= -2.0:\n",
    "            df.at[index, 'fat_ajuste_otim'] = 0.96\n",
    "        elif row['elasticidade'] <= -1.5:\n",
    "            df.at[index, 'fat_ajuste_otim'] = 0.975\n",
    "        elif row['elasticidade'] <= -1:\n",
    "            df.at[index, 'fat_ajuste_otim'] = 0.98\n",
    "        elif row['elasticidade'] <= 0:\n",
    "            df.at[index, 'fat_ajuste_otim'] = 0.97\n",
    "            \n",
    "    elif row['IC_ofer_python']<= 0.99:\n",
    "        if row['elasticidade']   <= -2.5:\n",
    "            df.at[index, 'fat_ajuste_otim'] = 0.976\n",
    "        elif row['elasticidade'] <= -2.0:\n",
    "            df.at[index, 'fat_ajuste_otim'] = 0.975\n",
    "        elif row['elasticidade'] <= -1.5:\n",
    "            df.at[index, 'fat_ajuste_otim'] = 0.975\n",
    "        elif row['elasticidade'] <= -1:\n",
    "            df.at[index, 'fat_ajuste_otim'] = 0.975\n",
    "        elif row['elasticidade'] <= 0:\n",
    "            df.at[index, 'fat_ajuste_otim'] = 0.972\n",
    "            \n",
    "             \n",
    "    elif row['IC_ofer_python']<= 1:\n",
    "        if row['elasticidade']   <= -2.5:\n",
    "            df.at[index, 'fat_ajuste_otim'] = 0.991\n",
    "        elif row['elasticidade'] <= -2.0:\n",
    "            df.at[index, 'fat_ajuste_otim'] = 0.994\n",
    "        elif row['elasticidade'] <= -1.5:\n",
    "            df.at[index, 'fat_ajuste_otim'] = 0.995\n",
    "        elif row['elasticidade'] <= -1:\n",
    "            df.at[index, 'fat_ajuste_otim'] = 0.995\n",
    "        elif row['elasticidade'] <= 0:\n",
    "            df.at[index, 'fat_ajuste_otim'] = 0.999           \n",
    "            \n",
    "            \n",
    "            \n",
    "    elif row['IC_ofer_python']<= 1.03:\n",
    "        if row['elasticidade'] <= -2.5:\n",
    "            df.at[index, 'fat_ajuste_otim'] = 1.014\n",
    "        elif row['elasticidade'] <= -2.0:\n",
    "            df.at[index, 'fat_ajuste_otim'] = 1.016\n",
    "        elif row['elasticidade'] <= -1.5:\n",
    "            df.at[index, 'fat_ajuste_otim'] = 1.013\n",
    "        elif row['elasticidade'] <= -1:\n",
    "            df.at[index, 'fat_ajuste_otim'] = 1.015\n",
    "        elif row['elasticidade'] <= 0:\n",
    "            df.at[index, 'fat_ajuste_otim'] = 1.018              \n",
    "            \n",
    "    elif row['IC_ofer_python']<= 3:\n",
    "        if row['elasticidade'] <= -2.5:\n",
    "            df.at[index, 'fat_ajuste_otim'] = 1.026\n",
    "        elif row['elasticidade'] <= -2.0:\n",
    "            df.at[index, 'fat_ajuste_otim'] = 1.026\n",
    "        elif row['elasticidade'] <= -1.5:\n",
    "            df.at[index, 'fat_ajuste_otim'] = 1.026\n",
    "        elif row['elasticidade'] <= -1:\n",
    "            df.at[index, 'fat_ajuste_otim'] = 1.02\n",
    "        elif row['elasticidade'] <= 0:\n",
    "            df.at[index, 'fat_ajuste_otim'] = 1.04 "
   ]
  },
  {
   "cell_type": "code",
   "execution_count": null,
   "id": "d1511b97",
   "metadata": {},
   "outputs": [],
   "source": []
  }
 ],
 "metadata": {
  "kernelspec": {
   "display_name": "Python 3 (ipykernel)",
   "language": "python",
   "name": "python3"
  },
  "language_info": {
   "codemirror_mode": {
    "name": "ipython",
    "version": 3
   },
   "file_extension": ".py",
   "mimetype": "text/x-python",
   "name": "python",
   "nbconvert_exporter": "python",
   "pygments_lexer": "ipython3",
   "version": "3.10.9"
  }
 },
 "nbformat": 4,
 "nbformat_minor": 5
}
